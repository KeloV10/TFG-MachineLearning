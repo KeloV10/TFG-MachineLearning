{
 "cells": [
  {
   "cell_type": "code",
   "execution_count": 56,
   "metadata": {
    "ExecuteTime": {
     "end_time": "2019-12-07T12:37:23.571944Z",
     "start_time": "2019-12-07T12:37:23.563948Z"
    }
   },
   "outputs": [],
   "source": [
    "import csv\n",
    "import pandas as pd\n",
    "import numpy as np\n",
    "import seaborn as sns\n",
    "import locale\n",
    "import matplotlib\n",
    "import matplotlib.pyplot as plt\n",
    "from scipy.stats import pearsonr\n",
    "import re\n",
    "%matplotlib inline\n",
    "matplotlib.style.use('ggplot')"
   ]
  },
  {
   "cell_type": "code",
   "execution_count": 124,
   "metadata": {
    "ExecuteTime": {
     "end_time": "2019-12-07T15:02:15.729437Z",
     "start_time": "2019-12-07T15:02:15.724438Z"
    }
   },
   "outputs": [],
   "source": [
    "mainpath = \"C:/Users/miquel.vallverdu/Desktop/Miquel/TFG/Repos/Bismart-P19824-PrediccionOcupacionHoteles_TFG_MVallverdu/\"\n",
    "\n"
   ]
  },
  {
   "cell_type": "markdown",
   "metadata": {},
   "source": [
    "Càrrega dades 2018"
   ]
  },
  {
   "cell_type": "code",
   "execution_count": 130,
   "metadata": {
    "ExecuteTime": {
     "end_time": "2019-12-07T15:02:42.263510Z",
     "start_time": "2019-12-07T15:02:41.782770Z"
    }
   },
   "outputs": [],
   "source": [
    "import os\n",
    "\n",
    "v = open(mainpath + \"dataset/csv/2018/weather_20181_AVS.csv\")\n",
    "dfw = pd.read_csv(v)\n",
    "\n",
    "directory = os.path.join(mainpath,\"dataset/csv/2018/\")\n",
    "os.chdir(directory)\n",
    "for root,dirs,files in os.walk(directory):\n",
    "    for file in files:\n",
    "        if file.endswith(\".csv\"):\n",
    "           f=open(file, 'r')\n",
    "           df = pd.read_csv(f)\n",
    "           dfw = dfw.append(df) \n",
    "           f.close()\n"
   ]
  },
  {
   "cell_type": "code",
   "execution_count": 131,
   "metadata": {
    "ExecuteTime": {
     "end_time": "2019-12-07T15:02:42.519352Z",
     "start_time": "2019-12-07T15:02:42.514355Z"
    }
   },
   "outputs": [
    {
     "data": {
      "text/plain": [
       "(2501, 7)"
      ]
     },
     "execution_count": 131,
     "metadata": {},
     "output_type": "execute_result"
    }
   ],
   "source": [
    "dfw.shape"
   ]
  },
  {
   "cell_type": "code",
   "execution_count": 132,
   "metadata": {
    "ExecuteTime": {
     "end_time": "2019-12-07T15:02:43.100037Z",
     "start_time": "2019-12-07T15:02:43.081029Z"
    }
   },
   "outputs": [
    {
     "data": {
      "text/plain": [
       "(2471, 7)"
      ]
     },
     "execution_count": 132,
     "metadata": {},
     "output_type": "execute_result"
    }
   ],
   "source": [
    "dfw = dfw.drop_duplicates()\n",
    "sum(dfw.duplicated())\n",
    "dfw.shape"
   ]
  },
  {
   "cell_type": "markdown",
   "metadata": {},
   "source": [
    "Càrrega dades 2019"
   ]
  },
  {
   "cell_type": "code",
   "execution_count": 133,
   "metadata": {
    "ExecuteTime": {
     "end_time": "2019-12-07T15:02:45.381714Z",
     "start_time": "2019-12-07T15:02:44.884997Z"
    }
   },
   "outputs": [],
   "source": [
    "\n",
    "\n",
    "directory = os.path.join(mainpath,\"dataset/csv/2019/\")\n",
    "os.chdir(directory)\n",
    "for root,dirs,files in os.walk(directory):\n",
    "    for file in files:\n",
    "        if file.endswith(\".csv\"):\n",
    "           f=open(file, 'r')\n",
    "           df = pd.read_csv(f)\n",
    "           dfw = dfw.append(df) \n",
    "           f.close()"
   ]
  },
  {
   "cell_type": "code",
   "execution_count": 134,
   "metadata": {
    "ExecuteTime": {
     "end_time": "2019-12-07T15:02:46.082328Z",
     "start_time": "2019-12-07T15:02:46.077329Z"
    }
   },
   "outputs": [
    {
     "data": {
      "text/plain": [
       "(4732, 7)"
      ]
     },
     "execution_count": 134,
     "metadata": {},
     "output_type": "execute_result"
    }
   ],
   "source": [
    "dfw.shape"
   ]
  },
  {
   "cell_type": "code",
   "execution_count": 135,
   "metadata": {
    "ExecuteTime": {
     "end_time": "2019-12-07T15:02:58.460415Z",
     "start_time": "2019-12-07T15:02:58.439445Z"
    }
   },
   "outputs": [
    {
     "data": {
      "text/plain": [
       "(4732, 7)"
      ]
     },
     "execution_count": 135,
     "metadata": {},
     "output_type": "execute_result"
    }
   ],
   "source": [
    "dfw = dfw.drop_duplicates()\n",
    "sum(dfw.duplicated())\n",
    "dfw.shape"
   ]
  },
  {
   "cell_type": "code",
   "execution_count": 136,
   "metadata": {
    "ExecuteTime": {
     "end_time": "2019-12-07T15:03:02.632104Z",
     "start_time": "2019-12-07T15:03:02.625090Z"
    }
   },
   "outputs": [],
   "source": [
    "dfw = dfw.rename(columns = {'date':'fechaocupacion', 'hotel':'idhotel'})"
   ]
  },
  {
   "cell_type": "code",
   "execution_count": 137,
   "metadata": {
    "ExecuteTime": {
     "end_time": "2019-12-07T15:03:04.430059Z",
     "start_time": "2019-12-07T15:03:04.358099Z"
    }
   },
   "outputs": [],
   "source": [
    "exdfw = dfw.to_csv(mainpath + 'dataset/dfTemps.csv', header = True, index = None)"
   ]
  }
 ],
 "metadata": {
  "kernelspec": {
   "display_name": "Python 3",
   "language": "python",
   "name": "python3"
  },
  "language_info": {
   "codemirror_mode": {
    "name": "ipython",
    "version": 3
   },
   "file_extension": ".py",
   "mimetype": "text/x-python",
   "name": "python",
   "nbconvert_exporter": "python",
   "pygments_lexer": "ipython3",
   "version": "3.7.3"
  },
  "toc": {
   "base_numbering": 1,
   "nav_menu": {},
   "number_sections": true,
   "sideBar": true,
   "skip_h1_title": false,
   "title_cell": "Table of Contents",
   "title_sidebar": "Contents",
   "toc_cell": false,
   "toc_position": {},
   "toc_section_display": true,
   "toc_window_display": false
  },
  "varInspector": {
   "cols": {
    "lenName": 16,
    "lenType": 16,
    "lenVar": 40
   },
   "kernels_config": {
    "python": {
     "delete_cmd_postfix": "",
     "delete_cmd_prefix": "del ",
     "library": "var_list.py",
     "varRefreshCmd": "print(var_dic_list())"
    },
    "r": {
     "delete_cmd_postfix": ") ",
     "delete_cmd_prefix": "rm(",
     "library": "var_list.r",
     "varRefreshCmd": "cat(var_dic_list()) "
    }
   },
   "types_to_exclude": [
    "module",
    "function",
    "builtin_function_or_method",
    "instance",
    "_Feature"
   ],
   "window_display": false
  }
 },
 "nbformat": 4,
 "nbformat_minor": 2
}
