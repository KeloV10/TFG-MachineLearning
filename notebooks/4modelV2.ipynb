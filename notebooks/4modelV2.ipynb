{
 "cells": [
  {
   "cell_type": "markdown",
   "metadata": {},
   "source": [
    "# Passos previs"
   ]
  },
  {
   "cell_type": "markdown",
   "metadata": {},
   "source": [
    "## Importar"
   ]
  },
  {
   "cell_type": "code",
   "execution_count": 1,
   "metadata": {
    "ExecuteTime": {
     "end_time": "2020-01-10T11:43:45.514101Z",
     "start_time": "2020-01-10T11:43:43.851812Z"
    }
   },
   "outputs": [
    {
     "name": "stderr",
     "output_type": "stream",
     "text": [
      "C:\\Users\\miquel.vallverdu\\AppData\\Local\\Continuum\\anaconda3\\lib\\site-packages\\sklearn\\externals\\six.py:31: FutureWarning: The module is deprecated in version 0.21 and will be removed in version 0.23 since we've dropped support for Python 2.7. Please rely on the official version of six (https://pypi.org/project/six/).\n",
      "  \"(https://pypi.org/project/six/).\", FutureWarning)\n",
      "C:\\Users\\miquel.vallverdu\\AppData\\Local\\Continuum\\anaconda3\\lib\\site-packages\\sklearn\\externals\\joblib\\__init__.py:15: FutureWarning: sklearn.externals.joblib is deprecated in 0.21 and will be removed in 0.23. Please import this functionality directly from joblib, which can be installed with: pip install joblib. If this warning is raised when loading pickled models, you may need to re-serialize those models with scikit-learn 0.21+.\n",
      "  warnings.warn(msg, category=FutureWarning)\n"
     ]
    }
   ],
   "source": [
    "import csv\n",
    "import pandas as pd\n",
    "import numpy as np\n",
    "import mglearn\n",
    "import seaborn as sns\n",
    "import locale\n",
    "import matplotlib\n",
    "import matplotlib.pyplot as plt\n",
    "from scipy.stats import pearsonr\n",
    "import re\n",
    "%matplotlib inline\n",
    "matplotlib.style.use('ggplot')\n",
    "## modificar tamany figura\n",
    "from matplotlib.pyplot import figure\n",
    "from math import sqrt\n",
    "from statistics import mean \n",
    "\n",
    "import os\n",
    "\n",
    "## feature selection\n",
    "from sklearn.feature_selection import SelectKBest\n",
    "from sklearn.feature_selection import f_regression\n",
    "from sklearn.feature_selection import RFE\n",
    "from sklearn.linear_model import LinearRegression\n",
    "\n",
    "\n",
    "## Train & test\n",
    "from sklearn.model_selection import train_test_split\n",
    "\n",
    "\n",
    "## errors\n",
    "\n",
    "from sklearn.metrics import mean_squared_error \n",
    "from sklearn.metrics import mean_absolute_error\n",
    "from sklearn.metrics import r2_score\n",
    "\n",
    "## Decision tree\n",
    "from sklearn import datasets\n",
    "from sklearn import metrics\n",
    "from sklearn.tree import DecisionTreeRegressor\n",
    "from sklearn.tree import plot_tree\n",
    "## plot DT\n",
    "from sklearn.externals.six import StringIO  \n",
    "from IPython.display import Image  \n",
    "from sklearn.tree import export_graphviz\n",
    "import pydotplus\n",
    "\n",
    "## Random forest\n",
    "from sklearn.ensemble import RandomForestRegressor\n",
    "\n",
    "## Escalar\n",
    "from sklearn.preprocessing import MinMaxScaler\n",
    "\n",
    "## KNN\n",
    "from sklearn import neighbors\n",
    "\n",
    "## XGBoost\n",
    "import xgboost as xgb\n",
    "from xgboost import plot_importance\n",
    "\n",
    "\n",
    "## Hyperpar tuning\n",
    "from sklearn.model_selection import GridSearchCV\n",
    "\n",
    "## Cross-Validation\n",
    "from sklearn.model_selection import cross_val_score\n",
    "\n",
    "from IPython.core.interactiveshell import InteractiveShell\n",
    "InteractiveShell.ast_node_interactivity = \"all\"\n",
    "\n",
    "pd.set_option('display.max_columns',None)\n",
    "#pd.set_option('display.max_rows', None)"
   ]
  },
  {
   "cell_type": "markdown",
   "metadata": {},
   "source": [
    "## Funcions"
   ]
  },
  {
   "cell_type": "code",
   "execution_count": 2,
   "metadata": {
    "ExecuteTime": {
     "end_time": "2020-01-10T11:43:47.354843Z",
     "start_time": "2020-01-10T11:43:47.320667Z"
    }
   },
   "outputs": [],
   "source": [
    "def creating_model_XGB(model,X_train,Y_train,X_test,Y_test,eval_metric,early):\n",
    "    # Training\n",
    "    model.fit(X_train, Y_train,eval_set=[(X_train, Y_train),(X_test, Y_test)],\n",
    "             eval_metric=eval_metric,verbose=True,early_stopping_rounds=early) \n",
    "\n",
    "\n",
    "    # Performance\n",
    "    evals_result = model.evals_result()\n",
    "    epochs = len(evals_result['validation_0'][eval_metric])\n",
    "    x_axis = range(0, epochs)\n",
    "\n",
    "\n",
    "    plt.plot(x_axis, evals_result['validation_0'][eval_metric], label='Train')\n",
    "    plt.plot(x_axis, evals_result['validation_1'][eval_metric], label='Test')\n",
    "    plt.legend(),plt.ylabel('RMSE'),plt.title('XGBoost RMSE Train VS Test')\n",
    "    plt.show()\n",
    "\n",
    "\n",
    "    \n",
    "def plot_feat_imp(model, number,predictors):\n",
    "    feat_imp = pd.Series(model.feature_importances_).sort_values(ascending=False)\n",
    "\n",
    "\n",
    "    feat_imp = feat_imp[0:number]\n",
    "    name = []\n",
    "    for i in feat_imp.index.tolist():\n",
    "        name.append(predictors[i])\n",
    "\n",
    "\n",
    "    feat_imp.plot(kind='bar', title='Feature Importances')\n",
    "    plt.xticks(range(0, len(feat_imp)),name, rotation='vertical')\n",
    "    plt.ylabel('Feature Importance Score')\n",
    "\n",
    "    \n",
    "def model_scores(model, X_train, Y_train, X_test, Y_test):\n",
    "    model.fit(X_train, Y_train)\n",
    "    r2_train = round(model.score(X_train, Y_train), 4)\n",
    "    r2_test = round(model.score(X_test, Y_test), 4)\n",
    "    r2 = [r2_train, r2_test]\n",
    "    pred_train = np.round(model.predict(X_train))\n",
    "    pred_test = np.round(model.predict(X_test))\n",
    "    mse_train = round(mean_squared_error(Y_train, pred_train), 4)\n",
    "    mse_test = round(mean_squared_error(Y_test, pred_test), 4)\n",
    "    mse = [mse_train, mse_test]\n",
    "    rmse_train = round(sqrt(mse_train), 4)\n",
    "    rmse_test = round(sqrt(mse_test), 4)\n",
    "    rmse = [rmse_train, rmse_test]\n",
    "    mae_train = round(mean_absolute_error(Y_train, pred_train), 4)\n",
    "    mae_test = round(mean_absolute_error(Y_test, pred_test), 4)\n",
    "    mae = [mae_train, mae_test]\n",
    "    scores = pd.DataFrame([r2, mse, rmse, mae])\n",
    "    scores = scores.rename(columns={0: \"Train\", 1: \"Test\"}, index={0:\"R2\", 1:\"MSE\", 2:\"RMSE\", 3:\"MAE\"})\n",
    "    \n",
    "    return [print(scores)]\n",
    "\n",
    "\n"
   ]
  },
  {
   "cell_type": "markdown",
   "metadata": {},
   "source": [
    "## Arxiu"
   ]
  },
  {
   "cell_type": "code",
   "execution_count": 3,
   "metadata": {
    "ExecuteTime": {
     "end_time": "2020-01-10T11:43:49.646511Z",
     "start_time": "2020-01-10T11:43:49.400656Z"
    }
   },
   "outputs": [],
   "source": [
    "mainpath = \"C:/Users/miquel.vallverdu/Desktop/Miquel/TFG/Repos/Bismart-P19824-PrediccionOcupacionHoteles_TFG_MVallverdu/dataset/\"\n",
    "#mainpath = \"C:/Users/Miquel/Desktop/Miquel/Estudis/ESTADISTICA/TFG/\"\n",
    "\n",
    "df = pd.read_csv(mainpath + \"dfModel.csv\", sep = \",\")\n",
    "#dfFE = pd.read_csv(mainpath + \"dfFinal.csv\", sep = \",\")"
   ]
  },
  {
   "cell_type": "markdown",
   "metadata": {},
   "source": [
    "S'eliminen les variables segons els criteris de la feature selection"
   ]
  },
  {
   "cell_type": "code",
   "execution_count": 4,
   "metadata": {
    "ExecuteTime": {
     "end_time": "2020-01-10T11:43:52.926236Z",
     "start_time": "2020-01-10T11:43:52.908094Z"
    }
   },
   "outputs": [],
   "source": [
    "df = df[['NHab',\n",
    " 'S2H',\n",
    " 'S3H',\n",
    " 'S52H',\n",
    " 'PreuHab',\n",
    " #'diaAño',\n",
    " 'weather',\n",
    " 'temp',\n",
    " 'mes',\n",
    " #'diaSemana',\n",
    " #'findes',\n",
    " #'idhotel_DON',\n",
    " #'idhotel_MME',\n",
    " 'idhotel_PAV',\n",
    " #'idhotel_SAL',\n",
    " 'idhotel_TAU',\n",
    " #'idhotel_TOS',\n",
    " 'idcliente_OL_MEDITERRANEO',\n",
    " 'idcliente_Otros',\n",
    " 'idcliente_TUI_UK_LTD',\n",
    " 'idtipohab_FAM',\n",
    " #'idtipohab_IND',\n",
    " 'idtipohab_PREM',\n",
    " 'idtipohab_SUI',\n",
    " 'idregimen_MP',\n",
    " 'idregimen_PC',\n",
    " #'idregimen_SHAB',\n",
    " 'idregimen_TI',\n",
    " 'idsegmento_VACAC',\n",
    " #'id_canal_DIRECTO',\n",
    " 'id_canal_GRUPOS',\n",
    " #'id_canal_ONLINE',\n",
    " 'id_canal_TTOO',\n",
    " #'idpais_cliente_EAU',\n",
    " #'idpais_cliente_EE',\n",
    " 'idpais_cliente_ES',\n",
    " 'idpais_cliente_ESC',\n",
    " #'idpais_cliente_GB',\n",
    " #'idpais_cliente_IS',\n",
    " #'idpais_cliente_OE',\n",
    " 'temporada_baja'\n",
    " #'holiday_No festiu',\n",
    " #'fechaocupacion'\n",
    " ]]"
   ]
  },
  {
   "cell_type": "code",
   "execution_count": 5,
   "metadata": {
    "ExecuteTime": {
     "end_time": "2020-01-10T11:43:53.502659Z",
     "start_time": "2020-01-10T11:43:53.462640Z"
    },
    "scrolled": false
   },
   "outputs": [
    {
     "data": {
      "text/html": [
       "<div>\n",
       "<style scoped>\n",
       "    .dataframe tbody tr th:only-of-type {\n",
       "        vertical-align: middle;\n",
       "    }\n",
       "\n",
       "    .dataframe tbody tr th {\n",
       "        vertical-align: top;\n",
       "    }\n",
       "\n",
       "    .dataframe thead th {\n",
       "        text-align: right;\n",
       "    }\n",
       "</style>\n",
       "<table border=\"1\" class=\"dataframe\">\n",
       "  <thead>\n",
       "    <tr style=\"text-align: right;\">\n",
       "      <th></th>\n",
       "      <th>NHab</th>\n",
       "      <th>S2H</th>\n",
       "      <th>S3H</th>\n",
       "      <th>S52H</th>\n",
       "      <th>PreuHab</th>\n",
       "      <th>weather</th>\n",
       "      <th>temp</th>\n",
       "      <th>mes</th>\n",
       "      <th>idhotel_PAV</th>\n",
       "      <th>idhotel_TAU</th>\n",
       "      <th>idcliente_OL_MEDITERRANEO</th>\n",
       "      <th>idcliente_Otros</th>\n",
       "      <th>idcliente_TUI_UK_LTD</th>\n",
       "      <th>idtipohab_FAM</th>\n",
       "      <th>idtipohab_PREM</th>\n",
       "      <th>idtipohab_SUI</th>\n",
       "      <th>idregimen_MP</th>\n",
       "      <th>idregimen_PC</th>\n",
       "      <th>idregimen_TI</th>\n",
       "      <th>idsegmento_VACAC</th>\n",
       "      <th>id_canal_GRUPOS</th>\n",
       "      <th>id_canal_TTOO</th>\n",
       "      <th>idpais_cliente_ES</th>\n",
       "      <th>idpais_cliente_ESC</th>\n",
       "      <th>temporada_baja</th>\n",
       "    </tr>\n",
       "  </thead>\n",
       "  <tbody>\n",
       "    <tr>\n",
       "      <th>0</th>\n",
       "      <td>0</td>\n",
       "      <td>0</td>\n",
       "      <td>0</td>\n",
       "      <td>0</td>\n",
       "      <td>90.895386</td>\n",
       "      <td>1</td>\n",
       "      <td>16.0</td>\n",
       "      <td>3</td>\n",
       "      <td>0</td>\n",
       "      <td>0</td>\n",
       "      <td>0</td>\n",
       "      <td>0</td>\n",
       "      <td>0</td>\n",
       "      <td>0</td>\n",
       "      <td>0</td>\n",
       "      <td>0</td>\n",
       "      <td>1</td>\n",
       "      <td>0</td>\n",
       "      <td>0</td>\n",
       "      <td>0</td>\n",
       "      <td>0</td>\n",
       "      <td>0</td>\n",
       "      <td>1</td>\n",
       "      <td>0</td>\n",
       "      <td>0</td>\n",
       "    </tr>\n",
       "    <tr>\n",
       "      <th>1</th>\n",
       "      <td>25</td>\n",
       "      <td>22</td>\n",
       "      <td>18</td>\n",
       "      <td>0</td>\n",
       "      <td>98.694182</td>\n",
       "      <td>1</td>\n",
       "      <td>16.0</td>\n",
       "      <td>3</td>\n",
       "      <td>0</td>\n",
       "      <td>0</td>\n",
       "      <td>0</td>\n",
       "      <td>0</td>\n",
       "      <td>0</td>\n",
       "      <td>0</td>\n",
       "      <td>0</td>\n",
       "      <td>0</td>\n",
       "      <td>0</td>\n",
       "      <td>1</td>\n",
       "      <td>0</td>\n",
       "      <td>0</td>\n",
       "      <td>0</td>\n",
       "      <td>0</td>\n",
       "      <td>1</td>\n",
       "      <td>0</td>\n",
       "      <td>0</td>\n",
       "    </tr>\n",
       "    <tr>\n",
       "      <th>2</th>\n",
       "      <td>5</td>\n",
       "      <td>2</td>\n",
       "      <td>2</td>\n",
       "      <td>0</td>\n",
       "      <td>77.461817</td>\n",
       "      <td>1</td>\n",
       "      <td>16.0</td>\n",
       "      <td>3</td>\n",
       "      <td>0</td>\n",
       "      <td>0</td>\n",
       "      <td>0</td>\n",
       "      <td>0</td>\n",
       "      <td>0</td>\n",
       "      <td>0</td>\n",
       "      <td>0</td>\n",
       "      <td>0</td>\n",
       "      <td>0</td>\n",
       "      <td>0</td>\n",
       "      <td>0</td>\n",
       "      <td>0</td>\n",
       "      <td>0</td>\n",
       "      <td>0</td>\n",
       "      <td>1</td>\n",
       "      <td>0</td>\n",
       "      <td>0</td>\n",
       "    </tr>\n",
       "    <tr>\n",
       "      <th>3</th>\n",
       "      <td>18</td>\n",
       "      <td>10</td>\n",
       "      <td>8</td>\n",
       "      <td>0</td>\n",
       "      <td>86.157831</td>\n",
       "      <td>1</td>\n",
       "      <td>16.0</td>\n",
       "      <td>3</td>\n",
       "      <td>0</td>\n",
       "      <td>0</td>\n",
       "      <td>0</td>\n",
       "      <td>0</td>\n",
       "      <td>0</td>\n",
       "      <td>0</td>\n",
       "      <td>0</td>\n",
       "      <td>0</td>\n",
       "      <td>1</td>\n",
       "      <td>0</td>\n",
       "      <td>0</td>\n",
       "      <td>0</td>\n",
       "      <td>0</td>\n",
       "      <td>0</td>\n",
       "      <td>1</td>\n",
       "      <td>0</td>\n",
       "      <td>0</td>\n",
       "    </tr>\n",
       "    <tr>\n",
       "      <th>4</th>\n",
       "      <td>1</td>\n",
       "      <td>0</td>\n",
       "      <td>0</td>\n",
       "      <td>0</td>\n",
       "      <td>119.454546</td>\n",
       "      <td>1</td>\n",
       "      <td>16.0</td>\n",
       "      <td>3</td>\n",
       "      <td>0</td>\n",
       "      <td>0</td>\n",
       "      <td>0</td>\n",
       "      <td>0</td>\n",
       "      <td>0</td>\n",
       "      <td>0</td>\n",
       "      <td>1</td>\n",
       "      <td>0</td>\n",
       "      <td>0</td>\n",
       "      <td>1</td>\n",
       "      <td>0</td>\n",
       "      <td>0</td>\n",
       "      <td>0</td>\n",
       "      <td>0</td>\n",
       "      <td>1</td>\n",
       "      <td>0</td>\n",
       "      <td>0</td>\n",
       "    </tr>\n",
       "  </tbody>\n",
       "</table>\n",
       "</div>"
      ],
      "text/plain": [
       "   NHab  S2H  S3H  S52H     PreuHab  weather  temp  mes  idhotel_PAV  \\\n",
       "0     0    0    0     0   90.895386        1  16.0    3            0   \n",
       "1    25   22   18     0   98.694182        1  16.0    3            0   \n",
       "2     5    2    2     0   77.461817        1  16.0    3            0   \n",
       "3    18   10    8     0   86.157831        1  16.0    3            0   \n",
       "4     1    0    0     0  119.454546        1  16.0    3            0   \n",
       "\n",
       "   idhotel_TAU  idcliente_OL_MEDITERRANEO  idcliente_Otros  \\\n",
       "0            0                          0                0   \n",
       "1            0                          0                0   \n",
       "2            0                          0                0   \n",
       "3            0                          0                0   \n",
       "4            0                          0                0   \n",
       "\n",
       "   idcliente_TUI_UK_LTD  idtipohab_FAM  idtipohab_PREM  idtipohab_SUI  \\\n",
       "0                     0              0               0              0   \n",
       "1                     0              0               0              0   \n",
       "2                     0              0               0              0   \n",
       "3                     0              0               0              0   \n",
       "4                     0              0               1              0   \n",
       "\n",
       "   idregimen_MP  idregimen_PC  idregimen_TI  idsegmento_VACAC  \\\n",
       "0             1             0             0                 0   \n",
       "1             0             1             0                 0   \n",
       "2             0             0             0                 0   \n",
       "3             1             0             0                 0   \n",
       "4             0             1             0                 0   \n",
       "\n",
       "   id_canal_GRUPOS  id_canal_TTOO  idpais_cliente_ES  idpais_cliente_ESC  \\\n",
       "0                0              0                  1                   0   \n",
       "1                0              0                  1                   0   \n",
       "2                0              0                  1                   0   \n",
       "3                0              0                  1                   0   \n",
       "4                0              0                  1                   0   \n",
       "\n",
       "   temporada_baja  \n",
       "0               0  \n",
       "1               0  \n",
       "2               0  \n",
       "3               0  \n",
       "4               0  "
      ]
     },
     "execution_count": 5,
     "metadata": {},
     "output_type": "execute_result"
    },
    {
     "data": {
      "text/plain": [
       "(47630, 25)"
      ]
     },
     "execution_count": 5,
     "metadata": {},
     "output_type": "execute_result"
    }
   ],
   "source": [
    "df.head()\n",
    "df.shape"
   ]
  },
  {
   "cell_type": "markdown",
   "metadata": {},
   "source": [
    "# Train i test"
   ]
  },
  {
   "cell_type": "code",
   "execution_count": 6,
   "metadata": {
    "ExecuteTime": {
     "end_time": "2020-01-10T11:43:55.501024Z",
     "start_time": "2020-01-10T11:43:55.482093Z"
    }
   },
   "outputs": [],
   "source": [
    "features_df = df.drop(['NHab',], axis = 1)\n",
    "target = df.NHab"
   ]
  },
  {
   "cell_type": "code",
   "execution_count": 7,
   "metadata": {
    "ExecuteTime": {
     "end_time": "2020-01-10T11:43:56.225463Z",
     "start_time": "2020-01-10T11:43:56.182488Z"
    }
   },
   "outputs": [],
   "source": [
    "x_train, x_test, y_train, y_test = train_test_split(features_df, target, random_state=0)\n",
    "train = x_train.join(y_train)\n",
    "test = x_test.join(y_test)"
   ]
  },
  {
   "cell_type": "markdown",
   "metadata": {},
   "source": [
    "# Regressió lineal múltiple"
   ]
  },
  {
   "cell_type": "code",
   "execution_count": 8,
   "metadata": {
    "ExecuteTime": {
     "end_time": "2020-01-04T12:52:53.343934Z",
     "start_time": "2020-01-04T12:52:53.155409Z"
    },
    "scrolled": true
   },
   "outputs": [
    {
     "data": {
      "text/plain": [
       "LinearRegression(copy_X=True, fit_intercept=True, n_jobs=None, normalize=False)"
      ]
     },
     "execution_count": 8,
     "metadata": {},
     "output_type": "execute_result"
    }
   ],
   "source": [
    "modreg = LinearRegression()\n",
    "modreg.fit(x_train, y_train)"
   ]
  },
  {
   "cell_type": "code",
   "execution_count": 9,
   "metadata": {
    "ExecuteTime": {
     "end_time": "2020-01-04T12:53:04.268659Z",
     "start_time": "2020-01-04T12:53:02.078310Z"
    }
   },
   "outputs": [
    {
     "name": "stdout",
     "output_type": "stream",
     "text": [
      "Mitjana cross-validation amb 5 particions: 0.886\n",
      "Mitjana cross-validation amb 6 particions: 0.886\n",
      "Mitjana cross-validation amb 7 particions: 0.885\n",
      "Mitjana cross-validation amb 8 particions: 0.888\n",
      "Mitjana cross-validation amb 9 particions: 0.886\n",
      "Mitjana cross-validation amb 10 particions: 0.887\n"
     ]
    }
   ],
   "source": [
    "for i in range(5,11):\n",
    "    model = LinearRegression()\n",
    "    scores = cross_val_score(modreg, x_train, y_train, cv = i)\n",
    "    print(\"Mitjana cross-validation amb {:d} particions: {:.3f}\".format(i, scores.mean()))"
   ]
  },
  {
   "cell_type": "markdown",
   "metadata": {},
   "source": [
    "Les dades no depenen del nombre de particions que es facin en el cross-validation."
   ]
  },
  {
   "cell_type": "markdown",
   "metadata": {},
   "source": [
    "## Avaluació"
   ]
  },
  {
   "cell_type": "code",
   "execution_count": 10,
   "metadata": {
    "ExecuteTime": {
     "end_time": "2020-01-04T12:53:06.149873Z",
     "start_time": "2020-01-04T12:53:06.047189Z"
    },
    "scrolled": true
   },
   "outputs": [
    {
     "name": "stdout",
     "output_type": "stream",
     "text": [
      "        Train     Test\n",
      "R2     0.8838   0.8989\n",
      "MSE   37.5551  34.3750\n",
      "RMSE   6.1282   5.8630\n",
      "MAE    1.5095   1.5551\n"
     ]
    },
    {
     "data": {
      "text/plain": [
       "[None]"
      ]
     },
     "execution_count": 10,
     "metadata": {},
     "output_type": "execute_result"
    }
   ],
   "source": [
    "model_scores(modreg, x_train, y_train, x_test, y_test)"
   ]
  },
  {
   "cell_type": "markdown",
   "metadata": {},
   "source": [
    "# K-Nearest Neighbors (KNN)"
   ]
  },
  {
   "cell_type": "markdown",
   "metadata": {},
   "source": [
    "## Hyperparameter tuning"
   ]
  },
  {
   "cell_type": "code",
   "execution_count": 11,
   "metadata": {
    "ExecuteTime": {
     "end_time": "2020-01-04T12:53:39.491852Z",
     "start_time": "2020-01-04T12:53:19.385158Z"
    }
   },
   "outputs": [
    {
     "data": {
      "text/plain": [
       "GridSearchCV(cv=5, error_score=nan,\n",
       "             estimator=KNeighborsRegressor(algorithm='auto', leaf_size=30,\n",
       "                                           metric='minkowski',\n",
       "                                           metric_params=None, n_jobs=None,\n",
       "                                           n_neighbors=5, p=2,\n",
       "                                           weights='uniform'),\n",
       "             iid='deprecated', n_jobs=-1,\n",
       "             param_grid={'n_neighbors': [3, 4, 5, 6, 7, 8, 9, 10, 11]},\n",
       "             pre_dispatch='2*n_jobs', refit=True, return_train_score=False,\n",
       "             scoring=None, verbose=0)"
      ]
     },
     "execution_count": 11,
     "metadata": {},
     "output_type": "execute_result"
    },
    {
     "data": {
      "text/plain": [
       "{'n_neighbors': 3}"
      ]
     },
     "execution_count": 11,
     "metadata": {},
     "output_type": "execute_result"
    }
   ],
   "source": [
    "params = {'n_neighbors':[3,4,5,6,7,8,9,10,11]}\n",
    "np.random.seed(42)\n",
    "knn = neighbors.KNeighborsRegressor()\n",
    "\n",
    "model = GridSearchCV(knn, params, cv=5, n_jobs=-1)\n",
    "model.fit(x_train,y_train)\n",
    "model.best_params_"
   ]
  },
  {
   "cell_type": "code",
   "execution_count": 24,
   "metadata": {
    "ExecuteTime": {
     "end_time": "2020-01-04T12:56:31.153081Z",
     "start_time": "2020-01-04T12:56:18.057462Z"
    }
   },
   "outputs": [
    {
     "data": {
      "text/plain": [
       "GridSearchCV(cv=5, error_score=nan,\n",
       "             estimator=KNeighborsRegressor(algorithm='auto', leaf_size=30,\n",
       "                                           metric='minkowski',\n",
       "                                           metric_params=None, n_jobs=None,\n",
       "                                           n_neighbors=5, p=2,\n",
       "                                           weights='uniform'),\n",
       "             iid='deprecated', n_jobs=-1,\n",
       "             param_grid={'n_neighbors': [3], 'p': [1, 2, 3, 4, 5]},\n",
       "             pre_dispatch='2*n_jobs', refit=True, return_train_score=False,\n",
       "             scoring=None, verbose=0)"
      ]
     },
     "execution_count": 24,
     "metadata": {},
     "output_type": "execute_result"
    },
    {
     "data": {
      "text/plain": [
       "{'n_neighbors': 3, 'p': 1}"
      ]
     },
     "execution_count": 24,
     "metadata": {},
     "output_type": "execute_result"
    }
   ],
   "source": [
    "params = {'n_neighbors':[3],\n",
    "         'p':[1,2,3,4,5]}\n",
    "np.random.seed(42)\n",
    "knn = neighbors.KNeighborsRegressor()\n",
    "\n",
    "model = GridSearchCV(knn, params, cv=5, n_jobs=-1)\n",
    "model.fit(x_train,y_train)\n",
    "model.best_params_"
   ]
  },
  {
   "cell_type": "markdown",
   "metadata": {},
   "source": [
    "## Avaluació"
   ]
  },
  {
   "cell_type": "markdown",
   "metadata": {},
   "source": [
    "Model estàndard"
   ]
  },
  {
   "cell_type": "code",
   "execution_count": 15,
   "metadata": {
    "ExecuteTime": {
     "end_time": "2020-01-06T14:42:32.180080Z",
     "start_time": "2020-01-06T14:42:32.176084Z"
    },
    "scrolled": true
   },
   "outputs": [],
   "source": [
    "knn = neighbors.KNeighborsRegressor(n_jobs=-1)"
   ]
  },
  {
   "cell_type": "code",
   "execution_count": 16,
   "metadata": {
    "ExecuteTime": {
     "end_time": "2020-01-06T14:42:35.756243Z",
     "start_time": "2020-01-06T14:42:32.890140Z"
    },
    "scrolled": false
   },
   "outputs": [
    {
     "name": "stdout",
     "output_type": "stream",
     "text": [
      "        Train     Test\n",
      "R2     0.9686   0.9462\n",
      "MSE   10.1688  18.2608\n",
      "RMSE   3.1889   4.2733\n",
      "MAE    1.0272   1.3557\n"
     ]
    },
    {
     "data": {
      "text/plain": [
       "[None]"
      ]
     },
     "execution_count": 16,
     "metadata": {},
     "output_type": "execute_result"
    }
   ],
   "source": [
    "model_scores(knn, x_train, y_train, x_test, y_test)"
   ]
  },
  {
   "cell_type": "markdown",
   "metadata": {},
   "source": [
    "Model amb paràmetres optimitzats"
   ]
  },
  {
   "cell_type": "code",
   "execution_count": 22,
   "metadata": {
    "ExecuteTime": {
     "end_time": "2020-01-04T12:56:08.907803Z",
     "start_time": "2020-01-04T12:56:08.894545Z"
    },
    "scrolled": true
   },
   "outputs": [],
   "source": [
    "knn = neighbors.KNeighborsRegressor(n_neighbors=3, p=1, n_jobs=-1)"
   ]
  },
  {
   "cell_type": "code",
   "execution_count": 23,
   "metadata": {
    "ExecuteTime": {
     "end_time": "2020-01-04T12:56:14.649695Z",
     "start_time": "2020-01-04T12:56:11.071659Z"
    },
    "scrolled": false
   },
   "outputs": [
    {
     "name": "stdout",
     "output_type": "stream",
     "text": [
      "       Train     Test\n",
      "R2    0.9859   0.9645\n",
      "MSE   4.6008  12.1317\n",
      "RMSE  2.1449   3.4831\n",
      "MAE   0.6932   1.1481\n"
     ]
    },
    {
     "data": {
      "text/plain": [
       "[None]"
      ]
     },
     "execution_count": 23,
     "metadata": {},
     "output_type": "execute_result"
    }
   ],
   "source": [
    "model_scores(knn, x_train, y_train, x_test, y_test)"
   ]
  },
  {
   "cell_type": "markdown",
   "metadata": {},
   "source": [
    "# Arbre de regressió"
   ]
  },
  {
   "cell_type": "markdown",
   "metadata": {},
   "source": [
    "## Hyperparameter tuning"
   ]
  },
  {
   "cell_type": "markdown",
   "metadata": {},
   "source": [
    "Optimització *max_depth*"
   ]
  },
  {
   "cell_type": "code",
   "execution_count": 339,
   "metadata": {
    "ExecuteTime": {
     "end_time": "2020-01-04T15:10:51.941700Z",
     "start_time": "2020-01-04T15:10:48.168737Z"
    },
    "scrolled": true
   },
   "outputs": [
    {
     "data": {
      "text/plain": [
       "GridSearchCV(cv=5, error_score=nan,\n",
       "             estimator=DecisionTreeRegressor(ccp_alpha=0.0, criterion='mse',\n",
       "                                             max_depth=None, max_features=None,\n",
       "                                             max_leaf_nodes=None,\n",
       "                                             min_impurity_decrease=0.0,\n",
       "                                             min_impurity_split=None,\n",
       "                                             min_samples_leaf=1,\n",
       "                                             min_samples_split=2,\n",
       "                                             min_weight_fraction_leaf=0.0,\n",
       "                                             presort='deprecated',\n",
       "                                             random_state=None,\n",
       "                                             splitter='best'),\n",
       "             iid='deprecated', n_jobs=-1,\n",
       "             param_grid={'max_depth': [5, 6, 7, 8], 'random_state': [42]},\n",
       "             pre_dispatch='2*n_jobs', refit=True, return_train_score=False,\n",
       "             scoring=None, verbose=0)"
      ]
     },
     "execution_count": 339,
     "metadata": {},
     "output_type": "execute_result"
    },
    {
     "data": {
      "text/plain": [
       "{'max_depth': 8, 'random_state': 42}"
      ]
     },
     "execution_count": 339,
     "metadata": {},
     "output_type": "execute_result"
    }
   ],
   "source": [
    "params = {'max_depth': [5,6,7,8],\n",
    "          'random_state': [42]\n",
    "         }\n",
    "\n",
    "t = DecisionTreeRegressor()\n",
    "\n",
    "model = GridSearchCV(t, params, cv=5, n_jobs = -1)\n",
    "model.fit(x_train,y_train)\n",
    "model.best_params_"
   ]
  },
  {
   "cell_type": "markdown",
   "metadata": {},
   "source": [
    "Optimització *min_samples_leaf* i *min_samples_split*"
   ]
  },
  {
   "cell_type": "code",
   "execution_count": 84,
   "metadata": {
    "ExecuteTime": {
     "end_time": "2020-01-04T13:08:01.183681Z",
     "start_time": "2020-01-04T13:07:42.381453Z"
    },
    "scrolled": false
   },
   "outputs": [
    {
     "data": {
      "text/plain": [
       "GridSearchCV(cv=5, error_score=nan,\n",
       "             estimator=DecisionTreeRegressor(ccp_alpha=0.0, criterion='mse',\n",
       "                                             max_depth=None, max_features=None,\n",
       "                                             max_leaf_nodes=None,\n",
       "                                             min_impurity_decrease=0.0,\n",
       "                                             min_impurity_split=None,\n",
       "                                             min_samples_leaf=1,\n",
       "                                             min_samples_split=2,\n",
       "                                             min_weight_fraction_leaf=0.0,\n",
       "                                             presort='deprecated',\n",
       "                                             random_state=None,\n",
       "                                             splitter='best'),\n",
       "             iid='deprecated', n_jobs=-1,\n",
       "             param_grid={'max_depth': [8], 'max_features': ['auto'],\n",
       "                         'min_samples_leaf': [1, 2, 3, 4, 6, 8, 10],\n",
       "                         'min_samples_split': [2, 3, 4, 5, 7, 9, 12],\n",
       "                         'random_state': [42]},\n",
       "             pre_dispatch='2*n_jobs', refit=True, return_train_score=False,\n",
       "             scoring=None, verbose=0)"
      ]
     },
     "execution_count": 84,
     "metadata": {},
     "output_type": "execute_result"
    },
    {
     "data": {
      "text/plain": [
       "{'max_depth': 8,\n",
       " 'max_features': 'auto',\n",
       " 'min_samples_leaf': 2,\n",
       " 'min_samples_split': 2,\n",
       " 'random_state': 42}"
      ]
     },
     "execution_count": 84,
     "metadata": {},
     "output_type": "execute_result"
    }
   ],
   "source": [
    "params = {'max_depth': [8],\n",
    "          'max_features': ['auto'],\n",
    "          'min_samples_leaf': [1,2,3,4,6,8,10],\n",
    "          'min_samples_split': [2,3,4,5,7,9,12],\n",
    "          'random_state': [42]\n",
    "         }\n",
    "\n",
    "t = DecisionTreeRegressor()\n",
    "\n",
    "model = GridSearchCV(t, params, cv=5, n_jobs = -1)\n",
    "model.fit(x_train,y_train)\n",
    "model.best_params_"
   ]
  },
  {
   "cell_type": "markdown",
   "metadata": {},
   "source": [
    "Optimització de *min_impurity_decrease*"
   ]
  },
  {
   "cell_type": "code",
   "execution_count": 85,
   "metadata": {
    "ExecuteTime": {
     "end_time": "2020-01-04T13:08:19.981008Z",
     "start_time": "2020-01-04T13:08:15.811399Z"
    }
   },
   "outputs": [
    {
     "data": {
      "text/plain": [
       "GridSearchCV(cv=5, error_score=nan,\n",
       "             estimator=DecisionTreeRegressor(ccp_alpha=0.0, criterion='mse',\n",
       "                                             max_depth=None, max_features=None,\n",
       "                                             max_leaf_nodes=None,\n",
       "                                             min_impurity_decrease=0.0,\n",
       "                                             min_impurity_split=None,\n",
       "                                             min_samples_leaf=1,\n",
       "                                             min_samples_split=2,\n",
       "                                             min_weight_fraction_leaf=0.0,\n",
       "                                             presort='deprecated',\n",
       "                                             random_state=None,\n",
       "                                             splitter='best'),\n",
       "             iid='deprecated', n_jobs=-1,\n",
       "             param_grid={'max_depth': [8],\n",
       "                         'min_impurity_decrease': array([0.  , 0.02, 0.04, 0.06, 0.08, 0.1 , 0.12, 0.14, 0.16, 0.18, 0.2 ,\n",
       "       0.22, 0.24, 0.26, 0.28]),\n",
       "                         'min_samples_leaf': [2], 'min_samples_split': [2],\n",
       "                         'random_state': [42]},\n",
       "             pre_dispatch='2*n_jobs', refit=True, return_train_score=False,\n",
       "             scoring=None, verbose=0)"
      ]
     },
     "execution_count": 85,
     "metadata": {},
     "output_type": "execute_result"
    },
    {
     "data": {
      "text/plain": [
       "{'max_depth': 8,\n",
       " 'min_impurity_decrease': 0.0,\n",
       " 'min_samples_leaf': 2,\n",
       " 'min_samples_split': 2,\n",
       " 'random_state': 42}"
      ]
     },
     "execution_count": 85,
     "metadata": {},
     "output_type": "execute_result"
    }
   ],
   "source": [
    "params = {'max_depth': [8],\n",
    "          'min_samples_leaf': [2],\n",
    "          'min_samples_split': [2],\n",
    "          'min_impurity_decrease': np.arange(0.0,0.3,0.02),\n",
    "          'random_state': [42]\n",
    "         }\n",
    "\n",
    "t = DecisionTreeRegressor()\n",
    "\n",
    "model = GridSearchCV(t, params, cv=5, n_jobs = -1)\n",
    "model.fit(x_train,y_train)\n",
    "model.best_params_"
   ]
  },
  {
   "cell_type": "markdown",
   "metadata": {},
   "source": [
    "Optimització de *max_features*"
   ]
  },
  {
   "cell_type": "code",
   "execution_count": 86,
   "metadata": {
    "ExecuteTime": {
     "end_time": "2020-01-04T13:08:31.410806Z",
     "start_time": "2020-01-04T13:08:28.570434Z"
    }
   },
   "outputs": [
    {
     "data": {
      "text/plain": [
       "GridSearchCV(cv=5, error_score=nan,\n",
       "             estimator=DecisionTreeRegressor(ccp_alpha=0.0, criterion='mse',\n",
       "                                             max_depth=None, max_features=None,\n",
       "                                             max_leaf_nodes=None,\n",
       "                                             min_impurity_decrease=0.0,\n",
       "                                             min_impurity_split=None,\n",
       "                                             min_samples_leaf=1,\n",
       "                                             min_samples_split=2,\n",
       "                                             min_weight_fraction_leaf=0.0,\n",
       "                                             presort='deprecated',\n",
       "                                             random_state=None,\n",
       "                                             splitter='best'),\n",
       "             iid='deprecated', n_jobs=-1,\n",
       "             param_grid={'max_depth': [8],\n",
       "                         'max_features': ['auto', 'sqrt', 5, 10, 14, 16, 18, 20,\n",
       "                                          22, 24, 26],\n",
       "                         'min_impurity_decrease': [0], 'min_samples_leaf': [2],\n",
       "                         'min_samples_split': [2], 'random_state': [42]},\n",
       "             pre_dispatch='2*n_jobs', refit=True, return_train_score=False,\n",
       "             scoring=None, verbose=0)"
      ]
     },
     "execution_count": 86,
     "metadata": {},
     "output_type": "execute_result"
    },
    {
     "data": {
      "text/plain": [
       "{'max_depth': 8,\n",
       " 'max_features': 16,\n",
       " 'min_impurity_decrease': 0,\n",
       " 'min_samples_leaf': 2,\n",
       " 'min_samples_split': 2,\n",
       " 'random_state': 42}"
      ]
     },
     "execution_count": 86,
     "metadata": {},
     "output_type": "execute_result"
    }
   ],
   "source": [
    "params = {'max_depth': [8],\n",
    "          'max_features': ['auto', 'sqrt', 5,10,14,16,18,20,22,24,26],\n",
    "          'min_samples_leaf': [2],\n",
    "          'min_samples_split': [2],\n",
    "          'min_impurity_decrease': [0],\n",
    "          'random_state': [42]\n",
    "         }\n",
    "\n",
    "t = DecisionTreeRegressor()\n",
    "\n",
    "model = GridSearchCV(t, params, cv=5, n_jobs = -1)\n",
    "model.fit(x_train,y_train)\n",
    "model.best_params_"
   ]
  },
  {
   "cell_type": "markdown",
   "metadata": {},
   "source": [
    "\n",
    "## Avaluació"
   ]
  },
  {
   "cell_type": "markdown",
   "metadata": {},
   "source": [
    "Model estàndard"
   ]
  },
  {
   "cell_type": "code",
   "execution_count": 239,
   "metadata": {
    "ExecuteTime": {
     "end_time": "2020-01-04T14:15:29.908604Z",
     "start_time": "2020-01-04T14:15:29.904607Z"
    },
    "scrolled": true
   },
   "outputs": [],
   "source": [
    "tree = DecisionTreeRegressor(\n",
    " random_state = 42)\n",
    "## valors per defecte"
   ]
  },
  {
   "cell_type": "code",
   "execution_count": 240,
   "metadata": {
    "ExecuteTime": {
     "end_time": "2020-01-04T14:15:31.513393Z",
     "start_time": "2020-01-04T14:15:31.117619Z"
    },
    "scrolled": true
   },
   "outputs": [
    {
     "name": "stdout",
     "output_type": "stream",
     "text": [
      "       Train     Test\n",
      "R2    1.0000   0.9432\n",
      "MSE   0.0006  19.2758\n",
      "RMSE  0.0245   4.3904\n",
      "MAE   0.0006   1.0962\n"
     ]
    },
    {
     "data": {
      "text/plain": [
       "[None]"
      ]
     },
     "execution_count": 240,
     "metadata": {},
     "output_type": "execute_result"
    }
   ],
   "source": [
    "model_scores(tree, x_train, y_train, x_test, y_test)"
   ]
  },
  {
   "cell_type": "markdown",
   "metadata": {},
   "source": [
    "Model amb paràmetres optimitzats"
   ]
  },
  {
   "cell_type": "code",
   "execution_count": 147,
   "metadata": {
    "ExecuteTime": {
     "end_time": "2020-01-04T13:13:58.858151Z",
     "start_time": "2020-01-04T13:13:58.853154Z"
    },
    "scrolled": true
   },
   "outputs": [],
   "source": [
    "tree = DecisionTreeRegressor(ccp_alpha = 0.02,\n",
    " max_depth = 8,\n",
    " max_features = 18,\n",
    " min_samples_leaf = 2,\n",
    " min_samples_split = 2,\n",
    " min_impurity_decrease = 0.01,\n",
    " random_state = 42)\n"
   ]
  },
  {
   "cell_type": "code",
   "execution_count": 148,
   "metadata": {
    "ExecuteTime": {
     "end_time": "2020-01-04T13:13:59.562748Z",
     "start_time": "2020-01-04T13:13:59.338875Z"
    },
    "scrolled": true
   },
   "outputs": [
    {
     "name": "stdout",
     "output_type": "stream",
     "text": [
      "       Train     Test\n",
      "R2    0.9745   0.9583\n",
      "MSE   8.2827  14.1701\n",
      "RMSE  2.8780   3.7643\n",
      "MAE   1.1916   1.3194\n"
     ]
    },
    {
     "data": {
      "text/plain": [
       "[None]"
      ]
     },
     "execution_count": 148,
     "metadata": {},
     "output_type": "execute_result"
    }
   ],
   "source": [
    "model_scores(tree, x_train, y_train, x_test, y_test)"
   ]
  },
  {
   "cell_type": "code",
   "execution_count": 149,
   "metadata": {
    "ExecuteTime": {
     "end_time": "2020-01-04T13:14:00.758943Z",
     "start_time": "2020-01-04T13:14:00.336184Z"
    },
    "scrolled": true
   },
   "outputs": [
    {
     "data": {
      "image/png": "[encoded data removed]",
      "text/plain": [
       "<Figure size 432x288 with 1 Axes>"
      ]
     },
     "metadata": {},
     "output_type": "display_data"
    }
   ],
   "source": [
    "plot_feat_imp(tree, x_train.shape[1], features_df.columns.tolist())"
   ]
  },
  {
   "cell_type": "markdown",
   "metadata": {},
   "source": [
    "# Random forest"
   ]
  },
  {
   "cell_type": "markdown",
   "metadata": {},
   "source": [
    "## Hyperparameter tuning"
   ]
  },
  {
   "cell_type": "markdown",
   "metadata": {},
   "source": [
    "Optimització de *max_depth*"
   ]
  },
  {
   "cell_type": "code",
   "execution_count": 401,
   "metadata": {
    "ExecuteTime": {
     "end_time": "2020-01-04T15:26:49.915441Z",
     "start_time": "2020-01-04T15:26:25.925945Z"
    }
   },
   "outputs": [
    {
     "data": {
      "text/plain": [
       "GridSearchCV(cv=5, error_score=nan,\n",
       "             estimator=RandomForestRegressor(bootstrap=True, ccp_alpha=0.0,\n",
       "                                             criterion='mse', max_depth=None,\n",
       "                                             max_features='auto',\n",
       "                                             max_leaf_nodes=None,\n",
       "                                             max_samples=None,\n",
       "                                             min_impurity_decrease=0.0,\n",
       "                                             min_impurity_split=None,\n",
       "                                             min_samples_leaf=1,\n",
       "                                             min_samples_split=2,\n",
       "                                             min_weight_fraction_leaf=0.0,\n",
       "                                             n_estimators=100, n_jobs=None,\n",
       "                                             oob_score=False, random_state=None,\n",
       "                                             verbose=0, warm_start=False),\n",
       "             iid='deprecated', n_jobs=-1,\n",
       "             param_grid={'max_depth': [7, 8, 9, 10, 11, 12],\n",
       "                         'max_features': ['auto'], 'n_estimators': [20],\n",
       "                         'random_state': [42]},\n",
       "             pre_dispatch='2*n_jobs', refit=True, return_train_score=False,\n",
       "             scoring=None, verbose=0)"
      ]
     },
     "execution_count": 401,
     "metadata": {},
     "output_type": "execute_result"
    },
    {
     "data": {
      "text/plain": [
       "{'max_depth': 11,\n",
       " 'max_features': 'auto',\n",
       " 'n_estimators': 20,\n",
       " 'random_state': 42}"
      ]
     },
     "execution_count": 401,
     "metadata": {},
     "output_type": "execute_result"
    }
   ],
   "source": [
    "params = {'max_depth': [7,8,9,10,11,12],\n",
    "          'max_features': ['auto'],\n",
    "          'random_state': [42],\n",
    "          'n_estimators': [20]\n",
    "         }\n",
    "\n",
    "rf = RandomForestRegressor()\n",
    "\n",
    "model = GridSearchCV(rf, params, cv=5, n_jobs = -1)\n",
    "model.fit(x_train,y_train)\n",
    "model.best_params_\n"
   ]
  },
  {
   "cell_type": "markdown",
   "metadata": {},
   "source": [
    "Optimització de *min_samples_split* i *min_samples_leaf*"
   ]
  },
  {
   "cell_type": "code",
   "execution_count": 402,
   "metadata": {
    "ExecuteTime": {
     "end_time": "2020-01-04T15:29:13.302619Z",
     "start_time": "2020-01-04T15:27:14.990151Z"
    }
   },
   "outputs": [
    {
     "data": {
      "text/plain": [
       "GridSearchCV(cv=5, error_score=nan,\n",
       "             estimator=RandomForestRegressor(bootstrap=True, ccp_alpha=0.0,\n",
       "                                             criterion='mse', max_depth=None,\n",
       "                                             max_features='auto',\n",
       "                                             max_leaf_nodes=None,\n",
       "                                             max_samples=None,\n",
       "                                             min_impurity_decrease=0.0,\n",
       "                                             min_impurity_split=None,\n",
       "                                             min_samples_leaf=1,\n",
       "                                             min_samples_split=2,\n",
       "                                             min_weight_fraction_leaf=0.0,\n",
       "                                             n_estimators=100, n_jobs=None,\n",
       "                                             oob_score=False, random_state=None,\n",
       "                                             verbose=0, warm_start=False),\n",
       "             iid='deprecated', n_jobs=-1,\n",
       "             param_grid={'max_depth': [11], 'max_features': ['auto'],\n",
       "                         'min_samples_leaf': [1, 2, 3, 4, 5],\n",
       "                         'min_samples_split': [2, 3, 4, 5, 6, 7],\n",
       "                         'n_estimators': [20], 'random_state': [42]},\n",
       "             pre_dispatch='2*n_jobs', refit=True, return_train_score=False,\n",
       "             scoring=None, verbose=0)"
      ]
     },
     "execution_count": 402,
     "metadata": {},
     "output_type": "execute_result"
    },
    {
     "data": {
      "text/plain": [
       "{'max_depth': 11,\n",
       " 'max_features': 'auto',\n",
       " 'min_samples_leaf': 1,\n",
       " 'min_samples_split': 2,\n",
       " 'n_estimators': 20,\n",
       " 'random_state': 42}"
      ]
     },
     "execution_count": 402,
     "metadata": {},
     "output_type": "execute_result"
    }
   ],
   "source": [
    "params = {'max_depth': [11],\n",
    "          'max_features': ['auto'],\n",
    "          'min_samples_leaf': [1,2,3,4,5],\n",
    "          'min_samples_split': [2,3,4,5,6,7],\n",
    "          'n_estimators': [20],\n",
    "          'random_state': [42]\n",
    "         }\n",
    "\n",
    "rf = RandomForestRegressor()\n",
    "\n",
    "model = GridSearchCV(rf, params, cv=5, n_jobs = -1)\n",
    "model.fit(x_train,y_train)\n",
    "model.best_params_\n"
   ]
  },
  {
   "cell_type": "markdown",
   "metadata": {},
   "source": [
    "*Optimització de max_features*"
   ]
  },
  {
   "cell_type": "code",
   "execution_count": 404,
   "metadata": {
    "ExecuteTime": {
     "end_time": "2020-01-04T15:30:19.255607Z",
     "start_time": "2020-01-04T15:29:43.492679Z"
    }
   },
   "outputs": [
    {
     "data": {
      "text/plain": [
       "GridSearchCV(cv=5, error_score=nan,\n",
       "             estimator=RandomForestRegressor(bootstrap=True, ccp_alpha=0.0,\n",
       "                                             criterion='mse', max_depth=None,\n",
       "                                             max_features='auto',\n",
       "                                             max_leaf_nodes=None,\n",
       "                                             max_samples=None,\n",
       "                                             min_impurity_decrease=0.0,\n",
       "                                             min_impurity_split=None,\n",
       "                                             min_samples_leaf=1,\n",
       "                                             min_samples_split=2,\n",
       "                                             min_weight_fraction_leaf=0.0,\n",
       "                                             n_estimators=100, n_jobs=None,\n",
       "                                             oob_score=False, random_state=None,\n",
       "                                             verbose=0, warm_start=False),\n",
       "             iid='deprecated', n_jobs=-1,\n",
       "             param_grid={'max_depth': [11],\n",
       "                         'max_features': ['auto', 'sqrt', 5, 10, 14, 16, 18, 20,\n",
       "                                          22, 24, 26],\n",
       "                         'min_samples_leaf': [1], 'min_samples_split': [2],\n",
       "                         'n_estimators': [20], 'random_state': [42]},\n",
       "             pre_dispatch='2*n_jobs', refit=True, return_train_score=False,\n",
       "             scoring=None, verbose=0)"
      ]
     },
     "execution_count": 404,
     "metadata": {},
     "output_type": "execute_result"
    },
    {
     "data": {
      "text/plain": [
       "{'max_depth': 11,\n",
       " 'max_features': 10,\n",
       " 'min_samples_leaf': 1,\n",
       " 'min_samples_split': 2,\n",
       " 'n_estimators': 20,\n",
       " 'random_state': 42}"
      ]
     },
     "execution_count": 404,
     "metadata": {},
     "output_type": "execute_result"
    }
   ],
   "source": [
    "params = {'max_depth': [11],\n",
    "          'max_features': ['auto', 'sqrt', 5,10,14,16,18,20,22,24,26],\n",
    "          'min_samples_leaf': [1],\n",
    "          'min_samples_split': [2],\n",
    "          'random_state': [42],\n",
    "          'n_estimators': [20]\n",
    "         }\n",
    "\n",
    "rf = RandomForestRegressor()\n",
    "\n",
    "model = GridSearchCV(rf, params, cv=5, n_jobs = -1)\n",
    "model.fit(x_train,y_train)\n",
    "model.best_params_\n",
    "\n"
   ]
  },
  {
   "cell_type": "markdown",
   "metadata": {},
   "source": [
    "Optimització de *n_estimators*"
   ]
  },
  {
   "cell_type": "code",
   "execution_count": 154,
   "metadata": {
    "ExecuteTime": {
     "end_time": "2020-01-04T14:01:18.463272Z",
     "start_time": "2020-01-04T14:00:51.273581Z"
    }
   },
   "outputs": [
    {
     "data": {
      "text/plain": [
       "GridSearchCV(cv=5, error_score=nan,\n",
       "             estimator=RandomForestRegressor(bootstrap=True, ccp_alpha=0.0,\n",
       "                                             criterion='mse', max_depth=None,\n",
       "                                             max_features='auto',\n",
       "                                             max_leaf_nodes=None,\n",
       "                                             max_samples=None,\n",
       "                                             min_impurity_decrease=0.0,\n",
       "                                             min_impurity_split=None,\n",
       "                                             min_samples_leaf=1,\n",
       "                                             min_samples_split=2,\n",
       "                                             min_weight_fraction_leaf=0.0,\n",
       "                                             n_estimators=100, n_jobs=None,\n",
       "                                             oob_score=False, random_state=None,\n",
       "                                             verbose=0, warm_start=False),\n",
       "             iid='deprecated', n_jobs=-1,\n",
       "             param_grid={'max_depth': [12], 'max_features': [10],\n",
       "                         'min_samples_leaf': [1], 'min_samples_split': [2],\n",
       "                         'n_estimators': [1, 2, 5, 10, 16, 24, 32, 64],\n",
       "                         'random_state': [42]},\n",
       "             pre_dispatch='2*n_jobs', refit=True, return_train_score=False,\n",
       "             scoring=None, verbose=0)"
      ]
     },
     "execution_count": 154,
     "metadata": {},
     "output_type": "execute_result"
    },
    {
     "data": {
      "text/plain": [
       "{'max_depth': 12,\n",
       " 'max_features': 10,\n",
       " 'min_samples_leaf': 1,\n",
       " 'min_samples_split': 2,\n",
       " 'n_estimators': 32,\n",
       " 'random_state': 42}"
      ]
     },
     "execution_count": 154,
     "metadata": {},
     "output_type": "execute_result"
    }
   ],
   "source": [
    "params = {'n_estimators': [1,2,5,10,16,24,32,64],\n",
    "          'max_depth': [12],\n",
    "          'max_features': [10],\n",
    "          'min_samples_leaf': [1],\n",
    "          'min_samples_split': [2],\n",
    "          'random_state': [42]\n",
    "         }\n",
    "\n",
    "rf = RandomForestRegressor()\n",
    "\n",
    "model = GridSearchCV(rf, params, cv=5, n_jobs = -1)\n",
    "model.fit(x_train,y_train)\n",
    "model.best_params_"
   ]
  },
  {
   "cell_type": "markdown",
   "metadata": {},
   "source": [
    "## Avaluació"
   ]
  },
  {
   "cell_type": "markdown",
   "metadata": {},
   "source": [
    "Model estàndard"
   ]
  },
  {
   "cell_type": "code",
   "execution_count": 237,
   "metadata": {
    "ExecuteTime": {
     "end_time": "2020-01-04T14:14:41.977468Z",
     "start_time": "2020-01-04T14:14:41.971471Z"
    },
    "scrolled": false
   },
   "outputs": [],
   "source": [
    "rf = RandomForestRegressor(\n",
    " random_state = 42)\n"
   ]
  },
  {
   "cell_type": "code",
   "execution_count": 238,
   "metadata": {
    "ExecuteTime": {
     "end_time": "2020-01-04T14:15:02.846110Z",
     "start_time": "2020-01-04T14:14:43.067544Z"
    },
    "scrolled": true
   },
   "outputs": [
    {
     "name": "stdout",
     "output_type": "stream",
     "text": [
      "       Train     Test\n",
      "R2    0.9957   0.9616\n",
      "MSE   1.4104  13.0577\n",
      "RMSE  1.1876   3.6135\n",
      "MAE   0.2851   0.9201\n"
     ]
    },
    {
     "data": {
      "text/plain": [
       "[None]"
      ]
     },
     "execution_count": 238,
     "metadata": {},
     "output_type": "execute_result"
    }
   ],
   "source": [
    "model_scores(rf, x_train, y_train, x_test, y_test)"
   ]
  },
  {
   "cell_type": "markdown",
   "metadata": {},
   "source": [
    "Model amb paràmetres optimitzats"
   ]
  },
  {
   "cell_type": "code",
   "execution_count": 8,
   "metadata": {
    "ExecuteTime": {
     "end_time": "2020-01-10T11:44:01.965331Z",
     "start_time": "2020-01-10T11:44:01.960335Z"
    },
    "scrolled": true
   },
   "outputs": [],
   "source": [
    "rf = RandomForestRegressor(ccp_alpha = 0.01,\n",
    " max_depth = 12,\n",
    " max_features = 10,\n",
    " min_samples_leaf = 2,\n",
    " min_samples_split = 2,\n",
    " min_impurity_decrease = 0.0,\n",
    " n_estimators = 20,\n",
    " random_state = 42,\n",
    " n_jobs = -1)\n"
   ]
  },
  {
   "cell_type": "code",
   "execution_count": 9,
   "metadata": {
    "ExecuteTime": {
     "end_time": "2020-01-10T11:44:03.790629Z",
     "start_time": "2020-01-10T11:44:02.597969Z"
    },
    "scrolled": false
   },
   "outputs": [
    {
     "name": "stdout",
     "output_type": "stream",
     "text": [
      "       Train     Test\n",
      "R2    0.9791   0.9609\n",
      "MSE   6.7696  13.3386\n",
      "RMSE  2.6018   3.6522\n",
      "MAE   0.9644   1.1179\n"
     ]
    },
    {
     "data": {
      "text/plain": [
       "[None]"
      ]
     },
     "execution_count": 9,
     "metadata": {},
     "output_type": "execute_result"
    }
   ],
   "source": [
    "model_scores(rf, x_train, y_train, x_test, y_test)"
   ]
  },
  {
   "cell_type": "code",
   "execution_count": 10,
   "metadata": {
    "ExecuteTime": {
     "end_time": "2020-01-10T11:44:16.797810Z",
     "start_time": "2020-01-10T11:44:16.155283Z"
    }
   },
   "outputs": [
    {
     "data": {
      "text/plain": [
       "<Figure size 864x360 with 0 Axes>"
      ]
     },
     "execution_count": 10,
     "metadata": {},
     "output_type": "execute_result"
    },
    {
     "data": {
      "image/png": "[encoded data removed]",
      "text/plain": [
       "<Figure size 864x360 with 1 Axes>"
      ]
     },
     "metadata": {},
     "output_type": "display_data"
    }
   ],
   "source": [
    "plt.figure(figsize = (12,5))\n",
    "plot_feat_imp(rf, x_train.shape[1], features_df.columns.tolist())"
   ]
  },
  {
   "cell_type": "markdown",
   "metadata": {},
   "source": [
    "# XGBoost"
   ]
  },
  {
   "cell_type": "markdown",
   "metadata": {},
   "source": [
    "## Hyperparameter tuning"
   ]
  },
  {
   "cell_type": "markdown",
   "metadata": {},
   "source": [
    "Optimització de *max_depth* i *min_child_weight*"
   ]
  },
  {
   "cell_type": "code",
   "execution_count": 419,
   "metadata": {
    "ExecuteTime": {
     "end_time": "2020-01-04T15:40:50.786517Z",
     "start_time": "2020-01-04T15:40:25.342719Z"
    }
   },
   "outputs": [
    {
     "name": "stderr",
     "output_type": "stream",
     "text": [
      "C:\\Users\\miquel.vallverdu\\AppData\\Local\\Continuum\\anaconda3\\lib\\site-packages\\xgboost\\core.py:587: FutureWarning: Series.base is deprecated and will be removed in a future version\n",
      "  if getattr(data, 'base', None) is not None and \\\n"
     ]
    },
    {
     "name": "stdout",
     "output_type": "stream",
     "text": [
      "[16:40:49] WARNING: src/objective/regression_obj.cu:152: reg:linear is now deprecated in favor of reg:squarederror.\n"
     ]
    },
    {
     "data": {
      "text/plain": [
       "GridSearchCV(cv=5, error_score=nan,\n",
       "             estimator=XGBRegressor(base_score=0.5, booster='gbtree',\n",
       "                                    colsample_bylevel=1, colsample_bynode=1,\n",
       "                                    colsample_bytree=1, gamma=0,\n",
       "                                    importance_type='gain', learning_rate=0.1,\n",
       "                                    max_delta_step=0, max_depth=3,\n",
       "                                    min_child_weight=1, missing=None,\n",
       "                                    n_estimators=100, n_jobs=1, nthread=None,\n",
       "                                    objective='reg:linear', random_state=0,\n",
       "                                    reg_alpha=0, reg_lambda=1,\n",
       "                                    scale_pos_weight=1, seed=None, silent=None,\n",
       "                                    subsample=1, verbosity=1),\n",
       "             iid='deprecated', n_jobs=-1,\n",
       "             param_grid={'colsample_bytree': [0.7], 'max_depth': [8, 9],\n",
       "                         'min_child_weight': range(1, 11, 2),\n",
       "                         'n_estimators': [20], 'random_state': [42],\n",
       "                         'subsample': [0.7]},\n",
       "             pre_dispatch='2*n_jobs', refit=True, return_train_score=False,\n",
       "             scoring=None, verbose=0)"
      ]
     },
     "execution_count": 419,
     "metadata": {},
     "output_type": "execute_result"
    },
    {
     "data": {
      "text/plain": [
       "{'colsample_bytree': 0.7,\n",
       " 'max_depth': 9,\n",
       " 'min_child_weight': 1,\n",
       " 'n_estimators': 20,\n",
       " 'random_state': 42,\n",
       " 'subsample': 0.7}"
      ]
     },
     "execution_count": 419,
     "metadata": {},
     "output_type": "execute_result"
    }
   ],
   "source": [
    "params = {'max_depth': [8,9],\n",
    "          'min_child_weight': range(1,11,2),\n",
    "          'colsample_bytree': [0.7],\n",
    "          'subsample': [0.7],\n",
    "          'random_state': [42],\n",
    "          'n_estimators': [20]\n",
    "         }\n",
    "\n",
    "xg = xgb.XGBRegressor()\n",
    "\n",
    "model = GridSearchCV(xg, params, cv=5, n_jobs = -1)\n",
    "model.fit(x_train,y_train)\n",
    "model.best_params_"
   ]
  },
  {
   "cell_type": "markdown",
   "metadata": {},
   "source": [
    "Optimització de *gamma*"
   ]
  },
  {
   "cell_type": "code",
   "execution_count": 421,
   "metadata": {
    "ExecuteTime": {
     "end_time": "2020-01-04T15:42:28.845768Z",
     "start_time": "2020-01-04T15:42:03.023517Z"
    }
   },
   "outputs": [
    {
     "name": "stdout",
     "output_type": "stream",
     "text": [
      "[16:42:27] WARNING: src/objective/regression_obj.cu:152: reg:linear is now deprecated in favor of reg:squarederror.\n"
     ]
    },
    {
     "data": {
      "text/plain": [
       "GridSearchCV(cv=5, error_score=nan,\n",
       "             estimator=XGBRegressor(base_score=0.5, booster='gbtree',\n",
       "                                    colsample_bylevel=1, colsample_bynode=1,\n",
       "                                    colsample_bytree=1, gamma=0,\n",
       "                                    importance_type='gain', learning_rate=0.1,\n",
       "                                    max_delta_step=0, max_depth=3,\n",
       "                                    min_child_weight=1, missing=None,\n",
       "                                    n_estimators=100, n_jobs=1, nthread=None,\n",
       "                                    objective='reg:linear', random_state=0,\n",
       "                                    reg_alpha=0, reg_...\n",
       "                                    scale_pos_weight=1, seed=None, silent=None,\n",
       "                                    subsample=1, verbosity=1),\n",
       "             iid='deprecated', n_jobs=-1,\n",
       "             param_grid={'colsample_bytree': [0.7],\n",
       "                         'gamma': array([0.  , 0.01, 0.02, 0.03, 0.04, 0.05, 0.06, 0.07, 0.08, 0.09]),\n",
       "                         'max_depth': [9], 'min_child_weight': [1],\n",
       "                         'n_estimators': [20], 'random_state': [42],\n",
       "                         'subsample': [0.7]},\n",
       "             pre_dispatch='2*n_jobs', refit=True, return_train_score=False,\n",
       "             scoring=None, verbose=0)"
      ]
     },
     "execution_count": 421,
     "metadata": {},
     "output_type": "execute_result"
    },
    {
     "data": {
      "text/plain": [
       "{'colsample_bytree': 0.7,\n",
       " 'gamma': 0.07,\n",
       " 'max_depth': 9,\n",
       " 'min_child_weight': 1,\n",
       " 'n_estimators': 20,\n",
       " 'random_state': 42,\n",
       " 'subsample': 0.7}"
      ]
     },
     "execution_count": 421,
     "metadata": {},
     "output_type": "execute_result"
    }
   ],
   "source": [
    "params = {'max_depth': [9],\n",
    "          'min_child_weight': [1],\n",
    "          'colsample_bytree': [0.7],\n",
    "          'subsample': [0.7],\n",
    "          'gamma': np.arange(0,0.1,0.01),\n",
    "          'random_state': [42],\n",
    "          'n_estimators': [20]\n",
    "         }\n",
    "\n",
    "xg = xgb.XGBRegressor()\n",
    "\n",
    "model = GridSearchCV(xg, params, cv=5, n_jobs = -1)\n",
    "model.fit(x_train,y_train)\n",
    "model.best_params_"
   ]
  },
  {
   "cell_type": "markdown",
   "metadata": {},
   "source": [
    "Optimització de *subsample* i *colsample_bytree*"
   ]
  },
  {
   "cell_type": "code",
   "execution_count": 423,
   "metadata": {
    "ExecuteTime": {
     "end_time": "2020-01-04T15:43:16.865367Z",
     "start_time": "2020-01-04T15:42:53.335552Z"
    }
   },
   "outputs": [
    {
     "name": "stdout",
     "output_type": "stream",
     "text": [
      "[16:43:15] WARNING: src/objective/regression_obj.cu:152: reg:linear is now deprecated in favor of reg:squarederror.\n"
     ]
    },
    {
     "data": {
      "text/plain": [
       "GridSearchCV(cv=5, error_score=nan,\n",
       "             estimator=XGBRegressor(base_score=0.5, booster='gbtree',\n",
       "                                    colsample_bylevel=1, colsample_bynode=1,\n",
       "                                    colsample_bytree=1, gamma=0,\n",
       "                                    importance_type='gain', learning_rate=0.1,\n",
       "                                    max_delta_step=0, max_depth=3,\n",
       "                                    min_child_weight=1, missing=None,\n",
       "                                    n_estimators=100, n_jobs=1, nthread=None,\n",
       "                                    objective='reg:linear', random_state=0,\n",
       "                                    reg_alpha=0, reg_lambda=1,\n",
       "                                    scale_pos_weight=1, seed=None, silent=None,\n",
       "                                    subsample=1, verbosity=1),\n",
       "             iid='deprecated', n_jobs=-1,\n",
       "             param_grid={'colsample_bytree': [0.5, 0.6, 0.7], 'gamma': [0.07],\n",
       "                         'max_depth': [9], 'min_child_weight': [1],\n",
       "                         'n_estimators': [20], 'random_state': [42],\n",
       "                         'subsample': [0.5, 0.6, 0.7]},\n",
       "             pre_dispatch='2*n_jobs', refit=True, return_train_score=False,\n",
       "             scoring=None, verbose=0)"
      ]
     },
     "execution_count": 423,
     "metadata": {},
     "output_type": "execute_result"
    },
    {
     "data": {
      "text/plain": [
       "{'colsample_bytree': 0.7,\n",
       " 'gamma': 0.07,\n",
       " 'max_depth': 9,\n",
       " 'min_child_weight': 1,\n",
       " 'n_estimators': 20,\n",
       " 'random_state': 42,\n",
       " 'subsample': 0.6}"
      ]
     },
     "execution_count": 423,
     "metadata": {},
     "output_type": "execute_result"
    }
   ],
   "source": [
    "params = {'max_depth': [9],\n",
    "          'min_child_weight': [1],\n",
    "          'colsample_bytree': [0.5,0.6,0.7],\n",
    "          'subsample': [0.5,0.6,0.7],\n",
    "          'gamma': [0.07],\n",
    "          'random_state': [42],\n",
    "          'n_estimators': [20]\n",
    "         }\n",
    "\n",
    "xg = xgb.XGBRegressor()\n",
    "\n",
    "model = GridSearchCV(xg, params, cv=5, n_jobs = -1)\n",
    "model.fit(x_train,y_train)\n",
    "model.best_params_"
   ]
  },
  {
   "cell_type": "markdown",
   "metadata": {},
   "source": [
    "Optimització de *reg_alpha* i *reg_lambda*"
   ]
  },
  {
   "cell_type": "code",
   "execution_count": 424,
   "metadata": {
    "ExecuteTime": {
     "end_time": "2020-01-04T15:45:13.476537Z",
     "start_time": "2020-01-04T15:43:47.446356Z"
    },
    "scrolled": true
   },
   "outputs": [
    {
     "name": "stdout",
     "output_type": "stream",
     "text": [
      "[16:45:12] WARNING: src/objective/regression_obj.cu:152: reg:linear is now deprecated in favor of reg:squarederror.\n"
     ]
    },
    {
     "data": {
      "text/plain": [
       "GridSearchCV(cv=5, error_score=nan,\n",
       "             estimator=XGBRegressor(base_score=0.5, booster='gbtree',\n",
       "                                    colsample_bylevel=1, colsample_bynode=1,\n",
       "                                    colsample_bytree=1, gamma=0,\n",
       "                                    importance_type='gain', learning_rate=0.1,\n",
       "                                    max_delta_step=0, max_depth=3,\n",
       "                                    min_child_weight=1, missing=None,\n",
       "                                    n_estimators=100, n_jobs=1, nthread=None,\n",
       "                                    objective='reg:linear', random_state=0,\n",
       "                                    reg_alpha=0, reg_...\n",
       "                                    subsample=1, verbosity=1),\n",
       "             iid='deprecated', n_jobs=-1,\n",
       "             param_grid={'colsample_bytree': [0.7], 'gamma': [0.07],\n",
       "                         'max_depth': [9], 'min_child_weight': [1],\n",
       "                         'n_estimators': [20], 'random_state': [42],\n",
       "                         'reg_alpha': [0, 0.02, 0.04, 0.06, 0.08, 0.1],\n",
       "                         'reg_lambda': [0, 0.02, 0.04, 0.06, 0.08, 0.1],\n",
       "                         'subsample': [0.7]},\n",
       "             pre_dispatch='2*n_jobs', refit=True, return_train_score=False,\n",
       "             scoring=None, verbose=0)"
      ]
     },
     "execution_count": 424,
     "metadata": {},
     "output_type": "execute_result"
    },
    {
     "data": {
      "text/plain": [
       "{'colsample_bytree': 0.7,\n",
       " 'gamma': 0.07,\n",
       " 'max_depth': 9,\n",
       " 'min_child_weight': 1,\n",
       " 'n_estimators': 20,\n",
       " 'random_state': 42,\n",
       " 'reg_alpha': 0.08,\n",
       " 'reg_lambda': 0,\n",
       " 'subsample': 0.7}"
      ]
     },
     "execution_count": 424,
     "metadata": {},
     "output_type": "execute_result"
    }
   ],
   "source": [
    "params = {'max_depth': [9],\n",
    "          'min_child_weight': [1],\n",
    "          'colsample_bytree': [0.7],\n",
    "          'subsample': [0.7],\n",
    "          'gamma': [0.07],\n",
    "          'reg_alpha': [0, 0.02, 0.04, 0.06, 0.08, 0.1],\n",
    "          'reg_lambda': [0, 0.02, 0.04, 0.06, 0.08, 0.1],\n",
    "          'random_state': [42],\n",
    "          'n_estimators': [20]\n",
    "         }\n",
    "\n",
    "xg = xgb.XGBRegressor()\n",
    "\n",
    "model = GridSearchCV(xg, params, cv=5, n_jobs = -1)\n",
    "model.fit(x_train,y_train)\n",
    "model.best_params_"
   ]
  },
  {
   "cell_type": "code",
   "execution_count": 425,
   "metadata": {
    "ExecuteTime": {
     "end_time": "2020-01-04T15:46:16.923602Z",
     "start_time": "2020-01-04T15:46:01.414449Z"
    },
    "scrolled": true
   },
   "outputs": [
    {
     "name": "stdout",
     "output_type": "stream",
     "text": [
      "[16:46:15] WARNING: src/objective/regression_obj.cu:152: reg:linear is now deprecated in favor of reg:squarederror.\n"
     ]
    },
    {
     "data": {
      "text/plain": [
       "GridSearchCV(cv=5, error_score=nan,\n",
       "             estimator=XGBRegressor(base_score=0.5, booster='gbtree',\n",
       "                                    colsample_bylevel=1, colsample_bynode=1,\n",
       "                                    colsample_bytree=1, gamma=0,\n",
       "                                    importance_type='gain', learning_rate=0.1,\n",
       "                                    max_delta_step=0, max_depth=3,\n",
       "                                    min_child_weight=1, missing=None,\n",
       "                                    n_estimators=100, n_jobs=1, nthread=None,\n",
       "                                    objective='reg:linear', random_state=0,\n",
       "                                    reg_alpha=0, reg_...\n",
       "                                    scale_pos_weight=1, seed=None, silent=None,\n",
       "                                    subsample=1, verbosity=1),\n",
       "             iid='deprecated', n_jobs=-1,\n",
       "             param_grid={'colsample_bytree': [0.7], 'gamma': [0.07],\n",
       "                         'max_depth': [9], 'min_child_weight': [1],\n",
       "                         'n_estimators': [20], 'random_state': [42],\n",
       "                         'reg_alpha': [0.07, 0.08, 0.09],\n",
       "                         'reg_lambda': [0.0, 0.01], 'subsample': [0.7]},\n",
       "             pre_dispatch='2*n_jobs', refit=True, return_train_score=False,\n",
       "             scoring=None, verbose=0)"
      ]
     },
     "execution_count": 425,
     "metadata": {},
     "output_type": "execute_result"
    },
    {
     "data": {
      "text/plain": [
       "{'colsample_bytree': 0.7,\n",
       " 'gamma': 0.07,\n",
       " 'max_depth': 9,\n",
       " 'min_child_weight': 1,\n",
       " 'n_estimators': 20,\n",
       " 'random_state': 42,\n",
       " 'reg_alpha': 0.08,\n",
       " 'reg_lambda': 0.0,\n",
       " 'subsample': 0.7}"
      ]
     },
     "execution_count": 425,
     "metadata": {},
     "output_type": "execute_result"
    }
   ],
   "source": [
    "params = {'max_depth': [9],\n",
    "          'min_child_weight': [1],\n",
    "          'colsample_bytree': [0.7],\n",
    "          'subsample': [0.7],\n",
    "          'gamma': [0.07],\n",
    "          'reg_alpha': [0.07, 0.08, 0.09],\n",
    "          'reg_lambda': [0.0, 0.01],\n",
    "          'random_state': [42],\n",
    "          'n_estimators': [20]\n",
    "         }\n",
    "\n",
    "xg = xgb.XGBRegressor()\n",
    "\n",
    "model = GridSearchCV(xg, params, cv=5, n_jobs = -1)\n",
    "model.fit(x_train,y_train)\n",
    "model.best_params_"
   ]
  },
  {
   "cell_type": "markdown",
   "metadata": {},
   "source": [
    "Optimització *learning_rate* i *n_estimators*"
   ]
  },
  {
   "cell_type": "code",
   "execution_count": 426,
   "metadata": {
    "ExecuteTime": {
     "end_time": "2020-01-04T15:50:05.351750Z",
     "start_time": "2020-01-04T15:47:21.408612Z"
    }
   },
   "outputs": [
    {
     "name": "stdout",
     "output_type": "stream",
     "text": [
      "[16:50:03] WARNING: src/objective/regression_obj.cu:152: reg:linear is now deprecated in favor of reg:squarederror.\n"
     ]
    },
    {
     "data": {
      "text/plain": [
       "GridSearchCV(cv=5, error_score=nan,\n",
       "             estimator=XGBRegressor(base_score=0.5, booster='gbtree',\n",
       "                                    colsample_bylevel=1, colsample_bynode=1,\n",
       "                                    colsample_bytree=1, gamma=0,\n",
       "                                    importance_type='gain', learning_rate=0.1,\n",
       "                                    max_delta_step=0, max_depth=3,\n",
       "                                    min_child_weight=1, missing=None,\n",
       "                                    n_estimators=100, n_jobs=1, nthread=None,\n",
       "                                    objective='reg:linear', random_state=0,\n",
       "                                    reg_alpha=0, reg_...\n",
       "             iid='deprecated', n_jobs=-1,\n",
       "             param_grid={'colsample_bytree': [0.7], 'gamma': [0.07],\n",
       "                         'learning_rate': array([0.  , 0.05, 0.1 , 0.15, 0.2 , 0.25, 0.3 ]),\n",
       "                         'max_depth': [9], 'min_child_weight': [1],\n",
       "                         'n_estimators': range(15, 25), 'random_state': [42],\n",
       "                         'reg_alpha': [0.08], 'reg_lambda': [0],\n",
       "                         'subsample': [0.7]},\n",
       "             pre_dispatch='2*n_jobs', refit=True, return_train_score=False,\n",
       "             scoring=None, verbose=0)"
      ]
     },
     "execution_count": 426,
     "metadata": {},
     "output_type": "execute_result"
    },
    {
     "data": {
      "text/plain": [
       "{'colsample_bytree': 0.7,\n",
       " 'gamma': 0.07,\n",
       " 'learning_rate': 0.2,\n",
       " 'max_depth': 9,\n",
       " 'min_child_weight': 1,\n",
       " 'n_estimators': 24,\n",
       " 'random_state': 42,\n",
       " 'reg_alpha': 0.08,\n",
       " 'reg_lambda': 0,\n",
       " 'subsample': 0.7}"
      ]
     },
     "execution_count": 426,
     "metadata": {},
     "output_type": "execute_result"
    }
   ],
   "source": [
    "params = {'max_depth': [9],\n",
    "          'min_child_weight': [1],\n",
    "          'colsample_bytree': [0.7],\n",
    "          'subsample': [0.7],\n",
    "          'gamma': [0.07],\n",
    "          'reg_alpha': [0.08],\n",
    "          'reg_lambda': [0],\n",
    "          'learning_rate': np.arange(0.00,0.35,0.05),\n",
    "          'n_estimators': range(15,25,1),\n",
    "          'random_state': [42]\n",
    "         }\n",
    "\n",
    "xg = xgb.XGBRegressor()\n",
    "\n",
    "model = GridSearchCV(xg, params, cv=5, n_jobs = -1)\n",
    "model.fit(x_train,y_train)\n",
    "model.best_params_"
   ]
  },
  {
   "cell_type": "markdown",
   "metadata": {},
   "source": [
    "## Avaluació"
   ]
  },
  {
   "cell_type": "markdown",
   "metadata": {},
   "source": [
    "Model estàndard"
   ]
  },
  {
   "cell_type": "code",
   "execution_count": 248,
   "metadata": {
    "ExecuteTime": {
     "end_time": "2020-01-04T14:49:16.189285Z",
     "start_time": "2020-01-04T14:49:16.176430Z"
    }
   },
   "outputs": [],
   "source": [
    "xg = xgb.XGBRegressor(\n",
    " random_state= 42,\n",
    "    n_jobs=-1\n",
    " )"
   ]
  },
  {
   "cell_type": "code",
   "execution_count": 249,
   "metadata": {
    "ExecuteTime": {
     "end_time": "2020-01-04T14:49:19.166118Z",
     "start_time": "2020-01-04T14:49:16.592295Z"
    },
    "scrolled": false
   },
   "outputs": [
    {
     "name": "stdout",
     "output_type": "stream",
     "text": [
      "[15:49:16] WARNING: src/objective/regression_obj.cu:152: reg:linear is now deprecated in favor of reg:squarederror.\n",
      "        Train     Test\n",
      "R2     0.9588   0.9344\n",
      "MSE   13.3217  22.2786\n",
      "RMSE   3.6499   4.7200\n",
      "MAE    1.1590   1.2904\n"
     ]
    },
    {
     "data": {
      "text/plain": [
       "[None]"
      ]
     },
     "execution_count": 249,
     "metadata": {},
     "output_type": "execute_result"
    }
   ],
   "source": [
    "model_scores(xg, x_train, y_train, x_test, y_test)"
   ]
  },
  {
   "cell_type": "markdown",
   "metadata": {},
   "source": [
    "Model amb paràmetres optimitzats"
   ]
  },
  {
   "cell_type": "code",
   "execution_count": 466,
   "metadata": {
    "ExecuteTime": {
     "end_time": "2020-01-04T15:53:47.980020Z",
     "start_time": "2020-01-04T15:53:47.968022Z"
    },
    "scrolled": true
   },
   "outputs": [],
   "source": [
    "xg = xgb.XGBRegressor(random_state = 42,\n",
    "                      n_jobs = -1,\n",
    "                     max_depth = 9,\n",
    "                     min_child_weight=1,\n",
    "                     subsample = 0.6,\n",
    "                     colsample_bytree=0.7,\n",
    "                     reg_alpha=0.04,\n",
    "                     reg_lambda=0.1,\n",
    "                     learning_rate=0.1,\n",
    "                     n_estimators=80)"
   ]
  },
  {
   "cell_type": "code",
   "execution_count": 467,
   "metadata": {
    "ExecuteTime": {
     "end_time": "2020-01-04T15:53:54.071900Z",
     "start_time": "2020-01-04T15:53:48.320868Z"
    },
    "scrolled": true
   },
   "outputs": [
    {
     "name": "stdout",
     "output_type": "stream",
     "text": [
      "[16:53:48] WARNING: src/objective/regression_obj.cu:152: reg:linear is now deprecated in favor of reg:squarederror.\n"
     ]
    },
    {
     "name": "stderr",
     "output_type": "stream",
     "text": [
      "C:\\Users\\miquel.vallverdu\\AppData\\Local\\Continuum\\anaconda3\\lib\\site-packages\\xgboost\\core.py:587: FutureWarning: Series.base is deprecated and will be removed in a future version\n",
      "  if getattr(data, 'base', None) is not None and \\\n"
     ]
    },
    {
     "name": "stdout",
     "output_type": "stream",
     "text": [
      "       Train     Test\n",
      "R2    0.9939   0.9702\n",
      "MSE   2.0250  10.1622\n",
      "RMSE  1.4230   3.1878\n",
      "MAE   0.6646   0.9939\n"
     ]
    },
    {
     "data": {
      "text/plain": [
       "[None]"
      ]
     },
     "execution_count": 467,
     "metadata": {},
     "output_type": "execute_result"
    }
   ],
   "source": [
    "model_scores(xg, x_train, y_train, x_test, y_test)"
   ]
  },
  {
   "cell_type": "code",
   "execution_count": 324,
   "metadata": {
    "ExecuteTime": {
     "end_time": "2020-01-04T14:58:15.860371Z",
     "start_time": "2020-01-04T14:58:15.524561Z"
    }
   },
   "outputs": [
    {
     "data": {
      "image/png": "[encoded data removed]",
      "text/plain": [
       "<Figure size 432x288 with 1 Axes>"
      ]
     },
     "metadata": {},
     "output_type": "display_data"
    }
   ],
   "source": [
    "plot_feat_imp(tree, x_train.shape[1], features_df.columns.tolist())"
   ]
  },
  {
   "cell_type": "code",
   "execution_count": 325,
   "metadata": {
    "ExecuteTime": {
     "end_time": "2020-01-04T14:58:54.491900Z",
     "start_time": "2020-01-04T14:58:46.862324Z"
    },
    "scrolled": true
   },
   "outputs": [
    {
     "name": "stderr",
     "output_type": "stream",
     "text": [
      "C:\\Users\\miquel.vallverdu\\AppData\\Local\\Continuum\\anaconda3\\lib\\site-packages\\xgboost\\core.py:587: FutureWarning: Series.base is deprecated and will be removed in a future version\n",
      "  if getattr(data, 'base', None) is not None and \\\n"
     ]
    },
    {
     "name": "stdout",
     "output_type": "stream",
     "text": [
      "[15:58:46] WARNING: src/objective/regression_obj.cu:152: reg:linear is now deprecated in favor of reg:squarederror.\n",
      "[0]\tvalidation_0-rmse:18.248\tvalidation_1-rmse:18.8231\n",
      "Multiple eval metrics have been passed: 'validation_1-rmse' will be used for early stopping.\n",
      "\n",
      "Will train until validation_1-rmse hasn't improved in 100 rounds.\n",
      "[1]\tvalidation_0-rmse:16.4987\tvalidation_1-rmse:17.101\n",
      "[2]\tvalidation_0-rmse:14.9819\tvalidation_1-rmse:15.6046\n",
      "[3]\tvalidation_0-rmse:13.5636\tvalidation_1-rmse:14.2059\n",
      "[4]\tvalidation_0-rmse:12.2747\tvalidation_1-rmse:12.9173\n",
      "[5]\tvalidation_0-rmse:11.1326\tvalidation_1-rmse:11.7843\n",
      "[6]\tvalidation_0-rmse:10.0768\tvalidation_1-rmse:10.7948\n",
      "[7]\tvalidation_0-rmse:9.15475\tvalidation_1-rmse:9.89804\n",
      "[8]\tvalidation_0-rmse:8.32471\tvalidation_1-rmse:9.13763\n",
      "[9]\tvalidation_0-rmse:7.58151\tvalidation_1-rmse:8.41862\n",
      "[10]\tvalidation_0-rmse:6.90821\tvalidation_1-rmse:7.79246\n",
      "[11]\tvalidation_0-rmse:6.32172\tvalidation_1-rmse:7.2214\n",
      "[12]\tvalidation_0-rmse:5.7704\tvalidation_1-rmse:6.70831\n",
      "[13]\tvalidation_0-rmse:5.29251\tvalidation_1-rmse:6.30956\n",
      "[14]\tvalidation_0-rmse:4.86721\tvalidation_1-rmse:5.93401\n",
      "[15]\tvalidation_0-rmse:4.48689\tvalidation_1-rmse:5.61319\n",
      "[16]\tvalidation_0-rmse:4.231\tvalidation_1-rmse:5.39673\n",
      "[17]\tvalidation_0-rmse:3.92925\tvalidation_1-rmse:5.12628\n",
      "[18]\tvalidation_0-rmse:3.64858\tvalidation_1-rmse:4.90957\n",
      "[19]\tvalidation_0-rmse:3.413\tvalidation_1-rmse:4.72443\n",
      "[20]\tvalidation_0-rmse:3.21168\tvalidation_1-rmse:4.55725\n",
      "[21]\tvalidation_0-rmse:3.01407\tvalidation_1-rmse:4.39302\n",
      "[22]\tvalidation_0-rmse:2.84445\tvalidation_1-rmse:4.25788\n",
      "[23]\tvalidation_0-rmse:2.70924\tvalidation_1-rmse:4.15132\n",
      "[24]\tvalidation_0-rmse:2.57593\tvalidation_1-rmse:4.03\n",
      "[25]\tvalidation_0-rmse:2.46136\tvalidation_1-rmse:3.94466\n",
      "[26]\tvalidation_0-rmse:2.35823\tvalidation_1-rmse:3.86059\n",
      "[27]\tvalidation_0-rmse:2.27921\tvalidation_1-rmse:3.80193\n",
      "[28]\tvalidation_0-rmse:2.20788\tvalidation_1-rmse:3.74951\n",
      "[29]\tvalidation_0-rmse:2.13176\tvalidation_1-rmse:3.67644\n",
      "[30]\tvalidation_0-rmse:2.0775\tvalidation_1-rmse:3.64156\n",
      "[31]\tvalidation_0-rmse:2.02486\tvalidation_1-rmse:3.57431\n",
      "[32]\tvalidation_0-rmse:1.97915\tvalidation_1-rmse:3.53374\n",
      "[33]\tvalidation_0-rmse:1.9416\tvalidation_1-rmse:3.50931\n",
      "[34]\tvalidation_0-rmse:1.90038\tvalidation_1-rmse:3.49408\n",
      "[35]\tvalidation_0-rmse:1.87192\tvalidation_1-rmse:3.48603\n",
      "[36]\tvalidation_0-rmse:1.84527\tvalidation_1-rmse:3.46758\n",
      "[37]\tvalidation_0-rmse:1.82049\tvalidation_1-rmse:3.45102\n",
      "[38]\tvalidation_0-rmse:1.80656\tvalidation_1-rmse:3.44276\n",
      "[39]\tvalidation_0-rmse:1.78236\tvalidation_1-rmse:3.43195\n",
      "[40]\tvalidation_0-rmse:1.7625\tvalidation_1-rmse:3.41751\n",
      "[41]\tvalidation_0-rmse:1.74449\tvalidation_1-rmse:3.40132\n",
      "[42]\tvalidation_0-rmse:1.72863\tvalidation_1-rmse:3.39689\n",
      "[43]\tvalidation_0-rmse:1.70907\tvalidation_1-rmse:3.36677\n",
      "[44]\tvalidation_0-rmse:1.69787\tvalidation_1-rmse:3.36249\n",
      "[45]\tvalidation_0-rmse:1.68345\tvalidation_1-rmse:3.35222\n",
      "[46]\tvalidation_0-rmse:1.66992\tvalidation_1-rmse:3.34323\n",
      "[47]\tvalidation_0-rmse:1.65905\tvalidation_1-rmse:3.33014\n",
      "[48]\tvalidation_0-rmse:1.64505\tvalidation_1-rmse:3.32191\n",
      "[49]\tvalidation_0-rmse:1.63112\tvalidation_1-rmse:3.30989\n",
      "[50]\tvalidation_0-rmse:1.62159\tvalidation_1-rmse:3.30872\n",
      "[51]\tvalidation_0-rmse:1.60613\tvalidation_1-rmse:3.29642\n",
      "[52]\tvalidation_0-rmse:1.59699\tvalidation_1-rmse:3.29232\n",
      "[53]\tvalidation_0-rmse:1.58654\tvalidation_1-rmse:3.28745\n",
      "[54]\tvalidation_0-rmse:1.5781\tvalidation_1-rmse:3.28026\n",
      "[55]\tvalidation_0-rmse:1.56336\tvalidation_1-rmse:3.27552\n",
      "[56]\tvalidation_0-rmse:1.55158\tvalidation_1-rmse:3.26713\n",
      "[57]\tvalidation_0-rmse:1.54575\tvalidation_1-rmse:3.26408\n",
      "[58]\tvalidation_0-rmse:1.53589\tvalidation_1-rmse:3.25224\n",
      "[59]\tvalidation_0-rmse:1.52698\tvalidation_1-rmse:3.25048\n",
      "[60]\tvalidation_0-rmse:1.51671\tvalidation_1-rmse:3.24906\n",
      "[61]\tvalidation_0-rmse:1.50148\tvalidation_1-rmse:3.23873\n",
      "[62]\tvalidation_0-rmse:1.49639\tvalidation_1-rmse:3.23507\n",
      "[63]\tvalidation_0-rmse:1.48805\tvalidation_1-rmse:3.22574\n",
      "[64]\tvalidation_0-rmse:1.48596\tvalidation_1-rmse:3.22488\n",
      "[65]\tvalidation_0-rmse:1.47788\tvalidation_1-rmse:3.22219\n",
      "[66]\tvalidation_0-rmse:1.46644\tvalidation_1-rmse:3.21626\n",
      "[67]\tvalidation_0-rmse:1.45703\tvalidation_1-rmse:3.20458\n",
      "[68]\tvalidation_0-rmse:1.45451\tvalidation_1-rmse:3.2032\n",
      "[69]\tvalidation_0-rmse:1.44825\tvalidation_1-rmse:3.20148\n",
      "[70]\tvalidation_0-rmse:1.44105\tvalidation_1-rmse:3.19848\n",
      "[71]\tvalidation_0-rmse:1.43433\tvalidation_1-rmse:3.19016\n",
      "[72]\tvalidation_0-rmse:1.43119\tvalidation_1-rmse:3.189\n",
      "[73]\tvalidation_0-rmse:1.42851\tvalidation_1-rmse:3.19077\n",
      "[74]\tvalidation_0-rmse:1.42215\tvalidation_1-rmse:3.18761\n",
      "[75]\tvalidation_0-rmse:1.41824\tvalidation_1-rmse:3.18588\n",
      "[76]\tvalidation_0-rmse:1.414\tvalidation_1-rmse:3.18302\n",
      "[77]\tvalidation_0-rmse:1.4121\tvalidation_1-rmse:3.18169\n",
      "[78]\tvalidation_0-rmse:1.4092\tvalidation_1-rmse:3.18041\n",
      "[79]\tvalidation_0-rmse:1.40353\tvalidation_1-rmse:3.17907\n"
     ]
    },
    {
     "data": {
      "image/png": "[encoded data removed]",
      "text/plain": [
       "<Figure size 432x288 with 1 Axes>"
      ]
     },
     "metadata": {},
     "output_type": "display_data"
    }
   ],
   "source": [
    "creating_model_XGB(xg, x_train, y_train, x_test, y_test, \"rmse\", 100)"
   ]
  },
  {
   "cell_type": "code",
   "execution_count": null,
   "metadata": {},
   "outputs": [],
   "source": []
  }
 ],
 "metadata": {
  "kernelspec": {
   "display_name": "Python 3",
   "language": "python",
   "name": "python3"
  },
  "language_info": {
   "codemirror_mode": {
    "name": "ipython",
    "version": 3
   },
   "file_extension": ".py",
   "mimetype": "text/x-python",
   "name": "python",
   "nbconvert_exporter": "python",
   "pygments_lexer": "ipython3",
   "version": "3.7.3"
  },
  "toc": {
   "base_numbering": 1,
   "nav_menu": {},
   "number_sections": true,
   "sideBar": true,
   "skip_h1_title": false,
   "title_cell": "Table of Contents",
   "title_sidebar": "Contents",
   "toc_cell": false,
   "toc_position": {
    "height": "calc(100% - 180px)",
    "left": "10px",
    "top": "150px",
    "width": "311.51px"
   },
   "toc_section_display": true,
   "toc_window_display": true
  },
  "varInspector": {
   "cols": {
    "lenName": 16,
    "lenType": 16,
    "lenVar": 40
   },
   "kernels_config": {
    "python": {
     "delete_cmd_postfix": "",
     "delete_cmd_prefix": "del ",
     "library": "var_list.py",
     "varRefreshCmd": "print(var_dic_list())"
    },
    "r": {
     "delete_cmd_postfix": ") ",
     "delete_cmd_prefix": "rm(",
     "library": "var_list.r",
     "varRefreshCmd": "cat(var_dic_list()) "
    }
   },
   "types_to_exclude": [
    "module",
    "function",
    "builtin_function_or_method",
    "instance",
    "_Feature"
   ],
   "window_display": false
  }
 },
 "nbformat": 4,
 "nbformat_minor": 2
}
