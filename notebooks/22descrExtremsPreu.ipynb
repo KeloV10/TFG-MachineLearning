{
 "cells": [
  {
   "cell_type": "markdown",
   "metadata": {},
   "source": [
    "En aquest arxiu es mostra un anàlisi descriptiu per a les dades que el valor de *PreuHab* és superior a 272 euros."
   ]
  },
  {
   "cell_type": "markdown",
   "metadata": {},
   "source": [
    "## Importar"
   ]
  },
  {
   "cell_type": "code",
   "execution_count": 1,
   "metadata": {
    "ExecuteTime": {
     "end_time": "2020-01-14T10:17:39.957449Z",
     "start_time": "2020-01-14T10:17:38.178790Z"
    }
   },
   "outputs": [],
   "source": [
    "import csv\n",
    "import pandas as pd\n",
    "import numpy as np\n",
    "import seaborn as sns\n",
    "import locale\n",
    "import matplotlib\n",
    "import matplotlib.pyplot as plt\n",
    "import re\n",
    "%matplotlib inline\n",
    "matplotlib.style.use('ggplot')\n",
    "\n",
    "from IPython.core.interactiveshell import InteractiveShell\n",
    "InteractiveShell.ast_node_interactivity = \"all\"\n",
    "\n",
    "pd.set_option('display.max_columns',None)\n",
    "#pd.set_option('display.max_rows', None)"
   ]
  },
  {
   "cell_type": "code",
   "execution_count": 2,
   "metadata": {
    "ExecuteTime": {
     "end_time": "2020-01-14T10:17:40.058395Z",
     "start_time": "2020-01-14T10:17:39.960451Z"
    }
   },
   "outputs": [
    {
     "name": "stderr",
     "output_type": "stream",
     "text": [
      "C:\\Users\\miquel.vallverdu\\AppData\\Local\\Continuum\\anaconda3\\lib\\site-packages\\ipykernel_launcher.py:5: FutureWarning: 'asobject' is deprecated. Use 'astype(object)' instead\n",
      "  \"\"\"\n"
     ]
    }
   ],
   "source": [
    "mainpath = \"C:/Users/miquel.vallverdu/Desktop/Miquel/TFG/Repos/Bismart-P19824-PrediccionOcupacionHoteles_TFG_MVallverdu/dataset/\"\n",
    "#mainpath = \"C:/Users/Miquel/Desktop/Miquel/Estudis/ESTADISTICA/TFG/\"\n",
    "\n",
    "df1 = pd.read_csv(mainpath + \"dfextP.csv\", sep = \",\")\n",
    "df1.diaAño = df1.diaAño.asobject"
   ]
  },
  {
   "cell_type": "code",
   "execution_count": 3,
   "metadata": {
    "ExecuteTime": {
     "end_time": "2020-01-14T10:17:40.176325Z",
     "start_time": "2020-01-14T10:17:40.062391Z"
    },
    "scrolled": true
   },
   "outputs": [
    {
     "data": {
      "text/html": [
       "<div>\n",
       "<style scoped>\n",
       "    .dataframe tbody tr th:only-of-type {\n",
       "        vertical-align: middle;\n",
       "    }\n",
       "\n",
       "    .dataframe tbody tr th {\n",
       "        vertical-align: top;\n",
       "    }\n",
       "\n",
       "    .dataframe thead th {\n",
       "        text-align: right;\n",
       "    }\n",
       "</style>\n",
       "<table border=\"1\" class=\"dataframe\">\n",
       "  <thead>\n",
       "    <tr style=\"text-align: right;\">\n",
       "      <th></th>\n",
       "      <th>idhotel</th>\n",
       "      <th>fechaocupacion</th>\n",
       "      <th>idcliente</th>\n",
       "      <th>idtipohab</th>\n",
       "      <th>idregimen</th>\n",
       "      <th>idsegmento</th>\n",
       "      <th>id_canal</th>\n",
       "      <th>idpais_cliente</th>\n",
       "      <th>NHab</th>\n",
       "      <th>S1H</th>\n",
       "      <th>S2H</th>\n",
       "      <th>S3H</th>\n",
       "      <th>S4H</th>\n",
       "      <th>S5H</th>\n",
       "      <th>S6H</th>\n",
       "      <th>S7H</th>\n",
       "      <th>S8H</th>\n",
       "      <th>S9H</th>\n",
       "      <th>S10H</th>\n",
       "      <th>S11H</th>\n",
       "      <th>S12H</th>\n",
       "      <th>S13H</th>\n",
       "      <th>S14H</th>\n",
       "      <th>S15H</th>\n",
       "      <th>S16H</th>\n",
       "      <th>S17H</th>\n",
       "      <th>S18H</th>\n",
       "      <th>S19H</th>\n",
       "      <th>S20H</th>\n",
       "      <th>S21H</th>\n",
       "      <th>S22H</th>\n",
       "      <th>S23H</th>\n",
       "      <th>S24H</th>\n",
       "      <th>S25H</th>\n",
       "      <th>S26H</th>\n",
       "      <th>S27H</th>\n",
       "      <th>S28H</th>\n",
       "      <th>S29H</th>\n",
       "      <th>S30H</th>\n",
       "      <th>S31H</th>\n",
       "      <th>S32H</th>\n",
       "      <th>S33H</th>\n",
       "      <th>S34H</th>\n",
       "      <th>S35H</th>\n",
       "      <th>S36H</th>\n",
       "      <th>S37H</th>\n",
       "      <th>S38H</th>\n",
       "      <th>S39H</th>\n",
       "      <th>S40H</th>\n",
       "      <th>S41H</th>\n",
       "      <th>S42H</th>\n",
       "      <th>S43H</th>\n",
       "      <th>S44H</th>\n",
       "      <th>S45H</th>\n",
       "      <th>S46H</th>\n",
       "      <th>S47H</th>\n",
       "      <th>S48H</th>\n",
       "      <th>S49H</th>\n",
       "      <th>S50H</th>\n",
       "      <th>S51H</th>\n",
       "      <th>S52H</th>\n",
       "      <th>PreuHab</th>\n",
       "      <th>S1</th>\n",
       "      <th>S2</th>\n",
       "      <th>S3</th>\n",
       "      <th>S4</th>\n",
       "      <th>S5</th>\n",
       "      <th>S6</th>\n",
       "      <th>S7</th>\n",
       "      <th>S8</th>\n",
       "      <th>S9</th>\n",
       "      <th>S10</th>\n",
       "      <th>S11</th>\n",
       "      <th>S12</th>\n",
       "      <th>S13</th>\n",
       "      <th>S14</th>\n",
       "      <th>S15</th>\n",
       "      <th>S16</th>\n",
       "      <th>S17</th>\n",
       "      <th>S18</th>\n",
       "      <th>S19</th>\n",
       "      <th>S20</th>\n",
       "      <th>S21</th>\n",
       "      <th>S22</th>\n",
       "      <th>S23</th>\n",
       "      <th>S24</th>\n",
       "      <th>S25</th>\n",
       "      <th>S26</th>\n",
       "      <th>S27</th>\n",
       "      <th>S28</th>\n",
       "      <th>S29</th>\n",
       "      <th>S30</th>\n",
       "      <th>S31</th>\n",
       "      <th>S32</th>\n",
       "      <th>S33</th>\n",
       "      <th>S34</th>\n",
       "      <th>S35</th>\n",
       "      <th>S36</th>\n",
       "      <th>S37</th>\n",
       "      <th>S38</th>\n",
       "      <th>S39</th>\n",
       "      <th>S40</th>\n",
       "      <th>S41</th>\n",
       "      <th>S42</th>\n",
       "      <th>S43</th>\n",
       "      <th>S44</th>\n",
       "      <th>S45</th>\n",
       "      <th>S46</th>\n",
       "      <th>S47</th>\n",
       "      <th>S48</th>\n",
       "      <th>S49</th>\n",
       "      <th>S50</th>\n",
       "      <th>S51</th>\n",
       "      <th>S52</th>\n",
       "      <th>diaAño</th>\n",
       "    </tr>\n",
       "  </thead>\n",
       "  <tbody>\n",
       "    <tr>\n",
       "      <th>0</th>\n",
       "      <td>TOS</td>\n",
       "      <td>2018-03-31</td>\n",
       "      <td>Huespedes</td>\n",
       "      <td>FAM</td>\n",
       "      <td>PC</td>\n",
       "      <td>DESCONOCIDO</td>\n",
       "      <td>DESCONOCIDO</td>\n",
       "      <td>ES</td>\n",
       "      <td>2</td>\n",
       "      <td>0</td>\n",
       "      <td>0</td>\n",
       "      <td>0</td>\n",
       "      <td>0</td>\n",
       "      <td>0</td>\n",
       "      <td>0</td>\n",
       "      <td>0</td>\n",
       "      <td>0</td>\n",
       "      <td>0</td>\n",
       "      <td>0</td>\n",
       "      <td>0</td>\n",
       "      <td>0</td>\n",
       "      <td>0</td>\n",
       "      <td>0</td>\n",
       "      <td>0</td>\n",
       "      <td>0</td>\n",
       "      <td>0</td>\n",
       "      <td>0</td>\n",
       "      <td>0</td>\n",
       "      <td>0</td>\n",
       "      <td>0</td>\n",
       "      <td>0</td>\n",
       "      <td>0</td>\n",
       "      <td>0</td>\n",
       "      <td>0</td>\n",
       "      <td>0</td>\n",
       "      <td>0</td>\n",
       "      <td>0</td>\n",
       "      <td>0</td>\n",
       "      <td>0</td>\n",
       "      <td>0</td>\n",
       "      <td>0</td>\n",
       "      <td>0</td>\n",
       "      <td>0</td>\n",
       "      <td>0</td>\n",
       "      <td>0</td>\n",
       "      <td>0</td>\n",
       "      <td>0</td>\n",
       "      <td>0</td>\n",
       "      <td>0</td>\n",
       "      <td>0</td>\n",
       "      <td>0</td>\n",
       "      <td>0</td>\n",
       "      <td>0</td>\n",
       "      <td>0</td>\n",
       "      <td>0</td>\n",
       "      <td>0</td>\n",
       "      <td>0</td>\n",
       "      <td>0</td>\n",
       "      <td>0</td>\n",
       "      <td>0</td>\n",
       "      <td>0</td>\n",
       "      <td>278.681818</td>\n",
       "      <td>278.681818</td>\n",
       "      <td>278.681818</td>\n",
       "      <td>278.681818</td>\n",
       "      <td>278.681818</td>\n",
       "      <td>278.681818</td>\n",
       "      <td>278.681818</td>\n",
       "      <td>278.681818</td>\n",
       "      <td>278.681818</td>\n",
       "      <td>278.681818</td>\n",
       "      <td>278.681818</td>\n",
       "      <td>278.681818</td>\n",
       "      <td>278.681818</td>\n",
       "      <td>278.681818</td>\n",
       "      <td>278.681818</td>\n",
       "      <td>278.681818</td>\n",
       "      <td>278.681818</td>\n",
       "      <td>278.681818</td>\n",
       "      <td>278.681818</td>\n",
       "      <td>278.681818</td>\n",
       "      <td>278.681818</td>\n",
       "      <td>278.681818</td>\n",
       "      <td>278.681818</td>\n",
       "      <td>278.681818</td>\n",
       "      <td>278.681818</td>\n",
       "      <td>278.681818</td>\n",
       "      <td>278.681818</td>\n",
       "      <td>278.681818</td>\n",
       "      <td>278.681818</td>\n",
       "      <td>278.681818</td>\n",
       "      <td>278.681818</td>\n",
       "      <td>278.681818</td>\n",
       "      <td>278.681818</td>\n",
       "      <td>278.681818</td>\n",
       "      <td>278.681818</td>\n",
       "      <td>278.681818</td>\n",
       "      <td>278.681818</td>\n",
       "      <td>278.681818</td>\n",
       "      <td>278.681818</td>\n",
       "      <td>278.681818</td>\n",
       "      <td>278.681818</td>\n",
       "      <td>278.681818</td>\n",
       "      <td>278.681818</td>\n",
       "      <td>278.681818</td>\n",
       "      <td>278.681818</td>\n",
       "      <td>278.681818</td>\n",
       "      <td>278.681818</td>\n",
       "      <td>278.681818</td>\n",
       "      <td>278.681818</td>\n",
       "      <td>278.681818</td>\n",
       "      <td>278.681818</td>\n",
       "      <td>278.681818</td>\n",
       "      <td>278.681818</td>\n",
       "      <td>90</td>\n",
       "    </tr>\n",
       "    <tr>\n",
       "      <th>1</th>\n",
       "      <td>TOS</td>\n",
       "      <td>2018-03-30</td>\n",
       "      <td>Huespedes</td>\n",
       "      <td>FAM</td>\n",
       "      <td>PC</td>\n",
       "      <td>DESCONOCIDO</td>\n",
       "      <td>DESCONOCIDO</td>\n",
       "      <td>ES</td>\n",
       "      <td>1</td>\n",
       "      <td>0</td>\n",
       "      <td>0</td>\n",
       "      <td>0</td>\n",
       "      <td>0</td>\n",
       "      <td>0</td>\n",
       "      <td>0</td>\n",
       "      <td>0</td>\n",
       "      <td>0</td>\n",
       "      <td>0</td>\n",
       "      <td>0</td>\n",
       "      <td>0</td>\n",
       "      <td>0</td>\n",
       "      <td>0</td>\n",
       "      <td>0</td>\n",
       "      <td>0</td>\n",
       "      <td>0</td>\n",
       "      <td>0</td>\n",
       "      <td>0</td>\n",
       "      <td>0</td>\n",
       "      <td>0</td>\n",
       "      <td>0</td>\n",
       "      <td>0</td>\n",
       "      <td>0</td>\n",
       "      <td>0</td>\n",
       "      <td>0</td>\n",
       "      <td>0</td>\n",
       "      <td>0</td>\n",
       "      <td>0</td>\n",
       "      <td>0</td>\n",
       "      <td>0</td>\n",
       "      <td>0</td>\n",
       "      <td>0</td>\n",
       "      <td>0</td>\n",
       "      <td>0</td>\n",
       "      <td>0</td>\n",
       "      <td>0</td>\n",
       "      <td>0</td>\n",
       "      <td>0</td>\n",
       "      <td>0</td>\n",
       "      <td>0</td>\n",
       "      <td>0</td>\n",
       "      <td>0</td>\n",
       "      <td>0</td>\n",
       "      <td>0</td>\n",
       "      <td>0</td>\n",
       "      <td>0</td>\n",
       "      <td>0</td>\n",
       "      <td>0</td>\n",
       "      <td>0</td>\n",
       "      <td>0</td>\n",
       "      <td>0</td>\n",
       "      <td>0</td>\n",
       "      <td>290.909090</td>\n",
       "      <td>290.909090</td>\n",
       "      <td>290.909090</td>\n",
       "      <td>290.909090</td>\n",
       "      <td>290.909090</td>\n",
       "      <td>290.909090</td>\n",
       "      <td>290.909090</td>\n",
       "      <td>290.909090</td>\n",
       "      <td>290.909090</td>\n",
       "      <td>290.909090</td>\n",
       "      <td>290.909090</td>\n",
       "      <td>290.909090</td>\n",
       "      <td>290.909090</td>\n",
       "      <td>290.909090</td>\n",
       "      <td>290.909090</td>\n",
       "      <td>290.909090</td>\n",
       "      <td>290.909090</td>\n",
       "      <td>290.909090</td>\n",
       "      <td>290.909090</td>\n",
       "      <td>290.909090</td>\n",
       "      <td>290.909090</td>\n",
       "      <td>290.909090</td>\n",
       "      <td>290.909090</td>\n",
       "      <td>290.909090</td>\n",
       "      <td>290.909090</td>\n",
       "      <td>290.909090</td>\n",
       "      <td>290.909090</td>\n",
       "      <td>290.909090</td>\n",
       "      <td>290.909090</td>\n",
       "      <td>290.909090</td>\n",
       "      <td>290.909090</td>\n",
       "      <td>290.909090</td>\n",
       "      <td>290.909090</td>\n",
       "      <td>290.909090</td>\n",
       "      <td>290.909090</td>\n",
       "      <td>290.909090</td>\n",
       "      <td>290.909090</td>\n",
       "      <td>290.909090</td>\n",
       "      <td>290.909090</td>\n",
       "      <td>290.909090</td>\n",
       "      <td>290.909090</td>\n",
       "      <td>290.909090</td>\n",
       "      <td>290.909090</td>\n",
       "      <td>290.909090</td>\n",
       "      <td>290.909090</td>\n",
       "      <td>290.909090</td>\n",
       "      <td>290.909090</td>\n",
       "      <td>290.909090</td>\n",
       "      <td>290.909090</td>\n",
       "      <td>290.909090</td>\n",
       "      <td>290.909090</td>\n",
       "      <td>290.909090</td>\n",
       "      <td>290.909090</td>\n",
       "      <td>89</td>\n",
       "    </tr>\n",
       "    <tr>\n",
       "      <th>2</th>\n",
       "      <td>TOS</td>\n",
       "      <td>2018-04-01</td>\n",
       "      <td>Huespedes</td>\n",
       "      <td>SUI</td>\n",
       "      <td>PC</td>\n",
       "      <td>DESCONOCIDO</td>\n",
       "      <td>DESCONOCIDO</td>\n",
       "      <td>ES</td>\n",
       "      <td>1</td>\n",
       "      <td>1</td>\n",
       "      <td>1</td>\n",
       "      <td>1</td>\n",
       "      <td>1</td>\n",
       "      <td>1</td>\n",
       "      <td>1</td>\n",
       "      <td>1</td>\n",
       "      <td>1</td>\n",
       "      <td>1</td>\n",
       "      <td>2</td>\n",
       "      <td>2</td>\n",
       "      <td>2</td>\n",
       "      <td>2</td>\n",
       "      <td>2</td>\n",
       "      <td>2</td>\n",
       "      <td>1</td>\n",
       "      <td>1</td>\n",
       "      <td>1</td>\n",
       "      <td>1</td>\n",
       "      <td>1</td>\n",
       "      <td>1</td>\n",
       "      <td>1</td>\n",
       "      <td>0</td>\n",
       "      <td>0</td>\n",
       "      <td>0</td>\n",
       "      <td>0</td>\n",
       "      <td>0</td>\n",
       "      <td>0</td>\n",
       "      <td>0</td>\n",
       "      <td>0</td>\n",
       "      <td>0</td>\n",
       "      <td>0</td>\n",
       "      <td>0</td>\n",
       "      <td>0</td>\n",
       "      <td>0</td>\n",
       "      <td>0</td>\n",
       "      <td>0</td>\n",
       "      <td>0</td>\n",
       "      <td>0</td>\n",
       "      <td>0</td>\n",
       "      <td>0</td>\n",
       "      <td>0</td>\n",
       "      <td>0</td>\n",
       "      <td>0</td>\n",
       "      <td>0</td>\n",
       "      <td>0</td>\n",
       "      <td>0</td>\n",
       "      <td>0</td>\n",
       "      <td>0</td>\n",
       "      <td>0</td>\n",
       "      <td>0</td>\n",
       "      <td>0</td>\n",
       "      <td>276.472728</td>\n",
       "      <td>276.472728</td>\n",
       "      <td>276.472728</td>\n",
       "      <td>276.472728</td>\n",
       "      <td>276.472728</td>\n",
       "      <td>276.472728</td>\n",
       "      <td>276.472728</td>\n",
       "      <td>276.472728</td>\n",
       "      <td>276.472728</td>\n",
       "      <td>276.472728</td>\n",
       "      <td>276.472728</td>\n",
       "      <td>276.472728</td>\n",
       "      <td>276.472728</td>\n",
       "      <td>276.472728</td>\n",
       "      <td>276.472728</td>\n",
       "      <td>276.472728</td>\n",
       "      <td>276.472728</td>\n",
       "      <td>276.472728</td>\n",
       "      <td>276.472728</td>\n",
       "      <td>276.472728</td>\n",
       "      <td>276.472728</td>\n",
       "      <td>276.472728</td>\n",
       "      <td>276.472728</td>\n",
       "      <td>276.472728</td>\n",
       "      <td>276.472728</td>\n",
       "      <td>276.472728</td>\n",
       "      <td>276.472728</td>\n",
       "      <td>276.472728</td>\n",
       "      <td>276.472728</td>\n",
       "      <td>276.472728</td>\n",
       "      <td>276.472728</td>\n",
       "      <td>276.472728</td>\n",
       "      <td>276.472728</td>\n",
       "      <td>276.472728</td>\n",
       "      <td>276.472728</td>\n",
       "      <td>276.472728</td>\n",
       "      <td>276.472728</td>\n",
       "      <td>276.472728</td>\n",
       "      <td>276.472728</td>\n",
       "      <td>276.472728</td>\n",
       "      <td>276.472728</td>\n",
       "      <td>276.472728</td>\n",
       "      <td>276.472728</td>\n",
       "      <td>276.472728</td>\n",
       "      <td>276.472728</td>\n",
       "      <td>276.472728</td>\n",
       "      <td>276.472728</td>\n",
       "      <td>276.472728</td>\n",
       "      <td>276.472728</td>\n",
       "      <td>276.472728</td>\n",
       "      <td>276.472728</td>\n",
       "      <td>276.472728</td>\n",
       "      <td>276.472728</td>\n",
       "      <td>91</td>\n",
       "    </tr>\n",
       "    <tr>\n",
       "      <th>3</th>\n",
       "      <td>PAV</td>\n",
       "      <td>2018-04-01</td>\n",
       "      <td>Otros</td>\n",
       "      <td>DBL</td>\n",
       "      <td>PC</td>\n",
       "      <td>DESCONOCIDO</td>\n",
       "      <td>DESCONOCIDO</td>\n",
       "      <td>ES</td>\n",
       "      <td>1</td>\n",
       "      <td>1</td>\n",
       "      <td>1</td>\n",
       "      <td>2</td>\n",
       "      <td>1</td>\n",
       "      <td>2</td>\n",
       "      <td>2</td>\n",
       "      <td>2</td>\n",
       "      <td>0</td>\n",
       "      <td>0</td>\n",
       "      <td>0</td>\n",
       "      <td>0</td>\n",
       "      <td>0</td>\n",
       "      <td>0</td>\n",
       "      <td>0</td>\n",
       "      <td>0</td>\n",
       "      <td>0</td>\n",
       "      <td>0</td>\n",
       "      <td>0</td>\n",
       "      <td>0</td>\n",
       "      <td>0</td>\n",
       "      <td>0</td>\n",
       "      <td>0</td>\n",
       "      <td>0</td>\n",
       "      <td>0</td>\n",
       "      <td>0</td>\n",
       "      <td>0</td>\n",
       "      <td>0</td>\n",
       "      <td>0</td>\n",
       "      <td>0</td>\n",
       "      <td>0</td>\n",
       "      <td>0</td>\n",
       "      <td>0</td>\n",
       "      <td>0</td>\n",
       "      <td>0</td>\n",
       "      <td>0</td>\n",
       "      <td>0</td>\n",
       "      <td>0</td>\n",
       "      <td>0</td>\n",
       "      <td>0</td>\n",
       "      <td>0</td>\n",
       "      <td>0</td>\n",
       "      <td>0</td>\n",
       "      <td>0</td>\n",
       "      <td>0</td>\n",
       "      <td>0</td>\n",
       "      <td>0</td>\n",
       "      <td>0</td>\n",
       "      <td>0</td>\n",
       "      <td>0</td>\n",
       "      <td>0</td>\n",
       "      <td>0</td>\n",
       "      <td>0</td>\n",
       "      <td>327.390911</td>\n",
       "      <td>327.390911</td>\n",
       "      <td>327.390911</td>\n",
       "      <td>202.809092</td>\n",
       "      <td>231.154549</td>\n",
       "      <td>163.354547</td>\n",
       "      <td>163.354547</td>\n",
       "      <td>163.354547</td>\n",
       "      <td>163.354547</td>\n",
       "      <td>163.354547</td>\n",
       "      <td>163.354547</td>\n",
       "      <td>163.354547</td>\n",
       "      <td>163.354547</td>\n",
       "      <td>163.354547</td>\n",
       "      <td>163.354547</td>\n",
       "      <td>163.354547</td>\n",
       "      <td>163.354547</td>\n",
       "      <td>163.354547</td>\n",
       "      <td>163.354547</td>\n",
       "      <td>163.354547</td>\n",
       "      <td>163.354547</td>\n",
       "      <td>163.354547</td>\n",
       "      <td>163.354547</td>\n",
       "      <td>163.354547</td>\n",
       "      <td>163.354547</td>\n",
       "      <td>163.354547</td>\n",
       "      <td>163.354547</td>\n",
       "      <td>163.354547</td>\n",
       "      <td>163.354547</td>\n",
       "      <td>163.354547</td>\n",
       "      <td>163.354547</td>\n",
       "      <td>163.354547</td>\n",
       "      <td>163.354547</td>\n",
       "      <td>163.354547</td>\n",
       "      <td>163.354547</td>\n",
       "      <td>163.354547</td>\n",
       "      <td>163.354547</td>\n",
       "      <td>163.354547</td>\n",
       "      <td>163.354547</td>\n",
       "      <td>163.354547</td>\n",
       "      <td>163.354547</td>\n",
       "      <td>163.354547</td>\n",
       "      <td>163.354547</td>\n",
       "      <td>163.354547</td>\n",
       "      <td>163.354547</td>\n",
       "      <td>163.354547</td>\n",
       "      <td>163.354547</td>\n",
       "      <td>163.354547</td>\n",
       "      <td>163.354547</td>\n",
       "      <td>163.354547</td>\n",
       "      <td>163.354547</td>\n",
       "      <td>163.354547</td>\n",
       "      <td>163.354547</td>\n",
       "      <td>91</td>\n",
       "    </tr>\n",
       "    <tr>\n",
       "      <th>4</th>\n",
       "      <td>MME</td>\n",
       "      <td>2018-04-05</td>\n",
       "      <td>Otros</td>\n",
       "      <td>DBL</td>\n",
       "      <td>MP</td>\n",
       "      <td>DESCONOCIDO</td>\n",
       "      <td>DESCONOCIDO</td>\n",
       "      <td>CE</td>\n",
       "      <td>2</td>\n",
       "      <td>2</td>\n",
       "      <td>2</td>\n",
       "      <td>2</td>\n",
       "      <td>2</td>\n",
       "      <td>2</td>\n",
       "      <td>2</td>\n",
       "      <td>2</td>\n",
       "      <td>2</td>\n",
       "      <td>2</td>\n",
       "      <td>1</td>\n",
       "      <td>1</td>\n",
       "      <td>1</td>\n",
       "      <td>1</td>\n",
       "      <td>1</td>\n",
       "      <td>1</td>\n",
       "      <td>1</td>\n",
       "      <td>1</td>\n",
       "      <td>1</td>\n",
       "      <td>1</td>\n",
       "      <td>1</td>\n",
       "      <td>1</td>\n",
       "      <td>1</td>\n",
       "      <td>1</td>\n",
       "      <td>1</td>\n",
       "      <td>0</td>\n",
       "      <td>0</td>\n",
       "      <td>0</td>\n",
       "      <td>0</td>\n",
       "      <td>0</td>\n",
       "      <td>0</td>\n",
       "      <td>0</td>\n",
       "      <td>0</td>\n",
       "      <td>0</td>\n",
       "      <td>0</td>\n",
       "      <td>0</td>\n",
       "      <td>0</td>\n",
       "      <td>0</td>\n",
       "      <td>0</td>\n",
       "      <td>0</td>\n",
       "      <td>0</td>\n",
       "      <td>0</td>\n",
       "      <td>0</td>\n",
       "      <td>0</td>\n",
       "      <td>0</td>\n",
       "      <td>0</td>\n",
       "      <td>0</td>\n",
       "      <td>0</td>\n",
       "      <td>0</td>\n",
       "      <td>0</td>\n",
       "      <td>0</td>\n",
       "      <td>0</td>\n",
       "      <td>0</td>\n",
       "      <td>553.500000</td>\n",
       "      <td>553.500000</td>\n",
       "      <td>553.500000</td>\n",
       "      <td>553.500000</td>\n",
       "      <td>553.500000</td>\n",
       "      <td>553.500000</td>\n",
       "      <td>553.500000</td>\n",
       "      <td>553.500000</td>\n",
       "      <td>553.500000</td>\n",
       "      <td>553.500000</td>\n",
       "      <td>85.363636</td>\n",
       "      <td>85.363636</td>\n",
       "      <td>85.363636</td>\n",
       "      <td>85.363636</td>\n",
       "      <td>85.363636</td>\n",
       "      <td>85.363636</td>\n",
       "      <td>85.363636</td>\n",
       "      <td>85.363636</td>\n",
       "      <td>85.363636</td>\n",
       "      <td>85.363636</td>\n",
       "      <td>85.363636</td>\n",
       "      <td>85.363636</td>\n",
       "      <td>85.363636</td>\n",
       "      <td>85.363636</td>\n",
       "      <td>85.363636</td>\n",
       "      <td>85.363636</td>\n",
       "      <td>85.363636</td>\n",
       "      <td>85.363636</td>\n",
       "      <td>85.363636</td>\n",
       "      <td>85.363636</td>\n",
       "      <td>85.363636</td>\n",
       "      <td>85.363636</td>\n",
       "      <td>85.363636</td>\n",
       "      <td>85.363636</td>\n",
       "      <td>85.363636</td>\n",
       "      <td>85.363636</td>\n",
       "      <td>85.363636</td>\n",
       "      <td>85.363636</td>\n",
       "      <td>85.363636</td>\n",
       "      <td>85.363636</td>\n",
       "      <td>85.363636</td>\n",
       "      <td>85.363636</td>\n",
       "      <td>85.363636</td>\n",
       "      <td>85.363636</td>\n",
       "      <td>85.363636</td>\n",
       "      <td>85.363636</td>\n",
       "      <td>85.363636</td>\n",
       "      <td>85.363636</td>\n",
       "      <td>85.363636</td>\n",
       "      <td>85.363636</td>\n",
       "      <td>85.363636</td>\n",
       "      <td>85.363636</td>\n",
       "      <td>85.363636</td>\n",
       "      <td>95</td>\n",
       "    </tr>\n",
       "  </tbody>\n",
       "</table>\n",
       "</div>"
      ],
      "text/plain": [
       "  idhotel fechaocupacion  idcliente idtipohab idregimen   idsegmento  \\\n",
       "0     TOS     2018-03-31  Huespedes       FAM        PC  DESCONOCIDO   \n",
       "1     TOS     2018-03-30  Huespedes       FAM        PC  DESCONOCIDO   \n",
       "2     TOS     2018-04-01  Huespedes       SUI        PC  DESCONOCIDO   \n",
       "3     PAV     2018-04-01      Otros       DBL        PC  DESCONOCIDO   \n",
       "4     MME     2018-04-05      Otros       DBL        MP  DESCONOCIDO   \n",
       "\n",
       "      id_canal idpais_cliente  NHab  S1H  S2H  S3H  S4H  S5H  S6H  S7H  S8H  \\\n",
       "0  DESCONOCIDO             ES     2    0    0    0    0    0    0    0    0   \n",
       "1  DESCONOCIDO             ES     1    0    0    0    0    0    0    0    0   \n",
       "2  DESCONOCIDO             ES     1    1    1    1    1    1    1    1    1   \n",
       "3  DESCONOCIDO             ES     1    1    1    2    1    2    2    2    0   \n",
       "4  DESCONOCIDO             CE     2    2    2    2    2    2    2    2    2   \n",
       "\n",
       "   S9H  S10H  S11H  S12H  S13H  S14H  S15H  S16H  S17H  S18H  S19H  S20H  \\\n",
       "0    0     0     0     0     0     0     0     0     0     0     0     0   \n",
       "1    0     0     0     0     0     0     0     0     0     0     0     0   \n",
       "2    1     2     2     2     2     2     2     1     1     1     1     1   \n",
       "3    0     0     0     0     0     0     0     0     0     0     0     0   \n",
       "4    2     1     1     1     1     1     1     1     1     1     1     1   \n",
       "\n",
       "   S21H  S22H  S23H  S24H  S25H  S26H  S27H  S28H  S29H  S30H  S31H  S32H  \\\n",
       "0     0     0     0     0     0     0     0     0     0     0     0     0   \n",
       "1     0     0     0     0     0     0     0     0     0     0     0     0   \n",
       "2     1     1     0     0     0     0     0     0     0     0     0     0   \n",
       "3     0     0     0     0     0     0     0     0     0     0     0     0   \n",
       "4     1     1     1     1     0     0     0     0     0     0     0     0   \n",
       "\n",
       "   S33H  S34H  S35H  S36H  S37H  S38H  S39H  S40H  S41H  S42H  S43H  S44H  \\\n",
       "0     0     0     0     0     0     0     0     0     0     0     0     0   \n",
       "1     0     0     0     0     0     0     0     0     0     0     0     0   \n",
       "2     0     0     0     0     0     0     0     0     0     0     0     0   \n",
       "3     0     0     0     0     0     0     0     0     0     0     0     0   \n",
       "4     0     0     0     0     0     0     0     0     0     0     0     0   \n",
       "\n",
       "   S45H  S46H  S47H  S48H  S49H  S50H  S51H  S52H     PreuHab          S1  \\\n",
       "0     0     0     0     0     0     0     0     0  278.681818  278.681818   \n",
       "1     0     0     0     0     0     0     0     0  290.909090  290.909090   \n",
       "2     0     0     0     0     0     0     0     0  276.472728  276.472728   \n",
       "3     0     0     0     0     0     0     0     0  327.390911  327.390911   \n",
       "4     0     0     0     0     0     0     0     0  553.500000  553.500000   \n",
       "\n",
       "           S2          S3          S4          S5          S6          S7  \\\n",
       "0  278.681818  278.681818  278.681818  278.681818  278.681818  278.681818   \n",
       "1  290.909090  290.909090  290.909090  290.909090  290.909090  290.909090   \n",
       "2  276.472728  276.472728  276.472728  276.472728  276.472728  276.472728   \n",
       "3  327.390911  202.809092  231.154549  163.354547  163.354547  163.354547   \n",
       "4  553.500000  553.500000  553.500000  553.500000  553.500000  553.500000   \n",
       "\n",
       "           S8          S9         S10         S11         S12         S13  \\\n",
       "0  278.681818  278.681818  278.681818  278.681818  278.681818  278.681818   \n",
       "1  290.909090  290.909090  290.909090  290.909090  290.909090  290.909090   \n",
       "2  276.472728  276.472728  276.472728  276.472728  276.472728  276.472728   \n",
       "3  163.354547  163.354547  163.354547  163.354547  163.354547  163.354547   \n",
       "4  553.500000  553.500000   85.363636   85.363636   85.363636   85.363636   \n",
       "\n",
       "          S14         S15         S16         S17         S18         S19  \\\n",
       "0  278.681818  278.681818  278.681818  278.681818  278.681818  278.681818   \n",
       "1  290.909090  290.909090  290.909090  290.909090  290.909090  290.909090   \n",
       "2  276.472728  276.472728  276.472728  276.472728  276.472728  276.472728   \n",
       "3  163.354547  163.354547  163.354547  163.354547  163.354547  163.354547   \n",
       "4   85.363636   85.363636   85.363636   85.363636   85.363636   85.363636   \n",
       "\n",
       "          S20         S21         S22         S23         S24         S25  \\\n",
       "0  278.681818  278.681818  278.681818  278.681818  278.681818  278.681818   \n",
       "1  290.909090  290.909090  290.909090  290.909090  290.909090  290.909090   \n",
       "2  276.472728  276.472728  276.472728  276.472728  276.472728  276.472728   \n",
       "3  163.354547  163.354547  163.354547  163.354547  163.354547  163.354547   \n",
       "4   85.363636   85.363636   85.363636   85.363636   85.363636   85.363636   \n",
       "\n",
       "          S26         S27         S28         S29         S30         S31  \\\n",
       "0  278.681818  278.681818  278.681818  278.681818  278.681818  278.681818   \n",
       "1  290.909090  290.909090  290.909090  290.909090  290.909090  290.909090   \n",
       "2  276.472728  276.472728  276.472728  276.472728  276.472728  276.472728   \n",
       "3  163.354547  163.354547  163.354547  163.354547  163.354547  163.354547   \n",
       "4   85.363636   85.363636   85.363636   85.363636   85.363636   85.363636   \n",
       "\n",
       "          S32         S33         S34         S35         S36         S37  \\\n",
       "0  278.681818  278.681818  278.681818  278.681818  278.681818  278.681818   \n",
       "1  290.909090  290.909090  290.909090  290.909090  290.909090  290.909090   \n",
       "2  276.472728  276.472728  276.472728  276.472728  276.472728  276.472728   \n",
       "3  163.354547  163.354547  163.354547  163.354547  163.354547  163.354547   \n",
       "4   85.363636   85.363636   85.363636   85.363636   85.363636   85.363636   \n",
       "\n",
       "          S38         S39         S40         S41         S42         S43  \\\n",
       "0  278.681818  278.681818  278.681818  278.681818  278.681818  278.681818   \n",
       "1  290.909090  290.909090  290.909090  290.909090  290.909090  290.909090   \n",
       "2  276.472728  276.472728  276.472728  276.472728  276.472728  276.472728   \n",
       "3  163.354547  163.354547  163.354547  163.354547  163.354547  163.354547   \n",
       "4   85.363636   85.363636   85.363636   85.363636   85.363636   85.363636   \n",
       "\n",
       "          S44         S45         S46         S47         S48         S49  \\\n",
       "0  278.681818  278.681818  278.681818  278.681818  278.681818  278.681818   \n",
       "1  290.909090  290.909090  290.909090  290.909090  290.909090  290.909090   \n",
       "2  276.472728  276.472728  276.472728  276.472728  276.472728  276.472728   \n",
       "3  163.354547  163.354547  163.354547  163.354547  163.354547  163.354547   \n",
       "4   85.363636   85.363636   85.363636   85.363636   85.363636   85.363636   \n",
       "\n",
       "          S50         S51         S52 diaAño  \n",
       "0  278.681818  278.681818  278.681818     90  \n",
       "1  290.909090  290.909090  290.909090     89  \n",
       "2  276.472728  276.472728  276.472728     91  \n",
       "3  163.354547  163.354547  163.354547     91  \n",
       "4   85.363636   85.363636   85.363636     95  "
      ]
     },
     "execution_count": 3,
     "metadata": {},
     "output_type": "execute_result"
    },
    {
     "data": {
      "text/plain": [
       "(2375, 115)"
      ]
     },
     "execution_count": 3,
     "metadata": {},
     "output_type": "execute_result"
    }
   ],
   "source": [
    "df1.head()\n",
    "df1.shape"
   ]
  },
  {
   "cell_type": "markdown",
   "metadata": {},
   "source": [
    "## Llistes segons variable"
   ]
  },
  {
   "cell_type": "code",
   "execution_count": 4,
   "metadata": {
    "ExecuteTime": {
     "end_time": "2020-01-14T10:17:40.698026Z",
     "start_time": "2020-01-14T10:17:40.179323Z"
    }
   },
   "outputs": [
    {
     "data": {
      "text/plain": [
       "['idhotel',\n",
       " 'fechaocupacion',\n",
       " 'idcliente',\n",
       " 'idtipohab',\n",
       " 'idregimen',\n",
       " 'idsegmento',\n",
       " 'id_canal',\n",
       " 'idpais_cliente',\n",
       " 'diaAño']"
      ]
     },
     "execution_count": 4,
     "metadata": {},
     "output_type": "execute_result"
    },
    {
     "data": {
      "text/plain": [
       "['NHab',\n",
       " 'S1H',\n",
       " 'S2H',\n",
       " 'S3H',\n",
       " 'S4H',\n",
       " 'S5H',\n",
       " 'S6H',\n",
       " 'S7H',\n",
       " 'S8H',\n",
       " 'S9H',\n",
       " 'S10H',\n",
       " 'S11H',\n",
       " 'S12H',\n",
       " 'S13H',\n",
       " 'S14H',\n",
       " 'S15H',\n",
       " 'S16H',\n",
       " 'S17H',\n",
       " 'S18H',\n",
       " 'S19H',\n",
       " 'S20H',\n",
       " 'S21H',\n",
       " 'S22H',\n",
       " 'S23H',\n",
       " 'S24H',\n",
       " 'S25H',\n",
       " 'S26H',\n",
       " 'S27H',\n",
       " 'S28H',\n",
       " 'S29H',\n",
       " 'S30H',\n",
       " 'S31H',\n",
       " 'S32H',\n",
       " 'S33H',\n",
       " 'S34H',\n",
       " 'S35H',\n",
       " 'S36H',\n",
       " 'S37H',\n",
       " 'S38H',\n",
       " 'S39H',\n",
       " 'S40H',\n",
       " 'S41H',\n",
       " 'S42H',\n",
       " 'S43H',\n",
       " 'S44H',\n",
       " 'S45H',\n",
       " 'S46H',\n",
       " 'S47H',\n",
       " 'S48H',\n",
       " 'S49H',\n",
       " 'S50H',\n",
       " 'S51H',\n",
       " 'S52H']"
      ]
     },
     "execution_count": 4,
     "metadata": {},
     "output_type": "execute_result"
    },
    {
     "data": {
      "text/plain": [
       "['PreuHab',\n",
       " 'S1',\n",
       " 'S2',\n",
       " 'S3',\n",
       " 'S4',\n",
       " 'S5',\n",
       " 'S6',\n",
       " 'S7',\n",
       " 'S8',\n",
       " 'S9',\n",
       " 'S10',\n",
       " 'S11',\n",
       " 'S12',\n",
       " 'S13',\n",
       " 'S14',\n",
       " 'S15',\n",
       " 'S16',\n",
       " 'S17',\n",
       " 'S18',\n",
       " 'S19',\n",
       " 'S20',\n",
       " 'S21',\n",
       " 'S22',\n",
       " 'S23',\n",
       " 'S24',\n",
       " 'S25',\n",
       " 'S26',\n",
       " 'S27',\n",
       " 'S28',\n",
       " 'S29',\n",
       " 'S30',\n",
       " 'S31',\n",
       " 'S32',\n",
       " 'S33',\n",
       " 'S34',\n",
       " 'S35',\n",
       " 'S36',\n",
       " 'S37',\n",
       " 'S38',\n",
       " 'S39',\n",
       " 'S40',\n",
       " 'S41',\n",
       " 'S42',\n",
       " 'S43',\n",
       " 'S44',\n",
       " 'S45',\n",
       " 'S46',\n",
       " 'S47',\n",
       " 'S48',\n",
       " 'S49',\n",
       " 'S50',\n",
       " 'S51',\n",
       " 'S52']"
      ]
     },
     "execution_count": 4,
     "metadata": {},
     "output_type": "execute_result"
    },
    {
     "ename": "ValueError",
     "evalue": "No objects to concatenate",
     "output_type": "error",
     "traceback": [
      "\u001b[1;31m---------------------------------------------------------------------------\u001b[0m",
      "\u001b[1;31mValueError\u001b[0m                                Traceback (most recent call last)",
      "\u001b[1;32m<ipython-input-4-115c4f565fee>\u001b[0m in \u001b[0;36m<module>\u001b[1;34m\u001b[0m\n\u001b[0;32m      2\u001b[0m \u001b[0mdf1\u001b[0m\u001b[1;33m.\u001b[0m\u001b[0mdescribe\u001b[0m\u001b[1;33m(\u001b[0m\u001b[0minclude\u001b[0m \u001b[1;33m=\u001b[0m \u001b[1;34m'int64'\u001b[0m\u001b[1;33m)\u001b[0m\u001b[1;33m.\u001b[0m\u001b[0mcolumns\u001b[0m\u001b[1;33m.\u001b[0m\u001b[0mtolist\u001b[0m\u001b[1;33m(\u001b[0m\u001b[1;33m)\u001b[0m\u001b[1;33m\u001b[0m\u001b[1;33m\u001b[0m\u001b[0m\n\u001b[0;32m      3\u001b[0m \u001b[0mdf1\u001b[0m\u001b[1;33m.\u001b[0m\u001b[0mdescribe\u001b[0m\u001b[1;33m(\u001b[0m\u001b[0minclude\u001b[0m \u001b[1;33m=\u001b[0m \u001b[1;34m'float64'\u001b[0m\u001b[1;33m)\u001b[0m\u001b[1;33m.\u001b[0m\u001b[0mcolumns\u001b[0m\u001b[1;33m.\u001b[0m\u001b[0mtolist\u001b[0m\u001b[1;33m(\u001b[0m\u001b[1;33m)\u001b[0m\u001b[1;33m\u001b[0m\u001b[1;33m\u001b[0m\u001b[0m\n\u001b[1;32m----> 4\u001b[1;33m \u001b[0mdf1\u001b[0m\u001b[1;33m.\u001b[0m\u001b[0mdescribe\u001b[0m\u001b[1;33m(\u001b[0m\u001b[0minclude\u001b[0m \u001b[1;33m=\u001b[0m \u001b[1;34m'int32'\u001b[0m\u001b[1;33m)\u001b[0m\u001b[1;33m.\u001b[0m\u001b[0mcolumns\u001b[0m\u001b[1;33m.\u001b[0m\u001b[0mtolist\u001b[0m\u001b[1;33m(\u001b[0m\u001b[1;33m)\u001b[0m\u001b[1;33m\u001b[0m\u001b[1;33m\u001b[0m\u001b[0m\n\u001b[0m",
      "\u001b[1;32m~\\AppData\\Local\\Continuum\\anaconda3\\lib\\site-packages\\pandas\\core\\generic.py\u001b[0m in \u001b[0;36mdescribe\u001b[1;34m(self, percentiles, include, exclude)\u001b[0m\n\u001b[0;32m  10283\u001b[0m                     \u001b[0mnames\u001b[0m\u001b[1;33m.\u001b[0m\u001b[0mappend\u001b[0m\u001b[1;33m(\u001b[0m\u001b[0mname\u001b[0m\u001b[1;33m)\u001b[0m\u001b[1;33m\u001b[0m\u001b[1;33m\u001b[0m\u001b[0m\n\u001b[0;32m  10284\u001b[0m \u001b[1;33m\u001b[0m\u001b[0m\n\u001b[1;32m> 10285\u001b[1;33m         \u001b[0md\u001b[0m \u001b[1;33m=\u001b[0m \u001b[0mpd\u001b[0m\u001b[1;33m.\u001b[0m\u001b[0mconcat\u001b[0m\u001b[1;33m(\u001b[0m\u001b[1;33m[\u001b[0m\u001b[0mx\u001b[0m\u001b[1;33m.\u001b[0m\u001b[0mreindex\u001b[0m\u001b[1;33m(\u001b[0m\u001b[0mnames\u001b[0m\u001b[1;33m,\u001b[0m \u001b[0mcopy\u001b[0m\u001b[1;33m=\u001b[0m\u001b[1;32mFalse\u001b[0m\u001b[1;33m)\u001b[0m \u001b[1;32mfor\u001b[0m \u001b[0mx\u001b[0m \u001b[1;32min\u001b[0m \u001b[0mldesc\u001b[0m\u001b[1;33m]\u001b[0m\u001b[1;33m,\u001b[0m \u001b[0maxis\u001b[0m\u001b[1;33m=\u001b[0m\u001b[1;36m1\u001b[0m\u001b[1;33m,\u001b[0m \u001b[0msort\u001b[0m\u001b[1;33m=\u001b[0m\u001b[1;32mFalse\u001b[0m\u001b[1;33m)\u001b[0m\u001b[1;33m\u001b[0m\u001b[1;33m\u001b[0m\u001b[0m\n\u001b[0m\u001b[0;32m  10286\u001b[0m         \u001b[0md\u001b[0m\u001b[1;33m.\u001b[0m\u001b[0mcolumns\u001b[0m \u001b[1;33m=\u001b[0m \u001b[0mdata\u001b[0m\u001b[1;33m.\u001b[0m\u001b[0mcolumns\u001b[0m\u001b[1;33m.\u001b[0m\u001b[0mcopy\u001b[0m\u001b[1;33m(\u001b[0m\u001b[1;33m)\u001b[0m\u001b[1;33m\u001b[0m\u001b[1;33m\u001b[0m\u001b[0m\n\u001b[0;32m  10287\u001b[0m         \u001b[1;32mreturn\u001b[0m \u001b[0md\u001b[0m\u001b[1;33m\u001b[0m\u001b[1;33m\u001b[0m\u001b[0m\n",
      "\u001b[1;32m~\\AppData\\Local\\Continuum\\anaconda3\\lib\\site-packages\\pandas\\core\\reshape\\concat.py\u001b[0m in \u001b[0;36mconcat\u001b[1;34m(objs, axis, join, join_axes, ignore_index, keys, levels, names, verify_integrity, sort, copy)\u001b[0m\n\u001b[0;32m    253\u001b[0m         \u001b[0mverify_integrity\u001b[0m\u001b[1;33m=\u001b[0m\u001b[0mverify_integrity\u001b[0m\u001b[1;33m,\u001b[0m\u001b[1;33m\u001b[0m\u001b[1;33m\u001b[0m\u001b[0m\n\u001b[0;32m    254\u001b[0m         \u001b[0mcopy\u001b[0m\u001b[1;33m=\u001b[0m\u001b[0mcopy\u001b[0m\u001b[1;33m,\u001b[0m\u001b[1;33m\u001b[0m\u001b[1;33m\u001b[0m\u001b[0m\n\u001b[1;32m--> 255\u001b[1;33m         \u001b[0msort\u001b[0m\u001b[1;33m=\u001b[0m\u001b[0msort\u001b[0m\u001b[1;33m,\u001b[0m\u001b[1;33m\u001b[0m\u001b[1;33m\u001b[0m\u001b[0m\n\u001b[0m\u001b[0;32m    256\u001b[0m     )\n\u001b[0;32m    257\u001b[0m \u001b[1;33m\u001b[0m\u001b[0m\n",
      "\u001b[1;32m~\\AppData\\Local\\Continuum\\anaconda3\\lib\\site-packages\\pandas\\core\\reshape\\concat.py\u001b[0m in \u001b[0;36m__init__\u001b[1;34m(self, objs, axis, join, join_axes, keys, levels, names, ignore_index, verify_integrity, copy, sort)\u001b[0m\n\u001b[0;32m    302\u001b[0m \u001b[1;33m\u001b[0m\u001b[0m\n\u001b[0;32m    303\u001b[0m         \u001b[1;32mif\u001b[0m \u001b[0mlen\u001b[0m\u001b[1;33m(\u001b[0m\u001b[0mobjs\u001b[0m\u001b[1;33m)\u001b[0m \u001b[1;33m==\u001b[0m \u001b[1;36m0\u001b[0m\u001b[1;33m:\u001b[0m\u001b[1;33m\u001b[0m\u001b[1;33m\u001b[0m\u001b[0m\n\u001b[1;32m--> 304\u001b[1;33m             \u001b[1;32mraise\u001b[0m \u001b[0mValueError\u001b[0m\u001b[1;33m(\u001b[0m\u001b[1;34m\"No objects to concatenate\"\u001b[0m\u001b[1;33m)\u001b[0m\u001b[1;33m\u001b[0m\u001b[1;33m\u001b[0m\u001b[0m\n\u001b[0m\u001b[0;32m    305\u001b[0m \u001b[1;33m\u001b[0m\u001b[0m\n\u001b[0;32m    306\u001b[0m         \u001b[1;32mif\u001b[0m \u001b[0mkeys\u001b[0m \u001b[1;32mis\u001b[0m \u001b[1;32mNone\u001b[0m\u001b[1;33m:\u001b[0m\u001b[1;33m\u001b[0m\u001b[1;33m\u001b[0m\u001b[0m\n",
      "\u001b[1;31mValueError\u001b[0m: No objects to concatenate"
     ]
    }
   ],
   "source": [
    "df1.describe(include = 'object').columns.tolist()\n",
    "df1.describe(include = 'int64').columns.tolist()\n",
    "df1.describe(include = 'float64').columns.tolist()\n",
    "df1.describe(include = 'int32').columns.tolist()"
   ]
  },
  {
   "cell_type": "markdown",
   "metadata": {},
   "source": [
    "## Funcions"
   ]
  },
  {
   "cell_type": "code",
   "execution_count": 5,
   "metadata": {
    "ExecuteTime": {
     "end_time": "2020-01-14T10:17:40.812961Z",
     "start_time": "2020-01-14T10:17:40.805965Z"
    }
   },
   "outputs": [],
   "source": [
    "def habitacionsPerCategoria(categoria, df):\n",
    "    cat = []\n",
    "    habCat = []\n",
    "    pHabCat = []\n",
    "    for c in categoria.unique():\n",
    "        cat.append(c) ## llista amb els valors unics de la categoria\n",
    "        habCat.append(sum(df[categoria==c]['NHab'])) ## suma d'habitacions\n",
    "        pHabCat.append(round(sum(df[categoria==c]['NHab'])*100/sum(df['NHab']),3)) ## percentatges\n",
    "    return pd.DataFrame(list(zip(cat, habCat, pHabCat)), columns = ['id', 'Total habitacions', 'Percentatge %'])"
   ]
  },
  {
   "cell_type": "code",
   "execution_count": 6,
   "metadata": {
    "ExecuteTime": {
     "end_time": "2020-01-14T10:17:40.821955Z",
     "start_time": "2020-01-14T10:17:40.815958Z"
    }
   },
   "outputs": [],
   "source": [
    "def filtroMenorQue5(lista):\n",
    "    if(lista < 5):\n",
    "        return True\n",
    "    else:\n",
    "        return False"
   ]
  },
  {
   "cell_type": "code",
   "execution_count": 7,
   "metadata": {
    "ExecuteTime": {
     "end_time": "2020-01-14T10:17:40.830951Z",
     "start_time": "2020-01-14T10:17:40.824954Z"
    }
   },
   "outputs": [],
   "source": [
    "def llistaHotel(hotel, df):\n",
    "    l = list(df[df['idhotel']==hotel]['NHab'])\n",
    "    return l"
   ]
  },
  {
   "cell_type": "markdown",
   "metadata": {},
   "source": [
    "# Anàlisi descriptiu"
   ]
  },
  {
   "cell_type": "markdown",
   "metadata": {},
   "source": [
    "## Variable objectiu"
   ]
  },
  {
   "cell_type": "code",
   "execution_count": 8,
   "metadata": {
    "ExecuteTime": {
     "end_time": "2020-01-14T10:17:42.952375Z",
     "start_time": "2020-01-14T10:17:42.936381Z"
    },
    "scrolled": true
   },
   "outputs": [
    {
     "data": {
      "text/plain": [
       "count    2375.000000\n",
       "mean        2.774737\n",
       "std         4.165211\n",
       "min         0.000000\n",
       "25%         1.000000\n",
       "50%         2.000000\n",
       "75%         3.000000\n",
       "max       108.000000\n",
       "Name: NHab, dtype: float64"
      ]
     },
     "execution_count": 8,
     "metadata": {},
     "output_type": "execute_result"
    }
   ],
   "source": [
    "df1['NHab'].describe()"
   ]
  },
  {
   "cell_type": "markdown",
   "metadata": {},
   "source": [
    "#### Histogrames"
   ]
  },
  {
   "cell_type": "code",
   "execution_count": 9,
   "metadata": {
    "ExecuteTime": {
     "end_time": "2020-01-14T10:17:44.649133Z",
     "start_time": "2020-01-14T10:17:43.797619Z"
    },
    "scrolled": true
   },
   "outputs": [
    {
     "data": {
      "text/plain": [
       "Text(0.5, 1.0, \"Número d'habitacions ocupades\")"
      ]
     },
     "execution_count": 9,
     "metadata": {},
     "output_type": "execute_result"
    },
    {
     "data": {
      "text/plain": [
       "Text(0.5, 0, 'Habitacions')"
      ]
     },
     "execution_count": 9,
     "metadata": {},
     "output_type": "execute_result"
    },
    {
     "data": {
      "text/plain": [
       "Text(0, 0.5, 'Recompte')"
      ]
     },
     "execution_count": 9,
     "metadata": {},
     "output_type": "execute_result"
    },
    {
     "data": {
      "image/png": "[encoded data removed]",
      "text/plain": [
       "<Figure size 432x288 with 1 Axes>"
      ]
     },
     "metadata": {},
     "output_type": "display_data"
    }
   ],
   "source": [
    "plt.title(\"Número d'habitacions ocupades\")\n",
    "plt.xlabel('Habitacions')\n",
    "plt.ylabel('Recompte')\n",
    "plt.show(plt.hist(df1['NHab'], bins = 40))\n",
    "\n",
    "\n",
    "#df1[df1['NHab']<40]['NHab']"
   ]
  },
  {
   "cell_type": "markdown",
   "metadata": {},
   "source": [
    "#### Distribució"
   ]
  },
  {
   "cell_type": "code",
   "execution_count": 10,
   "metadata": {
    "ExecuteTime": {
     "end_time": "2020-01-14T10:17:46.200261Z",
     "start_time": "2020-01-14T10:17:45.960323Z"
    },
    "scrolled": true
   },
   "outputs": [
    {
     "data": {
      "text/plain": [
       "Text(0.5, 1.0, \"Distribució Número d'habitacions\")"
      ]
     },
     "execution_count": 10,
     "metadata": {},
     "output_type": "execute_result"
    },
    {
     "data": {
      "text/plain": [
       "Text(0.5, 0, \"Número d'habitacions\")"
      ]
     },
     "execution_count": 10,
     "metadata": {},
     "output_type": "execute_result"
    },
    {
     "data": {
      "text/plain": [
       "Text(0, 0.5, 'Densitat')"
      ]
     },
     "execution_count": 10,
     "metadata": {},
     "output_type": "execute_result"
    },
    {
     "data": {
      "image/png": "[encoded data removed]",
      "text/plain": [
       "<Figure size 432x288 with 1 Axes>"
      ]
     },
     "metadata": {},
     "output_type": "display_data"
    }
   ],
   "source": [
    "plt.title(\"Distribució Número d'habitacions\")\n",
    "plt.xlabel(\"Número d'habitacions\")\n",
    "plt.ylabel(\"Densitat\")\n",
    "plt.show(sns.distplot(df1.NHab, hist = False))\n"
   ]
  },
  {
   "cell_type": "markdown",
   "metadata": {
    "ExecuteTime": {
     "end_time": "2019-12-01T10:06:57.953615Z",
     "start_time": "2019-12-01T10:06:57.642762Z"
    }
   },
   "source": [
    "#### Boxplots"
   ]
  },
  {
   "cell_type": "code",
   "execution_count": 11,
   "metadata": {
    "ExecuteTime": {
     "end_time": "2020-01-14T10:17:47.538668Z",
     "start_time": "2020-01-14T10:17:47.314729Z"
    },
    "scrolled": false
   },
   "outputs": [
    {
     "data": {
      "text/plain": [
       "Text(0.5, 1.0, \"Boxplot Número d'habitacions\")"
      ]
     },
     "execution_count": 11,
     "metadata": {},
     "output_type": "execute_result"
    },
    {
     "data": {
      "image/png": "[encoded data removed]",
      "text/plain": [
       "<Figure size 432x288 with 1 Axes>"
      ]
     },
     "metadata": {},
     "output_type": "display_data"
    }
   ],
   "source": [
    "plt.title(\"Boxplot Número d'habitacions\")\n",
    "plt.show(sns.boxplot(x = df1['NHab']))\n"
   ]
  },
  {
   "cell_type": "markdown",
   "metadata": {},
   "source": [
    "## Variables categòriques"
   ]
  },
  {
   "cell_type": "markdown",
   "metadata": {},
   "source": [
    "### Hotel"
   ]
  },
  {
   "cell_type": "markdown",
   "metadata": {},
   "source": [
    "#### Anàlisi univariat"
   ]
  },
  {
   "cell_type": "code",
   "execution_count": 12,
   "metadata": {
    "ExecuteTime": {
     "end_time": "2020-01-14T10:17:51.479242Z",
     "start_time": "2020-01-14T10:17:51.466251Z"
    }
   },
   "outputs": [
    {
     "data": {
      "text/plain": [
       "array(['TOS', 'PAV', 'MME', 'TAU', 'DON', 'AVS'], dtype=object)"
      ]
     },
     "execution_count": 12,
     "metadata": {},
     "output_type": "execute_result"
    }
   ],
   "source": [
    "df1.idhotel.unique()"
   ]
  },
  {
   "cell_type": "code",
   "execution_count": 13,
   "metadata": {
    "ExecuteTime": {
     "end_time": "2020-01-14T10:17:51.746089Z",
     "start_time": "2020-01-14T10:17:51.512223Z"
    }
   },
   "outputs": [
    {
     "data": {
      "text/plain": [
       "Text(0.5, 1.0, 'ID hotel')"
      ]
     },
     "execution_count": 13,
     "metadata": {},
     "output_type": "execute_result"
    },
    {
     "data": {
      "image/png": "[encoded data removed]",
      "text/plain": [
       "<Figure size 432x288 with 1 Axes>"
      ]
     },
     "metadata": {},
     "output_type": "display_data"
    }
   ],
   "source": [
    "plt.title('ID hotel')\n",
    "plt.show(df1['idhotel'].value_counts().sort_index().plot.bar())\n"
   ]
  },
  {
   "cell_type": "code",
   "execution_count": 14,
   "metadata": {
    "ExecuteTime": {
     "end_time": "2020-01-14T10:17:51.783865Z",
     "start_time": "2020-01-14T10:17:51.749088Z"
    }
   },
   "outputs": [
    {
     "data": {
      "text/html": [
       "<div>\n",
       "<style scoped>\n",
       "    .dataframe tbody tr th:only-of-type {\n",
       "        vertical-align: middle;\n",
       "    }\n",
       "\n",
       "    .dataframe tbody tr th {\n",
       "        vertical-align: top;\n",
       "    }\n",
       "\n",
       "    .dataframe thead th {\n",
       "        text-align: right;\n",
       "    }\n",
       "</style>\n",
       "<table border=\"1\" class=\"dataframe\">\n",
       "  <thead>\n",
       "    <tr style=\"text-align: right;\">\n",
       "      <th></th>\n",
       "      <th>%</th>\n",
       "      <th>Recompte</th>\n",
       "    </tr>\n",
       "  </thead>\n",
       "  <tbody>\n",
       "    <tr>\n",
       "      <th>TAU</th>\n",
       "      <td>33.557895</td>\n",
       "      <td>797</td>\n",
       "    </tr>\n",
       "    <tr>\n",
       "      <th>TOS</th>\n",
       "      <td>28.884211</td>\n",
       "      <td>686</td>\n",
       "    </tr>\n",
       "    <tr>\n",
       "      <th>PAV</th>\n",
       "      <td>15.200000</td>\n",
       "      <td>361</td>\n",
       "    </tr>\n",
       "    <tr>\n",
       "      <th>DON</th>\n",
       "      <td>12.505263</td>\n",
       "      <td>297</td>\n",
       "    </tr>\n",
       "    <tr>\n",
       "      <th>MME</th>\n",
       "      <td>8.842105</td>\n",
       "      <td>210</td>\n",
       "    </tr>\n",
       "    <tr>\n",
       "      <th>AVS</th>\n",
       "      <td>1.010526</td>\n",
       "      <td>24</td>\n",
       "    </tr>\n",
       "  </tbody>\n",
       "</table>\n",
       "</div>"
      ],
      "text/plain": [
       "             %  Recompte\n",
       "TAU  33.557895       797\n",
       "TOS  28.884211       686\n",
       "PAV  15.200000       361\n",
       "DON  12.505263       297\n",
       "MME   8.842105       210\n",
       "AVS   1.010526        24"
      ]
     },
     "execution_count": 14,
     "metadata": {},
     "output_type": "execute_result"
    }
   ],
   "source": [
    "h = pd.concat([df1['idhotel'].value_counts().sort_index()/len(df1)*100, \n",
    "                df1['idhotel'].value_counts().sort_index()], axis = 1)\n",
    "h.columns = ['%', 'Recompte']\n",
    "h.sort_values(by=['Recompte'], ascending = False)\n"
   ]
  },
  {
   "cell_type": "markdown",
   "metadata": {},
   "source": [
    "\n",
    "#### Anàlisi bivariat"
   ]
  },
  {
   "cell_type": "code",
   "execution_count": 15,
   "metadata": {
    "ExecuteTime": {
     "end_time": "2020-01-14T10:17:53.040307Z",
     "start_time": "2020-01-14T10:17:52.659642Z"
    }
   },
   "outputs": [
    {
     "data": {
      "text/plain": [
       "Text(0.5, 1.0, \"Boxplot de nombre d'habitacions per hotel\")"
      ]
     },
     "execution_count": 15,
     "metadata": {},
     "output_type": "execute_result"
    },
    {
     "data": {
      "text/plain": [
       "(array([0. , 0.2, 0.4, 0.6, 0.8, 1. ]), <a list of 6 Text xticklabel objects>)"
      ]
     },
     "execution_count": 15,
     "metadata": {},
     "output_type": "execute_result"
    },
    {
     "data": {
      "text/plain": [
       "Text(0.5, 0, 'Hotel')"
      ]
     },
     "execution_count": 15,
     "metadata": {},
     "output_type": "execute_result"
    },
    {
     "data": {
      "text/plain": [
       "Text(0, 0.5, 'Nº Habitacions')"
      ]
     },
     "execution_count": 15,
     "metadata": {},
     "output_type": "execute_result"
    },
    {
     "data": {
      "image/png": "[encoded data removed]",
      "text/plain": [
       "<Figure size 432x288 with 1 Axes>"
      ]
     },
     "metadata": {},
     "output_type": "display_data"
    }
   ],
   "source": [
    "plt.title(\"Boxplot de nombre d'habitacions per hotel\")\n",
    "plt.xticks(rotation = 90)\n",
    "plt.xlabel(\"Hotel\")\n",
    "plt.ylabel(\"Nº Habitacions\")\n",
    "plt.show(sns.boxplot(x=\"idhotel\", y=\"NHab\", data=df1))"
   ]
  },
  {
   "cell_type": "markdown",
   "metadata": {},
   "source": [
    "### Client"
   ]
  },
  {
   "cell_type": "markdown",
   "metadata": {},
   "source": [
    "#### Anàlisi univariat"
   ]
  },
  {
   "cell_type": "code",
   "execution_count": 16,
   "metadata": {
    "ExecuteTime": {
     "end_time": "2020-01-14T10:17:55.127082Z",
     "start_time": "2020-01-14T10:17:54.832983Z"
    }
   },
   "outputs": [
    {
     "data": {
      "text/plain": [
       "Text(0.5, 1.0, 'ID client')"
      ]
     },
     "execution_count": 16,
     "metadata": {},
     "output_type": "execute_result"
    },
    {
     "data": {
      "image/png": "[encoded data removed]",
      "text/plain": [
       "<Figure size 432x288 with 1 Axes>"
      ]
     },
     "metadata": {},
     "output_type": "display_data"
    }
   ],
   "source": [
    "plt.title('ID client')\n",
    "plt.show(df1['idcliente'].value_counts().sort_index().plot.bar())\n",
    "\n"
   ]
  },
  {
   "cell_type": "code",
   "execution_count": 17,
   "metadata": {
    "ExecuteTime": {
     "end_time": "2020-01-14T10:17:55.169182Z",
     "start_time": "2020-01-14T10:17:55.127082Z"
    },
    "scrolled": true
   },
   "outputs": [
    {
     "data": {
      "text/html": [
       "<div>\n",
       "<style scoped>\n",
       "    .dataframe tbody tr th:only-of-type {\n",
       "        vertical-align: middle;\n",
       "    }\n",
       "\n",
       "    .dataframe tbody tr th {\n",
       "        vertical-align: top;\n",
       "    }\n",
       "\n",
       "    .dataframe thead th {\n",
       "        text-align: right;\n",
       "    }\n",
       "</style>\n",
       "<table border=\"1\" class=\"dataframe\">\n",
       "  <thead>\n",
       "    <tr style=\"text-align: right;\">\n",
       "      <th></th>\n",
       "      <th>%</th>\n",
       "      <th>Recompte</th>\n",
       "    </tr>\n",
       "  </thead>\n",
       "  <tbody>\n",
       "    <tr>\n",
       "      <th>Huespedes</th>\n",
       "      <td>53.389474</td>\n",
       "      <td>1268</td>\n",
       "    </tr>\n",
       "    <tr>\n",
       "      <th>Otros</th>\n",
       "      <td>35.873684</td>\n",
       "      <td>852</td>\n",
       "    </tr>\n",
       "    <tr>\n",
       "      <th>TUI_UK_LTD</th>\n",
       "      <td>5.431579</td>\n",
       "      <td>129</td>\n",
       "    </tr>\n",
       "    <tr>\n",
       "      <th>OL_MEDITERRANEO</th>\n",
       "      <td>5.305263</td>\n",
       "      <td>126</td>\n",
       "    </tr>\n",
       "  </tbody>\n",
       "</table>\n",
       "</div>"
      ],
      "text/plain": [
       "                         %  Recompte\n",
       "Huespedes        53.389474      1268\n",
       "Otros            35.873684       852\n",
       "TUI_UK_LTD        5.431579       129\n",
       "OL_MEDITERRANEO   5.305263       126"
      ]
     },
     "execution_count": 17,
     "metadata": {},
     "output_type": "execute_result"
    }
   ],
   "source": [
    "cl = pd.concat([df1['idcliente'].value_counts().sort_index()/len(df1)*100, \n",
    "                df1['idcliente'].value_counts().sort_index()], axis = 1)\n",
    "cl.columns = ['%', 'Recompte']\n",
    "cl.sort_values(by=['Recompte'], ascending = False)\n"
   ]
  },
  {
   "cell_type": "markdown",
   "metadata": {},
   "source": [
    "#### Anàlisi bivariat"
   ]
  },
  {
   "cell_type": "code",
   "execution_count": 18,
   "metadata": {
    "ExecuteTime": {
     "end_time": "2020-01-14T10:17:56.479820Z",
     "start_time": "2020-01-14T10:17:56.159901Z"
    }
   },
   "outputs": [
    {
     "data": {
      "text/plain": [
       "Text(0.5, 1.0, \"Boxplots del nombre d'habitacions segons el client\")"
      ]
     },
     "execution_count": 18,
     "metadata": {},
     "output_type": "execute_result"
    },
    {
     "data": {
      "text/plain": [
       "(array([0. , 0.2, 0.4, 0.6, 0.8, 1. ]), <a list of 6 Text xticklabel objects>)"
      ]
     },
     "execution_count": 18,
     "metadata": {},
     "output_type": "execute_result"
    },
    {
     "data": {
      "image/png": "[encoded data removed]",
      "text/plain": [
       "<Figure size 432x288 with 1 Axes>"
      ]
     },
     "metadata": {},
     "output_type": "display_data"
    }
   ],
   "source": [
    "plt.title(\"Boxplots del nombre d'habitacions segons el client\")\n",
    "plt.xticks(rotation = 90)\n",
    "plt.show(sns.boxplot(x = 'idcliente', y = 'NHab', data = df1))\n",
    "\n"
   ]
  },
  {
   "cell_type": "markdown",
   "metadata": {},
   "source": [
    "### Tipus Habitació"
   ]
  },
  {
   "cell_type": "markdown",
   "metadata": {},
   "source": [
    "\n",
    "#### Anàlisi univariat"
   ]
  },
  {
   "cell_type": "code",
   "execution_count": 19,
   "metadata": {
    "ExecuteTime": {
     "end_time": "2020-01-14T10:17:58.869647Z",
     "start_time": "2020-01-14T10:17:58.513736Z"
    },
    "scrolled": true
   },
   "outputs": [
    {
     "data": {
      "text/plain": [
       "Text(0.5, 1.0, \"Tipus d'habitació\")"
      ]
     },
     "execution_count": 19,
     "metadata": {},
     "output_type": "execute_result"
    },
    {
     "data": {
      "image/png": "[encoded data removed]",
      "text/plain": [
       "<Figure size 432x288 with 1 Axes>"
      ]
     },
     "metadata": {},
     "output_type": "display_data"
    }
   ],
   "source": [
    "plt.title(\"Tipus d'habitació\")\n",
    "plt.show(df1['idtipohab'].value_counts().sort_index().plot.bar())"
   ]
  },
  {
   "cell_type": "code",
   "execution_count": 20,
   "metadata": {
    "ExecuteTime": {
     "end_time": "2020-01-14T10:17:58.913636Z",
     "start_time": "2020-01-14T10:17:58.873652Z"
    }
   },
   "outputs": [
    {
     "data": {
      "text/html": [
       "<div>\n",
       "<style scoped>\n",
       "    .dataframe tbody tr th:only-of-type {\n",
       "        vertical-align: middle;\n",
       "    }\n",
       "\n",
       "    .dataframe tbody tr th {\n",
       "        vertical-align: top;\n",
       "    }\n",
       "\n",
       "    .dataframe thead th {\n",
       "        text-align: right;\n",
       "    }\n",
       "</style>\n",
       "<table border=\"1\" class=\"dataframe\">\n",
       "  <thead>\n",
       "    <tr style=\"text-align: right;\">\n",
       "      <th></th>\n",
       "      <th>%</th>\n",
       "      <th>Recompte</th>\n",
       "    </tr>\n",
       "  </thead>\n",
       "  <tbody>\n",
       "    <tr>\n",
       "      <th>FAM</th>\n",
       "      <td>73.473684</td>\n",
       "      <td>1745</td>\n",
       "    </tr>\n",
       "    <tr>\n",
       "      <th>SUI</th>\n",
       "      <td>11.831579</td>\n",
       "      <td>281</td>\n",
       "    </tr>\n",
       "    <tr>\n",
       "      <th>DBL</th>\n",
       "      <td>9.684211</td>\n",
       "      <td>230</td>\n",
       "    </tr>\n",
       "    <tr>\n",
       "      <th>PREM</th>\n",
       "      <td>4.968421</td>\n",
       "      <td>118</td>\n",
       "    </tr>\n",
       "    <tr>\n",
       "      <th>IND</th>\n",
       "      <td>0.042105</td>\n",
       "      <td>1</td>\n",
       "    </tr>\n",
       "  </tbody>\n",
       "</table>\n",
       "</div>"
      ],
      "text/plain": [
       "              %  Recompte\n",
       "FAM   73.473684      1745\n",
       "SUI   11.831579       281\n",
       "DBL    9.684211       230\n",
       "PREM   4.968421       118\n",
       "IND    0.042105         1"
      ]
     },
     "execution_count": 20,
     "metadata": {},
     "output_type": "execute_result"
    }
   ],
   "source": [
    "hab = pd.concat([df1['idtipohab'].value_counts().sort_index()/len(df1)*100, \n",
    "                df1['idtipohab'].value_counts().sort_index()], axis = 1)\n",
    "hab.columns = ['%', 'Recompte']\n",
    "hab.sort_values(by=['Recompte'], ascending = False)\n",
    "\n"
   ]
  },
  {
   "cell_type": "markdown",
   "metadata": {},
   "source": [
    "#### Anàlisi bivariat"
   ]
  },
  {
   "cell_type": "code",
   "execution_count": 21,
   "metadata": {
    "ExecuteTime": {
     "end_time": "2020-01-14T10:18:00.275555Z",
     "start_time": "2020-01-14T10:17:59.913387Z"
    }
   },
   "outputs": [
    {
     "data": {
      "text/plain": [
       "Text(0.5, 1.0, \"Boxplots de nombre d'habitacions segons tipus d'habitació\")"
      ]
     },
     "execution_count": 21,
     "metadata": {},
     "output_type": "execute_result"
    },
    {
     "data": {
      "image/png": "[encoded data removed]",
      "text/plain": [
       "<Figure size 432x288 with 1 Axes>"
      ]
     },
     "metadata": {},
     "output_type": "display_data"
    }
   ],
   "source": [
    "plt.title(\"Boxplots de nombre d'habitacions segons tipus d'habitació\")\n",
    "plt.show(sns.boxplot(x=\"idtipohab\", y=\"NHab\", data=df1))\n"
   ]
  },
  {
   "cell_type": "markdown",
   "metadata": {},
   "source": [
    "##### Comportament de idtiohab amb idhotel"
   ]
  },
  {
   "cell_type": "markdown",
   "metadata": {},
   "source": [
    "S'analitza el tipus d'habitació que ven cada hotel"
   ]
  },
  {
   "cell_type": "code",
   "execution_count": 22,
   "metadata": {
    "ExecuteTime": {
     "end_time": "2020-01-14T10:18:02.027632Z",
     "start_time": "2020-01-14T10:18:01.911701Z"
    },
    "scrolled": false
   },
   "outputs": [
    {
     "data": {
      "text/html": [
       "<div>\n",
       "<style scoped>\n",
       "    .dataframe tbody tr th:only-of-type {\n",
       "        vertical-align: middle;\n",
       "    }\n",
       "\n",
       "    .dataframe tbody tr th {\n",
       "        vertical-align: top;\n",
       "    }\n",
       "\n",
       "    .dataframe thead th {\n",
       "        text-align: right;\n",
       "    }\n",
       "</style>\n",
       "<table border=\"1\" class=\"dataframe\">\n",
       "  <thead>\n",
       "    <tr style=\"text-align: right;\">\n",
       "      <th>idtipohab</th>\n",
       "      <th>DBL</th>\n",
       "      <th>FAM</th>\n",
       "      <th>IND</th>\n",
       "      <th>PREM</th>\n",
       "      <th>SUI</th>\n",
       "      <th>Total</th>\n",
       "    </tr>\n",
       "    <tr>\n",
       "      <th>idhotel</th>\n",
       "      <th></th>\n",
       "      <th></th>\n",
       "      <th></th>\n",
       "      <th></th>\n",
       "      <th></th>\n",
       "      <th></th>\n",
       "    </tr>\n",
       "  </thead>\n",
       "  <tbody>\n",
       "    <tr>\n",
       "      <th>AVS</th>\n",
       "      <td>0</td>\n",
       "      <td>0</td>\n",
       "      <td>0</td>\n",
       "      <td>0</td>\n",
       "      <td>24</td>\n",
       "      <td>24</td>\n",
       "    </tr>\n",
       "    <tr>\n",
       "      <th>DON</th>\n",
       "      <td>8</td>\n",
       "      <td>288</td>\n",
       "      <td>0</td>\n",
       "      <td>1</td>\n",
       "      <td>0</td>\n",
       "      <td>297</td>\n",
       "    </tr>\n",
       "    <tr>\n",
       "      <th>MME</th>\n",
       "      <td>115</td>\n",
       "      <td>95</td>\n",
       "      <td>0</td>\n",
       "      <td>0</td>\n",
       "      <td>0</td>\n",
       "      <td>210</td>\n",
       "    </tr>\n",
       "    <tr>\n",
       "      <th>PAV</th>\n",
       "      <td>15</td>\n",
       "      <td>343</td>\n",
       "      <td>0</td>\n",
       "      <td>3</td>\n",
       "      <td>0</td>\n",
       "      <td>361</td>\n",
       "    </tr>\n",
       "    <tr>\n",
       "      <th>TAU</th>\n",
       "      <td>24</td>\n",
       "      <td>771</td>\n",
       "      <td>0</td>\n",
       "      <td>0</td>\n",
       "      <td>2</td>\n",
       "      <td>797</td>\n",
       "    </tr>\n",
       "    <tr>\n",
       "      <th>TOS</th>\n",
       "      <td>68</td>\n",
       "      <td>248</td>\n",
       "      <td>1</td>\n",
       "      <td>114</td>\n",
       "      <td>255</td>\n",
       "      <td>686</td>\n",
       "    </tr>\n",
       "    <tr>\n",
       "      <th>Total</th>\n",
       "      <td>230</td>\n",
       "      <td>1745</td>\n",
       "      <td>1</td>\n",
       "      <td>118</td>\n",
       "      <td>281</td>\n",
       "      <td>2375</td>\n",
       "    </tr>\n",
       "  </tbody>\n",
       "</table>\n",
       "</div>"
      ],
      "text/plain": [
       "idtipohab  DBL   FAM  IND  PREM  SUI  Total\n",
       "idhotel                                    \n",
       "AVS          0     0    0     0   24     24\n",
       "DON          8   288    0     1    0    297\n",
       "MME        115    95    0     0    0    210\n",
       "PAV         15   343    0     3    0    361\n",
       "TAU         24   771    0     0    2    797\n",
       "TOS         68   248    1   114  255    686\n",
       "Total      230  1745    1   118  281   2375"
      ]
     },
     "execution_count": 22,
     "metadata": {},
     "output_type": "execute_result"
    }
   ],
   "source": [
    "hotelHab = pd.crosstab(df1.idhotel, df1.idtipohab, margins = True, margins_name = 'Total')\n",
    "hotelHab\n"
   ]
  },
  {
   "cell_type": "markdown",
   "metadata": {},
   "source": [
    "### Règim"
   ]
  },
  {
   "cell_type": "markdown",
   "metadata": {},
   "source": [
    "#### Anàlisi univariat"
   ]
  },
  {
   "cell_type": "code",
   "execution_count": 23,
   "metadata": {
    "ExecuteTime": {
     "end_time": "2020-01-14T10:18:04.653162Z",
     "start_time": "2020-01-14T10:18:04.457211Z"
    }
   },
   "outputs": [
    {
     "data": {
      "text/plain": [
       "Text(0.5, 1.0, 'Règim')"
      ]
     },
     "execution_count": 23,
     "metadata": {},
     "output_type": "execute_result"
    },
    {
     "data": {
      "image/png": "[encoded data removed]",
      "text/plain": [
       "<Figure size 432x288 with 1 Axes>"
      ]
     },
     "metadata": {},
     "output_type": "display_data"
    }
   ],
   "source": [
    "plt.title('Règim')\n",
    "plt.show(df1['idregimen'].value_counts().sort_index().plot.bar())"
   ]
  },
  {
   "cell_type": "code",
   "execution_count": 24,
   "metadata": {
    "ExecuteTime": {
     "end_time": "2020-01-14T10:18:04.677154Z",
     "start_time": "2020-01-14T10:18:04.653162Z"
    }
   },
   "outputs": [
    {
     "data": {
      "text/html": [
       "<div>\n",
       "<style scoped>\n",
       "    .dataframe tbody tr th:only-of-type {\n",
       "        vertical-align: middle;\n",
       "    }\n",
       "\n",
       "    .dataframe tbody tr th {\n",
       "        vertical-align: top;\n",
       "    }\n",
       "\n",
       "    .dataframe thead th {\n",
       "        text-align: right;\n",
       "    }\n",
       "</style>\n",
       "<table border=\"1\" class=\"dataframe\">\n",
       "  <thead>\n",
       "    <tr style=\"text-align: right;\">\n",
       "      <th></th>\n",
       "      <th>%</th>\n",
       "      <th>Recompte</th>\n",
       "    </tr>\n",
       "  </thead>\n",
       "  <tbody>\n",
       "    <tr>\n",
       "      <th>TI</th>\n",
       "      <td>49.684211</td>\n",
       "      <td>1180</td>\n",
       "    </tr>\n",
       "    <tr>\n",
       "      <th>MP</th>\n",
       "      <td>23.452632</td>\n",
       "      <td>557</td>\n",
       "    </tr>\n",
       "    <tr>\n",
       "      <th>PC</th>\n",
       "      <td>17.936842</td>\n",
       "      <td>426</td>\n",
       "    </tr>\n",
       "    <tr>\n",
       "      <th>AD</th>\n",
       "      <td>8.926316</td>\n",
       "      <td>212</td>\n",
       "    </tr>\n",
       "  </tbody>\n",
       "</table>\n",
       "</div>"
      ],
      "text/plain": [
       "            %  Recompte\n",
       "TI  49.684211      1180\n",
       "MP  23.452632       557\n",
       "PC  17.936842       426\n",
       "AD   8.926316       212"
      ]
     },
     "execution_count": 24,
     "metadata": {},
     "output_type": "execute_result"
    }
   ],
   "source": [
    "r = pd.concat([df1['idregimen'].value_counts().sort_index()/len(df1)*100, \n",
    "                df1['idregimen'].value_counts().sort_index()], axis = 1)\n",
    "r.columns = ['%', 'Recompte']\n",
    "r.sort_values(by=['Recompte'], ascending = False)\n"
   ]
  },
  {
   "cell_type": "markdown",
   "metadata": {},
   "source": [
    "#### Anàlisi bivariat "
   ]
  },
  {
   "cell_type": "code",
   "execution_count": 25,
   "metadata": {
    "ExecuteTime": {
     "end_time": "2020-01-14T10:18:06.018007Z",
     "start_time": "2020-01-14T10:18:05.660908Z"
    }
   },
   "outputs": [
    {
     "data": {
      "text/plain": [
       "Text(0.5, 1.0, \"Boxplots de nombre d'habitacions segons tipus de règim\")"
      ]
     },
     "execution_count": 25,
     "metadata": {},
     "output_type": "execute_result"
    },
    {
     "data": {
      "image/png": "[encoded data removed]",
      "text/plain": [
       "<Figure size 432x288 with 1 Axes>"
      ]
     },
     "metadata": {},
     "output_type": "display_data"
    }
   ],
   "source": [
    "plt.title(\"Boxplots de nombre d'habitacions segons tipus de règim\")\n",
    "plt.show(sns.boxplot(x=\"idregimen\", y=\"NHab\", data=df1))\n",
    "\n"
   ]
  },
  {
   "cell_type": "markdown",
   "metadata": {},
   "source": [
    "### Segment"
   ]
  },
  {
   "cell_type": "markdown",
   "metadata": {},
   "source": [
    "#### Anàlisi univariat"
   ]
  },
  {
   "cell_type": "code",
   "execution_count": 26,
   "metadata": {
    "ExecuteTime": {
     "end_time": "2020-01-14T10:18:08.667142Z",
     "start_time": "2020-01-14T10:18:08.483184Z"
    }
   },
   "outputs": [
    {
     "data": {
      "text/plain": [
       "Text(0.5, 1.0, 'Segment')"
      ]
     },
     "execution_count": 26,
     "metadata": {},
     "output_type": "execute_result"
    },
    {
     "data": {
      "image/png": "[encoded data removed]",
      "text/plain": [
       "<Figure size 432x288 with 1 Axes>"
      ]
     },
     "metadata": {},
     "output_type": "display_data"
    }
   ],
   "source": [
    "plt.title(\"Segment\")\n",
    "plt.show(df1['idsegmento'].value_counts().sort_index().plot.bar())"
   ]
  },
  {
   "cell_type": "code",
   "execution_count": 27,
   "metadata": {
    "ExecuteTime": {
     "end_time": "2020-01-14T10:18:08.695130Z",
     "start_time": "2020-01-14T10:18:08.667142Z"
    }
   },
   "outputs": [
    {
     "data": {
      "text/html": [
       "<div>\n",
       "<style scoped>\n",
       "    .dataframe tbody tr th:only-of-type {\n",
       "        vertical-align: middle;\n",
       "    }\n",
       "\n",
       "    .dataframe tbody tr th {\n",
       "        vertical-align: top;\n",
       "    }\n",
       "\n",
       "    .dataframe thead th {\n",
       "        text-align: right;\n",
       "    }\n",
       "</style>\n",
       "<table border=\"1\" class=\"dataframe\">\n",
       "  <thead>\n",
       "    <tr style=\"text-align: right;\">\n",
       "      <th></th>\n",
       "      <th>%</th>\n",
       "      <th>Recompte</th>\n",
       "    </tr>\n",
       "  </thead>\n",
       "  <tbody>\n",
       "    <tr>\n",
       "      <th>DESCONOCIDO</th>\n",
       "      <td>93.136842</td>\n",
       "      <td>2212</td>\n",
       "    </tr>\n",
       "    <tr>\n",
       "      <th>VACAC</th>\n",
       "      <td>6.863158</td>\n",
       "      <td>163</td>\n",
       "    </tr>\n",
       "  </tbody>\n",
       "</table>\n",
       "</div>"
      ],
      "text/plain": [
       "                     %  Recompte\n",
       "DESCONOCIDO  93.136842      2212\n",
       "VACAC         6.863158       163"
      ]
     },
     "execution_count": 27,
     "metadata": {},
     "output_type": "execute_result"
    }
   ],
   "source": [
    "s = pd.concat([df1['idsegmento'].value_counts().sort_index()/len(df1)*100, \n",
    "                df1['idsegmento'].value_counts().sort_index()], axis = 1)\n",
    "s.columns = ['%', 'Recompte']\n",
    "s.sort_values(by=['Recompte'], ascending = False)"
   ]
  },
  {
   "cell_type": "markdown",
   "metadata": {},
   "source": [
    "#### Anàlisi bivariat"
   ]
  },
  {
   "cell_type": "code",
   "execution_count": 28,
   "metadata": {
    "ExecuteTime": {
     "end_time": "2020-01-14T10:18:10.094780Z",
     "start_time": "2020-01-14T10:18:09.806852Z"
    }
   },
   "outputs": [
    {
     "data": {
      "text/plain": [
       "Text(0.5, 1.0, \"Boxplots de nombre d'habitacions segons segment\")"
      ]
     },
     "execution_count": 28,
     "metadata": {},
     "output_type": "execute_result"
    },
    {
     "data": {
      "image/png": "[encoded data removed]",
      "text/plain": [
       "<Figure size 432x288 with 1 Axes>"
      ]
     },
     "metadata": {},
     "output_type": "display_data"
    }
   ],
   "source": [
    "plt.title(\"Boxplots de nombre d'habitacions segons segment\")\n",
    "plt.show(sns.boxplot(x=\"idsegmento\", y=\"NHab\", data=df1))\n"
   ]
  },
  {
   "cell_type": "markdown",
   "metadata": {},
   "source": [
    "### Canal"
   ]
  },
  {
   "cell_type": "markdown",
   "metadata": {},
   "source": [
    "#### Anàlisi univariat"
   ]
  },
  {
   "cell_type": "code",
   "execution_count": 29,
   "metadata": {
    "ExecuteTime": {
     "end_time": "2020-01-14T10:18:12.487396Z",
     "start_time": "2020-01-14T10:18:12.247455Z"
    }
   },
   "outputs": [
    {
     "data": {
      "text/plain": [
       "Text(0.5, 1.0, 'Canal')"
      ]
     },
     "execution_count": 29,
     "metadata": {},
     "output_type": "execute_result"
    },
    {
     "data": {
      "image/png": "[encoded data removed]",
      "text/plain": [
       "<Figure size 432x288 with 1 Axes>"
      ]
     },
     "metadata": {},
     "output_type": "display_data"
    }
   ],
   "source": [
    "plt.title(\"Canal\")\n",
    "plt.show(df1['id_canal'].value_counts().sort_index().plot.bar())"
   ]
  },
  {
   "cell_type": "code",
   "execution_count": 30,
   "metadata": {
    "ExecuteTime": {
     "end_time": "2020-01-14T10:18:12.547379Z",
     "start_time": "2020-01-14T10:18:12.491393Z"
    }
   },
   "outputs": [
    {
     "data": {
      "text/html": [
       "<div>\n",
       "<style scoped>\n",
       "    .dataframe tbody tr th:only-of-type {\n",
       "        vertical-align: middle;\n",
       "    }\n",
       "\n",
       "    .dataframe tbody tr th {\n",
       "        vertical-align: top;\n",
       "    }\n",
       "\n",
       "    .dataframe thead th {\n",
       "        text-align: right;\n",
       "    }\n",
       "</style>\n",
       "<table border=\"1\" class=\"dataframe\">\n",
       "  <thead>\n",
       "    <tr style=\"text-align: right;\">\n",
       "      <th></th>\n",
       "      <th>%</th>\n",
       "      <th>Recompte</th>\n",
       "    </tr>\n",
       "  </thead>\n",
       "  <tbody>\n",
       "    <tr>\n",
       "      <th>DESCONOCIDO</th>\n",
       "      <td>90.400000</td>\n",
       "      <td>2147</td>\n",
       "    </tr>\n",
       "    <tr>\n",
       "      <th>TTOO</th>\n",
       "      <td>4.589474</td>\n",
       "      <td>109</td>\n",
       "    </tr>\n",
       "    <tr>\n",
       "      <th>DIRECTO</th>\n",
       "      <td>2.694737</td>\n",
       "      <td>64</td>\n",
       "    </tr>\n",
       "    <tr>\n",
       "      <th>ONLINE</th>\n",
       "      <td>2.315789</td>\n",
       "      <td>55</td>\n",
       "    </tr>\n",
       "  </tbody>\n",
       "</table>\n",
       "</div>"
      ],
      "text/plain": [
       "                     %  Recompte\n",
       "DESCONOCIDO  90.400000      2147\n",
       "TTOO          4.589474       109\n",
       "DIRECTO       2.694737        64\n",
       "ONLINE        2.315789        55"
      ]
     },
     "execution_count": 30,
     "metadata": {},
     "output_type": "execute_result"
    }
   ],
   "source": [
    "c = pd.concat([df1['id_canal'].value_counts().sort_index()/len(df1)*100, \n",
    "               df1['id_canal'].value_counts().sort_index()], axis = 1)\n",
    "c.columns = ['%', 'Recompte']\n",
    "c.sort_values(by=['Recompte'], ascending = False)\n"
   ]
  },
  {
   "cell_type": "markdown",
   "metadata": {},
   "source": [
    "\n",
    "#### Anàlisi bivariat"
   ]
  },
  {
   "cell_type": "code",
   "execution_count": 31,
   "metadata": {
    "ExecuteTime": {
     "end_time": "2020-01-14T10:18:13.889528Z",
     "start_time": "2020-01-14T10:18:13.617597Z"
    }
   },
   "outputs": [
    {
     "data": {
      "text/plain": [
       "Text(0.5, 1.0, \"Boxplots de nombre d'habitacions segons canal\")"
      ]
     },
     "execution_count": 31,
     "metadata": {},
     "output_type": "execute_result"
    },
    {
     "data": {
      "image/png": "[encoded data removed]",
      "text/plain": [
       "<Figure size 432x288 with 1 Axes>"
      ]
     },
     "metadata": {},
     "output_type": "display_data"
    }
   ],
   "source": [
    "plt.title(\"Boxplots de nombre d'habitacions segons canal\")\n",
    "plt.show(sns.boxplot(x=\"id_canal\", y=\"NHab\", data=df1))"
   ]
  },
  {
   "cell_type": "markdown",
   "metadata": {},
   "source": [
    "### País client"
   ]
  },
  {
   "cell_type": "markdown",
   "metadata": {},
   "source": [
    "#### Anàlisi univariat"
   ]
  },
  {
   "cell_type": "code",
   "execution_count": 32,
   "metadata": {
    "ExecuteTime": {
     "end_time": "2020-01-14T10:18:15.859930Z",
     "start_time": "2020-01-14T10:18:15.659204Z"
    },
    "scrolled": true
   },
   "outputs": [
    {
     "data": {
      "text/plain": [
       "Text(0.5, 1.0, \"País de l'agència client\")"
      ]
     },
     "execution_count": 32,
     "metadata": {},
     "output_type": "execute_result"
    },
    {
     "data": {
      "image/png": "[encoded data removed]",
      "text/plain": [
       "<Figure size 432x288 with 1 Axes>"
      ]
     },
     "metadata": {},
     "output_type": "display_data"
    }
   ],
   "source": [
    "plt.title(\"País de l'agència client\")\n",
    "plt.show(df1['idpais_cliente'].value_counts().sort_index().plot.bar())"
   ]
  },
  {
   "cell_type": "code",
   "execution_count": 33,
   "metadata": {
    "ExecuteTime": {
     "end_time": "2020-01-14T10:18:15.887923Z",
     "start_time": "2020-01-14T10:18:15.859930Z"
    }
   },
   "outputs": [
    {
     "data": {
      "text/html": [
       "<div>\n",
       "<style scoped>\n",
       "    .dataframe tbody tr th:only-of-type {\n",
       "        vertical-align: middle;\n",
       "    }\n",
       "\n",
       "    .dataframe tbody tr th {\n",
       "        vertical-align: top;\n",
       "    }\n",
       "\n",
       "    .dataframe thead th {\n",
       "        text-align: right;\n",
       "    }\n",
       "</style>\n",
       "<table border=\"1\" class=\"dataframe\">\n",
       "  <thead>\n",
       "    <tr style=\"text-align: right;\">\n",
       "      <th></th>\n",
       "      <th>%</th>\n",
       "      <th>Recompte</th>\n",
       "    </tr>\n",
       "  </thead>\n",
       "  <tbody>\n",
       "    <tr>\n",
       "      <th>ES</th>\n",
       "      <td>72.673684</td>\n",
       "      <td>1726</td>\n",
       "    </tr>\n",
       "    <tr>\n",
       "      <th>CE</th>\n",
       "      <td>12.589474</td>\n",
       "      <td>299</td>\n",
       "    </tr>\n",
       "    <tr>\n",
       "      <th>GB</th>\n",
       "      <td>8.842105</td>\n",
       "      <td>210</td>\n",
       "    </tr>\n",
       "    <tr>\n",
       "      <th>EAU</th>\n",
       "      <td>5.010526</td>\n",
       "      <td>119</td>\n",
       "    </tr>\n",
       "    <tr>\n",
       "      <th>OE</th>\n",
       "      <td>0.715789</td>\n",
       "      <td>17</td>\n",
       "    </tr>\n",
       "    <tr>\n",
       "      <th>EE</th>\n",
       "      <td>0.168421</td>\n",
       "      <td>4</td>\n",
       "    </tr>\n",
       "  </tbody>\n",
       "</table>\n",
       "</div>"
      ],
      "text/plain": [
       "             %  Recompte\n",
       "ES   72.673684      1726\n",
       "CE   12.589474       299\n",
       "GB    8.842105       210\n",
       "EAU   5.010526       119\n",
       "OE    0.715789        17\n",
       "EE    0.168421         4"
      ]
     },
     "execution_count": 33,
     "metadata": {},
     "output_type": "execute_result"
    }
   ],
   "source": [
    "pc = pd.concat([df1['idpais_cliente'].value_counts().sort_index()/len(df1)*100, \n",
    "           df1['idpais_cliente'].value_counts().sort_index()], axis = 1)\n",
    "pc.columns = ['%', 'Recompte']\n",
    "pc.sort_values(by = 'Recompte', ascending = False)\n"
   ]
  },
  {
   "cell_type": "markdown",
   "metadata": {},
   "source": [
    "#### Anàlisi bivariat"
   ]
  },
  {
   "cell_type": "code",
   "execution_count": 34,
   "metadata": {
    "ExecuteTime": {
     "end_time": "2020-01-14T10:18:17.125083Z",
     "start_time": "2020-01-14T10:18:16.793171Z"
    }
   },
   "outputs": [
    {
     "data": {
      "text/plain": [
       "Text(0.5, 1.0, \"Boxplots de nombre d'habitacions segons el país de l'agència client\")"
      ]
     },
     "execution_count": 34,
     "metadata": {},
     "output_type": "execute_result"
    },
    {
     "data": {
      "image/png": "[encoded data removed]",
      "text/plain": [
       "<Figure size 432x288 with 1 Axes>"
      ]
     },
     "metadata": {},
     "output_type": "display_data"
    }
   ],
   "source": [
    "plt.title(\"Boxplots de nombre d'habitacions segons el país de l'agència client\")\n",
    "plt.show(sns.boxplot(x=\"idpais_cliente\", y=\"NHab\", data=df1))\n",
    "\n"
   ]
  },
  {
   "cell_type": "markdown",
   "metadata": {},
   "source": [
    "### Data"
   ]
  },
  {
   "cell_type": "code",
   "execution_count": 35,
   "metadata": {
    "ExecuteTime": {
     "end_time": "2020-01-14T10:18:18.178723Z",
     "start_time": "2020-01-14T10:18:17.914579Z"
    }
   },
   "outputs": [
    {
     "data": {
      "text/plain": [
       "Text(0.5, 1.0, \"Reserves d'habitacions segons el dia de l'any\")"
      ]
     },
     "execution_count": 35,
     "metadata": {},
     "output_type": "execute_result"
    },
    {
     "data": {
      "text/plain": [
       "Text(0.5, 0, \"Dia de l'any\")"
      ]
     },
     "execution_count": 35,
     "metadata": {},
     "output_type": "execute_result"
    },
    {
     "data": {
      "text/plain": [
       "Text(0, 0.5, 'Nº habitacions reservades')"
      ]
     },
     "execution_count": 35,
     "metadata": {},
     "output_type": "execute_result"
    },
    {
     "data": {
      "text/plain": [
       "<matplotlib.collections.PathCollection at 0x1eecfe92dd8>"
      ]
     },
     "execution_count": 35,
     "metadata": {},
     "output_type": "execute_result"
    },
    {
     "data": {
      "image/png": "[encoded data removed]",
      "text/plain": [
       "<Figure size 432x288 with 1 Axes>"
      ]
     },
     "metadata": {},
     "output_type": "display_data"
    }
   ],
   "source": [
    "plt.title(\"Reserves d'habitacions segons el dia de l'any\")\n",
    "plt.xlabel(\"Dia de l'any\")\n",
    "plt.ylabel(\"Nº habitacions reservades\")\n",
    "plt.scatter(df1['diaAño'],df1['NHab'])"
   ]
  },
  {
   "cell_type": "markdown",
   "metadata": {},
   "source": [
    "## Variables numèriques"
   ]
  },
  {
   "cell_type": "markdown",
   "metadata": {},
   "source": [
    "### Preu mig"
   ]
  },
  {
   "cell_type": "markdown",
   "metadata": {},
   "source": [
    "#### Anàlisi univariat"
   ]
  },
  {
   "cell_type": "code",
   "execution_count": 36,
   "metadata": {
    "ExecuteTime": {
     "end_time": "2020-01-14T10:18:21.014934Z",
     "start_time": "2020-01-14T10:18:21.000828Z"
    }
   },
   "outputs": [
    {
     "data": {
      "text/plain": [
       "count    2375.000000\n",
       "mean      336.529222\n",
       "std        68.867726\n",
       "min       272.045454\n",
       "25%       291.980163\n",
       "50%       317.600000\n",
       "75%       353.090910\n",
       "max       713.005287\n",
       "Name: PreuHab, dtype: float64"
      ]
     },
     "execution_count": 36,
     "metadata": {},
     "output_type": "execute_result"
    }
   ],
   "source": [
    "df1['PreuHab'].describe()"
   ]
  },
  {
   "cell_type": "code",
   "execution_count": 37,
   "metadata": {
    "ExecuteTime": {
     "end_time": "2020-01-14T10:18:21.267432Z",
     "start_time": "2020-01-14T10:18:21.026951Z"
    },
    "scrolled": true
   },
   "outputs": [
    {
     "data": {
      "text/plain": [
       "Text(0.5, 1.0, 'Boxplot del preu mig')"
      ]
     },
     "execution_count": 37,
     "metadata": {},
     "output_type": "execute_result"
    },
    {
     "data": {
      "image/png": "[encoded data removed]",
      "text/plain": [
       "<Figure size 432x288 with 1 Axes>"
      ]
     },
     "metadata": {},
     "output_type": "display_data"
    }
   ],
   "source": [
    "plt.title(\"Boxplot del preu mig\")\n",
    "plt.show(sns.boxplot(df1['PreuHab']))\n",
    "\n"
   ]
  },
  {
   "cell_type": "code",
   "execution_count": 38,
   "metadata": {
    "ExecuteTime": {
     "end_time": "2020-01-14T10:18:21.992217Z",
     "start_time": "2020-01-14T10:18:21.269972Z"
    },
    "scrolled": false
   },
   "outputs": [
    {
     "data": {
      "text/plain": [
       "Text(0.5, 1.0, 'Preu mig habitació')"
      ]
     },
     "execution_count": 38,
     "metadata": {},
     "output_type": "execute_result"
    },
    {
     "data": {
      "text/plain": [
       "Text(0.5, 0, 'Preu')"
      ]
     },
     "execution_count": 38,
     "metadata": {},
     "output_type": "execute_result"
    },
    {
     "data": {
      "text/plain": [
       "Text(0, 0.5, 'Recompte')"
      ]
     },
     "execution_count": 38,
     "metadata": {},
     "output_type": "execute_result"
    },
    {
     "data": {
      "image/png": "[encoded data removed]",
      "text/plain": [
       "<Figure size 432x288 with 1 Axes>"
      ]
     },
     "metadata": {},
     "output_type": "display_data"
    }
   ],
   "source": [
    "plt.title(\"Preu mig habitació\")\n",
    "plt.xlabel('Preu')\n",
    "plt.ylabel('Recompte')\n",
    "plt.show(plt.hist(df1['PreuHab'], bins = 200))"
   ]
  },
  {
   "cell_type": "markdown",
   "metadata": {},
   "source": [
    "#### Anàlisi bivariat"
   ]
  },
  {
   "cell_type": "code",
   "execution_count": 39,
   "metadata": {
    "ExecuteTime": {
     "end_time": "2020-01-14T10:18:22.656051Z",
     "start_time": "2020-01-14T10:18:22.476097Z"
    }
   },
   "outputs": [
    {
     "data": {
      "text/plain": [
       "Text(0.5, 1.0, \"Boxplots de nombre d'habitacions segons el preu mig\")"
      ]
     },
     "execution_count": 39,
     "metadata": {},
     "output_type": "execute_result"
    },
    {
     "data": {
      "image/png": "[encoded data removed]",
      "text/plain": [
       "<Figure size 432x288 with 1 Axes>"
      ]
     },
     "metadata": {},
     "output_type": "display_data"
    }
   ],
   "source": [
    "plt.title(\"Boxplots de nombre d'habitacions segons el preu mig\")\n",
    "plt.show(sns.boxplot(x=\"PreuHab\", data=df1))\n"
   ]
  },
  {
   "cell_type": "markdown",
   "metadata": {},
   "source": [
    "# Conclusions de l'apartat"
   ]
  },
  {
   "cell_type": "markdown",
   "metadata": {},
   "source": [
    "Les diferències més destacables respecte l'anàlisi descriptiu original es troben en la variable *idtipohab* on les habitacions familiars representen un 74% de les dades i les dobles un 10%, mentre que en l'original representen un 23% i un 60% respectivament. És similar el cas de la variable *idregimen*, on succeeix el mateix però per als règims tot inclós i mitja pensió. \n",
    "\n",
    "Finalment també esmentar que el país d'on provenen un 72% d'aquestes dades és Espanya, lo que suposa un augment de 30 punts respecte l'anàlisi original."
   ]
  }
 ],
 "metadata": {
  "kernelspec": {
   "display_name": "Python 3",
   "language": "python",
   "name": "python3"
  },
  "language_info": {
   "codemirror_mode": {
    "name": "ipython",
    "version": 3
   },
   "file_extension": ".py",
   "mimetype": "text/x-python",
   "name": "python",
   "nbconvert_exporter": "python",
   "pygments_lexer": "ipython3",
   "version": "3.7.3"
  },
  "latex_envs": {
   "LaTeX_envs_menu_present": true,
   "autoclose": false,
   "autocomplete": true,
   "bibliofile": "biblio.bib",
   "cite_by": "apalike",
   "current_citInitial": 1,
   "eqLabelWithNumbers": true,
   "eqNumInitial": 1,
   "hotkeys": {
    "equation": "Ctrl-E",
    "itemize": "Ctrl-I"
   },
   "labels_anchors": false,
   "latex_user_defs": false,
   "report_style_numbering": false,
   "user_envs_cfg": false
  },
  "toc": {
   "base_numbering": 1,
   "nav_menu": {},
   "number_sections": true,
   "sideBar": true,
   "skip_h1_title": false,
   "title_cell": "Table of Contents",
   "title_sidebar": "Contents",
   "toc_cell": false,
   "toc_position": {
    "height": "calc(100% - 180px)",
    "left": "10px",
    "top": "150px",
    "width": "300.66px"
   },
   "toc_section_display": true,
   "toc_window_display": true
  },
  "varInspector": {
   "cols": {
    "lenName": 16,
    "lenType": 16,
    "lenVar": 40
   },
   "kernels_config": {
    "python": {
     "delete_cmd_postfix": "",
     "delete_cmd_prefix": "del ",
     "library": "var_list.py",
     "varRefreshCmd": "print(var_dic_list())"
    },
    "r": {
     "delete_cmd_postfix": ") ",
     "delete_cmd_prefix": "rm(",
     "library": "var_list.r",
     "varRefreshCmd": "cat(var_dic_list()) "
    }
   },
   "types_to_exclude": [
    "module",
    "function",
    "builtin_function_or_method",
    "instance",
    "_Feature"
   ],
   "window_display": false
  }
 },
 "nbformat": 4,
 "nbformat_minor": 2
}
