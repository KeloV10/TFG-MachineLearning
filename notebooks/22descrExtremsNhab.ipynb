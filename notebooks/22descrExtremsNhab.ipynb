{
 "cells": [
  {
   "cell_type": "markdown",
   "metadata": {},
   "source": [
    "En aquest arxiu es mostra un anàlisi descriptiu per a les dades que el valor de *NHab* és superior a 46. "
   ]
  },
  {
   "cell_type": "markdown",
   "metadata": {},
   "source": [
    "**ÍNDEX**\n",
    "1. Passos previs\n",
    "    * Importar paquets\n",
    "    * Funcions\n",
    "    * Càrrega de dades\n",
    "2. Anàlisi descriptiu\n",
    "    * Variable objectiu\n",
    "    * Variables categòriques\n",
    "    * Variables numèriques\n",
    "3. Conclusions de l'apartat"
   ]
  },
  {
   "cell_type": "markdown",
   "metadata": {},
   "source": [
    "# Passos previs"
   ]
  },
  {
   "cell_type": "markdown",
   "metadata": {},
   "source": [
    "## Importar"
   ]
  },
  {
   "cell_type": "code",
   "execution_count": 1,
   "metadata": {
    "ExecuteTime": {
     "end_time": "2020-01-14T10:16:05.089448Z",
     "start_time": "2020-01-14T10:16:03.481570Z"
    }
   },
   "outputs": [],
   "source": [
    "import csv\n",
    "import pandas as pd\n",
    "import numpy as np\n",
    "import seaborn as sns\n",
    "import locale\n",
    "import matplotlib\n",
    "import matplotlib.pyplot as plt\n",
    "import re\n",
    "%matplotlib inline\n",
    "matplotlib.style.use('ggplot')\n",
    "\n",
    "from IPython.core.interactiveshell import InteractiveShell\n",
    "InteractiveShell.ast_node_interactivity = \"all\"\n",
    "\n",
    "pd.set_option('display.max_columns',None)\n",
    "#pd.set_option('display.max_rows', None)"
   ]
  },
  {
   "cell_type": "markdown",
   "metadata": {},
   "source": [
    "## Càrrega de dades"
   ]
  },
  {
   "cell_type": "code",
   "execution_count": 2,
   "metadata": {
    "ExecuteTime": {
     "end_time": "2020-01-14T10:16:05.169429Z",
     "start_time": "2020-01-14T10:16:05.089448Z"
    }
   },
   "outputs": [
    {
     "name": "stderr",
     "output_type": "stream",
     "text": [
      "C:\\Users\\miquel.vallverdu\\AppData\\Local\\Continuum\\anaconda3\\lib\\site-packages\\ipykernel_launcher.py:5: FutureWarning: 'asobject' is deprecated. Use 'astype(object)' instead\n",
      "  \"\"\"\n"
     ]
    }
   ],
   "source": [
    "mainpath = \"C:/Users/miquel.vallverdu/Desktop/Miquel/TFG/Repos/Bismart-P19824-PrediccionOcupacionHoteles_TFG_MVallverdu/dataset/\"\n",
    "#mainpath = \"C:/Users/Miquel/Desktop/Miquel/Estudis/ESTADISTICA/TFG/\"\n",
    "\n",
    "df1 = pd.read_csv(mainpath + \"dfextNH.csv\", sep = \",\")\n",
    "df1.diaAño = df1.diaAño.asobject"
   ]
  },
  {
   "cell_type": "code",
   "execution_count": 3,
   "metadata": {
    "ExecuteTime": {
     "end_time": "2020-01-14T10:16:05.265406Z",
     "start_time": "2020-01-14T10:16:05.169429Z"
    }
   },
   "outputs": [
    {
     "data": {
      "text/html": [
       "<div>\n",
       "<style scoped>\n",
       "    .dataframe tbody tr th:only-of-type {\n",
       "        vertical-align: middle;\n",
       "    }\n",
       "\n",
       "    .dataframe tbody tr th {\n",
       "        vertical-align: top;\n",
       "    }\n",
       "\n",
       "    .dataframe thead th {\n",
       "        text-align: right;\n",
       "    }\n",
       "</style>\n",
       "<table border=\"1\" class=\"dataframe\">\n",
       "  <thead>\n",
       "    <tr style=\"text-align: right;\">\n",
       "      <th></th>\n",
       "      <th>idhotel</th>\n",
       "      <th>fechaocupacion</th>\n",
       "      <th>idcliente</th>\n",
       "      <th>idtipohab</th>\n",
       "      <th>idregimen</th>\n",
       "      <th>idsegmento</th>\n",
       "      <th>id_canal</th>\n",
       "      <th>idpais_cliente</th>\n",
       "      <th>NHab</th>\n",
       "      <th>S1H</th>\n",
       "      <th>S2H</th>\n",
       "      <th>S3H</th>\n",
       "      <th>S4H</th>\n",
       "      <th>S5H</th>\n",
       "      <th>S6H</th>\n",
       "      <th>S7H</th>\n",
       "      <th>S8H</th>\n",
       "      <th>S9H</th>\n",
       "      <th>S10H</th>\n",
       "      <th>S11H</th>\n",
       "      <th>S12H</th>\n",
       "      <th>S13H</th>\n",
       "      <th>S14H</th>\n",
       "      <th>S15H</th>\n",
       "      <th>S16H</th>\n",
       "      <th>S17H</th>\n",
       "      <th>S18H</th>\n",
       "      <th>S19H</th>\n",
       "      <th>S20H</th>\n",
       "      <th>S21H</th>\n",
       "      <th>S22H</th>\n",
       "      <th>S23H</th>\n",
       "      <th>S24H</th>\n",
       "      <th>S25H</th>\n",
       "      <th>S26H</th>\n",
       "      <th>S27H</th>\n",
       "      <th>S28H</th>\n",
       "      <th>S29H</th>\n",
       "      <th>S30H</th>\n",
       "      <th>S31H</th>\n",
       "      <th>S32H</th>\n",
       "      <th>S33H</th>\n",
       "      <th>S34H</th>\n",
       "      <th>S35H</th>\n",
       "      <th>S36H</th>\n",
       "      <th>S37H</th>\n",
       "      <th>S38H</th>\n",
       "      <th>S39H</th>\n",
       "      <th>S40H</th>\n",
       "      <th>S41H</th>\n",
       "      <th>S42H</th>\n",
       "      <th>S43H</th>\n",
       "      <th>S44H</th>\n",
       "      <th>S45H</th>\n",
       "      <th>S46H</th>\n",
       "      <th>S47H</th>\n",
       "      <th>S48H</th>\n",
       "      <th>S49H</th>\n",
       "      <th>S50H</th>\n",
       "      <th>S51H</th>\n",
       "      <th>S52H</th>\n",
       "      <th>PreuHab</th>\n",
       "      <th>S1</th>\n",
       "      <th>S2</th>\n",
       "      <th>S3</th>\n",
       "      <th>S4</th>\n",
       "      <th>S5</th>\n",
       "      <th>S6</th>\n",
       "      <th>S7</th>\n",
       "      <th>S8</th>\n",
       "      <th>S9</th>\n",
       "      <th>S10</th>\n",
       "      <th>S11</th>\n",
       "      <th>S12</th>\n",
       "      <th>S13</th>\n",
       "      <th>S14</th>\n",
       "      <th>S15</th>\n",
       "      <th>S16</th>\n",
       "      <th>S17</th>\n",
       "      <th>S18</th>\n",
       "      <th>S19</th>\n",
       "      <th>S20</th>\n",
       "      <th>S21</th>\n",
       "      <th>S22</th>\n",
       "      <th>S23</th>\n",
       "      <th>S24</th>\n",
       "      <th>S25</th>\n",
       "      <th>S26</th>\n",
       "      <th>S27</th>\n",
       "      <th>S28</th>\n",
       "      <th>S29</th>\n",
       "      <th>S30</th>\n",
       "      <th>S31</th>\n",
       "      <th>S32</th>\n",
       "      <th>S33</th>\n",
       "      <th>S34</th>\n",
       "      <th>S35</th>\n",
       "      <th>S36</th>\n",
       "      <th>S37</th>\n",
       "      <th>S38</th>\n",
       "      <th>S39</th>\n",
       "      <th>S40</th>\n",
       "      <th>S41</th>\n",
       "      <th>S42</th>\n",
       "      <th>S43</th>\n",
       "      <th>S44</th>\n",
       "      <th>S45</th>\n",
       "      <th>S46</th>\n",
       "      <th>S47</th>\n",
       "      <th>S48</th>\n",
       "      <th>S49</th>\n",
       "      <th>S50</th>\n",
       "      <th>S51</th>\n",
       "      <th>S52</th>\n",
       "      <th>diaAño</th>\n",
       "    </tr>\n",
       "  </thead>\n",
       "  <tbody>\n",
       "    <tr>\n",
       "      <th>0</th>\n",
       "      <td>AVS</td>\n",
       "      <td>2018-03-28</td>\n",
       "      <td>OL_MEDITERRANEO</td>\n",
       "      <td>SUI</td>\n",
       "      <td>PC</td>\n",
       "      <td>VACAC</td>\n",
       "      <td>DESCONOCIDO</td>\n",
       "      <td>ES</td>\n",
       "      <td>170</td>\n",
       "      <td>170</td>\n",
       "      <td>164</td>\n",
       "      <td>59</td>\n",
       "      <td>0</td>\n",
       "      <td>0</td>\n",
       "      <td>0</td>\n",
       "      <td>0</td>\n",
       "      <td>0</td>\n",
       "      <td>0</td>\n",
       "      <td>0</td>\n",
       "      <td>0</td>\n",
       "      <td>0</td>\n",
       "      <td>0</td>\n",
       "      <td>0</td>\n",
       "      <td>0</td>\n",
       "      <td>0</td>\n",
       "      <td>0</td>\n",
       "      <td>0</td>\n",
       "      <td>0</td>\n",
       "      <td>0</td>\n",
       "      <td>0</td>\n",
       "      <td>0</td>\n",
       "      <td>0</td>\n",
       "      <td>0</td>\n",
       "      <td>0</td>\n",
       "      <td>0</td>\n",
       "      <td>0</td>\n",
       "      <td>0</td>\n",
       "      <td>0</td>\n",
       "      <td>0</td>\n",
       "      <td>0</td>\n",
       "      <td>0</td>\n",
       "      <td>0</td>\n",
       "      <td>0</td>\n",
       "      <td>0</td>\n",
       "      <td>0</td>\n",
       "      <td>0</td>\n",
       "      <td>0</td>\n",
       "      <td>0</td>\n",
       "      <td>0</td>\n",
       "      <td>0</td>\n",
       "      <td>0</td>\n",
       "      <td>0</td>\n",
       "      <td>0</td>\n",
       "      <td>0</td>\n",
       "      <td>0</td>\n",
       "      <td>0</td>\n",
       "      <td>0</td>\n",
       "      <td>0</td>\n",
       "      <td>0</td>\n",
       "      <td>0</td>\n",
       "      <td>0</td>\n",
       "      <td>60.507701</td>\n",
       "      <td>60.507701</td>\n",
       "      <td>60.641685</td>\n",
       "      <td>61.626811</td>\n",
       "      <td>61.626811</td>\n",
       "      <td>61.626811</td>\n",
       "      <td>61.626811</td>\n",
       "      <td>61.626811</td>\n",
       "      <td>61.626811</td>\n",
       "      <td>61.626811</td>\n",
       "      <td>61.626811</td>\n",
       "      <td>61.626811</td>\n",
       "      <td>61.626811</td>\n",
       "      <td>61.626811</td>\n",
       "      <td>61.626811</td>\n",
       "      <td>61.626811</td>\n",
       "      <td>61.626811</td>\n",
       "      <td>61.626811</td>\n",
       "      <td>61.626811</td>\n",
       "      <td>61.626811</td>\n",
       "      <td>61.626811</td>\n",
       "      <td>61.626811</td>\n",
       "      <td>61.626811</td>\n",
       "      <td>61.626811</td>\n",
       "      <td>61.626811</td>\n",
       "      <td>61.626811</td>\n",
       "      <td>61.626811</td>\n",
       "      <td>61.626811</td>\n",
       "      <td>61.626811</td>\n",
       "      <td>61.626811</td>\n",
       "      <td>61.626811</td>\n",
       "      <td>61.626811</td>\n",
       "      <td>61.626811</td>\n",
       "      <td>61.626811</td>\n",
       "      <td>61.626811</td>\n",
       "      <td>61.626811</td>\n",
       "      <td>61.626811</td>\n",
       "      <td>61.626811</td>\n",
       "      <td>61.626811</td>\n",
       "      <td>61.626811</td>\n",
       "      <td>61.626811</td>\n",
       "      <td>61.626811</td>\n",
       "      <td>61.626811</td>\n",
       "      <td>61.626811</td>\n",
       "      <td>61.626811</td>\n",
       "      <td>61.626811</td>\n",
       "      <td>61.626811</td>\n",
       "      <td>61.626811</td>\n",
       "      <td>61.626811</td>\n",
       "      <td>61.626811</td>\n",
       "      <td>61.626811</td>\n",
       "      <td>61.626811</td>\n",
       "      <td>61.626811</td>\n",
       "      <td>87</td>\n",
       "    </tr>\n",
       "    <tr>\n",
       "      <th>1</th>\n",
       "      <td>TOS</td>\n",
       "      <td>2018-03-29</td>\n",
       "      <td>Huespedes</td>\n",
       "      <td>DBL</td>\n",
       "      <td>PC</td>\n",
       "      <td>DESCONOCIDO</td>\n",
       "      <td>DESCONOCIDO</td>\n",
       "      <td>ES</td>\n",
       "      <td>50</td>\n",
       "      <td>43</td>\n",
       "      <td>38</td>\n",
       "      <td>34</td>\n",
       "      <td>27</td>\n",
       "      <td>16</td>\n",
       "      <td>9</td>\n",
       "      <td>5</td>\n",
       "      <td>5</td>\n",
       "      <td>3</td>\n",
       "      <td>3</td>\n",
       "      <td>3</td>\n",
       "      <td>3</td>\n",
       "      <td>3</td>\n",
       "      <td>3</td>\n",
       "      <td>3</td>\n",
       "      <td>3</td>\n",
       "      <td>3</td>\n",
       "      <td>3</td>\n",
       "      <td>3</td>\n",
       "      <td>3</td>\n",
       "      <td>3</td>\n",
       "      <td>4</td>\n",
       "      <td>4</td>\n",
       "      <td>1</td>\n",
       "      <td>1</td>\n",
       "      <td>1</td>\n",
       "      <td>1</td>\n",
       "      <td>1</td>\n",
       "      <td>1</td>\n",
       "      <td>1</td>\n",
       "      <td>1</td>\n",
       "      <td>0</td>\n",
       "      <td>0</td>\n",
       "      <td>0</td>\n",
       "      <td>0</td>\n",
       "      <td>0</td>\n",
       "      <td>0</td>\n",
       "      <td>0</td>\n",
       "      <td>0</td>\n",
       "      <td>0</td>\n",
       "      <td>0</td>\n",
       "      <td>0</td>\n",
       "      <td>0</td>\n",
       "      <td>0</td>\n",
       "      <td>0</td>\n",
       "      <td>0</td>\n",
       "      <td>0</td>\n",
       "      <td>0</td>\n",
       "      <td>0</td>\n",
       "      <td>0</td>\n",
       "      <td>0</td>\n",
       "      <td>0</td>\n",
       "      <td>132.749145</td>\n",
       "      <td>131.154609</td>\n",
       "      <td>136.163229</td>\n",
       "      <td>134.323609</td>\n",
       "      <td>133.601785</td>\n",
       "      <td>140.094489</td>\n",
       "      <td>151.445758</td>\n",
       "      <td>158.140547</td>\n",
       "      <td>158.140547</td>\n",
       "      <td>140.758487</td>\n",
       "      <td>140.758487</td>\n",
       "      <td>140.758487</td>\n",
       "      <td>140.758487</td>\n",
       "      <td>140.758487</td>\n",
       "      <td>140.758487</td>\n",
       "      <td>140.758487</td>\n",
       "      <td>140.758487</td>\n",
       "      <td>140.758487</td>\n",
       "      <td>140.758487</td>\n",
       "      <td>140.758487</td>\n",
       "      <td>140.758487</td>\n",
       "      <td>140.758487</td>\n",
       "      <td>134.496138</td>\n",
       "      <td>134.496138</td>\n",
       "      <td>204.199999</td>\n",
       "      <td>204.199999</td>\n",
       "      <td>204.199999</td>\n",
       "      <td>204.199999</td>\n",
       "      <td>204.199999</td>\n",
       "      <td>204.199999</td>\n",
       "      <td>204.199999</td>\n",
       "      <td>204.199999</td>\n",
       "      <td>204.199999</td>\n",
       "      <td>204.199999</td>\n",
       "      <td>204.199999</td>\n",
       "      <td>204.199999</td>\n",
       "      <td>204.199999</td>\n",
       "      <td>204.199999</td>\n",
       "      <td>204.199999</td>\n",
       "      <td>204.199999</td>\n",
       "      <td>204.199999</td>\n",
       "      <td>204.199999</td>\n",
       "      <td>204.199999</td>\n",
       "      <td>204.199999</td>\n",
       "      <td>204.199999</td>\n",
       "      <td>204.199999</td>\n",
       "      <td>204.199999</td>\n",
       "      <td>204.199999</td>\n",
       "      <td>204.199999</td>\n",
       "      <td>204.199999</td>\n",
       "      <td>204.199999</td>\n",
       "      <td>204.199999</td>\n",
       "      <td>204.199999</td>\n",
       "      <td>88</td>\n",
       "    </tr>\n",
       "    <tr>\n",
       "      <th>2</th>\n",
       "      <td>PAV</td>\n",
       "      <td>2018-03-29</td>\n",
       "      <td>Huespedes</td>\n",
       "      <td>DBL</td>\n",
       "      <td>MP</td>\n",
       "      <td>DESCONOCIDO</td>\n",
       "      <td>DESCONOCIDO</td>\n",
       "      <td>ES</td>\n",
       "      <td>85</td>\n",
       "      <td>75</td>\n",
       "      <td>66</td>\n",
       "      <td>57</td>\n",
       "      <td>51</td>\n",
       "      <td>53</td>\n",
       "      <td>43</td>\n",
       "      <td>31</td>\n",
       "      <td>26</td>\n",
       "      <td>21</td>\n",
       "      <td>18</td>\n",
       "      <td>16</td>\n",
       "      <td>15</td>\n",
       "      <td>13</td>\n",
       "      <td>13</td>\n",
       "      <td>12</td>\n",
       "      <td>12</td>\n",
       "      <td>12</td>\n",
       "      <td>10</td>\n",
       "      <td>11</td>\n",
       "      <td>8</td>\n",
       "      <td>7</td>\n",
       "      <td>7</td>\n",
       "      <td>7</td>\n",
       "      <td>5</td>\n",
       "      <td>3</td>\n",
       "      <td>3</td>\n",
       "      <td>2</td>\n",
       "      <td>1</td>\n",
       "      <td>1</td>\n",
       "      <td>1</td>\n",
       "      <td>0</td>\n",
       "      <td>0</td>\n",
       "      <td>0</td>\n",
       "      <td>0</td>\n",
       "      <td>0</td>\n",
       "      <td>0</td>\n",
       "      <td>0</td>\n",
       "      <td>0</td>\n",
       "      <td>0</td>\n",
       "      <td>0</td>\n",
       "      <td>0</td>\n",
       "      <td>0</td>\n",
       "      <td>0</td>\n",
       "      <td>0</td>\n",
       "      <td>0</td>\n",
       "      <td>0</td>\n",
       "      <td>0</td>\n",
       "      <td>0</td>\n",
       "      <td>0</td>\n",
       "      <td>0</td>\n",
       "      <td>0</td>\n",
       "      <td>0</td>\n",
       "      <td>112.893850</td>\n",
       "      <td>113.756667</td>\n",
       "      <td>112.792218</td>\n",
       "      <td>112.574243</td>\n",
       "      <td>110.947947</td>\n",
       "      <td>115.162688</td>\n",
       "      <td>117.390798</td>\n",
       "      <td>115.195005</td>\n",
       "      <td>118.199822</td>\n",
       "      <td>121.180512</td>\n",
       "      <td>118.269184</td>\n",
       "      <td>123.123286</td>\n",
       "      <td>124.135748</td>\n",
       "      <td>128.087756</td>\n",
       "      <td>128.087756</td>\n",
       "      <td>129.928403</td>\n",
       "      <td>129.928403</td>\n",
       "      <td>129.928403</td>\n",
       "      <td>128.684992</td>\n",
       "      <td>125.249574</td>\n",
       "      <td>134.439772</td>\n",
       "      <td>133.202596</td>\n",
       "      <td>133.202596</td>\n",
       "      <td>133.202596</td>\n",
       "      <td>126.038181</td>\n",
       "      <td>103.978787</td>\n",
       "      <td>103.978787</td>\n",
       "      <td>76.404545</td>\n",
       "      <td>85.309090</td>\n",
       "      <td>85.309090</td>\n",
       "      <td>85.309090</td>\n",
       "      <td>85.309090</td>\n",
       "      <td>85.309090</td>\n",
       "      <td>85.309090</td>\n",
       "      <td>85.309090</td>\n",
       "      <td>85.309090</td>\n",
       "      <td>85.309090</td>\n",
       "      <td>85.309090</td>\n",
       "      <td>85.309090</td>\n",
       "      <td>85.309090</td>\n",
       "      <td>85.309090</td>\n",
       "      <td>85.309090</td>\n",
       "      <td>85.309090</td>\n",
       "      <td>85.309090</td>\n",
       "      <td>85.309090</td>\n",
       "      <td>85.309090</td>\n",
       "      <td>85.309090</td>\n",
       "      <td>85.309090</td>\n",
       "      <td>85.309090</td>\n",
       "      <td>85.309090</td>\n",
       "      <td>85.309090</td>\n",
       "      <td>85.309090</td>\n",
       "      <td>85.309090</td>\n",
       "      <td>88</td>\n",
       "    </tr>\n",
       "    <tr>\n",
       "      <th>3</th>\n",
       "      <td>PAV</td>\n",
       "      <td>2018-03-29</td>\n",
       "      <td>Huespedes</td>\n",
       "      <td>DBL</td>\n",
       "      <td>PC</td>\n",
       "      <td>DESCONOCIDO</td>\n",
       "      <td>DESCONOCIDO</td>\n",
       "      <td>ES</td>\n",
       "      <td>59</td>\n",
       "      <td>58</td>\n",
       "      <td>57</td>\n",
       "      <td>59</td>\n",
       "      <td>54</td>\n",
       "      <td>54</td>\n",
       "      <td>51</td>\n",
       "      <td>45</td>\n",
       "      <td>38</td>\n",
       "      <td>35</td>\n",
       "      <td>32</td>\n",
       "      <td>25</td>\n",
       "      <td>19</td>\n",
       "      <td>18</td>\n",
       "      <td>18</td>\n",
       "      <td>18</td>\n",
       "      <td>18</td>\n",
       "      <td>16</td>\n",
       "      <td>15</td>\n",
       "      <td>11</td>\n",
       "      <td>11</td>\n",
       "      <td>8</td>\n",
       "      <td>8</td>\n",
       "      <td>7</td>\n",
       "      <td>3</td>\n",
       "      <td>2</td>\n",
       "      <td>3</td>\n",
       "      <td>3</td>\n",
       "      <td>3</td>\n",
       "      <td>2</td>\n",
       "      <td>2</td>\n",
       "      <td>1</td>\n",
       "      <td>1</td>\n",
       "      <td>1</td>\n",
       "      <td>0</td>\n",
       "      <td>0</td>\n",
       "      <td>0</td>\n",
       "      <td>0</td>\n",
       "      <td>0</td>\n",
       "      <td>0</td>\n",
       "      <td>0</td>\n",
       "      <td>0</td>\n",
       "      <td>0</td>\n",
       "      <td>0</td>\n",
       "      <td>0</td>\n",
       "      <td>0</td>\n",
       "      <td>0</td>\n",
       "      <td>0</td>\n",
       "      <td>0</td>\n",
       "      <td>0</td>\n",
       "      <td>0</td>\n",
       "      <td>0</td>\n",
       "      <td>0</td>\n",
       "      <td>134.319414</td>\n",
       "      <td>134.900156</td>\n",
       "      <td>131.192232</td>\n",
       "      <td>130.090693</td>\n",
       "      <td>132.349259</td>\n",
       "      <td>133.075690</td>\n",
       "      <td>131.896185</td>\n",
       "      <td>135.229414</td>\n",
       "      <td>143.962990</td>\n",
       "      <td>141.651766</td>\n",
       "      <td>141.904631</td>\n",
       "      <td>136.922291</td>\n",
       "      <td>133.534593</td>\n",
       "      <td>132.531465</td>\n",
       "      <td>132.531465</td>\n",
       "      <td>132.531465</td>\n",
       "      <td>132.531465</td>\n",
       "      <td>127.689375</td>\n",
       "      <td>128.190485</td>\n",
       "      <td>130.274628</td>\n",
       "      <td>130.274628</td>\n",
       "      <td>128.066251</td>\n",
       "      <td>128.066251</td>\n",
       "      <td>129.831559</td>\n",
       "      <td>151.460606</td>\n",
       "      <td>136.495454</td>\n",
       "      <td>159.063636</td>\n",
       "      <td>159.063636</td>\n",
       "      <td>159.063636</td>\n",
       "      <td>175.622727</td>\n",
       "      <td>175.622727</td>\n",
       "      <td>204.199999</td>\n",
       "      <td>204.199999</td>\n",
       "      <td>204.199999</td>\n",
       "      <td>204.199999</td>\n",
       "      <td>204.199999</td>\n",
       "      <td>204.199999</td>\n",
       "      <td>204.199999</td>\n",
       "      <td>204.199999</td>\n",
       "      <td>204.199999</td>\n",
       "      <td>204.199999</td>\n",
       "      <td>204.199999</td>\n",
       "      <td>204.199999</td>\n",
       "      <td>204.199999</td>\n",
       "      <td>204.199999</td>\n",
       "      <td>204.199999</td>\n",
       "      <td>204.199999</td>\n",
       "      <td>204.199999</td>\n",
       "      <td>204.199999</td>\n",
       "      <td>204.199999</td>\n",
       "      <td>204.199999</td>\n",
       "      <td>204.199999</td>\n",
       "      <td>204.199999</td>\n",
       "      <td>88</td>\n",
       "    </tr>\n",
       "    <tr>\n",
       "      <th>4</th>\n",
       "      <td>AVS</td>\n",
       "      <td>2018-03-29</td>\n",
       "      <td>OL_MEDITERRANEO</td>\n",
       "      <td>SUI</td>\n",
       "      <td>PC</td>\n",
       "      <td>VACAC</td>\n",
       "      <td>DESCONOCIDO</td>\n",
       "      <td>ES</td>\n",
       "      <td>172</td>\n",
       "      <td>170</td>\n",
       "      <td>164</td>\n",
       "      <td>59</td>\n",
       "      <td>0</td>\n",
       "      <td>0</td>\n",
       "      <td>2</td>\n",
       "      <td>1</td>\n",
       "      <td>1</td>\n",
       "      <td>0</td>\n",
       "      <td>0</td>\n",
       "      <td>0</td>\n",
       "      <td>0</td>\n",
       "      <td>0</td>\n",
       "      <td>0</td>\n",
       "      <td>0</td>\n",
       "      <td>0</td>\n",
       "      <td>0</td>\n",
       "      <td>0</td>\n",
       "      <td>0</td>\n",
       "      <td>0</td>\n",
       "      <td>0</td>\n",
       "      <td>0</td>\n",
       "      <td>0</td>\n",
       "      <td>0</td>\n",
       "      <td>0</td>\n",
       "      <td>0</td>\n",
       "      <td>0</td>\n",
       "      <td>0</td>\n",
       "      <td>0</td>\n",
       "      <td>0</td>\n",
       "      <td>0</td>\n",
       "      <td>0</td>\n",
       "      <td>0</td>\n",
       "      <td>0</td>\n",
       "      <td>0</td>\n",
       "      <td>0</td>\n",
       "      <td>0</td>\n",
       "      <td>0</td>\n",
       "      <td>0</td>\n",
       "      <td>0</td>\n",
       "      <td>0</td>\n",
       "      <td>0</td>\n",
       "      <td>0</td>\n",
       "      <td>0</td>\n",
       "      <td>0</td>\n",
       "      <td>0</td>\n",
       "      <td>0</td>\n",
       "      <td>0</td>\n",
       "      <td>0</td>\n",
       "      <td>0</td>\n",
       "      <td>0</td>\n",
       "      <td>0</td>\n",
       "      <td>60.645138</td>\n",
       "      <td>60.819145</td>\n",
       "      <td>60.667628</td>\n",
       "      <td>62.476117</td>\n",
       "      <td>62.476117</td>\n",
       "      <td>62.476117</td>\n",
       "      <td>45.854546</td>\n",
       "      <td>45.854546</td>\n",
       "      <td>45.854546</td>\n",
       "      <td>45.854546</td>\n",
       "      <td>45.854546</td>\n",
       "      <td>45.854546</td>\n",
       "      <td>45.854546</td>\n",
       "      <td>45.854546</td>\n",
       "      <td>45.854546</td>\n",
       "      <td>45.854546</td>\n",
       "      <td>45.854546</td>\n",
       "      <td>45.854546</td>\n",
       "      <td>45.854546</td>\n",
       "      <td>45.854546</td>\n",
       "      <td>45.854546</td>\n",
       "      <td>45.854546</td>\n",
       "      <td>45.854546</td>\n",
       "      <td>45.854546</td>\n",
       "      <td>45.854546</td>\n",
       "      <td>45.854546</td>\n",
       "      <td>45.854546</td>\n",
       "      <td>45.854546</td>\n",
       "      <td>45.854546</td>\n",
       "      <td>45.854546</td>\n",
       "      <td>45.854546</td>\n",
       "      <td>45.854546</td>\n",
       "      <td>45.854546</td>\n",
       "      <td>45.854546</td>\n",
       "      <td>45.854546</td>\n",
       "      <td>45.854546</td>\n",
       "      <td>45.854546</td>\n",
       "      <td>45.854546</td>\n",
       "      <td>45.854546</td>\n",
       "      <td>45.854546</td>\n",
       "      <td>45.854546</td>\n",
       "      <td>45.854546</td>\n",
       "      <td>45.854546</td>\n",
       "      <td>45.854546</td>\n",
       "      <td>45.854546</td>\n",
       "      <td>45.854546</td>\n",
       "      <td>45.854546</td>\n",
       "      <td>45.854546</td>\n",
       "      <td>45.854546</td>\n",
       "      <td>45.854546</td>\n",
       "      <td>45.854546</td>\n",
       "      <td>45.854546</td>\n",
       "      <td>45.854546</td>\n",
       "      <td>88</td>\n",
       "    </tr>\n",
       "  </tbody>\n",
       "</table>\n",
       "</div>"
      ],
      "text/plain": [
       "  idhotel fechaocupacion        idcliente idtipohab idregimen   idsegmento  \\\n",
       "0     AVS     2018-03-28  OL_MEDITERRANEO       SUI        PC        VACAC   \n",
       "1     TOS     2018-03-29        Huespedes       DBL        PC  DESCONOCIDO   \n",
       "2     PAV     2018-03-29        Huespedes       DBL        MP  DESCONOCIDO   \n",
       "3     PAV     2018-03-29        Huespedes       DBL        PC  DESCONOCIDO   \n",
       "4     AVS     2018-03-29  OL_MEDITERRANEO       SUI        PC        VACAC   \n",
       "\n",
       "      id_canal idpais_cliente  NHab  S1H  S2H  S3H  S4H  S5H  S6H  S7H  S8H  \\\n",
       "0  DESCONOCIDO             ES   170  170  164   59    0    0    0    0    0   \n",
       "1  DESCONOCIDO             ES    50   43   38   34   27   16    9    5    5   \n",
       "2  DESCONOCIDO             ES    85   75   66   57   51   53   43   31   26   \n",
       "3  DESCONOCIDO             ES    59   58   57   59   54   54   51   45   38   \n",
       "4  DESCONOCIDO             ES   172  170  164   59    0    0    2    1    1   \n",
       "\n",
       "   S9H  S10H  S11H  S12H  S13H  S14H  S15H  S16H  S17H  S18H  S19H  S20H  \\\n",
       "0    0     0     0     0     0     0     0     0     0     0     0     0   \n",
       "1    3     3     3     3     3     3     3     3     3     3     3     3   \n",
       "2   21    18    16    15    13    13    12    12    12    10    11     8   \n",
       "3   35    32    25    19    18    18    18    18    16    15    11    11   \n",
       "4    0     0     0     0     0     0     0     0     0     0     0     0   \n",
       "\n",
       "   S21H  S22H  S23H  S24H  S25H  S26H  S27H  S28H  S29H  S30H  S31H  S32H  \\\n",
       "0     0     0     0     0     0     0     0     0     0     0     0     0   \n",
       "1     3     4     4     1     1     1     1     1     1     1     1     0   \n",
       "2     7     7     7     5     3     3     2     1     1     1     0     0   \n",
       "3     8     8     7     3     2     3     3     3     2     2     1     1   \n",
       "4     0     0     0     0     0     0     0     0     0     0     0     0   \n",
       "\n",
       "   S33H  S34H  S35H  S36H  S37H  S38H  S39H  S40H  S41H  S42H  S43H  S44H  \\\n",
       "0     0     0     0     0     0     0     0     0     0     0     0     0   \n",
       "1     0     0     0     0     0     0     0     0     0     0     0     0   \n",
       "2     0     0     0     0     0     0     0     0     0     0     0     0   \n",
       "3     1     0     0     0     0     0     0     0     0     0     0     0   \n",
       "4     0     0     0     0     0     0     0     0     0     0     0     0   \n",
       "\n",
       "   S45H  S46H  S47H  S48H  S49H  S50H  S51H  S52H     PreuHab          S1  \\\n",
       "0     0     0     0     0     0     0     0     0   60.507701   60.507701   \n",
       "1     0     0     0     0     0     0     0     0  132.749145  131.154609   \n",
       "2     0     0     0     0     0     0     0     0  112.893850  113.756667   \n",
       "3     0     0     0     0     0     0     0     0  134.319414  134.900156   \n",
       "4     0     0     0     0     0     0     0     0   60.645138   60.819145   \n",
       "\n",
       "           S2          S3          S4          S5          S6          S7  \\\n",
       "0   60.641685   61.626811   61.626811   61.626811   61.626811   61.626811   \n",
       "1  136.163229  134.323609  133.601785  140.094489  151.445758  158.140547   \n",
       "2  112.792218  112.574243  110.947947  115.162688  117.390798  115.195005   \n",
       "3  131.192232  130.090693  132.349259  133.075690  131.896185  135.229414   \n",
       "4   60.667628   62.476117   62.476117   62.476117   45.854546   45.854546   \n",
       "\n",
       "           S8          S9         S10         S11         S12         S13  \\\n",
       "0   61.626811   61.626811   61.626811   61.626811   61.626811   61.626811   \n",
       "1  158.140547  140.758487  140.758487  140.758487  140.758487  140.758487   \n",
       "2  118.199822  121.180512  118.269184  123.123286  124.135748  128.087756   \n",
       "3  143.962990  141.651766  141.904631  136.922291  133.534593  132.531465   \n",
       "4   45.854546   45.854546   45.854546   45.854546   45.854546   45.854546   \n",
       "\n",
       "          S14         S15         S16         S17         S18         S19  \\\n",
       "0   61.626811   61.626811   61.626811   61.626811   61.626811   61.626811   \n",
       "1  140.758487  140.758487  140.758487  140.758487  140.758487  140.758487   \n",
       "2  128.087756  129.928403  129.928403  129.928403  128.684992  125.249574   \n",
       "3  132.531465  132.531465  132.531465  127.689375  128.190485  130.274628   \n",
       "4   45.854546   45.854546   45.854546   45.854546   45.854546   45.854546   \n",
       "\n",
       "          S20         S21         S22         S23         S24         S25  \\\n",
       "0   61.626811   61.626811   61.626811   61.626811   61.626811   61.626811   \n",
       "1  140.758487  140.758487  134.496138  134.496138  204.199999  204.199999   \n",
       "2  134.439772  133.202596  133.202596  133.202596  126.038181  103.978787   \n",
       "3  130.274628  128.066251  128.066251  129.831559  151.460606  136.495454   \n",
       "4   45.854546   45.854546   45.854546   45.854546   45.854546   45.854546   \n",
       "\n",
       "          S26         S27         S28         S29         S30         S31  \\\n",
       "0   61.626811   61.626811   61.626811   61.626811   61.626811   61.626811   \n",
       "1  204.199999  204.199999  204.199999  204.199999  204.199999  204.199999   \n",
       "2  103.978787   76.404545   85.309090   85.309090   85.309090   85.309090   \n",
       "3  159.063636  159.063636  159.063636  175.622727  175.622727  204.199999   \n",
       "4   45.854546   45.854546   45.854546   45.854546   45.854546   45.854546   \n",
       "\n",
       "          S32         S33         S34         S35         S36         S37  \\\n",
       "0   61.626811   61.626811   61.626811   61.626811   61.626811   61.626811   \n",
       "1  204.199999  204.199999  204.199999  204.199999  204.199999  204.199999   \n",
       "2   85.309090   85.309090   85.309090   85.309090   85.309090   85.309090   \n",
       "3  204.199999  204.199999  204.199999  204.199999  204.199999  204.199999   \n",
       "4   45.854546   45.854546   45.854546   45.854546   45.854546   45.854546   \n",
       "\n",
       "          S38         S39         S40         S41         S42         S43  \\\n",
       "0   61.626811   61.626811   61.626811   61.626811   61.626811   61.626811   \n",
       "1  204.199999  204.199999  204.199999  204.199999  204.199999  204.199999   \n",
       "2   85.309090   85.309090   85.309090   85.309090   85.309090   85.309090   \n",
       "3  204.199999  204.199999  204.199999  204.199999  204.199999  204.199999   \n",
       "4   45.854546   45.854546   45.854546   45.854546   45.854546   45.854546   \n",
       "\n",
       "          S44         S45         S46         S47         S48         S49  \\\n",
       "0   61.626811   61.626811   61.626811   61.626811   61.626811   61.626811   \n",
       "1  204.199999  204.199999  204.199999  204.199999  204.199999  204.199999   \n",
       "2   85.309090   85.309090   85.309090   85.309090   85.309090   85.309090   \n",
       "3  204.199999  204.199999  204.199999  204.199999  204.199999  204.199999   \n",
       "4   45.854546   45.854546   45.854546   45.854546   45.854546   45.854546   \n",
       "\n",
       "          S50         S51         S52 diaAño  \n",
       "0   61.626811   61.626811   61.626811     87  \n",
       "1  204.199999  204.199999  204.199999     88  \n",
       "2   85.309090   85.309090   85.309090     88  \n",
       "3  204.199999  204.199999  204.199999     88  \n",
       "4   45.854546   45.854546   45.854546     88  "
      ]
     },
     "execution_count": 3,
     "metadata": {},
     "output_type": "execute_result"
    },
    {
     "data": {
      "text/plain": [
       "(2260, 115)"
      ]
     },
     "execution_count": 3,
     "metadata": {},
     "output_type": "execute_result"
    }
   ],
   "source": [
    "df1.head()\n",
    "df1.shape"
   ]
  },
  {
   "cell_type": "markdown",
   "metadata": {},
   "source": [
    "## Funcions"
   ]
  },
  {
   "cell_type": "code",
   "execution_count": 5,
   "metadata": {
    "ExecuteTime": {
     "end_time": "2020-01-14T10:16:06.059592Z",
     "start_time": "2020-01-14T10:16:06.048598Z"
    }
   },
   "outputs": [],
   "source": [
    "def habitacionsPerCategoria(categoria, df):\n",
    "    cat = []\n",
    "    habCat = []\n",
    "    pHabCat = []\n",
    "    for c in categoria.unique():\n",
    "        cat.append(c) ## llista amb els valors unics de la categoria\n",
    "        habCat.append(sum(df[categoria==c]['NHab'])) ## suma d'habitacions\n",
    "        pHabCat.append(round(sum(df[categoria==c]['NHab'])*100/sum(df['NHab']),3)) ## percentatges\n",
    "    return pd.DataFrame(list(zip(cat, habCat, pHabCat)), columns = ['id', 'Total habitacions', 'Percentatge %'])"
   ]
  },
  {
   "cell_type": "code",
   "execution_count": 6,
   "metadata": {
    "ExecuteTime": {
     "end_time": "2020-01-14T10:16:06.078580Z",
     "start_time": "2020-01-14T10:16:06.074584Z"
    }
   },
   "outputs": [],
   "source": [
    "def filtroMenorQue5(lista):\n",
    "    if(lista < 5):\n",
    "        return True\n",
    "    else:\n",
    "        return False"
   ]
  },
  {
   "cell_type": "code",
   "execution_count": 7,
   "metadata": {
    "ExecuteTime": {
     "end_time": "2020-01-14T10:16:06.108564Z",
     "start_time": "2020-01-14T10:16:06.103567Z"
    }
   },
   "outputs": [],
   "source": [
    "def llistaHotel(hotel, df):\n",
    "    l = list(df[df['idhotel']==hotel]['NHab'])\n",
    "    return l"
   ]
  },
  {
   "cell_type": "markdown",
   "metadata": {},
   "source": [
    "# Anàlisi descriptiu"
   ]
  },
  {
   "cell_type": "markdown",
   "metadata": {},
   "source": [
    "## Variable objectiu"
   ]
  },
  {
   "cell_type": "code",
   "execution_count": 8,
   "metadata": {
    "ExecuteTime": {
     "end_time": "2020-01-14T10:16:07.971505Z",
     "start_time": "2020-01-14T10:16:07.955511Z"
    }
   },
   "outputs": [
    {
     "data": {
      "text/plain": [
       "count    2260.000000\n",
       "mean       72.819027\n",
       "std        32.875171\n",
       "min        47.000000\n",
       "25%        54.000000\n",
       "50%        64.000000\n",
       "75%        82.000000\n",
       "max       346.000000\n",
       "Name: NHab, dtype: float64"
      ]
     },
     "execution_count": 8,
     "metadata": {},
     "output_type": "execute_result"
    }
   ],
   "source": [
    "df1['NHab'].describe()"
   ]
  },
  {
   "cell_type": "markdown",
   "metadata": {},
   "source": [
    "#### Histogrames"
   ]
  },
  {
   "cell_type": "code",
   "execution_count": 9,
   "metadata": {
    "ExecuteTime": {
     "end_time": "2020-01-14T10:16:09.121940Z",
     "start_time": "2020-01-14T10:16:08.755776Z"
    },
    "scrolled": true
   },
   "outputs": [
    {
     "data": {
      "text/plain": [
       "Text(0.5, 1.0, \"Número d'habitacions ocupades\")"
      ]
     },
     "execution_count": 9,
     "metadata": {},
     "output_type": "execute_result"
    },
    {
     "data": {
      "text/plain": [
       "Text(0.5, 0, 'Habitacions')"
      ]
     },
     "execution_count": 9,
     "metadata": {},
     "output_type": "execute_result"
    },
    {
     "data": {
      "text/plain": [
       "Text(0, 0.5, 'Recompte')"
      ]
     },
     "execution_count": 9,
     "metadata": {},
     "output_type": "execute_result"
    },
    {
     "data": {
      "image/png": "[encoded data removed]",
      "text/plain": [
       "<Figure size 432x288 with 1 Axes>"
      ]
     },
     "metadata": {},
     "output_type": "display_data"
    }
   ],
   "source": [
    "plt.title(\"Número d'habitacions ocupades\")\n",
    "plt.xlabel('Habitacions')\n",
    "plt.ylabel('Recompte')\n",
    "plt.show(plt.hist(df1['NHab'], bins = 40))\n",
    "\n",
    "\n",
    "#df1[df1['NHab']<40]['NHab']"
   ]
  },
  {
   "cell_type": "markdown",
   "metadata": {},
   "source": [
    "#### Distribució"
   ]
  },
  {
   "cell_type": "code",
   "execution_count": 10,
   "metadata": {
    "ExecuteTime": {
     "end_time": "2020-01-14T10:16:09.980557Z",
     "start_time": "2020-01-14T10:16:09.761633Z"
    },
    "scrolled": true
   },
   "outputs": [
    {
     "data": {
      "text/plain": [
       "Text(0.5, 1.0, \"Distribució Número d'habitacions\")"
      ]
     },
     "execution_count": 10,
     "metadata": {},
     "output_type": "execute_result"
    },
    {
     "data": {
      "text/plain": [
       "Text(0.5, 0, \"Número d'habitacions\")"
      ]
     },
     "execution_count": 10,
     "metadata": {},
     "output_type": "execute_result"
    },
    {
     "data": {
      "text/plain": [
       "Text(0, 0.5, 'Densitat')"
      ]
     },
     "execution_count": 10,
     "metadata": {},
     "output_type": "execute_result"
    },
    {
     "data": {
      "image/png": "[encoded data removed]",
      "text/plain": [
       "<Figure size 432x288 with 1 Axes>"
      ]
     },
     "metadata": {},
     "output_type": "display_data"
    }
   ],
   "source": [
    "plt.title(\"Distribució Número d'habitacions\")\n",
    "plt.xlabel(\"Número d'habitacions\")\n",
    "plt.ylabel(\"Densitat\")\n",
    "plt.show(sns.distplot(df1.NHab, hist = False))\n"
   ]
  },
  {
   "cell_type": "markdown",
   "metadata": {
    "ExecuteTime": {
     "end_time": "2019-12-01T10:06:57.953615Z",
     "start_time": "2019-12-01T10:06:57.642762Z"
    }
   },
   "source": [
    "#### Boxplots"
   ]
  },
  {
   "cell_type": "code",
   "execution_count": 11,
   "metadata": {
    "ExecuteTime": {
     "end_time": "2020-01-14T10:16:10.934597Z",
     "start_time": "2020-01-14T10:16:10.764019Z"
    },
    "scrolled": true
   },
   "outputs": [
    {
     "data": {
      "text/plain": [
       "Text(0.5, 1.0, \"Boxplot Número d'habitacions\")"
      ]
     },
     "execution_count": 11,
     "metadata": {},
     "output_type": "execute_result"
    },
    {
     "data": {
      "image/png": "[encoded data removed]",
      "text/plain": [
       "<Figure size 432x288 with 1 Axes>"
      ]
     },
     "metadata": {},
     "output_type": "display_data"
    }
   ],
   "source": [
    "plt.title(\"Boxplot Número d'habitacions\")\n",
    "plt.show(sns.boxplot(x = df1['NHab']))\n"
   ]
  },
  {
   "cell_type": "markdown",
   "metadata": {},
   "source": [
    "## Variables categòriques"
   ]
  },
  {
   "cell_type": "markdown",
   "metadata": {},
   "source": [
    "### Hotel"
   ]
  },
  {
   "cell_type": "markdown",
   "metadata": {},
   "source": [
    "#### Anàlisi univariat"
   ]
  },
  {
   "cell_type": "code",
   "execution_count": 12,
   "metadata": {
    "ExecuteTime": {
     "end_time": "2020-01-14T10:16:13.433386Z",
     "start_time": "2020-01-14T10:16:13.418355Z"
    }
   },
   "outputs": [
    {
     "data": {
      "text/plain": [
       "array(['AVS', 'TOS', 'PAV', 'DON', 'TAU'], dtype=object)"
      ]
     },
     "execution_count": 12,
     "metadata": {},
     "output_type": "execute_result"
    }
   ],
   "source": [
    "df1.idhotel.unique()"
   ]
  },
  {
   "cell_type": "code",
   "execution_count": 13,
   "metadata": {
    "ExecuteTime": {
     "end_time": "2020-01-14T10:16:13.676360Z",
     "start_time": "2020-01-14T10:16:13.441414Z"
    }
   },
   "outputs": [
    {
     "data": {
      "text/plain": [
       "Text(0.5, 1.0, 'ID hotel')"
      ]
     },
     "execution_count": 13,
     "metadata": {},
     "output_type": "execute_result"
    },
    {
     "data": {
      "image/png": "[encoded data removed]",
      "text/plain": [
       "<Figure size 432x288 with 1 Axes>"
      ]
     },
     "metadata": {},
     "output_type": "display_data"
    }
   ],
   "source": [
    "plt.title('ID hotel')\n",
    "plt.show(df1['idhotel'].value_counts().sort_index().plot.bar())\n"
   ]
  },
  {
   "cell_type": "code",
   "execution_count": 14,
   "metadata": {
    "ExecuteTime": {
     "end_time": "2020-01-14T10:16:13.710215Z",
     "start_time": "2020-01-14T10:16:13.678433Z"
    }
   },
   "outputs": [
    {
     "data": {
      "text/html": [
       "<div>\n",
       "<style scoped>\n",
       "    .dataframe tbody tr th:only-of-type {\n",
       "        vertical-align: middle;\n",
       "    }\n",
       "\n",
       "    .dataframe tbody tr th {\n",
       "        vertical-align: top;\n",
       "    }\n",
       "\n",
       "    .dataframe thead th {\n",
       "        text-align: right;\n",
       "    }\n",
       "</style>\n",
       "<table border=\"1\" class=\"dataframe\">\n",
       "  <thead>\n",
       "    <tr style=\"text-align: right;\">\n",
       "      <th></th>\n",
       "      <th>%</th>\n",
       "      <th>Recompte</th>\n",
       "    </tr>\n",
       "  </thead>\n",
       "  <tbody>\n",
       "    <tr>\n",
       "      <th>TOS</th>\n",
       "      <td>27.389381</td>\n",
       "      <td>619</td>\n",
       "    </tr>\n",
       "    <tr>\n",
       "      <th>PAV</th>\n",
       "      <td>24.336283</td>\n",
       "      <td>550</td>\n",
       "    </tr>\n",
       "    <tr>\n",
       "      <th>AVS</th>\n",
       "      <td>23.185841</td>\n",
       "      <td>524</td>\n",
       "    </tr>\n",
       "    <tr>\n",
       "      <th>TAU</th>\n",
       "      <td>15.398230</td>\n",
       "      <td>348</td>\n",
       "    </tr>\n",
       "    <tr>\n",
       "      <th>DON</th>\n",
       "      <td>9.690265</td>\n",
       "      <td>219</td>\n",
       "    </tr>\n",
       "  </tbody>\n",
       "</table>\n",
       "</div>"
      ],
      "text/plain": [
       "             %  Recompte\n",
       "TOS  27.389381       619\n",
       "PAV  24.336283       550\n",
       "AVS  23.185841       524\n",
       "TAU  15.398230       348\n",
       "DON   9.690265       219"
      ]
     },
     "execution_count": 14,
     "metadata": {},
     "output_type": "execute_result"
    }
   ],
   "source": [
    "h = pd.concat([df1['idhotel'].value_counts().sort_index()/len(df1)*100, \n",
    "                df1['idhotel'].value_counts().sort_index()], axis = 1)\n",
    "h.columns = ['%', 'Recompte']\n",
    "h.sort_values(by=['Recompte'], ascending = False)\n"
   ]
  },
  {
   "cell_type": "markdown",
   "metadata": {},
   "source": [
    "\n",
    "#### Anàlisi bivariat"
   ]
  },
  {
   "cell_type": "code",
   "execution_count": 15,
   "metadata": {
    "ExecuteTime": {
     "end_time": "2020-01-14T10:16:14.885161Z",
     "start_time": "2020-01-14T10:16:14.560418Z"
    }
   },
   "outputs": [
    {
     "data": {
      "text/plain": [
       "Text(0.5, 1.0, \"Boxplot de nombre d'habitacions per hotel\")"
      ]
     },
     "execution_count": 15,
     "metadata": {},
     "output_type": "execute_result"
    },
    {
     "data": {
      "text/plain": [
       "(array([0. , 0.2, 0.4, 0.6, 0.8, 1. ]), <a list of 6 Text xticklabel objects>)"
      ]
     },
     "execution_count": 15,
     "metadata": {},
     "output_type": "execute_result"
    },
    {
     "data": {
      "text/plain": [
       "Text(0.5, 0, 'Hotel')"
      ]
     },
     "execution_count": 15,
     "metadata": {},
     "output_type": "execute_result"
    },
    {
     "data": {
      "text/plain": [
       "Text(0, 0.5, 'Nº Habitacions')"
      ]
     },
     "execution_count": 15,
     "metadata": {},
     "output_type": "execute_result"
    },
    {
     "data": {
      "image/png": "[encoded data removed]",
      "text/plain": [
       "<Figure size 432x288 with 1 Axes>"
      ]
     },
     "metadata": {},
     "output_type": "display_data"
    }
   ],
   "source": [
    "plt.title(\"Boxplot de nombre d'habitacions per hotel\")\n",
    "plt.xticks(rotation = 90)\n",
    "plt.xlabel(\"Hotel\")\n",
    "plt.ylabel(\"Nº Habitacions\")\n",
    "plt.show(sns.boxplot(x=\"idhotel\", y=\"NHab\", data=df1))"
   ]
  },
  {
   "cell_type": "markdown",
   "metadata": {},
   "source": [
    "### Client"
   ]
  },
  {
   "cell_type": "markdown",
   "metadata": {},
   "source": [
    "#### Anàlisi univariat"
   ]
  },
  {
   "cell_type": "code",
   "execution_count": 16,
   "metadata": {
    "ExecuteTime": {
     "end_time": "2020-01-14T10:16:16.524269Z",
     "start_time": "2020-01-14T10:16:16.344371Z"
    }
   },
   "outputs": [
    {
     "data": {
      "text/plain": [
       "Text(0.5, 1.0, 'ID client')"
      ]
     },
     "execution_count": 16,
     "metadata": {},
     "output_type": "execute_result"
    },
    {
     "data": {
      "image/png": "[encoded data removed]",
      "text/plain": [
       "<Figure size 432x288 with 1 Axes>"
      ]
     },
     "metadata": {},
     "output_type": "display_data"
    }
   ],
   "source": [
    "plt.title('ID client')\n",
    "plt.show(df1['idcliente'].value_counts().sort_index().plot.bar())\n",
    "\n"
   ]
  },
  {
   "cell_type": "code",
   "execution_count": 17,
   "metadata": {
    "ExecuteTime": {
     "end_time": "2020-01-14T10:16:16.550252Z",
     "start_time": "2020-01-14T10:16:16.528265Z"
    },
    "scrolled": true
   },
   "outputs": [
    {
     "data": {
      "text/html": [
       "<div>\n",
       "<style scoped>\n",
       "    .dataframe tbody tr th:only-of-type {\n",
       "        vertical-align: middle;\n",
       "    }\n",
       "\n",
       "    .dataframe tbody tr th {\n",
       "        vertical-align: top;\n",
       "    }\n",
       "\n",
       "    .dataframe thead th {\n",
       "        text-align: right;\n",
       "    }\n",
       "</style>\n",
       "<table border=\"1\" class=\"dataframe\">\n",
       "  <thead>\n",
       "    <tr style=\"text-align: right;\">\n",
       "      <th></th>\n",
       "      <th>%</th>\n",
       "      <th>Recompte</th>\n",
       "    </tr>\n",
       "  </thead>\n",
       "  <tbody>\n",
       "    <tr>\n",
       "      <th>TUI_UK_LTD</th>\n",
       "      <td>73.539823</td>\n",
       "      <td>1662</td>\n",
       "    </tr>\n",
       "    <tr>\n",
       "      <th>Otros</th>\n",
       "      <td>12.389381</td>\n",
       "      <td>280</td>\n",
       "    </tr>\n",
       "    <tr>\n",
       "      <th>Huespedes</th>\n",
       "      <td>11.106195</td>\n",
       "      <td>251</td>\n",
       "    </tr>\n",
       "    <tr>\n",
       "      <th>OL_MEDITERRANEO</th>\n",
       "      <td>2.964602</td>\n",
       "      <td>67</td>\n",
       "    </tr>\n",
       "  </tbody>\n",
       "</table>\n",
       "</div>"
      ],
      "text/plain": [
       "                         %  Recompte\n",
       "TUI_UK_LTD       73.539823      1662\n",
       "Otros            12.389381       280\n",
       "Huespedes        11.106195       251\n",
       "OL_MEDITERRANEO   2.964602        67"
      ]
     },
     "execution_count": 17,
     "metadata": {},
     "output_type": "execute_result"
    }
   ],
   "source": [
    "cl = pd.concat([df1['idcliente'].value_counts().sort_index()/len(df1)*100, \n",
    "                df1['idcliente'].value_counts().sort_index()], axis = 1)\n",
    "cl.columns = ['%', 'Recompte']\n",
    "cl.sort_values(by=['Recompte'], ascending = False)\n"
   ]
  },
  {
   "cell_type": "markdown",
   "metadata": {},
   "source": [
    "#### Anàlisi bivariat"
   ]
  },
  {
   "cell_type": "code",
   "execution_count": 18,
   "metadata": {
    "ExecuteTime": {
     "end_time": "2020-01-14T10:16:17.716028Z",
     "start_time": "2020-01-14T10:16:17.448116Z"
    }
   },
   "outputs": [
    {
     "data": {
      "text/plain": [
       "Text(0.5, 1.0, \"Boxplots del nombre d'habitacions segons el client\")"
      ]
     },
     "execution_count": 18,
     "metadata": {},
     "output_type": "execute_result"
    },
    {
     "data": {
      "text/plain": [
       "(array([0. , 0.2, 0.4, 0.6, 0.8, 1. ]), <a list of 6 Text xticklabel objects>)"
      ]
     },
     "execution_count": 18,
     "metadata": {},
     "output_type": "execute_result"
    },
    {
     "data": {
      "image/png": "[encoded data removed]",
      "text/plain": [
       "<Figure size 432x288 with 1 Axes>"
      ]
     },
     "metadata": {},
     "output_type": "display_data"
    }
   ],
   "source": [
    "plt.title(\"Boxplots del nombre d'habitacions segons el client\")\n",
    "plt.xticks(rotation = 90)\n",
    "plt.show(sns.boxplot(x = 'idcliente', y = 'NHab', data = df1))\n",
    "\n"
   ]
  },
  {
   "cell_type": "markdown",
   "metadata": {},
   "source": [
    "### Tipus Habitació"
   ]
  },
  {
   "cell_type": "markdown",
   "metadata": {},
   "source": [
    "\n",
    "#### Anàlisi univariat"
   ]
  },
  {
   "cell_type": "code",
   "execution_count": 19,
   "metadata": {
    "ExecuteTime": {
     "end_time": "2020-01-14T10:16:20.062931Z",
     "start_time": "2020-01-14T10:16:19.754530Z"
    },
    "scrolled": true
   },
   "outputs": [
    {
     "data": {
      "text/plain": [
       "Text(0.5, 1.0, \"Tipus d'habitació\")"
      ]
     },
     "execution_count": 19,
     "metadata": {},
     "output_type": "execute_result"
    },
    {
     "data": {
      "image/png": "[encoded data removed]",
      "text/plain": [
       "<Figure size 432x288 with 1 Axes>"
      ]
     },
     "metadata": {},
     "output_type": "display_data"
    }
   ],
   "source": [
    "plt.title(\"Tipus d'habitació\")\n",
    "plt.show(df1['idtipohab'].value_counts().sort_index().plot.bar())\n"
   ]
  },
  {
   "cell_type": "code",
   "execution_count": 20,
   "metadata": {
    "ExecuteTime": {
     "end_time": "2020-01-14T10:16:20.093126Z",
     "start_time": "2020-01-14T10:16:20.062931Z"
    }
   },
   "outputs": [
    {
     "data": {
      "text/html": [
       "<div>\n",
       "<style scoped>\n",
       "    .dataframe tbody tr th:only-of-type {\n",
       "        vertical-align: middle;\n",
       "    }\n",
       "\n",
       "    .dataframe tbody tr th {\n",
       "        vertical-align: top;\n",
       "    }\n",
       "\n",
       "    .dataframe thead th {\n",
       "        text-align: right;\n",
       "    }\n",
       "</style>\n",
       "<table border=\"1\" class=\"dataframe\">\n",
       "  <thead>\n",
       "    <tr style=\"text-align: right;\">\n",
       "      <th></th>\n",
       "      <th>%</th>\n",
       "      <th>Recompte</th>\n",
       "    </tr>\n",
       "  </thead>\n",
       "  <tbody>\n",
       "    <tr>\n",
       "      <th>DBL</th>\n",
       "      <td>76.814159</td>\n",
       "      <td>1736</td>\n",
       "    </tr>\n",
       "    <tr>\n",
       "      <th>SUI</th>\n",
       "      <td>23.185841</td>\n",
       "      <td>524</td>\n",
       "    </tr>\n",
       "  </tbody>\n",
       "</table>\n",
       "</div>"
      ],
      "text/plain": [
       "             %  Recompte\n",
       "DBL  76.814159      1736\n",
       "SUI  23.185841       524"
      ]
     },
     "execution_count": 20,
     "metadata": {},
     "output_type": "execute_result"
    }
   ],
   "source": [
    "hab = pd.concat([df1['idtipohab'].value_counts().sort_index()/len(df1)*100, \n",
    "                df1['idtipohab'].value_counts().sort_index()], axis = 1)\n",
    "hab.columns = ['%', 'Recompte']\n",
    "hab.sort_values(by=['Recompte'], ascending = False)\n",
    "\n"
   ]
  },
  {
   "cell_type": "markdown",
   "metadata": {},
   "source": [
    "#### Anàlisi bivariat"
   ]
  },
  {
   "cell_type": "code",
   "execution_count": 21,
   "metadata": {
    "ExecuteTime": {
     "end_time": "2020-01-14T10:16:21.124557Z",
     "start_time": "2020-01-14T10:16:20.927669Z"
    }
   },
   "outputs": [
    {
     "data": {
      "text/plain": [
       "Text(0.5, 1.0, \"Boxplots de nombre d'habitacions segons tipus d'habitació\")"
      ]
     },
     "execution_count": 21,
     "metadata": {},
     "output_type": "execute_result"
    },
    {
     "data": {
      "image/png": "[encoded data removed]",
      "text/plain": [
       "<Figure size 432x288 with 1 Axes>"
      ]
     },
     "metadata": {},
     "output_type": "display_data"
    }
   ],
   "source": [
    "plt.title(\"Boxplots de nombre d'habitacions segons tipus d'habitació\")\n",
    "plt.show(sns.boxplot(x=\"idtipohab\", y=\"NHab\", data=df1))\n"
   ]
  },
  {
   "cell_type": "markdown",
   "metadata": {},
   "source": [
    "##### Comportament de idtiohab amb idhotel"
   ]
  },
  {
   "cell_type": "markdown",
   "metadata": {},
   "source": [
    "S'analitza el tipus d'habitació que ven cada hotel"
   ]
  },
  {
   "cell_type": "code",
   "execution_count": 22,
   "metadata": {
    "ExecuteTime": {
     "end_time": "2020-01-14T10:16:22.977948Z",
     "start_time": "2020-01-14T10:16:22.902995Z"
    },
    "scrolled": false
   },
   "outputs": [
    {
     "data": {
      "text/html": [
       "<div>\n",
       "<style scoped>\n",
       "    .dataframe tbody tr th:only-of-type {\n",
       "        vertical-align: middle;\n",
       "    }\n",
       "\n",
       "    .dataframe tbody tr th {\n",
       "        vertical-align: top;\n",
       "    }\n",
       "\n",
       "    .dataframe thead th {\n",
       "        text-align: right;\n",
       "    }\n",
       "</style>\n",
       "<table border=\"1\" class=\"dataframe\">\n",
       "  <thead>\n",
       "    <tr style=\"text-align: right;\">\n",
       "      <th>idtipohab</th>\n",
       "      <th>DBL</th>\n",
       "      <th>SUI</th>\n",
       "      <th>Total</th>\n",
       "    </tr>\n",
       "    <tr>\n",
       "      <th>idhotel</th>\n",
       "      <th></th>\n",
       "      <th></th>\n",
       "      <th></th>\n",
       "    </tr>\n",
       "  </thead>\n",
       "  <tbody>\n",
       "    <tr>\n",
       "      <th>AVS</th>\n",
       "      <td>0</td>\n",
       "      <td>524</td>\n",
       "      <td>524</td>\n",
       "    </tr>\n",
       "    <tr>\n",
       "      <th>DON</th>\n",
       "      <td>219</td>\n",
       "      <td>0</td>\n",
       "      <td>219</td>\n",
       "    </tr>\n",
       "    <tr>\n",
       "      <th>PAV</th>\n",
       "      <td>550</td>\n",
       "      <td>0</td>\n",
       "      <td>550</td>\n",
       "    </tr>\n",
       "    <tr>\n",
       "      <th>TAU</th>\n",
       "      <td>348</td>\n",
       "      <td>0</td>\n",
       "      <td>348</td>\n",
       "    </tr>\n",
       "    <tr>\n",
       "      <th>TOS</th>\n",
       "      <td>619</td>\n",
       "      <td>0</td>\n",
       "      <td>619</td>\n",
       "    </tr>\n",
       "    <tr>\n",
       "      <th>Total</th>\n",
       "      <td>1736</td>\n",
       "      <td>524</td>\n",
       "      <td>2260</td>\n",
       "    </tr>\n",
       "  </tbody>\n",
       "</table>\n",
       "</div>"
      ],
      "text/plain": [
       "idtipohab   DBL  SUI  Total\n",
       "idhotel                    \n",
       "AVS           0  524    524\n",
       "DON         219    0    219\n",
       "PAV         550    0    550\n",
       "TAU         348    0    348\n",
       "TOS         619    0    619\n",
       "Total      1736  524   2260"
      ]
     },
     "execution_count": 22,
     "metadata": {},
     "output_type": "execute_result"
    }
   ],
   "source": [
    "hotelHab = pd.crosstab(df1.idhotel, df1.idtipohab, margins = True, margins_name = 'Total')\n",
    "hotelHab\n"
   ]
  },
  {
   "cell_type": "markdown",
   "metadata": {},
   "source": [
    "### Règim"
   ]
  },
  {
   "cell_type": "markdown",
   "metadata": {},
   "source": [
    "#### Anàlisi univariat"
   ]
  },
  {
   "cell_type": "code",
   "execution_count": 23,
   "metadata": {
    "ExecuteTime": {
     "end_time": "2020-01-14T10:16:25.031537Z",
     "start_time": "2020-01-14T10:16:24.843563Z"
    }
   },
   "outputs": [
    {
     "data": {
      "text/plain": [
       "Text(0.5, 1.0, 'Règim')"
      ]
     },
     "execution_count": 23,
     "metadata": {},
     "output_type": "execute_result"
    },
    {
     "data": {
      "image/png": "[encoded data removed]",
      "text/plain": [
       "<Figure size 432x288 with 1 Axes>"
      ]
     },
     "metadata": {},
     "output_type": "display_data"
    }
   ],
   "source": [
    "plt.title('Règim')\n",
    "plt.show(df1['idregimen'].value_counts().sort_index().plot.bar())\n",
    "\n",
    "\n"
   ]
  },
  {
   "cell_type": "code",
   "execution_count": 24,
   "metadata": {
    "ExecuteTime": {
     "end_time": "2020-01-14T10:16:25.055531Z",
     "start_time": "2020-01-14T10:16:25.031537Z"
    }
   },
   "outputs": [
    {
     "data": {
      "text/html": [
       "<div>\n",
       "<style scoped>\n",
       "    .dataframe tbody tr th:only-of-type {\n",
       "        vertical-align: middle;\n",
       "    }\n",
       "\n",
       "    .dataframe tbody tr th {\n",
       "        vertical-align: top;\n",
       "    }\n",
       "\n",
       "    .dataframe thead th {\n",
       "        text-align: right;\n",
       "    }\n",
       "</style>\n",
       "<table border=\"1\" class=\"dataframe\">\n",
       "  <thead>\n",
       "    <tr style=\"text-align: right;\">\n",
       "      <th></th>\n",
       "      <th>%</th>\n",
       "      <th>Recompte</th>\n",
       "    </tr>\n",
       "  </thead>\n",
       "  <tbody>\n",
       "    <tr>\n",
       "      <th>MP</th>\n",
       "      <td>48.097345</td>\n",
       "      <td>1087</td>\n",
       "    </tr>\n",
       "    <tr>\n",
       "      <th>TI</th>\n",
       "      <td>40.000000</td>\n",
       "      <td>904</td>\n",
       "    </tr>\n",
       "    <tr>\n",
       "      <th>PC</th>\n",
       "      <td>11.592920</td>\n",
       "      <td>262</td>\n",
       "    </tr>\n",
       "    <tr>\n",
       "      <th>AD</th>\n",
       "      <td>0.309735</td>\n",
       "      <td>7</td>\n",
       "    </tr>\n",
       "  </tbody>\n",
       "</table>\n",
       "</div>"
      ],
      "text/plain": [
       "            %  Recompte\n",
       "MP  48.097345      1087\n",
       "TI  40.000000       904\n",
       "PC  11.592920       262\n",
       "AD   0.309735         7"
      ]
     },
     "execution_count": 24,
     "metadata": {},
     "output_type": "execute_result"
    }
   ],
   "source": [
    "r = pd.concat([df1['idregimen'].value_counts().sort_index()/len(df1)*100, \n",
    "                df1['idregimen'].value_counts().sort_index()], axis = 1)\n",
    "r.columns = ['%', 'Recompte']\n",
    "r.sort_values(by=['Recompte'], ascending = False)\n"
   ]
  },
  {
   "cell_type": "markdown",
   "metadata": {},
   "source": [
    "#### Anàlisi bivariat "
   ]
  },
  {
   "cell_type": "code",
   "execution_count": 25,
   "metadata": {
    "ExecuteTime": {
     "end_time": "2020-01-14T10:16:26.139720Z",
     "start_time": "2020-01-14T10:16:25.873879Z"
    }
   },
   "outputs": [
    {
     "data": {
      "text/plain": [
       "Text(0.5, 1.0, \"Boxplots de nombre d'habitacions segons tipus de règim\")"
      ]
     },
     "execution_count": 25,
     "metadata": {},
     "output_type": "execute_result"
    },
    {
     "data": {
      "image/png": "[encoded data removed]",
      "text/plain": [
       "<Figure size 432x288 with 1 Axes>"
      ]
     },
     "metadata": {},
     "output_type": "display_data"
    }
   ],
   "source": [
    "plt.title(\"Boxplots de nombre d'habitacions segons tipus de règim\")\n",
    "plt.show(sns.boxplot(x=\"idregimen\", y=\"NHab\", data=df1))\n",
    "\n"
   ]
  },
  {
   "cell_type": "markdown",
   "metadata": {},
   "source": [
    "### Segment"
   ]
  },
  {
   "cell_type": "markdown",
   "metadata": {},
   "source": [
    "#### Anàlisi univariat"
   ]
  },
  {
   "cell_type": "code",
   "execution_count": 26,
   "metadata": {
    "ExecuteTime": {
     "end_time": "2020-01-14T10:16:28.234852Z",
     "start_time": "2020-01-14T10:16:28.052360Z"
    }
   },
   "outputs": [
    {
     "data": {
      "text/plain": [
       "Text(0.5, 1.0, 'Segment')"
      ]
     },
     "execution_count": 26,
     "metadata": {},
     "output_type": "execute_result"
    },
    {
     "data": {
      "image/png": "[encoded data removed]",
      "text/plain": [
       "<Figure size 432x288 with 1 Axes>"
      ]
     },
     "metadata": {},
     "output_type": "display_data"
    }
   ],
   "source": [
    "plt.title(\"Segment\")\n",
    "plt.show(df1['idsegmento'].value_counts().sort_index().plot.bar())\n",
    "\n",
    "\n"
   ]
  },
  {
   "cell_type": "code",
   "execution_count": 27,
   "metadata": {
    "ExecuteTime": {
     "end_time": "2020-01-14T10:16:28.256236Z",
     "start_time": "2020-01-14T10:16:28.234852Z"
    }
   },
   "outputs": [
    {
     "data": {
      "text/html": [
       "<div>\n",
       "<style scoped>\n",
       "    .dataframe tbody tr th:only-of-type {\n",
       "        vertical-align: middle;\n",
       "    }\n",
       "\n",
       "    .dataframe tbody tr th {\n",
       "        vertical-align: top;\n",
       "    }\n",
       "\n",
       "    .dataframe thead th {\n",
       "        text-align: right;\n",
       "    }\n",
       "</style>\n",
       "<table border=\"1\" class=\"dataframe\">\n",
       "  <thead>\n",
       "    <tr style=\"text-align: right;\">\n",
       "      <th></th>\n",
       "      <th>%</th>\n",
       "      <th>Recompte</th>\n",
       "    </tr>\n",
       "  </thead>\n",
       "  <tbody>\n",
       "    <tr>\n",
       "      <th>VACAC</th>\n",
       "      <td>56.637168</td>\n",
       "      <td>1280</td>\n",
       "    </tr>\n",
       "    <tr>\n",
       "      <th>DESCONOCIDO</th>\n",
       "      <td>43.362832</td>\n",
       "      <td>980</td>\n",
       "    </tr>\n",
       "  </tbody>\n",
       "</table>\n",
       "</div>"
      ],
      "text/plain": [
       "                     %  Recompte\n",
       "VACAC        56.637168      1280\n",
       "DESCONOCIDO  43.362832       980"
      ]
     },
     "execution_count": 27,
     "metadata": {},
     "output_type": "execute_result"
    }
   ],
   "source": [
    "s = pd.concat([df1['idsegmento'].value_counts().sort_index()/len(df1)*100, \n",
    "                df1['idsegmento'].value_counts().sort_index()], axis = 1)\n",
    "s.columns = ['%', 'Recompte']\n",
    "s.sort_values(by=['Recompte'], ascending = False)\n"
   ]
  },
  {
   "cell_type": "code",
   "execution_count": 28,
   "metadata": {
    "ExecuteTime": {
     "end_time": "2020-01-14T10:16:28.276231Z",
     "start_time": "2020-01-14T10:16:28.260236Z"
    }
   },
   "outputs": [
    {
     "data": {
      "text/plain": [
       "count      1662\n",
       "unique        2\n",
       "top       VACAC\n",
       "freq       1213\n",
       "Name: idsegmento, dtype: object"
      ]
     },
     "execution_count": 28,
     "metadata": {},
     "output_type": "execute_result"
    }
   ],
   "source": [
    "df1[df1['idcliente']=='TUI_UK_LTD'].idsegmento.describe()"
   ]
  },
  {
   "cell_type": "markdown",
   "metadata": {},
   "source": [
    "Aproximadament un 75% de les dades que la variable *idcliente* és *TUI_UK_LTD*, l'*idsegmento* és vacacional."
   ]
  },
  {
   "cell_type": "markdown",
   "metadata": {},
   "source": [
    "#### Anàlisi bivariat"
   ]
  },
  {
   "cell_type": "code",
   "execution_count": 29,
   "metadata": {
    "ExecuteTime": {
     "end_time": "2020-01-14T10:16:30.180652Z",
     "start_time": "2020-01-14T10:16:29.946559Z"
    }
   },
   "outputs": [
    {
     "data": {
      "text/plain": [
       "Text(0.5, 1.0, \"Boxplots de nombre d'habitacions segons segment\")"
      ]
     },
     "execution_count": 29,
     "metadata": {},
     "output_type": "execute_result"
    },
    {
     "data": {
      "image/png": "[encoded data removed]",
      "text/plain": [
       "<Figure size 432x288 with 1 Axes>"
      ]
     },
     "metadata": {},
     "output_type": "display_data"
    }
   ],
   "source": [
    "plt.title(\"Boxplots de nombre d'habitacions segons segment\")\n",
    "plt.show(sns.boxplot(x=\"idsegmento\", y=\"NHab\", data=df1))\n"
   ]
  },
  {
   "cell_type": "markdown",
   "metadata": {},
   "source": [
    "### Canal"
   ]
  },
  {
   "cell_type": "markdown",
   "metadata": {},
   "source": [
    "#### Anàlisi univariat"
   ]
  },
  {
   "cell_type": "code",
   "execution_count": 30,
   "metadata": {
    "ExecuteTime": {
     "end_time": "2020-01-14T10:16:32.375323Z",
     "start_time": "2020-01-14T10:16:32.190238Z"
    }
   },
   "outputs": [
    {
     "data": {
      "text/plain": [
       "Text(0.5, 1.0, 'Canal')"
      ]
     },
     "execution_count": 30,
     "metadata": {},
     "output_type": "execute_result"
    },
    {
     "data": {
      "image/png": "[encoded data removed]",
      "text/plain": [
       "<Figure size 432x288 with 1 Axes>"
      ]
     },
     "metadata": {},
     "output_type": "display_data"
    }
   ],
   "source": [
    "plt.title(\"Canal\")\n",
    "plt.show(df1['id_canal'].value_counts().sort_index().plot.bar())\n",
    "\n",
    "\n"
   ]
  },
  {
   "cell_type": "code",
   "execution_count": 31,
   "metadata": {
    "ExecuteTime": {
     "end_time": "2020-01-14T10:16:32.401537Z",
     "start_time": "2020-01-14T10:16:32.377553Z"
    }
   },
   "outputs": [
    {
     "data": {
      "text/html": [
       "<div>\n",
       "<style scoped>\n",
       "    .dataframe tbody tr th:only-of-type {\n",
       "        vertical-align: middle;\n",
       "    }\n",
       "\n",
       "    .dataframe tbody tr th {\n",
       "        vertical-align: top;\n",
       "    }\n",
       "\n",
       "    .dataframe thead th {\n",
       "        text-align: right;\n",
       "    }\n",
       "</style>\n",
       "<table border=\"1\" class=\"dataframe\">\n",
       "  <thead>\n",
       "    <tr style=\"text-align: right;\">\n",
       "      <th></th>\n",
       "      <th>%</th>\n",
       "      <th>Recompte</th>\n",
       "    </tr>\n",
       "  </thead>\n",
       "  <tbody>\n",
       "    <tr>\n",
       "      <th>DESCONOCIDO</th>\n",
       "      <td>91.946903</td>\n",
       "      <td>2078</td>\n",
       "    </tr>\n",
       "    <tr>\n",
       "      <th>TTOO</th>\n",
       "      <td>7.831858</td>\n",
       "      <td>177</td>\n",
       "    </tr>\n",
       "    <tr>\n",
       "      <th>GRUPOS</th>\n",
       "      <td>0.221239</td>\n",
       "      <td>5</td>\n",
       "    </tr>\n",
       "  </tbody>\n",
       "</table>\n",
       "</div>"
      ],
      "text/plain": [
       "                     %  Recompte\n",
       "DESCONOCIDO  91.946903      2078\n",
       "TTOO          7.831858       177\n",
       "GRUPOS        0.221239         5"
      ]
     },
     "execution_count": 31,
     "metadata": {},
     "output_type": "execute_result"
    }
   ],
   "source": [
    "c = pd.concat([df1['id_canal'].value_counts().sort_index()/len(df1)*100, \n",
    "               df1['id_canal'].value_counts().sort_index()], axis = 1)\n",
    "c.columns = ['%', 'Recompte']\n",
    "c.sort_values(by=['Recompte'], ascending = False)\n"
   ]
  },
  {
   "cell_type": "markdown",
   "metadata": {},
   "source": [
    "\n",
    "#### Anàlisi bivariat"
   ]
  },
  {
   "cell_type": "code",
   "execution_count": 32,
   "metadata": {
    "ExecuteTime": {
     "end_time": "2020-01-14T10:16:33.424715Z",
     "start_time": "2020-01-14T10:16:33.211965Z"
    }
   },
   "outputs": [
    {
     "data": {
      "text/plain": [
       "Text(0.5, 1.0, \"Boxplots de nombre d'habitacions segons canal\")"
      ]
     },
     "execution_count": 32,
     "metadata": {},
     "output_type": "execute_result"
    },
    {
     "data": {
      "image/png": "[encoded data removed]",
      "text/plain": [
       "<Figure size 432x288 with 1 Axes>"
      ]
     },
     "metadata": {},
     "output_type": "display_data"
    }
   ],
   "source": [
    "plt.title(\"Boxplots de nombre d'habitacions segons canal\")\n",
    "plt.show(sns.boxplot(x=\"id_canal\", y=\"NHab\", data=df1))\n",
    "\n"
   ]
  },
  {
   "cell_type": "markdown",
   "metadata": {},
   "source": [
    "### País client"
   ]
  },
  {
   "cell_type": "markdown",
   "metadata": {},
   "source": [
    "#### Anàlisi univariat"
   ]
  },
  {
   "cell_type": "code",
   "execution_count": 33,
   "metadata": {
    "ExecuteTime": {
     "end_time": "2020-01-14T10:16:35.472276Z",
     "start_time": "2020-01-14T10:16:35.262878Z"
    },
    "scrolled": true
   },
   "outputs": [
    {
     "data": {
      "text/plain": [
       "Text(0.5, 1.0, \"País de l'agència client\")"
      ]
     },
     "execution_count": 33,
     "metadata": {},
     "output_type": "execute_result"
    },
    {
     "data": {
      "image/png": "[encoded data removed]",
      "text/plain": [
       "<Figure size 432x288 with 1 Axes>"
      ]
     },
     "metadata": {},
     "output_type": "display_data"
    }
   ],
   "source": [
    "plt.title(\"País de l'agència client\")\n",
    "plt.show(df1['idpais_cliente'].value_counts().sort_index().plot.bar())\n",
    "\n"
   ]
  },
  {
   "cell_type": "code",
   "execution_count": 34,
   "metadata": {
    "ExecuteTime": {
     "end_time": "2020-01-14T10:16:35.502510Z",
     "start_time": "2020-01-14T10:16:35.472276Z"
    }
   },
   "outputs": [
    {
     "data": {
      "text/html": [
       "<div>\n",
       "<style scoped>\n",
       "    .dataframe tbody tr th:only-of-type {\n",
       "        vertical-align: middle;\n",
       "    }\n",
       "\n",
       "    .dataframe tbody tr th {\n",
       "        vertical-align: top;\n",
       "    }\n",
       "\n",
       "    .dataframe thead th {\n",
       "        text-align: right;\n",
       "    }\n",
       "</style>\n",
       "<table border=\"1\" class=\"dataframe\">\n",
       "  <thead>\n",
       "    <tr style=\"text-align: right;\">\n",
       "      <th></th>\n",
       "      <th>%</th>\n",
       "      <th>Recompte</th>\n",
       "    </tr>\n",
       "  </thead>\n",
       "  <tbody>\n",
       "    <tr>\n",
       "      <th>GB</th>\n",
       "      <td>74.867257</td>\n",
       "      <td>1692</td>\n",
       "    </tr>\n",
       "    <tr>\n",
       "      <th>ES</th>\n",
       "      <td>21.415929</td>\n",
       "      <td>484</td>\n",
       "    </tr>\n",
       "    <tr>\n",
       "      <th>CE</th>\n",
       "      <td>3.097345</td>\n",
       "      <td>70</td>\n",
       "    </tr>\n",
       "    <tr>\n",
       "      <th>OE</th>\n",
       "      <td>0.619469</td>\n",
       "      <td>14</td>\n",
       "    </tr>\n",
       "  </tbody>\n",
       "</table>\n",
       "</div>"
      ],
      "text/plain": [
       "            %  Recompte\n",
       "GB  74.867257      1692\n",
       "ES  21.415929       484\n",
       "CE   3.097345        70\n",
       "OE   0.619469        14"
      ]
     },
     "execution_count": 34,
     "metadata": {},
     "output_type": "execute_result"
    }
   ],
   "source": [
    "pc = pd.concat([df1['idpais_cliente'].value_counts().sort_index()/len(df1)*100, \n",
    "           df1['idpais_cliente'].value_counts().sort_index()], axis = 1)\n",
    "pc.columns = ['%', 'Recompte']\n",
    "pc.sort_values(by = 'Recompte', ascending = False)\n"
   ]
  },
  {
   "cell_type": "markdown",
   "metadata": {},
   "source": [
    "#### Anàlisi bivariat"
   ]
  },
  {
   "cell_type": "code",
   "execution_count": 35,
   "metadata": {
    "ExecuteTime": {
     "end_time": "2020-01-14T10:16:36.735168Z",
     "start_time": "2020-01-14T10:16:36.458688Z"
    }
   },
   "outputs": [
    {
     "data": {
      "text/plain": [
       "Text(0.5, 1.0, \"Boxplots de nombre d'habitacions segons el país de l'agència client\")"
      ]
     },
     "execution_count": 35,
     "metadata": {},
     "output_type": "execute_result"
    },
    {
     "data": {
      "image/png": "[encoded data removed]",
      "text/plain": [
       "<Figure size 432x288 with 1 Axes>"
      ]
     },
     "metadata": {},
     "output_type": "display_data"
    }
   ],
   "source": [
    "plt.title(\"Boxplots de nombre d'habitacions segons el país de l'agència client\")\n",
    "plt.show(sns.boxplot(x=\"idpais_cliente\", y=\"NHab\", data=df1))\n",
    "\n"
   ]
  },
  {
   "cell_type": "markdown",
   "metadata": {},
   "source": [
    "### Data"
   ]
  },
  {
   "cell_type": "code",
   "execution_count": 36,
   "metadata": {
    "ExecuteTime": {
     "end_time": "2020-01-14T10:16:37.861790Z",
     "start_time": "2020-01-14T10:16:37.587948Z"
    }
   },
   "outputs": [
    {
     "data": {
      "text/plain": [
       "Text(0.5, 1.0, \"Reserves d'habitacions segons el dia de l'any\")"
      ]
     },
     "execution_count": 36,
     "metadata": {},
     "output_type": "execute_result"
    },
    {
     "data": {
      "text/plain": [
       "Text(0.5, 0, \"Dia de l'any\")"
      ]
     },
     "execution_count": 36,
     "metadata": {},
     "output_type": "execute_result"
    },
    {
     "data": {
      "text/plain": [
       "Text(0, 0.5, 'Nº habitacions reservades')"
      ]
     },
     "execution_count": 36,
     "metadata": {},
     "output_type": "execute_result"
    },
    {
     "data": {
      "text/plain": [
       "<matplotlib.collections.PathCollection at 0x1d5fd160c50>"
      ]
     },
     "execution_count": 36,
     "metadata": {},
     "output_type": "execute_result"
    },
    {
     "data": {
      "image/png": "[encoded data removed]",
      "text/plain": [
       "<Figure size 432x288 with 1 Axes>"
      ]
     },
     "metadata": {},
     "output_type": "display_data"
    }
   ],
   "source": [
    "plt.title(\"Reserves d'habitacions segons el dia de l'any\")\n",
    "plt.xlabel(\"Dia de l'any\")\n",
    "plt.ylabel(\"Nº habitacions reservades\")\n",
    "plt.scatter(df1['diaAño'],df1['NHab'])"
   ]
  },
  {
   "cell_type": "markdown",
   "metadata": {},
   "source": [
    "## Variables numèriques"
   ]
  },
  {
   "cell_type": "markdown",
   "metadata": {},
   "source": [
    "### Preu mig"
   ]
  },
  {
   "cell_type": "markdown",
   "metadata": {},
   "source": [
    "#### Anàlisi univariat"
   ]
  },
  {
   "cell_type": "code",
   "execution_count": 37,
   "metadata": {
    "ExecuteTime": {
     "end_time": "2020-01-14T10:16:40.719767Z",
     "start_time": "2020-01-14T10:16:40.704616Z"
    }
   },
   "outputs": [
    {
     "data": {
      "text/plain": [
       "count    2260.000000\n",
       "mean      101.354920\n",
       "std        42.001822\n",
       "min        40.312496\n",
       "25%        69.303233\n",
       "50%        93.743966\n",
       "75%       123.755323\n",
       "max       374.854553\n",
       "Name: PreuHab, dtype: float64"
      ]
     },
     "execution_count": 37,
     "metadata": {},
     "output_type": "execute_result"
    }
   ],
   "source": [
    "df1['PreuHab'].describe()"
   ]
  },
  {
   "cell_type": "code",
   "execution_count": 38,
   "metadata": {
    "ExecuteTime": {
     "end_time": "2020-01-14T10:16:40.976764Z",
     "start_time": "2020-01-14T10:16:40.729751Z"
    }
   },
   "outputs": [
    {
     "data": {
      "text/plain": [
       "Text(0.5, 1.0, 'Boxplot del preu mig')"
      ]
     },
     "execution_count": 38,
     "metadata": {},
     "output_type": "execute_result"
    },
    {
     "data": {
      "image/png": "[encoded data removed]",
      "text/plain": [
       "<Figure size 432x288 with 1 Axes>"
      ]
     },
     "metadata": {},
     "output_type": "display_data"
    }
   ],
   "source": [
    "plt.title(\"Boxplot del preu mig\")\n",
    "plt.show(sns.boxplot(df1['PreuHab']))\n",
    "\n"
   ]
  },
  {
   "cell_type": "code",
   "execution_count": 39,
   "metadata": {
    "ExecuteTime": {
     "end_time": "2020-01-14T10:16:41.613398Z",
     "start_time": "2020-01-14T10:16:40.979762Z"
    },
    "scrolled": false
   },
   "outputs": [
    {
     "data": {
      "text/plain": [
       "Text(0.5, 1.0, 'Preu mig habitació')"
      ]
     },
     "execution_count": 39,
     "metadata": {},
     "output_type": "execute_result"
    },
    {
     "data": {
      "text/plain": [
       "Text(0.5, 0, 'Preu')"
      ]
     },
     "execution_count": 39,
     "metadata": {},
     "output_type": "execute_result"
    },
    {
     "data": {
      "text/plain": [
       "Text(0, 0.5, 'Recompte')"
      ]
     },
     "execution_count": 39,
     "metadata": {},
     "output_type": "execute_result"
    },
    {
     "data": {
      "image/png": "[encoded data removed]",
      "text/plain": [
       "<Figure size 432x288 with 1 Axes>"
      ]
     },
     "metadata": {},
     "output_type": "display_data"
    }
   ],
   "source": [
    "plt.title(\"Preu mig habitació\")\n",
    "plt.xlabel('Preu')\n",
    "plt.ylabel('Recompte')\n",
    "plt.show(plt.hist(df1['PreuHab'], bins = 200))"
   ]
  },
  {
   "cell_type": "markdown",
   "metadata": {},
   "source": [
    "#### Anàlisi bivariat"
   ]
  },
  {
   "cell_type": "code",
   "execution_count": 40,
   "metadata": {
    "ExecuteTime": {
     "end_time": "2020-01-14T10:16:42.292464Z",
     "start_time": "2020-01-14T10:16:42.129154Z"
    }
   },
   "outputs": [
    {
     "data": {
      "text/plain": [
       "Text(0.5, 1.0, \"Boxplots de nombre d'habitacions segons el preu mig\")"
      ]
     },
     "execution_count": 40,
     "metadata": {},
     "output_type": "execute_result"
    },
    {
     "data": {
      "image/png": "[encoded data removed]",
      "text/plain": [
       "<Figure size 432x288 with 1 Axes>"
      ]
     },
     "metadata": {},
     "output_type": "display_data"
    }
   ],
   "source": [
    "plt.title(\"Boxplots de nombre d'habitacions segons el preu mig\")\n",
    "plt.show(sns.boxplot(x=\"PreuHab\", data=df1))\n"
   ]
  },
  {
   "cell_type": "markdown",
   "metadata": {},
   "source": [
    "En general, els preus semblen força normals, no hi ha cap superior a 360. Per tant, un nombre elevat d'habitacions reservades no indica un augment del preu."
   ]
  },
  {
   "cell_type": "markdown",
   "metadata": {},
   "source": [
    "# Conclusions de l'apartat"
   ]
  },
  {
   "cell_type": "markdown",
   "metadata": {},
   "source": [
    "\n",
    "Les diferències més detacables respecte a l'anàlisi descriptiu de les dades originals es troben en les següents variables. idcliente: l'agència TUI_UK_LTD augmenta del 17% al 73% en la respresentació de les dades. En concordància, ja que l'agència és anglesa, el país GB de la variable idpais_cliente també passa de representar un 42% de les dades a representar-ne un 75%.\n",
    "\n",
    "Finalment, l'altre variable que pateix canvis significatius és la variable idsegmento, on en aquest anàlisi, el segment vacacional representa un 57% de les dades, mentre que en l'anàlisi original només representa un 20%. Que pel que hem vist, sembla que també va lligat a l'agència *TUI_UK_LTD*. Els que venen d'aquesta agència acostumen a recollir les dades per a segment vacacional."
   ]
  },
  {
   "cell_type": "code",
   "execution_count": null,
   "metadata": {},
   "outputs": [],
   "source": []
  }
 ],
 "metadata": {
  "kernelspec": {
   "display_name": "Python 3",
   "language": "python",
   "name": "python3"
  },
  "language_info": {
   "codemirror_mode": {
    "name": "ipython",
    "version": 3
   },
   "file_extension": ".py",
   "mimetype": "text/x-python",
   "name": "python",
   "nbconvert_exporter": "python",
   "pygments_lexer": "ipython3",
   "version": "3.7.3"
  },
  "latex_envs": {
   "LaTeX_envs_menu_present": true,
   "autoclose": false,
   "autocomplete": true,
   "bibliofile": "biblio.bib",
   "cite_by": "apalike",
   "current_citInitial": 1,
   "eqLabelWithNumbers": true,
   "eqNumInitial": 1,
   "hotkeys": {
    "equation": "Ctrl-E",
    "itemize": "Ctrl-I"
   },
   "labels_anchors": false,
   "latex_user_defs": false,
   "report_style_numbering": false,
   "user_envs_cfg": false
  },
  "toc": {
   "base_numbering": 1,
   "nav_menu": {},
   "number_sections": true,
   "sideBar": true,
   "skip_h1_title": false,
   "title_cell": "Table of Contents",
   "title_sidebar": "Contents",
   "toc_cell": false,
   "toc_position": {
    "height": "calc(100% - 180px)",
    "left": "10px",
    "top": "150px",
    "width": "300.66px"
   },
   "toc_section_display": true,
   "toc_window_display": true
  },
  "varInspector": {
   "cols": {
    "lenName": 16,
    "lenType": 16,
    "lenVar": 40
   },
   "kernels_config": {
    "python": {
     "delete_cmd_postfix": "",
     "delete_cmd_prefix": "del ",
     "library": "var_list.py",
     "varRefreshCmd": "print(var_dic_list())"
    },
    "r": {
     "delete_cmd_postfix": ") ",
     "delete_cmd_prefix": "rm(",
     "library": "var_list.r",
     "varRefreshCmd": "cat(var_dic_list()) "
    }
   },
   "types_to_exclude": [
    "module",
    "function",
    "builtin_function_or_method",
    "instance",
    "_Feature"
   ],
   "window_display": false
  }
 },
 "nbformat": 4,
 "nbformat_minor": 2
}
