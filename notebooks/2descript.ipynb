{
 "cells": [
  {
   "cell_type": "markdown",
   "metadata": {},
   "source": [
    "# Passos previs"
   ]
  },
  {
   "cell_type": "markdown",
   "metadata": {},
   "source": [
    "## Importar"
   ]
  },
  {
   "cell_type": "code",
   "execution_count": 1,
   "metadata": {
    "ExecuteTime": {
     "end_time": "2020-01-11T11:08:53.129568Z",
     "start_time": "2020-01-11T11:08:50.107454Z"
    }
   },
   "outputs": [],
   "source": [
    "import csv\n",
    "import pandas as pd\n",
    "import numpy as np\n",
    "import seaborn as sns\n",
    "import locale\n",
    "import matplotlib\n",
    "import matplotlib.pyplot as plt\n",
    "from scipy.stats import pearsonr\n",
    "import re\n",
    "%matplotlib inline\n",
    "matplotlib.style.use('ggplot')\n",
    "\n",
    "from IPython.core.interactiveshell import InteractiveShell\n",
    "InteractiveShell.ast_node_interactivity = \"all\"\n",
    "\n",
    "pd.set_option('display.max_columns',None)\n",
    "#pd.set_option('display.max_rows', None)"
   ]
  },
  {
   "cell_type": "markdown",
   "metadata": {},
   "source": [
    "Es carrega el fitxer guardat en el preprocessament"
   ]
  },
  {
   "cell_type": "code",
   "execution_count": 2,
   "metadata": {
    "ExecuteTime": {
     "end_time": "2020-01-11T11:08:54.423629Z",
     "start_time": "2020-01-11T11:08:53.151647Z"
    }
   },
   "outputs": [
    {
     "name": "stderr",
     "output_type": "stream",
     "text": [
      "C:\\Users\\miquel.vallverdu\\AppData\\Local\\Continuum\\anaconda3\\lib\\site-packages\\ipykernel_launcher.py:6: FutureWarning: 'asobject' is deprecated. Use 'astype(object)' instead\n",
      "  \n"
     ]
    }
   ],
   "source": [
    "mainpath = \"C:/Users/miquel.vallverdu/Desktop/Miquel/TFG/Repos/Bismart-P19824-PrediccionOcupacionHoteles_TFG_MVallverdu/dataset/\"\n",
    "#mainpath = \"C:/Users/Miquel/Desktop/Miquel/Estudis/ESTADISTICA/TFG/\"\n",
    "\n",
    "df1 = pd.read_csv(mainpath + \"dfFinal.csv\", sep = \",\")\n",
    "dates = pd.read_csv(mainpath + \"dates.csv\", sep = \";\")\n",
    "df1.diaAño = df1.diaAño.asobject"
   ]
  },
  {
   "cell_type": "code",
   "execution_count": 3,
   "metadata": {
    "ExecuteTime": {
     "end_time": "2020-01-06T11:30:12.624799Z",
     "start_time": "2020-01-06T11:30:12.197046Z"
    }
   },
   "outputs": [
    {
     "data": {
      "text/plain": [
       "0"
      ]
     },
     "execution_count": 3,
     "metadata": {},
     "output_type": "execute_result"
    }
   ],
   "source": [
    "sum(df1.duplicated())"
   ]
  },
  {
   "cell_type": "markdown",
   "metadata": {},
   "source": [
    "## Llistes segons variable"
   ]
  },
  {
   "cell_type": "code",
   "execution_count": 4,
   "metadata": {
    "ExecuteTime": {
     "end_time": "2020-01-11T11:10:03.220207Z",
     "start_time": "2020-01-11T11:10:02.583109Z"
    }
   },
   "outputs": [],
   "source": [
    "objs = df1.describe(include = 'object').columns.tolist()\n",
    "ints = df1.describe(include = 'int64').columns.tolist()\n",
    "flts = df1.describe(include = 'float64').columns.tolist()"
   ]
  },
  {
   "cell_type": "markdown",
   "metadata": {},
   "source": [
    "## Funcions"
   ]
  },
  {
   "cell_type": "code",
   "execution_count": 5,
   "metadata": {
    "ExecuteTime": {
     "end_time": "2020-01-11T11:10:12.000267Z",
     "start_time": "2020-01-11T11:10:11.988269Z"
    }
   },
   "outputs": [],
   "source": [
    "def habitacionsPerCategoria(categoria, df):\n",
    "    cat = []\n",
    "    habCat = []\n",
    "    pHabCat = []\n",
    "    for c in categoria.unique():\n",
    "        cat.append(c) ## llista amb els valors unics de la categoria\n",
    "        habCat.append(sum(df[categoria==c]['NHab'])) ## suma d'habitacions\n",
    "        pHabCat.append(round(sum(df[categoria==c]['NHab'])*100/sum(df['NHab']),3)) ## percentatges\n",
    "    return pd.DataFrame(list(zip(cat, habCat, pHabCat)), columns = ['id', 'Total habitacions', 'Percentatge %'])\n",
    "\n",
    "\n",
    "def filtroMenorQue5(lista):\n",
    "    if(lista < 5):\n",
    "        return True\n",
    "    else:\n",
    "        return False\n",
    "    \n",
    "    \n",
    "def llistaHotel(hotel, df):\n",
    "    l = list(df[df['idhotel']==hotel]['NHab'])\n",
    "    return l"
   ]
  },
  {
   "cell_type": "markdown",
   "metadata": {},
   "source": [
    "# Anàlisi descriptiu"
   ]
  },
  {
   "cell_type": "markdown",
   "metadata": {},
   "source": [
    "## Variable objectiu"
   ]
  },
  {
   "cell_type": "code",
   "execution_count": 6,
   "metadata": {
    "ExecuteTime": {
     "end_time": "2020-01-08T09:49:27.241122Z",
     "start_time": "2020-01-08T09:49:26.878332Z"
    }
   },
   "outputs": [
    {
     "data": {
      "text/html": [
       "<div>\n",
       "<style scoped>\n",
       "    .dataframe tbody tr th:only-of-type {\n",
       "        vertical-align: middle;\n",
       "    }\n",
       "\n",
       "    .dataframe tbody tr th {\n",
       "        vertical-align: top;\n",
       "    }\n",
       "\n",
       "    .dataframe thead th {\n",
       "        text-align: right;\n",
       "    }\n",
       "</style>\n",
       "<table border=\"1\" class=\"dataframe\">\n",
       "  <thead>\n",
       "    <tr style=\"text-align: right;\">\n",
       "      <th></th>\n",
       "      <th>PreuHab</th>\n",
       "      <th>S1</th>\n",
       "      <th>S2</th>\n",
       "      <th>S3</th>\n",
       "      <th>S4</th>\n",
       "      <th>S5</th>\n",
       "      <th>S6</th>\n",
       "      <th>S7</th>\n",
       "      <th>S8</th>\n",
       "      <th>S9</th>\n",
       "      <th>S10</th>\n",
       "      <th>S11</th>\n",
       "      <th>S12</th>\n",
       "      <th>S13</th>\n",
       "      <th>S14</th>\n",
       "      <th>S15</th>\n",
       "      <th>S16</th>\n",
       "      <th>S17</th>\n",
       "      <th>S18</th>\n",
       "      <th>S19</th>\n",
       "      <th>S20</th>\n",
       "      <th>S21</th>\n",
       "      <th>S22</th>\n",
       "      <th>S23</th>\n",
       "      <th>S24</th>\n",
       "      <th>S25</th>\n",
       "      <th>S26</th>\n",
       "      <th>S27</th>\n",
       "      <th>S28</th>\n",
       "      <th>S29</th>\n",
       "      <th>S30</th>\n",
       "      <th>S31</th>\n",
       "      <th>S32</th>\n",
       "      <th>S33</th>\n",
       "      <th>S34</th>\n",
       "      <th>S35</th>\n",
       "      <th>S36</th>\n",
       "      <th>S37</th>\n",
       "      <th>S38</th>\n",
       "      <th>S39</th>\n",
       "      <th>S40</th>\n",
       "      <th>S41</th>\n",
       "      <th>S42</th>\n",
       "      <th>S43</th>\n",
       "      <th>S44</th>\n",
       "      <th>S45</th>\n",
       "      <th>S46</th>\n",
       "      <th>S47</th>\n",
       "      <th>S48</th>\n",
       "      <th>S49</th>\n",
       "      <th>S50</th>\n",
       "      <th>S51</th>\n",
       "      <th>S52</th>\n",
       "    </tr>\n",
       "  </thead>\n",
       "  <tbody>\n",
       "    <tr>\n",
       "      <th>count</th>\n",
       "      <td>47630.000000</td>\n",
       "      <td>47630.000000</td>\n",
       "      <td>47630.000000</td>\n",
       "      <td>47630.000000</td>\n",
       "      <td>47630.000000</td>\n",
       "      <td>47630.000000</td>\n",
       "      <td>47630.000000</td>\n",
       "      <td>47630.000000</td>\n",
       "      <td>47630.000000</td>\n",
       "      <td>47630.000000</td>\n",
       "      <td>47630.000000</td>\n",
       "      <td>47630.000000</td>\n",
       "      <td>47630.000000</td>\n",
       "      <td>47630.000000</td>\n",
       "      <td>47630.000000</td>\n",
       "      <td>47630.000000</td>\n",
       "      <td>47630.000000</td>\n",
       "      <td>47630.000000</td>\n",
       "      <td>47630.000000</td>\n",
       "      <td>47630.000000</td>\n",
       "      <td>47630.000000</td>\n",
       "      <td>47630.000000</td>\n",
       "      <td>47630.000000</td>\n",
       "      <td>47630.000000</td>\n",
       "      <td>47630.000000</td>\n",
       "      <td>47630.000000</td>\n",
       "      <td>47630.000000</td>\n",
       "      <td>47630.000000</td>\n",
       "      <td>47630.000000</td>\n",
       "      <td>47630.000000</td>\n",
       "      <td>47630.000000</td>\n",
       "      <td>47630.000000</td>\n",
       "      <td>47630.000000</td>\n",
       "      <td>47630.000000</td>\n",
       "      <td>47630.000000</td>\n",
       "      <td>47630.000000</td>\n",
       "      <td>47630.000000</td>\n",
       "      <td>47630.000000</td>\n",
       "      <td>47630.000000</td>\n",
       "      <td>47630.000000</td>\n",
       "      <td>47630.000000</td>\n",
       "      <td>47630.000000</td>\n",
       "      <td>47630.000000</td>\n",
       "      <td>47630.000000</td>\n",
       "      <td>47630.000000</td>\n",
       "      <td>47630.000000</td>\n",
       "      <td>47630.000000</td>\n",
       "      <td>47630.000000</td>\n",
       "      <td>47630.000000</td>\n",
       "      <td>47630.000000</td>\n",
       "      <td>47630.000000</td>\n",
       "      <td>47630.000000</td>\n",
       "      <td>47630.000000</td>\n",
       "    </tr>\n",
       "    <tr>\n",
       "      <th>mean</th>\n",
       "      <td>131.448197</td>\n",
       "      <td>131.404295</td>\n",
       "      <td>131.353334</td>\n",
       "      <td>131.457491</td>\n",
       "      <td>131.515058</td>\n",
       "      <td>131.558413</td>\n",
       "      <td>131.699337</td>\n",
       "      <td>131.800236</td>\n",
       "      <td>131.887223</td>\n",
       "      <td>131.890701</td>\n",
       "      <td>131.809109</td>\n",
       "      <td>131.816538</td>\n",
       "      <td>131.763683</td>\n",
       "      <td>131.817357</td>\n",
       "      <td>131.832852</td>\n",
       "      <td>131.792227</td>\n",
       "      <td>131.783384</td>\n",
       "      <td>131.833032</td>\n",
       "      <td>131.857602</td>\n",
       "      <td>131.917310</td>\n",
       "      <td>131.960818</td>\n",
       "      <td>131.978260</td>\n",
       "      <td>131.977338</td>\n",
       "      <td>131.878116</td>\n",
       "      <td>131.812304</td>\n",
       "      <td>131.748835</td>\n",
       "      <td>131.721124</td>\n",
       "      <td>131.682305</td>\n",
       "      <td>131.722233</td>\n",
       "      <td>131.769581</td>\n",
       "      <td>131.767964</td>\n",
       "      <td>131.737525</td>\n",
       "      <td>131.673330</td>\n",
       "      <td>131.634962</td>\n",
       "      <td>131.638935</td>\n",
       "      <td>131.655632</td>\n",
       "      <td>131.705414</td>\n",
       "      <td>131.715931</td>\n",
       "      <td>131.679004</td>\n",
       "      <td>131.645377</td>\n",
       "      <td>131.606033</td>\n",
       "      <td>131.565061</td>\n",
       "      <td>131.552670</td>\n",
       "      <td>131.551118</td>\n",
       "      <td>131.554712</td>\n",
       "      <td>131.552175</td>\n",
       "      <td>131.523347</td>\n",
       "      <td>131.491040</td>\n",
       "      <td>131.459343</td>\n",
       "      <td>131.448712</td>\n",
       "      <td>131.472721</td>\n",
       "      <td>131.478685</td>\n",
       "      <td>131.477563</td>\n",
       "    </tr>\n",
       "    <tr>\n",
       "      <th>std</th>\n",
       "      <td>72.537042</td>\n",
       "      <td>72.413405</td>\n",
       "      <td>72.045001</td>\n",
       "      <td>71.927486</td>\n",
       "      <td>71.775605</td>\n",
       "      <td>71.823800</td>\n",
       "      <td>71.852545</td>\n",
       "      <td>72.014377</td>\n",
       "      <td>72.284747</td>\n",
       "      <td>72.370823</td>\n",
       "      <td>72.372299</td>\n",
       "      <td>72.409366</td>\n",
       "      <td>72.357744</td>\n",
       "      <td>72.313310</td>\n",
       "      <td>72.179555</td>\n",
       "      <td>72.023012</td>\n",
       "      <td>71.984373</td>\n",
       "      <td>72.089728</td>\n",
       "      <td>72.179050</td>\n",
       "      <td>72.479470</td>\n",
       "      <td>72.680512</td>\n",
       "      <td>72.748956</td>\n",
       "      <td>72.838484</td>\n",
       "      <td>72.792033</td>\n",
       "      <td>72.761923</td>\n",
       "      <td>72.769256</td>\n",
       "      <td>72.823501</td>\n",
       "      <td>72.702226</td>\n",
       "      <td>72.958080</td>\n",
       "      <td>73.128694</td>\n",
       "      <td>73.003434</td>\n",
       "      <td>73.017446</td>\n",
       "      <td>72.922247</td>\n",
       "      <td>72.896744</td>\n",
       "      <td>72.867924</td>\n",
       "      <td>72.856838</td>\n",
       "      <td>72.823597</td>\n",
       "      <td>72.808201</td>\n",
       "      <td>72.775667</td>\n",
       "      <td>72.755926</td>\n",
       "      <td>72.733829</td>\n",
       "      <td>72.720886</td>\n",
       "      <td>72.718243</td>\n",
       "      <td>72.749320</td>\n",
       "      <td>72.750756</td>\n",
       "      <td>72.756389</td>\n",
       "      <td>72.753207</td>\n",
       "      <td>72.722315</td>\n",
       "      <td>72.737019</td>\n",
       "      <td>72.734417</td>\n",
       "      <td>72.741542</td>\n",
       "      <td>72.747899</td>\n",
       "      <td>72.738179</td>\n",
       "    </tr>\n",
       "    <tr>\n",
       "      <th>min</th>\n",
       "      <td>40.000000</td>\n",
       "      <td>40.000000</td>\n",
       "      <td>40.000000</td>\n",
       "      <td>40.000000</td>\n",
       "      <td>40.000000</td>\n",
       "      <td>40.000000</td>\n",
       "      <td>40.000000</td>\n",
       "      <td>40.000000</td>\n",
       "      <td>40.000000</td>\n",
       "      <td>40.000000</td>\n",
       "      <td>40.000000</td>\n",
       "      <td>40.000000</td>\n",
       "      <td>40.000000</td>\n",
       "      <td>40.000000</td>\n",
       "      <td>40.000000</td>\n",
       "      <td>40.000000</td>\n",
       "      <td>40.000000</td>\n",
       "      <td>40.000000</td>\n",
       "      <td>40.000000</td>\n",
       "      <td>40.000000</td>\n",
       "      <td>40.000000</td>\n",
       "      <td>40.000000</td>\n",
       "      <td>40.000000</td>\n",
       "      <td>40.000000</td>\n",
       "      <td>40.000000</td>\n",
       "      <td>40.000000</td>\n",
       "      <td>40.000000</td>\n",
       "      <td>40.000000</td>\n",
       "      <td>40.000000</td>\n",
       "      <td>40.000000</td>\n",
       "      <td>40.000000</td>\n",
       "      <td>40.000000</td>\n",
       "      <td>40.000000</td>\n",
       "      <td>40.000000</td>\n",
       "      <td>40.000000</td>\n",
       "      <td>40.000000</td>\n",
       "      <td>40.000000</td>\n",
       "      <td>40.000000</td>\n",
       "      <td>40.000000</td>\n",
       "      <td>40.000000</td>\n",
       "      <td>40.000000</td>\n",
       "      <td>40.000000</td>\n",
       "      <td>40.000000</td>\n",
       "      <td>40.000000</td>\n",
       "      <td>40.000000</td>\n",
       "      <td>40.000000</td>\n",
       "      <td>40.000000</td>\n",
       "      <td>40.000000</td>\n",
       "      <td>40.000000</td>\n",
       "      <td>40.000000</td>\n",
       "      <td>40.000000</td>\n",
       "      <td>40.000000</td>\n",
       "      <td>40.000000</td>\n",
       "    </tr>\n",
       "    <tr>\n",
       "      <th>25%</th>\n",
       "      <td>79.038319</td>\n",
       "      <td>79.085859</td>\n",
       "      <td>79.382370</td>\n",
       "      <td>79.654545</td>\n",
       "      <td>79.786046</td>\n",
       "      <td>79.935364</td>\n",
       "      <td>80.054545</td>\n",
       "      <td>80.083186</td>\n",
       "      <td>80.054545</td>\n",
       "      <td>80.054546</td>\n",
       "      <td>80.054545</td>\n",
       "      <td>80.054545</td>\n",
       "      <td>80.054546</td>\n",
       "      <td>80.136363</td>\n",
       "      <td>80.245454</td>\n",
       "      <td>80.245454</td>\n",
       "      <td>80.323636</td>\n",
       "      <td>80.318182</td>\n",
       "      <td>80.341309</td>\n",
       "      <td>80.318182</td>\n",
       "      <td>80.363636</td>\n",
       "      <td>80.318182</td>\n",
       "      <td>80.308693</td>\n",
       "      <td>80.323636</td>\n",
       "      <td>80.318181</td>\n",
       "      <td>80.323636</td>\n",
       "      <td>80.350732</td>\n",
       "      <td>80.363636</td>\n",
       "      <td>80.323636</td>\n",
       "      <td>80.323636</td>\n",
       "      <td>80.363636</td>\n",
       "      <td>80.363818</td>\n",
       "      <td>80.363636</td>\n",
       "      <td>80.363636</td>\n",
       "      <td>80.363636</td>\n",
       "      <td>80.504544</td>\n",
       "      <td>80.545455</td>\n",
       "      <td>80.708052</td>\n",
       "      <td>80.659380</td>\n",
       "      <td>80.727272</td>\n",
       "      <td>80.713636</td>\n",
       "      <td>80.727272</td>\n",
       "      <td>80.727272</td>\n",
       "      <td>80.727272</td>\n",
       "      <td>80.727272</td>\n",
       "      <td>80.774544</td>\n",
       "      <td>80.774544</td>\n",
       "      <td>80.749999</td>\n",
       "      <td>80.745455</td>\n",
       "      <td>80.727272</td>\n",
       "      <td>80.727272</td>\n",
       "      <td>80.727272</td>\n",
       "      <td>80.727272</td>\n",
       "    </tr>\n",
       "    <tr>\n",
       "      <th>50%</th>\n",
       "      <td>113.953165</td>\n",
       "      <td>114.074428</td>\n",
       "      <td>114.081818</td>\n",
       "      <td>114.140266</td>\n",
       "      <td>114.138181</td>\n",
       "      <td>114.149747</td>\n",
       "      <td>114.139342</td>\n",
       "      <td>114.318182</td>\n",
       "      <td>114.138181</td>\n",
       "      <td>114.039928</td>\n",
       "      <td>113.990909</td>\n",
       "      <td>113.890909</td>\n",
       "      <td>113.890908</td>\n",
       "      <td>113.897136</td>\n",
       "      <td>113.863637</td>\n",
       "      <td>113.906952</td>\n",
       "      <td>113.990909</td>\n",
       "      <td>114.001393</td>\n",
       "      <td>113.990909</td>\n",
       "      <td>113.890909</td>\n",
       "      <td>113.890909</td>\n",
       "      <td>113.963636</td>\n",
       "      <td>113.919647</td>\n",
       "      <td>113.818183</td>\n",
       "      <td>113.790251</td>\n",
       "      <td>113.646084</td>\n",
       "      <td>113.500000</td>\n",
       "      <td>113.272728</td>\n",
       "      <td>113.194351</td>\n",
       "      <td>113.243921</td>\n",
       "      <td>113.090910</td>\n",
       "      <td>113.015152</td>\n",
       "      <td>112.954545</td>\n",
       "      <td>112.954545</td>\n",
       "      <td>112.954545</td>\n",
       "      <td>112.954545</td>\n",
       "      <td>113.061818</td>\n",
       "      <td>112.996163</td>\n",
       "      <td>112.981494</td>\n",
       "      <td>112.954545</td>\n",
       "      <td>112.909092</td>\n",
       "      <td>112.848484</td>\n",
       "      <td>112.848484</td>\n",
       "      <td>112.781939</td>\n",
       "      <td>112.772728</td>\n",
       "      <td>112.727272</td>\n",
       "      <td>112.696364</td>\n",
       "      <td>112.653031</td>\n",
       "      <td>112.553692</td>\n",
       "      <td>112.537287</td>\n",
       "      <td>112.558464</td>\n",
       "      <td>112.595041</td>\n",
       "      <td>112.595041</td>\n",
       "    </tr>\n",
       "    <tr>\n",
       "      <th>75%</th>\n",
       "      <td>165.453409</td>\n",
       "      <td>165.369943</td>\n",
       "      <td>165.295967</td>\n",
       "      <td>165.306819</td>\n",
       "      <td>165.253038</td>\n",
       "      <td>165.147970</td>\n",
       "      <td>165.412273</td>\n",
       "      <td>165.442067</td>\n",
       "      <td>165.508177</td>\n",
       "      <td>165.594923</td>\n",
       "      <td>165.336737</td>\n",
       "      <td>165.293655</td>\n",
       "      <td>165.197727</td>\n",
       "      <td>165.127272</td>\n",
       "      <td>165.129761</td>\n",
       "      <td>165.101685</td>\n",
       "      <td>165.090910</td>\n",
       "      <td>165.090910</td>\n",
       "      <td>165.106591</td>\n",
       "      <td>165.351134</td>\n",
       "      <td>165.454545</td>\n",
       "      <td>165.236364</td>\n",
       "      <td>165.090910</td>\n",
       "      <td>165.090910</td>\n",
       "      <td>165.054544</td>\n",
       "      <td>164.900000</td>\n",
       "      <td>164.454546</td>\n",
       "      <td>164.459092</td>\n",
       "      <td>164.459092</td>\n",
       "      <td>164.739054</td>\n",
       "      <td>164.900000</td>\n",
       "      <td>164.454546</td>\n",
       "      <td>164.354545</td>\n",
       "      <td>164.245453</td>\n",
       "      <td>164.311363</td>\n",
       "      <td>164.245453</td>\n",
       "      <td>164.450000</td>\n",
       "      <td>164.354545</td>\n",
       "      <td>164.273274</td>\n",
       "      <td>164.116032</td>\n",
       "      <td>163.963637</td>\n",
       "      <td>163.923291</td>\n",
       "      <td>163.954545</td>\n",
       "      <td>163.909090</td>\n",
       "      <td>163.909090</td>\n",
       "      <td>163.909090</td>\n",
       "      <td>163.909090</td>\n",
       "      <td>163.743326</td>\n",
       "      <td>163.672726</td>\n",
       "      <td>163.672726</td>\n",
       "      <td>163.672726</td>\n",
       "      <td>163.672726</td>\n",
       "      <td>163.793749</td>\n",
       "    </tr>\n",
       "    <tr>\n",
       "      <th>max</th>\n",
       "      <td>713.005287</td>\n",
       "      <td>713.005287</td>\n",
       "      <td>713.005287</td>\n",
       "      <td>713.005287</td>\n",
       "      <td>713.005287</td>\n",
       "      <td>704.227275</td>\n",
       "      <td>704.227275</td>\n",
       "      <td>704.227275</td>\n",
       "      <td>799.636364</td>\n",
       "      <td>799.636364</td>\n",
       "      <td>799.636364</td>\n",
       "      <td>799.636364</td>\n",
       "      <td>799.636364</td>\n",
       "      <td>799.636364</td>\n",
       "      <td>799.636364</td>\n",
       "      <td>799.636364</td>\n",
       "      <td>799.636364</td>\n",
       "      <td>799.636364</td>\n",
       "      <td>799.636364</td>\n",
       "      <td>971.136365</td>\n",
       "      <td>971.136365</td>\n",
       "      <td>971.136365</td>\n",
       "      <td>971.136365</td>\n",
       "      <td>971.136365</td>\n",
       "      <td>971.136365</td>\n",
       "      <td>971.136365</td>\n",
       "      <td>971.136365</td>\n",
       "      <td>944.163630</td>\n",
       "      <td>944.163630</td>\n",
       "      <td>1316.500000</td>\n",
       "      <td>1316.500000</td>\n",
       "      <td>1316.500000</td>\n",
       "      <td>1316.500000</td>\n",
       "      <td>1316.500000</td>\n",
       "      <td>1316.500000</td>\n",
       "      <td>1316.500000</td>\n",
       "      <td>1316.500000</td>\n",
       "      <td>1316.500000</td>\n",
       "      <td>1316.500000</td>\n",
       "      <td>1316.500000</td>\n",
       "      <td>1316.500000</td>\n",
       "      <td>1316.500000</td>\n",
       "      <td>1316.500000</td>\n",
       "      <td>1316.500000</td>\n",
       "      <td>1316.500000</td>\n",
       "      <td>1316.500000</td>\n",
       "      <td>1316.500000</td>\n",
       "      <td>1316.500000</td>\n",
       "      <td>1316.500000</td>\n",
       "      <td>1316.500000</td>\n",
       "      <td>1316.500000</td>\n",
       "      <td>1316.500000</td>\n",
       "      <td>1316.500000</td>\n",
       "    </tr>\n",
       "  </tbody>\n",
       "</table>\n",
       "</div>"
      ],
      "text/plain": [
       "            PreuHab            S1            S2            S3            S4  \\\n",
       "count  47630.000000  47630.000000  47630.000000  47630.000000  47630.000000   \n",
       "mean     131.448197    131.404295    131.353334    131.457491    131.515058   \n",
       "std       72.537042     72.413405     72.045001     71.927486     71.775605   \n",
       "min       40.000000     40.000000     40.000000     40.000000     40.000000   \n",
       "25%       79.038319     79.085859     79.382370     79.654545     79.786046   \n",
       "50%      113.953165    114.074428    114.081818    114.140266    114.138181   \n",
       "75%      165.453409    165.369943    165.295967    165.306819    165.253038   \n",
       "max      713.005287    713.005287    713.005287    713.005287    713.005287   \n",
       "\n",
       "                 S5            S6            S7            S8            S9  \\\n",
       "count  47630.000000  47630.000000  47630.000000  47630.000000  47630.000000   \n",
       "mean     131.558413    131.699337    131.800236    131.887223    131.890701   \n",
       "std       71.823800     71.852545     72.014377     72.284747     72.370823   \n",
       "min       40.000000     40.000000     40.000000     40.000000     40.000000   \n",
       "25%       79.935364     80.054545     80.083186     80.054545     80.054546   \n",
       "50%      114.149747    114.139342    114.318182    114.138181    114.039928   \n",
       "75%      165.147970    165.412273    165.442067    165.508177    165.594923   \n",
       "max      704.227275    704.227275    704.227275    799.636364    799.636364   \n",
       "\n",
       "                S10           S11           S12           S13           S14  \\\n",
       "count  47630.000000  47630.000000  47630.000000  47630.000000  47630.000000   \n",
       "mean     131.809109    131.816538    131.763683    131.817357    131.832852   \n",
       "std       72.372299     72.409366     72.357744     72.313310     72.179555   \n",
       "min       40.000000     40.000000     40.000000     40.000000     40.000000   \n",
       "25%       80.054545     80.054545     80.054546     80.136363     80.245454   \n",
       "50%      113.990909    113.890909    113.890908    113.897136    113.863637   \n",
       "75%      165.336737    165.293655    165.197727    165.127272    165.129761   \n",
       "max      799.636364    799.636364    799.636364    799.636364    799.636364   \n",
       "\n",
       "                S15           S16           S17           S18           S19  \\\n",
       "count  47630.000000  47630.000000  47630.000000  47630.000000  47630.000000   \n",
       "mean     131.792227    131.783384    131.833032    131.857602    131.917310   \n",
       "std       72.023012     71.984373     72.089728     72.179050     72.479470   \n",
       "min       40.000000     40.000000     40.000000     40.000000     40.000000   \n",
       "25%       80.245454     80.323636     80.318182     80.341309     80.318182   \n",
       "50%      113.906952    113.990909    114.001393    113.990909    113.890909   \n",
       "75%      165.101685    165.090910    165.090910    165.106591    165.351134   \n",
       "max      799.636364    799.636364    799.636364    799.636364    971.136365   \n",
       "\n",
       "                S20           S21           S22           S23           S24  \\\n",
       "count  47630.000000  47630.000000  47630.000000  47630.000000  47630.000000   \n",
       "mean     131.960818    131.978260    131.977338    131.878116    131.812304   \n",
       "std       72.680512     72.748956     72.838484     72.792033     72.761923   \n",
       "min       40.000000     40.000000     40.000000     40.000000     40.000000   \n",
       "25%       80.363636     80.318182     80.308693     80.323636     80.318181   \n",
       "50%      113.890909    113.963636    113.919647    113.818183    113.790251   \n",
       "75%      165.454545    165.236364    165.090910    165.090910    165.054544   \n",
       "max      971.136365    971.136365    971.136365    971.136365    971.136365   \n",
       "\n",
       "                S25           S26           S27           S28           S29  \\\n",
       "count  47630.000000  47630.000000  47630.000000  47630.000000  47630.000000   \n",
       "mean     131.748835    131.721124    131.682305    131.722233    131.769581   \n",
       "std       72.769256     72.823501     72.702226     72.958080     73.128694   \n",
       "min       40.000000     40.000000     40.000000     40.000000     40.000000   \n",
       "25%       80.323636     80.350732     80.363636     80.323636     80.323636   \n",
       "50%      113.646084    113.500000    113.272728    113.194351    113.243921   \n",
       "75%      164.900000    164.454546    164.459092    164.459092    164.739054   \n",
       "max      971.136365    971.136365    944.163630    944.163630   1316.500000   \n",
       "\n",
       "                S30           S31           S32           S33           S34  \\\n",
       "count  47630.000000  47630.000000  47630.000000  47630.000000  47630.000000   \n",
       "mean     131.767964    131.737525    131.673330    131.634962    131.638935   \n",
       "std       73.003434     73.017446     72.922247     72.896744     72.867924   \n",
       "min       40.000000     40.000000     40.000000     40.000000     40.000000   \n",
       "25%       80.363636     80.363818     80.363636     80.363636     80.363636   \n",
       "50%      113.090910    113.015152    112.954545    112.954545    112.954545   \n",
       "75%      164.900000    164.454546    164.354545    164.245453    164.311363   \n",
       "max     1316.500000   1316.500000   1316.500000   1316.500000   1316.500000   \n",
       "\n",
       "                S35           S36           S37           S38           S39  \\\n",
       "count  47630.000000  47630.000000  47630.000000  47630.000000  47630.000000   \n",
       "mean     131.655632    131.705414    131.715931    131.679004    131.645377   \n",
       "std       72.856838     72.823597     72.808201     72.775667     72.755926   \n",
       "min       40.000000     40.000000     40.000000     40.000000     40.000000   \n",
       "25%       80.504544     80.545455     80.708052     80.659380     80.727272   \n",
       "50%      112.954545    113.061818    112.996163    112.981494    112.954545   \n",
       "75%      164.245453    164.450000    164.354545    164.273274    164.116032   \n",
       "max     1316.500000   1316.500000   1316.500000   1316.500000   1316.500000   \n",
       "\n",
       "                S40           S41           S42           S43           S44  \\\n",
       "count  47630.000000  47630.000000  47630.000000  47630.000000  47630.000000   \n",
       "mean     131.606033    131.565061    131.552670    131.551118    131.554712   \n",
       "std       72.733829     72.720886     72.718243     72.749320     72.750756   \n",
       "min       40.000000     40.000000     40.000000     40.000000     40.000000   \n",
       "25%       80.713636     80.727272     80.727272     80.727272     80.727272   \n",
       "50%      112.909092    112.848484    112.848484    112.781939    112.772728   \n",
       "75%      163.963637    163.923291    163.954545    163.909090    163.909090   \n",
       "max     1316.500000   1316.500000   1316.500000   1316.500000   1316.500000   \n",
       "\n",
       "                S45           S46           S47           S48           S49  \\\n",
       "count  47630.000000  47630.000000  47630.000000  47630.000000  47630.000000   \n",
       "mean     131.552175    131.523347    131.491040    131.459343    131.448712   \n",
       "std       72.756389     72.753207     72.722315     72.737019     72.734417   \n",
       "min       40.000000     40.000000     40.000000     40.000000     40.000000   \n",
       "25%       80.774544     80.774544     80.749999     80.745455     80.727272   \n",
       "50%      112.727272    112.696364    112.653031    112.553692    112.537287   \n",
       "75%      163.909090    163.909090    163.743326    163.672726    163.672726   \n",
       "max     1316.500000   1316.500000   1316.500000   1316.500000   1316.500000   \n",
       "\n",
       "                S50           S51           S52  \n",
       "count  47630.000000  47630.000000  47630.000000  \n",
       "mean     131.472721    131.478685    131.477563  \n",
       "std       72.741542     72.747899     72.738179  \n",
       "min       40.000000     40.000000     40.000000  \n",
       "25%       80.727272     80.727272     80.727272  \n",
       "50%      112.558464    112.595041    112.595041  \n",
       "75%      163.672726    163.672726    163.793749  \n",
       "max     1316.500000   1316.500000   1316.500000  "
      ]
     },
     "execution_count": 6,
     "metadata": {},
     "output_type": "execute_result"
    }
   ],
   "source": [
    "df1.describe(include = 'float')"
   ]
  },
  {
   "cell_type": "code",
   "execution_count": 7,
   "metadata": {
    "ExecuteTime": {
     "end_time": "2019-12-31T17:55:00.238324Z",
     "start_time": "2019-12-31T17:55:00.226329Z"
    },
    "scrolled": false
   },
   "outputs": [
    {
     "data": {
      "text/plain": [
       "count    47630.000000\n",
       "mean         9.775667\n",
       "std         18.072125\n",
       "min          0.000000\n",
       "25%          1.000000\n",
       "50%          3.000000\n",
       "75%         10.000000\n",
       "max        346.000000\n",
       "Name: NHab, dtype: float64"
      ]
     },
     "execution_count": 7,
     "metadata": {},
     "output_type": "execute_result"
    }
   ],
   "source": [
    "df1['NHab'].describe()"
   ]
  },
  {
   "cell_type": "markdown",
   "metadata": {},
   "source": [
    "Hi ha una gran diferència entre el percentil 75 i el màxim del nombre d'habitacions reservades. Han d'haver-hi pocs casos de reserves de moltes habitacions."
   ]
  },
  {
   "cell_type": "markdown",
   "metadata": {},
   "source": [
    "#### Histogrames"
   ]
  },
  {
   "cell_type": "code",
   "execution_count": 8,
   "metadata": {
    "ExecuteTime": {
     "end_time": "2019-12-31T17:55:18.144877Z",
     "start_time": "2019-12-31T17:55:17.265404Z"
    },
    "scrolled": false
   },
   "outputs": [
    {
     "data": {
      "text/plain": [
       "Text(0.5, 1.0, \"Número d'habitacions ocupades\")"
      ]
     },
     "execution_count": 8,
     "metadata": {},
     "output_type": "execute_result"
    },
    {
     "data": {
      "text/plain": [
       "Text(0.5, 0, 'Habitacions')"
      ]
     },
     "execution_count": 8,
     "metadata": {},
     "output_type": "execute_result"
    },
    {
     "data": {
      "text/plain": [
       "Text(0, 0.5, 'Recompte')"
      ]
     },
     "execution_count": 8,
     "metadata": {},
     "output_type": "execute_result"
    },
    {
     "data": {
      "image/png": "[encoded data removed]",
      "text/plain": [
       "<Figure size 432x288 with 1 Axes>"
      ]
     },
     "metadata": {},
     "output_type": "display_data"
    }
   ],
   "source": [
    "plt.title(\"Número d'habitacions ocupades\")\n",
    "plt.xlabel('Habitacions')\n",
    "plt.ylabel('Recompte')\n",
    "plt.show(plt.hist(df1['NHab'], bins = 100))\n"
   ]
  },
  {
   "cell_type": "markdown",
   "metadata": {},
   "source": [
    "Es veu clarament com la majoria de casos es concentren clarament en valors petits, en més de 35000 casos es reserva una sola habitació."
   ]
  },
  {
   "cell_type": "markdown",
   "metadata": {},
   "source": [
    "#### Distribució"
   ]
  },
  {
   "cell_type": "code",
   "execution_count": 9,
   "metadata": {
    "ExecuteTime": {
     "end_time": "2019-12-24T11:41:16.119672Z",
     "start_time": "2019-12-24T11:41:15.630683Z"
    },
    "scrolled": true
   },
   "outputs": [
    {
     "data": {
      "text/plain": [
       "Text(0.5, 1.0, \"Distribució Número d'habitacions\")"
      ]
     },
     "execution_count": 9,
     "metadata": {},
     "output_type": "execute_result"
    },
    {
     "data": {
      "text/plain": [
       "Text(0.5, 0, \"Número d'habitacions\")"
      ]
     },
     "execution_count": 9,
     "metadata": {},
     "output_type": "execute_result"
    },
    {
     "data": {
      "text/plain": [
       "Text(0, 0.5, 'Densitat')"
      ]
     },
     "execution_count": 9,
     "metadata": {},
     "output_type": "execute_result"
    },
    {
     "data": {
      "image/png": "[encoded data removed]",
      "text/plain": [
       "<Figure size 432x288 with 1 Axes>"
      ]
     },
     "metadata": {},
     "output_type": "display_data"
    }
   ],
   "source": [
    "plt.title(\"Distribució Número d'habitacions\")\n",
    "plt.xlabel(\"Número d'habitacions\")\n",
    "plt.ylabel(\"Densitat\")\n",
    "plt.show(sns.distplot(df1.NHab, hist = False))\n"
   ]
  },
  {
   "cell_type": "markdown",
   "metadata": {},
   "source": [
    "##### Distribució per trimestre, comparant 2018 i 2019"
   ]
  },
  {
   "cell_type": "code",
   "execution_count": 10,
   "metadata": {
    "ExecuteTime": {
     "end_time": "2020-01-11T11:10:52.403374Z",
     "start_time": "2020-01-11T11:10:52.339388Z"
    }
   },
   "outputs": [],
   "source": [
    "## Afegir variable trimestre\n",
    "dates = dates.rename(columns = {'date':'fechaocupacion'})\n",
    "dfTrim = pd.merge(df1, dates[['fechaocupacion', 'añoTrim']])\n",
    "#dfTrim.trimestre = dfTrim.trimestre.asobject"
   ]
  },
  {
   "cell_type": "code",
   "execution_count": 11,
   "metadata": {
    "ExecuteTime": {
     "end_time": "2019-12-24T11:43:18.612198Z",
     "start_time": "2019-12-24T11:43:18.588203Z"
    }
   },
   "outputs": [
    {
     "data": {
      "text/plain": [
       "count      47630\n",
       "unique         7\n",
       "top       2018_3\n",
       "freq       13863\n",
       "Name: añoTrim, dtype: object"
      ]
     },
     "execution_count": 11,
     "metadata": {},
     "output_type": "execute_result"
    }
   ],
   "source": [
    "dfTrim.añoTrim.describe()"
   ]
  },
  {
   "cell_type": "code",
   "execution_count": 12,
   "metadata": {
    "ExecuteTime": {
     "end_time": "2020-01-11T11:10:55.535060Z",
     "start_time": "2020-01-11T11:10:54.446113Z"
    },
    "scrolled": false
   },
   "outputs": [
    {
     "data": {
      "text/plain": [
       "Text(0.5, 1.0, '2018 vs 2019 1r trimestre')"
      ]
     },
     "execution_count": 12,
     "metadata": {},
     "output_type": "execute_result"
    },
    {
     "data": {
      "text/plain": [
       "Text(0.5, 0, \"Número d'habitacions\")"
      ]
     },
     "execution_count": 12,
     "metadata": {},
     "output_type": "execute_result"
    },
    {
     "data": {
      "text/plain": [
       "Text(0, 0.5, 'Densitat')"
      ]
     },
     "execution_count": 12,
     "metadata": {},
     "output_type": "execute_result"
    },
    {
     "data": {
      "text/plain": [
       "<matplotlib.axes._subplots.AxesSubplot at 0x25aba5aa2e8>"
      ]
     },
     "execution_count": 12,
     "metadata": {},
     "output_type": "execute_result"
    },
    {
     "data": {
      "text/plain": [
       "<matplotlib.axes._subplots.AxesSubplot at 0x25aba5aa2e8>"
      ]
     },
     "execution_count": 12,
     "metadata": {},
     "output_type": "execute_result"
    },
    {
     "data": {
      "text/plain": [
       "<matplotlib.legend.Legend at 0x25aba614f60>"
      ]
     },
     "execution_count": 12,
     "metadata": {},
     "output_type": "execute_result"
    },
    {
     "data": {
      "image/png": "[encoded data removed]",
      "text/plain": [
       "<Figure size 432x288 with 1 Axes>"
      ]
     },
     "metadata": {},
     "output_type": "display_data"
    },
    {
     "data": {
      "text/plain": [
       "Text(0.5, 1.0, '2018 vs 2019 2n trimestre')"
      ]
     },
     "execution_count": 12,
     "metadata": {},
     "output_type": "execute_result"
    },
    {
     "data": {
      "text/plain": [
       "Text(0.5, 0, \"Número d'habitacions\")"
      ]
     },
     "execution_count": 12,
     "metadata": {},
     "output_type": "execute_result"
    },
    {
     "data": {
      "text/plain": [
       "Text(0, 0.5, 'Densitat')"
      ]
     },
     "execution_count": 12,
     "metadata": {},
     "output_type": "execute_result"
    },
    {
     "data": {
      "text/plain": [
       "<matplotlib.axes._subplots.AxesSubplot at 0x25aba56d2e8>"
      ]
     },
     "execution_count": 12,
     "metadata": {},
     "output_type": "execute_result"
    },
    {
     "data": {
      "text/plain": [
       "<matplotlib.axes._subplots.AxesSubplot at 0x25aba56d2e8>"
      ]
     },
     "execution_count": 12,
     "metadata": {},
     "output_type": "execute_result"
    },
    {
     "data": {
      "text/plain": [
       "<matplotlib.legend.Legend at 0x25aba614cc0>"
      ]
     },
     "execution_count": 12,
     "metadata": {},
     "output_type": "execute_result"
    },
    {
     "data": {
      "text/plain": [
       "<function matplotlib.pyplot.show(*args, **kw)>"
      ]
     },
     "execution_count": 12,
     "metadata": {},
     "output_type": "execute_result"
    },
    {
     "data": {
      "image/png": "[encoded data removed]",
      "text/plain": [
       "<Figure size 432x288 with 1 Axes>"
      ]
     },
     "metadata": {},
     "output_type": "display_data"
    }
   ],
   "source": [
    "plt.title(\"2018 vs 2019 1r trimestre\")\n",
    "plt.xlabel(\"Número d'habitacions\")\n",
    "plt.ylabel(\"Densitat\")\n",
    "sns.distplot(dfTrim[dfTrim['añoTrim']=='2018_1']['NHab'], label = '2018', bins = 30)\n",
    "sns.distplot(dfTrim[dfTrim['añoTrim']=='2019_1']['NHab'], label = '2019', bins = 30)\n",
    "plt.legend()\n",
    "plt.show()\n",
    "\n",
    "plt.title(\"2018 vs 2019 2n trimestre\")\n",
    "plt.xlabel(\"Número d'habitacions\")\n",
    "plt.ylabel(\"Densitat\")\n",
    "sns.distplot(dfTrim[dfTrim['añoTrim']=='2018_2']['NHab'], label = '2018', bins = 30)\n",
    "sns.distplot(dfTrim[dfTrim['añoTrim']=='2019_2']['NHab'], label = '2019', bins = 30)\n",
    "plt.legend()\n",
    "plt.show"
   ]
  },
  {
   "cell_type": "code",
   "execution_count": 13,
   "metadata": {
    "ExecuteTime": {
     "end_time": "2020-01-11T11:11:00.357081Z",
     "start_time": "2020-01-11T11:10:59.819022Z"
    }
   },
   "outputs": [
    {
     "data": {
      "text/plain": [
       "Text(0.5, 1.0, '2018 vs 2019 3r trimestre')"
      ]
     },
     "execution_count": 13,
     "metadata": {},
     "output_type": "execute_result"
    },
    {
     "data": {
      "text/plain": [
       "Text(0.5, 0, \"Número d'habitacions\")"
      ]
     },
     "execution_count": 13,
     "metadata": {},
     "output_type": "execute_result"
    },
    {
     "data": {
      "text/plain": [
       "Text(0, 0.5, 'Densitat')"
      ]
     },
     "execution_count": 13,
     "metadata": {},
     "output_type": "execute_result"
    },
    {
     "data": {
      "text/plain": [
       "<matplotlib.axes._subplots.AxesSubplot at 0x25abab47080>"
      ]
     },
     "execution_count": 13,
     "metadata": {},
     "output_type": "execute_result"
    },
    {
     "data": {
      "text/plain": [
       "<matplotlib.axes._subplots.AxesSubplot at 0x25abab47080>"
      ]
     },
     "execution_count": 13,
     "metadata": {},
     "output_type": "execute_result"
    },
    {
     "data": {
      "text/plain": [
       "<matplotlib.legend.Legend at 0x25ababcacf8>"
      ]
     },
     "execution_count": 13,
     "metadata": {},
     "output_type": "execute_result"
    },
    {
     "data": {
      "image/png": "[encoded data removed]",
      "text/plain": [
       "<Figure size 432x288 with 1 Axes>"
      ]
     },
     "metadata": {},
     "output_type": "display_data"
    }
   ],
   "source": [
    "plt.title(\"2018 vs 2019 3r trimestre\")\n",
    "plt.xlabel(\"Número d'habitacions\")\n",
    "plt.ylabel(\"Densitat\")\n",
    "sns.distplot(dfTrim[dfTrim['añoTrim']=='2018_3']['NHab'], label = '2018', bins = 30)\n",
    "sns.distplot(dfTrim[dfTrim['añoTrim']=='2019_3']['NHab'], label = '2019', bins = 30)\n",
    "plt.legend()\n",
    "plt.show()"
   ]
  },
  {
   "cell_type": "markdown",
   "metadata": {},
   "source": [
    "S’observen petites diferencies en els dos primers trimestres, sembla que per a l’any 2018, la variable NHab pren valors més petits. Però es comporten de manera similar en tots dos anys, havent-hi majoria de valors petits. En el 3r trimestre, per al 2019 només s'agafen les dades de juliol."
   ]
  },
  {
   "cell_type": "markdown",
   "metadata": {
    "ExecuteTime": {
     "end_time": "2019-12-01T10:06:57.953615Z",
     "start_time": "2019-12-01T10:06:57.642762Z"
    }
   },
   "source": [
    "#### Boxplots"
   ]
  },
  {
   "cell_type": "code",
   "execution_count": 14,
   "metadata": {
    "ExecuteTime": {
     "end_time": "2020-01-11T11:11:19.439903Z",
     "start_time": "2020-01-11T11:11:18.452301Z"
    },
    "scrolled": false
   },
   "outputs": [
    {
     "data": {
      "text/plain": [
       "Text(0.5, 1.0, \"Boxplot Número d'habitacions\")"
      ]
     },
     "execution_count": 14,
     "metadata": {},
     "output_type": "execute_result"
    },
    {
     "data": {
      "image/png": "[encoded data removed]",
      "text/plain": [
       "<Figure size 432x288 with 1 Axes>"
      ]
     },
     "metadata": {},
     "output_type": "display_data"
    }
   ],
   "source": [
    "plt.title(\"Boxplot Número d'habitacions\")\n",
    "plt.show(sns.boxplot(x = df1['NHab']))"
   ]
  },
  {
   "cell_type": "markdown",
   "metadata": {},
   "source": [
    "#### Percentatges"
   ]
  },
  {
   "cell_type": "code",
   "execution_count": 15,
   "metadata": {
    "ExecuteTime": {
     "end_time": "2019-12-24T11:48:30.929359Z",
     "start_time": "2019-12-24T11:48:30.026610Z"
    }
   },
   "outputs": [],
   "source": [
    "pNhab = []\n",
    "## Càlcul percentatge representatiu de la mostra segons NHab\n",
    "for i in range(max(df1['NHab'])):\n",
    "    pNhab.append(round((df1[df1['NHab']>=i].shape[0]/df1.shape[0])*100, 2))"
   ]
  },
  {
   "cell_type": "code",
   "execution_count": 16,
   "metadata": {
    "ExecuteTime": {
     "end_time": "2019-12-24T11:48:42.286808Z",
     "start_time": "2019-12-24T11:48:31.422127Z"
    }
   },
   "outputs": [],
   "source": [
    "pNhabInv = []\n",
    "for i in range(max(df1['NHab'])):\n",
    "    pNhabInv.append(round((df1[df1['NHab']<=i].shape[0]/df1.shape[0])*100, 2))"
   ]
  },
  {
   "cell_type": "code",
   "execution_count": 17,
   "metadata": {
    "ExecuteTime": {
     "end_time": "2019-12-24T11:48:43.012693Z",
     "start_time": "2019-12-24T11:48:42.729094Z"
    },
    "scrolled": false
   },
   "outputs": [
    {
     "data": {
      "text/plain": [
       "Text(0.5, 1.0, \"Percentil segons l'augment del nombre d'habitacions\")"
      ]
     },
     "execution_count": 17,
     "metadata": {},
     "output_type": "execute_result"
    },
    {
     "data": {
      "text/plain": [
       "Text(0.5, 0, \"Nombre d'habitacions ocupades\")"
      ]
     },
     "execution_count": 17,
     "metadata": {},
     "output_type": "execute_result"
    },
    {
     "data": {
      "text/plain": [
       "Text(0, 0.5, 'Percentil')"
      ]
     },
     "execution_count": 17,
     "metadata": {},
     "output_type": "execute_result"
    },
    {
     "data": {
      "text/plain": [
       "[<matplotlib.lines.Line2D at 0x25aba53c5f8>]"
      ]
     },
     "execution_count": 17,
     "metadata": {},
     "output_type": "execute_result"
    },
    {
     "data": {
      "image/png": "[encoded data removed]",
      "text/plain": [
       "<Figure size 432x288 with 1 Axes>"
      ]
     },
     "metadata": {},
     "output_type": "display_data"
    }
   ],
   "source": [
    "plt.title(\"Percentil segons l'augment del nombre d'habitacions\")\n",
    "plt.xlabel(\"Nombre d'habitacions ocupades\")\n",
    "plt.ylabel(\"Percentil\")\n",
    "plt.plot(range(max(df1['NHab'])), pNhab, linewidth = 3)"
   ]
  },
  {
   "cell_type": "code",
   "execution_count": 18,
   "metadata": {
    "ExecuteTime": {
     "end_time": "2019-12-24T11:48:44.002108Z",
     "start_time": "2019-12-24T11:48:43.994112Z"
    }
   },
   "outputs": [],
   "source": [
    "menor5 = filter(filtroMenorQue5, pNhab)\n",
    "pNhab5 = []\n",
    "\n",
    "for i in menor5:\n",
    "    pNhab5.append(i)"
   ]
  },
  {
   "cell_type": "code",
   "execution_count": 19,
   "metadata": {
    "ExecuteTime": {
     "end_time": "2019-12-24T11:48:46.448496Z",
     "start_time": "2019-12-24T11:48:46.143158Z"
    },
    "scrolled": false
   },
   "outputs": [
    {
     "data": {
      "text/plain": [
       "Text(0.5, 1.0, \"Percentil segons l'augment del nombre d'habitacions\")"
      ]
     },
     "execution_count": 19,
     "metadata": {},
     "output_type": "execute_result"
    },
    {
     "data": {
      "text/plain": [
       "Text(0.5, 0, \"Nombre d'habitacions ocupades\")"
      ]
     },
     "execution_count": 19,
     "metadata": {},
     "output_type": "execute_result"
    },
    {
     "data": {
      "text/plain": [
       "Text(0, 0.5, 'Percentil')"
      ]
     },
     "execution_count": 19,
     "metadata": {},
     "output_type": "execute_result"
    },
    {
     "data": {
      "text/plain": [
       "[<matplotlib.lines.Line2D at 0x25aba6b9e80>]"
      ]
     },
     "execution_count": 19,
     "metadata": {},
     "output_type": "execute_result"
    },
    {
     "data": {
      "text/plain": [
       "[<matplotlib.lines.Line2D at 0x25aba6b9c50>]"
      ]
     },
     "execution_count": 19,
     "metadata": {},
     "output_type": "execute_result"
    },
    {
     "data": {
      "text/plain": [
       "<matplotlib.legend.Legend at 0x25aba5bc2e8>"
      ]
     },
     "execution_count": 19,
     "metadata": {},
     "output_type": "execute_result"
    },
    {
     "data": {
      "image/png": "[encoded data removed]",
      "text/plain": [
       "<Figure size 432x288 with 1 Axes>"
      ]
     },
     "metadata": {},
     "output_type": "display_data"
    }
   ],
   "source": [
    "plt.title(\"Percentil segons l'augment del nombre d'habitacions\")\n",
    "plt.xlabel(\"Nombre d'habitacions ocupades\")\n",
    "plt.ylabel(\"Percentil\")\n",
    "plt.plot(range(70), pNhab[0:70], c = 'g', linewidth = 3, label = '> 5%')\n",
    "plt.plot(range(len(pNhab) - len(pNhab5), 70), pNhab5[0:(70-(len(pNhab) - len(pNhab5)))], linewidth = 3, label = '< 5%')\n",
    "##                   \n",
    "plt.legend()\n"
   ]
  },
  {
   "cell_type": "markdown",
   "metadata": {},
   "source": [
    "En color vermell, es mostren els valors per els quals el percentatge de la mostra és inferior al 5%."
   ]
  },
  {
   "cell_type": "code",
   "execution_count": 20,
   "metadata": {
    "ExecuteTime": {
     "end_time": "2019-12-24T11:48:55.678309Z",
     "start_time": "2019-12-24T11:48:55.670312Z"
    }
   },
   "outputs": [
    {
     "name": "stdout",
     "output_type": "stream",
     "text": [
      "Concretament, a partir de 46 habitacions ocupades cap amunt, les dades representen menys d'un 5% sobre el total.\n"
     ]
    }
   ],
   "source": [
    "print(\"Concretament, a partir de\", len(pNhab) - len(pNhab5), \"habitacions ocupades cap amunt, les dades representen menys d'un 5% sobre el total.\")"
   ]
  },
  {
   "cell_type": "markdown",
   "metadata": {},
   "source": [
    "## Variables categòriques"
   ]
  },
  {
   "cell_type": "markdown",
   "metadata": {},
   "source": [
    "### Hotel"
   ]
  },
  {
   "cell_type": "markdown",
   "metadata": {},
   "source": [
    "#### Anàlisi univariat"
   ]
  },
  {
   "cell_type": "code",
   "execution_count": 21,
   "metadata": {
    "ExecuteTime": {
     "end_time": "2019-12-24T11:50:48.735074Z",
     "start_time": "2019-12-24T11:50:48.711080Z"
    }
   },
   "outputs": [
    {
     "data": {
      "text/plain": [
       "count     47630\n",
       "unique        7\n",
       "top         TAU\n",
       "freq      12348\n",
       "Name: idhotel, dtype: object"
      ]
     },
     "execution_count": 21,
     "metadata": {},
     "output_type": "execute_result"
    }
   ],
   "source": [
    "df1.idhotel.describe()"
   ]
  },
  {
   "cell_type": "code",
   "execution_count": 22,
   "metadata": {
    "ExecuteTime": {
     "end_time": "2019-12-24T11:50:49.438834Z",
     "start_time": "2019-12-24T11:50:49.426838Z"
    },
    "scrolled": true
   },
   "outputs": [
    {
     "data": {
      "text/plain": [
       "array(['MME', 'TOS', 'PAV', 'AVS', 'DON', 'TAU', 'SAL'], dtype=object)"
      ]
     },
     "execution_count": 22,
     "metadata": {},
     "output_type": "execute_result"
    }
   ],
   "source": [
    "df1.idhotel.unique()"
   ]
  },
  {
   "cell_type": "code",
   "execution_count": 23,
   "metadata": {
    "ExecuteTime": {
     "end_time": "2019-12-24T11:50:51.320641Z",
     "start_time": "2019-12-24T11:50:49.996503Z"
    },
    "scrolled": true
   },
   "outputs": [
    {
     "data": {
      "text/plain": [
       "Text(0.5, 1.0, 'ID hotel')"
      ]
     },
     "execution_count": 23,
     "metadata": {},
     "output_type": "execute_result"
    },
    {
     "data": {
      "image/png": "[encoded data removed]",
      "text/plain": [
       "<Figure size 432x288 with 1 Axes>"
      ]
     },
     "metadata": {},
     "output_type": "display_data"
    }
   ],
   "source": [
    "plt.title('ID hotel')\n",
    "plt.show(df1['idhotel'].value_counts().sort_index().plot.bar())\n"
   ]
  },
  {
   "cell_type": "code",
   "execution_count": 24,
   "metadata": {
    "ExecuteTime": {
     "end_time": "2019-12-24T11:50:52.242697Z",
     "start_time": "2019-12-24T11:50:52.078050Z"
    },
    "scrolled": true
   },
   "outputs": [
    {
     "data": {
      "text/html": [
       "<div>\n",
       "<style scoped>\n",
       "    .dataframe tbody tr th:only-of-type {\n",
       "        vertical-align: middle;\n",
       "    }\n",
       "\n",
       "    .dataframe tbody tr th {\n",
       "        vertical-align: top;\n",
       "    }\n",
       "\n",
       "    .dataframe thead th {\n",
       "        text-align: right;\n",
       "    }\n",
       "</style>\n",
       "<table border=\"1\" class=\"dataframe\">\n",
       "  <thead>\n",
       "    <tr style=\"text-align: right;\">\n",
       "      <th></th>\n",
       "      <th>%</th>\n",
       "      <th>Recompte</th>\n",
       "    </tr>\n",
       "  </thead>\n",
       "  <tbody>\n",
       "    <tr>\n",
       "      <th>TAU</th>\n",
       "      <td>25.924837</td>\n",
       "      <td>12348</td>\n",
       "    </tr>\n",
       "    <tr>\n",
       "      <th>TOS</th>\n",
       "      <td>24.049969</td>\n",
       "      <td>11455</td>\n",
       "    </tr>\n",
       "    <tr>\n",
       "      <th>PAV</th>\n",
       "      <td>23.552383</td>\n",
       "      <td>11218</td>\n",
       "    </tr>\n",
       "    <tr>\n",
       "      <th>DON</th>\n",
       "      <td>18.360277</td>\n",
       "      <td>8745</td>\n",
       "    </tr>\n",
       "    <tr>\n",
       "      <th>MME</th>\n",
       "      <td>3.972286</td>\n",
       "      <td>1892</td>\n",
       "    </tr>\n",
       "    <tr>\n",
       "      <th>AVS</th>\n",
       "      <td>3.079992</td>\n",
       "      <td>1467</td>\n",
       "    </tr>\n",
       "    <tr>\n",
       "      <th>SAL</th>\n",
       "      <td>1.060256</td>\n",
       "      <td>505</td>\n",
       "    </tr>\n",
       "  </tbody>\n",
       "</table>\n",
       "</div>"
      ],
      "text/plain": [
       "             %  Recompte\n",
       "TAU  25.924837     12348\n",
       "TOS  24.049969     11455\n",
       "PAV  23.552383     11218\n",
       "DON  18.360277      8745\n",
       "MME   3.972286      1892\n",
       "AVS   3.079992      1467\n",
       "SAL   1.060256       505"
      ]
     },
     "execution_count": 24,
     "metadata": {},
     "output_type": "execute_result"
    }
   ],
   "source": [
    "h = pd.concat([df1['idhotel'].value_counts().sort_index()/len(df1)*100, \n",
    "                df1['idhotel'].value_counts().sort_index()], axis = 1)\n",
    "h.columns = ['%', 'Recompte']\n",
    "h.sort_values(by=['Recompte'], ascending = False)"
   ]
  },
  {
   "cell_type": "markdown",
   "metadata": {},
   "source": [
    "L'hotel que apareix en més casos és el TAU, hi ha una gran diferencia entre els 3 que menys apareixen i la resta"
   ]
  },
  {
   "cell_type": "markdown",
   "metadata": {},
   "source": [
    "\n",
    "#### Anàlisi bivariat"
   ]
  },
  {
   "cell_type": "code",
   "execution_count": 25,
   "metadata": {
    "ExecuteTime": {
     "end_time": "2019-12-24T11:53:04.130211Z",
     "start_time": "2019-12-24T11:53:03.700594Z"
    },
    "scrolled": false
   },
   "outputs": [
    {
     "data": {
      "text/plain": [
       "Text(0.5, 1.0, \"Boxplot de nombre d'habitacions per hotel\")"
      ]
     },
     "execution_count": 25,
     "metadata": {},
     "output_type": "execute_result"
    },
    {
     "data": {
      "text/plain": [
       "(array([0. , 0.2, 0.4, 0.6, 0.8, 1. ]), <a list of 6 Text xticklabel objects>)"
      ]
     },
     "execution_count": 25,
     "metadata": {},
     "output_type": "execute_result"
    },
    {
     "data": {
      "text/plain": [
       "Text(0.5, 0, 'Hotel')"
      ]
     },
     "execution_count": 25,
     "metadata": {},
     "output_type": "execute_result"
    },
    {
     "data": {
      "text/plain": [
       "Text(0, 0.5, 'Nº Habitacions')"
      ]
     },
     "execution_count": 25,
     "metadata": {},
     "output_type": "execute_result"
    },
    {
     "data": {
      "image/png": "[encoded data removed]",
      "text/plain": [
       "<Figure size 432x288 with 1 Axes>"
      ]
     },
     "metadata": {},
     "output_type": "display_data"
    }
   ],
   "source": [
    "plt.title(\"Boxplot de nombre d'habitacions per hotel\")\n",
    "plt.xticks(rotation = 90)\n",
    "plt.xlabel(\"Hotel\")\n",
    "plt.ylabel(\"Nº Habitacions\")\n",
    "plt.show(sns.boxplot(x=\"idhotel\", y=\"NHab\", data=df1))"
   ]
  },
  {
   "cell_type": "markdown",
   "metadata": {},
   "source": [
    "L'hotel AVS es comporta molt diferent a la resta, mentre que el percentil 75 en la resta d'hotels són aproximadament entre 4 i 10 habitacions, en aquest cas es troba al voltant de 60.\n",
    "\n",
    "El MME i el SAL gairebé no tenen casos per sobre de 50. La resta d'hotels es comporten d'una manera similar amb la variable resposta. Tenen molts casos força superiors al percentil 75. "
   ]
  },
  {
   "cell_type": "code",
   "execution_count": 26,
   "metadata": {
    "ExecuteTime": {
     "end_time": "2019-12-19T10:42:05.288989Z",
     "start_time": "2019-12-19T10:42:03.639906Z"
    },
    "scrolled": true
   },
   "outputs": [
    {
     "data": {
      "text/plain": [
       "Text(0.5, 1.0, \"Boxplot de nombre d'habitacions per hotel\")"
      ]
     },
     "execution_count": 26,
     "metadata": {},
     "output_type": "execute_result"
    },
    {
     "data": {
      "text/plain": [
       "(array([0. , 0.2, 0.4, 0.6, 0.8, 1. ]), <a list of 6 Text xticklabel objects>)"
      ]
     },
     "execution_count": 26,
     "metadata": {},
     "output_type": "execute_result"
    },
    {
     "data": {
      "text/plain": [
       "Text(0.5, 0, 'Hotel')"
      ]
     },
     "execution_count": 26,
     "metadata": {},
     "output_type": "execute_result"
    },
    {
     "data": {
      "text/plain": [
       "Text(0, 0.5, 'Nº Habitacions')"
      ]
     },
     "execution_count": 26,
     "metadata": {},
     "output_type": "execute_result"
    },
    {
     "data": {
      "image/png": "[encoded data removed]",
      "text/plain": [
       "<Figure size 432x288 with 1 Axes>"
      ]
     },
     "metadata": {},
     "output_type": "display_data"
    }
   ],
   "source": [
    "plt.title(\"Boxplot de nombre d'habitacions per hotel\")\n",
    "plt.xticks(rotation = 90)\n",
    "plt.xlabel(\"Hotel\")\n",
    "plt.ylabel(\"Nº Habitacions\")\n",
    "plt.show(sns.boxplot(x=\"idhotel\", y=\"NHab\", data=df1))"
   ]
  },
  {
   "cell_type": "markdown",
   "metadata": {},
   "source": [
    "Total d'habitacions venudes per hotel."
   ]
  },
  {
   "cell_type": "code",
   "execution_count": 27,
   "metadata": {
    "ExecuteTime": {
     "end_time": "2019-12-24T11:53:12.403269Z",
     "start_time": "2019-12-24T11:53:12.130999Z"
    },
    "scrolled": true
   },
   "outputs": [
    {
     "data": {
      "text/html": [
       "<div>\n",
       "<style scoped>\n",
       "    .dataframe tbody tr th:only-of-type {\n",
       "        vertical-align: middle;\n",
       "    }\n",
       "\n",
       "    .dataframe tbody tr th {\n",
       "        vertical-align: top;\n",
       "    }\n",
       "\n",
       "    .dataframe thead th {\n",
       "        text-align: right;\n",
       "    }\n",
       "</style>\n",
       "<table border=\"1\" class=\"dataframe\">\n",
       "  <thead>\n",
       "    <tr style=\"text-align: right;\">\n",
       "      <th></th>\n",
       "      <th>id</th>\n",
       "      <th>Total habitacions</th>\n",
       "      <th>Percentatge %</th>\n",
       "    </tr>\n",
       "  </thead>\n",
       "  <tbody>\n",
       "    <tr>\n",
       "      <th>1</th>\n",
       "      <td>TOS</td>\n",
       "      <td>113489</td>\n",
       "      <td>24.374</td>\n",
       "    </tr>\n",
       "    <tr>\n",
       "      <th>2</th>\n",
       "      <td>PAV</td>\n",
       "      <td>107041</td>\n",
       "      <td>22.989</td>\n",
       "    </tr>\n",
       "    <tr>\n",
       "      <th>5</th>\n",
       "      <td>TAU</td>\n",
       "      <td>103879</td>\n",
       "      <td>22.310</td>\n",
       "    </tr>\n",
       "    <tr>\n",
       "      <th>4</th>\n",
       "      <td>DON</td>\n",
       "      <td>79029</td>\n",
       "      <td>16.973</td>\n",
       "    </tr>\n",
       "    <tr>\n",
       "      <th>3</th>\n",
       "      <td>AVS</td>\n",
       "      <td>48197</td>\n",
       "      <td>10.351</td>\n",
       "    </tr>\n",
       "    <tr>\n",
       "      <th>0</th>\n",
       "      <td>MME</td>\n",
       "      <td>11960</td>\n",
       "      <td>2.569</td>\n",
       "    </tr>\n",
       "    <tr>\n",
       "      <th>6</th>\n",
       "      <td>SAL</td>\n",
       "      <td>2020</td>\n",
       "      <td>0.434</td>\n",
       "    </tr>\n",
       "  </tbody>\n",
       "</table>\n",
       "</div>"
      ],
      "text/plain": [
       "    id  Total habitacions  Percentatge %\n",
       "1  TOS             113489         24.374\n",
       "2  PAV             107041         22.989\n",
       "5  TAU             103879         22.310\n",
       "4  DON              79029         16.973\n",
       "3  AVS              48197         10.351\n",
       "0  MME              11960          2.569\n",
       "6  SAL               2020          0.434"
      ]
     },
     "execution_count": 27,
     "metadata": {},
     "output_type": "execute_result"
    }
   ],
   "source": [
    "habitacionsPerCategoria(df1['idhotel'], df1).sort_values(by=['Percentatge %'], ascending = False)"
   ]
  },
  {
   "cell_type": "markdown",
   "metadata": {},
   "source": [
    "Tot i que l'AVS és l'hotel que menys apareix en el dataset, no es el que menys ven, el total d'habitacions venudes per aquest hotel representa al voltant d'un 10% de les habitacions venudes.\n",
    "\n",
    "El MME i el SAL són els que menys habitacions vénen amb diferència, mentre que el TOS, el PAV i el TAU vénen un percentatge força similar."
   ]
  },
  {
   "cell_type": "markdown",
   "metadata": {},
   "source": [
    "### Client"
   ]
  },
  {
   "cell_type": "markdown",
   "metadata": {},
   "source": [
    "#### Anàlisi univariat"
   ]
  },
  {
   "cell_type": "code",
   "execution_count": 28,
   "metadata": {
    "ExecuteTime": {
     "end_time": "2019-12-19T10:42:09.171729Z",
     "start_time": "2019-12-19T10:42:09.151735Z"
    }
   },
   "outputs": [
    {
     "data": {
      "text/plain": [
       "count     47630\n",
       "unique        4\n",
       "top       Otros\n",
       "freq      21050\n",
       "Name: idcliente, dtype: object"
      ]
     },
     "execution_count": 28,
     "metadata": {},
     "output_type": "execute_result"
    }
   ],
   "source": [
    "df1.idcliente.describe()"
   ]
  },
  {
   "cell_type": "code",
   "execution_count": 29,
   "metadata": {
    "ExecuteTime": {
     "end_time": "2019-12-24T11:54:00.946141Z",
     "start_time": "2019-12-24T11:53:59.923730Z"
    },
    "scrolled": false
   },
   "outputs": [
    {
     "data": {
      "text/plain": [
       "Text(0.5, 1.0, 'ID client')"
      ]
     },
     "execution_count": 29,
     "metadata": {},
     "output_type": "execute_result"
    },
    {
     "data": {
      "image/png": "[encoded data removed]",
      "text/plain": [
       "<Figure size 432x288 with 1 Axes>"
      ]
     },
     "metadata": {},
     "output_type": "display_data"
    }
   ],
   "source": [
    "plt.title('ID client')\n",
    "plt.show(df1['idcliente'].value_counts().sort_index().plot.bar())"
   ]
  },
  {
   "cell_type": "code",
   "execution_count": 30,
   "metadata": {
    "ExecuteTime": {
     "end_time": "2019-12-24T11:55:54.634537Z",
     "start_time": "2019-12-24T11:55:54.486574Z"
    },
    "scrolled": false
   },
   "outputs": [
    {
     "data": {
      "text/html": [
       "<div>\n",
       "<style scoped>\n",
       "    .dataframe tbody tr th:only-of-type {\n",
       "        vertical-align: middle;\n",
       "    }\n",
       "\n",
       "    .dataframe tbody tr th {\n",
       "        vertical-align: top;\n",
       "    }\n",
       "\n",
       "    .dataframe thead th {\n",
       "        text-align: right;\n",
       "    }\n",
       "</style>\n",
       "<table border=\"1\" class=\"dataframe\">\n",
       "  <thead>\n",
       "    <tr style=\"text-align: right;\">\n",
       "      <th></th>\n",
       "      <th>%</th>\n",
       "      <th>Recompte</th>\n",
       "    </tr>\n",
       "  </thead>\n",
       "  <tbody>\n",
       "    <tr>\n",
       "      <th>Otros</th>\n",
       "      <td>44.194835</td>\n",
       "      <td>21050</td>\n",
       "    </tr>\n",
       "    <tr>\n",
       "      <th>Huespedes</th>\n",
       "      <td>27.516271</td>\n",
       "      <td>13106</td>\n",
       "    </tr>\n",
       "    <tr>\n",
       "      <th>TUI_UK_LTD</th>\n",
       "      <td>17.778711</td>\n",
       "      <td>8468</td>\n",
       "    </tr>\n",
       "    <tr>\n",
       "      <th>OL_MEDITERRANEO</th>\n",
       "      <td>10.510183</td>\n",
       "      <td>5006</td>\n",
       "    </tr>\n",
       "  </tbody>\n",
       "</table>\n",
       "</div>"
      ],
      "text/plain": [
       "                         %  Recompte\n",
       "Otros            44.194835     21050\n",
       "Huespedes        27.516271     13106\n",
       "TUI_UK_LTD       17.778711      8468\n",
       "OL_MEDITERRANEO  10.510183      5006"
      ]
     },
     "execution_count": 30,
     "metadata": {},
     "output_type": "execute_result"
    }
   ],
   "source": [
    "cl = pd.concat([df1['idcliente'].value_counts().sort_index()/len(df1)*100, \n",
    "                df1['idcliente'].value_counts().sort_index()], axis = 1)\n",
    "cl.columns = ['%', 'Recompte']\n",
    "cl.sort_values(by=['Recompte'], ascending = False)"
   ]
  },
  {
   "cell_type": "markdown",
   "metadata": {},
   "source": [
    "Les reserves fetes des de les agències TUI UK LTD i OLIMPIA MEDITERRANEO suposen gairebé un 27% de les dades, mentre que les fetes directament pels hostes suposen un altre 27%. La majoria de casos són reserves fetes a partir d'altres agències clients."
   ]
  },
  {
   "cell_type": "markdown",
   "metadata": {},
   "source": [
    "#### Anàlisi bivariat"
   ]
  },
  {
   "cell_type": "code",
   "execution_count": 31,
   "metadata": {
    "ExecuteTime": {
     "end_time": "2019-12-24T11:57:20.201550Z",
     "start_time": "2019-12-24T11:57:18.601832Z"
    },
    "scrolled": false
   },
   "outputs": [
    {
     "data": {
      "text/plain": [
       "Text(0.5, 1.0, \"Boxplots del nombre d'habitacions segons el client\")"
      ]
     },
     "execution_count": 31,
     "metadata": {},
     "output_type": "execute_result"
    },
    {
     "data": {
      "text/plain": [
       "(array([0. , 0.2, 0.4, 0.6, 0.8, 1. ]), <a list of 6 Text xticklabel objects>)"
      ]
     },
     "execution_count": 31,
     "metadata": {},
     "output_type": "execute_result"
    },
    {
     "data": {
      "image/png": "[encoded data removed]",
      "text/plain": [
       "<Figure size 432x288 with 1 Axes>"
      ]
     },
     "metadata": {},
     "output_type": "display_data"
    }
   ],
   "source": [
    "plt.title(\"Boxplots del nombre d'habitacions segons el client\")\n",
    "plt.xticks(rotation = 90)\n",
    "plt.show(sns.boxplot(x = 'idcliente', y = 'NHab', data = df1))"
   ]
  },
  {
   "cell_type": "markdown",
   "metadata": {},
   "source": [
    "Destaca el comportament de l'agència TUI UK LTD amb la variable resposta. El percentil 75 arriba fins al voltant de les 40 habitacions, no obstant, el cas màxim d'habitacions reservades des d'aquesta empresa no arriba a les 150 habitacions."
   ]
  },
  {
   "cell_type": "markdown",
   "metadata": {},
   "source": [
    "##### Comportament idhotel amb idcliente"
   ]
  },
  {
   "cell_type": "code",
   "execution_count": 32,
   "metadata": {
    "ExecuteTime": {
     "end_time": "2019-12-19T10:43:00.343108Z",
     "start_time": "2019-12-19T10:43:00.239136Z"
    },
    "scrolled": true
   },
   "outputs": [
    {
     "data": {
      "text/html": [
       "<div>\n",
       "<style scoped>\n",
       "    .dataframe tbody tr th:only-of-type {\n",
       "        vertical-align: middle;\n",
       "    }\n",
       "\n",
       "    .dataframe tbody tr th {\n",
       "        vertical-align: top;\n",
       "    }\n",
       "\n",
       "    .dataframe thead th {\n",
       "        text-align: right;\n",
       "    }\n",
       "</style>\n",
       "<table border=\"1\" class=\"dataframe\">\n",
       "  <thead>\n",
       "    <tr style=\"text-align: right;\">\n",
       "      <th>idcliente</th>\n",
       "      <th>Huespedes</th>\n",
       "      <th>OL_MEDITERRANEO</th>\n",
       "      <th>Otros</th>\n",
       "      <th>TUI_UK_LTD</th>\n",
       "      <th>Total</th>\n",
       "    </tr>\n",
       "    <tr>\n",
       "      <th>idhotel</th>\n",
       "      <th></th>\n",
       "      <th></th>\n",
       "      <th></th>\n",
       "      <th></th>\n",
       "      <th></th>\n",
       "    </tr>\n",
       "  </thead>\n",
       "  <tbody>\n",
       "    <tr>\n",
       "      <th>AVS</th>\n",
       "      <td>58</td>\n",
       "      <td>46</td>\n",
       "      <td>560</td>\n",
       "      <td>803</td>\n",
       "      <td>1467</td>\n",
       "    </tr>\n",
       "    <tr>\n",
       "      <th>DON</th>\n",
       "      <td>1994</td>\n",
       "      <td>1080</td>\n",
       "      <td>3901</td>\n",
       "      <td>1770</td>\n",
       "      <td>8745</td>\n",
       "    </tr>\n",
       "    <tr>\n",
       "      <th>MME</th>\n",
       "      <td>731</td>\n",
       "      <td>131</td>\n",
       "      <td>798</td>\n",
       "      <td>232</td>\n",
       "      <td>1892</td>\n",
       "    </tr>\n",
       "    <tr>\n",
       "      <th>PAV</th>\n",
       "      <td>3629</td>\n",
       "      <td>1584</td>\n",
       "      <td>4804</td>\n",
       "      <td>1201</td>\n",
       "      <td>11218</td>\n",
       "    </tr>\n",
       "    <tr>\n",
       "      <th>SAL</th>\n",
       "      <td>123</td>\n",
       "      <td>54</td>\n",
       "      <td>275</td>\n",
       "      <td>53</td>\n",
       "      <td>505</td>\n",
       "    </tr>\n",
       "    <tr>\n",
       "      <th>TAU</th>\n",
       "      <td>3198</td>\n",
       "      <td>1088</td>\n",
       "      <td>5942</td>\n",
       "      <td>2120</td>\n",
       "      <td>12348</td>\n",
       "    </tr>\n",
       "    <tr>\n",
       "      <th>TOS</th>\n",
       "      <td>3373</td>\n",
       "      <td>1023</td>\n",
       "      <td>4770</td>\n",
       "      <td>2289</td>\n",
       "      <td>11455</td>\n",
       "    </tr>\n",
       "    <tr>\n",
       "      <th>Total</th>\n",
       "      <td>13106</td>\n",
       "      <td>5006</td>\n",
       "      <td>21050</td>\n",
       "      <td>8468</td>\n",
       "      <td>47630</td>\n",
       "    </tr>\n",
       "  </tbody>\n",
       "</table>\n",
       "</div>"
      ],
      "text/plain": [
       "idcliente  Huespedes  OL_MEDITERRANEO  Otros  TUI_UK_LTD  Total\n",
       "idhotel                                                        \n",
       "AVS               58               46    560         803   1467\n",
       "DON             1994             1080   3901        1770   8745\n",
       "MME              731              131    798         232   1892\n",
       "PAV             3629             1584   4804        1201  11218\n",
       "SAL              123               54    275          53    505\n",
       "TAU             3198             1088   5942        2120  12348\n",
       "TOS             3373             1023   4770        2289  11455\n",
       "Total          13106             5006  21050        8468  47630"
      ]
     },
     "execution_count": 32,
     "metadata": {},
     "output_type": "execute_result"
    }
   ],
   "source": [
    "hotelcl = pd.crosstab(df1.idhotel, df1.idcliente, margins = True, margins_name = 'Total')\n",
    "hotelcl"
   ]
  },
  {
   "cell_type": "markdown",
   "metadata": {},
   "source": [
    "La majoria d'habitacions de l'hotel AVS les reserven mitjançant l'agència TUI UK LTD, això quadra amb el que s'ha vist, ja que tant l'hotel com l'agència en qüestió acostumen a vendre habitacions en 'packs'."
   ]
  },
  {
   "cell_type": "markdown",
   "metadata": {},
   "source": [
    "### Tipus Habitació"
   ]
  },
  {
   "cell_type": "markdown",
   "metadata": {},
   "source": [
    "\n",
    "#### Anàlisi univariat"
   ]
  },
  {
   "cell_type": "code",
   "execution_count": 33,
   "metadata": {
    "ExecuteTime": {
     "end_time": "2020-01-06T11:32:53.803184Z",
     "start_time": "2020-01-06T11:32:53.700243Z"
    }
   },
   "outputs": [
    {
     "data": {
      "text/plain": [
       "count     47630\n",
       "unique        6\n",
       "top         DBL\n",
       "freq      28447\n",
       "Name: idtipohab, dtype: object"
      ]
     },
     "execution_count": 33,
     "metadata": {},
     "output_type": "execute_result"
    },
    {
     "data": {
      "text/html": [
       "<div>\n",
       "<style scoped>\n",
       "    .dataframe tbody tr th:only-of-type {\n",
       "        vertical-align: middle;\n",
       "    }\n",
       "\n",
       "    .dataframe tbody tr th {\n",
       "        vertical-align: top;\n",
       "    }\n",
       "\n",
       "    .dataframe thead th {\n",
       "        text-align: right;\n",
       "    }\n",
       "</style>\n",
       "<table border=\"1\" class=\"dataframe\">\n",
       "  <thead>\n",
       "    <tr style=\"text-align: right;\">\n",
       "      <th></th>\n",
       "      <th>%</th>\n",
       "      <th>Recompte</th>\n",
       "    </tr>\n",
       "  </thead>\n",
       "  <tbody>\n",
       "    <tr>\n",
       "      <th>DBL</th>\n",
       "      <td>59.724963</td>\n",
       "      <td>28447</td>\n",
       "    </tr>\n",
       "    <tr>\n",
       "      <th>FAM</th>\n",
       "      <td>23.142977</td>\n",
       "      <td>11023</td>\n",
       "    </tr>\n",
       "    <tr>\n",
       "      <th>SUI</th>\n",
       "      <td>7.774512</td>\n",
       "      <td>3703</td>\n",
       "    </tr>\n",
       "    <tr>\n",
       "      <th>PREM</th>\n",
       "      <td>5.775772</td>\n",
       "      <td>2751</td>\n",
       "    </tr>\n",
       "    <tr>\n",
       "      <th>IND</th>\n",
       "      <td>3.579677</td>\n",
       "      <td>1705</td>\n",
       "    </tr>\n",
       "    <tr>\n",
       "      <th>APART</th>\n",
       "      <td>0.002100</td>\n",
       "      <td>1</td>\n",
       "    </tr>\n",
       "  </tbody>\n",
       "</table>\n",
       "</div>"
      ],
      "text/plain": [
       "               %  Recompte\n",
       "DBL    59.724963     28447\n",
       "FAM    23.142977     11023\n",
       "SUI     7.774512      3703\n",
       "PREM    5.775772      2751\n",
       "IND     3.579677      1705\n",
       "APART   0.002100         1"
      ]
     },
     "execution_count": 33,
     "metadata": {},
     "output_type": "execute_result"
    }
   ],
   "source": [
    "df1.idtipohab.describe()\n",
    "hab = pd.concat([df1['idtipohab'].value_counts().sort_index()/len(df1)*100, \n",
    "                df1['idtipohab'].value_counts().sort_index()], axis = 1)\n",
    "hab.columns = ['%', 'Recompte']\n",
    "hab.sort_values(by=['Recompte'], ascending = False)"
   ]
  },
  {
   "cell_type": "markdown",
   "metadata": {},
   "source": [
    "S'ha de decidir que fer amb el cas que correspon al tipus APART, ja que al només haver-hi un és susceptible de ser eliminat o ajuntat amb altres tipus d'habitació.\n",
    "Es mira en detall quin cas és i es decideix si s'elimina o s'ajunta amb un altre tipus d'habitació."
   ]
  },
  {
   "cell_type": "code",
   "execution_count": 34,
   "metadata": {
    "ExecuteTime": {
     "end_time": "2020-01-06T11:33:02.582426Z",
     "start_time": "2020-01-06T11:33:02.503474Z"
    }
   },
   "outputs": [
    {
     "data": {
      "text/html": [
       "<div>\n",
       "<style scoped>\n",
       "    .dataframe tbody tr th:only-of-type {\n",
       "        vertical-align: middle;\n",
       "    }\n",
       "\n",
       "    .dataframe tbody tr th {\n",
       "        vertical-align: top;\n",
       "    }\n",
       "\n",
       "    .dataframe thead th {\n",
       "        text-align: right;\n",
       "    }\n",
       "</style>\n",
       "<table border=\"1\" class=\"dataframe\">\n",
       "  <thead>\n",
       "    <tr style=\"text-align: right;\">\n",
       "      <th></th>\n",
       "      <th>idhotel</th>\n",
       "      <th>fechaocupacion</th>\n",
       "      <th>idcliente</th>\n",
       "      <th>idtipohab</th>\n",
       "      <th>idregimen</th>\n",
       "      <th>idsegmento</th>\n",
       "      <th>id_canal</th>\n",
       "      <th>idpais_cliente</th>\n",
       "      <th>NHab</th>\n",
       "      <th>S1H</th>\n",
       "      <th>S2H</th>\n",
       "      <th>S3H</th>\n",
       "      <th>S4H</th>\n",
       "      <th>S5H</th>\n",
       "      <th>S6H</th>\n",
       "      <th>S7H</th>\n",
       "      <th>S8H</th>\n",
       "      <th>S9H</th>\n",
       "      <th>S10H</th>\n",
       "      <th>S11H</th>\n",
       "      <th>S12H</th>\n",
       "      <th>S13H</th>\n",
       "      <th>S14H</th>\n",
       "      <th>S15H</th>\n",
       "      <th>S16H</th>\n",
       "      <th>S17H</th>\n",
       "      <th>S18H</th>\n",
       "      <th>S19H</th>\n",
       "      <th>S20H</th>\n",
       "      <th>S21H</th>\n",
       "      <th>S22H</th>\n",
       "      <th>S23H</th>\n",
       "      <th>S24H</th>\n",
       "      <th>S25H</th>\n",
       "      <th>S26H</th>\n",
       "      <th>S27H</th>\n",
       "      <th>S28H</th>\n",
       "      <th>S29H</th>\n",
       "      <th>S30H</th>\n",
       "      <th>S31H</th>\n",
       "      <th>S32H</th>\n",
       "      <th>S33H</th>\n",
       "      <th>S34H</th>\n",
       "      <th>S35H</th>\n",
       "      <th>S36H</th>\n",
       "      <th>S37H</th>\n",
       "      <th>S38H</th>\n",
       "      <th>S39H</th>\n",
       "      <th>S40H</th>\n",
       "      <th>S41H</th>\n",
       "      <th>S42H</th>\n",
       "      <th>S43H</th>\n",
       "      <th>S44H</th>\n",
       "      <th>S45H</th>\n",
       "      <th>S46H</th>\n",
       "      <th>S47H</th>\n",
       "      <th>S48H</th>\n",
       "      <th>S49H</th>\n",
       "      <th>S50H</th>\n",
       "      <th>S51H</th>\n",
       "      <th>S52H</th>\n",
       "      <th>PreuHab</th>\n",
       "      <th>S1</th>\n",
       "      <th>S2</th>\n",
       "      <th>S3</th>\n",
       "      <th>S4</th>\n",
       "      <th>S5</th>\n",
       "      <th>S6</th>\n",
       "      <th>S7</th>\n",
       "      <th>S8</th>\n",
       "      <th>S9</th>\n",
       "      <th>S10</th>\n",
       "      <th>S11</th>\n",
       "      <th>S12</th>\n",
       "      <th>S13</th>\n",
       "      <th>S14</th>\n",
       "      <th>S15</th>\n",
       "      <th>S16</th>\n",
       "      <th>S17</th>\n",
       "      <th>S18</th>\n",
       "      <th>S19</th>\n",
       "      <th>S20</th>\n",
       "      <th>S21</th>\n",
       "      <th>S22</th>\n",
       "      <th>S23</th>\n",
       "      <th>S24</th>\n",
       "      <th>S25</th>\n",
       "      <th>S26</th>\n",
       "      <th>S27</th>\n",
       "      <th>S28</th>\n",
       "      <th>S29</th>\n",
       "      <th>S30</th>\n",
       "      <th>S31</th>\n",
       "      <th>S32</th>\n",
       "      <th>S33</th>\n",
       "      <th>S34</th>\n",
       "      <th>S35</th>\n",
       "      <th>S36</th>\n",
       "      <th>S37</th>\n",
       "      <th>S38</th>\n",
       "      <th>S39</th>\n",
       "      <th>S40</th>\n",
       "      <th>S41</th>\n",
       "      <th>S42</th>\n",
       "      <th>S43</th>\n",
       "      <th>S44</th>\n",
       "      <th>S45</th>\n",
       "      <th>S46</th>\n",
       "      <th>S47</th>\n",
       "      <th>S48</th>\n",
       "      <th>S49</th>\n",
       "      <th>S50</th>\n",
       "      <th>S51</th>\n",
       "      <th>S52</th>\n",
       "      <th>diaAño</th>\n",
       "    </tr>\n",
       "  </thead>\n",
       "  <tbody>\n",
       "    <tr>\n",
       "      <th>25858</th>\n",
       "      <td>AVS</td>\n",
       "      <td>2019-04-27</td>\n",
       "      <td>Huespedes</td>\n",
       "      <td>APART</td>\n",
       "      <td>MP</td>\n",
       "      <td>DESCONOCIDO</td>\n",
       "      <td>DESCONOCIDO</td>\n",
       "      <td>ES</td>\n",
       "      <td>1</td>\n",
       "      <td>0</td>\n",
       "      <td>0</td>\n",
       "      <td>0</td>\n",
       "      <td>0</td>\n",
       "      <td>0</td>\n",
       "      <td>0</td>\n",
       "      <td>0</td>\n",
       "      <td>0</td>\n",
       "      <td>0</td>\n",
       "      <td>0</td>\n",
       "      <td>0</td>\n",
       "      <td>0</td>\n",
       "      <td>0</td>\n",
       "      <td>0</td>\n",
       "      <td>0</td>\n",
       "      <td>0</td>\n",
       "      <td>0</td>\n",
       "      <td>0</td>\n",
       "      <td>0</td>\n",
       "      <td>0</td>\n",
       "      <td>0</td>\n",
       "      <td>0</td>\n",
       "      <td>0</td>\n",
       "      <td>0</td>\n",
       "      <td>0</td>\n",
       "      <td>0</td>\n",
       "      <td>0</td>\n",
       "      <td>0</td>\n",
       "      <td>0</td>\n",
       "      <td>0</td>\n",
       "      <td>0</td>\n",
       "      <td>0</td>\n",
       "      <td>0</td>\n",
       "      <td>0</td>\n",
       "      <td>0</td>\n",
       "      <td>0</td>\n",
       "      <td>0</td>\n",
       "      <td>0</td>\n",
       "      <td>0</td>\n",
       "      <td>0</td>\n",
       "      <td>0</td>\n",
       "      <td>0</td>\n",
       "      <td>0</td>\n",
       "      <td>0</td>\n",
       "      <td>0</td>\n",
       "      <td>0</td>\n",
       "      <td>0</td>\n",
       "      <td>0</td>\n",
       "      <td>0</td>\n",
       "      <td>0</td>\n",
       "      <td>0</td>\n",
       "      <td>0</td>\n",
       "      <td>97.29091</td>\n",
       "      <td>97.29091</td>\n",
       "      <td>97.29091</td>\n",
       "      <td>97.29091</td>\n",
       "      <td>97.29091</td>\n",
       "      <td>97.29091</td>\n",
       "      <td>97.29091</td>\n",
       "      <td>97.29091</td>\n",
       "      <td>97.29091</td>\n",
       "      <td>97.29091</td>\n",
       "      <td>97.29091</td>\n",
       "      <td>97.29091</td>\n",
       "      <td>97.29091</td>\n",
       "      <td>97.29091</td>\n",
       "      <td>97.29091</td>\n",
       "      <td>97.29091</td>\n",
       "      <td>97.29091</td>\n",
       "      <td>97.29091</td>\n",
       "      <td>97.29091</td>\n",
       "      <td>97.29091</td>\n",
       "      <td>97.29091</td>\n",
       "      <td>97.29091</td>\n",
       "      <td>97.29091</td>\n",
       "      <td>97.29091</td>\n",
       "      <td>97.29091</td>\n",
       "      <td>97.29091</td>\n",
       "      <td>97.29091</td>\n",
       "      <td>97.29091</td>\n",
       "      <td>97.29091</td>\n",
       "      <td>97.29091</td>\n",
       "      <td>97.29091</td>\n",
       "      <td>97.29091</td>\n",
       "      <td>97.29091</td>\n",
       "      <td>97.29091</td>\n",
       "      <td>97.29091</td>\n",
       "      <td>97.29091</td>\n",
       "      <td>97.29091</td>\n",
       "      <td>97.29091</td>\n",
       "      <td>97.29091</td>\n",
       "      <td>97.29091</td>\n",
       "      <td>97.29091</td>\n",
       "      <td>97.29091</td>\n",
       "      <td>97.29091</td>\n",
       "      <td>97.29091</td>\n",
       "      <td>97.29091</td>\n",
       "      <td>97.29091</td>\n",
       "      <td>97.29091</td>\n",
       "      <td>97.29091</td>\n",
       "      <td>97.29091</td>\n",
       "      <td>97.29091</td>\n",
       "      <td>97.29091</td>\n",
       "      <td>97.29091</td>\n",
       "      <td>97.29091</td>\n",
       "      <td>118</td>\n",
       "    </tr>\n",
       "  </tbody>\n",
       "</table>\n",
       "</div>"
      ],
      "text/plain": [
       "      idhotel fechaocupacion  idcliente idtipohab idregimen   idsegmento  \\\n",
       "25858     AVS     2019-04-27  Huespedes     APART        MP  DESCONOCIDO   \n",
       "\n",
       "          id_canal idpais_cliente  NHab  S1H  S2H  S3H  S4H  S5H  S6H  S7H  \\\n",
       "25858  DESCONOCIDO             ES     1    0    0    0    0    0    0    0   \n",
       "\n",
       "       S8H  S9H  S10H  S11H  S12H  S13H  S14H  S15H  S16H  S17H  S18H  S19H  \\\n",
       "25858    0    0     0     0     0     0     0     0     0     0     0     0   \n",
       "\n",
       "       S20H  S21H  S22H  S23H  S24H  S25H  S26H  S27H  S28H  S29H  S30H  S31H  \\\n",
       "25858     0     0     0     0     0     0     0     0     0     0     0     0   \n",
       "\n",
       "       S32H  S33H  S34H  S35H  S36H  S37H  S38H  S39H  S40H  S41H  S42H  S43H  \\\n",
       "25858     0     0     0     0     0     0     0     0     0     0     0     0   \n",
       "\n",
       "       S44H  S45H  S46H  S47H  S48H  S49H  S50H  S51H  S52H   PreuHab  \\\n",
       "25858     0     0     0     0     0     0     0     0     0  97.29091   \n",
       "\n",
       "             S1        S2        S3        S4        S5        S6        S7  \\\n",
       "25858  97.29091  97.29091  97.29091  97.29091  97.29091  97.29091  97.29091   \n",
       "\n",
       "             S8        S9       S10       S11       S12       S13       S14  \\\n",
       "25858  97.29091  97.29091  97.29091  97.29091  97.29091  97.29091  97.29091   \n",
       "\n",
       "            S15       S16       S17       S18       S19       S20       S21  \\\n",
       "25858  97.29091  97.29091  97.29091  97.29091  97.29091  97.29091  97.29091   \n",
       "\n",
       "            S22       S23       S24       S25       S26       S27       S28  \\\n",
       "25858  97.29091  97.29091  97.29091  97.29091  97.29091  97.29091  97.29091   \n",
       "\n",
       "            S29       S30       S31       S32       S33       S34       S35  \\\n",
       "25858  97.29091  97.29091  97.29091  97.29091  97.29091  97.29091  97.29091   \n",
       "\n",
       "            S36       S37       S38       S39       S40       S41       S42  \\\n",
       "25858  97.29091  97.29091  97.29091  97.29091  97.29091  97.29091  97.29091   \n",
       "\n",
       "            S43       S44       S45       S46       S47       S48       S49  \\\n",
       "25858  97.29091  97.29091  97.29091  97.29091  97.29091  97.29091  97.29091   \n",
       "\n",
       "            S50       S51       S52 diaAño  \n",
       "25858  97.29091  97.29091  97.29091    118  "
      ]
     },
     "execution_count": 34,
     "metadata": {},
     "output_type": "execute_result"
    }
   ],
   "source": [
    "df1[df1.idtipohab=='APART']"
   ]
  },
  {
   "cell_type": "markdown",
   "metadata": {},
   "source": [
    "En l'anàlisi bivariat entre el tipus d'habitació i l'hotel es podrà veure com l'hotel 'AVS', que és l'hotel que ha venut aquesta habitació, només venen suites, per tant, es transformarà en suite. "
   ]
  },
  {
   "cell_type": "code",
   "execution_count": 35,
   "metadata": {
    "ExecuteTime": {
     "end_time": "2020-01-06T11:35:43.142494Z",
     "start_time": "2020-01-06T11:35:43.133501Z"
    }
   },
   "outputs": [],
   "source": [
    "df1.idtipohab = df1.idtipohab.replace('APART', 'SUI')\n"
   ]
  },
  {
   "cell_type": "code",
   "execution_count": 36,
   "metadata": {
    "ExecuteTime": {
     "end_time": "2020-01-06T11:35:44.898485Z",
     "start_time": "2020-01-06T11:35:43.845089Z"
    },
    "scrolled": true
   },
   "outputs": [
    {
     "data": {
      "text/plain": [
       "Text(0.5, 1.0, \"Tipus d'habitació\")"
      ]
     },
     "execution_count": 36,
     "metadata": {},
     "output_type": "execute_result"
    },
    {
     "data": {
      "image/png": "[encoded data removed]",
      "text/plain": [
       "<Figure size 432x288 with 1 Axes>"
      ]
     },
     "metadata": {},
     "output_type": "display_data"
    }
   ],
   "source": [
    "plt.title(\"Tipus d'habitació\")\n",
    "plt.show(df1['idtipohab'].value_counts().sort_index().plot.bar())"
   ]
  },
  {
   "cell_type": "code",
   "execution_count": 37,
   "metadata": {
    "ExecuteTime": {
     "end_time": "2020-01-06T11:36:10.556945Z",
     "start_time": "2020-01-06T11:36:10.407029Z"
    },
    "scrolled": false
   },
   "outputs": [
    {
     "data": {
      "text/html": [
       "<div>\n",
       "<style scoped>\n",
       "    .dataframe tbody tr th:only-of-type {\n",
       "        vertical-align: middle;\n",
       "    }\n",
       "\n",
       "    .dataframe tbody tr th {\n",
       "        vertical-align: top;\n",
       "    }\n",
       "\n",
       "    .dataframe thead th {\n",
       "        text-align: right;\n",
       "    }\n",
       "</style>\n",
       "<table border=\"1\" class=\"dataframe\">\n",
       "  <thead>\n",
       "    <tr style=\"text-align: right;\">\n",
       "      <th></th>\n",
       "      <th>%</th>\n",
       "      <th>Recompte</th>\n",
       "    </tr>\n",
       "  </thead>\n",
       "  <tbody>\n",
       "    <tr>\n",
       "      <th>DBL</th>\n",
       "      <td>59.724963</td>\n",
       "      <td>28447</td>\n",
       "    </tr>\n",
       "    <tr>\n",
       "      <th>FAM</th>\n",
       "      <td>23.142977</td>\n",
       "      <td>11023</td>\n",
       "    </tr>\n",
       "    <tr>\n",
       "      <th>SUI</th>\n",
       "      <td>7.776611</td>\n",
       "      <td>3704</td>\n",
       "    </tr>\n",
       "    <tr>\n",
       "      <th>PREM</th>\n",
       "      <td>5.775772</td>\n",
       "      <td>2751</td>\n",
       "    </tr>\n",
       "    <tr>\n",
       "      <th>IND</th>\n",
       "      <td>3.579677</td>\n",
       "      <td>1705</td>\n",
       "    </tr>\n",
       "  </tbody>\n",
       "</table>\n",
       "</div>"
      ],
      "text/plain": [
       "              %  Recompte\n",
       "DBL   59.724963     28447\n",
       "FAM   23.142977     11023\n",
       "SUI    7.776611      3704\n",
       "PREM   5.775772      2751\n",
       "IND    3.579677      1705"
      ]
     },
     "execution_count": 37,
     "metadata": {},
     "output_type": "execute_result"
    }
   ],
   "source": [
    "hab = pd.concat([df1['idtipohab'].value_counts().sort_index()/len(df1)*100, \n",
    "                df1['idtipohab'].value_counts().sort_index()], axis = 1)\n",
    "hab.columns = ['%', 'Recompte']\n",
    "hab.sort_values(by=['Recompte'], ascending = False)"
   ]
  },
  {
   "cell_type": "markdown",
   "metadata": {},
   "source": [
    "#### Anàlisi bivariat"
   ]
  },
  {
   "cell_type": "code",
   "execution_count": 38,
   "metadata": {
    "ExecuteTime": {
     "end_time": "2019-12-19T10:43:20.637088Z",
     "start_time": "2019-12-19T10:43:19.044103Z"
    },
    "scrolled": true
   },
   "outputs": [
    {
     "data": {
      "text/plain": [
       "Text(0.5, 1.0, \"Boxplots de nombre d'habitacions segons tipus d'habitació\")"
      ]
     },
     "execution_count": 38,
     "metadata": {},
     "output_type": "execute_result"
    },
    {
     "data": {
      "image/png": "[encoded data removed]",
      "text/plain": [
       "<Figure size 432x288 with 1 Axes>"
      ]
     },
     "metadata": {},
     "output_type": "display_data"
    }
   ],
   "source": [
    "plt.title(\"Boxplots de nombre d'habitacions segons tipus d'habitació\")\n",
    "plt.show(sns.boxplot(x=\"idtipohab\", y=\"NHab\", data=df1))"
   ]
  },
  {
   "cell_type": "code",
   "execution_count": 39,
   "metadata": {
    "ExecuteTime": {
     "end_time": "2019-12-19T10:43:24.227168Z",
     "start_time": "2019-12-19T10:43:23.963233Z"
    },
    "scrolled": true
   },
   "outputs": [
    {
     "data": {
      "text/html": [
       "<div>\n",
       "<style scoped>\n",
       "    .dataframe tbody tr th:only-of-type {\n",
       "        vertical-align: middle;\n",
       "    }\n",
       "\n",
       "    .dataframe tbody tr th {\n",
       "        vertical-align: top;\n",
       "    }\n",
       "\n",
       "    .dataframe thead th {\n",
       "        text-align: right;\n",
       "    }\n",
       "</style>\n",
       "<table border=\"1\" class=\"dataframe\">\n",
       "  <thead>\n",
       "    <tr style=\"text-align: right;\">\n",
       "      <th></th>\n",
       "      <th>id</th>\n",
       "      <th>Total habitacions</th>\n",
       "      <th>Percentatge %</th>\n",
       "    </tr>\n",
       "  </thead>\n",
       "  <tbody>\n",
       "    <tr>\n",
       "      <th>0</th>\n",
       "      <td>DBL</td>\n",
       "      <td>371555</td>\n",
       "      <td>79.799</td>\n",
       "    </tr>\n",
       "    <tr>\n",
       "      <th>2</th>\n",
       "      <td>SUI</td>\n",
       "      <td>60564</td>\n",
       "      <td>13.007</td>\n",
       "    </tr>\n",
       "    <tr>\n",
       "      <th>3</th>\n",
       "      <td>FAM</td>\n",
       "      <td>25556</td>\n",
       "      <td>5.489</td>\n",
       "    </tr>\n",
       "    <tr>\n",
       "      <th>1</th>\n",
       "      <td>PREM</td>\n",
       "      <td>5140</td>\n",
       "      <td>1.104</td>\n",
       "    </tr>\n",
       "    <tr>\n",
       "      <th>4</th>\n",
       "      <td>IND</td>\n",
       "      <td>2800</td>\n",
       "      <td>0.601</td>\n",
       "    </tr>\n",
       "  </tbody>\n",
       "</table>\n",
       "</div>"
      ],
      "text/plain": [
       "     id  Total habitacions  Percentatge %\n",
       "0   DBL             371555         79.799\n",
       "2   SUI              60564         13.007\n",
       "3   FAM              25556          5.489\n",
       "1  PREM               5140          1.104\n",
       "4   IND               2800          0.601"
      ]
     },
     "execution_count": 39,
     "metadata": {},
     "output_type": "execute_result"
    }
   ],
   "source": [
    "habitacionsPerCategoria(df1['idtipohab'], df1).sort_values(by=['Percentatge %'], ascending = False)"
   ]
  },
  {
   "cell_type": "markdown",
   "metadata": {},
   "source": [
    "##### Comportament de idtipohab amb idhotel"
   ]
  },
  {
   "cell_type": "markdown",
   "metadata": {},
   "source": [
    "S'analitza el tipus d'habitació que ven cada hotel"
   ]
  },
  {
   "cell_type": "code",
   "execution_count": 40,
   "metadata": {
    "ExecuteTime": {
     "end_time": "2019-12-19T10:43:26.436581Z",
     "start_time": "2019-12-19T10:43:26.318650Z"
    },
    "scrolled": false
   },
   "outputs": [
    {
     "data": {
      "text/html": [
       "<div>\n",
       "<style scoped>\n",
       "    .dataframe tbody tr th:only-of-type {\n",
       "        vertical-align: middle;\n",
       "    }\n",
       "\n",
       "    .dataframe tbody tr th {\n",
       "        vertical-align: top;\n",
       "    }\n",
       "\n",
       "    .dataframe thead th {\n",
       "        text-align: right;\n",
       "    }\n",
       "</style>\n",
       "<table border=\"1\" class=\"dataframe\">\n",
       "  <thead>\n",
       "    <tr style=\"text-align: right;\">\n",
       "      <th>idtipohab</th>\n",
       "      <th>DBL</th>\n",
       "      <th>FAM</th>\n",
       "      <th>IND</th>\n",
       "      <th>PREM</th>\n",
       "      <th>SUI</th>\n",
       "      <th>Total</th>\n",
       "    </tr>\n",
       "    <tr>\n",
       "      <th>idhotel</th>\n",
       "      <th></th>\n",
       "      <th></th>\n",
       "      <th></th>\n",
       "      <th></th>\n",
       "      <th></th>\n",
       "      <th></th>\n",
       "    </tr>\n",
       "  </thead>\n",
       "  <tbody>\n",
       "    <tr>\n",
       "      <th>AVS</th>\n",
       "      <td>0</td>\n",
       "      <td>0</td>\n",
       "      <td>0</td>\n",
       "      <td>0</td>\n",
       "      <td>1467</td>\n",
       "      <td>1467</td>\n",
       "    </tr>\n",
       "    <tr>\n",
       "      <th>DON</th>\n",
       "      <td>5413</td>\n",
       "      <td>3148</td>\n",
       "      <td>37</td>\n",
       "      <td>147</td>\n",
       "      <td>0</td>\n",
       "      <td>8745</td>\n",
       "    </tr>\n",
       "    <tr>\n",
       "      <th>MME</th>\n",
       "      <td>1735</td>\n",
       "      <td>157</td>\n",
       "      <td>0</td>\n",
       "      <td>0</td>\n",
       "      <td>0</td>\n",
       "      <td>1892</td>\n",
       "    </tr>\n",
       "    <tr>\n",
       "      <th>PAV</th>\n",
       "      <td>6770</td>\n",
       "      <td>3069</td>\n",
       "      <td>372</td>\n",
       "      <td>991</td>\n",
       "      <td>16</td>\n",
       "      <td>11218</td>\n",
       "    </tr>\n",
       "    <tr>\n",
       "      <th>SAL</th>\n",
       "      <td>505</td>\n",
       "      <td>0</td>\n",
       "      <td>0</td>\n",
       "      <td>0</td>\n",
       "      <td>0</td>\n",
       "      <td>505</td>\n",
       "    </tr>\n",
       "    <tr>\n",
       "      <th>TAU</th>\n",
       "      <td>7172</td>\n",
       "      <td>3494</td>\n",
       "      <td>816</td>\n",
       "      <td>0</td>\n",
       "      <td>866</td>\n",
       "      <td>12348</td>\n",
       "    </tr>\n",
       "    <tr>\n",
       "      <th>TOS</th>\n",
       "      <td>6852</td>\n",
       "      <td>1155</td>\n",
       "      <td>480</td>\n",
       "      <td>1613</td>\n",
       "      <td>1355</td>\n",
       "      <td>11455</td>\n",
       "    </tr>\n",
       "    <tr>\n",
       "      <th>Total</th>\n",
       "      <td>28447</td>\n",
       "      <td>11023</td>\n",
       "      <td>1705</td>\n",
       "      <td>2751</td>\n",
       "      <td>3704</td>\n",
       "      <td>47630</td>\n",
       "    </tr>\n",
       "  </tbody>\n",
       "</table>\n",
       "</div>"
      ],
      "text/plain": [
       "idtipohab    DBL    FAM   IND  PREM   SUI  Total\n",
       "idhotel                                         \n",
       "AVS            0      0     0     0  1467   1467\n",
       "DON         5413   3148    37   147     0   8745\n",
       "MME         1735    157     0     0     0   1892\n",
       "PAV         6770   3069   372   991    16  11218\n",
       "SAL          505      0     0     0     0    505\n",
       "TAU         7172   3494   816     0   866  12348\n",
       "TOS         6852   1155   480  1613  1355  11455\n",
       "Total      28447  11023  1705  2751  3704  47630"
      ]
     },
     "execution_count": 40,
     "metadata": {},
     "output_type": "execute_result"
    }
   ],
   "source": [
    "hotelHab = pd.crosstab(df1.idhotel, df1.idtipohab, margins = True, margins_name = 'Total')\n",
    "hotelHab"
   ]
  },
  {
   "cell_type": "code",
   "execution_count": 81,
   "metadata": {
    "ExecuteTime": {
     "end_time": "2019-12-19T10:43:27.528879Z",
     "start_time": "2019-12-19T10:43:27.516882Z"
    }
   },
   "outputs": [
    {
     "name": "stdout",
     "output_type": "stream",
     "text": [
      "L'hotel ['SAL'] i el ['MME'] gairebé només venen habitacions dobles, mentre que el ['AVS'] només ven Suites\n"
     ]
    }
   ],
   "source": [
    "print(\"L'hotel\", hotelHab[4:5].index.tolist(), \"i el\", hotelHab[2:3].index.tolist(), \"gairebé només venen habitacions dobles, mentre que el\", hotelHab[0:1].index.tolist(), \"només ven Suites\")"
   ]
  },
  {
   "cell_type": "markdown",
   "metadata": {},
   "source": [
    "### Règim"
   ]
  },
  {
   "cell_type": "markdown",
   "metadata": {},
   "source": [
    "#### Anàlisi univariat"
   ]
  },
  {
   "cell_type": "code",
   "execution_count": 42,
   "metadata": {
    "ExecuteTime": {
     "end_time": "2019-12-19T10:43:28.966563Z",
     "start_time": "2019-12-19T10:43:28.937580Z"
    }
   },
   "outputs": [
    {
     "data": {
      "text/plain": [
       "count     47630\n",
       "unique        5\n",
       "top          MP\n",
       "freq      17334\n",
       "Name: idregimen, dtype: object"
      ]
     },
     "execution_count": 42,
     "metadata": {},
     "output_type": "execute_result"
    }
   ],
   "source": [
    "df1.idregimen.describe()"
   ]
  },
  {
   "cell_type": "code",
   "execution_count": 43,
   "metadata": {
    "ExecuteTime": {
     "end_time": "2019-12-24T12:07:06.729746Z",
     "start_time": "2019-12-24T12:07:05.710879Z"
    },
    "scrolled": true
   },
   "outputs": [
    {
     "data": {
      "text/plain": [
       "Text(0.5, 1.0, 'Règim')"
      ]
     },
     "execution_count": 43,
     "metadata": {},
     "output_type": "execute_result"
    },
    {
     "data": {
      "image/png": "[encoded data removed]",
      "text/plain": [
       "<Figure size 432x288 with 1 Axes>"
      ]
     },
     "metadata": {},
     "output_type": "display_data"
    }
   ],
   "source": [
    "plt.title('Règim')\n",
    "plt.show(df1['idregimen'].value_counts().sort_index().plot.bar())"
   ]
  },
  {
   "cell_type": "code",
   "execution_count": 44,
   "metadata": {
    "ExecuteTime": {
     "end_time": "2019-12-24T12:07:00.558940Z",
     "start_time": "2019-12-24T12:07:00.406980Z"
    },
    "scrolled": true
   },
   "outputs": [
    {
     "data": {
      "text/html": [
       "<div>\n",
       "<style scoped>\n",
       "    .dataframe tbody tr th:only-of-type {\n",
       "        vertical-align: middle;\n",
       "    }\n",
       "\n",
       "    .dataframe tbody tr th {\n",
       "        vertical-align: top;\n",
       "    }\n",
       "\n",
       "    .dataframe thead th {\n",
       "        text-align: right;\n",
       "    }\n",
       "</style>\n",
       "<table border=\"1\" class=\"dataframe\">\n",
       "  <thead>\n",
       "    <tr style=\"text-align: right;\">\n",
       "      <th></th>\n",
       "      <th>%</th>\n",
       "      <th>Recompte</th>\n",
       "    </tr>\n",
       "  </thead>\n",
       "  <tbody>\n",
       "    <tr>\n",
       "      <th>MP</th>\n",
       "      <td>36.393030</td>\n",
       "      <td>17334</td>\n",
       "    </tr>\n",
       "    <tr>\n",
       "      <th>TI</th>\n",
       "      <td>28.662608</td>\n",
       "      <td>13652</td>\n",
       "    </tr>\n",
       "    <tr>\n",
       "      <th>PC</th>\n",
       "      <td>23.772832</td>\n",
       "      <td>11323</td>\n",
       "    </tr>\n",
       "    <tr>\n",
       "      <th>AD</th>\n",
       "      <td>11.150535</td>\n",
       "      <td>5311</td>\n",
       "    </tr>\n",
       "    <tr>\n",
       "      <th>SHAB</th>\n",
       "      <td>0.020995</td>\n",
       "      <td>10</td>\n",
       "    </tr>\n",
       "  </tbody>\n",
       "</table>\n",
       "</div>"
      ],
      "text/plain": [
       "              %  Recompte\n",
       "MP    36.393030     17334\n",
       "TI    28.662608     13652\n",
       "PC    23.772832     11323\n",
       "AD    11.150535      5311\n",
       "SHAB   0.020995        10"
      ]
     },
     "execution_count": 44,
     "metadata": {},
     "output_type": "execute_result"
    }
   ],
   "source": [
    "r = pd.concat([df1['idregimen'].value_counts().sort_index()/len(df1)*100, \n",
    "                df1['idregimen'].value_counts().sort_index()], axis = 1)\n",
    "r.columns = ['%', 'Recompte']\n",
    "r.sort_values(by=['Recompte'], ascending = False)"
   ]
  },
  {
   "cell_type": "markdown",
   "metadata": {},
   "source": [
    "El règim més observat és el de mitja pensió, mentre que només s'hi veuen 10 casos on es demani només habitació."
   ]
  },
  {
   "cell_type": "markdown",
   "metadata": {},
   "source": [
    "#### Anàlisi bivariat "
   ]
  },
  {
   "cell_type": "code",
   "execution_count": 45,
   "metadata": {
    "ExecuteTime": {
     "end_time": "2019-12-19T10:43:37.982348Z",
     "start_time": "2019-12-19T10:43:36.282015Z"
    }
   },
   "outputs": [
    {
     "data": {
      "text/plain": [
       "Text(0.5, 1.0, \"Boxplots de nombre d'habitacions segons tipus de règim\")"
      ]
     },
     "execution_count": 45,
     "metadata": {},
     "output_type": "execute_result"
    },
    {
     "data": {
      "image/png": "[encoded data removed]",
      "text/plain": [
       "<Figure size 432x288 with 1 Axes>"
      ]
     },
     "metadata": {},
     "output_type": "display_data"
    }
   ],
   "source": [
    "plt.title(\"Boxplots de nombre d'habitacions segons tipus de règim\")\n",
    "plt.show(sns.boxplot(x=\"idregimen\", y=\"NHab\", data=df1))"
   ]
  },
  {
   "cell_type": "code",
   "execution_count": 46,
   "metadata": {
    "ExecuteTime": {
     "end_time": "2019-12-19T10:43:38.654542Z",
     "start_time": "2019-12-19T10:43:38.423097Z"
    },
    "scrolled": true
   },
   "outputs": [
    {
     "data": {
      "text/html": [
       "<div>\n",
       "<style scoped>\n",
       "    .dataframe tbody tr th:only-of-type {\n",
       "        vertical-align: middle;\n",
       "    }\n",
       "\n",
       "    .dataframe tbody tr th {\n",
       "        vertical-align: top;\n",
       "    }\n",
       "\n",
       "    .dataframe thead th {\n",
       "        text-align: right;\n",
       "    }\n",
       "</style>\n",
       "<table border=\"1\" class=\"dataframe\">\n",
       "  <thead>\n",
       "    <tr style=\"text-align: right;\">\n",
       "      <th></th>\n",
       "      <th>id</th>\n",
       "      <th>Total habitacions</th>\n",
       "      <th>Percentatge %</th>\n",
       "    </tr>\n",
       "  </thead>\n",
       "  <tbody>\n",
       "    <tr>\n",
       "      <th>0</th>\n",
       "      <td>MP</td>\n",
       "      <td>211617</td>\n",
       "      <td>45.449</td>\n",
       "    </tr>\n",
       "    <tr>\n",
       "      <th>3</th>\n",
       "      <td>TI</td>\n",
       "      <td>145416</td>\n",
       "      <td>31.231</td>\n",
       "    </tr>\n",
       "    <tr>\n",
       "      <th>1</th>\n",
       "      <td>PC</td>\n",
       "      <td>82545</td>\n",
       "      <td>17.728</td>\n",
       "    </tr>\n",
       "    <tr>\n",
       "      <th>2</th>\n",
       "      <td>AD</td>\n",
       "      <td>26027</td>\n",
       "      <td>5.590</td>\n",
       "    </tr>\n",
       "    <tr>\n",
       "      <th>4</th>\n",
       "      <td>SHAB</td>\n",
       "      <td>10</td>\n",
       "      <td>0.002</td>\n",
       "    </tr>\n",
       "  </tbody>\n",
       "</table>\n",
       "</div>"
      ],
      "text/plain": [
       "     id  Total habitacions  Percentatge %\n",
       "0    MP             211617         45.449\n",
       "3    TI             145416         31.231\n",
       "1    PC              82545         17.728\n",
       "2    AD              26027          5.590\n",
       "4  SHAB                 10          0.002"
      ]
     },
     "execution_count": 46,
     "metadata": {},
     "output_type": "execute_result"
    }
   ],
   "source": [
    "habitacionsPerCategoria(df1['idregimen'], df1).sort_values(by=['Percentatge %'], ascending = False)"
   ]
  },
  {
   "cell_type": "markdown",
   "metadata": {},
   "source": [
    "### Segment"
   ]
  },
  {
   "cell_type": "markdown",
   "metadata": {},
   "source": [
    "#### Anàlisi univariat"
   ]
  },
  {
   "cell_type": "code",
   "execution_count": 47,
   "metadata": {
    "ExecuteTime": {
     "end_time": "2019-12-19T10:43:38.852148Z",
     "start_time": "2019-12-19T10:43:38.832156Z"
    }
   },
   "outputs": [
    {
     "data": {
      "text/plain": [
       "count           47630\n",
       "unique              2\n",
       "top       DESCONOCIDO\n",
       "freq            37969\n",
       "Name: idsegmento, dtype: object"
      ]
     },
     "execution_count": 47,
     "metadata": {},
     "output_type": "execute_result"
    }
   ],
   "source": [
    "df1.idsegmento.describe()"
   ]
  },
  {
   "cell_type": "code",
   "execution_count": 48,
   "metadata": {
    "ExecuteTime": {
     "end_time": "2019-12-24T12:07:14.000390Z",
     "start_time": "2019-12-24T12:07:12.983545Z"
    },
    "scrolled": false
   },
   "outputs": [
    {
     "data": {
      "text/plain": [
       "Text(0.5, 1.0, 'Segment')"
      ]
     },
     "execution_count": 48,
     "metadata": {},
     "output_type": "execute_result"
    },
    {
     "data": {
      "image/png": "[encoded data removed]",
      "text/plain": [
       "<Figure size 432x288 with 1 Axes>"
      ]
     },
     "metadata": {},
     "output_type": "display_data"
    }
   ],
   "source": [
    "plt.title(\"Segment\")\n",
    "plt.show(df1['idsegmento'].value_counts().sort_index().plot.bar())"
   ]
  },
  {
   "cell_type": "code",
   "execution_count": 49,
   "metadata": {
    "ExecuteTime": {
     "end_time": "2019-12-24T12:07:39.567835Z",
     "start_time": "2019-12-24T12:07:39.438489Z"
    },
    "scrolled": false
   },
   "outputs": [
    {
     "data": {
      "text/html": [
       "<div>\n",
       "<style scoped>\n",
       "    .dataframe tbody tr th:only-of-type {\n",
       "        vertical-align: middle;\n",
       "    }\n",
       "\n",
       "    .dataframe tbody tr th {\n",
       "        vertical-align: top;\n",
       "    }\n",
       "\n",
       "    .dataframe thead th {\n",
       "        text-align: right;\n",
       "    }\n",
       "</style>\n",
       "<table border=\"1\" class=\"dataframe\">\n",
       "  <thead>\n",
       "    <tr style=\"text-align: right;\">\n",
       "      <th></th>\n",
       "      <th>%</th>\n",
       "      <th>Recompte</th>\n",
       "    </tr>\n",
       "  </thead>\n",
       "  <tbody>\n",
       "    <tr>\n",
       "      <th>DESCONOCIDO</th>\n",
       "      <td>79.716565</td>\n",
       "      <td>37969</td>\n",
       "    </tr>\n",
       "    <tr>\n",
       "      <th>VACAC</th>\n",
       "      <td>20.283435</td>\n",
       "      <td>9661</td>\n",
       "    </tr>\n",
       "  </tbody>\n",
       "</table>\n",
       "</div>"
      ],
      "text/plain": [
       "                     %  Recompte\n",
       "DESCONOCIDO  79.716565     37969\n",
       "VACAC        20.283435      9661"
      ]
     },
     "execution_count": 49,
     "metadata": {},
     "output_type": "execute_result"
    }
   ],
   "source": [
    "s = pd.concat([df1['idsegmento'].value_counts().sort_index()/len(df1)*100, \n",
    "                df1['idsegmento'].value_counts().sort_index()], axis = 1)\n",
    "s.columns = ['%', 'Recompte']\n",
    "s.sort_values(by=['Recompte'], ascending = False)"
   ]
  },
  {
   "cell_type": "markdown",
   "metadata": {},
   "source": [
    "La gran majoria d’observacions tenen un segment desconegut, i només un 20% són provinent d’un segment vacacional. Sembla estrany que hi hagin tant poques observacions provinents d’assumptes vacacionals quan, precisament, aquests tipus d’hotels estan especialment fets per a estades vacacionals. Això podria ser degut a una mala recollida de dades i ja es veurà quina decisió es pren amb aquesta variable a l’hora de definir les variables predictores finals per al model."
   ]
  },
  {
   "cell_type": "markdown",
   "metadata": {},
   "source": [
    "#### Anàlisi bivariat"
   ]
  },
  {
   "cell_type": "code",
   "execution_count": 50,
   "metadata": {
    "ExecuteTime": {
     "end_time": "2019-12-19T10:43:58.982327Z",
     "start_time": "2019-12-19T10:43:58.820422Z"
    }
   },
   "outputs": [
    {
     "data": {
      "text/html": [
       "<div>\n",
       "<style scoped>\n",
       "    .dataframe tbody tr th:only-of-type {\n",
       "        vertical-align: middle;\n",
       "    }\n",
       "\n",
       "    .dataframe tbody tr th {\n",
       "        vertical-align: top;\n",
       "    }\n",
       "\n",
       "    .dataframe thead th {\n",
       "        text-align: right;\n",
       "    }\n",
       "</style>\n",
       "<table border=\"1\" class=\"dataframe\">\n",
       "  <thead>\n",
       "    <tr style=\"text-align: right;\">\n",
       "      <th></th>\n",
       "      <th>id</th>\n",
       "      <th>Total habitacions</th>\n",
       "      <th>Percentatge %</th>\n",
       "    </tr>\n",
       "  </thead>\n",
       "  <tbody>\n",
       "    <tr>\n",
       "      <th>0</th>\n",
       "      <td>DESCONOCIDO</td>\n",
       "      <td>307975</td>\n",
       "      <td>66.144</td>\n",
       "    </tr>\n",
       "    <tr>\n",
       "      <th>1</th>\n",
       "      <td>VACAC</td>\n",
       "      <td>157640</td>\n",
       "      <td>33.856</td>\n",
       "    </tr>\n",
       "  </tbody>\n",
       "</table>\n",
       "</div>"
      ],
      "text/plain": [
       "            id  Total habitacions  Percentatge %\n",
       "0  DESCONOCIDO             307975         66.144\n",
       "1        VACAC             157640         33.856"
      ]
     },
     "execution_count": 50,
     "metadata": {},
     "output_type": "execute_result"
    }
   ],
   "source": [
    "habitacionsPerCategoria(df1['idsegmento'], df1).sort_values(by=['Percentatge %'], ascending = False)"
   ]
  },
  {
   "cell_type": "code",
   "execution_count": 51,
   "metadata": {
    "ExecuteTime": {
     "end_time": "2019-12-19T10:44:01.275015Z",
     "start_time": "2019-12-19T10:43:59.947773Z"
    },
    "scrolled": true
   },
   "outputs": [
    {
     "data": {
      "text/plain": [
       "Text(0.5, 1.0, \"Boxplots de nombre d'habitacions segons segment\")"
      ]
     },
     "execution_count": 51,
     "metadata": {},
     "output_type": "execute_result"
    },
    {
     "data": {
      "image/png": "[encoded data removed]",
      "text/plain": [
       "<Figure size 432x288 with 1 Axes>"
      ]
     },
     "metadata": {},
     "output_type": "display_data"
    }
   ],
   "source": [
    "plt.title(\"Boxplots de nombre d'habitacions segons segment\")\n",
    "plt.show(sns.boxplot(x=\"idsegmento\", y=\"NHab\", data=df1))"
   ]
  },
  {
   "cell_type": "markdown",
   "metadata": {},
   "source": [
    "### Canal"
   ]
  },
  {
   "cell_type": "markdown",
   "metadata": {},
   "source": [
    "#### Anàlisi univariat"
   ]
  },
  {
   "cell_type": "code",
   "execution_count": 52,
   "metadata": {
    "ExecuteTime": {
     "end_time": "2019-12-19T10:44:07.338176Z",
     "start_time": "2019-12-19T10:44:07.318181Z"
    }
   },
   "outputs": [
    {
     "data": {
      "text/plain": [
       "count           47630\n",
       "unique              5\n",
       "top       DESCONOCIDO\n",
       "freq            42848\n",
       "Name: id_canal, dtype: object"
      ]
     },
     "execution_count": 52,
     "metadata": {},
     "output_type": "execute_result"
    }
   ],
   "source": [
    "df1.id_canal.describe()"
   ]
  },
  {
   "cell_type": "code",
   "execution_count": 53,
   "metadata": {
    "ExecuteTime": {
     "end_time": "2019-12-24T12:19:02.673919Z",
     "start_time": "2019-12-24T12:19:01.579834Z"
    },
    "scrolled": false
   },
   "outputs": [
    {
     "data": {
      "text/plain": [
       "Text(0.5, 1.0, 'Canal')"
      ]
     },
     "execution_count": 53,
     "metadata": {},
     "output_type": "execute_result"
    },
    {
     "data": {
      "image/png": "[encoded data removed]",
      "text/plain": [
       "<Figure size 432x288 with 1 Axes>"
      ]
     },
     "metadata": {},
     "output_type": "display_data"
    }
   ],
   "source": [
    "plt.title(\"Canal\")\n",
    "plt.show(df1['id_canal'].value_counts().sort_index().plot.bar())"
   ]
  },
  {
   "cell_type": "code",
   "execution_count": 54,
   "metadata": {
    "ExecuteTime": {
     "end_time": "2019-12-24T12:19:20.367239Z",
     "start_time": "2019-12-24T12:19:20.207279Z"
    },
    "scrolled": true
   },
   "outputs": [
    {
     "data": {
      "text/html": [
       "<div>\n",
       "<style scoped>\n",
       "    .dataframe tbody tr th:only-of-type {\n",
       "        vertical-align: middle;\n",
       "    }\n",
       "\n",
       "    .dataframe tbody tr th {\n",
       "        vertical-align: top;\n",
       "    }\n",
       "\n",
       "    .dataframe thead th {\n",
       "        text-align: right;\n",
       "    }\n",
       "</style>\n",
       "<table border=\"1\" class=\"dataframe\">\n",
       "  <thead>\n",
       "    <tr style=\"text-align: right;\">\n",
       "      <th></th>\n",
       "      <th>%</th>\n",
       "      <th>Recompte</th>\n",
       "    </tr>\n",
       "  </thead>\n",
       "  <tbody>\n",
       "    <tr>\n",
       "      <th>DESCONOCIDO</th>\n",
       "      <td>89.960109</td>\n",
       "      <td>42848</td>\n",
       "    </tr>\n",
       "    <tr>\n",
       "      <th>TTOO</th>\n",
       "      <td>5.313878</td>\n",
       "      <td>2531</td>\n",
       "    </tr>\n",
       "    <tr>\n",
       "      <th>ONLINE</th>\n",
       "      <td>2.395549</td>\n",
       "      <td>1141</td>\n",
       "    </tr>\n",
       "    <tr>\n",
       "      <th>DIRECTO</th>\n",
       "      <td>2.259080</td>\n",
       "      <td>1076</td>\n",
       "    </tr>\n",
       "    <tr>\n",
       "      <th>GRUPOS</th>\n",
       "      <td>0.071384</td>\n",
       "      <td>34</td>\n",
       "    </tr>\n",
       "  </tbody>\n",
       "</table>\n",
       "</div>"
      ],
      "text/plain": [
       "                     %  Recompte\n",
       "DESCONOCIDO  89.960109     42848\n",
       "TTOO          5.313878      2531\n",
       "ONLINE        2.395549      1141\n",
       "DIRECTO       2.259080      1076\n",
       "GRUPOS        0.071384        34"
      ]
     },
     "execution_count": 54,
     "metadata": {},
     "output_type": "execute_result"
    }
   ],
   "source": [
    "c = pd.concat([df1['id_canal'].value_counts().sort_index()/len(df1)*100, \n",
    "               df1['id_canal'].value_counts().sort_index()], axis = 1)\n",
    "c.columns = ['%', 'Recompte']\n",
    "c.sort_values(by=['Recompte'], ascending = False)"
   ]
  },
  {
   "cell_type": "markdown",
   "metadata": {},
   "source": [
    "El cas d’aquesta variable és semblant al de la variable idsegmento, sembla que les dades no s’han recollit correctament, ja que gairebé un 90% de les observacions és de caràcter desconegut. "
   ]
  },
  {
   "cell_type": "markdown",
   "metadata": {},
   "source": [
    "\n",
    "#### Anàlisi bivariat"
   ]
  },
  {
   "cell_type": "code",
   "execution_count": 55,
   "metadata": {
    "ExecuteTime": {
     "end_time": "2019-12-19T10:44:21.862644Z",
     "start_time": "2019-12-19T10:44:21.654697Z"
    }
   },
   "outputs": [
    {
     "data": {
      "text/html": [
       "<div>\n",
       "<style scoped>\n",
       "    .dataframe tbody tr th:only-of-type {\n",
       "        vertical-align: middle;\n",
       "    }\n",
       "\n",
       "    .dataframe tbody tr th {\n",
       "        vertical-align: top;\n",
       "    }\n",
       "\n",
       "    .dataframe thead th {\n",
       "        text-align: right;\n",
       "    }\n",
       "</style>\n",
       "<table border=\"1\" class=\"dataframe\">\n",
       "  <thead>\n",
       "    <tr style=\"text-align: right;\">\n",
       "      <th></th>\n",
       "      <th>id</th>\n",
       "      <th>Total habitacions</th>\n",
       "      <th>Percentatge %</th>\n",
       "    </tr>\n",
       "  </thead>\n",
       "  <tbody>\n",
       "    <tr>\n",
       "      <th>0</th>\n",
       "      <td>DESCONOCIDO</td>\n",
       "      <td>430382</td>\n",
       "      <td>92.433</td>\n",
       "    </tr>\n",
       "    <tr>\n",
       "      <th>3</th>\n",
       "      <td>TTOO</td>\n",
       "      <td>28978</td>\n",
       "      <td>6.224</td>\n",
       "    </tr>\n",
       "    <tr>\n",
       "      <th>2</th>\n",
       "      <td>ONLINE</td>\n",
       "      <td>3011</td>\n",
       "      <td>0.647</td>\n",
       "    </tr>\n",
       "    <tr>\n",
       "      <th>1</th>\n",
       "      <td>DIRECTO</td>\n",
       "      <td>2298</td>\n",
       "      <td>0.494</td>\n",
       "    </tr>\n",
       "    <tr>\n",
       "      <th>4</th>\n",
       "      <td>GRUPOS</td>\n",
       "      <td>946</td>\n",
       "      <td>0.203</td>\n",
       "    </tr>\n",
       "  </tbody>\n",
       "</table>\n",
       "</div>"
      ],
      "text/plain": [
       "            id  Total habitacions  Percentatge %\n",
       "0  DESCONOCIDO             430382         92.433\n",
       "3         TTOO              28978          6.224\n",
       "2       ONLINE               3011          0.647\n",
       "1      DIRECTO               2298          0.494\n",
       "4       GRUPOS                946          0.203"
      ]
     },
     "execution_count": 55,
     "metadata": {},
     "output_type": "execute_result"
    }
   ],
   "source": [
    "habitacionsPerCategoria(df1['id_canal'], df1).sort_values(by=['Percentatge %'], ascending = False)"
   ]
  },
  {
   "cell_type": "code",
   "execution_count": 56,
   "metadata": {
    "ExecuteTime": {
     "end_time": "2019-12-19T10:44:31.532617Z",
     "start_time": "2019-12-19T10:44:29.706530Z"
    },
    "scrolled": false
   },
   "outputs": [
    {
     "data": {
      "text/plain": [
       "Text(0.5, 1.0, \"Boxplots de nombre d'habitacions segons canal\")"
      ]
     },
     "execution_count": 56,
     "metadata": {},
     "output_type": "execute_result"
    },
    {
     "data": {
      "image/png": "[encoded data removed]",
      "text/plain": [
       "<Figure size 432x288 with 1 Axes>"
      ]
     },
     "metadata": {},
     "output_type": "display_data"
    }
   ],
   "source": [
    "plt.title(\"Boxplots de nombre d'habitacions segons canal\")\n",
    "plt.show(sns.boxplot(x=\"id_canal\", y=\"NHab\", data=df1))"
   ]
  },
  {
   "cell_type": "markdown",
   "metadata": {},
   "source": [
    "El comportament d’aquesta variable respecte a la objectiu és semblant per a tots els nivells excepte per als GRUPOS, on més del 75% de les dades d’aquest nivell corresponen a valors força alts de NHab."
   ]
  },
  {
   "cell_type": "markdown",
   "metadata": {},
   "source": [
    "### País client"
   ]
  },
  {
   "cell_type": "markdown",
   "metadata": {},
   "source": [
    "#### Anàlisi univariat"
   ]
  },
  {
   "cell_type": "code",
   "execution_count": 57,
   "metadata": {
    "ExecuteTime": {
     "end_time": "2019-12-19T10:44:44.198245Z",
     "start_time": "2019-12-19T10:44:44.178252Z"
    }
   },
   "outputs": [
    {
     "data": {
      "text/plain": [
       "count     47630\n",
       "unique        8\n",
       "top          ES\n",
       "freq      24888\n",
       "Name: idpais_cliente, dtype: object"
      ]
     },
     "execution_count": 57,
     "metadata": {},
     "output_type": "execute_result"
    }
   ],
   "source": [
    "df1.idpais_cliente.describe()"
   ]
  },
  {
   "cell_type": "code",
   "execution_count": 58,
   "metadata": {
    "ExecuteTime": {
     "end_time": "2019-12-24T12:20:36.723202Z",
     "start_time": "2019-12-24T12:20:35.620295Z"
    },
    "scrolled": true
   },
   "outputs": [
    {
     "data": {
      "text/plain": [
       "Text(0.5, 1.0, \"País de l'agència client\")"
      ]
     },
     "execution_count": 58,
     "metadata": {},
     "output_type": "execute_result"
    },
    {
     "data": {
      "image/png": "[encoded data removed]",
      "text/plain": [
       "<Figure size 432x288 with 1 Axes>"
      ]
     },
     "metadata": {},
     "output_type": "display_data"
    }
   ],
   "source": [
    "plt.title(\"País de l'agència client\")\n",
    "plt.show(df1['idpais_cliente'].value_counts().sort_index().plot.bar())"
   ]
  },
  {
   "cell_type": "code",
   "execution_count": 59,
   "metadata": {
    "ExecuteTime": {
     "end_time": "2019-12-24T12:20:57.256367Z",
     "start_time": "2019-12-24T12:20:57.086078Z"
    },
    "scrolled": true
   },
   "outputs": [
    {
     "data": {
      "text/html": [
       "<div>\n",
       "<style scoped>\n",
       "    .dataframe tbody tr th:only-of-type {\n",
       "        vertical-align: middle;\n",
       "    }\n",
       "\n",
       "    .dataframe tbody tr th {\n",
       "        vertical-align: top;\n",
       "    }\n",
       "\n",
       "    .dataframe thead th {\n",
       "        text-align: right;\n",
       "    }\n",
       "</style>\n",
       "<table border=\"1\" class=\"dataframe\">\n",
       "  <thead>\n",
       "    <tr style=\"text-align: right;\">\n",
       "      <th></th>\n",
       "      <th>%</th>\n",
       "      <th>Recompte</th>\n",
       "    </tr>\n",
       "  </thead>\n",
       "  <tbody>\n",
       "    <tr>\n",
       "      <th>ES</th>\n",
       "      <td>52.252782</td>\n",
       "      <td>24888</td>\n",
       "    </tr>\n",
       "    <tr>\n",
       "      <th>GB</th>\n",
       "      <td>24.778501</td>\n",
       "      <td>11802</td>\n",
       "    </tr>\n",
       "    <tr>\n",
       "      <th>CE</th>\n",
       "      <td>13.655259</td>\n",
       "      <td>6504</td>\n",
       "    </tr>\n",
       "    <tr>\n",
       "      <th>EAU</th>\n",
       "      <td>8.337182</td>\n",
       "      <td>3971</td>\n",
       "    </tr>\n",
       "    <tr>\n",
       "      <th>OE</th>\n",
       "      <td>0.772622</td>\n",
       "      <td>368</td>\n",
       "    </tr>\n",
       "    <tr>\n",
       "      <th>EE</th>\n",
       "      <td>0.134369</td>\n",
       "      <td>64</td>\n",
       "    </tr>\n",
       "    <tr>\n",
       "      <th>ESC</th>\n",
       "      <td>0.048289</td>\n",
       "      <td>23</td>\n",
       "    </tr>\n",
       "    <tr>\n",
       "      <th>IS</th>\n",
       "      <td>0.020995</td>\n",
       "      <td>10</td>\n",
       "    </tr>\n",
       "  </tbody>\n",
       "</table>\n",
       "</div>"
      ],
      "text/plain": [
       "             %  Recompte\n",
       "ES   52.252782     24888\n",
       "GB   24.778501     11802\n",
       "CE   13.655259      6504\n",
       "EAU   8.337182      3971\n",
       "OE    0.772622       368\n",
       "EE    0.134369        64\n",
       "ESC   0.048289        23\n",
       "IS    0.020995        10"
      ]
     },
     "execution_count": 59,
     "metadata": {},
     "output_type": "execute_result"
    }
   ],
   "source": [
    "pc = pd.concat([df1['idpais_cliente'].value_counts().sort_index()/len(df1)*100, \n",
    "           df1['idpais_cliente'].value_counts().sort_index()], axis = 1)\n",
    "pc.columns = ['%', 'Recompte']\n",
    "pc.sort_values(by = 'Recompte', ascending = False)"
   ]
  },
  {
   "cell_type": "markdown",
   "metadata": {},
   "source": [
    "#### Anàlisi bivariat"
   ]
  },
  {
   "cell_type": "code",
   "execution_count": 60,
   "metadata": {
    "ExecuteTime": {
     "end_time": "2019-12-19T10:44:49.082267Z",
     "start_time": "2019-12-19T10:44:48.790341Z"
    },
    "scrolled": false
   },
   "outputs": [
    {
     "data": {
      "text/html": [
       "<div>\n",
       "<style scoped>\n",
       "    .dataframe tbody tr th:only-of-type {\n",
       "        vertical-align: middle;\n",
       "    }\n",
       "\n",
       "    .dataframe tbody tr th {\n",
       "        vertical-align: top;\n",
       "    }\n",
       "\n",
       "    .dataframe thead th {\n",
       "        text-align: right;\n",
       "    }\n",
       "</style>\n",
       "<table border=\"1\" class=\"dataframe\">\n",
       "  <thead>\n",
       "    <tr style=\"text-align: right;\">\n",
       "      <th></th>\n",
       "      <th>id</th>\n",
       "      <th>Total habitacions</th>\n",
       "      <th>Percentatge %</th>\n",
       "    </tr>\n",
       "  </thead>\n",
       "  <tbody>\n",
       "    <tr>\n",
       "      <th>0</th>\n",
       "      <td>ES</td>\n",
       "      <td>206434</td>\n",
       "      <td>44.336</td>\n",
       "    </tr>\n",
       "    <tr>\n",
       "      <th>3</th>\n",
       "      <td>GB</td>\n",
       "      <td>196131</td>\n",
       "      <td>42.123</td>\n",
       "    </tr>\n",
       "    <tr>\n",
       "      <th>1</th>\n",
       "      <td>CE</td>\n",
       "      <td>44698</td>\n",
       "      <td>9.600</td>\n",
       "    </tr>\n",
       "    <tr>\n",
       "      <th>2</th>\n",
       "      <td>EAU</td>\n",
       "      <td>13572</td>\n",
       "      <td>2.915</td>\n",
       "    </tr>\n",
       "    <tr>\n",
       "      <th>4</th>\n",
       "      <td>OE</td>\n",
       "      <td>3826</td>\n",
       "      <td>0.822</td>\n",
       "    </tr>\n",
       "    <tr>\n",
       "      <th>5</th>\n",
       "      <td>ESC</td>\n",
       "      <td>498</td>\n",
       "      <td>0.107</td>\n",
       "    </tr>\n",
       "    <tr>\n",
       "      <th>7</th>\n",
       "      <td>IS</td>\n",
       "      <td>260</td>\n",
       "      <td>0.056</td>\n",
       "    </tr>\n",
       "    <tr>\n",
       "      <th>6</th>\n",
       "      <td>EE</td>\n",
       "      <td>196</td>\n",
       "      <td>0.042</td>\n",
       "    </tr>\n",
       "  </tbody>\n",
       "</table>\n",
       "</div>"
      ],
      "text/plain": [
       "    id  Total habitacions  Percentatge %\n",
       "0   ES             206434         44.336\n",
       "3   GB             196131         42.123\n",
       "1   CE              44698          9.600\n",
       "2  EAU              13572          2.915\n",
       "4   OE               3826          0.822\n",
       "5  ESC                498          0.107\n",
       "7   IS                260          0.056\n",
       "6   EE                196          0.042"
      ]
     },
     "execution_count": 60,
     "metadata": {},
     "output_type": "execute_result"
    }
   ],
   "source": [
    "habitacionsPerCategoria(df1['idpais_cliente'], df1).sort_values(by=['Percentatge %'], ascending = False)"
   ]
  },
  {
   "cell_type": "code",
   "execution_count": 61,
   "metadata": {
    "ExecuteTime": {
     "end_time": "2019-12-19T10:45:02.918777Z",
     "start_time": "2019-12-19T10:45:00.861071Z"
    },
    "scrolled": true
   },
   "outputs": [
    {
     "data": {
      "text/plain": [
       "Text(0.5, 1.0, \"Boxplots de nombre d'habitacions segons el país de l'agència client\")"
      ]
     },
     "execution_count": 61,
     "metadata": {},
     "output_type": "execute_result"
    },
    {
     "data": {
      "image/png": "[encoded data removed]",
      "text/plain": [
       "<Figure size 432x288 with 1 Axes>"
      ]
     },
     "metadata": {},
     "output_type": "display_data"
    }
   ],
   "source": [
    "plt.title(\"Boxplots de nombre d'habitacions segons el país de l'agència client\")\n",
    "plt.show(sns.boxplot(x=\"idpais_cliente\", y=\"NHab\", data=df1))"
   ]
  },
  {
   "cell_type": "markdown",
   "metadata": {},
   "source": [
    "En més de la meitat de les observacions, el país d’origen de l’agència client és Espanya. Té certa lògica ja que els hotels es troben a Catalunya. \n",
    "Es veuen comportaments diferents segons els països d’origen. Destaquen els casos de Gran Bretanya, Escandinàvia i Islandia.\n"
   ]
  },
  {
   "cell_type": "markdown",
   "metadata": {},
   "source": [
    "### Data"
   ]
  },
  {
   "cell_type": "markdown",
   "metadata": {},
   "source": [
    "#### Anàlisi univariat"
   ]
  },
  {
   "cell_type": "code",
   "execution_count": 62,
   "metadata": {
    "ExecuteTime": {
     "end_time": "2019-12-19T10:45:10.732221Z",
     "start_time": "2019-12-19T10:45:10.712227Z"
    }
   },
   "outputs": [
    {
     "data": {
      "text/plain": [
       "count     47630\n",
       "unique      261\n",
       "top         187\n",
       "freq        415\n",
       "Name: diaAño, dtype: int64"
      ]
     },
     "execution_count": 62,
     "metadata": {},
     "output_type": "execute_result"
    }
   ],
   "source": [
    "df1.diaAño.describe()"
   ]
  },
  {
   "cell_type": "code",
   "execution_count": 63,
   "metadata": {
    "ExecuteTime": {
     "end_time": "2019-12-19T10:45:12.203882Z",
     "start_time": "2019-12-19T10:45:11.539571Z"
    }
   },
   "outputs": [
    {
     "data": {
      "text/plain": [
       "Text(0.5, 1.0, \"Distribució dels dies de l'any\")"
      ]
     },
     "execution_count": 63,
     "metadata": {},
     "output_type": "execute_result"
    },
    {
     "data": {
      "text/plain": [
       "<matplotlib.axes._subplots.AxesSubplot at 0x25abb959240>"
      ]
     },
     "execution_count": 63,
     "metadata": {},
     "output_type": "execute_result"
    },
    {
     "data": {
      "image/png": "[encoded data removed]",
      "text/plain": [
       "<Figure size 432x288 with 1 Axes>"
      ]
     },
     "metadata": {},
     "output_type": "display_data"
    }
   ],
   "source": [
    "plt.title(\"Distribució dels dies de l'any\")\n",
    "sns.distplot(df1.diaAño)"
   ]
  },
  {
   "cell_type": "code",
   "execution_count": 64,
   "metadata": {
    "ExecuteTime": {
     "end_time": "2019-12-19T10:45:12.775344Z",
     "start_time": "2019-12-19T10:45:12.736490Z"
    }
   },
   "outputs": [
    {
     "data": {
      "text/html": [
       "<div>\n",
       "<style scoped>\n",
       "    .dataframe tbody tr th:only-of-type {\n",
       "        vertical-align: middle;\n",
       "    }\n",
       "\n",
       "    .dataframe tbody tr th {\n",
       "        vertical-align: top;\n",
       "    }\n",
       "\n",
       "    .dataframe thead th {\n",
       "        text-align: right;\n",
       "    }\n",
       "</style>\n",
       "<table border=\"1\" class=\"dataframe\">\n",
       "  <thead>\n",
       "    <tr style=\"text-align: right;\">\n",
       "      <th></th>\n",
       "      <th>%</th>\n",
       "      <th>Recompte</th>\n",
       "    </tr>\n",
       "  </thead>\n",
       "  <tbody>\n",
       "    <tr>\n",
       "      <th>1</th>\n",
       "      <td>0.044090</td>\n",
       "      <td>21</td>\n",
       "    </tr>\n",
       "    <tr>\n",
       "      <th>2</th>\n",
       "      <td>0.018896</td>\n",
       "      <td>9</td>\n",
       "    </tr>\n",
       "    <tr>\n",
       "      <th>75</th>\n",
       "      <td>0.002100</td>\n",
       "      <td>1</td>\n",
       "    </tr>\n",
       "    <tr>\n",
       "      <th>76</th>\n",
       "      <td>0.006299</td>\n",
       "      <td>3</td>\n",
       "    </tr>\n",
       "    <tr>\n",
       "      <th>77</th>\n",
       "      <td>0.006299</td>\n",
       "      <td>3</td>\n",
       "    </tr>\n",
       "    <tr>\n",
       "      <th>...</th>\n",
       "      <td>...</td>\n",
       "      <td>...</td>\n",
       "    </tr>\n",
       "    <tr>\n",
       "      <th>360</th>\n",
       "      <td>0.018896</td>\n",
       "      <td>9</td>\n",
       "    </tr>\n",
       "    <tr>\n",
       "      <th>361</th>\n",
       "      <td>0.018896</td>\n",
       "      <td>9</td>\n",
       "    </tr>\n",
       "    <tr>\n",
       "      <th>362</th>\n",
       "      <td>0.018896</td>\n",
       "      <td>9</td>\n",
       "    </tr>\n",
       "    <tr>\n",
       "      <th>363</th>\n",
       "      <td>0.018896</td>\n",
       "      <td>9</td>\n",
       "    </tr>\n",
       "    <tr>\n",
       "      <th>364</th>\n",
       "      <td>0.020995</td>\n",
       "      <td>10</td>\n",
       "    </tr>\n",
       "  </tbody>\n",
       "</table>\n",
       "<p>261 rows × 2 columns</p>\n",
       "</div>"
      ],
      "text/plain": [
       "            %  Recompte\n",
       "1    0.044090        21\n",
       "2    0.018896         9\n",
       "75   0.002100         1\n",
       "76   0.006299         3\n",
       "77   0.006299         3\n",
       "..        ...       ...\n",
       "360  0.018896         9\n",
       "361  0.018896         9\n",
       "362  0.018896         9\n",
       "363  0.018896         9\n",
       "364  0.020995        10\n",
       "\n",
       "[261 rows x 2 columns]"
      ]
     },
     "execution_count": 64,
     "metadata": {},
     "output_type": "execute_result"
    }
   ],
   "source": [
    "d = pd.concat([df1['diaAño'].value_counts().sort_index()/len(df1)*100, \n",
    "           df1['diaAño'].value_counts().sort_index()], axis = 1)\n",
    "d.columns = ['%', 'Recompte']\n",
    "d"
   ]
  },
  {
   "cell_type": "markdown",
   "metadata": {},
   "source": [
    "#### Anàlisi bivariat"
   ]
  },
  {
   "cell_type": "code",
   "execution_count": 65,
   "metadata": {
    "ExecuteTime": {
     "end_time": "2019-12-19T10:45:37.297172Z",
     "start_time": "2019-12-19T10:45:36.471709Z"
    }
   },
   "outputs": [
    {
     "data": {
      "text/plain": [
       "Text(0.5, 1.0, \"Nombre d'habitacions segons el dia de l'any\")"
      ]
     },
     "execution_count": 65,
     "metadata": {},
     "output_type": "execute_result"
    },
    {
     "data": {
      "text/plain": [
       "Text(0.5, 0, \"Dia de l'any\")"
      ]
     },
     "execution_count": 65,
     "metadata": {},
     "output_type": "execute_result"
    },
    {
     "data": {
      "text/plain": [
       "Text(0, 0.5, 'Nº habitacions reservades')"
      ]
     },
     "execution_count": 65,
     "metadata": {},
     "output_type": "execute_result"
    },
    {
     "data": {
      "text/plain": [
       "<matplotlib.collections.PathCollection at 0x25ac13d5438>"
      ]
     },
     "execution_count": 65,
     "metadata": {},
     "output_type": "execute_result"
    },
    {
     "data": {
      "image/png": "[encoded data removed]",
      "text/plain": [
       "<Figure size 432x288 with 1 Axes>"
      ]
     },
     "metadata": {},
     "output_type": "display_data"
    }
   ],
   "source": [
    "plt.title(\"Nombre d'habitacions segons el dia de l'any\")\n",
    "plt.xlabel(\"Dia de l'any\")\n",
    "plt.ylabel(\"Nº habitacions reservades\")\n",
    "plt.scatter(df1['diaAño'],df1['NHab'])"
   ]
  },
  {
   "cell_type": "markdown",
   "metadata": {},
   "source": [
    "## Variables numèriques"
   ]
  },
  {
   "cell_type": "markdown",
   "metadata": {},
   "source": [
    "### Preu mig"
   ]
  },
  {
   "cell_type": "markdown",
   "metadata": {},
   "source": [
    "#### Anàlisi univariat"
   ]
  },
  {
   "cell_type": "code",
   "execution_count": 66,
   "metadata": {
    "ExecuteTime": {
     "end_time": "2019-12-24T12:28:54.933122Z",
     "start_time": "2019-12-24T12:28:54.288594Z"
    }
   },
   "outputs": [
    {
     "data": {
      "text/html": [
       "<div>\n",
       "<style scoped>\n",
       "    .dataframe tbody tr th:only-of-type {\n",
       "        vertical-align: middle;\n",
       "    }\n",
       "\n",
       "    .dataframe tbody tr th {\n",
       "        vertical-align: top;\n",
       "    }\n",
       "\n",
       "    .dataframe thead th {\n",
       "        text-align: right;\n",
       "    }\n",
       "</style>\n",
       "<table border=\"1\" class=\"dataframe\">\n",
       "  <thead>\n",
       "    <tr style=\"text-align: right;\">\n",
       "      <th></th>\n",
       "      <th>NHab</th>\n",
       "      <th>S1H</th>\n",
       "      <th>S2H</th>\n",
       "      <th>S3H</th>\n",
       "      <th>S4H</th>\n",
       "      <th>S5H</th>\n",
       "      <th>S6H</th>\n",
       "      <th>S7H</th>\n",
       "      <th>S8H</th>\n",
       "      <th>S9H</th>\n",
       "      <th>S10H</th>\n",
       "      <th>S11H</th>\n",
       "      <th>S12H</th>\n",
       "      <th>S13H</th>\n",
       "      <th>S14H</th>\n",
       "      <th>S15H</th>\n",
       "      <th>S16H</th>\n",
       "      <th>S17H</th>\n",
       "      <th>S18H</th>\n",
       "      <th>S19H</th>\n",
       "      <th>S20H</th>\n",
       "      <th>S21H</th>\n",
       "      <th>S22H</th>\n",
       "      <th>S23H</th>\n",
       "      <th>S24H</th>\n",
       "      <th>S25H</th>\n",
       "      <th>S26H</th>\n",
       "      <th>S27H</th>\n",
       "      <th>S28H</th>\n",
       "      <th>S29H</th>\n",
       "      <th>S30H</th>\n",
       "      <th>S31H</th>\n",
       "      <th>S32H</th>\n",
       "      <th>S33H</th>\n",
       "      <th>S34H</th>\n",
       "      <th>S35H</th>\n",
       "      <th>S36H</th>\n",
       "      <th>S37H</th>\n",
       "      <th>S38H</th>\n",
       "      <th>S39H</th>\n",
       "      <th>S40H</th>\n",
       "      <th>S41H</th>\n",
       "      <th>S42H</th>\n",
       "      <th>S43H</th>\n",
       "      <th>S44H</th>\n",
       "      <th>S45H</th>\n",
       "      <th>S46H</th>\n",
       "      <th>S47H</th>\n",
       "      <th>S48H</th>\n",
       "      <th>S49H</th>\n",
       "      <th>S50H</th>\n",
       "      <th>S51H</th>\n",
       "      <th>S52H</th>\n",
       "      <th>PreuHab</th>\n",
       "      <th>S1</th>\n",
       "      <th>S2</th>\n",
       "      <th>S3</th>\n",
       "      <th>S4</th>\n",
       "      <th>S5</th>\n",
       "      <th>S6</th>\n",
       "      <th>S7</th>\n",
       "      <th>S8</th>\n",
       "      <th>S9</th>\n",
       "      <th>S10</th>\n",
       "      <th>S11</th>\n",
       "      <th>S12</th>\n",
       "      <th>S13</th>\n",
       "      <th>S14</th>\n",
       "      <th>S15</th>\n",
       "      <th>S16</th>\n",
       "      <th>S17</th>\n",
       "      <th>S18</th>\n",
       "      <th>S19</th>\n",
       "      <th>S20</th>\n",
       "      <th>S21</th>\n",
       "      <th>S22</th>\n",
       "      <th>S23</th>\n",
       "      <th>S24</th>\n",
       "      <th>S25</th>\n",
       "      <th>S26</th>\n",
       "      <th>S27</th>\n",
       "      <th>S28</th>\n",
       "      <th>S29</th>\n",
       "      <th>S30</th>\n",
       "      <th>S31</th>\n",
       "      <th>S32</th>\n",
       "      <th>S33</th>\n",
       "      <th>S34</th>\n",
       "      <th>S35</th>\n",
       "      <th>S36</th>\n",
       "      <th>S37</th>\n",
       "      <th>S38</th>\n",
       "      <th>S39</th>\n",
       "      <th>S40</th>\n",
       "      <th>S41</th>\n",
       "      <th>S42</th>\n",
       "      <th>S43</th>\n",
       "      <th>S44</th>\n",
       "      <th>S45</th>\n",
       "      <th>S46</th>\n",
       "      <th>S47</th>\n",
       "      <th>S48</th>\n",
       "      <th>S49</th>\n",
       "      <th>S50</th>\n",
       "      <th>S51</th>\n",
       "      <th>S52</th>\n",
       "    </tr>\n",
       "  </thead>\n",
       "  <tbody>\n",
       "    <tr>\n",
       "      <th>count</th>\n",
       "      <td>47630.000000</td>\n",
       "      <td>47630.000000</td>\n",
       "      <td>47630.000000</td>\n",
       "      <td>47630.000000</td>\n",
       "      <td>47630.000000</td>\n",
       "      <td>47630.000000</td>\n",
       "      <td>47630.000000</td>\n",
       "      <td>47630.000000</td>\n",
       "      <td>47630.000000</td>\n",
       "      <td>47630.000000</td>\n",
       "      <td>47630.000000</td>\n",
       "      <td>47630.000000</td>\n",
       "      <td>47630.000000</td>\n",
       "      <td>47630.000000</td>\n",
       "      <td>47630.000000</td>\n",
       "      <td>47630.000000</td>\n",
       "      <td>47630.000000</td>\n",
       "      <td>47630.000000</td>\n",
       "      <td>47630.000000</td>\n",
       "      <td>47630.000000</td>\n",
       "      <td>47630.000000</td>\n",
       "      <td>47630.000000</td>\n",
       "      <td>47630.000000</td>\n",
       "      <td>47630.000000</td>\n",
       "      <td>47630.000000</td>\n",
       "      <td>47630.000000</td>\n",
       "      <td>47630.000000</td>\n",
       "      <td>47630.000000</td>\n",
       "      <td>47630.000000</td>\n",
       "      <td>47630.000000</td>\n",
       "      <td>47630.000000</td>\n",
       "      <td>47630.000000</td>\n",
       "      <td>47630.000000</td>\n",
       "      <td>47630.000000</td>\n",
       "      <td>47630.000000</td>\n",
       "      <td>47630.000000</td>\n",
       "      <td>47630.000000</td>\n",
       "      <td>47630.000000</td>\n",
       "      <td>47630.000000</td>\n",
       "      <td>47630.000000</td>\n",
       "      <td>47630.000000</td>\n",
       "      <td>47630.000000</td>\n",
       "      <td>47630.000000</td>\n",
       "      <td>47630.000000</td>\n",
       "      <td>47630.000000</td>\n",
       "      <td>47630.000000</td>\n",
       "      <td>47630.000000</td>\n",
       "      <td>47630.000000</td>\n",
       "      <td>47630.000000</td>\n",
       "      <td>47630.000000</td>\n",
       "      <td>47630.000000</td>\n",
       "      <td>47630.000000</td>\n",
       "      <td>47630.000000</td>\n",
       "      <td>47630.000000</td>\n",
       "      <td>47630.000000</td>\n",
       "      <td>47630.000000</td>\n",
       "      <td>47630.000000</td>\n",
       "      <td>47630.000000</td>\n",
       "      <td>47630.000000</td>\n",
       "      <td>47630.000000</td>\n",
       "      <td>47630.000000</td>\n",
       "      <td>47630.000000</td>\n",
       "      <td>47630.000000</td>\n",
       "      <td>47630.000000</td>\n",
       "      <td>47630.000000</td>\n",
       "      <td>47630.000000</td>\n",
       "      <td>47630.000000</td>\n",
       "      <td>47630.000000</td>\n",
       "      <td>47630.000000</td>\n",
       "      <td>47630.000000</td>\n",
       "      <td>47630.000000</td>\n",
       "      <td>47630.000000</td>\n",
       "      <td>47630.000000</td>\n",
       "      <td>47630.000000</td>\n",
       "      <td>47630.000000</td>\n",
       "      <td>47630.000000</td>\n",
       "      <td>47630.000000</td>\n",
       "      <td>47630.000000</td>\n",
       "      <td>47630.000000</td>\n",
       "      <td>47630.000000</td>\n",
       "      <td>47630.000000</td>\n",
       "      <td>47630.000000</td>\n",
       "      <td>47630.000000</td>\n",
       "      <td>47630.000000</td>\n",
       "      <td>47630.000000</td>\n",
       "      <td>47630.000000</td>\n",
       "      <td>47630.000000</td>\n",
       "      <td>47630.000000</td>\n",
       "      <td>47630.000000</td>\n",
       "      <td>47630.000000</td>\n",
       "      <td>47630.000000</td>\n",
       "      <td>47630.000000</td>\n",
       "      <td>47630.000000</td>\n",
       "      <td>47630.000000</td>\n",
       "      <td>47630.000000</td>\n",
       "      <td>47630.000000</td>\n",
       "      <td>47630.000000</td>\n",
       "      <td>47630.000000</td>\n",
       "      <td>47630.000000</td>\n",
       "      <td>47630.000000</td>\n",
       "      <td>47630.000000</td>\n",
       "      <td>47630.000000</td>\n",
       "      <td>47630.000000</td>\n",
       "      <td>47630.000000</td>\n",
       "      <td>47630.000000</td>\n",
       "      <td>47630.000000</td>\n",
       "    </tr>\n",
       "    <tr>\n",
       "      <th>mean</th>\n",
       "      <td>9.775667</td>\n",
       "      <td>9.622864</td>\n",
       "      <td>9.531031</td>\n",
       "      <td>9.415410</td>\n",
       "      <td>9.175331</td>\n",
       "      <td>8.914886</td>\n",
       "      <td>8.677724</td>\n",
       "      <td>8.442326</td>\n",
       "      <td>8.204976</td>\n",
       "      <td>7.979656</td>\n",
       "      <td>7.777745</td>\n",
       "      <td>7.591644</td>\n",
       "      <td>7.422108</td>\n",
       "      <td>7.292463</td>\n",
       "      <td>7.171426</td>\n",
       "      <td>7.015578</td>\n",
       "      <td>6.866660</td>\n",
       "      <td>6.709616</td>\n",
       "      <td>6.518098</td>\n",
       "      <td>6.334180</td>\n",
       "      <td>6.149633</td>\n",
       "      <td>5.935335</td>\n",
       "      <td>5.722066</td>\n",
       "      <td>5.540794</td>\n",
       "      <td>5.365421</td>\n",
       "      <td>5.187382</td>\n",
       "      <td>5.001638</td>\n",
       "      <td>4.843859</td>\n",
       "      <td>4.676716</td>\n",
       "      <td>4.506571</td>\n",
       "      <td>4.322402</td>\n",
       "      <td>4.200189</td>\n",
       "      <td>4.076422</td>\n",
       "      <td>3.940101</td>\n",
       "      <td>3.808041</td>\n",
       "      <td>3.679467</td>\n",
       "      <td>3.536679</td>\n",
       "      <td>3.408104</td>\n",
       "      <td>3.278837</td>\n",
       "      <td>3.164539</td>\n",
       "      <td>3.041256</td>\n",
       "      <td>2.937980</td>\n",
       "      <td>2.826013</td>\n",
       "      <td>2.717363</td>\n",
       "      <td>2.600525</td>\n",
       "      <td>2.483015</td>\n",
       "      <td>2.367290</td>\n",
       "      <td>2.231787</td>\n",
       "      <td>2.085828</td>\n",
       "      <td>1.936637</td>\n",
       "      <td>1.752908</td>\n",
       "      <td>1.550535</td>\n",
       "      <td>1.324522</td>\n",
       "      <td>131.448197</td>\n",
       "      <td>131.404295</td>\n",
       "      <td>131.353334</td>\n",
       "      <td>131.457491</td>\n",
       "      <td>131.515058</td>\n",
       "      <td>131.558413</td>\n",
       "      <td>131.699337</td>\n",
       "      <td>131.800236</td>\n",
       "      <td>131.887223</td>\n",
       "      <td>131.890701</td>\n",
       "      <td>131.809109</td>\n",
       "      <td>131.816538</td>\n",
       "      <td>131.763683</td>\n",
       "      <td>131.817357</td>\n",
       "      <td>131.832852</td>\n",
       "      <td>131.792227</td>\n",
       "      <td>131.783384</td>\n",
       "      <td>131.833032</td>\n",
       "      <td>131.857602</td>\n",
       "      <td>131.917310</td>\n",
       "      <td>131.960818</td>\n",
       "      <td>131.978260</td>\n",
       "      <td>131.977338</td>\n",
       "      <td>131.878116</td>\n",
       "      <td>131.812304</td>\n",
       "      <td>131.748835</td>\n",
       "      <td>131.721124</td>\n",
       "      <td>131.682305</td>\n",
       "      <td>131.722233</td>\n",
       "      <td>131.769581</td>\n",
       "      <td>131.767964</td>\n",
       "      <td>131.737525</td>\n",
       "      <td>131.673330</td>\n",
       "      <td>131.634962</td>\n",
       "      <td>131.638935</td>\n",
       "      <td>131.655632</td>\n",
       "      <td>131.705414</td>\n",
       "      <td>131.715931</td>\n",
       "      <td>131.679004</td>\n",
       "      <td>131.645377</td>\n",
       "      <td>131.606033</td>\n",
       "      <td>131.565061</td>\n",
       "      <td>131.552670</td>\n",
       "      <td>131.551118</td>\n",
       "      <td>131.554712</td>\n",
       "      <td>131.552175</td>\n",
       "      <td>131.523347</td>\n",
       "      <td>131.491040</td>\n",
       "      <td>131.459343</td>\n",
       "      <td>131.448712</td>\n",
       "      <td>131.472721</td>\n",
       "      <td>131.478685</td>\n",
       "      <td>131.477563</td>\n",
       "    </tr>\n",
       "    <tr>\n",
       "      <th>std</th>\n",
       "      <td>18.072125</td>\n",
       "      <td>17.967986</td>\n",
       "      <td>17.413474</td>\n",
       "      <td>17.129856</td>\n",
       "      <td>17.081146</td>\n",
       "      <td>17.080149</td>\n",
       "      <td>17.175535</td>\n",
       "      <td>17.248968</td>\n",
       "      <td>17.226890</td>\n",
       "      <td>17.140615</td>\n",
       "      <td>17.108430</td>\n",
       "      <td>17.113698</td>\n",
       "      <td>17.171504</td>\n",
       "      <td>17.306408</td>\n",
       "      <td>17.494873</td>\n",
       "      <td>17.496612</td>\n",
       "      <td>17.471529</td>\n",
       "      <td>17.452350</td>\n",
       "      <td>17.406240</td>\n",
       "      <td>17.331514</td>\n",
       "      <td>17.157436</td>\n",
       "      <td>16.890408</td>\n",
       "      <td>16.578920</td>\n",
       "      <td>16.383344</td>\n",
       "      <td>16.152014</td>\n",
       "      <td>15.979200</td>\n",
       "      <td>15.700599</td>\n",
       "      <td>15.507883</td>\n",
       "      <td>15.266284</td>\n",
       "      <td>14.975708</td>\n",
       "      <td>14.610915</td>\n",
       "      <td>14.432466</td>\n",
       "      <td>14.289004</td>\n",
       "      <td>14.070137</td>\n",
       "      <td>13.777481</td>\n",
       "      <td>13.537180</td>\n",
       "      <td>13.184822</td>\n",
       "      <td>12.828262</td>\n",
       "      <td>12.445226</td>\n",
       "      <td>12.142252</td>\n",
       "      <td>11.793388</td>\n",
       "      <td>11.504943</td>\n",
       "      <td>11.187738</td>\n",
       "      <td>10.879682</td>\n",
       "      <td>10.543458</td>\n",
       "      <td>10.192654</td>\n",
       "      <td>9.791587</td>\n",
       "      <td>9.289027</td>\n",
       "      <td>8.691982</td>\n",
       "      <td>8.105719</td>\n",
       "      <td>7.427681</td>\n",
       "      <td>6.696003</td>\n",
       "      <td>5.862117</td>\n",
       "      <td>72.537042</td>\n",
       "      <td>72.413405</td>\n",
       "      <td>72.045001</td>\n",
       "      <td>71.927486</td>\n",
       "      <td>71.775605</td>\n",
       "      <td>71.823800</td>\n",
       "      <td>71.852545</td>\n",
       "      <td>72.014377</td>\n",
       "      <td>72.284747</td>\n",
       "      <td>72.370823</td>\n",
       "      <td>72.372299</td>\n",
       "      <td>72.409366</td>\n",
       "      <td>72.357744</td>\n",
       "      <td>72.313310</td>\n",
       "      <td>72.179555</td>\n",
       "      <td>72.023012</td>\n",
       "      <td>71.984373</td>\n",
       "      <td>72.089728</td>\n",
       "      <td>72.179050</td>\n",
       "      <td>72.479470</td>\n",
       "      <td>72.680512</td>\n",
       "      <td>72.748956</td>\n",
       "      <td>72.838484</td>\n",
       "      <td>72.792033</td>\n",
       "      <td>72.761923</td>\n",
       "      <td>72.769256</td>\n",
       "      <td>72.823501</td>\n",
       "      <td>72.702226</td>\n",
       "      <td>72.958080</td>\n",
       "      <td>73.128694</td>\n",
       "      <td>73.003434</td>\n",
       "      <td>73.017446</td>\n",
       "      <td>72.922247</td>\n",
       "      <td>72.896744</td>\n",
       "      <td>72.867924</td>\n",
       "      <td>72.856838</td>\n",
       "      <td>72.823597</td>\n",
       "      <td>72.808201</td>\n",
       "      <td>72.775667</td>\n",
       "      <td>72.755926</td>\n",
       "      <td>72.733829</td>\n",
       "      <td>72.720886</td>\n",
       "      <td>72.718243</td>\n",
       "      <td>72.749320</td>\n",
       "      <td>72.750756</td>\n",
       "      <td>72.756389</td>\n",
       "      <td>72.753207</td>\n",
       "      <td>72.722315</td>\n",
       "      <td>72.737019</td>\n",
       "      <td>72.734417</td>\n",
       "      <td>72.741542</td>\n",
       "      <td>72.747899</td>\n",
       "      <td>72.738179</td>\n",
       "    </tr>\n",
       "    <tr>\n",
       "      <th>min</th>\n",
       "      <td>0.000000</td>\n",
       "      <td>0.000000</td>\n",
       "      <td>0.000000</td>\n",
       "      <td>0.000000</td>\n",
       "      <td>0.000000</td>\n",
       "      <td>0.000000</td>\n",
       "      <td>0.000000</td>\n",
       "      <td>0.000000</td>\n",
       "      <td>0.000000</td>\n",
       "      <td>0.000000</td>\n",
       "      <td>0.000000</td>\n",
       "      <td>0.000000</td>\n",
       "      <td>0.000000</td>\n",
       "      <td>0.000000</td>\n",
       "      <td>0.000000</td>\n",
       "      <td>0.000000</td>\n",
       "      <td>0.000000</td>\n",
       "      <td>0.000000</td>\n",
       "      <td>0.000000</td>\n",
       "      <td>0.000000</td>\n",
       "      <td>0.000000</td>\n",
       "      <td>0.000000</td>\n",
       "      <td>0.000000</td>\n",
       "      <td>0.000000</td>\n",
       "      <td>0.000000</td>\n",
       "      <td>0.000000</td>\n",
       "      <td>0.000000</td>\n",
       "      <td>0.000000</td>\n",
       "      <td>0.000000</td>\n",
       "      <td>0.000000</td>\n",
       "      <td>0.000000</td>\n",
       "      <td>0.000000</td>\n",
       "      <td>0.000000</td>\n",
       "      <td>0.000000</td>\n",
       "      <td>0.000000</td>\n",
       "      <td>0.000000</td>\n",
       "      <td>0.000000</td>\n",
       "      <td>0.000000</td>\n",
       "      <td>0.000000</td>\n",
       "      <td>0.000000</td>\n",
       "      <td>0.000000</td>\n",
       "      <td>0.000000</td>\n",
       "      <td>0.000000</td>\n",
       "      <td>0.000000</td>\n",
       "      <td>0.000000</td>\n",
       "      <td>0.000000</td>\n",
       "      <td>0.000000</td>\n",
       "      <td>0.000000</td>\n",
       "      <td>0.000000</td>\n",
       "      <td>0.000000</td>\n",
       "      <td>0.000000</td>\n",
       "      <td>0.000000</td>\n",
       "      <td>0.000000</td>\n",
       "      <td>40.000000</td>\n",
       "      <td>40.000000</td>\n",
       "      <td>40.000000</td>\n",
       "      <td>40.000000</td>\n",
       "      <td>40.000000</td>\n",
       "      <td>40.000000</td>\n",
       "      <td>40.000000</td>\n",
       "      <td>40.000000</td>\n",
       "      <td>40.000000</td>\n",
       "      <td>40.000000</td>\n",
       "      <td>40.000000</td>\n",
       "      <td>40.000000</td>\n",
       "      <td>40.000000</td>\n",
       "      <td>40.000000</td>\n",
       "      <td>40.000000</td>\n",
       "      <td>40.000000</td>\n",
       "      <td>40.000000</td>\n",
       "      <td>40.000000</td>\n",
       "      <td>40.000000</td>\n",
       "      <td>40.000000</td>\n",
       "      <td>40.000000</td>\n",
       "      <td>40.000000</td>\n",
       "      <td>40.000000</td>\n",
       "      <td>40.000000</td>\n",
       "      <td>40.000000</td>\n",
       "      <td>40.000000</td>\n",
       "      <td>40.000000</td>\n",
       "      <td>40.000000</td>\n",
       "      <td>40.000000</td>\n",
       "      <td>40.000000</td>\n",
       "      <td>40.000000</td>\n",
       "      <td>40.000000</td>\n",
       "      <td>40.000000</td>\n",
       "      <td>40.000000</td>\n",
       "      <td>40.000000</td>\n",
       "      <td>40.000000</td>\n",
       "      <td>40.000000</td>\n",
       "      <td>40.000000</td>\n",
       "      <td>40.000000</td>\n",
       "      <td>40.000000</td>\n",
       "      <td>40.000000</td>\n",
       "      <td>40.000000</td>\n",
       "      <td>40.000000</td>\n",
       "      <td>40.000000</td>\n",
       "      <td>40.000000</td>\n",
       "      <td>40.000000</td>\n",
       "      <td>40.000000</td>\n",
       "      <td>40.000000</td>\n",
       "      <td>40.000000</td>\n",
       "      <td>40.000000</td>\n",
       "      <td>40.000000</td>\n",
       "      <td>40.000000</td>\n",
       "      <td>40.000000</td>\n",
       "    </tr>\n",
       "    <tr>\n",
       "      <th>25%</th>\n",
       "      <td>1.000000</td>\n",
       "      <td>1.000000</td>\n",
       "      <td>1.000000</td>\n",
       "      <td>1.000000</td>\n",
       "      <td>1.000000</td>\n",
       "      <td>1.000000</td>\n",
       "      <td>1.000000</td>\n",
       "      <td>1.000000</td>\n",
       "      <td>1.000000</td>\n",
       "      <td>1.000000</td>\n",
       "      <td>0.000000</td>\n",
       "      <td>0.000000</td>\n",
       "      <td>0.000000</td>\n",
       "      <td>0.000000</td>\n",
       "      <td>0.000000</td>\n",
       "      <td>0.000000</td>\n",
       "      <td>0.000000</td>\n",
       "      <td>0.000000</td>\n",
       "      <td>0.000000</td>\n",
       "      <td>0.000000</td>\n",
       "      <td>0.000000</td>\n",
       "      <td>0.000000</td>\n",
       "      <td>0.000000</td>\n",
       "      <td>0.000000</td>\n",
       "      <td>0.000000</td>\n",
       "      <td>0.000000</td>\n",
       "      <td>0.000000</td>\n",
       "      <td>0.000000</td>\n",
       "      <td>0.000000</td>\n",
       "      <td>0.000000</td>\n",
       "      <td>0.000000</td>\n",
       "      <td>0.000000</td>\n",
       "      <td>0.000000</td>\n",
       "      <td>0.000000</td>\n",
       "      <td>0.000000</td>\n",
       "      <td>0.000000</td>\n",
       "      <td>0.000000</td>\n",
       "      <td>0.000000</td>\n",
       "      <td>0.000000</td>\n",
       "      <td>0.000000</td>\n",
       "      <td>0.000000</td>\n",
       "      <td>0.000000</td>\n",
       "      <td>0.000000</td>\n",
       "      <td>0.000000</td>\n",
       "      <td>0.000000</td>\n",
       "      <td>0.000000</td>\n",
       "      <td>0.000000</td>\n",
       "      <td>0.000000</td>\n",
       "      <td>0.000000</td>\n",
       "      <td>0.000000</td>\n",
       "      <td>0.000000</td>\n",
       "      <td>0.000000</td>\n",
       "      <td>0.000000</td>\n",
       "      <td>79.038319</td>\n",
       "      <td>79.085859</td>\n",
       "      <td>79.382370</td>\n",
       "      <td>79.654545</td>\n",
       "      <td>79.786046</td>\n",
       "      <td>79.935364</td>\n",
       "      <td>80.054545</td>\n",
       "      <td>80.083186</td>\n",
       "      <td>80.054545</td>\n",
       "      <td>80.054546</td>\n",
       "      <td>80.054545</td>\n",
       "      <td>80.054545</td>\n",
       "      <td>80.054546</td>\n",
       "      <td>80.136363</td>\n",
       "      <td>80.245454</td>\n",
       "      <td>80.245454</td>\n",
       "      <td>80.323636</td>\n",
       "      <td>80.318182</td>\n",
       "      <td>80.341309</td>\n",
       "      <td>80.318182</td>\n",
       "      <td>80.363636</td>\n",
       "      <td>80.318182</td>\n",
       "      <td>80.308693</td>\n",
       "      <td>80.323636</td>\n",
       "      <td>80.318181</td>\n",
       "      <td>80.323636</td>\n",
       "      <td>80.350732</td>\n",
       "      <td>80.363636</td>\n",
       "      <td>80.323636</td>\n",
       "      <td>80.323636</td>\n",
       "      <td>80.363636</td>\n",
       "      <td>80.363818</td>\n",
       "      <td>80.363636</td>\n",
       "      <td>80.363636</td>\n",
       "      <td>80.363636</td>\n",
       "      <td>80.504544</td>\n",
       "      <td>80.545455</td>\n",
       "      <td>80.708052</td>\n",
       "      <td>80.659380</td>\n",
       "      <td>80.727272</td>\n",
       "      <td>80.713636</td>\n",
       "      <td>80.727272</td>\n",
       "      <td>80.727272</td>\n",
       "      <td>80.727272</td>\n",
       "      <td>80.727272</td>\n",
       "      <td>80.774544</td>\n",
       "      <td>80.774544</td>\n",
       "      <td>80.749999</td>\n",
       "      <td>80.745455</td>\n",
       "      <td>80.727272</td>\n",
       "      <td>80.727272</td>\n",
       "      <td>80.727272</td>\n",
       "      <td>80.727272</td>\n",
       "    </tr>\n",
       "    <tr>\n",
       "      <th>50%</th>\n",
       "      <td>3.000000</td>\n",
       "      <td>3.000000</td>\n",
       "      <td>3.000000</td>\n",
       "      <td>3.000000</td>\n",
       "      <td>3.000000</td>\n",
       "      <td>2.000000</td>\n",
       "      <td>2.000000</td>\n",
       "      <td>2.000000</td>\n",
       "      <td>2.000000</td>\n",
       "      <td>2.000000</td>\n",
       "      <td>2.000000</td>\n",
       "      <td>2.000000</td>\n",
       "      <td>2.000000</td>\n",
       "      <td>1.000000</td>\n",
       "      <td>1.000000</td>\n",
       "      <td>1.000000</td>\n",
       "      <td>1.000000</td>\n",
       "      <td>1.000000</td>\n",
       "      <td>1.000000</td>\n",
       "      <td>1.000000</td>\n",
       "      <td>1.000000</td>\n",
       "      <td>1.000000</td>\n",
       "      <td>0.000000</td>\n",
       "      <td>0.000000</td>\n",
       "      <td>0.000000</td>\n",
       "      <td>0.000000</td>\n",
       "      <td>0.000000</td>\n",
       "      <td>0.000000</td>\n",
       "      <td>0.000000</td>\n",
       "      <td>0.000000</td>\n",
       "      <td>0.000000</td>\n",
       "      <td>0.000000</td>\n",
       "      <td>0.000000</td>\n",
       "      <td>0.000000</td>\n",
       "      <td>0.000000</td>\n",
       "      <td>0.000000</td>\n",
       "      <td>0.000000</td>\n",
       "      <td>0.000000</td>\n",
       "      <td>0.000000</td>\n",
       "      <td>0.000000</td>\n",
       "      <td>0.000000</td>\n",
       "      <td>0.000000</td>\n",
       "      <td>0.000000</td>\n",
       "      <td>0.000000</td>\n",
       "      <td>0.000000</td>\n",
       "      <td>0.000000</td>\n",
       "      <td>0.000000</td>\n",
       "      <td>0.000000</td>\n",
       "      <td>0.000000</td>\n",
       "      <td>0.000000</td>\n",
       "      <td>0.000000</td>\n",
       "      <td>0.000000</td>\n",
       "      <td>0.000000</td>\n",
       "      <td>113.953165</td>\n",
       "      <td>114.074428</td>\n",
       "      <td>114.081818</td>\n",
       "      <td>114.140266</td>\n",
       "      <td>114.138181</td>\n",
       "      <td>114.149747</td>\n",
       "      <td>114.139342</td>\n",
       "      <td>114.318182</td>\n",
       "      <td>114.138181</td>\n",
       "      <td>114.039928</td>\n",
       "      <td>113.990909</td>\n",
       "      <td>113.890909</td>\n",
       "      <td>113.890908</td>\n",
       "      <td>113.897136</td>\n",
       "      <td>113.863637</td>\n",
       "      <td>113.906952</td>\n",
       "      <td>113.990909</td>\n",
       "      <td>114.001393</td>\n",
       "      <td>113.990909</td>\n",
       "      <td>113.890909</td>\n",
       "      <td>113.890909</td>\n",
       "      <td>113.963636</td>\n",
       "      <td>113.919647</td>\n",
       "      <td>113.818183</td>\n",
       "      <td>113.790251</td>\n",
       "      <td>113.646084</td>\n",
       "      <td>113.500000</td>\n",
       "      <td>113.272728</td>\n",
       "      <td>113.194351</td>\n",
       "      <td>113.243921</td>\n",
       "      <td>113.090910</td>\n",
       "      <td>113.015152</td>\n",
       "      <td>112.954545</td>\n",
       "      <td>112.954545</td>\n",
       "      <td>112.954545</td>\n",
       "      <td>112.954545</td>\n",
       "      <td>113.061818</td>\n",
       "      <td>112.996163</td>\n",
       "      <td>112.981494</td>\n",
       "      <td>112.954545</td>\n",
       "      <td>112.909092</td>\n",
       "      <td>112.848484</td>\n",
       "      <td>112.848484</td>\n",
       "      <td>112.781939</td>\n",
       "      <td>112.772728</td>\n",
       "      <td>112.727272</td>\n",
       "      <td>112.696364</td>\n",
       "      <td>112.653031</td>\n",
       "      <td>112.553692</td>\n",
       "      <td>112.537287</td>\n",
       "      <td>112.558464</td>\n",
       "      <td>112.595041</td>\n",
       "      <td>112.595041</td>\n",
       "    </tr>\n",
       "    <tr>\n",
       "      <th>75%</th>\n",
       "      <td>10.000000</td>\n",
       "      <td>9.000000</td>\n",
       "      <td>9.000000</td>\n",
       "      <td>9.000000</td>\n",
       "      <td>9.000000</td>\n",
       "      <td>8.000000</td>\n",
       "      <td>8.000000</td>\n",
       "      <td>7.000000</td>\n",
       "      <td>7.000000</td>\n",
       "      <td>7.000000</td>\n",
       "      <td>6.000000</td>\n",
       "      <td>6.000000</td>\n",
       "      <td>6.000000</td>\n",
       "      <td>6.000000</td>\n",
       "      <td>5.000000</td>\n",
       "      <td>5.000000</td>\n",
       "      <td>5.000000</td>\n",
       "      <td>4.000000</td>\n",
       "      <td>4.000000</td>\n",
       "      <td>4.000000</td>\n",
       "      <td>4.000000</td>\n",
       "      <td>3.000000</td>\n",
       "      <td>3.000000</td>\n",
       "      <td>3.000000</td>\n",
       "      <td>3.000000</td>\n",
       "      <td>2.000000</td>\n",
       "      <td>2.000000</td>\n",
       "      <td>2.000000</td>\n",
       "      <td>2.000000</td>\n",
       "      <td>2.000000</td>\n",
       "      <td>2.000000</td>\n",
       "      <td>1.000000</td>\n",
       "      <td>1.000000</td>\n",
       "      <td>1.000000</td>\n",
       "      <td>1.000000</td>\n",
       "      <td>1.000000</td>\n",
       "      <td>1.000000</td>\n",
       "      <td>1.000000</td>\n",
       "      <td>1.000000</td>\n",
       "      <td>0.000000</td>\n",
       "      <td>0.000000</td>\n",
       "      <td>0.000000</td>\n",
       "      <td>0.000000</td>\n",
       "      <td>0.000000</td>\n",
       "      <td>0.000000</td>\n",
       "      <td>0.000000</td>\n",
       "      <td>0.000000</td>\n",
       "      <td>0.000000</td>\n",
       "      <td>0.000000</td>\n",
       "      <td>0.000000</td>\n",
       "      <td>0.000000</td>\n",
       "      <td>0.000000</td>\n",
       "      <td>0.000000</td>\n",
       "      <td>165.453409</td>\n",
       "      <td>165.369943</td>\n",
       "      <td>165.295967</td>\n",
       "      <td>165.306819</td>\n",
       "      <td>165.253038</td>\n",
       "      <td>165.147970</td>\n",
       "      <td>165.412273</td>\n",
       "      <td>165.442067</td>\n",
       "      <td>165.508177</td>\n",
       "      <td>165.594923</td>\n",
       "      <td>165.336737</td>\n",
       "      <td>165.293655</td>\n",
       "      <td>165.197727</td>\n",
       "      <td>165.127272</td>\n",
       "      <td>165.129761</td>\n",
       "      <td>165.101685</td>\n",
       "      <td>165.090910</td>\n",
       "      <td>165.090910</td>\n",
       "      <td>165.106591</td>\n",
       "      <td>165.351134</td>\n",
       "      <td>165.454545</td>\n",
       "      <td>165.236364</td>\n",
       "      <td>165.090910</td>\n",
       "      <td>165.090910</td>\n",
       "      <td>165.054544</td>\n",
       "      <td>164.900000</td>\n",
       "      <td>164.454546</td>\n",
       "      <td>164.459092</td>\n",
       "      <td>164.459092</td>\n",
       "      <td>164.739054</td>\n",
       "      <td>164.900000</td>\n",
       "      <td>164.454546</td>\n",
       "      <td>164.354545</td>\n",
       "      <td>164.245453</td>\n",
       "      <td>164.311363</td>\n",
       "      <td>164.245453</td>\n",
       "      <td>164.450000</td>\n",
       "      <td>164.354545</td>\n",
       "      <td>164.273274</td>\n",
       "      <td>164.116032</td>\n",
       "      <td>163.963637</td>\n",
       "      <td>163.923291</td>\n",
       "      <td>163.954545</td>\n",
       "      <td>163.909090</td>\n",
       "      <td>163.909090</td>\n",
       "      <td>163.909090</td>\n",
       "      <td>163.909090</td>\n",
       "      <td>163.743326</td>\n",
       "      <td>163.672726</td>\n",
       "      <td>163.672726</td>\n",
       "      <td>163.672726</td>\n",
       "      <td>163.672726</td>\n",
       "      <td>163.793749</td>\n",
       "    </tr>\n",
       "    <tr>\n",
       "      <th>max</th>\n",
       "      <td>346.000000</td>\n",
       "      <td>353.000000</td>\n",
       "      <td>352.000000</td>\n",
       "      <td>352.000000</td>\n",
       "      <td>352.000000</td>\n",
       "      <td>352.000000</td>\n",
       "      <td>352.000000</td>\n",
       "      <td>352.000000</td>\n",
       "      <td>352.000000</td>\n",
       "      <td>352.000000</td>\n",
       "      <td>352.000000</td>\n",
       "      <td>352.000000</td>\n",
       "      <td>352.000000</td>\n",
       "      <td>352.000000</td>\n",
       "      <td>352.000000</td>\n",
       "      <td>352.000000</td>\n",
       "      <td>352.000000</td>\n",
       "      <td>352.000000</td>\n",
       "      <td>352.000000</td>\n",
       "      <td>352.000000</td>\n",
       "      <td>352.000000</td>\n",
       "      <td>352.000000</td>\n",
       "      <td>352.000000</td>\n",
       "      <td>352.000000</td>\n",
       "      <td>351.000000</td>\n",
       "      <td>351.000000</td>\n",
       "      <td>351.000000</td>\n",
       "      <td>351.000000</td>\n",
       "      <td>351.000000</td>\n",
       "      <td>351.000000</td>\n",
       "      <td>211.000000</td>\n",
       "      <td>216.000000</td>\n",
       "      <td>217.000000</td>\n",
       "      <td>210.000000</td>\n",
       "      <td>201.000000</td>\n",
       "      <td>194.000000</td>\n",
       "      <td>191.000000</td>\n",
       "      <td>191.000000</td>\n",
       "      <td>192.000000</td>\n",
       "      <td>192.000000</td>\n",
       "      <td>174.000000</td>\n",
       "      <td>174.000000</td>\n",
       "      <td>171.000000</td>\n",
       "      <td>171.000000</td>\n",
       "      <td>164.000000</td>\n",
       "      <td>161.000000</td>\n",
       "      <td>153.000000</td>\n",
       "      <td>151.000000</td>\n",
       "      <td>151.000000</td>\n",
       "      <td>146.000000</td>\n",
       "      <td>143.000000</td>\n",
       "      <td>137.000000</td>\n",
       "      <td>103.000000</td>\n",
       "      <td>713.005287</td>\n",
       "      <td>713.005287</td>\n",
       "      <td>713.005287</td>\n",
       "      <td>713.005287</td>\n",
       "      <td>713.005287</td>\n",
       "      <td>704.227275</td>\n",
       "      <td>704.227275</td>\n",
       "      <td>704.227275</td>\n",
       "      <td>799.636364</td>\n",
       "      <td>799.636364</td>\n",
       "      <td>799.636364</td>\n",
       "      <td>799.636364</td>\n",
       "      <td>799.636364</td>\n",
       "      <td>799.636364</td>\n",
       "      <td>799.636364</td>\n",
       "      <td>799.636364</td>\n",
       "      <td>799.636364</td>\n",
       "      <td>799.636364</td>\n",
       "      <td>799.636364</td>\n",
       "      <td>971.136365</td>\n",
       "      <td>971.136365</td>\n",
       "      <td>971.136365</td>\n",
       "      <td>971.136365</td>\n",
       "      <td>971.136365</td>\n",
       "      <td>971.136365</td>\n",
       "      <td>971.136365</td>\n",
       "      <td>971.136365</td>\n",
       "      <td>944.163630</td>\n",
       "      <td>944.163630</td>\n",
       "      <td>1316.500000</td>\n",
       "      <td>1316.500000</td>\n",
       "      <td>1316.500000</td>\n",
       "      <td>1316.500000</td>\n",
       "      <td>1316.500000</td>\n",
       "      <td>1316.500000</td>\n",
       "      <td>1316.500000</td>\n",
       "      <td>1316.500000</td>\n",
       "      <td>1316.500000</td>\n",
       "      <td>1316.500000</td>\n",
       "      <td>1316.500000</td>\n",
       "      <td>1316.500000</td>\n",
       "      <td>1316.500000</td>\n",
       "      <td>1316.500000</td>\n",
       "      <td>1316.500000</td>\n",
       "      <td>1316.500000</td>\n",
       "      <td>1316.500000</td>\n",
       "      <td>1316.500000</td>\n",
       "      <td>1316.500000</td>\n",
       "      <td>1316.500000</td>\n",
       "      <td>1316.500000</td>\n",
       "      <td>1316.500000</td>\n",
       "      <td>1316.500000</td>\n",
       "      <td>1316.500000</td>\n",
       "    </tr>\n",
       "  </tbody>\n",
       "</table>\n",
       "</div>"
      ],
      "text/plain": [
       "               NHab           S1H           S2H           S3H           S4H  \\\n",
       "count  47630.000000  47630.000000  47630.000000  47630.000000  47630.000000   \n",
       "mean       9.775667      9.622864      9.531031      9.415410      9.175331   \n",
       "std       18.072125     17.967986     17.413474     17.129856     17.081146   \n",
       "min        0.000000      0.000000      0.000000      0.000000      0.000000   \n",
       "25%        1.000000      1.000000      1.000000      1.000000      1.000000   \n",
       "50%        3.000000      3.000000      3.000000      3.000000      3.000000   \n",
       "75%       10.000000      9.000000      9.000000      9.000000      9.000000   \n",
       "max      346.000000    353.000000    352.000000    352.000000    352.000000   \n",
       "\n",
       "                S5H           S6H           S7H           S8H           S9H  \\\n",
       "count  47630.000000  47630.000000  47630.000000  47630.000000  47630.000000   \n",
       "mean       8.914886      8.677724      8.442326      8.204976      7.979656   \n",
       "std       17.080149     17.175535     17.248968     17.226890     17.140615   \n",
       "min        0.000000      0.000000      0.000000      0.000000      0.000000   \n",
       "25%        1.000000      1.000000      1.000000      1.000000      1.000000   \n",
       "50%        2.000000      2.000000      2.000000      2.000000      2.000000   \n",
       "75%        8.000000      8.000000      7.000000      7.000000      7.000000   \n",
       "max      352.000000    352.000000    352.000000    352.000000    352.000000   \n",
       "\n",
       "               S10H          S11H          S12H          S13H          S14H  \\\n",
       "count  47630.000000  47630.000000  47630.000000  47630.000000  47630.000000   \n",
       "mean       7.777745      7.591644      7.422108      7.292463      7.171426   \n",
       "std       17.108430     17.113698     17.171504     17.306408     17.494873   \n",
       "min        0.000000      0.000000      0.000000      0.000000      0.000000   \n",
       "25%        0.000000      0.000000      0.000000      0.000000      0.000000   \n",
       "50%        2.000000      2.000000      2.000000      1.000000      1.000000   \n",
       "75%        6.000000      6.000000      6.000000      6.000000      5.000000   \n",
       "max      352.000000    352.000000    352.000000    352.000000    352.000000   \n",
       "\n",
       "               S15H          S16H          S17H          S18H          S19H  \\\n",
       "count  47630.000000  47630.000000  47630.000000  47630.000000  47630.000000   \n",
       "mean       7.015578      6.866660      6.709616      6.518098      6.334180   \n",
       "std       17.496612     17.471529     17.452350     17.406240     17.331514   \n",
       "min        0.000000      0.000000      0.000000      0.000000      0.000000   \n",
       "25%        0.000000      0.000000      0.000000      0.000000      0.000000   \n",
       "50%        1.000000      1.000000      1.000000      1.000000      1.000000   \n",
       "75%        5.000000      5.000000      4.000000      4.000000      4.000000   \n",
       "max      352.000000    352.000000    352.000000    352.000000    352.000000   \n",
       "\n",
       "               S20H          S21H          S22H          S23H          S24H  \\\n",
       "count  47630.000000  47630.000000  47630.000000  47630.000000  47630.000000   \n",
       "mean       6.149633      5.935335      5.722066      5.540794      5.365421   \n",
       "std       17.157436     16.890408     16.578920     16.383344     16.152014   \n",
       "min        0.000000      0.000000      0.000000      0.000000      0.000000   \n",
       "25%        0.000000      0.000000      0.000000      0.000000      0.000000   \n",
       "50%        1.000000      1.000000      0.000000      0.000000      0.000000   \n",
       "75%        4.000000      3.000000      3.000000      3.000000      3.000000   \n",
       "max      352.000000    352.000000    352.000000    352.000000    351.000000   \n",
       "\n",
       "               S25H          S26H          S27H          S28H          S29H  \\\n",
       "count  47630.000000  47630.000000  47630.000000  47630.000000  47630.000000   \n",
       "mean       5.187382      5.001638      4.843859      4.676716      4.506571   \n",
       "std       15.979200     15.700599     15.507883     15.266284     14.975708   \n",
       "min        0.000000      0.000000      0.000000      0.000000      0.000000   \n",
       "25%        0.000000      0.000000      0.000000      0.000000      0.000000   \n",
       "50%        0.000000      0.000000      0.000000      0.000000      0.000000   \n",
       "75%        2.000000      2.000000      2.000000      2.000000      2.000000   \n",
       "max      351.000000    351.000000    351.000000    351.000000    351.000000   \n",
       "\n",
       "               S30H          S31H          S32H          S33H          S34H  \\\n",
       "count  47630.000000  47630.000000  47630.000000  47630.000000  47630.000000   \n",
       "mean       4.322402      4.200189      4.076422      3.940101      3.808041   \n",
       "std       14.610915     14.432466     14.289004     14.070137     13.777481   \n",
       "min        0.000000      0.000000      0.000000      0.000000      0.000000   \n",
       "25%        0.000000      0.000000      0.000000      0.000000      0.000000   \n",
       "50%        0.000000      0.000000      0.000000      0.000000      0.000000   \n",
       "75%        2.000000      1.000000      1.000000      1.000000      1.000000   \n",
       "max      211.000000    216.000000    217.000000    210.000000    201.000000   \n",
       "\n",
       "               S35H          S36H          S37H          S38H          S39H  \\\n",
       "count  47630.000000  47630.000000  47630.000000  47630.000000  47630.000000   \n",
       "mean       3.679467      3.536679      3.408104      3.278837      3.164539   \n",
       "std       13.537180     13.184822     12.828262     12.445226     12.142252   \n",
       "min        0.000000      0.000000      0.000000      0.000000      0.000000   \n",
       "25%        0.000000      0.000000      0.000000      0.000000      0.000000   \n",
       "50%        0.000000      0.000000      0.000000      0.000000      0.000000   \n",
       "75%        1.000000      1.000000      1.000000      1.000000      0.000000   \n",
       "max      194.000000    191.000000    191.000000    192.000000    192.000000   \n",
       "\n",
       "               S40H          S41H          S42H          S43H          S44H  \\\n",
       "count  47630.000000  47630.000000  47630.000000  47630.000000  47630.000000   \n",
       "mean       3.041256      2.937980      2.826013      2.717363      2.600525   \n",
       "std       11.793388     11.504943     11.187738     10.879682     10.543458   \n",
       "min        0.000000      0.000000      0.000000      0.000000      0.000000   \n",
       "25%        0.000000      0.000000      0.000000      0.000000      0.000000   \n",
       "50%        0.000000      0.000000      0.000000      0.000000      0.000000   \n",
       "75%        0.000000      0.000000      0.000000      0.000000      0.000000   \n",
       "max      174.000000    174.000000    171.000000    171.000000    164.000000   \n",
       "\n",
       "               S45H          S46H          S47H          S48H          S49H  \\\n",
       "count  47630.000000  47630.000000  47630.000000  47630.000000  47630.000000   \n",
       "mean       2.483015      2.367290      2.231787      2.085828      1.936637   \n",
       "std       10.192654      9.791587      9.289027      8.691982      8.105719   \n",
       "min        0.000000      0.000000      0.000000      0.000000      0.000000   \n",
       "25%        0.000000      0.000000      0.000000      0.000000      0.000000   \n",
       "50%        0.000000      0.000000      0.000000      0.000000      0.000000   \n",
       "75%        0.000000      0.000000      0.000000      0.000000      0.000000   \n",
       "max      161.000000    153.000000    151.000000    151.000000    146.000000   \n",
       "\n",
       "               S50H          S51H          S52H       PreuHab            S1  \\\n",
       "count  47630.000000  47630.000000  47630.000000  47630.000000  47630.000000   \n",
       "mean       1.752908      1.550535      1.324522    131.448197    131.404295   \n",
       "std        7.427681      6.696003      5.862117     72.537042     72.413405   \n",
       "min        0.000000      0.000000      0.000000     40.000000     40.000000   \n",
       "25%        0.000000      0.000000      0.000000     79.038319     79.085859   \n",
       "50%        0.000000      0.000000      0.000000    113.953165    114.074428   \n",
       "75%        0.000000      0.000000      0.000000    165.453409    165.369943   \n",
       "max      143.000000    137.000000    103.000000    713.005287    713.005287   \n",
       "\n",
       "                 S2            S3            S4            S5            S6  \\\n",
       "count  47630.000000  47630.000000  47630.000000  47630.000000  47630.000000   \n",
       "mean     131.353334    131.457491    131.515058    131.558413    131.699337   \n",
       "std       72.045001     71.927486     71.775605     71.823800     71.852545   \n",
       "min       40.000000     40.000000     40.000000     40.000000     40.000000   \n",
       "25%       79.382370     79.654545     79.786046     79.935364     80.054545   \n",
       "50%      114.081818    114.140266    114.138181    114.149747    114.139342   \n",
       "75%      165.295967    165.306819    165.253038    165.147970    165.412273   \n",
       "max      713.005287    713.005287    713.005287    704.227275    704.227275   \n",
       "\n",
       "                 S7            S8            S9           S10           S11  \\\n",
       "count  47630.000000  47630.000000  47630.000000  47630.000000  47630.000000   \n",
       "mean     131.800236    131.887223    131.890701    131.809109    131.816538   \n",
       "std       72.014377     72.284747     72.370823     72.372299     72.409366   \n",
       "min       40.000000     40.000000     40.000000     40.000000     40.000000   \n",
       "25%       80.083186     80.054545     80.054546     80.054545     80.054545   \n",
       "50%      114.318182    114.138181    114.039928    113.990909    113.890909   \n",
       "75%      165.442067    165.508177    165.594923    165.336737    165.293655   \n",
       "max      704.227275    799.636364    799.636364    799.636364    799.636364   \n",
       "\n",
       "                S12           S13           S14           S15           S16  \\\n",
       "count  47630.000000  47630.000000  47630.000000  47630.000000  47630.000000   \n",
       "mean     131.763683    131.817357    131.832852    131.792227    131.783384   \n",
       "std       72.357744     72.313310     72.179555     72.023012     71.984373   \n",
       "min       40.000000     40.000000     40.000000     40.000000     40.000000   \n",
       "25%       80.054546     80.136363     80.245454     80.245454     80.323636   \n",
       "50%      113.890908    113.897136    113.863637    113.906952    113.990909   \n",
       "75%      165.197727    165.127272    165.129761    165.101685    165.090910   \n",
       "max      799.636364    799.636364    799.636364    799.636364    799.636364   \n",
       "\n",
       "                S17           S18           S19           S20           S21  \\\n",
       "count  47630.000000  47630.000000  47630.000000  47630.000000  47630.000000   \n",
       "mean     131.833032    131.857602    131.917310    131.960818    131.978260   \n",
       "std       72.089728     72.179050     72.479470     72.680512     72.748956   \n",
       "min       40.000000     40.000000     40.000000     40.000000     40.000000   \n",
       "25%       80.318182     80.341309     80.318182     80.363636     80.318182   \n",
       "50%      114.001393    113.990909    113.890909    113.890909    113.963636   \n",
       "75%      165.090910    165.106591    165.351134    165.454545    165.236364   \n",
       "max      799.636364    799.636364    971.136365    971.136365    971.136365   \n",
       "\n",
       "                S22           S23           S24           S25           S26  \\\n",
       "count  47630.000000  47630.000000  47630.000000  47630.000000  47630.000000   \n",
       "mean     131.977338    131.878116    131.812304    131.748835    131.721124   \n",
       "std       72.838484     72.792033     72.761923     72.769256     72.823501   \n",
       "min       40.000000     40.000000     40.000000     40.000000     40.000000   \n",
       "25%       80.308693     80.323636     80.318181     80.323636     80.350732   \n",
       "50%      113.919647    113.818183    113.790251    113.646084    113.500000   \n",
       "75%      165.090910    165.090910    165.054544    164.900000    164.454546   \n",
       "max      971.136365    971.136365    971.136365    971.136365    971.136365   \n",
       "\n",
       "                S27           S28           S29           S30           S31  \\\n",
       "count  47630.000000  47630.000000  47630.000000  47630.000000  47630.000000   \n",
       "mean     131.682305    131.722233    131.769581    131.767964    131.737525   \n",
       "std       72.702226     72.958080     73.128694     73.003434     73.017446   \n",
       "min       40.000000     40.000000     40.000000     40.000000     40.000000   \n",
       "25%       80.363636     80.323636     80.323636     80.363636     80.363818   \n",
       "50%      113.272728    113.194351    113.243921    113.090910    113.015152   \n",
       "75%      164.459092    164.459092    164.739054    164.900000    164.454546   \n",
       "max      944.163630    944.163630   1316.500000   1316.500000   1316.500000   \n",
       "\n",
       "                S32           S33           S34           S35           S36  \\\n",
       "count  47630.000000  47630.000000  47630.000000  47630.000000  47630.000000   \n",
       "mean     131.673330    131.634962    131.638935    131.655632    131.705414   \n",
       "std       72.922247     72.896744     72.867924     72.856838     72.823597   \n",
       "min       40.000000     40.000000     40.000000     40.000000     40.000000   \n",
       "25%       80.363636     80.363636     80.363636     80.504544     80.545455   \n",
       "50%      112.954545    112.954545    112.954545    112.954545    113.061818   \n",
       "75%      164.354545    164.245453    164.311363    164.245453    164.450000   \n",
       "max     1316.500000   1316.500000   1316.500000   1316.500000   1316.500000   \n",
       "\n",
       "                S37           S38           S39           S40           S41  \\\n",
       "count  47630.000000  47630.000000  47630.000000  47630.000000  47630.000000   \n",
       "mean     131.715931    131.679004    131.645377    131.606033    131.565061   \n",
       "std       72.808201     72.775667     72.755926     72.733829     72.720886   \n",
       "min       40.000000     40.000000     40.000000     40.000000     40.000000   \n",
       "25%       80.708052     80.659380     80.727272     80.713636     80.727272   \n",
       "50%      112.996163    112.981494    112.954545    112.909092    112.848484   \n",
       "75%      164.354545    164.273274    164.116032    163.963637    163.923291   \n",
       "max     1316.500000   1316.500000   1316.500000   1316.500000   1316.500000   \n",
       "\n",
       "                S42           S43           S44           S45           S46  \\\n",
       "count  47630.000000  47630.000000  47630.000000  47630.000000  47630.000000   \n",
       "mean     131.552670    131.551118    131.554712    131.552175    131.523347   \n",
       "std       72.718243     72.749320     72.750756     72.756389     72.753207   \n",
       "min       40.000000     40.000000     40.000000     40.000000     40.000000   \n",
       "25%       80.727272     80.727272     80.727272     80.774544     80.774544   \n",
       "50%      112.848484    112.781939    112.772728    112.727272    112.696364   \n",
       "75%      163.954545    163.909090    163.909090    163.909090    163.909090   \n",
       "max     1316.500000   1316.500000   1316.500000   1316.500000   1316.500000   \n",
       "\n",
       "                S47           S48           S49           S50           S51  \\\n",
       "count  47630.000000  47630.000000  47630.000000  47630.000000  47630.000000   \n",
       "mean     131.491040    131.459343    131.448712    131.472721    131.478685   \n",
       "std       72.722315     72.737019     72.734417     72.741542     72.747899   \n",
       "min       40.000000     40.000000     40.000000     40.000000     40.000000   \n",
       "25%       80.749999     80.745455     80.727272     80.727272     80.727272   \n",
       "50%      112.653031    112.553692    112.537287    112.558464    112.595041   \n",
       "75%      163.743326    163.672726    163.672726    163.672726    163.672726   \n",
       "max     1316.500000   1316.500000   1316.500000   1316.500000   1316.500000   \n",
       "\n",
       "                S52  \n",
       "count  47630.000000  \n",
       "mean     131.477563  \n",
       "std       72.738179  \n",
       "min       40.000000  \n",
       "25%       80.727272  \n",
       "50%      112.595041  \n",
       "75%      163.793749  \n",
       "max     1316.500000  "
      ]
     },
     "execution_count": 66,
     "metadata": {},
     "output_type": "execute_result"
    }
   ],
   "source": [
    "df1.describe()"
   ]
  },
  {
   "cell_type": "code",
   "execution_count": 67,
   "metadata": {
    "ExecuteTime": {
     "end_time": "2019-12-19T10:45:58.532664Z",
     "start_time": "2019-12-19T10:45:58.516668Z"
    }
   },
   "outputs": [
    {
     "data": {
      "text/plain": [
       "count    47630.000000\n",
       "mean       131.448197\n",
       "std         72.537042\n",
       "min         40.000000\n",
       "25%         79.038319\n",
       "50%        113.953165\n",
       "75%        165.453409\n",
       "max        713.005287\n",
       "Name: PreuHab, dtype: float64"
      ]
     },
     "execution_count": 67,
     "metadata": {},
     "output_type": "execute_result"
    }
   ],
   "source": [
    "df1['PreuHab'].describe()"
   ]
  },
  {
   "cell_type": "code",
   "execution_count": 68,
   "metadata": {
    "ExecuteTime": {
     "end_time": "2019-12-19T10:45:59.924141Z",
     "start_time": "2019-12-19T10:45:59.541359Z"
    }
   },
   "outputs": [
    {
     "data": {
      "text/plain": [
       "Text(0.5, 1.0, 'Boxplot del preu mig')"
      ]
     },
     "execution_count": 68,
     "metadata": {},
     "output_type": "execute_result"
    },
    {
     "data": {
      "image/png": "[encoded data removed]",
      "text/plain": [
       "<Figure size 432x288 with 1 Axes>"
      ]
     },
     "metadata": {},
     "output_type": "display_data"
    }
   ],
   "source": [
    "plt.title(\"Boxplot del preu mig\")\n",
    "plt.show(sns.boxplot(df1['PreuHab']))"
   ]
  },
  {
   "cell_type": "code",
   "execution_count": 69,
   "metadata": {
    "ExecuteTime": {
     "end_time": "2019-12-19T10:46:13.234564Z",
     "start_time": "2019-12-19T10:46:12.142538Z"
    },
    "scrolled": false
   },
   "outputs": [
    {
     "data": {
      "text/plain": [
       "Text(0.5, 1.0, 'Preu mig habitació')"
      ]
     },
     "execution_count": 69,
     "metadata": {},
     "output_type": "execute_result"
    },
    {
     "data": {
      "text/plain": [
       "Text(0.5, 0, 'Preu')"
      ]
     },
     "execution_count": 69,
     "metadata": {},
     "output_type": "execute_result"
    },
    {
     "data": {
      "text/plain": [
       "Text(0, 0.5, 'Recompte')"
      ]
     },
     "execution_count": 69,
     "metadata": {},
     "output_type": "execute_result"
    },
    {
     "data": {
      "image/png": "[encoded data removed]",
      "text/plain": [
       "<Figure size 432x288 with 1 Axes>"
      ]
     },
     "metadata": {},
     "output_type": "display_data"
    },
    {
     "data": {
      "image/png": "[encoded data removed]",
      "text/plain": [
       "<Figure size 432x288 with 1 Axes>"
      ]
     },
     "metadata": {},
     "output_type": "display_data"
    }
   ],
   "source": [
    "plt.title(\"Preu mig habitació\")\n",
    "plt.xlabel('Preu')\n",
    "plt.ylabel('Recompte')\n",
    "plt.show(plt.hist(df1['PreuHab'], bins = 200))\n",
    "plt.show(plt.hist(df1[df1['PreuHab'] <300]['PreuHab'], bins = 100))"
   ]
  },
  {
   "cell_type": "code",
   "execution_count": 70,
   "metadata": {
    "ExecuteTime": {
     "end_time": "2019-12-24T12:32:08.405988Z",
     "start_time": "2019-12-24T12:32:02.440690Z"
    }
   },
   "outputs": [],
   "source": [
    "pPhab = []\n",
    "## Càlcul percentatge representatiu de la mostra segons NHab\n",
    "for i in range(1700):\n",
    "    pPhab.append(round((df1[df1['PreuHab']>=i].shape[0]/df1.shape[0])*100, 2))"
   ]
  },
  {
   "cell_type": "code",
   "execution_count": 71,
   "metadata": {
    "ExecuteTime": {
     "end_time": "2019-12-24T12:32:09.436151Z",
     "start_time": "2019-12-24T12:32:09.208210Z"
    }
   },
   "outputs": [
    {
     "data": {
      "text/plain": [
       "Text(0.5, 1.0, 'Percentil segons el preu de la reserva')"
      ]
     },
     "execution_count": 71,
     "metadata": {},
     "output_type": "execute_result"
    },
    {
     "data": {
      "text/plain": [
       "Text(0.5, 0, 'Preu de la reserva')"
      ]
     },
     "execution_count": 71,
     "metadata": {},
     "output_type": "execute_result"
    },
    {
     "data": {
      "text/plain": [
       "Text(0, 0.5, 'Percentil')"
      ]
     },
     "execution_count": 71,
     "metadata": {},
     "output_type": "execute_result"
    },
    {
     "data": {
      "text/plain": [
       "[<matplotlib.lines.Line2D at 0x25ac1757d68>]"
      ]
     },
     "execution_count": 71,
     "metadata": {},
     "output_type": "execute_result"
    },
    {
     "data": {
      "image/png": "[encoded data removed]",
      "text/plain": [
       "<Figure size 432x288 with 1 Axes>"
      ]
     },
     "metadata": {},
     "output_type": "display_data"
    }
   ],
   "source": [
    "plt.title(\"Percentil segons el preu de la reserva\")\n",
    "plt.xlabel(\"Preu de la reserva\")\n",
    "plt.ylabel(\"Percentil\")\n",
    "plt.plot(range(1700), pPhab, linewidth = 3)"
   ]
  },
  {
   "cell_type": "code",
   "execution_count": 72,
   "metadata": {
    "ExecuteTime": {
     "end_time": "2019-12-24T12:32:10.266732Z",
     "start_time": "2019-12-24T12:32:10.258728Z"
    }
   },
   "outputs": [],
   "source": [
    "menorPreu5 = filter(filtroMenorQue5, pPhab)\n",
    "pPhab5 = []\n",
    "\n",
    "for i in menorPreu5:\n",
    "    pPhab5.append(i)"
   ]
  },
  {
   "cell_type": "code",
   "execution_count": 73,
   "metadata": {
    "ExecuteTime": {
     "end_time": "2019-12-24T12:32:11.533935Z",
     "start_time": "2019-12-24T12:32:11.246101Z"
    }
   },
   "outputs": [
    {
     "data": {
      "text/plain": [
       "Text(0.5, 1.0, 'Percentil segons el preu de la reserva')"
      ]
     },
     "execution_count": 73,
     "metadata": {},
     "output_type": "execute_result"
    },
    {
     "data": {
      "text/plain": [
       "Text(0.5, 0, 'Preu')"
      ]
     },
     "execution_count": 73,
     "metadata": {},
     "output_type": "execute_result"
    },
    {
     "data": {
      "text/plain": [
       "Text(0, 0.5, 'Percentil')"
      ]
     },
     "execution_count": 73,
     "metadata": {},
     "output_type": "execute_result"
    },
    {
     "data": {
      "text/plain": [
       "[<matplotlib.lines.Line2D at 0x25ac17c6358>]"
      ]
     },
     "execution_count": 73,
     "metadata": {},
     "output_type": "execute_result"
    },
    {
     "data": {
      "text/plain": [
       "[<matplotlib.lines.Line2D at 0x25ac17aac18>]"
      ]
     },
     "execution_count": 73,
     "metadata": {},
     "output_type": "execute_result"
    },
    {
     "data": {
      "text/plain": [
       "<matplotlib.legend.Legend at 0x25ac17c6748>"
      ]
     },
     "execution_count": 73,
     "metadata": {},
     "output_type": "execute_result"
    },
    {
     "data": {
      "image/png": "[encoded data removed]",
      "text/plain": [
       "<Figure size 432x288 with 1 Axes>"
      ]
     },
     "metadata": {},
     "output_type": "display_data"
    }
   ],
   "source": [
    "plt.title(\"Percentil segons el preu de la reserva\")\n",
    "plt.xlabel(\"Preu\")\n",
    "plt.ylabel(\"Percentil\")\n",
    "plt.plot(range(1700), pPhab, c = 'g', linewidth = 3, label = '> 5%')\n",
    "plt.plot(range(len(pPhab) - len(pPhab5), 1700), pPhab5[0:(1700-(len(pPhab) - len(pPhab5)))], linewidth = 3, label = '< 5%')\n",
    "plt.legend()"
   ]
  },
  {
   "cell_type": "code",
   "execution_count": 74,
   "metadata": {
    "ExecuteTime": {
     "end_time": "2019-12-24T12:32:12.237596Z",
     "start_time": "2019-12-24T12:32:12.227413Z"
    },
    "scrolled": true
   },
   "outputs": [
    {
     "name": "stdout",
     "output_type": "stream",
     "text": [
      "Si només s'agafen dades a partir de 272 euros, les dades que s'agafin representaran menys d'un 5% del conjunt de dades original.\n"
     ]
    }
   ],
   "source": [
    "print(\"Si només s'agafen dades a partir de\", len(pPhab) - len(pPhab5), \"euros, les dades que s'agafin representaran menys d'un 5% del conjunt de dades original.\")"
   ]
  },
  {
   "cell_type": "code",
   "execution_count": 75,
   "metadata": {
    "ExecuteTime": {
     "end_time": "2019-12-19T10:47:03.614662Z",
     "start_time": "2019-12-19T10:47:02.974642Z"
    }
   },
   "outputs": [
    {
     "data": {
      "text/html": [
       "<div>\n",
       "<style scoped>\n",
       "    .dataframe tbody tr th:only-of-type {\n",
       "        vertical-align: middle;\n",
       "    }\n",
       "\n",
       "    .dataframe tbody tr th {\n",
       "        vertical-align: top;\n",
       "    }\n",
       "\n",
       "    .dataframe thead th {\n",
       "        text-align: right;\n",
       "    }\n",
       "</style>\n",
       "<table border=\"1\" class=\"dataframe\">\n",
       "  <thead>\n",
       "    <tr style=\"text-align: right;\">\n",
       "      <th></th>\n",
       "      <th>NHab</th>\n",
       "      <th>S1H</th>\n",
       "      <th>S2H</th>\n",
       "      <th>S3H</th>\n",
       "      <th>S4H</th>\n",
       "      <th>S5H</th>\n",
       "      <th>S6H</th>\n",
       "      <th>S7H</th>\n",
       "      <th>S8H</th>\n",
       "      <th>S9H</th>\n",
       "      <th>S10H</th>\n",
       "      <th>S11H</th>\n",
       "      <th>S12H</th>\n",
       "      <th>S13H</th>\n",
       "      <th>S14H</th>\n",
       "      <th>S15H</th>\n",
       "      <th>S16H</th>\n",
       "      <th>S17H</th>\n",
       "      <th>S18H</th>\n",
       "      <th>S19H</th>\n",
       "      <th>S20H</th>\n",
       "      <th>S21H</th>\n",
       "      <th>S22H</th>\n",
       "      <th>S23H</th>\n",
       "      <th>S24H</th>\n",
       "      <th>S25H</th>\n",
       "      <th>S26H</th>\n",
       "      <th>S27H</th>\n",
       "      <th>S28H</th>\n",
       "      <th>S29H</th>\n",
       "      <th>S30H</th>\n",
       "      <th>S31H</th>\n",
       "      <th>S32H</th>\n",
       "      <th>S33H</th>\n",
       "      <th>S34H</th>\n",
       "      <th>S35H</th>\n",
       "      <th>S36H</th>\n",
       "      <th>S37H</th>\n",
       "      <th>S38H</th>\n",
       "      <th>S39H</th>\n",
       "      <th>S40H</th>\n",
       "      <th>S41H</th>\n",
       "      <th>S42H</th>\n",
       "      <th>S43H</th>\n",
       "      <th>S44H</th>\n",
       "      <th>S45H</th>\n",
       "      <th>S46H</th>\n",
       "      <th>S47H</th>\n",
       "      <th>S48H</th>\n",
       "      <th>S49H</th>\n",
       "      <th>S50H</th>\n",
       "      <th>S51H</th>\n",
       "      <th>S52H</th>\n",
       "      <th>PreuHab</th>\n",
       "      <th>S1</th>\n",
       "      <th>S2</th>\n",
       "      <th>S3</th>\n",
       "      <th>S4</th>\n",
       "      <th>S5</th>\n",
       "      <th>S6</th>\n",
       "      <th>S7</th>\n",
       "      <th>S8</th>\n",
       "      <th>S9</th>\n",
       "      <th>S10</th>\n",
       "      <th>S11</th>\n",
       "      <th>S12</th>\n",
       "      <th>S13</th>\n",
       "      <th>S14</th>\n",
       "      <th>S15</th>\n",
       "      <th>S16</th>\n",
       "      <th>S17</th>\n",
       "      <th>S18</th>\n",
       "      <th>S19</th>\n",
       "      <th>S20</th>\n",
       "      <th>S21</th>\n",
       "      <th>S22</th>\n",
       "      <th>S23</th>\n",
       "      <th>S24</th>\n",
       "      <th>S25</th>\n",
       "      <th>S26</th>\n",
       "      <th>S27</th>\n",
       "      <th>S28</th>\n",
       "      <th>S29</th>\n",
       "      <th>S30</th>\n",
       "      <th>S31</th>\n",
       "      <th>S32</th>\n",
       "      <th>S33</th>\n",
       "      <th>S34</th>\n",
       "      <th>S35</th>\n",
       "      <th>S36</th>\n",
       "      <th>S37</th>\n",
       "      <th>S38</th>\n",
       "      <th>S39</th>\n",
       "      <th>S40</th>\n",
       "      <th>S41</th>\n",
       "      <th>S42</th>\n",
       "      <th>S43</th>\n",
       "      <th>S44</th>\n",
       "      <th>S45</th>\n",
       "      <th>S46</th>\n",
       "      <th>S47</th>\n",
       "      <th>S48</th>\n",
       "      <th>S49</th>\n",
       "      <th>S50</th>\n",
       "      <th>S51</th>\n",
       "      <th>S52</th>\n",
       "    </tr>\n",
       "  </thead>\n",
       "  <tbody>\n",
       "    <tr>\n",
       "      <th>count</th>\n",
       "      <td>47630.000000</td>\n",
       "      <td>47630.000000</td>\n",
       "      <td>47630.000000</td>\n",
       "      <td>47630.000000</td>\n",
       "      <td>47630.000000</td>\n",
       "      <td>47630.000000</td>\n",
       "      <td>47630.000000</td>\n",
       "      <td>47630.000000</td>\n",
       "      <td>47630.000000</td>\n",
       "      <td>47630.000000</td>\n",
       "      <td>47630.000000</td>\n",
       "      <td>47630.000000</td>\n",
       "      <td>47630.000000</td>\n",
       "      <td>47630.000000</td>\n",
       "      <td>47630.000000</td>\n",
       "      <td>47630.000000</td>\n",
       "      <td>47630.000000</td>\n",
       "      <td>47630.000000</td>\n",
       "      <td>47630.000000</td>\n",
       "      <td>47630.000000</td>\n",
       "      <td>47630.000000</td>\n",
       "      <td>47630.000000</td>\n",
       "      <td>47630.000000</td>\n",
       "      <td>47630.000000</td>\n",
       "      <td>47630.000000</td>\n",
       "      <td>47630.000000</td>\n",
       "      <td>47630.000000</td>\n",
       "      <td>47630.000000</td>\n",
       "      <td>47630.000000</td>\n",
       "      <td>47630.000000</td>\n",
       "      <td>47630.000000</td>\n",
       "      <td>47630.000000</td>\n",
       "      <td>47630.000000</td>\n",
       "      <td>47630.000000</td>\n",
       "      <td>47630.000000</td>\n",
       "      <td>47630.000000</td>\n",
       "      <td>47630.000000</td>\n",
       "      <td>47630.000000</td>\n",
       "      <td>47630.000000</td>\n",
       "      <td>47630.000000</td>\n",
       "      <td>47630.000000</td>\n",
       "      <td>47630.000000</td>\n",
       "      <td>47630.000000</td>\n",
       "      <td>47630.000000</td>\n",
       "      <td>47630.000000</td>\n",
       "      <td>47630.000000</td>\n",
       "      <td>47630.000000</td>\n",
       "      <td>47630.000000</td>\n",
       "      <td>47630.000000</td>\n",
       "      <td>47630.000000</td>\n",
       "      <td>47630.000000</td>\n",
       "      <td>47630.000000</td>\n",
       "      <td>47630.000000</td>\n",
       "      <td>47630.000000</td>\n",
       "      <td>47630.000000</td>\n",
       "      <td>47630.000000</td>\n",
       "      <td>47630.000000</td>\n",
       "      <td>47630.000000</td>\n",
       "      <td>47630.000000</td>\n",
       "      <td>47630.000000</td>\n",
       "      <td>47630.000000</td>\n",
       "      <td>47630.000000</td>\n",
       "      <td>47630.000000</td>\n",
       "      <td>47630.000000</td>\n",
       "      <td>47630.000000</td>\n",
       "      <td>47630.000000</td>\n",
       "      <td>47630.000000</td>\n",
       "      <td>47630.000000</td>\n",
       "      <td>47630.000000</td>\n",
       "      <td>47630.000000</td>\n",
       "      <td>47630.000000</td>\n",
       "      <td>47630.000000</td>\n",
       "      <td>47630.000000</td>\n",
       "      <td>47630.000000</td>\n",
       "      <td>47630.000000</td>\n",
       "      <td>47630.000000</td>\n",
       "      <td>47630.000000</td>\n",
       "      <td>47630.000000</td>\n",
       "      <td>47630.000000</td>\n",
       "      <td>47630.000000</td>\n",
       "      <td>47630.000000</td>\n",
       "      <td>47630.000000</td>\n",
       "      <td>47630.000000</td>\n",
       "      <td>47630.000000</td>\n",
       "      <td>47630.000000</td>\n",
       "      <td>47630.000000</td>\n",
       "      <td>47630.000000</td>\n",
       "      <td>47630.000000</td>\n",
       "      <td>47630.000000</td>\n",
       "      <td>47630.000000</td>\n",
       "      <td>47630.000000</td>\n",
       "      <td>47630.000000</td>\n",
       "      <td>47630.000000</td>\n",
       "      <td>47630.000000</td>\n",
       "      <td>47630.000000</td>\n",
       "      <td>47630.000000</td>\n",
       "      <td>47630.000000</td>\n",
       "      <td>47630.000000</td>\n",
       "      <td>47630.000000</td>\n",
       "      <td>47630.000000</td>\n",
       "      <td>47630.000000</td>\n",
       "      <td>47630.000000</td>\n",
       "      <td>47630.000000</td>\n",
       "      <td>47630.000000</td>\n",
       "      <td>47630.000000</td>\n",
       "      <td>47630.000000</td>\n",
       "    </tr>\n",
       "    <tr>\n",
       "      <th>mean</th>\n",
       "      <td>9.775667</td>\n",
       "      <td>9.622864</td>\n",
       "      <td>9.531031</td>\n",
       "      <td>9.415410</td>\n",
       "      <td>9.175331</td>\n",
       "      <td>8.914886</td>\n",
       "      <td>8.677724</td>\n",
       "      <td>8.442326</td>\n",
       "      <td>8.204976</td>\n",
       "      <td>7.979656</td>\n",
       "      <td>7.777745</td>\n",
       "      <td>7.591644</td>\n",
       "      <td>7.422108</td>\n",
       "      <td>7.292463</td>\n",
       "      <td>7.171426</td>\n",
       "      <td>7.015578</td>\n",
       "      <td>6.866660</td>\n",
       "      <td>6.709616</td>\n",
       "      <td>6.518098</td>\n",
       "      <td>6.334180</td>\n",
       "      <td>6.149633</td>\n",
       "      <td>5.935335</td>\n",
       "      <td>5.722066</td>\n",
       "      <td>5.540794</td>\n",
       "      <td>5.365421</td>\n",
       "      <td>5.187382</td>\n",
       "      <td>5.001638</td>\n",
       "      <td>4.843859</td>\n",
       "      <td>4.676716</td>\n",
       "      <td>4.506571</td>\n",
       "      <td>4.322402</td>\n",
       "      <td>4.200189</td>\n",
       "      <td>4.076422</td>\n",
       "      <td>3.940101</td>\n",
       "      <td>3.808041</td>\n",
       "      <td>3.679467</td>\n",
       "      <td>3.536679</td>\n",
       "      <td>3.408104</td>\n",
       "      <td>3.278837</td>\n",
       "      <td>3.164539</td>\n",
       "      <td>3.041256</td>\n",
       "      <td>2.937980</td>\n",
       "      <td>2.826013</td>\n",
       "      <td>2.717363</td>\n",
       "      <td>2.600525</td>\n",
       "      <td>2.483015</td>\n",
       "      <td>2.367290</td>\n",
       "      <td>2.231787</td>\n",
       "      <td>2.085828</td>\n",
       "      <td>1.936637</td>\n",
       "      <td>1.752908</td>\n",
       "      <td>1.550535</td>\n",
       "      <td>1.324522</td>\n",
       "      <td>131.448197</td>\n",
       "      <td>131.404295</td>\n",
       "      <td>131.353334</td>\n",
       "      <td>131.457491</td>\n",
       "      <td>131.515058</td>\n",
       "      <td>131.558413</td>\n",
       "      <td>131.699337</td>\n",
       "      <td>131.800236</td>\n",
       "      <td>131.887223</td>\n",
       "      <td>131.890701</td>\n",
       "      <td>131.809109</td>\n",
       "      <td>131.816538</td>\n",
       "      <td>131.763683</td>\n",
       "      <td>131.817357</td>\n",
       "      <td>131.832852</td>\n",
       "      <td>131.792227</td>\n",
       "      <td>131.783384</td>\n",
       "      <td>131.833032</td>\n",
       "      <td>131.857602</td>\n",
       "      <td>131.917310</td>\n",
       "      <td>131.960818</td>\n",
       "      <td>131.978260</td>\n",
       "      <td>131.977338</td>\n",
       "      <td>131.878116</td>\n",
       "      <td>131.812304</td>\n",
       "      <td>131.748835</td>\n",
       "      <td>131.721124</td>\n",
       "      <td>131.682305</td>\n",
       "      <td>131.722233</td>\n",
       "      <td>131.769581</td>\n",
       "      <td>131.767964</td>\n",
       "      <td>131.737525</td>\n",
       "      <td>131.673330</td>\n",
       "      <td>131.634962</td>\n",
       "      <td>131.638935</td>\n",
       "      <td>131.655632</td>\n",
       "      <td>131.705414</td>\n",
       "      <td>131.715931</td>\n",
       "      <td>131.679004</td>\n",
       "      <td>131.645377</td>\n",
       "      <td>131.606033</td>\n",
       "      <td>131.565061</td>\n",
       "      <td>131.552670</td>\n",
       "      <td>131.551118</td>\n",
       "      <td>131.554712</td>\n",
       "      <td>131.552175</td>\n",
       "      <td>131.523347</td>\n",
       "      <td>131.491040</td>\n",
       "      <td>131.459343</td>\n",
       "      <td>131.448712</td>\n",
       "      <td>131.472721</td>\n",
       "      <td>131.478685</td>\n",
       "      <td>131.477563</td>\n",
       "    </tr>\n",
       "    <tr>\n",
       "      <th>std</th>\n",
       "      <td>18.072125</td>\n",
       "      <td>17.967986</td>\n",
       "      <td>17.413474</td>\n",
       "      <td>17.129856</td>\n",
       "      <td>17.081146</td>\n",
       "      <td>17.080149</td>\n",
       "      <td>17.175535</td>\n",
       "      <td>17.248968</td>\n",
       "      <td>17.226890</td>\n",
       "      <td>17.140615</td>\n",
       "      <td>17.108430</td>\n",
       "      <td>17.113698</td>\n",
       "      <td>17.171504</td>\n",
       "      <td>17.306408</td>\n",
       "      <td>17.494873</td>\n",
       "      <td>17.496612</td>\n",
       "      <td>17.471529</td>\n",
       "      <td>17.452350</td>\n",
       "      <td>17.406240</td>\n",
       "      <td>17.331514</td>\n",
       "      <td>17.157436</td>\n",
       "      <td>16.890408</td>\n",
       "      <td>16.578920</td>\n",
       "      <td>16.383344</td>\n",
       "      <td>16.152014</td>\n",
       "      <td>15.979200</td>\n",
       "      <td>15.700599</td>\n",
       "      <td>15.507883</td>\n",
       "      <td>15.266284</td>\n",
       "      <td>14.975708</td>\n",
       "      <td>14.610915</td>\n",
       "      <td>14.432466</td>\n",
       "      <td>14.289004</td>\n",
       "      <td>14.070137</td>\n",
       "      <td>13.777481</td>\n",
       "      <td>13.537180</td>\n",
       "      <td>13.184822</td>\n",
       "      <td>12.828262</td>\n",
       "      <td>12.445226</td>\n",
       "      <td>12.142252</td>\n",
       "      <td>11.793388</td>\n",
       "      <td>11.504943</td>\n",
       "      <td>11.187738</td>\n",
       "      <td>10.879682</td>\n",
       "      <td>10.543458</td>\n",
       "      <td>10.192654</td>\n",
       "      <td>9.791587</td>\n",
       "      <td>9.289027</td>\n",
       "      <td>8.691982</td>\n",
       "      <td>8.105719</td>\n",
       "      <td>7.427681</td>\n",
       "      <td>6.696003</td>\n",
       "      <td>5.862117</td>\n",
       "      <td>72.537042</td>\n",
       "      <td>72.413405</td>\n",
       "      <td>72.045001</td>\n",
       "      <td>71.927486</td>\n",
       "      <td>71.775605</td>\n",
       "      <td>71.823800</td>\n",
       "      <td>71.852545</td>\n",
       "      <td>72.014377</td>\n",
       "      <td>72.284747</td>\n",
       "      <td>72.370823</td>\n",
       "      <td>72.372299</td>\n",
       "      <td>72.409366</td>\n",
       "      <td>72.357744</td>\n",
       "      <td>72.313310</td>\n",
       "      <td>72.179555</td>\n",
       "      <td>72.023012</td>\n",
       "      <td>71.984373</td>\n",
       "      <td>72.089728</td>\n",
       "      <td>72.179050</td>\n",
       "      <td>72.479470</td>\n",
       "      <td>72.680512</td>\n",
       "      <td>72.748956</td>\n",
       "      <td>72.838484</td>\n",
       "      <td>72.792033</td>\n",
       "      <td>72.761923</td>\n",
       "      <td>72.769256</td>\n",
       "      <td>72.823501</td>\n",
       "      <td>72.702226</td>\n",
       "      <td>72.958080</td>\n",
       "      <td>73.128694</td>\n",
       "      <td>73.003434</td>\n",
       "      <td>73.017446</td>\n",
       "      <td>72.922247</td>\n",
       "      <td>72.896744</td>\n",
       "      <td>72.867924</td>\n",
       "      <td>72.856838</td>\n",
       "      <td>72.823597</td>\n",
       "      <td>72.808201</td>\n",
       "      <td>72.775667</td>\n",
       "      <td>72.755926</td>\n",
       "      <td>72.733829</td>\n",
       "      <td>72.720886</td>\n",
       "      <td>72.718243</td>\n",
       "      <td>72.749320</td>\n",
       "      <td>72.750756</td>\n",
       "      <td>72.756389</td>\n",
       "      <td>72.753207</td>\n",
       "      <td>72.722315</td>\n",
       "      <td>72.737019</td>\n",
       "      <td>72.734417</td>\n",
       "      <td>72.741542</td>\n",
       "      <td>72.747899</td>\n",
       "      <td>72.738179</td>\n",
       "    </tr>\n",
       "    <tr>\n",
       "      <th>min</th>\n",
       "      <td>0.000000</td>\n",
       "      <td>0.000000</td>\n",
       "      <td>0.000000</td>\n",
       "      <td>0.000000</td>\n",
       "      <td>0.000000</td>\n",
       "      <td>0.000000</td>\n",
       "      <td>0.000000</td>\n",
       "      <td>0.000000</td>\n",
       "      <td>0.000000</td>\n",
       "      <td>0.000000</td>\n",
       "      <td>0.000000</td>\n",
       "      <td>0.000000</td>\n",
       "      <td>0.000000</td>\n",
       "      <td>0.000000</td>\n",
       "      <td>0.000000</td>\n",
       "      <td>0.000000</td>\n",
       "      <td>0.000000</td>\n",
       "      <td>0.000000</td>\n",
       "      <td>0.000000</td>\n",
       "      <td>0.000000</td>\n",
       "      <td>0.000000</td>\n",
       "      <td>0.000000</td>\n",
       "      <td>0.000000</td>\n",
       "      <td>0.000000</td>\n",
       "      <td>0.000000</td>\n",
       "      <td>0.000000</td>\n",
       "      <td>0.000000</td>\n",
       "      <td>0.000000</td>\n",
       "      <td>0.000000</td>\n",
       "      <td>0.000000</td>\n",
       "      <td>0.000000</td>\n",
       "      <td>0.000000</td>\n",
       "      <td>0.000000</td>\n",
       "      <td>0.000000</td>\n",
       "      <td>0.000000</td>\n",
       "      <td>0.000000</td>\n",
       "      <td>0.000000</td>\n",
       "      <td>0.000000</td>\n",
       "      <td>0.000000</td>\n",
       "      <td>0.000000</td>\n",
       "      <td>0.000000</td>\n",
       "      <td>0.000000</td>\n",
       "      <td>0.000000</td>\n",
       "      <td>0.000000</td>\n",
       "      <td>0.000000</td>\n",
       "      <td>0.000000</td>\n",
       "      <td>0.000000</td>\n",
       "      <td>0.000000</td>\n",
       "      <td>0.000000</td>\n",
       "      <td>0.000000</td>\n",
       "      <td>0.000000</td>\n",
       "      <td>0.000000</td>\n",
       "      <td>0.000000</td>\n",
       "      <td>40.000000</td>\n",
       "      <td>40.000000</td>\n",
       "      <td>40.000000</td>\n",
       "      <td>40.000000</td>\n",
       "      <td>40.000000</td>\n",
       "      <td>40.000000</td>\n",
       "      <td>40.000000</td>\n",
       "      <td>40.000000</td>\n",
       "      <td>40.000000</td>\n",
       "      <td>40.000000</td>\n",
       "      <td>40.000000</td>\n",
       "      <td>40.000000</td>\n",
       "      <td>40.000000</td>\n",
       "      <td>40.000000</td>\n",
       "      <td>40.000000</td>\n",
       "      <td>40.000000</td>\n",
       "      <td>40.000000</td>\n",
       "      <td>40.000000</td>\n",
       "      <td>40.000000</td>\n",
       "      <td>40.000000</td>\n",
       "      <td>40.000000</td>\n",
       "      <td>40.000000</td>\n",
       "      <td>40.000000</td>\n",
       "      <td>40.000000</td>\n",
       "      <td>40.000000</td>\n",
       "      <td>40.000000</td>\n",
       "      <td>40.000000</td>\n",
       "      <td>40.000000</td>\n",
       "      <td>40.000000</td>\n",
       "      <td>40.000000</td>\n",
       "      <td>40.000000</td>\n",
       "      <td>40.000000</td>\n",
       "      <td>40.000000</td>\n",
       "      <td>40.000000</td>\n",
       "      <td>40.000000</td>\n",
       "      <td>40.000000</td>\n",
       "      <td>40.000000</td>\n",
       "      <td>40.000000</td>\n",
       "      <td>40.000000</td>\n",
       "      <td>40.000000</td>\n",
       "      <td>40.000000</td>\n",
       "      <td>40.000000</td>\n",
       "      <td>40.000000</td>\n",
       "      <td>40.000000</td>\n",
       "      <td>40.000000</td>\n",
       "      <td>40.000000</td>\n",
       "      <td>40.000000</td>\n",
       "      <td>40.000000</td>\n",
       "      <td>40.000000</td>\n",
       "      <td>40.000000</td>\n",
       "      <td>40.000000</td>\n",
       "      <td>40.000000</td>\n",
       "      <td>40.000000</td>\n",
       "    </tr>\n",
       "    <tr>\n",
       "      <th>25%</th>\n",
       "      <td>1.000000</td>\n",
       "      <td>1.000000</td>\n",
       "      <td>1.000000</td>\n",
       "      <td>1.000000</td>\n",
       "      <td>1.000000</td>\n",
       "      <td>1.000000</td>\n",
       "      <td>1.000000</td>\n",
       "      <td>1.000000</td>\n",
       "      <td>1.000000</td>\n",
       "      <td>1.000000</td>\n",
       "      <td>0.000000</td>\n",
       "      <td>0.000000</td>\n",
       "      <td>0.000000</td>\n",
       "      <td>0.000000</td>\n",
       "      <td>0.000000</td>\n",
       "      <td>0.000000</td>\n",
       "      <td>0.000000</td>\n",
       "      <td>0.000000</td>\n",
       "      <td>0.000000</td>\n",
       "      <td>0.000000</td>\n",
       "      <td>0.000000</td>\n",
       "      <td>0.000000</td>\n",
       "      <td>0.000000</td>\n",
       "      <td>0.000000</td>\n",
       "      <td>0.000000</td>\n",
       "      <td>0.000000</td>\n",
       "      <td>0.000000</td>\n",
       "      <td>0.000000</td>\n",
       "      <td>0.000000</td>\n",
       "      <td>0.000000</td>\n",
       "      <td>0.000000</td>\n",
       "      <td>0.000000</td>\n",
       "      <td>0.000000</td>\n",
       "      <td>0.000000</td>\n",
       "      <td>0.000000</td>\n",
       "      <td>0.000000</td>\n",
       "      <td>0.000000</td>\n",
       "      <td>0.000000</td>\n",
       "      <td>0.000000</td>\n",
       "      <td>0.000000</td>\n",
       "      <td>0.000000</td>\n",
       "      <td>0.000000</td>\n",
       "      <td>0.000000</td>\n",
       "      <td>0.000000</td>\n",
       "      <td>0.000000</td>\n",
       "      <td>0.000000</td>\n",
       "      <td>0.000000</td>\n",
       "      <td>0.000000</td>\n",
       "      <td>0.000000</td>\n",
       "      <td>0.000000</td>\n",
       "      <td>0.000000</td>\n",
       "      <td>0.000000</td>\n",
       "      <td>0.000000</td>\n",
       "      <td>79.038319</td>\n",
       "      <td>79.085859</td>\n",
       "      <td>79.382370</td>\n",
       "      <td>79.654545</td>\n",
       "      <td>79.786046</td>\n",
       "      <td>79.935364</td>\n",
       "      <td>80.054545</td>\n",
       "      <td>80.083186</td>\n",
       "      <td>80.054545</td>\n",
       "      <td>80.054546</td>\n",
       "      <td>80.054545</td>\n",
       "      <td>80.054545</td>\n",
       "      <td>80.054546</td>\n",
       "      <td>80.136363</td>\n",
       "      <td>80.245454</td>\n",
       "      <td>80.245454</td>\n",
       "      <td>80.323636</td>\n",
       "      <td>80.318182</td>\n",
       "      <td>80.341309</td>\n",
       "      <td>80.318182</td>\n",
       "      <td>80.363636</td>\n",
       "      <td>80.318182</td>\n",
       "      <td>80.308693</td>\n",
       "      <td>80.323636</td>\n",
       "      <td>80.318181</td>\n",
       "      <td>80.323636</td>\n",
       "      <td>80.350732</td>\n",
       "      <td>80.363636</td>\n",
       "      <td>80.323636</td>\n",
       "      <td>80.323636</td>\n",
       "      <td>80.363636</td>\n",
       "      <td>80.363818</td>\n",
       "      <td>80.363636</td>\n",
       "      <td>80.363636</td>\n",
       "      <td>80.363636</td>\n",
       "      <td>80.504544</td>\n",
       "      <td>80.545455</td>\n",
       "      <td>80.708052</td>\n",
       "      <td>80.659380</td>\n",
       "      <td>80.727272</td>\n",
       "      <td>80.713636</td>\n",
       "      <td>80.727272</td>\n",
       "      <td>80.727272</td>\n",
       "      <td>80.727272</td>\n",
       "      <td>80.727272</td>\n",
       "      <td>80.774544</td>\n",
       "      <td>80.774544</td>\n",
       "      <td>80.749999</td>\n",
       "      <td>80.745455</td>\n",
       "      <td>80.727272</td>\n",
       "      <td>80.727272</td>\n",
       "      <td>80.727272</td>\n",
       "      <td>80.727272</td>\n",
       "    </tr>\n",
       "    <tr>\n",
       "      <th>50%</th>\n",
       "      <td>3.000000</td>\n",
       "      <td>3.000000</td>\n",
       "      <td>3.000000</td>\n",
       "      <td>3.000000</td>\n",
       "      <td>3.000000</td>\n",
       "      <td>2.000000</td>\n",
       "      <td>2.000000</td>\n",
       "      <td>2.000000</td>\n",
       "      <td>2.000000</td>\n",
       "      <td>2.000000</td>\n",
       "      <td>2.000000</td>\n",
       "      <td>2.000000</td>\n",
       "      <td>2.000000</td>\n",
       "      <td>1.000000</td>\n",
       "      <td>1.000000</td>\n",
       "      <td>1.000000</td>\n",
       "      <td>1.000000</td>\n",
       "      <td>1.000000</td>\n",
       "      <td>1.000000</td>\n",
       "      <td>1.000000</td>\n",
       "      <td>1.000000</td>\n",
       "      <td>1.000000</td>\n",
       "      <td>0.000000</td>\n",
       "      <td>0.000000</td>\n",
       "      <td>0.000000</td>\n",
       "      <td>0.000000</td>\n",
       "      <td>0.000000</td>\n",
       "      <td>0.000000</td>\n",
       "      <td>0.000000</td>\n",
       "      <td>0.000000</td>\n",
       "      <td>0.000000</td>\n",
       "      <td>0.000000</td>\n",
       "      <td>0.000000</td>\n",
       "      <td>0.000000</td>\n",
       "      <td>0.000000</td>\n",
       "      <td>0.000000</td>\n",
       "      <td>0.000000</td>\n",
       "      <td>0.000000</td>\n",
       "      <td>0.000000</td>\n",
       "      <td>0.000000</td>\n",
       "      <td>0.000000</td>\n",
       "      <td>0.000000</td>\n",
       "      <td>0.000000</td>\n",
       "      <td>0.000000</td>\n",
       "      <td>0.000000</td>\n",
       "      <td>0.000000</td>\n",
       "      <td>0.000000</td>\n",
       "      <td>0.000000</td>\n",
       "      <td>0.000000</td>\n",
       "      <td>0.000000</td>\n",
       "      <td>0.000000</td>\n",
       "      <td>0.000000</td>\n",
       "      <td>0.000000</td>\n",
       "      <td>113.953165</td>\n",
       "      <td>114.074428</td>\n",
       "      <td>114.081818</td>\n",
       "      <td>114.140266</td>\n",
       "      <td>114.138181</td>\n",
       "      <td>114.149747</td>\n",
       "      <td>114.139342</td>\n",
       "      <td>114.318182</td>\n",
       "      <td>114.138181</td>\n",
       "      <td>114.039928</td>\n",
       "      <td>113.990909</td>\n",
       "      <td>113.890909</td>\n",
       "      <td>113.890908</td>\n",
       "      <td>113.897136</td>\n",
       "      <td>113.863637</td>\n",
       "      <td>113.906952</td>\n",
       "      <td>113.990909</td>\n",
       "      <td>114.001393</td>\n",
       "      <td>113.990909</td>\n",
       "      <td>113.890909</td>\n",
       "      <td>113.890909</td>\n",
       "      <td>113.963636</td>\n",
       "      <td>113.919647</td>\n",
       "      <td>113.818183</td>\n",
       "      <td>113.790251</td>\n",
       "      <td>113.646084</td>\n",
       "      <td>113.500000</td>\n",
       "      <td>113.272728</td>\n",
       "      <td>113.194351</td>\n",
       "      <td>113.243921</td>\n",
       "      <td>113.090910</td>\n",
       "      <td>113.015152</td>\n",
       "      <td>112.954545</td>\n",
       "      <td>112.954545</td>\n",
       "      <td>112.954545</td>\n",
       "      <td>112.954545</td>\n",
       "      <td>113.061818</td>\n",
       "      <td>112.996163</td>\n",
       "      <td>112.981494</td>\n",
       "      <td>112.954545</td>\n",
       "      <td>112.909092</td>\n",
       "      <td>112.848484</td>\n",
       "      <td>112.848484</td>\n",
       "      <td>112.781939</td>\n",
       "      <td>112.772728</td>\n",
       "      <td>112.727272</td>\n",
       "      <td>112.696364</td>\n",
       "      <td>112.653031</td>\n",
       "      <td>112.553692</td>\n",
       "      <td>112.537287</td>\n",
       "      <td>112.558464</td>\n",
       "      <td>112.595041</td>\n",
       "      <td>112.595041</td>\n",
       "    </tr>\n",
       "    <tr>\n",
       "      <th>75%</th>\n",
       "      <td>10.000000</td>\n",
       "      <td>9.000000</td>\n",
       "      <td>9.000000</td>\n",
       "      <td>9.000000</td>\n",
       "      <td>9.000000</td>\n",
       "      <td>8.000000</td>\n",
       "      <td>8.000000</td>\n",
       "      <td>7.000000</td>\n",
       "      <td>7.000000</td>\n",
       "      <td>7.000000</td>\n",
       "      <td>6.000000</td>\n",
       "      <td>6.000000</td>\n",
       "      <td>6.000000</td>\n",
       "      <td>6.000000</td>\n",
       "      <td>5.000000</td>\n",
       "      <td>5.000000</td>\n",
       "      <td>5.000000</td>\n",
       "      <td>4.000000</td>\n",
       "      <td>4.000000</td>\n",
       "      <td>4.000000</td>\n",
       "      <td>4.000000</td>\n",
       "      <td>3.000000</td>\n",
       "      <td>3.000000</td>\n",
       "      <td>3.000000</td>\n",
       "      <td>3.000000</td>\n",
       "      <td>2.000000</td>\n",
       "      <td>2.000000</td>\n",
       "      <td>2.000000</td>\n",
       "      <td>2.000000</td>\n",
       "      <td>2.000000</td>\n",
       "      <td>2.000000</td>\n",
       "      <td>1.000000</td>\n",
       "      <td>1.000000</td>\n",
       "      <td>1.000000</td>\n",
       "      <td>1.000000</td>\n",
       "      <td>1.000000</td>\n",
       "      <td>1.000000</td>\n",
       "      <td>1.000000</td>\n",
       "      <td>1.000000</td>\n",
       "      <td>0.000000</td>\n",
       "      <td>0.000000</td>\n",
       "      <td>0.000000</td>\n",
       "      <td>0.000000</td>\n",
       "      <td>0.000000</td>\n",
       "      <td>0.000000</td>\n",
       "      <td>0.000000</td>\n",
       "      <td>0.000000</td>\n",
       "      <td>0.000000</td>\n",
       "      <td>0.000000</td>\n",
       "      <td>0.000000</td>\n",
       "      <td>0.000000</td>\n",
       "      <td>0.000000</td>\n",
       "      <td>0.000000</td>\n",
       "      <td>165.453409</td>\n",
       "      <td>165.369943</td>\n",
       "      <td>165.295967</td>\n",
       "      <td>165.306819</td>\n",
       "      <td>165.253038</td>\n",
       "      <td>165.147970</td>\n",
       "      <td>165.412273</td>\n",
       "      <td>165.442067</td>\n",
       "      <td>165.508177</td>\n",
       "      <td>165.594923</td>\n",
       "      <td>165.336737</td>\n",
       "      <td>165.293655</td>\n",
       "      <td>165.197727</td>\n",
       "      <td>165.127272</td>\n",
       "      <td>165.129761</td>\n",
       "      <td>165.101685</td>\n",
       "      <td>165.090910</td>\n",
       "      <td>165.090910</td>\n",
       "      <td>165.106591</td>\n",
       "      <td>165.351134</td>\n",
       "      <td>165.454545</td>\n",
       "      <td>165.236364</td>\n",
       "      <td>165.090910</td>\n",
       "      <td>165.090910</td>\n",
       "      <td>165.054544</td>\n",
       "      <td>164.900000</td>\n",
       "      <td>164.454546</td>\n",
       "      <td>164.459092</td>\n",
       "      <td>164.459092</td>\n",
       "      <td>164.739054</td>\n",
       "      <td>164.900000</td>\n",
       "      <td>164.454546</td>\n",
       "      <td>164.354545</td>\n",
       "      <td>164.245453</td>\n",
       "      <td>164.311363</td>\n",
       "      <td>164.245453</td>\n",
       "      <td>164.450000</td>\n",
       "      <td>164.354545</td>\n",
       "      <td>164.273274</td>\n",
       "      <td>164.116032</td>\n",
       "      <td>163.963637</td>\n",
       "      <td>163.923291</td>\n",
       "      <td>163.954545</td>\n",
       "      <td>163.909090</td>\n",
       "      <td>163.909090</td>\n",
       "      <td>163.909090</td>\n",
       "      <td>163.909090</td>\n",
       "      <td>163.743326</td>\n",
       "      <td>163.672726</td>\n",
       "      <td>163.672726</td>\n",
       "      <td>163.672726</td>\n",
       "      <td>163.672726</td>\n",
       "      <td>163.793749</td>\n",
       "    </tr>\n",
       "    <tr>\n",
       "      <th>max</th>\n",
       "      <td>346.000000</td>\n",
       "      <td>353.000000</td>\n",
       "      <td>352.000000</td>\n",
       "      <td>352.000000</td>\n",
       "      <td>352.000000</td>\n",
       "      <td>352.000000</td>\n",
       "      <td>352.000000</td>\n",
       "      <td>352.000000</td>\n",
       "      <td>352.000000</td>\n",
       "      <td>352.000000</td>\n",
       "      <td>352.000000</td>\n",
       "      <td>352.000000</td>\n",
       "      <td>352.000000</td>\n",
       "      <td>352.000000</td>\n",
       "      <td>352.000000</td>\n",
       "      <td>352.000000</td>\n",
       "      <td>352.000000</td>\n",
       "      <td>352.000000</td>\n",
       "      <td>352.000000</td>\n",
       "      <td>352.000000</td>\n",
       "      <td>352.000000</td>\n",
       "      <td>352.000000</td>\n",
       "      <td>352.000000</td>\n",
       "      <td>352.000000</td>\n",
       "      <td>351.000000</td>\n",
       "      <td>351.000000</td>\n",
       "      <td>351.000000</td>\n",
       "      <td>351.000000</td>\n",
       "      <td>351.000000</td>\n",
       "      <td>351.000000</td>\n",
       "      <td>211.000000</td>\n",
       "      <td>216.000000</td>\n",
       "      <td>217.000000</td>\n",
       "      <td>210.000000</td>\n",
       "      <td>201.000000</td>\n",
       "      <td>194.000000</td>\n",
       "      <td>191.000000</td>\n",
       "      <td>191.000000</td>\n",
       "      <td>192.000000</td>\n",
       "      <td>192.000000</td>\n",
       "      <td>174.000000</td>\n",
       "      <td>174.000000</td>\n",
       "      <td>171.000000</td>\n",
       "      <td>171.000000</td>\n",
       "      <td>164.000000</td>\n",
       "      <td>161.000000</td>\n",
       "      <td>153.000000</td>\n",
       "      <td>151.000000</td>\n",
       "      <td>151.000000</td>\n",
       "      <td>146.000000</td>\n",
       "      <td>143.000000</td>\n",
       "      <td>137.000000</td>\n",
       "      <td>103.000000</td>\n",
       "      <td>713.005287</td>\n",
       "      <td>713.005287</td>\n",
       "      <td>713.005287</td>\n",
       "      <td>713.005287</td>\n",
       "      <td>713.005287</td>\n",
       "      <td>704.227275</td>\n",
       "      <td>704.227275</td>\n",
       "      <td>704.227275</td>\n",
       "      <td>799.636364</td>\n",
       "      <td>799.636364</td>\n",
       "      <td>799.636364</td>\n",
       "      <td>799.636364</td>\n",
       "      <td>799.636364</td>\n",
       "      <td>799.636364</td>\n",
       "      <td>799.636364</td>\n",
       "      <td>799.636364</td>\n",
       "      <td>799.636364</td>\n",
       "      <td>799.636364</td>\n",
       "      <td>799.636364</td>\n",
       "      <td>971.136365</td>\n",
       "      <td>971.136365</td>\n",
       "      <td>971.136365</td>\n",
       "      <td>971.136365</td>\n",
       "      <td>971.136365</td>\n",
       "      <td>971.136365</td>\n",
       "      <td>971.136365</td>\n",
       "      <td>971.136365</td>\n",
       "      <td>944.163630</td>\n",
       "      <td>944.163630</td>\n",
       "      <td>1316.500000</td>\n",
       "      <td>1316.500000</td>\n",
       "      <td>1316.500000</td>\n",
       "      <td>1316.500000</td>\n",
       "      <td>1316.500000</td>\n",
       "      <td>1316.500000</td>\n",
       "      <td>1316.500000</td>\n",
       "      <td>1316.500000</td>\n",
       "      <td>1316.500000</td>\n",
       "      <td>1316.500000</td>\n",
       "      <td>1316.500000</td>\n",
       "      <td>1316.500000</td>\n",
       "      <td>1316.500000</td>\n",
       "      <td>1316.500000</td>\n",
       "      <td>1316.500000</td>\n",
       "      <td>1316.500000</td>\n",
       "      <td>1316.500000</td>\n",
       "      <td>1316.500000</td>\n",
       "      <td>1316.500000</td>\n",
       "      <td>1316.500000</td>\n",
       "      <td>1316.500000</td>\n",
       "      <td>1316.500000</td>\n",
       "      <td>1316.500000</td>\n",
       "      <td>1316.500000</td>\n",
       "    </tr>\n",
       "  </tbody>\n",
       "</table>\n",
       "</div>"
      ],
      "text/plain": [
       "               NHab           S1H           S2H           S3H           S4H  \\\n",
       "count  47630.000000  47630.000000  47630.000000  47630.000000  47630.000000   \n",
       "mean       9.775667      9.622864      9.531031      9.415410      9.175331   \n",
       "std       18.072125     17.967986     17.413474     17.129856     17.081146   \n",
       "min        0.000000      0.000000      0.000000      0.000000      0.000000   \n",
       "25%        1.000000      1.000000      1.000000      1.000000      1.000000   \n",
       "50%        3.000000      3.000000      3.000000      3.000000      3.000000   \n",
       "75%       10.000000      9.000000      9.000000      9.000000      9.000000   \n",
       "max      346.000000    353.000000    352.000000    352.000000    352.000000   \n",
       "\n",
       "                S5H           S6H           S7H           S8H           S9H  \\\n",
       "count  47630.000000  47630.000000  47630.000000  47630.000000  47630.000000   \n",
       "mean       8.914886      8.677724      8.442326      8.204976      7.979656   \n",
       "std       17.080149     17.175535     17.248968     17.226890     17.140615   \n",
       "min        0.000000      0.000000      0.000000      0.000000      0.000000   \n",
       "25%        1.000000      1.000000      1.000000      1.000000      1.000000   \n",
       "50%        2.000000      2.000000      2.000000      2.000000      2.000000   \n",
       "75%        8.000000      8.000000      7.000000      7.000000      7.000000   \n",
       "max      352.000000    352.000000    352.000000    352.000000    352.000000   \n",
       "\n",
       "               S10H          S11H          S12H          S13H          S14H  \\\n",
       "count  47630.000000  47630.000000  47630.000000  47630.000000  47630.000000   \n",
       "mean       7.777745      7.591644      7.422108      7.292463      7.171426   \n",
       "std       17.108430     17.113698     17.171504     17.306408     17.494873   \n",
       "min        0.000000      0.000000      0.000000      0.000000      0.000000   \n",
       "25%        0.000000      0.000000      0.000000      0.000000      0.000000   \n",
       "50%        2.000000      2.000000      2.000000      1.000000      1.000000   \n",
       "75%        6.000000      6.000000      6.000000      6.000000      5.000000   \n",
       "max      352.000000    352.000000    352.000000    352.000000    352.000000   \n",
       "\n",
       "               S15H          S16H          S17H          S18H          S19H  \\\n",
       "count  47630.000000  47630.000000  47630.000000  47630.000000  47630.000000   \n",
       "mean       7.015578      6.866660      6.709616      6.518098      6.334180   \n",
       "std       17.496612     17.471529     17.452350     17.406240     17.331514   \n",
       "min        0.000000      0.000000      0.000000      0.000000      0.000000   \n",
       "25%        0.000000      0.000000      0.000000      0.000000      0.000000   \n",
       "50%        1.000000      1.000000      1.000000      1.000000      1.000000   \n",
       "75%        5.000000      5.000000      4.000000      4.000000      4.000000   \n",
       "max      352.000000    352.000000    352.000000    352.000000    352.000000   \n",
       "\n",
       "               S20H          S21H          S22H          S23H          S24H  \\\n",
       "count  47630.000000  47630.000000  47630.000000  47630.000000  47630.000000   \n",
       "mean       6.149633      5.935335      5.722066      5.540794      5.365421   \n",
       "std       17.157436     16.890408     16.578920     16.383344     16.152014   \n",
       "min        0.000000      0.000000      0.000000      0.000000      0.000000   \n",
       "25%        0.000000      0.000000      0.000000      0.000000      0.000000   \n",
       "50%        1.000000      1.000000      0.000000      0.000000      0.000000   \n",
       "75%        4.000000      3.000000      3.000000      3.000000      3.000000   \n",
       "max      352.000000    352.000000    352.000000    352.000000    351.000000   \n",
       "\n",
       "               S25H          S26H          S27H          S28H          S29H  \\\n",
       "count  47630.000000  47630.000000  47630.000000  47630.000000  47630.000000   \n",
       "mean       5.187382      5.001638      4.843859      4.676716      4.506571   \n",
       "std       15.979200     15.700599     15.507883     15.266284     14.975708   \n",
       "min        0.000000      0.000000      0.000000      0.000000      0.000000   \n",
       "25%        0.000000      0.000000      0.000000      0.000000      0.000000   \n",
       "50%        0.000000      0.000000      0.000000      0.000000      0.000000   \n",
       "75%        2.000000      2.000000      2.000000      2.000000      2.000000   \n",
       "max      351.000000    351.000000    351.000000    351.000000    351.000000   \n",
       "\n",
       "               S30H          S31H          S32H          S33H          S34H  \\\n",
       "count  47630.000000  47630.000000  47630.000000  47630.000000  47630.000000   \n",
       "mean       4.322402      4.200189      4.076422      3.940101      3.808041   \n",
       "std       14.610915     14.432466     14.289004     14.070137     13.777481   \n",
       "min        0.000000      0.000000      0.000000      0.000000      0.000000   \n",
       "25%        0.000000      0.000000      0.000000      0.000000      0.000000   \n",
       "50%        0.000000      0.000000      0.000000      0.000000      0.000000   \n",
       "75%        2.000000      1.000000      1.000000      1.000000      1.000000   \n",
       "max      211.000000    216.000000    217.000000    210.000000    201.000000   \n",
       "\n",
       "               S35H          S36H          S37H          S38H          S39H  \\\n",
       "count  47630.000000  47630.000000  47630.000000  47630.000000  47630.000000   \n",
       "mean       3.679467      3.536679      3.408104      3.278837      3.164539   \n",
       "std       13.537180     13.184822     12.828262     12.445226     12.142252   \n",
       "min        0.000000      0.000000      0.000000      0.000000      0.000000   \n",
       "25%        0.000000      0.000000      0.000000      0.000000      0.000000   \n",
       "50%        0.000000      0.000000      0.000000      0.000000      0.000000   \n",
       "75%        1.000000      1.000000      1.000000      1.000000      0.000000   \n",
       "max      194.000000    191.000000    191.000000    192.000000    192.000000   \n",
       "\n",
       "               S40H          S41H          S42H          S43H          S44H  \\\n",
       "count  47630.000000  47630.000000  47630.000000  47630.000000  47630.000000   \n",
       "mean       3.041256      2.937980      2.826013      2.717363      2.600525   \n",
       "std       11.793388     11.504943     11.187738     10.879682     10.543458   \n",
       "min        0.000000      0.000000      0.000000      0.000000      0.000000   \n",
       "25%        0.000000      0.000000      0.000000      0.000000      0.000000   \n",
       "50%        0.000000      0.000000      0.000000      0.000000      0.000000   \n",
       "75%        0.000000      0.000000      0.000000      0.000000      0.000000   \n",
       "max      174.000000    174.000000    171.000000    171.000000    164.000000   \n",
       "\n",
       "               S45H          S46H          S47H          S48H          S49H  \\\n",
       "count  47630.000000  47630.000000  47630.000000  47630.000000  47630.000000   \n",
       "mean       2.483015      2.367290      2.231787      2.085828      1.936637   \n",
       "std       10.192654      9.791587      9.289027      8.691982      8.105719   \n",
       "min        0.000000      0.000000      0.000000      0.000000      0.000000   \n",
       "25%        0.000000      0.000000      0.000000      0.000000      0.000000   \n",
       "50%        0.000000      0.000000      0.000000      0.000000      0.000000   \n",
       "75%        0.000000      0.000000      0.000000      0.000000      0.000000   \n",
       "max      161.000000    153.000000    151.000000    151.000000    146.000000   \n",
       "\n",
       "               S50H          S51H          S52H       PreuHab            S1  \\\n",
       "count  47630.000000  47630.000000  47630.000000  47630.000000  47630.000000   \n",
       "mean       1.752908      1.550535      1.324522    131.448197    131.404295   \n",
       "std        7.427681      6.696003      5.862117     72.537042     72.413405   \n",
       "min        0.000000      0.000000      0.000000     40.000000     40.000000   \n",
       "25%        0.000000      0.000000      0.000000     79.038319     79.085859   \n",
       "50%        0.000000      0.000000      0.000000    113.953165    114.074428   \n",
       "75%        0.000000      0.000000      0.000000    165.453409    165.369943   \n",
       "max      143.000000    137.000000    103.000000    713.005287    713.005287   \n",
       "\n",
       "                 S2            S3            S4            S5            S6  \\\n",
       "count  47630.000000  47630.000000  47630.000000  47630.000000  47630.000000   \n",
       "mean     131.353334    131.457491    131.515058    131.558413    131.699337   \n",
       "std       72.045001     71.927486     71.775605     71.823800     71.852545   \n",
       "min       40.000000     40.000000     40.000000     40.000000     40.000000   \n",
       "25%       79.382370     79.654545     79.786046     79.935364     80.054545   \n",
       "50%      114.081818    114.140266    114.138181    114.149747    114.139342   \n",
       "75%      165.295967    165.306819    165.253038    165.147970    165.412273   \n",
       "max      713.005287    713.005287    713.005287    704.227275    704.227275   \n",
       "\n",
       "                 S7            S8            S9           S10           S11  \\\n",
       "count  47630.000000  47630.000000  47630.000000  47630.000000  47630.000000   \n",
       "mean     131.800236    131.887223    131.890701    131.809109    131.816538   \n",
       "std       72.014377     72.284747     72.370823     72.372299     72.409366   \n",
       "min       40.000000     40.000000     40.000000     40.000000     40.000000   \n",
       "25%       80.083186     80.054545     80.054546     80.054545     80.054545   \n",
       "50%      114.318182    114.138181    114.039928    113.990909    113.890909   \n",
       "75%      165.442067    165.508177    165.594923    165.336737    165.293655   \n",
       "max      704.227275    799.636364    799.636364    799.636364    799.636364   \n",
       "\n",
       "                S12           S13           S14           S15           S16  \\\n",
       "count  47630.000000  47630.000000  47630.000000  47630.000000  47630.000000   \n",
       "mean     131.763683    131.817357    131.832852    131.792227    131.783384   \n",
       "std       72.357744     72.313310     72.179555     72.023012     71.984373   \n",
       "min       40.000000     40.000000     40.000000     40.000000     40.000000   \n",
       "25%       80.054546     80.136363     80.245454     80.245454     80.323636   \n",
       "50%      113.890908    113.897136    113.863637    113.906952    113.990909   \n",
       "75%      165.197727    165.127272    165.129761    165.101685    165.090910   \n",
       "max      799.636364    799.636364    799.636364    799.636364    799.636364   \n",
       "\n",
       "                S17           S18           S19           S20           S21  \\\n",
       "count  47630.000000  47630.000000  47630.000000  47630.000000  47630.000000   \n",
       "mean     131.833032    131.857602    131.917310    131.960818    131.978260   \n",
       "std       72.089728     72.179050     72.479470     72.680512     72.748956   \n",
       "min       40.000000     40.000000     40.000000     40.000000     40.000000   \n",
       "25%       80.318182     80.341309     80.318182     80.363636     80.318182   \n",
       "50%      114.001393    113.990909    113.890909    113.890909    113.963636   \n",
       "75%      165.090910    165.106591    165.351134    165.454545    165.236364   \n",
       "max      799.636364    799.636364    971.136365    971.136365    971.136365   \n",
       "\n",
       "                S22           S23           S24           S25           S26  \\\n",
       "count  47630.000000  47630.000000  47630.000000  47630.000000  47630.000000   \n",
       "mean     131.977338    131.878116    131.812304    131.748835    131.721124   \n",
       "std       72.838484     72.792033     72.761923     72.769256     72.823501   \n",
       "min       40.000000     40.000000     40.000000     40.000000     40.000000   \n",
       "25%       80.308693     80.323636     80.318181     80.323636     80.350732   \n",
       "50%      113.919647    113.818183    113.790251    113.646084    113.500000   \n",
       "75%      165.090910    165.090910    165.054544    164.900000    164.454546   \n",
       "max      971.136365    971.136365    971.136365    971.136365    971.136365   \n",
       "\n",
       "                S27           S28           S29           S30           S31  \\\n",
       "count  47630.000000  47630.000000  47630.000000  47630.000000  47630.000000   \n",
       "mean     131.682305    131.722233    131.769581    131.767964    131.737525   \n",
       "std       72.702226     72.958080     73.128694     73.003434     73.017446   \n",
       "min       40.000000     40.000000     40.000000     40.000000     40.000000   \n",
       "25%       80.363636     80.323636     80.323636     80.363636     80.363818   \n",
       "50%      113.272728    113.194351    113.243921    113.090910    113.015152   \n",
       "75%      164.459092    164.459092    164.739054    164.900000    164.454546   \n",
       "max      944.163630    944.163630   1316.500000   1316.500000   1316.500000   \n",
       "\n",
       "                S32           S33           S34           S35           S36  \\\n",
       "count  47630.000000  47630.000000  47630.000000  47630.000000  47630.000000   \n",
       "mean     131.673330    131.634962    131.638935    131.655632    131.705414   \n",
       "std       72.922247     72.896744     72.867924     72.856838     72.823597   \n",
       "min       40.000000     40.000000     40.000000     40.000000     40.000000   \n",
       "25%       80.363636     80.363636     80.363636     80.504544     80.545455   \n",
       "50%      112.954545    112.954545    112.954545    112.954545    113.061818   \n",
       "75%      164.354545    164.245453    164.311363    164.245453    164.450000   \n",
       "max     1316.500000   1316.500000   1316.500000   1316.500000   1316.500000   \n",
       "\n",
       "                S37           S38           S39           S40           S41  \\\n",
       "count  47630.000000  47630.000000  47630.000000  47630.000000  47630.000000   \n",
       "mean     131.715931    131.679004    131.645377    131.606033    131.565061   \n",
       "std       72.808201     72.775667     72.755926     72.733829     72.720886   \n",
       "min       40.000000     40.000000     40.000000     40.000000     40.000000   \n",
       "25%       80.708052     80.659380     80.727272     80.713636     80.727272   \n",
       "50%      112.996163    112.981494    112.954545    112.909092    112.848484   \n",
       "75%      164.354545    164.273274    164.116032    163.963637    163.923291   \n",
       "max     1316.500000   1316.500000   1316.500000   1316.500000   1316.500000   \n",
       "\n",
       "                S42           S43           S44           S45           S46  \\\n",
       "count  47630.000000  47630.000000  47630.000000  47630.000000  47630.000000   \n",
       "mean     131.552670    131.551118    131.554712    131.552175    131.523347   \n",
       "std       72.718243     72.749320     72.750756     72.756389     72.753207   \n",
       "min       40.000000     40.000000     40.000000     40.000000     40.000000   \n",
       "25%       80.727272     80.727272     80.727272     80.774544     80.774544   \n",
       "50%      112.848484    112.781939    112.772728    112.727272    112.696364   \n",
       "75%      163.954545    163.909090    163.909090    163.909090    163.909090   \n",
       "max     1316.500000   1316.500000   1316.500000   1316.500000   1316.500000   \n",
       "\n",
       "                S47           S48           S49           S50           S51  \\\n",
       "count  47630.000000  47630.000000  47630.000000  47630.000000  47630.000000   \n",
       "mean     131.491040    131.459343    131.448712    131.472721    131.478685   \n",
       "std       72.722315     72.737019     72.734417     72.741542     72.747899   \n",
       "min       40.000000     40.000000     40.000000     40.000000     40.000000   \n",
       "25%       80.749999     80.745455     80.727272     80.727272     80.727272   \n",
       "50%      112.653031    112.553692    112.537287    112.558464    112.595041   \n",
       "75%      163.743326    163.672726    163.672726    163.672726    163.672726   \n",
       "max     1316.500000   1316.500000   1316.500000   1316.500000   1316.500000   \n",
       "\n",
       "                S52  \n",
       "count  47630.000000  \n",
       "mean     131.477563  \n",
       "std       72.738179  \n",
       "min       40.000000  \n",
       "25%       80.727272  \n",
       "50%      112.595041  \n",
       "75%      163.793749  \n",
       "max     1316.500000  "
      ]
     },
     "execution_count": 75,
     "metadata": {},
     "output_type": "execute_result"
    }
   ],
   "source": [
    "df1.describe()"
   ]
  },
  {
   "cell_type": "markdown",
   "metadata": {},
   "source": [
    "El preu mig d’una habitació és de 136 euros, mentre que els mínims i màxims coincideixen amb el punt de tall establert en el preprocessament. \n",
    "Hi ha una gran distància entre el preu del percentil 75 i el màxim, la majoria de preus ronden entre els 80 i els 175 euros aproximadament. Més enllà dels 300 euros són preus poc freqüents com es veu en el diagrama de caixa.\n"
   ]
  },
  {
   "cell_type": "markdown",
   "metadata": {},
   "source": [
    "#### Anàlisi bivariat"
   ]
  },
  {
   "cell_type": "code",
   "execution_count": 76,
   "metadata": {
    "ExecuteTime": {
     "end_time": "2019-12-19T10:47:09.940117Z",
     "start_time": "2019-12-19T10:47:09.116612Z"
    },
    "scrolled": true
   },
   "outputs": [
    {
     "data": {
      "text/plain": [
       "Text(0.5, 1.0, \"Nombre d'habitacions segons el preu\")"
      ]
     },
     "execution_count": 76,
     "metadata": {},
     "output_type": "execute_result"
    },
    {
     "data": {
      "text/plain": [
       "Text(0.5, 0, 'Preu')"
      ]
     },
     "execution_count": 76,
     "metadata": {},
     "output_type": "execute_result"
    },
    {
     "data": {
      "text/plain": [
       "Text(0, 0.5, 'Nº habitacions reservades')"
      ]
     },
     "execution_count": 76,
     "metadata": {},
     "output_type": "execute_result"
    },
    {
     "data": {
      "text/plain": [
       "<matplotlib.collections.PathCollection at 0x25ac1874e10>"
      ]
     },
     "execution_count": 76,
     "metadata": {},
     "output_type": "execute_result"
    },
    {
     "data": {
      "image/png": "[encoded data removed]",
      "text/plain": [
       "<Figure size 432x288 with 1 Axes>"
      ]
     },
     "metadata": {},
     "output_type": "display_data"
    }
   ],
   "source": [
    "plt.title(\"Nombre d'habitacions segons el preu\")\n",
    "plt.xlabel(\"Preu\")\n",
    "plt.ylabel(\"Nº habitacions reservades\")\n",
    "plt.scatter(df1['PreuHab'], df1['NHab'])"
   ]
  },
  {
   "cell_type": "code",
   "execution_count": 77,
   "metadata": {
    "ExecuteTime": {
     "end_time": "2019-12-19T10:47:28.289727Z",
     "start_time": "2019-12-19T10:47:28.273730Z"
    }
   },
   "outputs": [
    {
     "data": {
      "text/plain": [
       "-0.1504576317509891"
      ]
     },
     "execution_count": 77,
     "metadata": {},
     "output_type": "execute_result"
    }
   ],
   "source": [
    "np.corrcoef(df1['PreuHab'], df1['NHab'])[1][0]"
   ]
  },
  {
   "cell_type": "code",
   "execution_count": 78,
   "metadata": {
    "ExecuteTime": {
     "end_time": "2019-12-19T10:47:30.123213Z",
     "start_time": "2019-12-19T10:47:30.111218Z"
    },
    "scrolled": true
   },
   "outputs": [
    {
     "name": "stdout",
     "output_type": "stream",
     "text": [
      "La correlació entre les dues variables és -0.1505\n"
     ]
    }
   ],
   "source": [
    "print(\"La correlació entre les dues variables és\", round(np.corrcoef(df1['PreuHab'], df1['NHab'])[1][0], 4))"
   ]
  },
  {
   "cell_type": "markdown",
   "metadata": {},
   "source": [
    "Lo qual indica que, lleugerament, com més alt és el número d’habitacions, més baix és el preu. Té cert sentit, ja que una reserva gran d’habitacions pot comportar descomptes."
   ]
  },
  {
   "cell_type": "code",
   "execution_count": 79,
   "metadata": {
    "ExecuteTime": {
     "end_time": "2020-01-06T11:38:45.077054Z",
     "start_time": "2020-01-06T11:38:35.611705Z"
    }
   },
   "outputs": [],
   "source": [
    "dfextNH = df1[df1['NHab']>46]\n",
    "dfextP = df1[df1['PreuHab']>272]\n",
    "dfextNH.to_csv(mainpath + 'dfextNH.csv', header = True, index = None)\n",
    "dfextP.to_csv(mainpath + 'dfextP.csv', header = True, index = None)\n",
    "dfcsv = df1.to_csv(mainpath + 'dfFE.csv', header = True, index = None)"
   ]
  },
  {
   "cell_type": "code",
   "execution_count": 80,
   "metadata": {
    "ExecuteTime": {
     "end_time": "2019-12-31T17:59:10.058750Z",
     "start_time": "2019-12-31T17:59:09.922196Z"
    }
   },
   "outputs": [
    {
     "data": {
      "text/html": [
       "<div>\n",
       "<style scoped>\n",
       "    .dataframe tbody tr th:only-of-type {\n",
       "        vertical-align: middle;\n",
       "    }\n",
       "\n",
       "    .dataframe tbody tr th {\n",
       "        vertical-align: top;\n",
       "    }\n",
       "\n",
       "    .dataframe thead th {\n",
       "        text-align: right;\n",
       "    }\n",
       "</style>\n",
       "<table border=\"1\" class=\"dataframe\">\n",
       "  <thead>\n",
       "    <tr style=\"text-align: right;\">\n",
       "      <th></th>\n",
       "      <th>idhotel</th>\n",
       "      <th>fechaocupacion</th>\n",
       "      <th>idcliente</th>\n",
       "      <th>idtipohab</th>\n",
       "      <th>idregimen</th>\n",
       "      <th>idsegmento</th>\n",
       "      <th>id_canal</th>\n",
       "      <th>idpais_cliente</th>\n",
       "      <th>NHab</th>\n",
       "      <th>S1H</th>\n",
       "      <th>S2H</th>\n",
       "      <th>S3H</th>\n",
       "      <th>S4H</th>\n",
       "      <th>S5H</th>\n",
       "      <th>S6H</th>\n",
       "      <th>S7H</th>\n",
       "      <th>S8H</th>\n",
       "      <th>S9H</th>\n",
       "      <th>S10H</th>\n",
       "      <th>S11H</th>\n",
       "      <th>S12H</th>\n",
       "      <th>S13H</th>\n",
       "      <th>S14H</th>\n",
       "      <th>S15H</th>\n",
       "      <th>S16H</th>\n",
       "      <th>S17H</th>\n",
       "      <th>S18H</th>\n",
       "      <th>S19H</th>\n",
       "      <th>S20H</th>\n",
       "      <th>S21H</th>\n",
       "      <th>S22H</th>\n",
       "      <th>S23H</th>\n",
       "      <th>S24H</th>\n",
       "      <th>S25H</th>\n",
       "      <th>S26H</th>\n",
       "      <th>S27H</th>\n",
       "      <th>S28H</th>\n",
       "      <th>S29H</th>\n",
       "      <th>S30H</th>\n",
       "      <th>S31H</th>\n",
       "      <th>S32H</th>\n",
       "      <th>S33H</th>\n",
       "      <th>S34H</th>\n",
       "      <th>S35H</th>\n",
       "      <th>S36H</th>\n",
       "      <th>S37H</th>\n",
       "      <th>S38H</th>\n",
       "      <th>S39H</th>\n",
       "      <th>S40H</th>\n",
       "      <th>S41H</th>\n",
       "      <th>S42H</th>\n",
       "      <th>S43H</th>\n",
       "      <th>S44H</th>\n",
       "      <th>S45H</th>\n",
       "      <th>S46H</th>\n",
       "      <th>S47H</th>\n",
       "      <th>S48H</th>\n",
       "      <th>S49H</th>\n",
       "      <th>S50H</th>\n",
       "      <th>S51H</th>\n",
       "      <th>S52H</th>\n",
       "      <th>PreuHab</th>\n",
       "      <th>S1</th>\n",
       "      <th>S2</th>\n",
       "      <th>S3</th>\n",
       "      <th>S4</th>\n",
       "      <th>S5</th>\n",
       "      <th>S6</th>\n",
       "      <th>S7</th>\n",
       "      <th>S8</th>\n",
       "      <th>S9</th>\n",
       "      <th>S10</th>\n",
       "      <th>S11</th>\n",
       "      <th>S12</th>\n",
       "      <th>S13</th>\n",
       "      <th>S14</th>\n",
       "      <th>S15</th>\n",
       "      <th>S16</th>\n",
       "      <th>S17</th>\n",
       "      <th>S18</th>\n",
       "      <th>S19</th>\n",
       "      <th>S20</th>\n",
       "      <th>S21</th>\n",
       "      <th>S22</th>\n",
       "      <th>S23</th>\n",
       "      <th>S24</th>\n",
       "      <th>S25</th>\n",
       "      <th>S26</th>\n",
       "      <th>S27</th>\n",
       "      <th>S28</th>\n",
       "      <th>S29</th>\n",
       "      <th>S30</th>\n",
       "      <th>S31</th>\n",
       "      <th>S32</th>\n",
       "      <th>S33</th>\n",
       "      <th>S34</th>\n",
       "      <th>S35</th>\n",
       "      <th>S36</th>\n",
       "      <th>S37</th>\n",
       "      <th>S38</th>\n",
       "      <th>S39</th>\n",
       "      <th>S40</th>\n",
       "      <th>S41</th>\n",
       "      <th>S42</th>\n",
       "      <th>S43</th>\n",
       "      <th>S44</th>\n",
       "      <th>S45</th>\n",
       "      <th>S46</th>\n",
       "      <th>S47</th>\n",
       "      <th>S48</th>\n",
       "      <th>S49</th>\n",
       "      <th>S50</th>\n",
       "      <th>S51</th>\n",
       "      <th>S52</th>\n",
       "      <th>diaAño</th>\n",
       "    </tr>\n",
       "  </thead>\n",
       "  <tbody>\n",
       "    <tr>\n",
       "      <th>0</th>\n",
       "      <td>MME</td>\n",
       "      <td>2018-03-28</td>\n",
       "      <td>Huespedes</td>\n",
       "      <td>DBL</td>\n",
       "      <td>MP</td>\n",
       "      <td>DESCONOCIDO</td>\n",
       "      <td>DESCONOCIDO</td>\n",
       "      <td>ES</td>\n",
       "      <td>0</td>\n",
       "      <td>0</td>\n",
       "      <td>0</td>\n",
       "      <td>0</td>\n",
       "      <td>0</td>\n",
       "      <td>0</td>\n",
       "      <td>0</td>\n",
       "      <td>0</td>\n",
       "      <td>0</td>\n",
       "      <td>1</td>\n",
       "      <td>0</td>\n",
       "      <td>0</td>\n",
       "      <td>0</td>\n",
       "      <td>0</td>\n",
       "      <td>0</td>\n",
       "      <td>0</td>\n",
       "      <td>0</td>\n",
       "      <td>0</td>\n",
       "      <td>0</td>\n",
       "      <td>0</td>\n",
       "      <td>0</td>\n",
       "      <td>0</td>\n",
       "      <td>0</td>\n",
       "      <td>0</td>\n",
       "      <td>0</td>\n",
       "      <td>0</td>\n",
       "      <td>0</td>\n",
       "      <td>0</td>\n",
       "      <td>0</td>\n",
       "      <td>0</td>\n",
       "      <td>0</td>\n",
       "      <td>0</td>\n",
       "      <td>0</td>\n",
       "      <td>0</td>\n",
       "      <td>0</td>\n",
       "      <td>0</td>\n",
       "      <td>0</td>\n",
       "      <td>0</td>\n",
       "      <td>0</td>\n",
       "      <td>0</td>\n",
       "      <td>0</td>\n",
       "      <td>0</td>\n",
       "      <td>0</td>\n",
       "      <td>0</td>\n",
       "      <td>0</td>\n",
       "      <td>0</td>\n",
       "      <td>0</td>\n",
       "      <td>0</td>\n",
       "      <td>0</td>\n",
       "      <td>0</td>\n",
       "      <td>0</td>\n",
       "      <td>0</td>\n",
       "      <td>0</td>\n",
       "      <td>90.895386</td>\n",
       "      <td>90.895386</td>\n",
       "      <td>90.895386</td>\n",
       "      <td>90.895386</td>\n",
       "      <td>90.895386</td>\n",
       "      <td>90.895386</td>\n",
       "      <td>90.895386</td>\n",
       "      <td>90.895386</td>\n",
       "      <td>90.895386</td>\n",
       "      <td>90.895386</td>\n",
       "      <td>90.895386</td>\n",
       "      <td>90.895386</td>\n",
       "      <td>90.895386</td>\n",
       "      <td>90.895386</td>\n",
       "      <td>90.895386</td>\n",
       "      <td>90.895386</td>\n",
       "      <td>90.895386</td>\n",
       "      <td>90.895386</td>\n",
       "      <td>90.895386</td>\n",
       "      <td>90.895386</td>\n",
       "      <td>90.895386</td>\n",
       "      <td>90.895386</td>\n",
       "      <td>90.895386</td>\n",
       "      <td>90.895386</td>\n",
       "      <td>90.895386</td>\n",
       "      <td>90.895386</td>\n",
       "      <td>90.895386</td>\n",
       "      <td>90.895386</td>\n",
       "      <td>90.895386</td>\n",
       "      <td>90.895386</td>\n",
       "      <td>90.895386</td>\n",
       "      <td>90.895386</td>\n",
       "      <td>90.895386</td>\n",
       "      <td>90.895386</td>\n",
       "      <td>90.895386</td>\n",
       "      <td>90.895386</td>\n",
       "      <td>90.895386</td>\n",
       "      <td>90.895386</td>\n",
       "      <td>90.895386</td>\n",
       "      <td>90.895386</td>\n",
       "      <td>90.895386</td>\n",
       "      <td>90.895386</td>\n",
       "      <td>90.895386</td>\n",
       "      <td>90.895386</td>\n",
       "      <td>90.895386</td>\n",
       "      <td>90.895386</td>\n",
       "      <td>90.895386</td>\n",
       "      <td>90.895386</td>\n",
       "      <td>90.895386</td>\n",
       "      <td>90.895386</td>\n",
       "      <td>90.895386</td>\n",
       "      <td>90.895386</td>\n",
       "      <td>90.895386</td>\n",
       "      <td>87</td>\n",
       "    </tr>\n",
       "    <tr>\n",
       "      <th>1</th>\n",
       "      <td>TOS</td>\n",
       "      <td>2018-03-28</td>\n",
       "      <td>Huespedes</td>\n",
       "      <td>DBL</td>\n",
       "      <td>PC</td>\n",
       "      <td>DESCONOCIDO</td>\n",
       "      <td>DESCONOCIDO</td>\n",
       "      <td>ES</td>\n",
       "      <td>25</td>\n",
       "      <td>25</td>\n",
       "      <td>22</td>\n",
       "      <td>18</td>\n",
       "      <td>19</td>\n",
       "      <td>12</td>\n",
       "      <td>10</td>\n",
       "      <td>7</td>\n",
       "      <td>6</td>\n",
       "      <td>5</td>\n",
       "      <td>5</td>\n",
       "      <td>4</td>\n",
       "      <td>3</td>\n",
       "      <td>3</td>\n",
       "      <td>3</td>\n",
       "      <td>3</td>\n",
       "      <td>3</td>\n",
       "      <td>3</td>\n",
       "      <td>3</td>\n",
       "      <td>3</td>\n",
       "      <td>3</td>\n",
       "      <td>3</td>\n",
       "      <td>3</td>\n",
       "      <td>3</td>\n",
       "      <td>1</td>\n",
       "      <td>1</td>\n",
       "      <td>1</td>\n",
       "      <td>1</td>\n",
       "      <td>1</td>\n",
       "      <td>1</td>\n",
       "      <td>1</td>\n",
       "      <td>1</td>\n",
       "      <td>0</td>\n",
       "      <td>0</td>\n",
       "      <td>0</td>\n",
       "      <td>0</td>\n",
       "      <td>0</td>\n",
       "      <td>0</td>\n",
       "      <td>0</td>\n",
       "      <td>0</td>\n",
       "      <td>0</td>\n",
       "      <td>0</td>\n",
       "      <td>0</td>\n",
       "      <td>0</td>\n",
       "      <td>0</td>\n",
       "      <td>0</td>\n",
       "      <td>0</td>\n",
       "      <td>0</td>\n",
       "      <td>0</td>\n",
       "      <td>0</td>\n",
       "      <td>0</td>\n",
       "      <td>0</td>\n",
       "      <td>0</td>\n",
       "      <td>98.694182</td>\n",
       "      <td>97.966909</td>\n",
       "      <td>100.581405</td>\n",
       "      <td>99.053030</td>\n",
       "      <td>98.455981</td>\n",
       "      <td>98.648485</td>\n",
       "      <td>95.496363</td>\n",
       "      <td>102.407792</td>\n",
       "      <td>119.475758</td>\n",
       "      <td>115.863636</td>\n",
       "      <td>115.863636</td>\n",
       "      <td>120.420454</td>\n",
       "      <td>125.324242</td>\n",
       "      <td>125.324242</td>\n",
       "      <td>125.324242</td>\n",
       "      <td>125.324242</td>\n",
       "      <td>125.324242</td>\n",
       "      <td>125.324242</td>\n",
       "      <td>125.324242</td>\n",
       "      <td>125.324242</td>\n",
       "      <td>125.324242</td>\n",
       "      <td>125.324242</td>\n",
       "      <td>125.324242</td>\n",
       "      <td>125.324242</td>\n",
       "      <td>142.081819</td>\n",
       "      <td>142.081819</td>\n",
       "      <td>142.081819</td>\n",
       "      <td>142.081819</td>\n",
       "      <td>142.081819</td>\n",
       "      <td>142.081819</td>\n",
       "      <td>142.081819</td>\n",
       "      <td>142.081819</td>\n",
       "      <td>142.081819</td>\n",
       "      <td>142.081819</td>\n",
       "      <td>142.081819</td>\n",
       "      <td>142.081819</td>\n",
       "      <td>142.081819</td>\n",
       "      <td>142.081819</td>\n",
       "      <td>142.081819</td>\n",
       "      <td>142.081819</td>\n",
       "      <td>142.081819</td>\n",
       "      <td>142.081819</td>\n",
       "      <td>142.081819</td>\n",
       "      <td>142.081819</td>\n",
       "      <td>142.081819</td>\n",
       "      <td>142.081819</td>\n",
       "      <td>142.081819</td>\n",
       "      <td>142.081819</td>\n",
       "      <td>142.081819</td>\n",
       "      <td>142.081819</td>\n",
       "      <td>142.081819</td>\n",
       "      <td>142.081819</td>\n",
       "      <td>142.081819</td>\n",
       "      <td>87</td>\n",
       "    </tr>\n",
       "    <tr>\n",
       "      <th>2</th>\n",
       "      <td>TOS</td>\n",
       "      <td>2018-03-28</td>\n",
       "      <td>Huespedes</td>\n",
       "      <td>DBL</td>\n",
       "      <td>AD</td>\n",
       "      <td>DESCONOCIDO</td>\n",
       "      <td>DESCONOCIDO</td>\n",
       "      <td>ES</td>\n",
       "      <td>5</td>\n",
       "      <td>2</td>\n",
       "      <td>2</td>\n",
       "      <td>2</td>\n",
       "      <td>1</td>\n",
       "      <td>2</td>\n",
       "      <td>1</td>\n",
       "      <td>2</td>\n",
       "      <td>2</td>\n",
       "      <td>1</td>\n",
       "      <td>1</td>\n",
       "      <td>1</td>\n",
       "      <td>1</td>\n",
       "      <td>0</td>\n",
       "      <td>0</td>\n",
       "      <td>0</td>\n",
       "      <td>0</td>\n",
       "      <td>0</td>\n",
       "      <td>0</td>\n",
       "      <td>0</td>\n",
       "      <td>0</td>\n",
       "      <td>0</td>\n",
       "      <td>0</td>\n",
       "      <td>0</td>\n",
       "      <td>0</td>\n",
       "      <td>0</td>\n",
       "      <td>0</td>\n",
       "      <td>0</td>\n",
       "      <td>0</td>\n",
       "      <td>0</td>\n",
       "      <td>0</td>\n",
       "      <td>0</td>\n",
       "      <td>0</td>\n",
       "      <td>0</td>\n",
       "      <td>0</td>\n",
       "      <td>0</td>\n",
       "      <td>0</td>\n",
       "      <td>0</td>\n",
       "      <td>0</td>\n",
       "      <td>0</td>\n",
       "      <td>0</td>\n",
       "      <td>0</td>\n",
       "      <td>0</td>\n",
       "      <td>0</td>\n",
       "      <td>0</td>\n",
       "      <td>0</td>\n",
       "      <td>0</td>\n",
       "      <td>0</td>\n",
       "      <td>0</td>\n",
       "      <td>0</td>\n",
       "      <td>0</td>\n",
       "      <td>0</td>\n",
       "      <td>0</td>\n",
       "      <td>77.461817</td>\n",
       "      <td>73.763636</td>\n",
       "      <td>73.763636</td>\n",
       "      <td>73.763636</td>\n",
       "      <td>85.218182</td>\n",
       "      <td>81.218182</td>\n",
       "      <td>85.218182</td>\n",
       "      <td>71.672727</td>\n",
       "      <td>71.672727</td>\n",
       "      <td>85.218182</td>\n",
       "      <td>85.218182</td>\n",
       "      <td>85.218182</td>\n",
       "      <td>85.218182</td>\n",
       "      <td>85.218182</td>\n",
       "      <td>85.218182</td>\n",
       "      <td>85.218182</td>\n",
       "      <td>85.218182</td>\n",
       "      <td>85.218182</td>\n",
       "      <td>85.218182</td>\n",
       "      <td>85.218182</td>\n",
       "      <td>85.218182</td>\n",
       "      <td>85.218182</td>\n",
       "      <td>85.218182</td>\n",
       "      <td>85.218182</td>\n",
       "      <td>85.218182</td>\n",
       "      <td>85.218182</td>\n",
       "      <td>85.218182</td>\n",
       "      <td>85.218182</td>\n",
       "      <td>85.218182</td>\n",
       "      <td>85.218182</td>\n",
       "      <td>85.218182</td>\n",
       "      <td>85.218182</td>\n",
       "      <td>85.218182</td>\n",
       "      <td>85.218182</td>\n",
       "      <td>85.218182</td>\n",
       "      <td>85.218182</td>\n",
       "      <td>85.218182</td>\n",
       "      <td>85.218182</td>\n",
       "      <td>85.218182</td>\n",
       "      <td>85.218182</td>\n",
       "      <td>85.218182</td>\n",
       "      <td>85.218182</td>\n",
       "      <td>85.218182</td>\n",
       "      <td>85.218182</td>\n",
       "      <td>85.218182</td>\n",
       "      <td>85.218182</td>\n",
       "      <td>85.218182</td>\n",
       "      <td>85.218182</td>\n",
       "      <td>85.218182</td>\n",
       "      <td>85.218182</td>\n",
       "      <td>85.218182</td>\n",
       "      <td>85.218182</td>\n",
       "      <td>85.218182</td>\n",
       "      <td>87</td>\n",
       "    </tr>\n",
       "    <tr>\n",
       "      <th>3</th>\n",
       "      <td>TOS</td>\n",
       "      <td>2018-03-28</td>\n",
       "      <td>Huespedes</td>\n",
       "      <td>DBL</td>\n",
       "      <td>MP</td>\n",
       "      <td>DESCONOCIDO</td>\n",
       "      <td>DESCONOCIDO</td>\n",
       "      <td>ES</td>\n",
       "      <td>18</td>\n",
       "      <td>11</td>\n",
       "      <td>10</td>\n",
       "      <td>8</td>\n",
       "      <td>8</td>\n",
       "      <td>15</td>\n",
       "      <td>13</td>\n",
       "      <td>12</td>\n",
       "      <td>12</td>\n",
       "      <td>11</td>\n",
       "      <td>10</td>\n",
       "      <td>10</td>\n",
       "      <td>10</td>\n",
       "      <td>2</td>\n",
       "      <td>2</td>\n",
       "      <td>1</td>\n",
       "      <td>1</td>\n",
       "      <td>1</td>\n",
       "      <td>1</td>\n",
       "      <td>1</td>\n",
       "      <td>0</td>\n",
       "      <td>0</td>\n",
       "      <td>0</td>\n",
       "      <td>0</td>\n",
       "      <td>0</td>\n",
       "      <td>0</td>\n",
       "      <td>0</td>\n",
       "      <td>0</td>\n",
       "      <td>0</td>\n",
       "      <td>0</td>\n",
       "      <td>0</td>\n",
       "      <td>0</td>\n",
       "      <td>0</td>\n",
       "      <td>0</td>\n",
       "      <td>0</td>\n",
       "      <td>0</td>\n",
       "      <td>0</td>\n",
       "      <td>0</td>\n",
       "      <td>0</td>\n",
       "      <td>0</td>\n",
       "      <td>0</td>\n",
       "      <td>0</td>\n",
       "      <td>0</td>\n",
       "      <td>0</td>\n",
       "      <td>0</td>\n",
       "      <td>0</td>\n",
       "      <td>0</td>\n",
       "      <td>0</td>\n",
       "      <td>0</td>\n",
       "      <td>0</td>\n",
       "      <td>0</td>\n",
       "      <td>0</td>\n",
       "      <td>0</td>\n",
       "      <td>86.157831</td>\n",
       "      <td>83.974798</td>\n",
       "      <td>80.664096</td>\n",
       "      <td>74.501712</td>\n",
       "      <td>74.501712</td>\n",
       "      <td>76.577249</td>\n",
       "      <td>74.606971</td>\n",
       "      <td>74.203006</td>\n",
       "      <td>74.203006</td>\n",
       "      <td>80.948734</td>\n",
       "      <td>80.558601</td>\n",
       "      <td>80.558601</td>\n",
       "      <td>80.558601</td>\n",
       "      <td>88.827272</td>\n",
       "      <td>88.827272</td>\n",
       "      <td>91.381818</td>\n",
       "      <td>91.381818</td>\n",
       "      <td>91.381818</td>\n",
       "      <td>91.381818</td>\n",
       "      <td>91.381818</td>\n",
       "      <td>91.381818</td>\n",
       "      <td>91.381818</td>\n",
       "      <td>91.381818</td>\n",
       "      <td>91.381818</td>\n",
       "      <td>91.381818</td>\n",
       "      <td>91.381818</td>\n",
       "      <td>91.381818</td>\n",
       "      <td>91.381818</td>\n",
       "      <td>91.381818</td>\n",
       "      <td>91.381818</td>\n",
       "      <td>91.381818</td>\n",
       "      <td>91.381818</td>\n",
       "      <td>91.381818</td>\n",
       "      <td>91.381818</td>\n",
       "      <td>91.381818</td>\n",
       "      <td>91.381818</td>\n",
       "      <td>91.381818</td>\n",
       "      <td>91.381818</td>\n",
       "      <td>91.381818</td>\n",
       "      <td>91.381818</td>\n",
       "      <td>91.381818</td>\n",
       "      <td>91.381818</td>\n",
       "      <td>91.381818</td>\n",
       "      <td>91.381818</td>\n",
       "      <td>91.381818</td>\n",
       "      <td>91.381818</td>\n",
       "      <td>91.381818</td>\n",
       "      <td>91.381818</td>\n",
       "      <td>91.381818</td>\n",
       "      <td>91.381818</td>\n",
       "      <td>91.381818</td>\n",
       "      <td>91.381818</td>\n",
       "      <td>91.381818</td>\n",
       "      <td>87</td>\n",
       "    </tr>\n",
       "    <tr>\n",
       "      <th>4</th>\n",
       "      <td>TOS</td>\n",
       "      <td>2018-03-28</td>\n",
       "      <td>Huespedes</td>\n",
       "      <td>PREM</td>\n",
       "      <td>PC</td>\n",
       "      <td>DESCONOCIDO</td>\n",
       "      <td>DESCONOCIDO</td>\n",
       "      <td>ES</td>\n",
       "      <td>1</td>\n",
       "      <td>1</td>\n",
       "      <td>0</td>\n",
       "      <td>0</td>\n",
       "      <td>0</td>\n",
       "      <td>0</td>\n",
       "      <td>0</td>\n",
       "      <td>0</td>\n",
       "      <td>0</td>\n",
       "      <td>0</td>\n",
       "      <td>0</td>\n",
       "      <td>0</td>\n",
       "      <td>0</td>\n",
       "      <td>0</td>\n",
       "      <td>0</td>\n",
       "      <td>0</td>\n",
       "      <td>0</td>\n",
       "      <td>0</td>\n",
       "      <td>0</td>\n",
       "      <td>0</td>\n",
       "      <td>0</td>\n",
       "      <td>0</td>\n",
       "      <td>0</td>\n",
       "      <td>0</td>\n",
       "      <td>0</td>\n",
       "      <td>0</td>\n",
       "      <td>0</td>\n",
       "      <td>0</td>\n",
       "      <td>0</td>\n",
       "      <td>0</td>\n",
       "      <td>0</td>\n",
       "      <td>0</td>\n",
       "      <td>0</td>\n",
       "      <td>0</td>\n",
       "      <td>0</td>\n",
       "      <td>0</td>\n",
       "      <td>0</td>\n",
       "      <td>0</td>\n",
       "      <td>0</td>\n",
       "      <td>0</td>\n",
       "      <td>0</td>\n",
       "      <td>0</td>\n",
       "      <td>0</td>\n",
       "      <td>0</td>\n",
       "      <td>0</td>\n",
       "      <td>0</td>\n",
       "      <td>0</td>\n",
       "      <td>0</td>\n",
       "      <td>0</td>\n",
       "      <td>0</td>\n",
       "      <td>0</td>\n",
       "      <td>0</td>\n",
       "      <td>0</td>\n",
       "      <td>119.454546</td>\n",
       "      <td>119.454546</td>\n",
       "      <td>119.454546</td>\n",
       "      <td>119.454546</td>\n",
       "      <td>119.454546</td>\n",
       "      <td>119.454546</td>\n",
       "      <td>119.454546</td>\n",
       "      <td>119.454546</td>\n",
       "      <td>119.454546</td>\n",
       "      <td>119.454546</td>\n",
       "      <td>119.454546</td>\n",
       "      <td>119.454546</td>\n",
       "      <td>119.454546</td>\n",
       "      <td>119.454546</td>\n",
       "      <td>119.454546</td>\n",
       "      <td>119.454546</td>\n",
       "      <td>119.454546</td>\n",
       "      <td>119.454546</td>\n",
       "      <td>119.454546</td>\n",
       "      <td>119.454546</td>\n",
       "      <td>119.454546</td>\n",
       "      <td>119.454546</td>\n",
       "      <td>119.454546</td>\n",
       "      <td>119.454546</td>\n",
       "      <td>119.454546</td>\n",
       "      <td>119.454546</td>\n",
       "      <td>119.454546</td>\n",
       "      <td>119.454546</td>\n",
       "      <td>119.454546</td>\n",
       "      <td>119.454546</td>\n",
       "      <td>119.454546</td>\n",
       "      <td>119.454546</td>\n",
       "      <td>119.454546</td>\n",
       "      <td>119.454546</td>\n",
       "      <td>119.454546</td>\n",
       "      <td>119.454546</td>\n",
       "      <td>119.454546</td>\n",
       "      <td>119.454546</td>\n",
       "      <td>119.454546</td>\n",
       "      <td>119.454546</td>\n",
       "      <td>119.454546</td>\n",
       "      <td>119.454546</td>\n",
       "      <td>119.454546</td>\n",
       "      <td>119.454546</td>\n",
       "      <td>119.454546</td>\n",
       "      <td>119.454546</td>\n",
       "      <td>119.454546</td>\n",
       "      <td>119.454546</td>\n",
       "      <td>119.454546</td>\n",
       "      <td>119.454546</td>\n",
       "      <td>119.454546</td>\n",
       "      <td>119.454546</td>\n",
       "      <td>119.454546</td>\n",
       "      <td>87</td>\n",
       "    </tr>\n",
       "  </tbody>\n",
       "</table>\n",
       "</div>"
      ],
      "text/plain": [
       "  idhotel fechaocupacion  idcliente idtipohab idregimen   idsegmento  \\\n",
       "0     MME     2018-03-28  Huespedes       DBL        MP  DESCONOCIDO   \n",
       "1     TOS     2018-03-28  Huespedes       DBL        PC  DESCONOCIDO   \n",
       "2     TOS     2018-03-28  Huespedes       DBL        AD  DESCONOCIDO   \n",
       "3     TOS     2018-03-28  Huespedes       DBL        MP  DESCONOCIDO   \n",
       "4     TOS     2018-03-28  Huespedes      PREM        PC  DESCONOCIDO   \n",
       "\n",
       "      id_canal idpais_cliente  NHab  S1H  S2H  S3H  S4H  S5H  S6H  S7H  S8H  \\\n",
       "0  DESCONOCIDO             ES     0    0    0    0    0    0    0    0    0   \n",
       "1  DESCONOCIDO             ES    25   25   22   18   19   12   10    7    6   \n",
       "2  DESCONOCIDO             ES     5    2    2    2    1    2    1    2    2   \n",
       "3  DESCONOCIDO             ES    18   11   10    8    8   15   13   12   12   \n",
       "4  DESCONOCIDO             ES     1    1    0    0    0    0    0    0    0   \n",
       "\n",
       "   S9H  S10H  S11H  S12H  S13H  S14H  S15H  S16H  S17H  S18H  S19H  S20H  \\\n",
       "0    1     0     0     0     0     0     0     0     0     0     0     0   \n",
       "1    5     5     4     3     3     3     3     3     3     3     3     3   \n",
       "2    1     1     1     1     0     0     0     0     0     0     0     0   \n",
       "3   11    10    10    10     2     2     1     1     1     1     1     0   \n",
       "4    0     0     0     0     0     0     0     0     0     0     0     0   \n",
       "\n",
       "   S21H  S22H  S23H  S24H  S25H  S26H  S27H  S28H  S29H  S30H  S31H  S32H  \\\n",
       "0     0     0     0     0     0     0     0     0     0     0     0     0   \n",
       "1     3     3     3     1     1     1     1     1     1     1     1     0   \n",
       "2     0     0     0     0     0     0     0     0     0     0     0     0   \n",
       "3     0     0     0     0     0     0     0     0     0     0     0     0   \n",
       "4     0     0     0     0     0     0     0     0     0     0     0     0   \n",
       "\n",
       "   S33H  S34H  S35H  S36H  S37H  S38H  S39H  S40H  S41H  S42H  S43H  S44H  \\\n",
       "0     0     0     0     0     0     0     0     0     0     0     0     0   \n",
       "1     0     0     0     0     0     0     0     0     0     0     0     0   \n",
       "2     0     0     0     0     0     0     0     0     0     0     0     0   \n",
       "3     0     0     0     0     0     0     0     0     0     0     0     0   \n",
       "4     0     0     0     0     0     0     0     0     0     0     0     0   \n",
       "\n",
       "   S45H  S46H  S47H  S48H  S49H  S50H  S51H  S52H     PreuHab          S1  \\\n",
       "0     0     0     0     0     0     0     0     0   90.895386   90.895386   \n",
       "1     0     0     0     0     0     0     0     0   98.694182   97.966909   \n",
       "2     0     0     0     0     0     0     0     0   77.461817   73.763636   \n",
       "3     0     0     0     0     0     0     0     0   86.157831   83.974798   \n",
       "4     0     0     0     0     0     0     0     0  119.454546  119.454546   \n",
       "\n",
       "           S2          S3          S4          S5          S6          S7  \\\n",
       "0   90.895386   90.895386   90.895386   90.895386   90.895386   90.895386   \n",
       "1  100.581405   99.053030   98.455981   98.648485   95.496363  102.407792   \n",
       "2   73.763636   73.763636   85.218182   81.218182   85.218182   71.672727   \n",
       "3   80.664096   74.501712   74.501712   76.577249   74.606971   74.203006   \n",
       "4  119.454546  119.454546  119.454546  119.454546  119.454546  119.454546   \n",
       "\n",
       "           S8          S9         S10         S11         S12         S13  \\\n",
       "0   90.895386   90.895386   90.895386   90.895386   90.895386   90.895386   \n",
       "1  119.475758  115.863636  115.863636  120.420454  125.324242  125.324242   \n",
       "2   71.672727   85.218182   85.218182   85.218182   85.218182   85.218182   \n",
       "3   74.203006   80.948734   80.558601   80.558601   80.558601   88.827272   \n",
       "4  119.454546  119.454546  119.454546  119.454546  119.454546  119.454546   \n",
       "\n",
       "          S14         S15         S16         S17         S18         S19  \\\n",
       "0   90.895386   90.895386   90.895386   90.895386   90.895386   90.895386   \n",
       "1  125.324242  125.324242  125.324242  125.324242  125.324242  125.324242   \n",
       "2   85.218182   85.218182   85.218182   85.218182   85.218182   85.218182   \n",
       "3   88.827272   91.381818   91.381818   91.381818   91.381818   91.381818   \n",
       "4  119.454546  119.454546  119.454546  119.454546  119.454546  119.454546   \n",
       "\n",
       "          S20         S21         S22         S23         S24         S25  \\\n",
       "0   90.895386   90.895386   90.895386   90.895386   90.895386   90.895386   \n",
       "1  125.324242  125.324242  125.324242  125.324242  142.081819  142.081819   \n",
       "2   85.218182   85.218182   85.218182   85.218182   85.218182   85.218182   \n",
       "3   91.381818   91.381818   91.381818   91.381818   91.381818   91.381818   \n",
       "4  119.454546  119.454546  119.454546  119.454546  119.454546  119.454546   \n",
       "\n",
       "          S26         S27         S28         S29         S30         S31  \\\n",
       "0   90.895386   90.895386   90.895386   90.895386   90.895386   90.895386   \n",
       "1  142.081819  142.081819  142.081819  142.081819  142.081819  142.081819   \n",
       "2   85.218182   85.218182   85.218182   85.218182   85.218182   85.218182   \n",
       "3   91.381818   91.381818   91.381818   91.381818   91.381818   91.381818   \n",
       "4  119.454546  119.454546  119.454546  119.454546  119.454546  119.454546   \n",
       "\n",
       "          S32         S33         S34         S35         S36         S37  \\\n",
       "0   90.895386   90.895386   90.895386   90.895386   90.895386   90.895386   \n",
       "1  142.081819  142.081819  142.081819  142.081819  142.081819  142.081819   \n",
       "2   85.218182   85.218182   85.218182   85.218182   85.218182   85.218182   \n",
       "3   91.381818   91.381818   91.381818   91.381818   91.381818   91.381818   \n",
       "4  119.454546  119.454546  119.454546  119.454546  119.454546  119.454546   \n",
       "\n",
       "          S38         S39         S40         S41         S42         S43  \\\n",
       "0   90.895386   90.895386   90.895386   90.895386   90.895386   90.895386   \n",
       "1  142.081819  142.081819  142.081819  142.081819  142.081819  142.081819   \n",
       "2   85.218182   85.218182   85.218182   85.218182   85.218182   85.218182   \n",
       "3   91.381818   91.381818   91.381818   91.381818   91.381818   91.381818   \n",
       "4  119.454546  119.454546  119.454546  119.454546  119.454546  119.454546   \n",
       "\n",
       "          S44         S45         S46         S47         S48         S49  \\\n",
       "0   90.895386   90.895386   90.895386   90.895386   90.895386   90.895386   \n",
       "1  142.081819  142.081819  142.081819  142.081819  142.081819  142.081819   \n",
       "2   85.218182   85.218182   85.218182   85.218182   85.218182   85.218182   \n",
       "3   91.381818   91.381818   91.381818   91.381818   91.381818   91.381818   \n",
       "4  119.454546  119.454546  119.454546  119.454546  119.454546  119.454546   \n",
       "\n",
       "          S50         S51         S52 diaAño  \n",
       "0   90.895386   90.895386   90.895386     87  \n",
       "1  142.081819  142.081819  142.081819     87  \n",
       "2   85.218182   85.218182   85.218182     87  \n",
       "3   91.381818   91.381818   91.381818     87  \n",
       "4  119.454546  119.454546  119.454546     87  "
      ]
     },
     "execution_count": 80,
     "metadata": {},
     "output_type": "execute_result"
    },
    {
     "data": {
      "text/plain": [
       "(47630, 115)"
      ]
     },
     "execution_count": 80,
     "metadata": {},
     "output_type": "execute_result"
    }
   ],
   "source": [
    "df1.head()\n",
    "df1.shape"
   ]
  },
  {
   "cell_type": "code",
   "execution_count": null,
   "metadata": {},
   "outputs": [],
   "source": []
  }
 ],
 "metadata": {
  "kernelspec": {
   "display_name": "Python 3",
   "language": "python",
   "name": "python3"
  },
  "language_info": {
   "codemirror_mode": {
    "name": "ipython",
    "version": 3
   },
   "file_extension": ".py",
   "mimetype": "text/x-python",
   "name": "python",
   "nbconvert_exporter": "python",
   "pygments_lexer": "ipython3",
   "version": "3.7.3"
  },
  "latex_envs": {
   "LaTeX_envs_menu_present": true,
   "autoclose": false,
   "autocomplete": true,
   "bibliofile": "biblio.bib",
   "cite_by": "apalike",
   "current_citInitial": 1,
   "eqLabelWithNumbers": true,
   "eqNumInitial": 1,
   "hotkeys": {
    "equation": "Ctrl-E",
    "itemize": "Ctrl-I"
   },
   "labels_anchors": false,
   "latex_user_defs": false,
   "report_style_numbering": false,
   "user_envs_cfg": false
  },
  "toc": {
   "base_numbering": 1,
   "nav_menu": {},
   "number_sections": true,
   "sideBar": true,
   "skip_h1_title": false,
   "title_cell": "Table of Contents",
   "title_sidebar": "Contents",
   "toc_cell": false,
   "toc_position": {
    "height": "calc(100% - 180px)",
    "left": "10px",
    "top": "150px",
    "width": "300.66px"
   },
   "toc_section_display": true,
   "toc_window_display": true
  },
  "varInspector": {
   "cols": {
    "lenName": 16,
    "lenType": 16,
    "lenVar": 40
   },
   "kernels_config": {
    "python": {
     "delete_cmd_postfix": "",
     "delete_cmd_prefix": "del ",
     "library": "var_list.py",
     "varRefreshCmd": "print(var_dic_list())"
    },
    "r": {
     "delete_cmd_postfix": ") ",
     "delete_cmd_prefix": "rm(",
     "library": "var_list.r",
     "varRefreshCmd": "cat(var_dic_list()) "
    }
   },
   "types_to_exclude": [
    "module",
    "function",
    "builtin_function_or_method",
    "instance",
    "_Feature"
   ],
   "window_display": false
  }
 },
 "nbformat": 4,
 "nbformat_minor": 2
}
