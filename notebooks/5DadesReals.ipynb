{
 "cells": [
  {
   "cell_type": "markdown",
   "metadata": {},
   "source": [
    "**ÍNDEX**\n",
    "1. Processament de les dades reals\n",
    "    * Importar paquets\n",
    "    * Funcions\n",
    "    * Càrrega de dades\n",
    "    * Eliminar nulls\n",
    "    * Afegir variable *diaAño*\n",
    "    * Filtre de preus\n",
    "    * Reetiquetatge\n",
    "    * Feature construction\n",
    "    * Feature selection"
   ]
  },
  {
   "cell_type": "markdown",
   "metadata": {},
   "source": [
    "# Processament dades reals"
   ]
  },
  {
   "cell_type": "markdown",
   "metadata": {},
   "source": [
    "## Importar"
   ]
  },
  {
   "cell_type": "code",
   "execution_count": 1,
   "metadata": {
    "ExecuteTime": {
     "end_time": "2020-01-06T11:55:04.367990Z",
     "start_time": "2020-01-06T11:55:02.255861Z"
    },
    "scrolled": true
   },
   "outputs": [
    {
     "name": "stderr",
     "output_type": "stream",
     "text": [
      "C:\\Users\\miquel.vallverdu\\AppData\\Local\\Continuum\\anaconda3\\lib\\site-packages\\sklearn\\externals\\six.py:31: FutureWarning: The module is deprecated in version 0.21 and will be removed in version 0.23 since we've dropped support for Python 2.7. Please rely on the official version of six (https://pypi.org/project/six/).\n",
      "  \"(https://pypi.org/project/six/).\", FutureWarning)\n",
      "C:\\Users\\miquel.vallverdu\\AppData\\Local\\Continuum\\anaconda3\\lib\\site-packages\\sklearn\\externals\\joblib\\__init__.py:15: FutureWarning: sklearn.externals.joblib is deprecated in 0.21 and will be removed in 0.23. Please import this functionality directly from joblib, which can be installed with: pip install joblib. If this warning is raised when loading pickled models, you may need to re-serialize those models with scikit-learn 0.21+.\n",
      "  warnings.warn(msg, category=FutureWarning)\n"
     ]
    }
   ],
   "source": [
    "import csv\n",
    "import pandas as pd\n",
    "import numpy as np\n",
    "import mglearn\n",
    "import seaborn as sns\n",
    "import locale\n",
    "import matplotlib\n",
    "import matplotlib.pyplot as plt\n",
    "from scipy.stats import pearsonr\n",
    "import re\n",
    "%matplotlib inline\n",
    "matplotlib.style.use('ggplot')\n",
    "## modificar tamany figura\n",
    "from matplotlib.pyplot import figure\n",
    "from math import sqrt\n",
    "from statistics import mean \n",
    "\n",
    "import os\n",
    "\n",
    "\n",
    "import pickle\n",
    "from itertools import chain\n",
    "\n",
    "## object a numerica\n",
    "import category_encoders as ce\n",
    "\n",
    "## feature selection\n",
    "from sklearn.feature_selection import SelectKBest\n",
    "from sklearn.feature_selection import f_regression\n",
    "from sklearn.feature_selection import RFE\n",
    "from sklearn.linear_model import LinearRegression\n",
    "\n",
    "\n",
    "## Train & test\n",
    "from sklearn.model_selection import train_test_split\n",
    "\n",
    "\n",
    "## errors\n",
    "\n",
    "from sklearn.metrics import mean_squared_error \n",
    "from sklearn.metrics import mean_absolute_error\n",
    "from sklearn.metrics import r2_score\n",
    "\n",
    "## Decision tree\n",
    "from sklearn import datasets\n",
    "from sklearn import metrics\n",
    "from sklearn.tree import DecisionTreeRegressor\n",
    "\n",
    "## Random forest\n",
    "from sklearn.ensemble import RandomForestRegressor\n",
    "\n",
    "## Escalar\n",
    "from sklearn.preprocessing import MinMaxScaler\n",
    "\n",
    "## KNN\n",
    "from sklearn import neighbors\n",
    "\n",
    "## XGBoost\n",
    "import xgboost as xgb\n",
    "from xgboost import plot_importance\n",
    "\n",
    "\n",
    "## Hyperpar tuning\n",
    "from sklearn.model_selection import GridSearchCV\n",
    "\n",
    "## Cross-Validation\n",
    "from sklearn.model_selection import cross_val_score\n",
    "\n",
    "from IPython.core.interactiveshell import InteractiveShell\n",
    "InteractiveShell.ast_node_interactivity = \"all\"\n",
    "\n",
    "pd.set_option('display.max_columns',None)\n",
    "#pd.set_option('display.max_rows', None)"
   ]
  },
  {
   "cell_type": "markdown",
   "metadata": {},
   "source": [
    "## Funcions"
   ]
  },
  {
   "cell_type": "code",
   "execution_count": 2,
   "metadata": {
    "ExecuteTime": {
     "end_time": "2020-01-06T11:55:04.398443Z",
     "start_time": "2020-01-06T11:55:04.390450Z"
    }
   },
   "outputs": [],
   "source": [
    "def filtroMenorQue1(lista):\n",
    "    if(lista < 1):\n",
    "        return True\n",
    "    else:\n",
    "        return False"
   ]
  },
  {
   "cell_type": "markdown",
   "metadata": {},
   "source": [
    "## Càrrega de dades"
   ]
  },
  {
   "cell_type": "code",
   "execution_count": 3,
   "metadata": {
    "ExecuteTime": {
     "end_time": "2020-01-06T11:55:06.912908Z",
     "start_time": "2020-01-06T11:55:06.393158Z"
    }
   },
   "outputs": [],
   "source": [
    "mainpath = \"C:/Users/miquel.vallverdu/Desktop/Miquel/TFG/Repos/Bismart-P19824-PrediccionOcupacionHoteles_TFG_MVallverdu/dataset/\"\n",
    "#mainpath = \"C:/Users/Miquel/Desktop/Miquel/Estudis/ESTADISTICA/TFG/\"\n",
    "\n",
    "df2020 = pd.read_csv(mainpath + \"df2020.csv\", sep = \",\")\n",
    "dates = pd.read_csv(mainpath + \"dates.csv\", sep = \";\")"
   ]
  },
  {
   "cell_type": "code",
   "execution_count": 9,
   "metadata": {
    "ExecuteTime": {
     "end_time": "2020-01-06T11:56:44.724274Z",
     "start_time": "2020-01-06T11:56:44.681304Z"
    }
   },
   "outputs": [],
   "source": [
    "df = df2020[df2020['fechaocupacion'].str.contains(\"2019-08|2019-09\")]"
   ]
  },
  {
   "cell_type": "code",
   "execution_count": 10,
   "metadata": {
    "ExecuteTime": {
     "end_time": "2020-01-06T11:56:45.451282Z",
     "start_time": "2020-01-06T11:56:45.278379Z"
    }
   },
   "outputs": [
    {
     "data": {
      "text/plain": [
       "0"
      ]
     },
     "execution_count": 10,
     "metadata": {},
     "output_type": "execute_result"
    }
   ],
   "source": [
    "sum(df.duplicated())"
   ]
  },
  {
   "cell_type": "markdown",
   "metadata": {},
   "source": [
    "## Eliminar nulls"
   ]
  },
  {
   "cell_type": "code",
   "execution_count": 11,
   "metadata": {
    "ExecuteTime": {
     "end_time": "2020-01-06T11:56:46.987812Z",
     "start_time": "2020-01-06T11:56:46.873879Z"
    }
   },
   "outputs": [
    {
     "data": {
      "text/html": [
       "<div>\n",
       "<style scoped>\n",
       "    .dataframe tbody tr th:only-of-type {\n",
       "        vertical-align: middle;\n",
       "    }\n",
       "\n",
       "    .dataframe tbody tr th {\n",
       "        vertical-align: top;\n",
       "    }\n",
       "\n",
       "    .dataframe thead th {\n",
       "        text-align: right;\n",
       "    }\n",
       "</style>\n",
       "<table border=\"1\" class=\"dataframe\">\n",
       "  <thead>\n",
       "    <tr style=\"text-align: right;\">\n",
       "      <th></th>\n",
       "      <th>PreuHab</th>\n",
       "      <th>S1</th>\n",
       "      <th>S2</th>\n",
       "      <th>S3</th>\n",
       "      <th>S4</th>\n",
       "      <th>S5</th>\n",
       "      <th>S6</th>\n",
       "      <th>S7</th>\n",
       "      <th>S8</th>\n",
       "      <th>S9</th>\n",
       "      <th>S10</th>\n",
       "      <th>S11</th>\n",
       "      <th>S12</th>\n",
       "      <th>S13</th>\n",
       "      <th>S14</th>\n",
       "      <th>S15</th>\n",
       "      <th>S16</th>\n",
       "      <th>S17</th>\n",
       "      <th>S18</th>\n",
       "      <th>S19</th>\n",
       "      <th>S20</th>\n",
       "      <th>S21</th>\n",
       "      <th>S22</th>\n",
       "      <th>S23</th>\n",
       "      <th>S24</th>\n",
       "      <th>S25</th>\n",
       "      <th>S26</th>\n",
       "      <th>S27</th>\n",
       "      <th>S28</th>\n",
       "      <th>S29</th>\n",
       "      <th>S30</th>\n",
       "      <th>S31</th>\n",
       "      <th>S32</th>\n",
       "      <th>S33</th>\n",
       "      <th>S34</th>\n",
       "      <th>S35</th>\n",
       "      <th>S36</th>\n",
       "      <th>S37</th>\n",
       "      <th>S38</th>\n",
       "      <th>S39</th>\n",
       "      <th>S40</th>\n",
       "      <th>S41</th>\n",
       "      <th>S42</th>\n",
       "      <th>S43</th>\n",
       "      <th>S44</th>\n",
       "      <th>S45</th>\n",
       "      <th>S46</th>\n",
       "      <th>S47</th>\n",
       "      <th>S48</th>\n",
       "      <th>S49</th>\n",
       "      <th>S50</th>\n",
       "      <th>S51</th>\n",
       "      <th>S52</th>\n",
       "    </tr>\n",
       "  </thead>\n",
       "  <tbody>\n",
       "    <tr>\n",
       "      <th>774</th>\n",
       "      <td>NaN</td>\n",
       "      <td>NaN</td>\n",
       "      <td>NaN</td>\n",
       "      <td>NaN</td>\n",
       "      <td>NaN</td>\n",
       "      <td>NaN</td>\n",
       "      <td>NaN</td>\n",
       "      <td>NaN</td>\n",
       "      <td>NaN</td>\n",
       "      <td>NaN</td>\n",
       "      <td>NaN</td>\n",
       "      <td>NaN</td>\n",
       "      <td>NaN</td>\n",
       "      <td>NaN</td>\n",
       "      <td>NaN</td>\n",
       "      <td>NaN</td>\n",
       "      <td>NaN</td>\n",
       "      <td>NaN</td>\n",
       "      <td>NaN</td>\n",
       "      <td>NaN</td>\n",
       "      <td>NaN</td>\n",
       "      <td>NaN</td>\n",
       "      <td>NaN</td>\n",
       "      <td>NaN</td>\n",
       "      <td>NaN</td>\n",
       "      <td>NaN</td>\n",
       "      <td>NaN</td>\n",
       "      <td>NaN</td>\n",
       "      <td>NaN</td>\n",
       "      <td>NaN</td>\n",
       "      <td>NaN</td>\n",
       "      <td>NaN</td>\n",
       "      <td>NaN</td>\n",
       "      <td>NaN</td>\n",
       "      <td>NaN</td>\n",
       "      <td>NaN</td>\n",
       "      <td>NaN</td>\n",
       "      <td>NaN</td>\n",
       "      <td>NaN</td>\n",
       "      <td>NaN</td>\n",
       "      <td>NaN</td>\n",
       "      <td>NaN</td>\n",
       "      <td>NaN</td>\n",
       "      <td>NaN</td>\n",
       "      <td>NaN</td>\n",
       "      <td>NaN</td>\n",
       "      <td>NaN</td>\n",
       "      <td>NaN</td>\n",
       "      <td>NaN</td>\n",
       "      <td>NaN</td>\n",
       "      <td>NaN</td>\n",
       "      <td>NaN</td>\n",
       "      <td>NaN</td>\n",
       "    </tr>\n",
       "    <tr>\n",
       "      <th>777</th>\n",
       "      <td>NaN</td>\n",
       "      <td>NaN</td>\n",
       "      <td>NaN</td>\n",
       "      <td>NaN</td>\n",
       "      <td>NaN</td>\n",
       "      <td>NaN</td>\n",
       "      <td>NaN</td>\n",
       "      <td>NaN</td>\n",
       "      <td>NaN</td>\n",
       "      <td>NaN</td>\n",
       "      <td>NaN</td>\n",
       "      <td>NaN</td>\n",
       "      <td>NaN</td>\n",
       "      <td>NaN</td>\n",
       "      <td>NaN</td>\n",
       "      <td>NaN</td>\n",
       "      <td>NaN</td>\n",
       "      <td>NaN</td>\n",
       "      <td>NaN</td>\n",
       "      <td>NaN</td>\n",
       "      <td>NaN</td>\n",
       "      <td>NaN</td>\n",
       "      <td>NaN</td>\n",
       "      <td>NaN</td>\n",
       "      <td>NaN</td>\n",
       "      <td>NaN</td>\n",
       "      <td>NaN</td>\n",
       "      <td>NaN</td>\n",
       "      <td>NaN</td>\n",
       "      <td>NaN</td>\n",
       "      <td>NaN</td>\n",
       "      <td>NaN</td>\n",
       "      <td>NaN</td>\n",
       "      <td>NaN</td>\n",
       "      <td>NaN</td>\n",
       "      <td>NaN</td>\n",
       "      <td>NaN</td>\n",
       "      <td>NaN</td>\n",
       "      <td>NaN</td>\n",
       "      <td>NaN</td>\n",
       "      <td>NaN</td>\n",
       "      <td>NaN</td>\n",
       "      <td>NaN</td>\n",
       "      <td>NaN</td>\n",
       "      <td>NaN</td>\n",
       "      <td>NaN</td>\n",
       "      <td>NaN</td>\n",
       "      <td>NaN</td>\n",
       "      <td>NaN</td>\n",
       "      <td>NaN</td>\n",
       "      <td>NaN</td>\n",
       "      <td>NaN</td>\n",
       "      <td>NaN</td>\n",
       "    </tr>\n",
       "    <tr>\n",
       "      <th>784</th>\n",
       "      <td>NaN</td>\n",
       "      <td>NaN</td>\n",
       "      <td>NaN</td>\n",
       "      <td>NaN</td>\n",
       "      <td>NaN</td>\n",
       "      <td>NaN</td>\n",
       "      <td>NaN</td>\n",
       "      <td>NaN</td>\n",
       "      <td>NaN</td>\n",
       "      <td>NaN</td>\n",
       "      <td>NaN</td>\n",
       "      <td>NaN</td>\n",
       "      <td>NaN</td>\n",
       "      <td>NaN</td>\n",
       "      <td>NaN</td>\n",
       "      <td>NaN</td>\n",
       "      <td>NaN</td>\n",
       "      <td>NaN</td>\n",
       "      <td>NaN</td>\n",
       "      <td>NaN</td>\n",
       "      <td>NaN</td>\n",
       "      <td>NaN</td>\n",
       "      <td>NaN</td>\n",
       "      <td>NaN</td>\n",
       "      <td>NaN</td>\n",
       "      <td>NaN</td>\n",
       "      <td>NaN</td>\n",
       "      <td>NaN</td>\n",
       "      <td>NaN</td>\n",
       "      <td>NaN</td>\n",
       "      <td>NaN</td>\n",
       "      <td>NaN</td>\n",
       "      <td>NaN</td>\n",
       "      <td>NaN</td>\n",
       "      <td>NaN</td>\n",
       "      <td>NaN</td>\n",
       "      <td>NaN</td>\n",
       "      <td>NaN</td>\n",
       "      <td>NaN</td>\n",
       "      <td>NaN</td>\n",
       "      <td>NaN</td>\n",
       "      <td>NaN</td>\n",
       "      <td>NaN</td>\n",
       "      <td>NaN</td>\n",
       "      <td>NaN</td>\n",
       "      <td>NaN</td>\n",
       "      <td>NaN</td>\n",
       "      <td>NaN</td>\n",
       "      <td>NaN</td>\n",
       "      <td>NaN</td>\n",
       "      <td>NaN</td>\n",
       "      <td>NaN</td>\n",
       "      <td>NaN</td>\n",
       "    </tr>\n",
       "    <tr>\n",
       "      <th>817</th>\n",
       "      <td>NaN</td>\n",
       "      <td>NaN</td>\n",
       "      <td>NaN</td>\n",
       "      <td>NaN</td>\n",
       "      <td>NaN</td>\n",
       "      <td>NaN</td>\n",
       "      <td>NaN</td>\n",
       "      <td>NaN</td>\n",
       "      <td>NaN</td>\n",
       "      <td>NaN</td>\n",
       "      <td>NaN</td>\n",
       "      <td>NaN</td>\n",
       "      <td>NaN</td>\n",
       "      <td>NaN</td>\n",
       "      <td>NaN</td>\n",
       "      <td>NaN</td>\n",
       "      <td>NaN</td>\n",
       "      <td>NaN</td>\n",
       "      <td>NaN</td>\n",
       "      <td>NaN</td>\n",
       "      <td>NaN</td>\n",
       "      <td>NaN</td>\n",
       "      <td>NaN</td>\n",
       "      <td>NaN</td>\n",
       "      <td>NaN</td>\n",
       "      <td>NaN</td>\n",
       "      <td>NaN</td>\n",
       "      <td>NaN</td>\n",
       "      <td>NaN</td>\n",
       "      <td>NaN</td>\n",
       "      <td>NaN</td>\n",
       "      <td>NaN</td>\n",
       "      <td>NaN</td>\n",
       "      <td>NaN</td>\n",
       "      <td>NaN</td>\n",
       "      <td>NaN</td>\n",
       "      <td>NaN</td>\n",
       "      <td>NaN</td>\n",
       "      <td>NaN</td>\n",
       "      <td>NaN</td>\n",
       "      <td>NaN</td>\n",
       "      <td>NaN</td>\n",
       "      <td>NaN</td>\n",
       "      <td>NaN</td>\n",
       "      <td>NaN</td>\n",
       "      <td>NaN</td>\n",
       "      <td>NaN</td>\n",
       "      <td>NaN</td>\n",
       "      <td>NaN</td>\n",
       "      <td>NaN</td>\n",
       "      <td>NaN</td>\n",
       "      <td>NaN</td>\n",
       "      <td>NaN</td>\n",
       "    </tr>\n",
       "    <tr>\n",
       "      <th>822</th>\n",
       "      <td>NaN</td>\n",
       "      <td>NaN</td>\n",
       "      <td>NaN</td>\n",
       "      <td>NaN</td>\n",
       "      <td>NaN</td>\n",
       "      <td>NaN</td>\n",
       "      <td>NaN</td>\n",
       "      <td>NaN</td>\n",
       "      <td>NaN</td>\n",
       "      <td>NaN</td>\n",
       "      <td>NaN</td>\n",
       "      <td>NaN</td>\n",
       "      <td>NaN</td>\n",
       "      <td>NaN</td>\n",
       "      <td>NaN</td>\n",
       "      <td>NaN</td>\n",
       "      <td>NaN</td>\n",
       "      <td>NaN</td>\n",
       "      <td>NaN</td>\n",
       "      <td>NaN</td>\n",
       "      <td>NaN</td>\n",
       "      <td>NaN</td>\n",
       "      <td>NaN</td>\n",
       "      <td>NaN</td>\n",
       "      <td>NaN</td>\n",
       "      <td>NaN</td>\n",
       "      <td>NaN</td>\n",
       "      <td>NaN</td>\n",
       "      <td>NaN</td>\n",
       "      <td>NaN</td>\n",
       "      <td>NaN</td>\n",
       "      <td>NaN</td>\n",
       "      <td>NaN</td>\n",
       "      <td>NaN</td>\n",
       "      <td>NaN</td>\n",
       "      <td>NaN</td>\n",
       "      <td>NaN</td>\n",
       "      <td>NaN</td>\n",
       "      <td>NaN</td>\n",
       "      <td>NaN</td>\n",
       "      <td>NaN</td>\n",
       "      <td>NaN</td>\n",
       "      <td>NaN</td>\n",
       "      <td>NaN</td>\n",
       "      <td>NaN</td>\n",
       "      <td>NaN</td>\n",
       "      <td>NaN</td>\n",
       "      <td>NaN</td>\n",
       "      <td>NaN</td>\n",
       "      <td>NaN</td>\n",
       "      <td>NaN</td>\n",
       "      <td>NaN</td>\n",
       "      <td>NaN</td>\n",
       "    </tr>\n",
       "  </tbody>\n",
       "</table>\n",
       "</div>"
      ],
      "text/plain": [
       "     PreuHab  S1  S2  S3  S4  S5  S6  S7  S8  S9  S10  S11  S12  S13  S14  \\\n",
       "774      NaN NaN NaN NaN NaN NaN NaN NaN NaN NaN  NaN  NaN  NaN  NaN  NaN   \n",
       "777      NaN NaN NaN NaN NaN NaN NaN NaN NaN NaN  NaN  NaN  NaN  NaN  NaN   \n",
       "784      NaN NaN NaN NaN NaN NaN NaN NaN NaN NaN  NaN  NaN  NaN  NaN  NaN   \n",
       "817      NaN NaN NaN NaN NaN NaN NaN NaN NaN NaN  NaN  NaN  NaN  NaN  NaN   \n",
       "822      NaN NaN NaN NaN NaN NaN NaN NaN NaN NaN  NaN  NaN  NaN  NaN  NaN   \n",
       "\n",
       "     S15  S16  S17  S18  S19  S20  S21  S22  S23  S24  S25  S26  S27  S28  \\\n",
       "774  NaN  NaN  NaN  NaN  NaN  NaN  NaN  NaN  NaN  NaN  NaN  NaN  NaN  NaN   \n",
       "777  NaN  NaN  NaN  NaN  NaN  NaN  NaN  NaN  NaN  NaN  NaN  NaN  NaN  NaN   \n",
       "784  NaN  NaN  NaN  NaN  NaN  NaN  NaN  NaN  NaN  NaN  NaN  NaN  NaN  NaN   \n",
       "817  NaN  NaN  NaN  NaN  NaN  NaN  NaN  NaN  NaN  NaN  NaN  NaN  NaN  NaN   \n",
       "822  NaN  NaN  NaN  NaN  NaN  NaN  NaN  NaN  NaN  NaN  NaN  NaN  NaN  NaN   \n",
       "\n",
       "     S29  S30  S31  S32  S33  S34  S35  S36  S37  S38  S39  S40  S41  S42  \\\n",
       "774  NaN  NaN  NaN  NaN  NaN  NaN  NaN  NaN  NaN  NaN  NaN  NaN  NaN  NaN   \n",
       "777  NaN  NaN  NaN  NaN  NaN  NaN  NaN  NaN  NaN  NaN  NaN  NaN  NaN  NaN   \n",
       "784  NaN  NaN  NaN  NaN  NaN  NaN  NaN  NaN  NaN  NaN  NaN  NaN  NaN  NaN   \n",
       "817  NaN  NaN  NaN  NaN  NaN  NaN  NaN  NaN  NaN  NaN  NaN  NaN  NaN  NaN   \n",
       "822  NaN  NaN  NaN  NaN  NaN  NaN  NaN  NaN  NaN  NaN  NaN  NaN  NaN  NaN   \n",
       "\n",
       "     S43  S44  S45  S46  S47  S48  S49  S50  S51  S52  \n",
       "774  NaN  NaN  NaN  NaN  NaN  NaN  NaN  NaN  NaN  NaN  \n",
       "777  NaN  NaN  NaN  NaN  NaN  NaN  NaN  NaN  NaN  NaN  \n",
       "784  NaN  NaN  NaN  NaN  NaN  NaN  NaN  NaN  NaN  NaN  \n",
       "817  NaN  NaN  NaN  NaN  NaN  NaN  NaN  NaN  NaN  NaN  \n",
       "822  NaN  NaN  NaN  NaN  NaN  NaN  NaN  NaN  NaN  NaN  "
      ]
     },
     "execution_count": 11,
     "metadata": {},
     "output_type": "execute_result"
    },
    {
     "data": {
      "text/plain": [
       "(376, 53)"
      ]
     },
     "execution_count": 11,
     "metadata": {},
     "output_type": "execute_result"
    }
   ],
   "source": [
    "null_columns = df.columns[df.isnull().any()]\n",
    "df[df.isnull().any(axis=1)][null_columns].head()\n",
    "df[df.isnull().any(axis=1)][null_columns].shape"
   ]
  },
  {
   "cell_type": "code",
   "execution_count": 12,
   "metadata": {
    "ExecuteTime": {
     "end_time": "2020-01-06T11:56:48.174432Z",
     "start_time": "2020-01-06T11:56:48.118513Z"
    }
   },
   "outputs": [
    {
     "data": {
      "text/plain": [
       "(15406, 114)"
      ]
     },
     "execution_count": 12,
     "metadata": {},
     "output_type": "execute_result"
    }
   ],
   "source": [
    "dfn = df.dropna()\n",
    "dfn.shape"
   ]
  },
  {
   "cell_type": "markdown",
   "metadata": {},
   "source": [
    "## Afegir variable *diaAño*"
   ]
  },
  {
   "cell_type": "code",
   "execution_count": 13,
   "metadata": {
    "ExecuteTime": {
     "end_time": "2020-01-06T11:56:50.263487Z",
     "start_time": "2020-01-06T11:56:50.215515Z"
    }
   },
   "outputs": [
    {
     "data": {
      "text/plain": [
       "['fechaocupacion',\n",
       " 'diaAño',\n",
       " 'dia',\n",
       " 'mes',\n",
       " 'año',\n",
       " 'trimestre',\n",
       " 'añoMes',\n",
       " 'añoTrim',\n",
       " 'diaSemana',\n",
       " 'diaSemText',\n",
       " 'findes',\n",
       " 'temporada']"
      ]
     },
     "execution_count": 13,
     "metadata": {},
     "output_type": "execute_result"
    },
    {
     "name": "stderr",
     "output_type": "stream",
     "text": [
      "C:\\Users\\miquel.vallverdu\\AppData\\Local\\Continuum\\anaconda3\\lib\\site-packages\\ipykernel_launcher.py:4: FutureWarning: 'asobject' is deprecated. Use 'astype(object)' instead\n",
      "  after removing the cwd from sys.path.\n"
     ]
    }
   ],
   "source": [
    "dates = dates.rename(columns = {'date':'fechaocupacion'})\n",
    "dates.columns.tolist()\n",
    "df1 = pd.merge(dfn, dates[['fechaocupacion', 'diaAño']])\n",
    "df1.diaAño = df1.diaAño.asobject"
   ]
  },
  {
   "cell_type": "markdown",
   "metadata": {},
   "source": [
    "## Filtre de preus"
   ]
  },
  {
   "cell_type": "code",
   "execution_count": 14,
   "metadata": {
    "ExecuteTime": {
     "end_time": "2020-01-06T11:56:56.535905Z",
     "start_time": "2020-01-06T11:56:51.678681Z"
    }
   },
   "outputs": [],
   "source": [
    "colS = []\n",
    "for i in df1:\n",
    "    if re.search(r'PreuHab|S[0-9]+$', i):\n",
    "        colS.append(i)\n",
    "\n",
    "\n",
    "for i in colS:\n",
    "    df1 = df1[df1[i] > 0]\n",
    "    \n",
    "for i in colS:\n",
    "    df1 = df1[df1[i] >= 40]\n",
    "    \n",
    "pPhab = []\n",
    "## Càlcul percentatge representatiu de la mostra segons NHab\n",
    "for i in range(1700):\n",
    "    pPhab.append(round((df1[df1['PreuHab']>=i].shape[0]/df1.shape[0])*100, 2))\n",
    "    \n",
    "menorPreu1 = filter(filtroMenorQue1, pPhab)\n",
    "pPhab1 = []\n",
    "\n",
    "for i in menorPreu1:\n",
    "    pPhab1.append(i)\n",
    "    \n",
    "df1 = df1[df1['PreuHab']<=750]"
   ]
  },
  {
   "cell_type": "markdown",
   "metadata": {},
   "source": [
    "## Reetiquetatge"
   ]
  },
  {
   "cell_type": "code",
   "execution_count": 15,
   "metadata": {
    "ExecuteTime": {
     "end_time": "2020-01-06T11:56:56.877689Z",
     "start_time": "2020-01-06T11:56:56.833714Z"
    }
   },
   "outputs": [
    {
     "data": {
      "text/plain": [
       "array(['D021', 'D031', 'D032', 'D041', 'D051', 'D171', 'D211'],\n",
       "      dtype=object)"
      ]
     },
     "execution_count": 15,
     "metadata": {},
     "output_type": "execute_result"
    },
    {
     "data": {
      "text/plain": [
       "array(['Otros', 'TUI_UK_LTD', 'Huespedes', 'OL_MEDITERRANEO'],\n",
       "      dtype=object)"
      ]
     },
     "execution_count": 15,
     "metadata": {},
     "output_type": "execute_result"
    },
    {
     "data": {
      "text/plain": [
       "array(['DBL', 'FAM', 'PREM', 'SUI', 'IND', 'VIRTUAL'], dtype=object)"
      ]
     },
     "execution_count": 15,
     "metadata": {},
     "output_type": "execute_result"
    },
    {
     "data": {
      "text/plain": [
       "array(['AD', 'MP', 'PC', 'TI'], dtype=object)"
      ]
     },
     "execution_count": 15,
     "metadata": {},
     "output_type": "execute_result"
    },
    {
     "data": {
      "text/plain": [
       "array(['ZZZ', 'VACAC'], dtype=object)"
      ]
     },
     "execution_count": 15,
     "metadata": {},
     "output_type": "execute_result"
    },
    {
     "data": {
      "text/plain": [
       "array(['ZZ', 'TTOO', 'DIRECTO', 'ONLINE', 'GRUPOS'], dtype=object)"
      ]
     },
     "execution_count": 15,
     "metadata": {},
     "output_type": "execute_result"
    },
    {
     "data": {
      "text/plain": [
       "array(['GB', 'CE', 'ES', 'EAU', 'OE', 'EE', 'IS'], dtype=object)"
      ]
     },
     "execution_count": 15,
     "metadata": {},
     "output_type": "execute_result"
    }
   ],
   "source": [
    "df1.idhotel.unique()\n",
    "df1.idcliente.unique()\n",
    "df1.idtipohab.unique()\n",
    "df1.idregimen.unique()\n",
    "df1.idsegmento.unique()\n",
    "df1.id_canal.unique()\n",
    "df1.idpais_cliente.unique()"
   ]
  },
  {
   "cell_type": "code",
   "execution_count": 16,
   "metadata": {
    "ExecuteTime": {
     "end_time": "2020-01-06T11:57:06.511552Z",
     "start_time": "2020-01-06T11:57:06.374633Z"
    }
   },
   "outputs": [
    {
     "data": {
      "text/html": [
       "<div>\n",
       "<style scoped>\n",
       "    .dataframe tbody tr th:only-of-type {\n",
       "        vertical-align: middle;\n",
       "    }\n",
       "\n",
       "    .dataframe tbody tr th {\n",
       "        vertical-align: top;\n",
       "    }\n",
       "\n",
       "    .dataframe thead th {\n",
       "        text-align: right;\n",
       "    }\n",
       "</style>\n",
       "<table border=\"1\" class=\"dataframe\">\n",
       "  <thead>\n",
       "    <tr style=\"text-align: right;\">\n",
       "      <th></th>\n",
       "      <th>idhotel</th>\n",
       "      <th>fechaocupacion</th>\n",
       "      <th>idcliente</th>\n",
       "      <th>idtipohab</th>\n",
       "      <th>idregimen</th>\n",
       "      <th>idsegmento</th>\n",
       "      <th>id_canal</th>\n",
       "      <th>idpais_cliente</th>\n",
       "      <th>NHab</th>\n",
       "      <th>S1H</th>\n",
       "      <th>S2H</th>\n",
       "      <th>S3H</th>\n",
       "      <th>S4H</th>\n",
       "      <th>S5H</th>\n",
       "      <th>S6H</th>\n",
       "      <th>S7H</th>\n",
       "      <th>S8H</th>\n",
       "      <th>S9H</th>\n",
       "      <th>S10H</th>\n",
       "      <th>S11H</th>\n",
       "      <th>S12H</th>\n",
       "      <th>S13H</th>\n",
       "      <th>S14H</th>\n",
       "      <th>S15H</th>\n",
       "      <th>S16H</th>\n",
       "      <th>S17H</th>\n",
       "      <th>S18H</th>\n",
       "      <th>S19H</th>\n",
       "      <th>S20H</th>\n",
       "      <th>S21H</th>\n",
       "      <th>S22H</th>\n",
       "      <th>S23H</th>\n",
       "      <th>S24H</th>\n",
       "      <th>S25H</th>\n",
       "      <th>S26H</th>\n",
       "      <th>S27H</th>\n",
       "      <th>S28H</th>\n",
       "      <th>S29H</th>\n",
       "      <th>S30H</th>\n",
       "      <th>S31H</th>\n",
       "      <th>S32H</th>\n",
       "      <th>S33H</th>\n",
       "      <th>S34H</th>\n",
       "      <th>S35H</th>\n",
       "      <th>S36H</th>\n",
       "      <th>S37H</th>\n",
       "      <th>S38H</th>\n",
       "      <th>S39H</th>\n",
       "      <th>S40H</th>\n",
       "      <th>S41H</th>\n",
       "      <th>S42H</th>\n",
       "      <th>S43H</th>\n",
       "      <th>S44H</th>\n",
       "      <th>S45H</th>\n",
       "      <th>S46H</th>\n",
       "      <th>S47H</th>\n",
       "      <th>S48H</th>\n",
       "      <th>S49H</th>\n",
       "      <th>S50H</th>\n",
       "      <th>S51H</th>\n",
       "      <th>S52H</th>\n",
       "      <th>PreuHab</th>\n",
       "      <th>S1</th>\n",
       "      <th>S2</th>\n",
       "      <th>S3</th>\n",
       "      <th>S4</th>\n",
       "      <th>S5</th>\n",
       "      <th>S6</th>\n",
       "      <th>S7</th>\n",
       "      <th>S8</th>\n",
       "      <th>S9</th>\n",
       "      <th>S10</th>\n",
       "      <th>S11</th>\n",
       "      <th>S12</th>\n",
       "      <th>S13</th>\n",
       "      <th>S14</th>\n",
       "      <th>S15</th>\n",
       "      <th>S16</th>\n",
       "      <th>S17</th>\n",
       "      <th>S18</th>\n",
       "      <th>S19</th>\n",
       "      <th>S20</th>\n",
       "      <th>S21</th>\n",
       "      <th>S22</th>\n",
       "      <th>S23</th>\n",
       "      <th>S24</th>\n",
       "      <th>S25</th>\n",
       "      <th>S26</th>\n",
       "      <th>S27</th>\n",
       "      <th>S28</th>\n",
       "      <th>S29</th>\n",
       "      <th>S30</th>\n",
       "      <th>S31</th>\n",
       "      <th>S32</th>\n",
       "      <th>S33</th>\n",
       "      <th>S34</th>\n",
       "      <th>S35</th>\n",
       "      <th>S36</th>\n",
       "      <th>S37</th>\n",
       "      <th>S38</th>\n",
       "      <th>S39</th>\n",
       "      <th>S40</th>\n",
       "      <th>S41</th>\n",
       "      <th>S42</th>\n",
       "      <th>S43</th>\n",
       "      <th>S44</th>\n",
       "      <th>S45</th>\n",
       "      <th>S46</th>\n",
       "      <th>S47</th>\n",
       "      <th>S48</th>\n",
       "      <th>S49</th>\n",
       "      <th>S50</th>\n",
       "      <th>S51</th>\n",
       "      <th>S52</th>\n",
       "      <th>diaAño</th>\n",
       "    </tr>\n",
       "  </thead>\n",
       "  <tbody>\n",
       "    <tr>\n",
       "      <th>2367</th>\n",
       "      <td>D032</td>\n",
       "      <td>2019-08-10</td>\n",
       "      <td>Huespedes</td>\n",
       "      <td>VIRTUAL</td>\n",
       "      <td>PC</td>\n",
       "      <td>ZZZ</td>\n",
       "      <td>ZZ</td>\n",
       "      <td>ES</td>\n",
       "      <td>1</td>\n",
       "      <td>0</td>\n",
       "      <td>0</td>\n",
       "      <td>0</td>\n",
       "      <td>0</td>\n",
       "      <td>0</td>\n",
       "      <td>0</td>\n",
       "      <td>0</td>\n",
       "      <td>0</td>\n",
       "      <td>0</td>\n",
       "      <td>0</td>\n",
       "      <td>0</td>\n",
       "      <td>0</td>\n",
       "      <td>0</td>\n",
       "      <td>0</td>\n",
       "      <td>0</td>\n",
       "      <td>0</td>\n",
       "      <td>0</td>\n",
       "      <td>0</td>\n",
       "      <td>0</td>\n",
       "      <td>0</td>\n",
       "      <td>0</td>\n",
       "      <td>0</td>\n",
       "      <td>0</td>\n",
       "      <td>0</td>\n",
       "      <td>0</td>\n",
       "      <td>0</td>\n",
       "      <td>0</td>\n",
       "      <td>0</td>\n",
       "      <td>0</td>\n",
       "      <td>0</td>\n",
       "      <td>0</td>\n",
       "      <td>0</td>\n",
       "      <td>0</td>\n",
       "      <td>0</td>\n",
       "      <td>0</td>\n",
       "      <td>0</td>\n",
       "      <td>0</td>\n",
       "      <td>0</td>\n",
       "      <td>0</td>\n",
       "      <td>0</td>\n",
       "      <td>0</td>\n",
       "      <td>0</td>\n",
       "      <td>0</td>\n",
       "      <td>0</td>\n",
       "      <td>0</td>\n",
       "      <td>0</td>\n",
       "      <td>0</td>\n",
       "      <td>0</td>\n",
       "      <td>0</td>\n",
       "      <td>0</td>\n",
       "      <td>0</td>\n",
       "      <td>0</td>\n",
       "      <td>296.945454</td>\n",
       "      <td>296.945454</td>\n",
       "      <td>296.945454</td>\n",
       "      <td>296.945454</td>\n",
       "      <td>296.945454</td>\n",
       "      <td>296.945454</td>\n",
       "      <td>296.945454</td>\n",
       "      <td>296.945454</td>\n",
       "      <td>296.945454</td>\n",
       "      <td>296.945454</td>\n",
       "      <td>296.945454</td>\n",
       "      <td>296.945454</td>\n",
       "      <td>296.945454</td>\n",
       "      <td>296.945454</td>\n",
       "      <td>296.945454</td>\n",
       "      <td>296.945454</td>\n",
       "      <td>296.945454</td>\n",
       "      <td>296.945454</td>\n",
       "      <td>296.945454</td>\n",
       "      <td>296.945454</td>\n",
       "      <td>296.945454</td>\n",
       "      <td>296.945454</td>\n",
       "      <td>296.945454</td>\n",
       "      <td>296.945454</td>\n",
       "      <td>296.945454</td>\n",
       "      <td>296.945454</td>\n",
       "      <td>296.945454</td>\n",
       "      <td>296.945454</td>\n",
       "      <td>296.945454</td>\n",
       "      <td>296.945454</td>\n",
       "      <td>296.945454</td>\n",
       "      <td>296.945454</td>\n",
       "      <td>296.945454</td>\n",
       "      <td>296.945454</td>\n",
       "      <td>296.945454</td>\n",
       "      <td>296.945454</td>\n",
       "      <td>296.945454</td>\n",
       "      <td>296.945454</td>\n",
       "      <td>296.945454</td>\n",
       "      <td>296.945454</td>\n",
       "      <td>296.945454</td>\n",
       "      <td>296.945454</td>\n",
       "      <td>296.945454</td>\n",
       "      <td>296.945454</td>\n",
       "      <td>296.945454</td>\n",
       "      <td>296.945454</td>\n",
       "      <td>296.945454</td>\n",
       "      <td>296.945454</td>\n",
       "      <td>296.945454</td>\n",
       "      <td>296.945454</td>\n",
       "      <td>296.945454</td>\n",
       "      <td>296.945454</td>\n",
       "      <td>296.945454</td>\n",
       "      <td>223</td>\n",
       "    </tr>\n",
       "  </tbody>\n",
       "</table>\n",
       "</div>"
      ],
      "text/plain": [
       "     idhotel fechaocupacion  idcliente idtipohab idregimen idsegmento  \\\n",
       "2367    D032     2019-08-10  Huespedes   VIRTUAL        PC        ZZZ   \n",
       "\n",
       "     id_canal idpais_cliente  NHab  S1H  S2H  S3H  S4H  S5H  S6H  S7H  S8H  \\\n",
       "2367       ZZ             ES     1    0    0    0    0    0    0    0    0   \n",
       "\n",
       "      S9H  S10H  S11H  S12H  S13H  S14H  S15H  S16H  S17H  S18H  S19H  S20H  \\\n",
       "2367    0     0     0     0     0     0     0     0     0     0     0     0   \n",
       "\n",
       "      S21H  S22H  S23H  S24H  S25H  S26H  S27H  S28H  S29H  S30H  S31H  S32H  \\\n",
       "2367     0     0     0     0     0     0     0     0     0     0     0     0   \n",
       "\n",
       "      S33H  S34H  S35H  S36H  S37H  S38H  S39H  S40H  S41H  S42H  S43H  S44H  \\\n",
       "2367     0     0     0     0     0     0     0     0     0     0     0     0   \n",
       "\n",
       "      S45H  S46H  S47H  S48H  S49H  S50H  S51H  S52H     PreuHab          S1  \\\n",
       "2367     0     0     0     0     0     0     0     0  296.945454  296.945454   \n",
       "\n",
       "              S2          S3          S4          S5          S6          S7  \\\n",
       "2367  296.945454  296.945454  296.945454  296.945454  296.945454  296.945454   \n",
       "\n",
       "              S8          S9         S10         S11         S12         S13  \\\n",
       "2367  296.945454  296.945454  296.945454  296.945454  296.945454  296.945454   \n",
       "\n",
       "             S14         S15         S16         S17         S18         S19  \\\n",
       "2367  296.945454  296.945454  296.945454  296.945454  296.945454  296.945454   \n",
       "\n",
       "             S20         S21         S22         S23         S24         S25  \\\n",
       "2367  296.945454  296.945454  296.945454  296.945454  296.945454  296.945454   \n",
       "\n",
       "             S26         S27         S28         S29         S30         S31  \\\n",
       "2367  296.945454  296.945454  296.945454  296.945454  296.945454  296.945454   \n",
       "\n",
       "             S32         S33         S34         S35         S36         S37  \\\n",
       "2367  296.945454  296.945454  296.945454  296.945454  296.945454  296.945454   \n",
       "\n",
       "             S38         S39         S40         S41         S42         S43  \\\n",
       "2367  296.945454  296.945454  296.945454  296.945454  296.945454  296.945454   \n",
       "\n",
       "             S44         S45         S46         S47         S48         S49  \\\n",
       "2367  296.945454  296.945454  296.945454  296.945454  296.945454  296.945454   \n",
       "\n",
       "             S50         S51         S52 diaAño  \n",
       "2367  296.945454  296.945454  296.945454    223  "
      ]
     },
     "execution_count": 16,
     "metadata": {},
     "output_type": "execute_result"
    }
   ],
   "source": [
    "df1[df1.idtipohab=='VIRTUAL']"
   ]
  },
  {
   "cell_type": "code",
   "execution_count": 14,
   "metadata": {
    "ExecuteTime": {
     "end_time": "2020-01-05T13:26:55.114091Z",
     "start_time": "2020-01-05T13:26:55.084110Z"
    }
   },
   "outputs": [],
   "source": [
    "df1.idhotel = df1.idhotel.replace(['D021'], 'MAR_MENUDA')\n",
    "df1.idhotel = df1.idhotel.replace(['D031'], 'DONAIRE_BEACH')\n",
    "df1.idhotel = df1.idhotel.replace(['D032'], 'COSTA_SALOU')\n",
    "df1.idhotel = df1.idhotel.replace(['D041'], 'BAHIA_TOSSA')\n",
    "df1.idhotel = df1.idhotel.replace(['D051'], 'TAURUS_AQUAPARK')\n",
    "df1.idhotel = df1.idhotel.replace(['D171'], 'PORT_SALOU')\n",
    "df1.idhotel = df1.idhotel.replace(['D211'], 'AV_SUITES')\n",
    "\n",
    "df1.idsegmento = df1.idsegmento.replace(['ZZZ'], 'DESCONOCIDO')\n",
    "\n",
    "df1.id_canal = df1.id_canal.replace(['ZZ'], 'DESCONOCIDO')\n",
    "\n",
    "df1.idtipohab = df1.idtipohab.replace('VIRTUAL', 'DBL')"
   ]
  },
  {
   "cell_type": "markdown",
   "metadata": {},
   "source": [
    "Es substitueix el cas de l'habitació de tipus virtual per una habitació de tipus doble. Ja que l'hotel que la ven és el COSTA_SALOU i en l'anàlisi bivariat del tipus d'habitació respecte l'hotel es pot veure que aquest hotel només ven habitacions dobles."
   ]
  },
  {
   "cell_type": "markdown",
   "metadata": {},
   "source": [
    "## Feature construction"
   ]
  },
  {
   "cell_type": "code",
   "execution_count": 16,
   "metadata": {
    "ExecuteTime": {
     "end_time": "2020-01-05T13:29:36.150769Z",
     "start_time": "2020-01-05T13:29:36.127787Z"
    }
   },
   "outputs": [],
   "source": [
    "df1.idhotel = df1.idhotel.replace('MAR_MENUDA', 'MME')\n",
    "df1.idhotel = df1.idhotel.replace('DONAIRE_BEACH', 'DON')\n",
    "df1.idhotel = df1.idhotel.replace('COSTA_SALOU', 'SAL')\n",
    "df1.idhotel = df1.idhotel.replace('BAHIA_TOSSA', 'TOS')\n",
    "df1.idhotel = df1.idhotel.replace('TAURUS_AQUAPARK', 'TAU')\n",
    "df1.idhotel = df1.idhotel.replace('PORT_SALOU', 'PAV')\n",
    "df1.idhotel = df1.idhotel.replace('AV_SUITES', 'AVS')"
   ]
  },
  {
   "cell_type": "markdown",
   "metadata": {},
   "source": [
    "**temps i temperatura**"
   ]
  },
  {
   "cell_type": "code",
   "execution_count": 17,
   "metadata": {
    "ExecuteTime": {
     "end_time": "2020-01-05T13:30:53.511592Z",
     "start_time": "2020-01-05T13:30:50.494290Z"
    }
   },
   "outputs": [
    {
     "name": "stderr",
     "output_type": "stream",
     "text": [
      "C:\\Users\\miquel.vallverdu\\AppData\\Local\\Continuum\\anaconda3\\lib\\site-packages\\pandas\\core\\frame.py:7138: FutureWarning: Sorting because non-concatenation axis is not aligned. A future version\n",
      "of pandas will change to not sort by default.\n",
      "\n",
      "To accept the future behavior, pass 'sort=False'.\n",
      "\n",
      "To retain the current behavior and silence the warning, pass 'sort=True'.\n",
      "\n",
      "  sort=sort,\n"
     ]
    }
   ],
   "source": [
    "dfw = pd.DataFrame(columns = ['date_int', 'date', 'weather', 'rain', 'rain_total', 'hotel'])\n",
    "\n",
    "for year in ['2018', '2019']:\n",
    "    directory = os.path.join(mainpath,\"csv/%s/\"%(year))\n",
    "    os.chdir(directory)\n",
    "    for root,dirs,files in os.walk(directory):\n",
    "        for file in files:\n",
    "            if file.endswith(\".csv\"):\n",
    "               f=open(file, 'r')\n",
    "               dfw = dfw.append(pd.read_csv(f)) \n",
    "               f.close()\n",
    "            \n",
    "dfw = dfw.rename(columns = {'date':'fechaocupacion', 'hotel':'idhotel'})\n",
    "\n",
    "df = pd.merge(df1, dfw[['fechaocupacion', 'idhotel', 'weather', 'temp']])"
   ]
  },
  {
   "cell_type": "markdown",
   "metadata": {},
   "source": [
    "**mes, dia de la setmana, caps de setmana i temporada**"
   ]
  },
  {
   "cell_type": "code",
   "execution_count": 19,
   "metadata": {
    "ExecuteTime": {
     "end_time": "2020-01-05T13:34:11.905727Z",
     "start_time": "2020-01-05T13:34:11.868751Z"
    }
   },
   "outputs": [],
   "source": [
    "dates = dates.rename(columns = {'date':'fechaocupacion'})\n",
    "df = pd.merge(df,dates[['fechaocupacion', 'mes', 'diaSemana', 'findes', 'temporada']])\n"
   ]
  },
  {
   "cell_type": "markdown",
   "metadata": {},
   "source": [
    "**festius**"
   ]
  },
  {
   "cell_type": "code",
   "execution_count": 22,
   "metadata": {
    "ExecuteTime": {
     "end_time": "2020-01-05T13:37:39.595330Z",
     "start_time": "2020-01-05T13:37:38.090310Z"
    }
   },
   "outputs": [
    {
     "data": {
      "text/plain": [
       "holiday    14689\n",
       "dtype: int64"
      ]
     },
     "execution_count": 22,
     "metadata": {},
     "output_type": "execute_result"
    },
    {
     "data": {
      "text/plain": [
       "0"
      ]
     },
     "execution_count": 22,
     "metadata": {},
     "output_type": "execute_result"
    },
    {
     "data": {
      "text/plain": [
       "(14991, 122)"
      ]
     },
     "execution_count": 22,
     "metadata": {},
     "output_type": "execute_result"
    }
   ],
   "source": [
    "countries = ['ch', 'at', 'lt', 'se', 'ie', 'ua',\n",
    "             'is', 'ru', 'be', 'es', 'pt', 'cz',\n",
    "             'ro', 'pl', 'fr', 'it', 'nl', 'gb', 'de']\n",
    "\n",
    "dfHolidays = pd.DataFrame(columns = ['date', 'holiday', 'country'])\n",
    "\n",
    "for year in ['2018', '2019']:\n",
    "    for country in countries:\n",
    "        with open(mainpath + \"holidays/bank_days_1_%s_%s.p\" % (year, country) , \"rb\") as file:\n",
    "            d = pickle.load(file)\n",
    "            for key in list(d.keys()):\n",
    "                if d[key]['type'][0]=='National holiday':\n",
    "                    dfAux = pd.DataFrame.from_dict({'date': d[key]['date'], 'holiday':[d[key]['type'][0]], 'country':'%s'%(country)})\n",
    "                    dfHolidays = dfHolidays.append(dfAux)\n",
    "                    \n",
    "dfHolidays.country = dfHolidays.country.replace(['ch', 'at', 'de', 'nl', 'it', 'pl', 'be', 'cz'], 'CE')\n",
    "dfHolidays.country = dfHolidays.country.replace(['ro', 'ru', 'lt', 'ua'], 'EE')\n",
    "dfHolidays.country = dfHolidays.country.replace(['se'], 'ESC')\n",
    "dfHolidays.country = dfHolidays.country.replace(['pt', 'fr'], 'OE')\n",
    "dfHolidays.country = dfHolidays.country.replace(['gb', 'ie'], 'GB')\n",
    "dfHolidays.country = dfHolidays.country.replace(['es'], 'ES')\n",
    "dfHolidays.country = dfHolidays.country.replace(['is'], 'IS')\n",
    "\n",
    "dfHolidays = dfHolidays.drop_duplicates()\n",
    "\n",
    "dfHolidays = dfHolidays.rename(columns = {'date': 'fechaocupacion', 'country': 'idpais_cliente'})\n",
    "df = df.merge(dfHolidays, how='left')\n",
    "\n",
    "null_columns = df.columns[df.isnull().any()]\n",
    "df[null_columns].isnull().sum()\n",
    "sum(df.duplicated())\n",
    "df.shape\n",
    "\n",
    "df = df.fillna('No festiu')"
   ]
  },
  {
   "cell_type": "markdown",
   "metadata": {},
   "source": [
    "### Transformació a variables numèriques"
   ]
  },
  {
   "cell_type": "code",
   "execution_count": 25,
   "metadata": {
    "ExecuteTime": {
     "end_time": "2020-01-05T13:40:57.511885Z",
     "start_time": "2020-01-05T13:40:57.336986Z"
    }
   },
   "outputs": [],
   "source": [
    "encoder = ce.OrdinalEncoder(cols=['findes'])\n",
    "df.findes = encoder.fit_transform(df['findes'], df['NHab'])\n",
    "\n",
    "df_fecha = df['fechaocupacion']\n",
    "df = df.drop('fechaocupacion', axis = 1)\n",
    "\n",
    "df = pd.get_dummies(df, prefix_sep = '_', drop_first=True)"
   ]
  },
  {
   "cell_type": "markdown",
   "metadata": {},
   "source": [
    "## Feature selection"
   ]
  },
  {
   "cell_type": "code",
   "execution_count": 28,
   "metadata": {
    "ExecuteTime": {
     "end_time": "2020-01-05T13:49:08.076941Z",
     "start_time": "2020-01-05T13:49:07.227385Z"
    }
   },
   "outputs": [],
   "source": [
    "df1 = df.drop(['S52', 'S51', 'S50', 'S49', 'S48', 'S47', 'S46', 'S45', 'S44', 'S43', 'S42', 'S41', 'S40',\n",
    "               'S39', 'S38', 'S37', 'S36', 'S35', 'S34', 'S33', 'S32', 'S31', 'S30', 'S29', 'S28', 'S27',\n",
    "               'S26', 'S25', 'S24', 'S23', 'S22', 'S21', 'S20', 'S19', 'S18', 'S17', 'S16', 'S15', 'S14',\n",
    "               'S13', 'S12', 'S11', 'S10', 'S9', 'S8', 'S7', 'S6', 'S5', 'S4', 'S3', 'S2', 'S1',\n",
    "               'S1H', 'S4H', 'S5H', 'S6H', 'S7H', 'S8H', \n",
    "               'S9H', 'S10H', 'S11H', 'S12H', 'S13H', 'S14H', 'S15H', 'S16H', 'S17H', 'S18H', 'S19H', \n",
    "               'S20H', 'S21H', 'S22H', 'S23H', 'S24H', 'S25H', 'S26H', 'S27H', 'S28H', 'S29H', 'S30H', \n",
    "               'S31H', 'S32H', 'S33H', 'S34H', 'S35H', 'S36H', 'S37H', 'S38H', 'S39H', 'S40H', 'S41H', \n",
    "               'S42H', 'S43H', 'S44H', 'S45H', 'S46H', 'S47H', 'S48H', 'S49H','S50H', 'S51H'], axis = 1)\n",
    "\n",
    "df1 = df1.join(df_fecha)\n",
    "df1.to_csv(mainpath + 'dfReals.csv', header = True, index = None)"
   ]
  }
 ],
 "metadata": {
  "kernelspec": {
   "display_name": "Python 3",
   "language": "python",
   "name": "python3"
  },
  "language_info": {
   "codemirror_mode": {
    "name": "ipython",
    "version": 3
   },
   "file_extension": ".py",
   "mimetype": "text/x-python",
   "name": "python",
   "nbconvert_exporter": "python",
   "pygments_lexer": "ipython3",
   "version": "3.7.3"
  },
  "toc": {
   "base_numbering": 1,
   "nav_menu": {},
   "number_sections": true,
   "sideBar": true,
   "skip_h1_title": false,
   "title_cell": "Table of Contents",
   "title_sidebar": "Contents",
   "toc_cell": false,
   "toc_position": {
    "height": "calc(100% - 180px)",
    "left": "10px",
    "top": "150px",
    "width": "384px"
   },
   "toc_section_display": true,
   "toc_window_display": true
  },
  "varInspector": {
   "cols": {
    "lenName": 16,
    "lenType": 16,
    "lenVar": 40
   },
   "kernels_config": {
    "python": {
     "delete_cmd_postfix": "",
     "delete_cmd_prefix": "del ",
     "library": "var_list.py",
     "varRefreshCmd": "print(var_dic_list())"
    },
    "r": {
     "delete_cmd_postfix": ") ",
     "delete_cmd_prefix": "rm(",
     "library": "var_list.r",
     "varRefreshCmd": "cat(var_dic_list()) "
    }
   },
   "types_to_exclude": [
    "module",
    "function",
    "builtin_function_or_method",
    "instance",
    "_Feature"
   ],
   "window_display": false
  }
 },
 "nbformat": 4,
 "nbformat_minor": 2
}
