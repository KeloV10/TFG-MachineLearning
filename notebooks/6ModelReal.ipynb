{
 "cells": [
  {
   "cell_type": "markdown",
   "metadata": {},
   "source": [
    "# Passos previs"
   ]
  },
  {
   "cell_type": "markdown",
   "metadata": {},
   "source": [
    "## Importar"
   ]
  },
  {
   "cell_type": "code",
   "execution_count": 1,
   "metadata": {
    "ExecuteTime": {
     "end_time": "2020-01-10T22:28:50.970216Z",
     "start_time": "2020-01-10T22:28:43.271548Z"
    }
   },
   "outputs": [
    {
     "name": "stderr",
     "output_type": "stream",
     "text": [
      "C:\\Users\\miquel.vallverdu\\AppData\\Local\\Continuum\\anaconda3\\lib\\site-packages\\sklearn\\externals\\six.py:31: FutureWarning: The module is deprecated in version 0.21 and will be removed in version 0.23 since we've dropped support for Python 2.7. Please rely on the official version of six (https://pypi.org/project/six/).\n",
      "  \"(https://pypi.org/project/six/).\", FutureWarning)\n",
      "C:\\Users\\miquel.vallverdu\\AppData\\Local\\Continuum\\anaconda3\\lib\\site-packages\\sklearn\\externals\\joblib\\__init__.py:15: FutureWarning: sklearn.externals.joblib is deprecated in 0.21 and will be removed in 0.23. Please import this functionality directly from joblib, which can be installed with: pip install joblib. If this warning is raised when loading pickled models, you may need to re-serialize those models with scikit-learn 0.21+.\n",
      "  warnings.warn(msg, category=FutureWarning)\n"
     ]
    }
   ],
   "source": [
    "import csv\n",
    "import pandas as pd\n",
    "import numpy as np\n",
    "import mglearn\n",
    "import seaborn as sns\n",
    "import locale\n",
    "import matplotlib\n",
    "import matplotlib.pyplot as plt\n",
    "from scipy.stats import pearsonr\n",
    "import re\n",
    "%matplotlib inline\n",
    "matplotlib.style.use('ggplot')\n",
    "## modificar tamany figura\n",
    "from matplotlib.pyplot import figure\n",
    "from math import sqrt\n",
    "from statistics import mean \n",
    "\n",
    "import os\n",
    "\n",
    "\n",
    "## Train & test\n",
    "from sklearn.model_selection import train_test_split\n",
    "\n",
    "\n",
    "## errors\n",
    "\n",
    "from sklearn.metrics import mean_squared_error \n",
    "from sklearn.metrics import mean_absolute_error\n",
    "from sklearn.metrics import r2_score\n",
    "\n",
    "## plot DT\n",
    "from sklearn.externals.six import StringIO  \n",
    "from IPython.display import Image  \n",
    "from sklearn.tree import export_graphviz\n",
    "import pydotplus\n",
    "\n",
    "## Random forest\n",
    "from sklearn.ensemble import RandomForestRegressor\n",
    "\n",
    "from IPython.core.interactiveshell import InteractiveShell\n",
    "InteractiveShell.ast_node_interactivity = \"all\"\n",
    "\n",
    "pd.set_option('display.max_columns',None)\n",
    "#pd.set_option('display.max_rows', None)"
   ]
  },
  {
   "cell_type": "markdown",
   "metadata": {},
   "source": [
    "## Funcions"
   ]
  },
  {
   "cell_type": "code",
   "execution_count": 2,
   "metadata": {
    "ExecuteTime": {
     "end_time": "2020-01-10T22:28:51.010135Z",
     "start_time": "2020-01-10T22:28:50.986141Z"
    }
   },
   "outputs": [],
   "source": [
    " def plot_feat_imp(model, number,predictors):\n",
    "    feat_imp = pd.Series(model.feature_importances_).sort_values(ascending=False)\n",
    "\n",
    "\n",
    "    feat_imp = feat_imp[0:number]\n",
    "    name = []\n",
    "    for i in feat_imp.index.tolist():\n",
    "        name.append(predictors[i])\n",
    "\n",
    "\n",
    "    feat_imp.plot(kind='bar', title='Feature Importances')\n",
    "    plt.xticks(range(0, len(feat_imp)),name, rotation='vertical')\n",
    "    plt.ylabel('Feature Importance Score')\n",
    "\n",
    "\n",
    "def real_scores(model, X_train, Y_train, X_test, Y_test):\n",
    "    model.fit(X_train, Y_train)\n",
    "    r2_test = round(model.score(X_test, Y_test), 4)\n",
    "    pred_test = np.round(model.predict(X_test))\n",
    "    mse_test = round(mean_squared_error(Y_test, pred_test), 4)\n",
    "    rmse_test = round(mean_squared_error(Y_test, pred_test, squared = False), 4)\n",
    "    mae_test = round(mean_absolute_error(Y_test, pred_test), 4)\n",
    "    scores = pd.DataFrame([r2_test, mse_test, rmse_test, mae_test])\n",
    "    scores = scores.rename(columns={0: \"Scores\"}, index={0:\"R2\", 1:\"MSE\", 2:\"RMSE\", 3:\"MAE\"})\n",
    "    \n",
    "    return [print(scores)]\n"
   ]
  },
  {
   "cell_type": "markdown",
   "metadata": {},
   "source": [
    "## Càrrega de dades"
   ]
  },
  {
   "cell_type": "code",
   "execution_count": 3,
   "metadata": {
    "ExecuteTime": {
     "end_time": "2020-01-10T22:28:51.442331Z",
     "start_time": "2020-01-10T22:28:51.022151Z"
    }
   },
   "outputs": [],
   "source": [
    "mainpath = \"C:/Users/miquel.vallverdu/Desktop/Miquel/TFG/Repos/Bismart-P19824-PrediccionOcupacionHoteles_TFG_MVallverdu/dataset/\"\n",
    "#mainpath = \"C:/Users/Miquel/Desktop/Miquel/Estudis/ESTADISTICA/TFG/\"\n",
    "\n",
    "df = pd.read_csv(mainpath + \"dfModel.csv\", sep = \",\")\n",
    "dfReal = pd.read_csv(mainpath + \"dfReals.csv\", sep = \",\")"
   ]
  },
  {
   "cell_type": "code",
   "execution_count": 4,
   "metadata": {
    "ExecuteTime": {
     "end_time": "2020-01-10T22:28:51.475375Z",
     "start_time": "2020-01-10T22:28:51.442331Z"
    }
   },
   "outputs": [],
   "source": [
    "df = df[['NHab',\n",
    " 'S2H',\n",
    " 'S3H',\n",
    " 'S52H',\n",
    " 'PreuHab',\n",
    " 'diaAño',\n",
    " 'weather',\n",
    " 'temp',\n",
    " 'mes',\n",
    " #'diaSemana',\n",
    " #'findes',\n",
    " #'idhotel_DON',\n",
    " #'idhotel_MME',\n",
    " 'idhotel_PAV',\n",
    " #'idhotel_SAL',\n",
    " 'idhotel_TAU',\n",
    " #'idhotel_TOS',\n",
    " 'idcliente_OL_MEDITERRANEO',\n",
    " 'idcliente_Otros',\n",
    " 'idcliente_TUI_UK_LTD',\n",
    " 'idtipohab_FAM',\n",
    " #'idtipohab_IND',\n",
    " 'idtipohab_PREM',\n",
    " 'idtipohab_SUI',\n",
    " 'idregimen_MP',\n",
    " 'idregimen_PC',\n",
    " #'idregimen_SHAB',\n",
    " 'idregimen_TI',\n",
    " 'idsegmento_VACAC',\n",
    " #'id_canal_DIRECTO',\n",
    " 'id_canal_GRUPOS',\n",
    " #'id_canal_ONLINE',\n",
    " 'id_canal_TTOO',\n",
    " #'idpais_cliente_EAU',\n",
    " #'idpais_cliente_EE',\n",
    " 'idpais_cliente_ES',\n",
    " 'idpais_cliente_ESC',\n",
    " #'idpais_cliente_GB',\n",
    " #'idpais_cliente_IS',\n",
    " #'idpais_cliente_OE',\n",
    " 'temporada_baja',\n",
    " #'holiday_No festiu',\n",
    " 'fechaocupacion'\n",
    " ]]\n",
    "\n"
   ]
  },
  {
   "cell_type": "markdown",
   "metadata": {},
   "source": [
    "En les dades reals no hi ha cap variable que sigui *idpais_cliente_ESC*, per tant, es crea una variable amb aquest nom, plena de zeros, i s'afegeix en les dades reals per tal de poder fer les prediccions, ja que han de quadrar totes les variables."
   ]
  },
  {
   "cell_type": "code",
   "execution_count": 5,
   "metadata": {
    "ExecuteTime": {
     "end_time": "2020-01-10T22:28:53.367102Z",
     "start_time": "2020-01-10T22:28:53.349113Z"
    }
   },
   "outputs": [],
   "source": [
    "dfReal = dfReal[['NHab',\n",
    " 'S2H',\n",
    " 'S3H',\n",
    " 'S52H',\n",
    " 'PreuHab',\n",
    " 'diaAño',\n",
    " 'weather',\n",
    " 'temp',\n",
    " 'mes',\n",
    " #'diaSemana',\n",
    " #'findes',\n",
    " #'idhotel_DON',\n",
    " #'idhotel_MME',\n",
    " 'idhotel_PAV',\n",
    " #'idhotel_SAL',\n",
    " 'idhotel_TAU',\n",
    " #'idhotel_TOS',\n",
    " 'idcliente_OL_MEDITERRANEO',\n",
    " 'idcliente_Otros',\n",
    " 'idcliente_TUI_UK_LTD',\n",
    " 'idtipohab_FAM',\n",
    " #'idtipohab_IND',\n",
    " 'idtipohab_PREM',\n",
    " 'idtipohab_SUI',\n",
    " 'idregimen_MP',\n",
    " 'idregimen_PC',\n",
    " #'idregimen_SHAB',\n",
    " 'idregimen_TI',\n",
    " 'idsegmento_VACAC',\n",
    " #'id_canal_DIRECTO',\n",
    " 'id_canal_GRUPOS',\n",
    " #'id_canal_ONLINE',\n",
    " 'id_canal_TTOO',\n",
    " #'idpais_cliente_EAU',\n",
    " #'idpais_cliente_EE',\n",
    " 'idpais_cliente_ES',\n",
    " #'idpais_cliente_ESC',\n",
    " #'idpais_cliente_GB',\n",
    " #'idpais_cliente_IS',\n",
    " #'idpais_cliente_OE',\n",
    " 'temporada_baja',\n",
    " #'holiday_No festiu',\n",
    " 'fechaocupacion'\n",
    " ]]"
   ]
  },
  {
   "cell_type": "code",
   "execution_count": 6,
   "metadata": {
    "ExecuteTime": {
     "end_time": "2020-01-10T22:28:53.517018Z",
     "start_time": "2020-01-10T22:28:53.497028Z"
    }
   },
   "outputs": [],
   "source": [
    "dfReal = dfReal.assign(**dict.fromkeys('A',0))\n",
    "dfReal = dfReal.rename(columns={\"A\":\"idpais_cliente_ESC\"})"
   ]
  },
  {
   "cell_type": "markdown",
   "metadata": {},
   "source": [
    "# Train i test"
   ]
  },
  {
   "cell_type": "code",
   "execution_count": 7,
   "metadata": {
    "ExecuteTime": {
     "end_time": "2020-01-10T22:28:55.453764Z",
     "start_time": "2020-01-10T22:28:55.305718Z"
    }
   },
   "outputs": [],
   "source": [
    "features_df = df.drop(['NHab',], axis = 1)\n",
    "target = df.NHab\n",
    "\n",
    "x_train, x_test, y_train, y_test = train_test_split(features_df.drop(['fechaocupacion', 'diaAño'], axis = 1), target, random_state=0)\n",
    "train = x_train.join(y_train)\n",
    "test = x_test.join(y_test)\n",
    "\n",
    "x_real = dfReal.drop(['NHab', 'fechaocupacion', 'diaAño'], axis = 1)\n",
    "y_real = dfReal.NHab\n",
    "\n",
    "x_real_ago = dfReal[dfReal['fechaocupacion'].str.contains(\"2019-08\")][features_df.drop(['fechaocupacion', 'diaAño'], axis = 1).columns.tolist()]\n",
    "x_real_set = dfReal[dfReal['fechaocupacion'].str.contains(\"2019-09\")][features_df.drop(['fechaocupacion', 'diaAño'], axis = 1).columns.tolist()]\n",
    "\n",
    "y_real_ago = dfReal[dfReal['fechaocupacion'].str.contains(\"2019-08\")][['NHab']]\n",
    "y_real_set = dfReal[dfReal['fechaocupacion'].str.contains(\"2019-09\")][['NHab']]"
   ]
  },
  {
   "cell_type": "markdown",
   "metadata": {},
   "source": [
    "# Random forest"
   ]
  },
  {
   "cell_type": "markdown",
   "metadata": {},
   "source": [
    "S'ajusta el model escollit"
   ]
  },
  {
   "cell_type": "code",
   "execution_count": 8,
   "metadata": {
    "ExecuteTime": {
     "end_time": "2020-01-10T22:28:58.550080Z",
     "start_time": "2020-01-10T22:28:57.571563Z"
    }
   },
   "outputs": [
    {
     "data": {
      "text/plain": [
       "RandomForestRegressor(bootstrap=True, ccp_alpha=0.01, criterion='mse',\n",
       "                      max_depth=12, max_features=10, max_leaf_nodes=None,\n",
       "                      max_samples=None, min_impurity_decrease=0.0,\n",
       "                      min_impurity_split=None, min_samples_leaf=2,\n",
       "                      min_samples_split=2, min_weight_fraction_leaf=0.0,\n",
       "                      n_estimators=20, n_jobs=-1, oob_score=False,\n",
       "                      random_state=42, verbose=0, warm_start=False)"
      ]
     },
     "execution_count": 8,
     "metadata": {},
     "output_type": "execute_result"
    }
   ],
   "source": [
    "rf = RandomForestRegressor(ccp_alpha = 0.01,\n",
    " max_depth = 12,\n",
    " max_features = 10,\n",
    " min_samples_leaf = 2,\n",
    " min_samples_split = 2,\n",
    " min_impurity_decrease = 0.0,\n",
    " n_estimators = 20,\n",
    " random_state = 42,\n",
    " n_jobs = -1)\n",
    "rf.fit(x_train, y_train)"
   ]
  },
  {
   "cell_type": "code",
   "execution_count": 9,
   "metadata": {
    "ExecuteTime": {
     "end_time": "2020-01-10T22:29:01.533024Z",
     "start_time": "2020-01-10T22:28:58.550080Z"
    },
    "scrolled": true
   },
   "outputs": [
    {
     "name": "stdout",
     "output_type": "stream",
     "text": [
      "Scores per a les dades reals:\n",
      "      Scores\n",
      "R2    0.9701\n",
      "MSE   5.0935\n",
      "RMSE  2.2569\n",
      "MAE   0.9664\n"
     ]
    },
    {
     "data": {
      "text/plain": [
       "[None]"
      ]
     },
     "execution_count": 9,
     "metadata": {},
     "output_type": "execute_result"
    },
    {
     "name": "stdout",
     "output_type": "stream",
     "text": [
      "Scores per a les dades reals del mes d'agost':\n",
      "      Scores\n",
      "R2    0.9674\n",
      "MSE   5.4364\n",
      "RMSE  2.3316\n",
      "MAE   1.0101\n"
     ]
    },
    {
     "data": {
      "text/plain": [
       "[None]"
      ]
     },
     "execution_count": 9,
     "metadata": {},
     "output_type": "execute_result"
    },
    {
     "name": "stdout",
     "output_type": "stream",
     "text": [
      "Scores per a les dades reals del mes de setembre:\n",
      "      Scores\n",
      "R2    0.9732\n",
      "MSE   4.6733\n",
      "RMSE  2.1618\n",
      "MAE   0.9120\n"
     ]
    },
    {
     "data": {
      "text/plain": [
       "[None]"
      ]
     },
     "execution_count": 9,
     "metadata": {},
     "output_type": "execute_result"
    }
   ],
   "source": [
    "print(\"Scores per a les dades reals:\")\n",
    "real_scores(rf,x_train,y_train,x_real,y_real)\n",
    "print(\"Scores per a les dades reals del mes d'agost':\")\n",
    "real_scores(rf,x_train,y_train,x_real_ago,y_real_ago)\n",
    "print(\"Scores per a les dades reals del mes de setembre:\")\n",
    "real_scores(rf,x_train,y_train,x_real_set,y_real_set)"
   ]
  },
  {
   "cell_type": "code",
   "execution_count": 10,
   "metadata": {
    "ExecuteTime": {
     "end_time": "2020-01-10T22:29:02.120673Z",
     "start_time": "2020-01-10T22:29:01.533024Z"
    }
   },
   "outputs": [
    {
     "data": {
      "image/png": "[encoded data removed]",
      "text/plain": [
       "<Figure size 432x288 with 1 Axes>"
      ]
     },
     "metadata": {},
     "output_type": "display_data"
    }
   ],
   "source": [
    "plot_feat_imp(rf, x_real.shape[1], x_real.columns.tolist())"
   ]
  },
  {
   "cell_type": "markdown",
   "metadata": {},
   "source": [
    "# Visualització"
   ]
  },
  {
   "cell_type": "markdown",
   "metadata": {},
   "source": [
    "Es representaran gràficament els resultats per a l'hotel *PAV* i l'hotel *TAU*"
   ]
  },
  {
   "cell_type": "code",
   "execution_count": 11,
   "metadata": {
    "ExecuteTime": {
     "end_time": "2020-01-10T22:29:06.146883Z",
     "start_time": "2020-01-10T22:29:05.975981Z"
    }
   },
   "outputs": [],
   "source": [
    "y_pred = np.round(rf.predict(x_real))\n",
    "\n",
    "dfGroup =  df.groupby(['fechaocupacion', 'diaAño', 'idhotel_PAV', 'idhotel_TAU'], as_index = False).sum()\n",
    "\n",
    "hotels = ['idhotel_PAV', 'idhotel_TAU']\n",
    "\n",
    "## Diccionari hotels i dia agrupats, per a les dades d'entrenament\n",
    "dict_day_real = {}\n",
    "for hotel in hotels:\n",
    "    dict_day_real[hotel] = dfGroup[dfGroup[hotel] == 1]\n",
    "\n",
    "key_hotels = []\n",
    "for key in dict_day_real.keys():\n",
    "    key_hotels.append(key)"
   ]
  },
  {
   "cell_type": "code",
   "execution_count": 12,
   "metadata": {
    "ExecuteTime": {
     "end_time": "2020-01-10T22:29:06.168870Z",
     "start_time": "2020-01-10T22:29:06.150882Z"
    }
   },
   "outputs": [],
   "source": [
    "dfErr = pd.DataFrame(columns={'Real' , 'Pred'})\n",
    "dfErr['Real'] = y_real\n",
    "dfErr['Pred'] = y_pred"
   ]
  },
  {
   "cell_type": "code",
   "execution_count": 13,
   "metadata": {
    "ExecuteTime": {
     "end_time": "2020-01-10T22:29:06.367756Z",
     "start_time": "2020-01-10T22:29:06.303793Z"
    }
   },
   "outputs": [
    {
     "data": {
      "text/plain": [
       "0.966379827896738"
      ]
     },
     "execution_count": 13,
     "metadata": {},
     "output_type": "execute_result"
    },
    {
     "data": {
      "text/plain": [
       "0.966379827896738"
      ]
     },
     "execution_count": 13,
     "metadata": {},
     "output_type": "execute_result"
    },
    {
     "data": {
      "text/plain": [
       "5.093522780334868"
      ]
     },
     "execution_count": 13,
     "metadata": {},
     "output_type": "execute_result"
    }
   ],
   "source": [
    "dfErr['MSE'] = np.power(dfErr['Real'] - dfErr['Pred'],2)\n",
    "dfErr['RMSE'] = np.sqrt(dfErr['MSE'])\n",
    "dfErr['MAE'] = np.abs(dfErr['Real'] - dfErr['Pred'])\n",
    "dfErr['RMSE'].sum()/y_pred.shape[0]\n",
    "dfErr['MAE'].sum()/y_pred.shape[0]\n",
    "\n",
    "dfErr['MSE'].sum()/y_pred.shape[0]"
   ]
  },
  {
   "cell_type": "markdown",
   "metadata": {},
   "source": [
    "L'objectiu d'aquests diccionaris és guardar les dades agrupades per als hotels que es desitja fer la representació gràfica."
   ]
  },
  {
   "cell_type": "code",
   "execution_count": 14,
   "metadata": {
    "ExecuteTime": {
     "end_time": "2020-01-10T22:29:07.703409Z",
     "start_time": "2020-01-10T22:29:07.667422Z"
    }
   },
   "outputs": [],
   "source": [
    "dfPred = pd.DataFrame({'Prediccions': y_pred.astype('int')}).join(dfReal[['NHab', 'fechaocupacion', 'diaAño', 'idhotel_PAV', 'idhotel_TAU']])\n",
    "dfByDay = dfPred.groupby(['fechaocupacion', 'diaAño', 'idhotel_PAV', 'idhotel_TAU'], as_index = False).sum()\n",
    "hotels = ['idhotel_PAV', 'idhotel_TAU']\n",
    "\n",
    "dict_day = {}\n",
    "for hotel in hotels:\n",
    "    dict_day[hotel] = dfByDay[dfByDay[hotel] == 1]\n",
    "    "
   ]
  },
  {
   "cell_type": "markdown",
   "metadata": {},
   "source": [
    "En el següent pas es busquen el nombre m'axim d'habitacions ocupades per a cada hotel en les dades reals ja passades, per saber quin és el màxim d'habitacions que es poden omplir i forçar aquest valor com el màxim valor que poden prendre les prediccions."
   ]
  },
  {
   "cell_type": "code",
   "execution_count": 15,
   "metadata": {
    "ExecuteTime": {
     "end_time": "2020-01-10T22:29:10.913001Z",
     "start_time": "2020-01-10T22:29:10.854221Z"
    }
   },
   "outputs": [
    {
     "name": "stderr",
     "output_type": "stream",
     "text": [
      "C:\\Users\\miquel.vallverdu\\AppData\\Local\\Continuum\\anaconda3\\lib\\site-packages\\pandas\\core\\indexing.py:494: SettingWithCopyWarning: \n",
      "A value is trying to be set on a copy of a slice from a DataFrame.\n",
      "Try using .loc[row_indexer,col_indexer] = value instead\n",
      "\n",
      "See the caveats in the documentation: http://pandas.pydata.org/pandas-docs/stable/user_guide/indexing.html#returning-a-view-versus-a-copy\n",
      "  self.obj[item] = s\n"
     ]
    }
   ],
   "source": [
    "for hotel in key_hotels:\n",
    "    dict_day[hotel].loc[dict_day[hotel]['Prediccions'] > dict_day_real[hotel]['NHab'].max(), 'Prediccions'] =  dict_day_real[hotel]['NHab'].max()\n",
    "\n",
    "dfByDayOK = pd.DataFrame(columns = dfByDay.columns.tolist())\n",
    "for hotel in key_hotels:\n",
    "    dfByDayOK = dfByDayOK.append(dict_day[hotel])"
   ]
  },
  {
   "cell_type": "markdown",
   "metadata": {},
   "source": [
    "Finalment es pinten les prediccions."
   ]
  },
  {
   "cell_type": "markdown",
   "metadata": {},
   "source": [
    "\n",
    "## Agost 2019"
   ]
  },
  {
   "cell_type": "code",
   "execution_count": 16,
   "metadata": {
    "ExecuteTime": {
     "end_time": "2020-01-10T22:29:13.829433Z",
     "start_time": "2020-01-10T22:29:13.155022Z"
    },
    "scrolled": false
   },
   "outputs": [
    {
     "data": {
      "text/plain": [
       "Text(0.5, 1.0, 'Prediccions per a idhotel_PAV, agost 2019')"
      ]
     },
     "execution_count": 16,
     "metadata": {},
     "output_type": "execute_result"
    },
    {
     "data": {
      "text/plain": [
       "[213, 245, 303, 423]"
      ]
     },
     "execution_count": 16,
     "metadata": {},
     "output_type": "execute_result"
    },
    {
     "data": {
      "text/plain": [
       "Text(0, 0.5, \"Número d'habitacions ocupades\")"
      ]
     },
     "execution_count": 16,
     "metadata": {},
     "output_type": "execute_result"
    },
    {
     "data": {
      "text/plain": [
       "Text(0.5, 0, \"Dia de l'any\")"
      ]
     },
     "execution_count": 16,
     "metadata": {},
     "output_type": "execute_result"
    },
    {
     "data": {
      "text/plain": [
       "[<matplotlib.lines.Line2D at 0x18f97055cc0>]"
      ]
     },
     "execution_count": 16,
     "metadata": {},
     "output_type": "execute_result"
    },
    {
     "data": {
      "text/plain": [
       "[<matplotlib.lines.Line2D at 0x18f949de5c0>]"
      ]
     },
     "execution_count": 16,
     "metadata": {},
     "output_type": "execute_result"
    },
    {
     "data": {
      "text/plain": [
       "<matplotlib.legend.Legend at 0x18f97055eb8>"
      ]
     },
     "execution_count": 16,
     "metadata": {},
     "output_type": "execute_result"
    },
    {
     "data": {
      "image/png": "[encoded data removed]",
      "text/plain": [
       "<Figure size 432x288 with 1 Axes>"
      ]
     },
     "metadata": {},
     "output_type": "display_data"
    },
    {
     "data": {
      "text/plain": [
       "Text(0.5, 1.0, 'Prediccions per a idhotel_TAU, agost 2019')"
      ]
     },
     "execution_count": 16,
     "metadata": {},
     "output_type": "execute_result"
    },
    {
     "data": {
      "text/plain": [
       "[213, 245, 337, 457]"
      ]
     },
     "execution_count": 16,
     "metadata": {},
     "output_type": "execute_result"
    },
    {
     "data": {
      "text/plain": [
       "Text(0, 0.5, \"Número d'habitacions ocupades\")"
      ]
     },
     "execution_count": 16,
     "metadata": {},
     "output_type": "execute_result"
    },
    {
     "data": {
      "text/plain": [
       "Text(0.5, 0, \"Dia de l'any\")"
      ]
     },
     "execution_count": 16,
     "metadata": {},
     "output_type": "execute_result"
    },
    {
     "data": {
      "text/plain": [
       "[<matplotlib.lines.Line2D at 0x18f94968748>]"
      ]
     },
     "execution_count": 16,
     "metadata": {},
     "output_type": "execute_result"
    },
    {
     "data": {
      "text/plain": [
       "[<matplotlib.lines.Line2D at 0x18f949684e0>]"
      ]
     },
     "execution_count": 16,
     "metadata": {},
     "output_type": "execute_result"
    },
    {
     "data": {
      "text/plain": [
       "<matplotlib.legend.Legend at 0x18f94968630>"
      ]
     },
     "execution_count": 16,
     "metadata": {},
     "output_type": "execute_result"
    },
    {
     "data": {
      "image/png": "[encoded data removed]",
      "text/plain": [
       "<Figure size 432x288 with 1 Axes>"
      ]
     },
     "metadata": {},
     "output_type": "display_data"
    }
   ],
   "source": [
    "ago_plot = dfByDayOK[dfByDayOK['fechaocupacion'].str.contains(\"2019-08\")]\n",
    "set_plot = dfByDayOK[dfByDayOK['fechaocupacion'].str.contains(\"2019-09\")]\n",
    "\n",
    "ago_hotels = {}\n",
    "for hotel in hotels:\n",
    "    ago_hotels[hotel] = pd.DataFrame(ago_plot[ago_plot[hotel] == 1])\n",
    "\n",
    "\n",
    "for key in key_hotels:\n",
    "    plt.title(\"Prediccions per a {:s}, agost 2019\".format(key))\n",
    "    plt.axis([min(ago_hotels[key]['diaAño'])-1, max(ago_hotels[key]['diaAño'])+1, max(ago_hotels[key]['NHab'])-100, max(ago_hotels[key]['NHab'])+20])\n",
    "    plt.ylabel(\"Número d'habitacions ocupades\")\n",
    "    plt.xlabel(\"Dia de l'any\")\n",
    "    plt.plot(ago_hotels[key]['diaAño'], ago_hotels[key]['Prediccions'], label = 'Predicció')\n",
    "    plt.plot(ago_hotels[key]['diaAño'], ago_hotels[key]['NHab'], label = 'Real')\n",
    "    plt.legend()\n",
    "    plt.show()"
   ]
  },
  {
   "cell_type": "markdown",
   "metadata": {},
   "source": [
    "## Setembre 2019"
   ]
  },
  {
   "cell_type": "code",
   "execution_count": 17,
   "metadata": {
    "ExecuteTime": {
     "end_time": "2020-01-10T22:29:15.521728Z",
     "start_time": "2020-01-10T22:29:14.809121Z"
    },
    "scrolled": false
   },
   "outputs": [
    {
     "data": {
      "text/plain": [
       "Text(0.5, 1.0, 'Prediccions per a idhotel_PAV, setembre 2019')"
      ]
     },
     "execution_count": 17,
     "metadata": {},
     "output_type": "execute_result"
    },
    {
     "data": {
      "text/plain": [
       "[244, 275, 0, 421]"
      ]
     },
     "execution_count": 17,
     "metadata": {},
     "output_type": "execute_result"
    },
    {
     "data": {
      "text/plain": [
       "Text(0, 0.5, \"Número d'habitacions ocupades\")"
      ]
     },
     "execution_count": 17,
     "metadata": {},
     "output_type": "execute_result"
    },
    {
     "data": {
      "text/plain": [
       "Text(0.5, 0, \"Dia de l'any\")"
      ]
     },
     "execution_count": 17,
     "metadata": {},
     "output_type": "execute_result"
    },
    {
     "data": {
      "text/plain": [
       "[<matplotlib.lines.Line2D at 0x18f9495b128>]"
      ]
     },
     "execution_count": 17,
     "metadata": {},
     "output_type": "execute_result"
    },
    {
     "data": {
      "text/plain": [
       "[<matplotlib.lines.Line2D at 0x18f9495b518>]"
      ]
     },
     "execution_count": 17,
     "metadata": {},
     "output_type": "execute_result"
    },
    {
     "data": {
      "text/plain": [
       "<matplotlib.legend.Legend at 0x18f9495b5c0>"
      ]
     },
     "execution_count": 17,
     "metadata": {},
     "output_type": "execute_result"
    },
    {
     "data": {
      "image/png": "[encoded data removed]",
      "text/plain": [
       "<Figure size 432x288 with 1 Axes>"
      ]
     },
     "metadata": {},
     "output_type": "display_data"
    },
    {
     "data": {
      "text/plain": [
       "Text(0.5, 1.0, 'Prediccions per a idhotel_TAU, setembre 2019')"
      ]
     },
     "execution_count": 17,
     "metadata": {},
     "output_type": "execute_result"
    },
    {
     "data": {
      "text/plain": [
       "[244, 275, 0, 453]"
      ]
     },
     "execution_count": 17,
     "metadata": {},
     "output_type": "execute_result"
    },
    {
     "data": {
      "text/plain": [
       "Text(0, 0.5, \"Número d'habitacions ocupades\")"
      ]
     },
     "execution_count": 17,
     "metadata": {},
     "output_type": "execute_result"
    },
    {
     "data": {
      "text/plain": [
       "Text(0.5, 0, \"Dia de l'any\")"
      ]
     },
     "execution_count": 17,
     "metadata": {},
     "output_type": "execute_result"
    },
    {
     "data": {
      "text/plain": [
       "[<matplotlib.lines.Line2D at 0x18f970edc88>]"
      ]
     },
     "execution_count": 17,
     "metadata": {},
     "output_type": "execute_result"
    },
    {
     "data": {
      "text/plain": [
       "[<matplotlib.lines.Line2D at 0x18f970edf28>]"
      ]
     },
     "execution_count": 17,
     "metadata": {},
     "output_type": "execute_result"
    },
    {
     "data": {
      "text/plain": [
       "<matplotlib.legend.Legend at 0x18f970fd400>"
      ]
     },
     "execution_count": 17,
     "metadata": {},
     "output_type": "execute_result"
    },
    {
     "data": {
      "image/png": "[encoded data removed]",
      "text/plain": [
       "<Figure size 432x288 with 1 Axes>"
      ]
     },
     "metadata": {},
     "output_type": "display_data"
    }
   ],
   "source": [
    "set_hotels = {}\n",
    "\n",
    "for hotel in hotels:\n",
    "    set_hotels[hotel] = pd.DataFrame(set_plot[set_plot[hotel] == 1])\n",
    "\n",
    "key_hotels = []\n",
    "for key in set_hotels.keys():\n",
    "    key_hotels.append(key)\n",
    "    \n",
    "for key in key_hotels:\n",
    "    plt.title(\"Prediccions per a {:s}, setembre 2019\".format(key))\n",
    "    plt.axis([min(set_hotels[key]['diaAño'])-1, max(set_hotels[key]['diaAño'])+1, 0, max(set_hotels[key]['NHab'])+20])\n",
    "    plt.ylabel(\"Número d'habitacions ocupades\")\n",
    "    plt.xlabel(\"Dia de l'any\")\n",
    "    plt.plot(set_hotels[key]['diaAño'], set_hotels[key]['Prediccions'], label = 'Predicció')\n",
    "    plt.plot(set_hotels[key]['diaAño'], set_hotels[key]['NHab'], label = 'Real')\n",
    "    plt.legend()\n",
    "    plt.show()"
   ]
  }
 ],
 "metadata": {
  "kernelspec": {
   "display_name": "Python 3",
   "language": "python",
   "name": "python3"
  },
  "language_info": {
   "codemirror_mode": {
    "name": "ipython",
    "version": 3
   },
   "file_extension": ".py",
   "mimetype": "text/x-python",
   "name": "python",
   "nbconvert_exporter": "python",
   "pygments_lexer": "ipython3",
   "version": "3.7.3"
  },
  "toc": {
   "base_numbering": 1,
   "nav_menu": {},
   "number_sections": true,
   "sideBar": true,
   "skip_h1_title": false,
   "title_cell": "Table of Contents",
   "title_sidebar": "Contents",
   "toc_cell": false,
   "toc_position": {},
   "toc_section_display": true,
   "toc_window_display": true
  },
  "varInspector": {
   "cols": {
    "lenName": 16,
    "lenType": 16,
    "lenVar": 40
   },
   "kernels_config": {
    "python": {
     "delete_cmd_postfix": "",
     "delete_cmd_prefix": "del ",
     "library": "var_list.py",
     "varRefreshCmd": "print(var_dic_list())"
    },
    "r": {
     "delete_cmd_postfix": ") ",
     "delete_cmd_prefix": "rm(",
     "library": "var_list.r",
     "varRefreshCmd": "cat(var_dic_list()) "
    }
   },
   "types_to_exclude": [
    "module",
    "function",
    "builtin_function_or_method",
    "instance",
    "_Feature"
   ],
   "window_display": false
  }
 },
 "nbformat": 4,
 "nbformat_minor": 2
}
