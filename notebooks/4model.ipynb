{
 "cells": [
  {
   "cell_type": "markdown",
   "metadata": {},
   "source": [
    "**ÍNDEX**\n",
    "1. Passos previs\n",
    "    * Importar paquets\n",
    "    * Funcions\n",
    "    * Càrrega de dades\n",
    "2. Train i test\n",
    "3. Regressió lineal múltiple\n",
    "    * Avaluació\n",
    "4. KNN\n",
    "    * Hyperparameter tuning\n",
    "    * Avaluació\n",
    "5. Decision tree\n",
    "    * Hyperparameter tuning\n",
    "    * Avaluació\n",
    "6. Random Forest\n",
    "    * Hyperparameter tuning\n",
    "    * Avaluació\n",
    "7. XGBoost\n",
    "    * Hyperparameter tuning\n",
    "    * Avaluació"
   ]
  },
  {
   "cell_type": "markdown",
   "metadata": {},
   "source": [
    "# Passos previs"
   ]
  },
  {
   "cell_type": "markdown",
   "metadata": {},
   "source": [
    "## Importar"
   ]
  },
  {
   "cell_type": "code",
   "execution_count": 1,
   "metadata": {
    "ExecuteTime": {
     "end_time": "2020-01-10T11:09:49.928613Z",
     "start_time": "2020-01-10T11:09:41.137154Z"
    },
    "scrolled": true
   },
   "outputs": [
    {
     "name": "stderr",
     "output_type": "stream",
     "text": [
      "C:\\Users\\miquel.vallverdu\\AppData\\Local\\Continuum\\anaconda3\\lib\\site-packages\\sklearn\\externals\\six.py:31: FutureWarning: The module is deprecated in version 0.21 and will be removed in version 0.23 since we've dropped support for Python 2.7. Please rely on the official version of six (https://pypi.org/project/six/).\n",
      "  \"(https://pypi.org/project/six/).\", FutureWarning)\n",
      "C:\\Users\\miquel.vallverdu\\AppData\\Local\\Continuum\\anaconda3\\lib\\site-packages\\sklearn\\externals\\joblib\\__init__.py:15: FutureWarning: sklearn.externals.joblib is deprecated in 0.21 and will be removed in 0.23. Please import this functionality directly from joblib, which can be installed with: pip install joblib. If this warning is raised when loading pickled models, you may need to re-serialize those models with scikit-learn 0.21+.\n",
      "  warnings.warn(msg, category=FutureWarning)\n"
     ]
    }
   ],
   "source": [
    "import csv\n",
    "import pandas as pd\n",
    "import numpy as np\n",
    "import mglearn\n",
    "import seaborn as sns\n",
    "import locale\n",
    "import matplotlib\n",
    "import matplotlib.pyplot as plt\n",
    "from scipy.stats import pearsonr\n",
    "import re\n",
    "%matplotlib inline\n",
    "matplotlib.style.use('ggplot')\n",
    "## modificar tamany figura\n",
    "from matplotlib.pyplot import figure\n",
    "from math import sqrt\n",
    "from statistics import mean \n",
    "\n",
    "import os\n",
    "\n",
    "## feature selection\n",
    "from sklearn.feature_selection import SelectKBest\n",
    "from sklearn.feature_selection import f_regression\n",
    "from sklearn.feature_selection import RFE\n",
    "from sklearn.linear_model import LinearRegression\n",
    "\n",
    "\n",
    "## Train & test\n",
    "from sklearn.model_selection import train_test_split\n",
    "\n",
    "\n",
    "## errors\n",
    "\n",
    "from sklearn.metrics import mean_squared_error \n",
    "from sklearn.metrics import mean_absolute_error\n",
    "from sklearn.metrics import r2_score\n",
    "\n",
    "## Decision tree\n",
    "from sklearn import datasets\n",
    "from sklearn import metrics\n",
    "from sklearn.tree import DecisionTreeRegressor\n",
    "from sklearn.tree import plot_tree\n",
    "## plot DT\n",
    "from sklearn.externals.six import StringIO  \n",
    "from IPython.display import Image  \n",
    "from sklearn.tree import export_graphviz\n",
    "import pydotplus\n",
    "\n",
    "## Random forest\n",
    "from sklearn.ensemble import RandomForestRegressor\n",
    "\n",
    "## Escalar\n",
    "from sklearn.preprocessing import MinMaxScaler\n",
    "\n",
    "## KNN\n",
    "from sklearn import neighbors\n",
    "\n",
    "## XGBoost\n",
    "import xgboost as xgb\n",
    "from xgboost import plot_importance\n",
    "\n",
    "\n",
    "## Hyperpar tuning\n",
    "from sklearn.model_selection import GridSearchCV\n",
    "\n",
    "## Cross-Validation\n",
    "from sklearn.model_selection import cross_val_score\n",
    "\n",
    "from IPython.core.interactiveshell import InteractiveShell\n",
    "InteractiveShell.ast_node_interactivity = \"all\"\n",
    "\n",
    "pd.set_option('display.max_columns',None)\n",
    "#pd.set_option('display.max_rows', None)"
   ]
  },
  {
   "cell_type": "markdown",
   "metadata": {},
   "source": [
    "## Funcions"
   ]
  },
  {
   "cell_type": "code",
   "execution_count": 2,
   "metadata": {
    "ExecuteTime": {
     "end_time": "2020-01-10T11:09:49.974612Z",
     "start_time": "2020-01-10T11:09:49.944226Z"
    }
   },
   "outputs": [],
   "source": [
    "def mean_absolute_percentage_error(y_true, y_pred): \n",
    "    y_true, y_pred = np.array(y_true), np.array(y_pred)\n",
    "    return np.mean(np.abs((y_true - y_pred) / y_true)) * 100\n",
    "\n",
    "    \n",
    "def creating_model_XGB(model,X_train,Y_train,X_test,Y_test,eval_metric,early):\n",
    "    # Training\n",
    "    model.fit(X_train, Y_train,eval_set=[(X_train, Y_train),(X_test, Y_test)],\n",
    "             eval_metric=eval_metric,verbose=True,early_stopping_rounds=early) \n",
    "\n",
    "\n",
    "    # Performance\n",
    "    evals_result = model.evals_result()\n",
    "    epochs = len(evals_result['validation_0'][eval_metric])\n",
    "    x_axis = range(0, epochs)\n",
    "\n",
    "\n",
    "    plt.plot(x_axis, evals_result['validation_0'][eval_metric], label='Train')\n",
    "    plt.plot(x_axis, evals_result['validation_1'][eval_metric], label='Test')\n",
    "    plt.legend(),plt.ylabel('RMSE'),plt.title('XGBoost RMSE Train VS Test')\n",
    "    plt.show()\n",
    "\n",
    "\n",
    "    \n",
    "def plot_feat_imp(model, number,predictors):\n",
    "    feat_imp = pd.Series(model.feature_importances_).sort_values(ascending=False)\n",
    "\n",
    "\n",
    "    feat_imp = feat_imp[0:number]\n",
    "    name = []\n",
    "    for i in feat_imp.index.tolist():\n",
    "        name.append(predictors[i])\n",
    "\n",
    "\n",
    "    feat_imp.plot(kind='bar', title='Feature Importances')\n",
    "    plt.xticks(range(0, len(feat_imp)),name, rotation='vertical')\n",
    "    plt.ylabel('Feature Importance Score')\n",
    "\n",
    "    \n",
    "def model_scores(model, X_train, Y_train, X_test, Y_test):\n",
    "    model.fit(X_train, Y_train)\n",
    "    r2_train = round(model.score(X_train, Y_train), 4)\n",
    "    r2_test = round(model.score(X_test, Y_test), 4)\n",
    "    r2 = [r2_train, r2_test]\n",
    "    pred_train = np.round(model.predict(X_train))\n",
    "    pred_test = np.round(model.predict(X_test))\n",
    "    mse_train = round(mean_squared_error(Y_train, pred_train), 4)\n",
    "    mse_test = round(mean_squared_error(Y_test, pred_test), 4)\n",
    "    mse = [mse_train, mse_test]\n",
    "    rmse_train = round(sqrt(mse_train), 4)\n",
    "    rmse_test = round(sqrt(mse_test), 4)\n",
    "    rmse = [rmse_train, rmse_test]\n",
    "    mae_train = round(mean_absolute_error(Y_train, pred_train), 4)\n",
    "    mae_test = round(mean_absolute_error(Y_test, pred_test), 4)\n",
    "    mae = [mae_train, mae_test]\n",
    "    scores = pd.DataFrame([r2, mse, rmse, mae])\n",
    "    scores = scores.rename(columns={0: \"Train\", 1: \"Test\"}, index={0:\"R2\", 1:\"MSE\", 2:\"RMSE\", 3:\"MAE\"})\n",
    "    \n",
    "    return [print(scores)]\n",
    "\n",
    "\n"
   ]
  },
  {
   "cell_type": "markdown",
   "metadata": {},
   "source": [
    "## Càrrega de dades"
   ]
  },
  {
   "cell_type": "code",
   "execution_count": 3,
   "metadata": {
    "ExecuteTime": {
     "end_time": "2020-01-10T11:09:50.281971Z",
     "start_time": "2020-01-10T11:09:49.990609Z"
    }
   },
   "outputs": [],
   "source": [
    "mainpath = \"C:/Users/miquel.vallverdu/Desktop/Miquel/TFG/Repos/Bismart-P19824-PrediccionOcupacionHoteles_TFG_MVallverdu/dataset/\"\n",
    "#mainpath = \"C:/Users/Miquel/Desktop/Miquel/Estudis/ESTADISTICA/TFG/\"\n",
    "\n",
    "df = pd.read_csv(mainpath + \"dfModel.csv\", sep = \",\")"
   ]
  },
  {
   "cell_type": "code",
   "execution_count": 4,
   "metadata": {
    "ExecuteTime": {
     "end_time": "2020-01-06T11:44:34.040530Z",
     "start_time": "2020-01-06T11:44:34.001554Z"
    },
    "scrolled": false
   },
   "outputs": [
    {
     "data": {
      "text/html": [
       "<div>\n",
       "<style scoped>\n",
       "    .dataframe tbody tr th:only-of-type {\n",
       "        vertical-align: middle;\n",
       "    }\n",
       "\n",
       "    .dataframe tbody tr th {\n",
       "        vertical-align: top;\n",
       "    }\n",
       "\n",
       "    .dataframe thead th {\n",
       "        text-align: right;\n",
       "    }\n",
       "</style>\n",
       "<table border=\"1\" class=\"dataframe\">\n",
       "  <thead>\n",
       "    <tr style=\"text-align: right;\">\n",
       "      <th></th>\n",
       "      <th>NHab</th>\n",
       "      <th>S2H</th>\n",
       "      <th>S3H</th>\n",
       "      <th>S52H</th>\n",
       "      <th>PreuHab</th>\n",
       "      <th>diaAño</th>\n",
       "      <th>weather</th>\n",
       "      <th>temp</th>\n",
       "      <th>mes</th>\n",
       "      <th>diaSemana</th>\n",
       "      <th>findes</th>\n",
       "      <th>idhotel_DON</th>\n",
       "      <th>idhotel_MME</th>\n",
       "      <th>idhotel_PAV</th>\n",
       "      <th>idhotel_SAL</th>\n",
       "      <th>idhotel_TAU</th>\n",
       "      <th>idhotel_TOS</th>\n",
       "      <th>idcliente_OL_MEDITERRANEO</th>\n",
       "      <th>idcliente_Otros</th>\n",
       "      <th>idcliente_TUI_UK_LTD</th>\n",
       "      <th>idtipohab_FAM</th>\n",
       "      <th>idtipohab_IND</th>\n",
       "      <th>idtipohab_PREM</th>\n",
       "      <th>idtipohab_SUI</th>\n",
       "      <th>idregimen_MP</th>\n",
       "      <th>idregimen_PC</th>\n",
       "      <th>idregimen_SHAB</th>\n",
       "      <th>idregimen_TI</th>\n",
       "      <th>idsegmento_VACAC</th>\n",
       "      <th>id_canal_DIRECTO</th>\n",
       "      <th>id_canal_GRUPOS</th>\n",
       "      <th>id_canal_ONLINE</th>\n",
       "      <th>id_canal_TTOO</th>\n",
       "      <th>idpais_cliente_EAU</th>\n",
       "      <th>idpais_cliente_EE</th>\n",
       "      <th>idpais_cliente_ES</th>\n",
       "      <th>idpais_cliente_ESC</th>\n",
       "      <th>idpais_cliente_GB</th>\n",
       "      <th>idpais_cliente_IS</th>\n",
       "      <th>idpais_cliente_OE</th>\n",
       "      <th>temporada_baja</th>\n",
       "      <th>holiday_No festiu</th>\n",
       "      <th>fechaocupacion</th>\n",
       "    </tr>\n",
       "  </thead>\n",
       "  <tbody>\n",
       "    <tr>\n",
       "      <th>0</th>\n",
       "      <td>0</td>\n",
       "      <td>0</td>\n",
       "      <td>0</td>\n",
       "      <td>0</td>\n",
       "      <td>90.895386</td>\n",
       "      <td>87</td>\n",
       "      <td>1</td>\n",
       "      <td>16.0</td>\n",
       "      <td>3</td>\n",
       "      <td>3</td>\n",
       "      <td>1</td>\n",
       "      <td>0</td>\n",
       "      <td>1</td>\n",
       "      <td>0</td>\n",
       "      <td>0</td>\n",
       "      <td>0</td>\n",
       "      <td>0</td>\n",
       "      <td>0</td>\n",
       "      <td>0</td>\n",
       "      <td>0</td>\n",
       "      <td>0</td>\n",
       "      <td>0</td>\n",
       "      <td>0</td>\n",
       "      <td>0</td>\n",
       "      <td>1</td>\n",
       "      <td>0</td>\n",
       "      <td>0</td>\n",
       "      <td>0</td>\n",
       "      <td>0</td>\n",
       "      <td>0</td>\n",
       "      <td>0</td>\n",
       "      <td>0</td>\n",
       "      <td>0</td>\n",
       "      <td>0</td>\n",
       "      <td>0</td>\n",
       "      <td>1</td>\n",
       "      <td>0</td>\n",
       "      <td>0</td>\n",
       "      <td>0</td>\n",
       "      <td>0</td>\n",
       "      <td>0</td>\n",
       "      <td>1</td>\n",
       "      <td>2018-03-28</td>\n",
       "    </tr>\n",
       "    <tr>\n",
       "      <th>1</th>\n",
       "      <td>25</td>\n",
       "      <td>22</td>\n",
       "      <td>18</td>\n",
       "      <td>0</td>\n",
       "      <td>98.694182</td>\n",
       "      <td>87</td>\n",
       "      <td>1</td>\n",
       "      <td>16.0</td>\n",
       "      <td>3</td>\n",
       "      <td>3</td>\n",
       "      <td>1</td>\n",
       "      <td>0</td>\n",
       "      <td>0</td>\n",
       "      <td>0</td>\n",
       "      <td>0</td>\n",
       "      <td>0</td>\n",
       "      <td>1</td>\n",
       "      <td>0</td>\n",
       "      <td>0</td>\n",
       "      <td>0</td>\n",
       "      <td>0</td>\n",
       "      <td>0</td>\n",
       "      <td>0</td>\n",
       "      <td>0</td>\n",
       "      <td>0</td>\n",
       "      <td>1</td>\n",
       "      <td>0</td>\n",
       "      <td>0</td>\n",
       "      <td>0</td>\n",
       "      <td>0</td>\n",
       "      <td>0</td>\n",
       "      <td>0</td>\n",
       "      <td>0</td>\n",
       "      <td>0</td>\n",
       "      <td>0</td>\n",
       "      <td>1</td>\n",
       "      <td>0</td>\n",
       "      <td>0</td>\n",
       "      <td>0</td>\n",
       "      <td>0</td>\n",
       "      <td>0</td>\n",
       "      <td>1</td>\n",
       "      <td>2018-03-28</td>\n",
       "    </tr>\n",
       "    <tr>\n",
       "      <th>2</th>\n",
       "      <td>5</td>\n",
       "      <td>2</td>\n",
       "      <td>2</td>\n",
       "      <td>0</td>\n",
       "      <td>77.461817</td>\n",
       "      <td>87</td>\n",
       "      <td>1</td>\n",
       "      <td>16.0</td>\n",
       "      <td>3</td>\n",
       "      <td>3</td>\n",
       "      <td>1</td>\n",
       "      <td>0</td>\n",
       "      <td>0</td>\n",
       "      <td>0</td>\n",
       "      <td>0</td>\n",
       "      <td>0</td>\n",
       "      <td>1</td>\n",
       "      <td>0</td>\n",
       "      <td>0</td>\n",
       "      <td>0</td>\n",
       "      <td>0</td>\n",
       "      <td>0</td>\n",
       "      <td>0</td>\n",
       "      <td>0</td>\n",
       "      <td>0</td>\n",
       "      <td>0</td>\n",
       "      <td>0</td>\n",
       "      <td>0</td>\n",
       "      <td>0</td>\n",
       "      <td>0</td>\n",
       "      <td>0</td>\n",
       "      <td>0</td>\n",
       "      <td>0</td>\n",
       "      <td>0</td>\n",
       "      <td>0</td>\n",
       "      <td>1</td>\n",
       "      <td>0</td>\n",
       "      <td>0</td>\n",
       "      <td>0</td>\n",
       "      <td>0</td>\n",
       "      <td>0</td>\n",
       "      <td>1</td>\n",
       "      <td>2018-03-28</td>\n",
       "    </tr>\n",
       "    <tr>\n",
       "      <th>3</th>\n",
       "      <td>18</td>\n",
       "      <td>10</td>\n",
       "      <td>8</td>\n",
       "      <td>0</td>\n",
       "      <td>86.157831</td>\n",
       "      <td>87</td>\n",
       "      <td>1</td>\n",
       "      <td>16.0</td>\n",
       "      <td>3</td>\n",
       "      <td>3</td>\n",
       "      <td>1</td>\n",
       "      <td>0</td>\n",
       "      <td>0</td>\n",
       "      <td>0</td>\n",
       "      <td>0</td>\n",
       "      <td>0</td>\n",
       "      <td>1</td>\n",
       "      <td>0</td>\n",
       "      <td>0</td>\n",
       "      <td>0</td>\n",
       "      <td>0</td>\n",
       "      <td>0</td>\n",
       "      <td>0</td>\n",
       "      <td>0</td>\n",
       "      <td>1</td>\n",
       "      <td>0</td>\n",
       "      <td>0</td>\n",
       "      <td>0</td>\n",
       "      <td>0</td>\n",
       "      <td>0</td>\n",
       "      <td>0</td>\n",
       "      <td>0</td>\n",
       "      <td>0</td>\n",
       "      <td>0</td>\n",
       "      <td>0</td>\n",
       "      <td>1</td>\n",
       "      <td>0</td>\n",
       "      <td>0</td>\n",
       "      <td>0</td>\n",
       "      <td>0</td>\n",
       "      <td>0</td>\n",
       "      <td>1</td>\n",
       "      <td>2018-03-28</td>\n",
       "    </tr>\n",
       "    <tr>\n",
       "      <th>4</th>\n",
       "      <td>1</td>\n",
       "      <td>0</td>\n",
       "      <td>0</td>\n",
       "      <td>0</td>\n",
       "      <td>119.454546</td>\n",
       "      <td>87</td>\n",
       "      <td>1</td>\n",
       "      <td>16.0</td>\n",
       "      <td>3</td>\n",
       "      <td>3</td>\n",
       "      <td>1</td>\n",
       "      <td>0</td>\n",
       "      <td>0</td>\n",
       "      <td>0</td>\n",
       "      <td>0</td>\n",
       "      <td>0</td>\n",
       "      <td>1</td>\n",
       "      <td>0</td>\n",
       "      <td>0</td>\n",
       "      <td>0</td>\n",
       "      <td>0</td>\n",
       "      <td>0</td>\n",
       "      <td>1</td>\n",
       "      <td>0</td>\n",
       "      <td>0</td>\n",
       "      <td>1</td>\n",
       "      <td>0</td>\n",
       "      <td>0</td>\n",
       "      <td>0</td>\n",
       "      <td>0</td>\n",
       "      <td>0</td>\n",
       "      <td>0</td>\n",
       "      <td>0</td>\n",
       "      <td>0</td>\n",
       "      <td>0</td>\n",
       "      <td>1</td>\n",
       "      <td>0</td>\n",
       "      <td>0</td>\n",
       "      <td>0</td>\n",
       "      <td>0</td>\n",
       "      <td>0</td>\n",
       "      <td>1</td>\n",
       "      <td>2018-03-28</td>\n",
       "    </tr>\n",
       "  </tbody>\n",
       "</table>\n",
       "</div>"
      ],
      "text/plain": [
       "   NHab  S2H  S3H  S52H     PreuHab  diaAño  weather  temp  mes  diaSemana  \\\n",
       "0     0    0    0     0   90.895386      87        1  16.0    3          3   \n",
       "1    25   22   18     0   98.694182      87        1  16.0    3          3   \n",
       "2     5    2    2     0   77.461817      87        1  16.0    3          3   \n",
       "3    18   10    8     0   86.157831      87        1  16.0    3          3   \n",
       "4     1    0    0     0  119.454546      87        1  16.0    3          3   \n",
       "\n",
       "   findes  idhotel_DON  idhotel_MME  idhotel_PAV  idhotel_SAL  idhotel_TAU  \\\n",
       "0       1            0            1            0            0            0   \n",
       "1       1            0            0            0            0            0   \n",
       "2       1            0            0            0            0            0   \n",
       "3       1            0            0            0            0            0   \n",
       "4       1            0            0            0            0            0   \n",
       "\n",
       "   idhotel_TOS  idcliente_OL_MEDITERRANEO  idcliente_Otros  \\\n",
       "0            0                          0                0   \n",
       "1            1                          0                0   \n",
       "2            1                          0                0   \n",
       "3            1                          0                0   \n",
       "4            1                          0                0   \n",
       "\n",
       "   idcliente_TUI_UK_LTD  idtipohab_FAM  idtipohab_IND  idtipohab_PREM  \\\n",
       "0                     0              0              0               0   \n",
       "1                     0              0              0               0   \n",
       "2                     0              0              0               0   \n",
       "3                     0              0              0               0   \n",
       "4                     0              0              0               1   \n",
       "\n",
       "   idtipohab_SUI  idregimen_MP  idregimen_PC  idregimen_SHAB  idregimen_TI  \\\n",
       "0              0             1             0               0             0   \n",
       "1              0             0             1               0             0   \n",
       "2              0             0             0               0             0   \n",
       "3              0             1             0               0             0   \n",
       "4              0             0             1               0             0   \n",
       "\n",
       "   idsegmento_VACAC  id_canal_DIRECTO  id_canal_GRUPOS  id_canal_ONLINE  \\\n",
       "0                 0                 0                0                0   \n",
       "1                 0                 0                0                0   \n",
       "2                 0                 0                0                0   \n",
       "3                 0                 0                0                0   \n",
       "4                 0                 0                0                0   \n",
       "\n",
       "   id_canal_TTOO  idpais_cliente_EAU  idpais_cliente_EE  idpais_cliente_ES  \\\n",
       "0              0                   0                  0                  1   \n",
       "1              0                   0                  0                  1   \n",
       "2              0                   0                  0                  1   \n",
       "3              0                   0                  0                  1   \n",
       "4              0                   0                  0                  1   \n",
       "\n",
       "   idpais_cliente_ESC  idpais_cliente_GB  idpais_cliente_IS  \\\n",
       "0                   0                  0                  0   \n",
       "1                   0                  0                  0   \n",
       "2                   0                  0                  0   \n",
       "3                   0                  0                  0   \n",
       "4                   0                  0                  0   \n",
       "\n",
       "   idpais_cliente_OE  temporada_baja  holiday_No festiu fechaocupacion  \n",
       "0                  0               0                  1     2018-03-28  \n",
       "1                  0               0                  1     2018-03-28  \n",
       "2                  0               0                  1     2018-03-28  \n",
       "3                  0               0                  1     2018-03-28  \n",
       "4                  0               0                  1     2018-03-28  "
      ]
     },
     "execution_count": 4,
     "metadata": {},
     "output_type": "execute_result"
    }
   ],
   "source": [
    "df.head()"
   ]
  },
  {
   "cell_type": "markdown",
   "metadata": {},
   "source": [
    "# Train i test"
   ]
  },
  {
   "cell_type": "code",
   "execution_count": 4,
   "metadata": {
    "ExecuteTime": {
     "end_time": "2020-01-10T11:09:50.367072Z",
     "start_time": "2020-01-10T11:09:50.343076Z"
    }
   },
   "outputs": [],
   "source": [
    "features_df = df.drop(['NHab',], axis = 1)\n",
    "target = df.NHab"
   ]
  },
  {
   "cell_type": "code",
   "execution_count": 5,
   "metadata": {
    "ExecuteTime": {
     "end_time": "2020-01-10T11:09:50.563021Z",
     "start_time": "2020-01-10T11:09:50.455048Z"
    }
   },
   "outputs": [],
   "source": [
    "x_train, x_test, y_train, y_test = train_test_split(features_df.drop(['fechaocupacion', 'diaAño'], axis = 1), target, random_state=0)\n",
    "train = x_train.join(y_train)\n",
    "test = x_test.join(y_test)"
   ]
  },
  {
   "cell_type": "markdown",
   "metadata": {},
   "source": [
    "# Regressió lineal múltiple"
   ]
  },
  {
   "cell_type": "code",
   "execution_count": 7,
   "metadata": {
    "ExecuteTime": {
     "end_time": "2020-01-06T11:44:38.964270Z",
     "start_time": "2020-01-06T11:44:38.713414Z"
    },
    "scrolled": true
   },
   "outputs": [
    {
     "data": {
      "text/plain": [
       "LinearRegression(copy_X=True, fit_intercept=True, n_jobs=None, normalize=False)"
      ]
     },
     "execution_count": 7,
     "metadata": {},
     "output_type": "execute_result"
    }
   ],
   "source": [
    "modreg = LinearRegression()\n",
    "modreg.fit(x_train, y_train)"
   ]
  },
  {
   "cell_type": "code",
   "execution_count": 8,
   "metadata": {
    "ExecuteTime": {
     "end_time": "2020-01-06T11:44:43.307774Z",
     "start_time": "2020-01-06T11:44:39.519949Z"
    }
   },
   "outputs": [
    {
     "name": "stdout",
     "output_type": "stream",
     "text": [
      "Mitjana cross-validation amb 5 particions: 0.886\n",
      "Mitjana cross-validation amb 6 particions: 0.886\n",
      "Mitjana cross-validation amb 7 particions: 0.885\n",
      "Mitjana cross-validation amb 8 particions: 0.888\n",
      "Mitjana cross-validation amb 9 particions: 0.887\n",
      "Mitjana cross-validation amb 10 particions: 0.887\n"
     ]
    }
   ],
   "source": [
    "for i in range(5,11):\n",
    "    model = LinearRegression()\n",
    "    scores = cross_val_score(modreg, x_train, y_train, cv = i)\n",
    "    print(\"Mitjana cross-validation amb {:d} particions: {:.3f}\".format(i, scores.mean()))"
   ]
  },
  {
   "cell_type": "markdown",
   "metadata": {},
   "source": [
    "Les dades no depenen del nombre de particions que es facin en el cross-validation."
   ]
  },
  {
   "cell_type": "markdown",
   "metadata": {},
   "source": [
    "## Avaluació"
   ]
  },
  {
   "cell_type": "code",
   "execution_count": 9,
   "metadata": {
    "ExecuteTime": {
     "end_time": "2020-01-06T11:44:48.472950Z",
     "start_time": "2020-01-06T11:44:48.332248Z"
    },
    "scrolled": true
   },
   "outputs": [
    {
     "name": "stdout",
     "output_type": "stream",
     "text": [
      "        Train     Test\n",
      "R2     0.8842   0.8989\n",
      "MSE   37.4227  34.3760\n",
      "RMSE   6.1174   5.8631\n",
      "MAE    1.5308   1.5747\n"
     ]
    },
    {
     "data": {
      "text/plain": [
       "[None]"
      ]
     },
     "execution_count": 9,
     "metadata": {},
     "output_type": "execute_result"
    }
   ],
   "source": [
    "model_scores(modreg, x_train, y_train, x_test, y_test)"
   ]
  },
  {
   "cell_type": "markdown",
   "metadata": {},
   "source": [
    "# K-Nearest Neighbors (KNN)"
   ]
  },
  {
   "cell_type": "markdown",
   "metadata": {},
   "source": [
    "## Hyperparameter tuning"
   ]
  },
  {
   "cell_type": "code",
   "execution_count": 53,
   "metadata": {
    "ExecuteTime": {
     "end_time": "2019-12-30T10:06:38.809698Z",
     "start_time": "2019-12-30T10:06:00.420742Z"
    }
   },
   "outputs": [
    {
     "data": {
      "text/plain": [
       "GridSearchCV(cv=5, error_score='raise-deprecating',\n",
       "             estimator=KNeighborsRegressor(algorithm='auto', leaf_size=30,\n",
       "                                           metric='minkowski',\n",
       "                                           metric_params=None, n_jobs=None,\n",
       "                                           n_neighbors=5, p=2,\n",
       "                                           weights='uniform'),\n",
       "             iid='warn', n_jobs=None,\n",
       "             param_grid={'n_neighbors': [3, 4, 5, 6, 7, 8, 9, 10, 11]},\n",
       "             pre_dispatch='2*n_jobs', refit=True, return_train_score=False,\n",
       "             scoring=None, verbose=0)"
      ]
     },
     "execution_count": 53,
     "metadata": {},
     "output_type": "execute_result"
    },
    {
     "data": {
      "text/plain": [
       "{'n_neighbors': 5}"
      ]
     },
     "execution_count": 53,
     "metadata": {},
     "output_type": "execute_result"
    }
   ],
   "source": [
    "params = {'n_neighbors':[3,4,5,6,7,8,9,10,11]}\n",
    "np.random.seed(42)\n",
    "knn = neighbors.KNeighborsRegressor()\n",
    "\n",
    "model = GridSearchCV(knn, params, cv=5, n_jobs=-1)\n",
    "model.fit(x_train,y_train)\n",
    "model.best_params_"
   ]
  },
  {
   "cell_type": "code",
   "execution_count": 6,
   "metadata": {
    "ExecuteTime": {
     "end_time": "2020-01-04T10:16:44.514966Z",
     "start_time": "2020-01-04T10:15:52.832798Z"
    },
    "scrolled": true
   },
   "outputs": [
    {
     "data": {
      "text/plain": [
       "GridSearchCV(cv=5, error_score=nan,\n",
       "             estimator=KNeighborsRegressor(algorithm='auto', leaf_size=30,\n",
       "                                           metric='minkowski',\n",
       "                                           metric_params=None, n_jobs=None,\n",
       "                                           n_neighbors=5, p=2,\n",
       "                                           weights='uniform'),\n",
       "             iid='deprecated', n_jobs=None,\n",
       "             param_grid={'n_neighbors': [5], 'p': [1, 2, 3, 4, 5]},\n",
       "             pre_dispatch='2*n_jobs', refit=True, return_train_score=False,\n",
       "             scoring=None, verbose=0)"
      ]
     },
     "execution_count": 6,
     "metadata": {},
     "output_type": "execute_result"
    },
    {
     "data": {
      "text/plain": [
       "{'n_neighbors': 5, 'p': 1}"
      ]
     },
     "execution_count": 6,
     "metadata": {},
     "output_type": "execute_result"
    }
   ],
   "source": [
    "params = {'n_neighbors':[5],\n",
    "         'p':[1,2,3,4,5]}\n",
    "np.random.seed(42)\n",
    "knn = neighbors.KNeighborsRegressor()\n",
    "\n",
    "model = GridSearchCV(knn, params, cv=5, n_jobs=-1)\n",
    "model.fit(x_train,y_train)\n",
    "model.best_params_"
   ]
  },
  {
   "cell_type": "markdown",
   "metadata": {},
   "source": [
    "## Avaluació"
   ]
  },
  {
   "cell_type": "markdown",
   "metadata": {},
   "source": [
    "Model estàndard"
   ]
  },
  {
   "cell_type": "code",
   "execution_count": 15,
   "metadata": {
    "ExecuteTime": {
     "end_time": "2020-01-06T13:23:00.976343Z",
     "start_time": "2020-01-06T13:23:00.972345Z"
    },
    "scrolled": true
   },
   "outputs": [],
   "source": [
    "knn = neighbors.KNeighborsRegressor(n_jobs=-1)"
   ]
  },
  {
   "cell_type": "code",
   "execution_count": 16,
   "metadata": {
    "ExecuteTime": {
     "end_time": "2020-01-06T13:23:08.265906Z",
     "start_time": "2020-01-06T13:23:03.169777Z"
    },
    "scrolled": true
   },
   "outputs": [
    {
     "name": "stdout",
     "output_type": "stream",
     "text": [
      "        Train     Test\n",
      "R2     0.9639   0.9477\n",
      "MSE   11.7058  17.7865\n",
      "RMSE   3.4214   4.2174\n",
      "MAE    1.0849   1.4133\n"
     ]
    },
    {
     "data": {
      "text/plain": [
       "[None]"
      ]
     },
     "execution_count": 16,
     "metadata": {},
     "output_type": "execute_result"
    }
   ],
   "source": [
    "model_scores(knn, x_train, y_train, x_test, y_test)"
   ]
  },
  {
   "cell_type": "markdown",
   "metadata": {},
   "source": [
    "Model amb paràmetres optimitzats"
   ]
  },
  {
   "cell_type": "code",
   "execution_count": 14,
   "metadata": {
    "ExecuteTime": {
     "end_time": "2020-01-04T10:19:31.713245Z",
     "start_time": "2020-01-04T10:19:31.691481Z"
    },
    "scrolled": true
   },
   "outputs": [],
   "source": [
    "knn = neighbors.KNeighborsRegressor(n_neighbors=5, p=2, n_jobs=-1)"
   ]
  },
  {
   "cell_type": "markdown",
   "metadata": {},
   "source": [
    "Un model amb p=1 té millor precisió test però té més overfitting, així que es prefereix reduïr l'overfitting"
   ]
  },
  {
   "cell_type": "code",
   "execution_count": 15,
   "metadata": {
    "ExecuteTime": {
     "end_time": "2020-01-04T10:19:38.101980Z",
     "start_time": "2020-01-04T10:19:33.367385Z"
    },
    "scrolled": true
   },
   "outputs": [
    {
     "name": "stdout",
     "output_type": "stream",
     "text": [
      "        Train     Test\n",
      "R2     0.9639   0.9477\n",
      "MSE   11.7058  17.7865\n",
      "RMSE   3.4214   4.2174\n",
      "MAE    1.0849   1.4133\n"
     ]
    },
    {
     "data": {
      "text/plain": [
       "[None]"
      ]
     },
     "execution_count": 15,
     "metadata": {},
     "output_type": "execute_result"
    }
   ],
   "source": [
    "model_scores(knn, x_train, y_train, x_test, y_test)"
   ]
  },
  {
   "cell_type": "markdown",
   "metadata": {},
   "source": [
    "Per aquest algoritme, els paràmetres òptims són els mateixos que venen per defecte."
   ]
  },
  {
   "cell_type": "markdown",
   "metadata": {},
   "source": [
    "# Arbre de regressió"
   ]
  },
  {
   "cell_type": "markdown",
   "metadata": {},
   "source": [
    "## Hyperparameter tuning"
   ]
  },
  {
   "cell_type": "markdown",
   "metadata": {},
   "source": [
    "Optimització *max_depth*"
   ]
  },
  {
   "cell_type": "code",
   "execution_count": 97,
   "metadata": {
    "ExecuteTime": {
     "end_time": "2020-01-04T11:24:52.308688Z",
     "start_time": "2020-01-04T11:24:49.175484Z"
    },
    "scrolled": true
   },
   "outputs": [
    {
     "data": {
      "text/plain": [
       "GridSearchCV(cv=5, error_score=nan,\n",
       "             estimator=DecisionTreeRegressor(ccp_alpha=0.0, criterion='mse',\n",
       "                                             max_depth=None, max_features=None,\n",
       "                                             max_leaf_nodes=None,\n",
       "                                             min_impurity_decrease=0.0,\n",
       "                                             min_impurity_split=None,\n",
       "                                             min_samples_leaf=1,\n",
       "                                             min_samples_split=2,\n",
       "                                             min_weight_fraction_leaf=0.0,\n",
       "                                             presort='deprecated',\n",
       "                                             random_state=None,\n",
       "                                             splitter='best'),\n",
       "             iid='deprecated', n_jobs=-1,\n",
       "             param_grid={'max_depth': [5, 6, 7, 8, 9], 'random_state': [42]},\n",
       "             pre_dispatch='2*n_jobs', refit=True, return_train_score=False,\n",
       "             scoring=None, verbose=0)"
      ]
     },
     "execution_count": 97,
     "metadata": {},
     "output_type": "execute_result"
    },
    {
     "data": {
      "text/plain": [
       "{'max_depth': 8, 'random_state': 42}"
      ]
     },
     "execution_count": 97,
     "metadata": {},
     "output_type": "execute_result"
    }
   ],
   "source": [
    "params = {'max_depth': [5,6,7,8,9],\n",
    "          'random_state': [42]\n",
    "         }\n",
    "\n",
    "t = DecisionTreeRegressor()\n",
    "\n",
    "model = GridSearchCV(t, params, cv=5, n_jobs = -1)\n",
    "model.fit(x_train,y_train)\n",
    "model.best_params_"
   ]
  },
  {
   "cell_type": "markdown",
   "metadata": {},
   "source": [
    "Optimització *min_samples_leaf* i *min_samples_split*"
   ]
  },
  {
   "cell_type": "code",
   "execution_count": 98,
   "metadata": {
    "ExecuteTime": {
     "end_time": "2020-01-04T11:25:28.166329Z",
     "start_time": "2020-01-04T11:24:56.937185Z"
    },
    "scrolled": false
   },
   "outputs": [
    {
     "data": {
      "text/plain": [
       "GridSearchCV(cv=5, error_score=nan,\n",
       "             estimator=DecisionTreeRegressor(ccp_alpha=0.0, criterion='mse',\n",
       "                                             max_depth=None, max_features=None,\n",
       "                                             max_leaf_nodes=None,\n",
       "                                             min_impurity_decrease=0.0,\n",
       "                                             min_impurity_split=None,\n",
       "                                             min_samples_leaf=1,\n",
       "                                             min_samples_split=2,\n",
       "                                             min_weight_fraction_leaf=0.0,\n",
       "                                             presort='deprecated',\n",
       "                                             random_state=None,\n",
       "                                             splitter='best'),\n",
       "             iid='deprecated', n_jobs=-1,\n",
       "             param_grid={'max_depth': [8], 'max_features': ['auto'],\n",
       "                         'min_samples_leaf': [1, 2, 3, 4, 6, 8, 10],\n",
       "                         'min_samples_split': [2, 3, 4, 5, 7, 9, 12],\n",
       "                         'random_state': [42]},\n",
       "             pre_dispatch='2*n_jobs', refit=True, return_train_score=False,\n",
       "             scoring=None, verbose=0)"
      ]
     },
     "execution_count": 98,
     "metadata": {},
     "output_type": "execute_result"
    },
    {
     "data": {
      "text/plain": [
       "{'max_depth': 8,\n",
       " 'max_features': 'auto',\n",
       " 'min_samples_leaf': 2,\n",
       " 'min_samples_split': 5,\n",
       " 'random_state': 42}"
      ]
     },
     "execution_count": 98,
     "metadata": {},
     "output_type": "execute_result"
    }
   ],
   "source": [
    "params = {'max_depth': [8],\n",
    "          'max_features': ['auto'],\n",
    "          'min_samples_leaf': [1,2,3,4,6,8,10],\n",
    "          'min_samples_split': [2,3,4,5,7,9,12],\n",
    "          'random_state': [42]\n",
    "         }\n",
    "\n",
    "t = DecisionTreeRegressor()\n",
    "\n",
    "model = GridSearchCV(t, params, cv=5, n_jobs = -1)\n",
    "model.fit(x_train,y_train)\n",
    "model.best_params_"
   ]
  },
  {
   "cell_type": "markdown",
   "metadata": {},
   "source": [
    "Optimització de *min_impurity_decrease*"
   ]
  },
  {
   "cell_type": "code",
   "execution_count": 101,
   "metadata": {
    "ExecuteTime": {
     "end_time": "2020-01-04T11:26:15.599543Z",
     "start_time": "2020-01-04T11:26:07.989391Z"
    }
   },
   "outputs": [
    {
     "data": {
      "text/plain": [
       "GridSearchCV(cv=5, error_score=nan,\n",
       "             estimator=DecisionTreeRegressor(ccp_alpha=0.0, criterion='mse',\n",
       "                                             max_depth=None, max_features=None,\n",
       "                                             max_leaf_nodes=None,\n",
       "                                             min_impurity_decrease=0.0,\n",
       "                                             min_impurity_split=None,\n",
       "                                             min_samples_leaf=1,\n",
       "                                             min_samples_split=2,\n",
       "                                             min_weight_fraction_leaf=0.0,\n",
       "                                             presort='deprecated',\n",
       "                                             random_state=None,\n",
       "                                             splitter='best'),\n",
       "             iid='deprecated', n_jobs=-1,\n",
       "             param_grid={'max_depth': [8],\n",
       "                         'min_impurity_decrease': array([0.  , 0.02, 0.04, 0.06, 0.08, 0.1 , 0.12, 0.14, 0.16, 0.18, 0.2 ,\n",
       "       0.22, 0.24, 0.26, 0.28]),\n",
       "                         'min_samples_leaf': [2], 'min_samples_split': [5],\n",
       "                         'random_state': [42]},\n",
       "             pre_dispatch='2*n_jobs', refit=True, return_train_score=False,\n",
       "             scoring=None, verbose=0)"
      ]
     },
     "execution_count": 101,
     "metadata": {},
     "output_type": "execute_result"
    },
    {
     "data": {
      "text/plain": [
       "{'max_depth': 8,\n",
       " 'min_impurity_decrease': 0.0,\n",
       " 'min_samples_leaf': 2,\n",
       " 'min_samples_split': 5,\n",
       " 'random_state': 42}"
      ]
     },
     "execution_count": 101,
     "metadata": {},
     "output_type": "execute_result"
    }
   ],
   "source": [
    "params = {'max_depth': [8],\n",
    "          'min_samples_leaf': [2],\n",
    "          'min_samples_split': [5],\n",
    "          'min_impurity_decrease': np.arange(0.0,0.3,0.02),\n",
    "          'random_state': [42]\n",
    "         }\n",
    "\n",
    "t = DecisionTreeRegressor()\n",
    "\n",
    "model = GridSearchCV(t, params, cv=5, n_jobs = -1)\n",
    "model.fit(x_train,y_train)\n",
    "model.best_params_"
   ]
  },
  {
   "cell_type": "markdown",
   "metadata": {},
   "source": [
    "Optimització de *max_features*"
   ]
  },
  {
   "cell_type": "code",
   "execution_count": 102,
   "metadata": {
    "ExecuteTime": {
     "end_time": "2020-01-04T11:26:28.056273Z",
     "start_time": "2020-01-04T11:26:23.490831Z"
    }
   },
   "outputs": [
    {
     "data": {
      "text/plain": [
       "GridSearchCV(cv=5, error_score=nan,\n",
       "             estimator=DecisionTreeRegressor(ccp_alpha=0.0, criterion='mse',\n",
       "                                             max_depth=None, max_features=None,\n",
       "                                             max_leaf_nodes=None,\n",
       "                                             min_impurity_decrease=0.0,\n",
       "                                             min_impurity_split=None,\n",
       "                                             min_samples_leaf=1,\n",
       "                                             min_samples_split=2,\n",
       "                                             min_weight_fraction_leaf=0.0,\n",
       "                                             presort='deprecated',\n",
       "                                             random_state=None,\n",
       "                                             splitter='best'),\n",
       "             iid='deprecated', n_jobs=-1,\n",
       "             param_grid={'max_depth': [8],\n",
       "                         'max_features': ['auto', 'sqrt', 5, 10, 15, 20, 25, 30,\n",
       "                                          35, 40],\n",
       "                         'min_impurity_decrease': [0], 'min_samples_leaf': [2],\n",
       "                         'min_samples_split': [5], 'random_state': [42]},\n",
       "             pre_dispatch='2*n_jobs', refit=True, return_train_score=False,\n",
       "             scoring=None, verbose=0)"
      ]
     },
     "execution_count": 102,
     "metadata": {},
     "output_type": "execute_result"
    },
    {
     "data": {
      "text/plain": [
       "{'max_depth': 8,\n",
       " 'max_features': 35,\n",
       " 'min_impurity_decrease': 0,\n",
       " 'min_samples_leaf': 2,\n",
       " 'min_samples_split': 5,\n",
       " 'random_state': 42}"
      ]
     },
     "execution_count": 102,
     "metadata": {},
     "output_type": "execute_result"
    }
   ],
   "source": [
    "params = {'max_depth': [8],\n",
    "          'max_features': ['auto', 'sqrt', 5,10,15,20,25,30,35,40],\n",
    "          'min_samples_leaf': [2],\n",
    "          'min_samples_split': [5],\n",
    "          'min_impurity_decrease': [0],\n",
    "          'random_state': [42]\n",
    "         }\n",
    "\n",
    "t = DecisionTreeRegressor()\n",
    "\n",
    "model = GridSearchCV(t, params, cv=5, n_jobs = -1)\n",
    "model.fit(x_train,y_train)\n",
    "model.best_params_"
   ]
  },
  {
   "cell_type": "markdown",
   "metadata": {},
   "source": [
    "\n",
    "## Avaluació"
   ]
  },
  {
   "cell_type": "markdown",
   "metadata": {},
   "source": [
    "Model estàndard"
   ]
  },
  {
   "cell_type": "code",
   "execution_count": 37,
   "metadata": {
    "ExecuteTime": {
     "end_time": "2020-01-03T16:27:46.431945Z",
     "start_time": "2020-01-03T16:27:45.957198Z"
    },
    "scrolled": true
   },
   "outputs": [
    {
     "data": {
      "text/plain": [
       "DecisionTreeRegressor(ccp_alpha=0.0, criterion='mse', max_depth=None,\n",
       "                      max_features=None, max_leaf_nodes=None,\n",
       "                      min_impurity_decrease=0.0, min_impurity_split=None,\n",
       "                      min_samples_leaf=1, min_samples_split=2,\n",
       "                      min_weight_fraction_leaf=0.0, presort='deprecated',\n",
       "                      random_state=42, splitter='best')"
      ]
     },
     "execution_count": 37,
     "metadata": {},
     "output_type": "execute_result"
    }
   ],
   "source": [
    "tree = DecisionTreeRegressor(\n",
    " random_state = 42)\n",
    "## valors per defecte"
   ]
  },
  {
   "cell_type": "code",
   "execution_count": 38,
   "metadata": {
    "ExecuteTime": {
     "end_time": "2020-01-03T22:34:23.734952Z",
     "start_time": "2020-01-03T22:34:18.807740Z"
    },
    "scrolled": true
   },
   "outputs": [
    {
     "name": "stdout",
     "output_type": "stream",
     "text": [
      "       Train     Test\n",
      "R2    1.0000   0.9411\n",
      "MSE   0.0001  19.9748\n",
      "RMSE  0.0100   4.4693\n",
      "MAE   0.0001   1.1295\n"
     ]
    },
    {
     "data": {
      "text/plain": [
       "[None]"
      ]
     },
     "execution_count": 38,
     "metadata": {},
     "output_type": "execute_result"
    }
   ],
   "source": [
    "model_scores(tree, x_train, y_train, x_test, y_test)"
   ]
  },
  {
   "cell_type": "markdown",
   "metadata": {},
   "source": [
    "Model amb paràmetres optimitzats"
   ]
  },
  {
   "cell_type": "code",
   "execution_count": 273,
   "metadata": {
    "ExecuteTime": {
     "end_time": "2020-01-04T11:36:41.063718Z",
     "start_time": "2020-01-04T11:36:41.056726Z"
    },
    "scrolled": true
   },
   "outputs": [],
   "source": [
    "tree = DecisionTreeRegressor(ccp_alpha = 0.02,\n",
    " max_depth = 8,\n",
    " max_features = 36,\n",
    " min_samples_leaf = 2,\n",
    " min_samples_split = 2,\n",
    " min_impurity_decrease = 0,\n",
    " random_state = 42)\n"
   ]
  },
  {
   "cell_type": "code",
   "execution_count": 274,
   "metadata": {
    "ExecuteTime": {
     "end_time": "2020-01-04T11:36:42.225890Z",
     "start_time": "2020-01-04T11:36:41.794138Z"
    },
    "scrolled": true
   },
   "outputs": [
    {
     "name": "stdout",
     "output_type": "stream",
     "text": [
      "       Train     Test\n",
      "R2    0.9729   0.9439\n",
      "MSE   8.7759  19.1096\n",
      "RMSE  2.9624   4.3715\n",
      "MAE   1.1784   1.3071\n"
     ]
    },
    {
     "data": {
      "text/plain": [
       "[None]"
      ]
     },
     "execution_count": 274,
     "metadata": {},
     "output_type": "execute_result"
    }
   ],
   "source": [
    "model_scores(tree, x_train, y_train, x_test, y_test)"
   ]
  },
  {
   "cell_type": "code",
   "execution_count": 275,
   "metadata": {
    "ExecuteTime": {
     "end_time": "2020-01-04T11:37:00.505550Z",
     "start_time": "2020-01-04T11:36:59.807950Z"
    }
   },
   "outputs": [
    {
     "data": {
      "image/png": "[encoded data removed]",
      "text/plain": [
       "<Figure size 432x288 with 1 Axes>"
      ]
     },
     "metadata": {},
     "output_type": "display_data"
    }
   ],
   "source": [
    "plot_feat_imp(tree, x_train.shape[1], features_df.columns.tolist())"
   ]
  },
  {
   "cell_type": "code",
   "execution_count": 41,
   "metadata": {
    "ExecuteTime": {
     "end_time": "2020-01-03T16:29:12.583403Z",
     "start_time": "2020-01-03T16:29:12.348536Z"
    },
    "scrolled": true
   },
   "outputs": [
    {
     "data": {
      "text/plain": [
       "DecisionTreeRegressor(ccp_alpha=0.02, criterion='mse', max_depth=12,\n",
       "                      max_features=34, max_leaf_nodes=None,\n",
       "                      min_impurity_decrease=0.0, min_impurity_split=None,\n",
       "                      min_samples_leaf=2, min_samples_split=2,\n",
       "                      min_weight_fraction_leaf=0.0, presort='deprecated',\n",
       "                      random_state=42, splitter='random')"
      ]
     },
     "execution_count": 41,
     "metadata": {},
     "output_type": "execute_result"
    }
   ],
   "source": [
    "tree = DecisionTreeRegressor(ccp_alpha = 0.02,\n",
    " max_depth = 12,\n",
    " max_features = 34,\n",
    " min_samples_leaf = 2,\n",
    " min_samples_split = 2,\n",
    " splitter = \"random\",\n",
    " random_state = 42)\n",
    "## augmentant 0.01 ccp_alpha reduim 0.04 aprox overfitting i 0.03 la precisió test"
   ]
  },
  {
   "cell_type": "code",
   "execution_count": 42,
   "metadata": {
    "ExecuteTime": {
     "end_time": "2020-01-03T22:34:23.734952Z",
     "start_time": "2020-01-03T22:34:18.807740Z"
    },
    "scrolled": true
   },
   "outputs": [
    {
     "name": "stdout",
     "output_type": "stream",
     "text": [
      "       Train     Test\n",
      "R2    0.9725   0.9623\n",
      "MSE   8.9310  12.8927\n",
      "RMSE  2.9885   3.5906\n",
      "MAE   1.1422   1.2513\n"
     ]
    },
    {
     "data": {
      "text/plain": [
       "[None]"
      ]
     },
     "execution_count": 42,
     "metadata": {},
     "output_type": "execute_result"
    }
   ],
   "source": [
    "model_scores(tree, x_train, y_train, x_test, y_test)"
   ]
  },
  {
   "cell_type": "markdown",
   "metadata": {},
   "source": [
    "# Random forest"
   ]
  },
  {
   "cell_type": "markdown",
   "metadata": {},
   "source": [
    "## Hyperparameter tuning"
   ]
  },
  {
   "cell_type": "markdown",
   "metadata": {},
   "source": [
    "Optimització de *max_depth*"
   ]
  },
  {
   "cell_type": "code",
   "execution_count": 14,
   "metadata": {
    "ExecuteTime": {
     "end_time": "2020-01-04T16:08:27.854793Z",
     "start_time": "2020-01-04T16:07:55.628684Z"
    }
   },
   "outputs": [
    {
     "data": {
      "text/plain": [
       "GridSearchCV(cv=5, error_score=nan,\n",
       "             estimator=RandomForestRegressor(bootstrap=True, ccp_alpha=0.0,\n",
       "                                             criterion='mse', max_depth=None,\n",
       "                                             max_features='auto',\n",
       "                                             max_leaf_nodes=None,\n",
       "                                             max_samples=None,\n",
       "                                             min_impurity_decrease=0.0,\n",
       "                                             min_impurity_split=None,\n",
       "                                             min_samples_leaf=1,\n",
       "                                             min_samples_split=2,\n",
       "                                             min_weight_fraction_leaf=0.0,\n",
       "                                             n_estimators=100, n_jobs=None,\n",
       "                                             oob_score=False, random_state=None,\n",
       "                                             verbose=0, warm_start=False),\n",
       "             iid='deprecated', n_jobs=-1,\n",
       "             param_grid={'max_depth': [7, 8, 9, 10, 11, 12],\n",
       "                         'n_estimators': [16], 'random_state': [42]},\n",
       "             pre_dispatch='2*n_jobs', refit=True, return_train_score=False,\n",
       "             scoring=None, verbose=0)"
      ]
     },
     "execution_count": 14,
     "metadata": {},
     "output_type": "execute_result"
    },
    {
     "data": {
      "text/plain": [
       "{'max_depth': 12, 'n_estimators': 16, 'random_state': 42}"
      ]
     },
     "execution_count": 14,
     "metadata": {},
     "output_type": "execute_result"
    }
   ],
   "source": [
    "params = {'max_depth': [7,8,9,10,11,12],\n",
    "          'random_state': [42],\n",
    "          'n_estimators': [16]\n",
    "         }\n",
    "\n",
    "rf = RandomForestRegressor()\n",
    "\n",
    "model = GridSearchCV(rf, params, cv=5, n_jobs = -1)\n",
    "model.fit(x_train,y_train)\n",
    "model.best_params_\n"
   ]
  },
  {
   "cell_type": "markdown",
   "metadata": {},
   "source": [
    "Optimització de *min_samples_split* i *min_samples_leaf*"
   ]
  },
  {
   "cell_type": "code",
   "execution_count": 15,
   "metadata": {
    "ExecuteTime": {
     "end_time": "2020-01-04T16:11:39.380489Z",
     "start_time": "2020-01-04T16:09:13.271052Z"
    }
   },
   "outputs": [
    {
     "data": {
      "text/plain": [
       "GridSearchCV(cv=5, error_score=nan,\n",
       "             estimator=RandomForestRegressor(bootstrap=True, ccp_alpha=0.0,\n",
       "                                             criterion='mse', max_depth=None,\n",
       "                                             max_features='auto',\n",
       "                                             max_leaf_nodes=None,\n",
       "                                             max_samples=None,\n",
       "                                             min_impurity_decrease=0.0,\n",
       "                                             min_impurity_split=None,\n",
       "                                             min_samples_leaf=1,\n",
       "                                             min_samples_split=2,\n",
       "                                             min_weight_fraction_leaf=0.0,\n",
       "                                             n_estimators=100, n_jobs=None,\n",
       "                                             oob_score=False, random_state=None,\n",
       "                                             verbose=0, warm_start=False),\n",
       "             iid='deprecated', n_jobs=-1,\n",
       "             param_grid={'max_depth': [12], 'max_features': ['auto'],\n",
       "                         'min_samples_leaf': [1, 2, 3, 4, 5],\n",
       "                         'min_samples_split': [2, 3, 4, 5, 6, 7],\n",
       "                         'n_estimators': [16], 'random_state': [42]},\n",
       "             pre_dispatch='2*n_jobs', refit=True, return_train_score=False,\n",
       "             scoring=None, verbose=0)"
      ]
     },
     "execution_count": 15,
     "metadata": {},
     "output_type": "execute_result"
    },
    {
     "data": {
      "text/plain": [
       "{'max_depth': 12,\n",
       " 'max_features': 'auto',\n",
       " 'min_samples_leaf': 1,\n",
       " 'min_samples_split': 2,\n",
       " 'n_estimators': 16,\n",
       " 'random_state': 42}"
      ]
     },
     "execution_count": 15,
     "metadata": {},
     "output_type": "execute_result"
    }
   ],
   "source": [
    "params = {'max_depth': [12],\n",
    "          'max_features': ['auto'],\n",
    "          'min_samples_leaf': [1,2,3,4,5],\n",
    "          'min_samples_split': [2,3,4,5,6,7],\n",
    "          'random_state': [42],\n",
    "          'n_estimators': [16]\n",
    "         }\n",
    "\n",
    "rf = RandomForestRegressor()\n",
    "\n",
    "model = GridSearchCV(rf, params, cv=5, n_jobs = -1)\n",
    "model.fit(x_train,y_train)\n",
    "model.best_params_\n"
   ]
  },
  {
   "cell_type": "markdown",
   "metadata": {},
   "source": [
    "*Optimització de max_features*"
   ]
  },
  {
   "cell_type": "code",
   "execution_count": 16,
   "metadata": {
    "ExecuteTime": {
     "end_time": "2020-01-04T16:12:30.750125Z",
     "start_time": "2020-01-04T16:11:58.729068Z"
    }
   },
   "outputs": [
    {
     "data": {
      "text/plain": [
       "GridSearchCV(cv=5, error_score=nan,\n",
       "             estimator=RandomForestRegressor(bootstrap=True, ccp_alpha=0.0,\n",
       "                                             criterion='mse', max_depth=None,\n",
       "                                             max_features='auto',\n",
       "                                             max_leaf_nodes=None,\n",
       "                                             max_samples=None,\n",
       "                                             min_impurity_decrease=0.0,\n",
       "                                             min_impurity_split=None,\n",
       "                                             min_samples_leaf=1,\n",
       "                                             min_samples_split=2,\n",
       "                                             min_weight_fraction_leaf=0.0,\n",
       "                                             n_estimators=100, n_jobs=None,\n",
       "                                             oob_score=False, random_state=None,\n",
       "                                             verbose=0, warm_start=False),\n",
       "             iid='deprecated', n_jobs=-1,\n",
       "             param_grid={'max_depth': [12],\n",
       "                         'max_features': ['auto', 'sqrt', 5, 10, 15, 20, 25, 30,\n",
       "                                          35, 40],\n",
       "                         'min_samples_leaf': [1], 'min_samples_split': [2],\n",
       "                         'n_estimators': [16], 'random_state': [42]},\n",
       "             pre_dispatch='2*n_jobs', refit=True, return_train_score=False,\n",
       "             scoring=None, verbose=0)"
      ]
     },
     "execution_count": 16,
     "metadata": {},
     "output_type": "execute_result"
    },
    {
     "data": {
      "text/plain": [
       "{'max_depth': 12,\n",
       " 'max_features': 15,\n",
       " 'min_samples_leaf': 1,\n",
       " 'min_samples_split': 2,\n",
       " 'n_estimators': 16,\n",
       " 'random_state': 42}"
      ]
     },
     "execution_count": 16,
     "metadata": {},
     "output_type": "execute_result"
    }
   ],
   "source": [
    "params = {'max_depth': [12],\n",
    "          'max_features': ['auto', 'sqrt', 5,10,15,20,25,30,35,40],\n",
    "          'min_samples_leaf': [1],\n",
    "          'min_samples_split': [2],\n",
    "          'random_state': [42],\n",
    "          'n_estimators': [16]\n",
    "         }\n",
    "\n",
    "rf = RandomForestRegressor()\n",
    "\n",
    "model = GridSearchCV(rf, params, cv=5, n_jobs = -1)\n",
    "model.fit(x_train,y_train)\n",
    "model.best_params_\n",
    "\n"
   ]
  },
  {
   "cell_type": "markdown",
   "metadata": {},
   "source": [
    "Optimització de *n_estimators*"
   ]
  },
  {
   "cell_type": "code",
   "execution_count": 11,
   "metadata": {
    "ExecuteTime": {
     "end_time": "2020-01-04T16:01:44.155849Z",
     "start_time": "2020-01-04T16:01:27.448833Z"
    }
   },
   "outputs": [
    {
     "data": {
      "text/plain": [
       "GridSearchCV(cv=5, error_score=nan,\n",
       "             estimator=RandomForestRegressor(bootstrap=True, ccp_alpha=0.0,\n",
       "                                             criterion='mse', max_depth=None,\n",
       "                                             max_features='auto',\n",
       "                                             max_leaf_nodes=None,\n",
       "                                             max_samples=None,\n",
       "                                             min_impurity_decrease=0.0,\n",
       "                                             min_impurity_split=None,\n",
       "                                             min_samples_leaf=1,\n",
       "                                             min_samples_split=2,\n",
       "                                             min_weight_fraction_leaf=0.0,\n",
       "                                             n_estimators=100, n_jobs=None,\n",
       "                                             oob_score=False, random_state=None,\n",
       "                                             verbose=0, warm_start=False),\n",
       "             iid='deprecated', n_jobs=-1,\n",
       "             param_grid={'max_depth': [12], 'max_features': [15],\n",
       "                         'min_samples_leaf': [1], 'min_samples_split': [2],\n",
       "                         'n_estimators': [1, 2, 5, 10, 16, 24, 32],\n",
       "                         'random_state': [42]},\n",
       "             pre_dispatch='2*n_jobs', refit=True, return_train_score=False,\n",
       "             scoring=None, verbose=0)"
      ]
     },
     "execution_count": 11,
     "metadata": {},
     "output_type": "execute_result"
    },
    {
     "data": {
      "text/plain": [
       "{'max_depth': 12,\n",
       " 'max_features': 15,\n",
       " 'min_samples_leaf': 1,\n",
       " 'min_samples_split': 2,\n",
       " 'n_estimators': 16,\n",
       " 'random_state': 42}"
      ]
     },
     "execution_count": 11,
     "metadata": {},
     "output_type": "execute_result"
    }
   ],
   "source": [
    "params = {'n_estimators': [1,2,5,10,16,24,32],\n",
    "          'max_depth': [12],\n",
    "          'max_features': [15],\n",
    "          'min_samples_leaf': [1],\n",
    "          'min_samples_split': [2],\n",
    "          'random_state': [42]\n",
    "         }\n",
    "\n",
    "rf = RandomForestRegressor()\n",
    "\n",
    "model = GridSearchCV(rf, params, cv=5, n_jobs = -1)\n",
    "model.fit(x_train,y_train)\n",
    "model.best_params_"
   ]
  },
  {
   "cell_type": "markdown",
   "metadata": {},
   "source": [
    "## Avaluació"
   ]
  },
  {
   "cell_type": "markdown",
   "metadata": {},
   "source": [
    "Model estàndard"
   ]
  },
  {
   "cell_type": "code",
   "execution_count": 43,
   "metadata": {
    "ExecuteTime": {
     "end_time": "2020-01-03T16:30:42.507401Z",
     "start_time": "2020-01-03T16:30:17.481921Z"
    },
    "scrolled": false
   },
   "outputs": [
    {
     "data": {
      "text/plain": [
       "RandomForestRegressor(bootstrap=True, ccp_alpha=0.0, criterion='mse',\n",
       "                      max_depth=None, max_features='auto', max_leaf_nodes=None,\n",
       "                      max_samples=None, min_impurity_decrease=0.0,\n",
       "                      min_impurity_split=None, min_samples_leaf=1,\n",
       "                      min_samples_split=2, min_weight_fraction_leaf=0.0,\n",
       "                      n_estimators=100, n_jobs=None, oob_score=False,\n",
       "                      random_state=42, verbose=0, warm_start=False)"
      ]
     },
     "execution_count": 43,
     "metadata": {},
     "output_type": "execute_result"
    }
   ],
   "source": [
    "rf = RandomForestRegressor(\n",
    " random_state = 42)\n"
   ]
  },
  {
   "cell_type": "code",
   "execution_count": 44,
   "metadata": {
    "ExecuteTime": {
     "end_time": "2020-01-03T22:34:23.734952Z",
     "start_time": "2020-01-03T22:34:18.807740Z"
    },
    "scrolled": true
   },
   "outputs": [
    {
     "name": "stdout",
     "output_type": "stream",
     "text": [
      "       Train     Test\n",
      "R2    0.9955   0.9607\n",
      "MSE   1.4805  13.3702\n",
      "RMSE  1.2168   3.6565\n",
      "MAE   0.2836   0.9197\n"
     ]
    },
    {
     "data": {
      "text/plain": [
       "[None]"
      ]
     },
     "execution_count": 44,
     "metadata": {},
     "output_type": "execute_result"
    }
   ],
   "source": [
    "model_scores(rf, x_train, y_train, x_test, y_test)"
   ]
  },
  {
   "cell_type": "markdown",
   "metadata": {},
   "source": [
    "Model amb paràmetres optimitzats"
   ]
  },
  {
   "cell_type": "code",
   "execution_count": 10,
   "metadata": {
    "ExecuteTime": {
     "end_time": "2020-01-06T11:54:15.214852Z",
     "start_time": "2020-01-06T11:54:15.206862Z"
    },
    "scrolled": true
   },
   "outputs": [],
   "source": [
    "rf = RandomForestRegressor(ccp_alpha = 0.0,\n",
    " max_depth = 12,\n",
    " max_features = 15,\n",
    " min_samples_leaf = 1,\n",
    " min_samples_split = 2,\n",
    " min_impurity_decrease = 0.0,\n",
    " n_estimators = 16,\n",
    " random_state = 42,\n",
    " n_jobs = -1)\n"
   ]
  },
  {
   "cell_type": "code",
   "execution_count": 11,
   "metadata": {
    "ExecuteTime": {
     "end_time": "2020-01-06T11:54:17.304708Z",
     "start_time": "2020-01-06T11:54:15.720561Z"
    },
    "scrolled": false
   },
   "outputs": [
    {
     "name": "stdout",
     "output_type": "stream",
     "text": [
      "       Train     Test\n",
      "R2    0.9864   0.9617\n",
      "MSE   4.4499  13.0338\n",
      "RMSE  2.1095   3.6102\n",
      "MAE   0.7834   1.0224\n"
     ]
    },
    {
     "data": {
      "text/plain": [
       "[None]"
      ]
     },
     "execution_count": 11,
     "metadata": {},
     "output_type": "execute_result"
    }
   ],
   "source": [
    "model_scores(rf, x_train, y_train, x_test, y_test)"
   ]
  },
  {
   "cell_type": "code",
   "execution_count": 60,
   "metadata": {
    "ExecuteTime": {
     "end_time": "2020-01-03T22:33:47.497786Z",
     "start_time": "2020-01-03T22:33:46.990178Z"
    }
   },
   "outputs": [
    {
     "data": {
      "image/png": "[encoded data removed]",
      "text/plain": [
       "<Figure size 432x288 with 1 Axes>"
      ]
     },
     "metadata": {},
     "output_type": "display_data"
    }
   ],
   "source": [
    "plot_feat_imp(rf, x_train.shape[1], features_df.columns.tolist())"
   ]
  },
  {
   "cell_type": "markdown",
   "metadata": {},
   "source": [
    "# XGBoost"
   ]
  },
  {
   "cell_type": "markdown",
   "metadata": {},
   "source": [
    "## Hyperparameter tuning"
   ]
  },
  {
   "cell_type": "markdown",
   "metadata": {},
   "source": [
    "Optimització de *max_depth* i *min_child_weight*"
   ]
  },
  {
   "cell_type": "code",
   "execution_count": 30,
   "metadata": {
    "ExecuteTime": {
     "end_time": "2020-01-04T16:19:59.724091Z",
     "start_time": "2020-01-04T16:19:42.888326Z"
    }
   },
   "outputs": [
    {
     "name": "stdout",
     "output_type": "stream",
     "text": [
      "[17:19:58] WARNING: src/objective/regression_obj.cu:152: reg:linear is now deprecated in favor of reg:squarederror.\n"
     ]
    },
    {
     "data": {
      "text/plain": [
       "GridSearchCV(cv=5, error_score=nan,\n",
       "             estimator=XGBRegressor(base_score=0.5, booster='gbtree',\n",
       "                                    colsample_bylevel=1, colsample_bynode=1,\n",
       "                                    colsample_bytree=1, gamma=0,\n",
       "                                    importance_type='gain', learning_rate=0.1,\n",
       "                                    max_delta_step=0, max_depth=3,\n",
       "                                    min_child_weight=1, missing=None,\n",
       "                                    n_estimators=100, n_jobs=1, nthread=None,\n",
       "                                    objective='reg:linear', random_state=0,\n",
       "                                    reg_alpha=0, reg_lambda=1,\n",
       "                                    scale_pos_weight=1, seed=None, silent=None,\n",
       "                                    subsample=1, verbosity=1),\n",
       "             iid='deprecated', n_jobs=-1,\n",
       "             param_grid={'colsample_bytree': [0.5], 'max_depth': [9],\n",
       "                         'min_child_weight': range(1, 11, 2),\n",
       "                         'n_estimators': [20], 'random_state': [42],\n",
       "                         'subsample': [0.5]},\n",
       "             pre_dispatch='2*n_jobs', refit=True, return_train_score=False,\n",
       "             scoring=None, verbose=0)"
      ]
     },
     "execution_count": 30,
     "metadata": {},
     "output_type": "execute_result"
    },
    {
     "data": {
      "text/plain": [
       "{'colsample_bytree': 0.5,\n",
       " 'max_depth': 9,\n",
       " 'min_child_weight': 1,\n",
       " 'n_estimators': 20,\n",
       " 'random_state': 42,\n",
       " 'subsample': 0.5}"
      ]
     },
     "execution_count": 30,
     "metadata": {},
     "output_type": "execute_result"
    }
   ],
   "source": [
    "params = {'max_depth': [9],\n",
    "          'min_child_weight': range(1,11,2),\n",
    "          'colsample_bytree': [0.5],\n",
    "          'subsample': [0.5],\n",
    "          'random_state': [42],\n",
    "          'n_estimators': [20]\n",
    "         }\n",
    "\n",
    "xg = xgb.XGBRegressor()\n",
    "\n",
    "model = GridSearchCV(xg, params, cv=5, n_jobs = -1)\n",
    "model.fit(x_train,y_train)\n",
    "model.best_params_"
   ]
  },
  {
   "cell_type": "markdown",
   "metadata": {},
   "source": [
    "Optimització de *gamma*"
   ]
  },
  {
   "cell_type": "code",
   "execution_count": 65,
   "metadata": {
    "ExecuteTime": {
     "end_time": "2020-01-03T16:53:48.880889Z",
     "start_time": "2020-01-03T16:48:48.864532Z"
    }
   },
   "outputs": [
    {
     "name": "stdout",
     "output_type": "stream",
     "text": [
      "[17:53:06] WARNING: src/objective/regression_obj.cu:152: reg:linear is now deprecated in favor of reg:squarederror.\n"
     ]
    },
    {
     "data": {
      "text/plain": [
       "GridSearchCV(cv=5, error_score=nan,\n",
       "             estimator=XGBRegressor(base_score=0.5, booster='gbtree',\n",
       "                                    colsample_bylevel=1, colsample_bynode=1,\n",
       "                                    colsample_bytree=1, gamma=0,\n",
       "                                    importance_type='gain', learning_rate=0.1,\n",
       "                                    max_delta_step=0, max_depth=3,\n",
       "                                    min_child_weight=1, missing=None,\n",
       "                                    n_estimators=100, n_jobs=1, nthread=None,\n",
       "                                    objective='reg:linear', random_state=0,\n",
       "                                    reg_alpha=0, reg_...\n",
       "                                    scale_pos_weight=1, seed=None, silent=None,\n",
       "                                    subsample=1, verbosity=1),\n",
       "             iid='deprecated', n_jobs=-1,\n",
       "             param_grid={'colsample_bytree': [0.5],\n",
       "                         'gamma': array([0.  , 0.01, 0.02, 0.03, 0.04, 0.05, 0.06, 0.07, 0.08, 0.09]),\n",
       "                         'max_depth': [9], 'min_child_weight': [1],\n",
       "                         'random_state': [42], 'subsample': [0.5]},\n",
       "             pre_dispatch='2*n_jobs', refit=True, return_train_score=False,\n",
       "             scoring=None, verbose=0)"
      ]
     },
     "execution_count": 65,
     "metadata": {},
     "output_type": "execute_result"
    },
    {
     "data": {
      "text/plain": [
       "{'colsample_bytree': 0.5,\n",
       " 'gamma': 0.0,\n",
       " 'max_depth': 9,\n",
       " 'min_child_weight': 1,\n",
       " 'random_state': 42,\n",
       " 'subsample': 0.5}"
      ]
     },
     "execution_count": 65,
     "metadata": {},
     "output_type": "execute_result"
    }
   ],
   "source": [
    "params = {'max_depth': [9],\n",
    "          'min_child_weight': [1],\n",
    "          'colsample_bytree': [0.5],\n",
    "          'subsample': [0.5],\n",
    "          'gamma': np.arange(0,0.1,0.01),\n",
    "          'random_state': [42]\n",
    "         }\n",
    "\n",
    "xg = xgb.XGBRegressor()\n",
    "\n",
    "model = GridSearchCV(xg, params, cv=5, n_jobs = -1)\n",
    "model.fit(x_train,y_train)\n",
    "model.best_params_"
   ]
  },
  {
   "cell_type": "markdown",
   "metadata": {},
   "source": [
    "Optimització de *subsample* i *colsample_bytree*"
   ]
  },
  {
   "cell_type": "code",
   "execution_count": 74,
   "metadata": {
    "ExecuteTime": {
     "end_time": "2020-01-03T17:13:15.301089Z",
     "start_time": "2020-01-03T17:07:03.073808Z"
    }
   },
   "outputs": [
    {
     "name": "stderr",
     "output_type": "stream",
     "text": [
      "C:\\Users\\miquel.vallverdu\\AppData\\Local\\Continuum\\anaconda3\\lib\\site-packages\\xgboost\\core.py:587: FutureWarning: Series.base is deprecated and will be removed in a future version\n",
      "  if getattr(data, 'base', None) is not None and \\\n"
     ]
    },
    {
     "name": "stdout",
     "output_type": "stream",
     "text": [
      "[18:13:06] WARNING: src/objective/regression_obj.cu:152: reg:linear is now deprecated in favor of reg:squarederror.\n"
     ]
    },
    {
     "data": {
      "text/plain": [
       "GridSearchCV(cv=5, error_score=nan,\n",
       "             estimator=XGBRegressor(base_score=0.5, booster='gbtree',\n",
       "                                    colsample_bylevel=1, colsample_bynode=1,\n",
       "                                    colsample_bytree=1, gamma=0,\n",
       "                                    importance_type='gain', learning_rate=0.1,\n",
       "                                    max_delta_step=0, max_depth=3,\n",
       "                                    min_child_weight=1, missing=None,\n",
       "                                    n_estimators=100, n_jobs=1, nthread=None,\n",
       "                                    objective='reg:linear', random_state=0,\n",
       "                                    reg_alpha=0, reg_lambda=1,\n",
       "                                    scale_pos_weight=1, seed=None, silent=None,\n",
       "                                    subsample=1, verbosity=1),\n",
       "             iid='deprecated', n_jobs=-1,\n",
       "             param_grid={'colsample_bytree': [0.3, 0.4, 0.5, 0.6, 0.7],\n",
       "                         'gamma': [0.0], 'max_depth': [9],\n",
       "                         'min_child_weight': [1], 'random_state': [42],\n",
       "                         'subsample': [0.3, 0.4, 0.5, 0.6, 0.7]},\n",
       "             pre_dispatch='2*n_jobs', refit=True, return_train_score=False,\n",
       "             scoring=None, verbose=0)"
      ]
     },
     "execution_count": 74,
     "metadata": {},
     "output_type": "execute_result"
    },
    {
     "data": {
      "text/plain": [
       "{'colsample_bytree': 0.6,\n",
       " 'gamma': 0.0,\n",
       " 'max_depth': 9,\n",
       " 'min_child_weight': 1,\n",
       " 'random_state': 42,\n",
       " 'subsample': 0.4}"
      ]
     },
     "execution_count": 74,
     "metadata": {},
     "output_type": "execute_result"
    }
   ],
   "source": [
    "params = {'max_depth': [9],\n",
    "          'min_child_weight': [1],\n",
    "          'colsample_bytree': [0.3,0.4,0.5,0.6,0.7],\n",
    "          'subsample': [0.3,0.4,0.5,0.6,0.7],\n",
    "          'gamma': [0.0],\n",
    "          'random_state': [42]\n",
    "         }\n",
    "\n",
    "xg = xgb.XGBRegressor()\n",
    "\n",
    "model = GridSearchCV(xg, params, cv=5, n_jobs = -1)\n",
    "model.fit(x_train,y_train)\n",
    "model.best_params_"
   ]
  },
  {
   "cell_type": "markdown",
   "metadata": {},
   "source": [
    "Optimització de *reg_alpha* i *reg_lambda*"
   ]
  },
  {
   "cell_type": "code",
   "execution_count": 78,
   "metadata": {
    "ExecuteTime": {
     "end_time": "2020-01-03T17:27:20.004108Z",
     "start_time": "2020-01-03T17:16:35.882033Z"
    },
    "scrolled": true
   },
   "outputs": [
    {
     "name": "stderr",
     "output_type": "stream",
     "text": [
      "C:\\Users\\miquel.vallverdu\\AppData\\Local\\Continuum\\anaconda3\\lib\\site-packages\\xgboost\\core.py:587: FutureWarning: Series.base is deprecated and will be removed in a future version\n",
      "  if getattr(data, 'base', None) is not None and \\\n"
     ]
    },
    {
     "name": "stdout",
     "output_type": "stream",
     "text": [
      "[18:27:11] WARNING: src/objective/regression_obj.cu:152: reg:linear is now deprecated in favor of reg:squarederror.\n"
     ]
    },
    {
     "data": {
      "text/plain": [
       "GridSearchCV(cv=5, error_score=nan,\n",
       "             estimator=XGBRegressor(base_score=0.5, booster='gbtree',\n",
       "                                    colsample_bylevel=1, colsample_bynode=1,\n",
       "                                    colsample_bytree=1, gamma=0,\n",
       "                                    importance_type='gain', learning_rate=0.1,\n",
       "                                    max_delta_step=0, max_depth=3,\n",
       "                                    min_child_weight=1, missing=None,\n",
       "                                    n_estimators=100, n_jobs=1, nthread=None,\n",
       "                                    objective='reg:linear', random_state=0,\n",
       "                                    reg_alpha=0, reg_...\n",
       "                                    scale_pos_weight=1, seed=None, silent=None,\n",
       "                                    subsample=1, verbosity=1),\n",
       "             iid='deprecated', n_jobs=-1,\n",
       "             param_grid={'colsample_bytree': [0.6], 'gamma': [0],\n",
       "                         'max_depth': [9], 'min_child_weight': [1],\n",
       "                         'random_state': [42],\n",
       "                         'reg_alpha': [0, 0.02, 0.04, 0.06, 0.08, 0.1],\n",
       "                         'reg_lambda': [0, 0.02, 0.04, 0.06, 0.08, 0.1],\n",
       "                         'subsample': [0.4]},\n",
       "             pre_dispatch='2*n_jobs', refit=True, return_train_score=False,\n",
       "             scoring=None, verbose=0)"
      ]
     },
     "execution_count": 78,
     "metadata": {},
     "output_type": "execute_result"
    },
    {
     "data": {
      "text/plain": [
       "{'colsample_bytree': 0.6,\n",
       " 'gamma': 0,\n",
       " 'max_depth': 9,\n",
       " 'min_child_weight': 1,\n",
       " 'random_state': 42,\n",
       " 'reg_alpha': 0,\n",
       " 'reg_lambda': 0.08,\n",
       " 'subsample': 0.4}"
      ]
     },
     "execution_count": 78,
     "metadata": {},
     "output_type": "execute_result"
    }
   ],
   "source": [
    "params = {'max_depth': [9],\n",
    "          'min_child_weight': [1],\n",
    "          'colsample_bytree': [0.6],\n",
    "          'subsample': [0.4],\n",
    "          'gamma': [0],\n",
    "          'reg_alpha': [0, 0.02, 0.04, 0.06, 0.08, 0.1],\n",
    "          'reg_lambda': [0, 0.02, 0.04, 0.06, 0.08, 0.1],\n",
    "          'random_state': [42]\n",
    "         }\n",
    "\n",
    "xg = xgb.XGBRegressor()\n",
    "\n",
    "model = GridSearchCV(xg, params, cv=5, n_jobs = -1)\n",
    "model.fit(x_train,y_train)\n",
    "model.best_params_"
   ]
  },
  {
   "cell_type": "markdown",
   "metadata": {},
   "source": [
    "Optimització *learning_rate* i *n_estimators*"
   ]
  },
  {
   "cell_type": "code",
   "execution_count": 29,
   "metadata": {
    "ExecuteTime": {
     "end_time": "2020-01-04T16:18:46.810022Z",
     "start_time": "2020-01-04T16:16:00.891031Z"
    }
   },
   "outputs": [
    {
     "name": "stderr",
     "output_type": "stream",
     "text": [
      "C:\\Users\\miquel.vallverdu\\AppData\\Local\\Continuum\\anaconda3\\lib\\site-packages\\xgboost\\core.py:587: FutureWarning: Series.base is deprecated and will be removed in a future version\n",
      "  if getattr(data, 'base', None) is not None and \\\n"
     ]
    },
    {
     "name": "stdout",
     "output_type": "stream",
     "text": [
      "[17:18:44] WARNING: src/objective/regression_obj.cu:152: reg:linear is now deprecated in favor of reg:squarederror.\n"
     ]
    },
    {
     "data": {
      "text/plain": [
       "GridSearchCV(cv=5, error_score=nan,\n",
       "             estimator=XGBRegressor(base_score=0.5, booster='gbtree',\n",
       "                                    colsample_bylevel=1, colsample_bynode=1,\n",
       "                                    colsample_bytree=1, gamma=0,\n",
       "                                    importance_type='gain', learning_rate=0.1,\n",
       "                                    max_delta_step=0, max_depth=3,\n",
       "                                    min_child_weight=1, missing=None,\n",
       "                                    n_estimators=100, n_jobs=1, nthread=None,\n",
       "                                    objective='reg:linear', random_state=0,\n",
       "                                    reg_alpha=0, reg_...\n",
       "             iid='deprecated', n_jobs=-1,\n",
       "             param_grid={'colsample_bytree': [0.6], 'gamma': [0],\n",
       "                         'learning_rate': array([0.  , 0.05, 0.1 , 0.15, 0.2 , 0.25, 0.3 ]),\n",
       "                         'max_depth': [9], 'min_child_weight': [1],\n",
       "                         'n_estimators': range(16, 24), 'random_state': [42],\n",
       "                         'reg_alpha': [0], 'reg_lambda': [0.08],\n",
       "                         'subsample': [0.4]},\n",
       "             pre_dispatch='2*n_jobs', refit=True, return_train_score=False,\n",
       "             scoring=None, verbose=0)"
      ]
     },
     "execution_count": 29,
     "metadata": {},
     "output_type": "execute_result"
    },
    {
     "data": {
      "text/plain": [
       "{'colsample_bytree': 0.6,\n",
       " 'gamma': 0,\n",
       " 'learning_rate': 0.2,\n",
       " 'max_depth': 9,\n",
       " 'min_child_weight': 1,\n",
       " 'n_estimators': 23,\n",
       " 'random_state': 42,\n",
       " 'reg_alpha': 0,\n",
       " 'reg_lambda': 0.08,\n",
       " 'subsample': 0.4}"
      ]
     },
     "execution_count": 29,
     "metadata": {},
     "output_type": "execute_result"
    }
   ],
   "source": [
    "params = {'max_depth': [9],\n",
    "          'min_child_weight': [1],\n",
    "          'colsample_bytree': [0.6],\n",
    "          'subsample': [0.4],\n",
    "          'gamma': [0],\n",
    "          'reg_alpha': [0],\n",
    "          'reg_lambda': [0.08],\n",
    "          'learning_rate': np.arange(0.00,0.35,0.05),\n",
    "          'n_estimators': range(16,24),\n",
    "          'random_state': [42]\n",
    "         }\n",
    "\n",
    "xg = xgb.XGBRegressor()\n",
    "\n",
    "model = GridSearchCV(xg, params, cv=5, n_jobs = -1)\n",
    "model.fit(x_train,y_train)\n",
    "model.best_params_"
   ]
  },
  {
   "cell_type": "markdown",
   "metadata": {},
   "source": [
    "## Avaluació"
   ]
  },
  {
   "cell_type": "markdown",
   "metadata": {},
   "source": [
    "Model estàndard"
   ]
  },
  {
   "cell_type": "code",
   "execution_count": 132,
   "metadata": {
    "ExecuteTime": {
     "end_time": "2020-01-03T18:45:20.010906Z",
     "start_time": "2020-01-03T18:45:12.863998Z"
    }
   },
   "outputs": [
    {
     "name": "stderr",
     "output_type": "stream",
     "text": [
      "C:\\Users\\miquel.vallverdu\\AppData\\Local\\Continuum\\anaconda3\\lib\\site-packages\\xgboost\\core.py:587: FutureWarning: Series.base is deprecated and will be removed in a future version\n",
      "  if getattr(data, 'base', None) is not None and \\\n"
     ]
    },
    {
     "name": "stdout",
     "output_type": "stream",
     "text": [
      "[19:45:12] WARNING: src/objective/regression_obj.cu:152: reg:linear is now deprecated in favor of reg:squarederror.\n"
     ]
    },
    {
     "data": {
      "text/plain": [
       "XGBRegressor(base_score=0.5, booster='gbtree', colsample_bylevel=1,\n",
       "             colsample_bynode=1, colsample_bytree=1, gamma=0,\n",
       "             importance_type='gain', learning_rate=0.1, max_delta_step=0,\n",
       "             max_depth=3, min_child_weight=1, missing=None, n_estimators=100,\n",
       "             n_jobs=-1, nthread=None, objective='reg:linear', random_state=42,\n",
       "             reg_alpha=0, reg_lambda=1, scale_pos_weight=1, seed=None,\n",
       "             silent=None, subsample=1, verbosity=1)"
      ]
     },
     "execution_count": 132,
     "metadata": {},
     "output_type": "execute_result"
    }
   ],
   "source": [
    "xg = xgb.XGBRegressor(\n",
    " random_state= 42,\n",
    "    n_jobs=-1\n",
    " )"
   ]
  },
  {
   "cell_type": "code",
   "execution_count": 133,
   "metadata": {
    "ExecuteTime": {
     "end_time": "2020-01-03T19:04:39.592166Z",
     "start_time": "2020-01-03T19:04:26.376546Z"
    },
    "scrolled": false
   },
   "outputs": [
    {
     "name": "stdout",
     "output_type": "stream",
     "text": [
      "[19:45:21] WARNING: src/objective/regression_obj.cu:152: reg:linear is now deprecated in favor of reg:squarederror.\n",
      "        Train     Test\n",
      "R2     0.9611   0.9334\n",
      "MSE   12.6037  22.6524\n",
      "RMSE   3.5502   4.7595\n",
      "MAE    1.1498   1.2772\n"
     ]
    },
    {
     "data": {
      "text/plain": [
       "[None]"
      ]
     },
     "execution_count": 133,
     "metadata": {},
     "output_type": "execute_result"
    }
   ],
   "source": [
    "model_scores(xg, x_train, y_train, x_test, y_test)"
   ]
  },
  {
   "cell_type": "markdown",
   "metadata": {},
   "source": [
    "Model amb paràmetres optimitzats"
   ]
  },
  {
   "cell_type": "code",
   "execution_count": 6,
   "metadata": {
    "ExecuteTime": {
     "end_time": "2020-01-10T11:09:56.728145Z",
     "start_time": "2020-01-10T11:09:56.716560Z"
    },
    "scrolled": true
   },
   "outputs": [],
   "source": [
    "xg = xgb.XGBRegressor(random_state = 42,\n",
    "                      n_jobs = -1,\n",
    "                     max_depth = 9,\n",
    "                     min_child_weight=1,\n",
    "                     subsample = 0.7,\n",
    "                     colsample_bytree=0.8,\n",
    "                     reg_alpha=0.01,\n",
    "                     reg_lambda=0.08,\n",
    "                     learning_rate=0.09,\n",
    "                     n_estimators=80)"
   ]
  },
  {
   "cell_type": "code",
   "execution_count": 7,
   "metadata": {
    "ExecuteTime": {
     "end_time": "2020-01-10T11:10:02.705477Z",
     "start_time": "2020-01-10T11:09:57.822285Z"
    },
    "scrolled": true
   },
   "outputs": [
    {
     "name": "stderr",
     "output_type": "stream",
     "text": [
      "C:\\Users\\miquel.vallverdu\\AppData\\Local\\Continuum\\anaconda3\\lib\\site-packages\\xgboost\\core.py:587: FutureWarning: Series.base is deprecated and will be removed in a future version\n",
      "  if getattr(data, 'base', None) is not None and \\\n"
     ]
    },
    {
     "name": "stdout",
     "output_type": "stream",
     "text": [
      "[12:09:57] WARNING: src/objective/regression_obj.cu:152: reg:linear is now deprecated in favor of reg:squarederror.\n",
      "       Train    Test\n",
      "R2    0.9949  0.9723\n",
      "MSE   1.6880  9.4449\n",
      "RMSE  1.2992  3.0733\n",
      "MAE   0.6166  0.9540\n"
     ]
    },
    {
     "data": {
      "text/plain": [
       "[None]"
      ]
     },
     "execution_count": 7,
     "metadata": {},
     "output_type": "execute_result"
    }
   ],
   "source": [
    "model_scores(xg, x_train, y_train, x_test, y_test)"
   ]
  },
  {
   "cell_type": "code",
   "execution_count": 12,
   "metadata": {
    "ExecuteTime": {
     "end_time": "2020-01-10T11:12:52.130232Z",
     "start_time": "2020-01-10T11:12:51.396965Z"
    }
   },
   "outputs": [
    {
     "data": {
      "text/plain": [
       "<Figure size 864x288 with 0 Axes>"
      ]
     },
     "execution_count": 12,
     "metadata": {},
     "output_type": "execute_result"
    },
    {
     "data": {
      "image/png": "[encoded data removed]",
      "text/plain": [
       "<Figure size 864x288 with 1 Axes>"
      ]
     },
     "metadata": {},
     "output_type": "display_data"
    }
   ],
   "source": [
    "plt.figure(figsize = (12,4))\n",
    "plot_feat_imp(xg, x_train.shape[1], features_df.columns.tolist())"
   ]
  },
  {
   "cell_type": "code",
   "execution_count": 180,
   "metadata": {
    "ExecuteTime": {
     "end_time": "2020-01-03T19:03:24.207186Z",
     "start_time": "2020-01-03T19:02:55.820495Z"
    },
    "scrolled": true
   },
   "outputs": [
    {
     "name": "stdout",
     "output_type": "stream",
     "text": [
      "[20:02:55] WARNING: src/objective/regression_obj.cu:152: reg:linear is now deprecated in favor of reg:squarederror."
     ]
    },
    {
     "name": "stderr",
     "output_type": "stream",
     "text": [
      "C:\\Users\\miquel.vallverdu\\AppData\\Local\\Continuum\\anaconda3\\lib\\site-packages\\xgboost\\core.py:587: FutureWarning: Series.base is deprecated and will be removed in a future version\n",
      "  if getattr(data, 'base', None) is not None and \\\n"
     ]
    },
    {
     "name": "stdout",
     "output_type": "stream",
     "text": [
      "\n",
      "[0]\tvalidation_0-rmse:18.4297\tvalidation_1-rmse:18.9866\n",
      "Multiple eval metrics have been passed: 'validation_1-rmse' will be used for early stopping.\n",
      "\n",
      "Will train until validation_1-rmse hasn't improved in 100 rounds.\n",
      "[1]\tvalidation_0-rmse:16.8325\tvalidation_1-rmse:17.4072\n",
      "[2]\tvalidation_0-rmse:15.3637\tvalidation_1-rmse:15.9732\n",
      "[3]\tvalidation_0-rmse:14.0372\tvalidation_1-rmse:14.6889\n",
      "[4]\tvalidation_0-rmse:12.8232\tvalidation_1-rmse:13.478\n",
      "[5]\tvalidation_0-rmse:11.731\tvalidation_1-rmse:12.3777\n",
      "[6]\tvalidation_0-rmse:10.7297\tvalidation_1-rmse:11.4196\n",
      "[7]\tvalidation_0-rmse:9.84589\tvalidation_1-rmse:10.5856\n",
      "[8]\tvalidation_0-rmse:9.04646\tvalidation_1-rmse:9.80421\n",
      "[9]\tvalidation_0-rmse:8.32398\tvalidation_1-rmse:9.11346\n",
      "[10]\tvalidation_0-rmse:7.6249\tvalidation_1-rmse:8.44229\n",
      "[11]\tvalidation_0-rmse:7.00432\tvalidation_1-rmse:7.8428\n",
      "[12]\tvalidation_0-rmse:6.4402\tvalidation_1-rmse:7.3316\n",
      "[13]\tvalidation_0-rmse:5.95489\tvalidation_1-rmse:6.89516\n",
      "[14]\tvalidation_0-rmse:5.5041\tvalidation_1-rmse:6.46054\n",
      "[15]\tvalidation_0-rmse:5.09339\tvalidation_1-rmse:6.1135\n",
      "[16]\tvalidation_0-rmse:4.71196\tvalidation_1-rmse:5.76761\n",
      "[17]\tvalidation_0-rmse:4.37303\tvalidation_1-rmse:5.4469\n",
      "[18]\tvalidation_0-rmse:4.06718\tvalidation_1-rmse:5.18955\n",
      "[19]\tvalidation_0-rmse:3.79636\tvalidation_1-rmse:4.96183\n",
      "[20]\tvalidation_0-rmse:3.55744\tvalidation_1-rmse:4.77448\n",
      "[21]\tvalidation_0-rmse:3.34651\tvalidation_1-rmse:4.59438\n",
      "[22]\tvalidation_0-rmse:3.14459\tvalidation_1-rmse:4.41864\n",
      "[23]\tvalidation_0-rmse:2.98141\tvalidation_1-rmse:4.29399\n",
      "[24]\tvalidation_0-rmse:2.82162\tvalidation_1-rmse:4.16206\n",
      "[25]\tvalidation_0-rmse:2.68516\tvalidation_1-rmse:4.04069\n",
      "[26]\tvalidation_0-rmse:2.5578\tvalidation_1-rmse:3.93501\n",
      "[27]\tvalidation_0-rmse:2.44309\tvalidation_1-rmse:3.86329\n",
      "[28]\tvalidation_0-rmse:2.34024\tvalidation_1-rmse:3.78319\n",
      "[29]\tvalidation_0-rmse:2.24914\tvalidation_1-rmse:3.71505\n",
      "[30]\tvalidation_0-rmse:2.17396\tvalidation_1-rmse:3.65152\n",
      "[31]\tvalidation_0-rmse:2.10569\tvalidation_1-rmse:3.5985\n",
      "[32]\tvalidation_0-rmse:2.03586\tvalidation_1-rmse:3.55538\n",
      "[33]\tvalidation_0-rmse:1.9875\tvalidation_1-rmse:3.52541\n",
      "[34]\tvalidation_0-rmse:1.93395\tvalidation_1-rmse:3.48813\n",
      "[35]\tvalidation_0-rmse:1.88522\tvalidation_1-rmse:3.4598\n",
      "[36]\tvalidation_0-rmse:1.84335\tvalidation_1-rmse:3.43325\n",
      "[37]\tvalidation_0-rmse:1.80682\tvalidation_1-rmse:3.40642\n",
      "[38]\tvalidation_0-rmse:1.77708\tvalidation_1-rmse:3.38732\n",
      "[39]\tvalidation_0-rmse:1.74351\tvalidation_1-rmse:3.35709\n",
      "[40]\tvalidation_0-rmse:1.71808\tvalidation_1-rmse:3.33777\n",
      "[41]\tvalidation_0-rmse:1.69821\tvalidation_1-rmse:3.32525\n",
      "[42]\tvalidation_0-rmse:1.67643\tvalidation_1-rmse:3.3099\n",
      "[43]\tvalidation_0-rmse:1.65229\tvalidation_1-rmse:3.296\n",
      "[44]\tvalidation_0-rmse:1.62812\tvalidation_1-rmse:3.27152\n",
      "[45]\tvalidation_0-rmse:1.60779\tvalidation_1-rmse:3.25879\n",
      "[46]\tvalidation_0-rmse:1.58733\tvalidation_1-rmse:3.24892\n",
      "[47]\tvalidation_0-rmse:1.56839\tvalidation_1-rmse:3.2237\n",
      "[48]\tvalidation_0-rmse:1.5529\tvalidation_1-rmse:3.21051\n",
      "[49]\tvalidation_0-rmse:1.53857\tvalidation_1-rmse:3.19696\n",
      "[50]\tvalidation_0-rmse:1.52539\tvalidation_1-rmse:3.18488\n",
      "[51]\tvalidation_0-rmse:1.51121\tvalidation_1-rmse:3.17843\n",
      "[52]\tvalidation_0-rmse:1.49711\tvalidation_1-rmse:3.17296\n",
      "[53]\tvalidation_0-rmse:1.48998\tvalidation_1-rmse:3.17029\n",
      "[54]\tvalidation_0-rmse:1.48091\tvalidation_1-rmse:3.16591\n",
      "[55]\tvalidation_0-rmse:1.47089\tvalidation_1-rmse:3.15984\n",
      "[56]\tvalidation_0-rmse:1.45905\tvalidation_1-rmse:3.15687\n",
      "[57]\tvalidation_0-rmse:1.45023\tvalidation_1-rmse:3.15338\n",
      "[58]\tvalidation_0-rmse:1.43972\tvalidation_1-rmse:3.14908\n",
      "[59]\tvalidation_0-rmse:1.43021\tvalidation_1-rmse:3.14252\n",
      "[60]\tvalidation_0-rmse:1.41755\tvalidation_1-rmse:3.13989\n",
      "[61]\tvalidation_0-rmse:1.40804\tvalidation_1-rmse:3.12786\n",
      "[62]\tvalidation_0-rmse:1.39526\tvalidation_1-rmse:3.11737\n",
      "[63]\tvalidation_0-rmse:1.38825\tvalidation_1-rmse:3.11488\n",
      "[64]\tvalidation_0-rmse:1.37915\tvalidation_1-rmse:3.11125\n",
      "[65]\tvalidation_0-rmse:1.37479\tvalidation_1-rmse:3.10352\n",
      "[66]\tvalidation_0-rmse:1.36265\tvalidation_1-rmse:3.10014\n",
      "[67]\tvalidation_0-rmse:1.35553\tvalidation_1-rmse:3.09787\n",
      "[68]\tvalidation_0-rmse:1.3513\tvalidation_1-rmse:3.09629\n",
      "[69]\tvalidation_0-rmse:1.3435\tvalidation_1-rmse:3.09387\n",
      "[70]\tvalidation_0-rmse:1.34081\tvalidation_1-rmse:3.09285\n",
      "[71]\tvalidation_0-rmse:1.33613\tvalidation_1-rmse:3.09033\n",
      "[72]\tvalidation_0-rmse:1.32496\tvalidation_1-rmse:3.08658\n",
      "[73]\tvalidation_0-rmse:1.31914\tvalidation_1-rmse:3.08088\n",
      "[74]\tvalidation_0-rmse:1.31178\tvalidation_1-rmse:3.07977\n",
      "[75]\tvalidation_0-rmse:1.30916\tvalidation_1-rmse:3.08008\n",
      "[76]\tvalidation_0-rmse:1.2998\tvalidation_1-rmse:3.07778\n",
      "[77]\tvalidation_0-rmse:1.29383\tvalidation_1-rmse:3.07558\n",
      "[78]\tvalidation_0-rmse:1.28495\tvalidation_1-rmse:3.07039\n",
      "[79]\tvalidation_0-rmse:1.27815\tvalidation_1-rmse:3.0672\n",
      "[80]\tvalidation_0-rmse:1.27099\tvalidation_1-rmse:3.06315\n",
      "[81]\tvalidation_0-rmse:1.26655\tvalidation_1-rmse:3.06131\n",
      "[82]\tvalidation_0-rmse:1.25827\tvalidation_1-rmse:3.05912\n",
      "[83]\tvalidation_0-rmse:1.25201\tvalidation_1-rmse:3.05546\n",
      "[84]\tvalidation_0-rmse:1.24521\tvalidation_1-rmse:3.05401\n"
     ]
    },
    {
     "data": {
      "image/png": "[encoded data removed]",
      "text/plain": [
       "<Figure size 432x288 with 1 Axes>"
      ]
     },
     "metadata": {},
     "output_type": "display_data"
    }
   ],
   "source": [
    "creating_model_XGB(xg, x_train, y_train, x_test, y_test, \"rmse\", 100)"
   ]
  }
 ],
 "metadata": {
  "kernelspec": {
   "display_name": "Python 3",
   "language": "python",
   "name": "python3"
  },
  "language_info": {
   "codemirror_mode": {
    "name": "ipython",
    "version": 3
   },
   "file_extension": ".py",
   "mimetype": "text/x-python",
   "name": "python",
   "nbconvert_exporter": "python",
   "pygments_lexer": "ipython3",
   "version": "3.7.3"
  },
  "toc": {
   "base_numbering": 1,
   "nav_menu": {},
   "number_sections": true,
   "sideBar": true,
   "skip_h1_title": false,
   "title_cell": "Table of Contents",
   "title_sidebar": "Contents",
   "toc_cell": false,
   "toc_position": {
    "height": "calc(100% - 180px)",
    "left": "10px",
    "top": "150px",
    "width": "311.51px"
   },
   "toc_section_display": true,
   "toc_window_display": true
  },
  "varInspector": {
   "cols": {
    "lenName": 16,
    "lenType": 16,
    "lenVar": 40
   },
   "kernels_config": {
    "python": {
     "delete_cmd_postfix": "",
     "delete_cmd_prefix": "del ",
     "library": "var_list.py",
     "varRefreshCmd": "print(var_dic_list())"
    },
    "r": {
     "delete_cmd_postfix": ") ",
     "delete_cmd_prefix": "rm(",
     "library": "var_list.r",
     "varRefreshCmd": "cat(var_dic_list()) "
    }
   },
   "types_to_exclude": [
    "module",
    "function",
    "builtin_function_or_method",
    "instance",
    "_Feature"
   ],
   "window_display": false
  }
 },
 "nbformat": 4,
 "nbformat_minor": 2
}
